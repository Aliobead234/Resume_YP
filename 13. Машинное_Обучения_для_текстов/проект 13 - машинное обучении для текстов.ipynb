{
 "cells": [
  {
   "cell_type": "markdown",
   "metadata": {
    "id": "s07904SZkRi_",
    "toc": true
   },
   "source": [
    "<h1>Содержание<span class=\"tocSkip\"></span></h1>\n",
    "<div class=\"toc\"><ul class=\"toc-item\"><li><span><a href=\"#План-работы\" data-toc-modified-id=\"План-работы-1\"><span class=\"toc-item-num\">1&nbsp;&nbsp;</span>План работы</a></span></li><li><span><a href=\"#Настройка-выполнения\" data-toc-modified-id=\"Настройка-выполнения-2\"><span class=\"toc-item-num\">2&nbsp;&nbsp;</span>Настройка выполнения</a></span></li><li><span><a href=\"#Импортируем-библиотеки\" data-toc-modified-id=\"Импортируем-библиотеки-3\"><span class=\"toc-item-num\">3&nbsp;&nbsp;</span>Импортируем библиотеки</a></span></li><li><span><a href=\"#Загрузка-данных\" data-toc-modified-id=\"Загрузка-данных-4\"><span class=\"toc-item-num\">4&nbsp;&nbsp;</span>Загрузка данных</a></span></li><li><span><a href=\"#Подготовка\" data-toc-modified-id=\"Подготовка-5\"><span class=\"toc-item-num\">5&nbsp;&nbsp;</span>Подготовка</a></span><ul class=\"toc-item\"><li><span><a href=\"#Ознакомимся-с-данными\" data-toc-modified-id=\"Ознакомимся-с-данными-5.1\"><span class=\"toc-item-num\">5.1&nbsp;&nbsp;</span>Ознакомимся с данными</a></span></li><li><span><a href=\"#Частотный-анализ-и-облако-слов\" data-toc-modified-id=\"Частотный-анализ-и-облако-слов-5.2\"><span class=\"toc-item-num\">5.2&nbsp;&nbsp;</span>Частотный анализ и облако слов</a></span><ul class=\"toc-item\"><li><span><a href=\"#Токсичные-тексты\" data-toc-modified-id=\"Токсичные-тексты-5.2.1\"><span class=\"toc-item-num\">5.2.1&nbsp;&nbsp;</span>Токсичные тексты</a></span></li><li><span><a href=\"#Не-токсичные-тексты\" data-toc-modified-id=\"Не-токсичные-тексты-5.2.2\"><span class=\"toc-item-num\">5.2.2&nbsp;&nbsp;</span>Не токсичные тексты</a></span></li></ul></li><li><span><a href=\"#Извлечем-часть-данных\" data-toc-modified-id=\"Извлечем-часть-данных-5.3\"><span class=\"toc-item-num\">5.3&nbsp;&nbsp;</span>Извлечем часть данных</a></span></li></ul></li><li><span><a href=\"#Обучение\" data-toc-modified-id=\"Обучение-6\"><span class=\"toc-item-num\">6&nbsp;&nbsp;</span>Обучение</a></span><ul class=\"toc-item\"><li><span><a href=\"#Создадим-класс-Embeddings\" data-toc-modified-id=\"Создадим-класс-Embeddings-6.1\"><span class=\"toc-item-num\">6.1&nbsp;&nbsp;</span>Создадим класс Embeddings</a></span></li><li><span><a href=\"#Пробно-токенизируем-тексты\" data-toc-modified-id=\"Пробно-токенизируем-тексты-6.2\"><span class=\"toc-item-num\">6.2&nbsp;&nbsp;</span>Пробно токенизируем тексты</a></span></li><li><span><a href=\"#Посмотрим-на-распределение-числа-токенов-в-тексте\" data-toc-modified-id=\"Посмотрим-на-распределение-числа-токенов-в-тексте-6.3\"><span class=\"toc-item-num\">6.3&nbsp;&nbsp;</span>Посмотрим на распределение числа токенов в тексте</a></span></li><li><span><a href=\"#Создадим-Эмбеддинги\" data-toc-modified-id=\"Создадим-Эмбеддинги-6.4\"><span class=\"toc-item-num\">6.4&nbsp;&nbsp;</span>Создадим Эмбеддинги</a></span></li><li><span><a href=\"#Создадим-класс-для-обучения-моделей\" data-toc-modified-id=\"Создадим-класс-для-обучения-моделей-6.5\"><span class=\"toc-item-num\">6.5&nbsp;&nbsp;</span>Создадим класс для обучения моделей</a></span></li><li><span><a href=\"#Снизим-размерность-признаков\" data-toc-modified-id=\"Снизим-размерность-признаков-6.6\"><span class=\"toc-item-num\">6.6&nbsp;&nbsp;</span>Снизим размерность признаков</a></span></li><li><span><a href=\"#Создаем-объект-класса-обучения-моделей\" data-toc-modified-id=\"Создаем-объект-класса-обучения-моделей-6.7\"><span class=\"toc-item-num\">6.7&nbsp;&nbsp;</span>Создаем объект класса обучения моделей</a></span></li><li><span><a href=\"#LogisticRegression\" data-toc-modified-id=\"LogisticRegression-6.8\"><span class=\"toc-item-num\">6.8&nbsp;&nbsp;</span>LogisticRegression</a></span></li><li><span><a href=\"#LinearSVC\" data-toc-modified-id=\"LinearSVC-6.9\"><span class=\"toc-item-num\">6.9&nbsp;&nbsp;</span>LinearSVC</a></span></li><li><span><a href=\"#LGBMClassifier\" data-toc-modified-id=\"LGBMClassifier-6.10\"><span class=\"toc-item-num\">6.10&nbsp;&nbsp;</span>LGBMClassifier</a></span></li><li><span><a href=\"#RandomForestClassifier\" data-toc-modified-id=\"RandomForestClassifier-6.11\"><span class=\"toc-item-num\">6.11&nbsp;&nbsp;</span>RandomForestClassifier</a></span></li><li><span><a href=\"#DummyClassifier\" data-toc-modified-id=\"DummyClassifier-6.12\"><span class=\"toc-item-num\">6.12&nbsp;&nbsp;</span>DummyClassifier</a></span></li><li><span><a href=\"#Сравнение-моделей\" data-toc-modified-id=\"Сравнение-моделей-6.13\"><span class=\"toc-item-num\">6.13&nbsp;&nbsp;</span>Сравнение моделей</a></span></li><li><span><a href=\"#Порог-отнесения-к-токсичным-комментариям.\" data-toc-modified-id=\"Порог-отнесения-к-токсичным-комментариям.-6.14\"><span class=\"toc-item-num\">6.14&nbsp;&nbsp;</span>Порог отнесения к токсичным комментариям.</a></span></li></ul></li><li><span><a href=\"#Тестирование\" data-toc-modified-id=\"Тестирование-7\"><span class=\"toc-item-num\">7&nbsp;&nbsp;</span>Тестирование</a></span><ul class=\"toc-item\"><li><span><a href=\"#Анализ-дополнительных-параметров-и-остатков\" data-toc-modified-id=\"Анализ-дополнительных-параметров-и-остатков-7.1\"><span class=\"toc-item-num\">7.1&nbsp;&nbsp;</span>Анализ дополнительных параметров и остатков</a></span></li><li><span><a href=\"#Установка-порога-для-токсичных-комментариев\" data-toc-modified-id=\"Установка-порога-для-токсичных-комментариев-7.2\"><span class=\"toc-item-num\">7.2&nbsp;&nbsp;</span>Установка порога для токсичных комментариев</a></span></li></ul></li><li><span><a href=\"#Выводы\" data-toc-modified-id=\"Выводы-8\"><span class=\"toc-item-num\">8&nbsp;&nbsp;</span>Выводы</a></span></li><li><span><a href=\"#Чек-лист-проверки\" data-toc-modified-id=\"Чек-лист-проверки-9\"><span class=\"toc-item-num\">9&nbsp;&nbsp;</span>Чек-лист проверки</a></span></li></ul></div>"
   ]
  },
  {
   "cell_type": "markdown",
   "metadata": {
    "id": "wQjRBSXcgjTP"
   },
   "source": [
    "# Проект для «Викишоп»"
   ]
  },
  {
   "cell_type": "markdown",
   "metadata": {
    "id": "PMsqJoEcgjTR"
   },
   "source": [
    "Интернет-магазин «Викишоп» запускает новый сервис. Теперь пользователи могут редактировать и дополнять описания товаров, как в вики-сообществах. То есть клиенты предлагают свои правки и комментируют изменения других. Магазину нужен инструмент, который будет искать токсичные комментарии и отправлять их на модерацию.\n",
    "\n",
    "Обучите модель классифицировать комментарии на позитивные и негативные. В вашем распоряжении набор данных с разметкой о токсичности правок.\n",
    "\n",
    "Постройте модель со значением метрики качества *F1* не меньше 0.75.\n",
    "\n",
    "**Инструкция по выполнению проекта**\n",
    "\n",
    "1. Загрузите и подготовьте данные.\n",
    "2. Обучите разные модели.\n",
    "3. Сделайте выводы.\n",
    "\n",
    "Для выполнения проекта применять *BERT* необязательно, но вы можете попробовать.\n",
    "\n",
    "**Описание данных**\n",
    "\n",
    "Данные находятся в файле `toxic_comments.csv`. Столбец *text* в нём содержит текст комментария, а *toxic* — целевой признак."
   ]
  },
  {
   "cell_type": "markdown",
   "metadata": {
    "id": "ISUQwC00yQeI"
   },
   "source": [
    "## План работы\n",
    "\n",
    "**Загрузим данные**\n",
    "\n",
    "**Подготовим данные**.\n",
    "* Сократим число данных для увеличения скорости обучения\n",
    "* Сделаем предобработку данных\n",
    "\n",
    "**Обучение.**\n",
    "* Создадим эмбеддинги\n",
    "* Сгенерируем признаки на основе эмбеддингов.\n",
    "* Подберем параметры для различных моделей\n",
    "\n",
    "**Проверим данные на тестовой выборке и сделаем выводы**"
   ]
  },
  {
   "cell_type": "markdown",
   "metadata": {
    "id": "hjh_DmUao1q4"
   },
   "source": [
    "## Настройка выполнения"
   ]
  },
  {
   "cell_type": "code",
   "execution_count": null,
   "metadata": {
    "id": "R9wEflNKo9vU"
   },
   "outputs": [],
   "source": [
    "# is_my_calab - True, Если я выполняю в своем колабе с уже загруженным файлом данных в\n",
    "# Google Drive, иначе ставить is_my_calab = False\n",
    "#is_my_calab = True\n",
    "is_my_calab = False\n",
    "\n",
    "# is_make_embeddings - True, если создавать эмбеддинги,\n",
    "# иначе ранее созданные и сохраненные эмбеддинги будут загружены с диска\n",
    "is_make_embeddings = True\n",
    "#is_make_embeddings = False\n",
    "RANDOM_STATE = 12345"
   ]
  },
  {
   "cell_type": "markdown",
   "metadata": {
    "id": "V-7NquDoOLrC"
   },
   "source": [
    "## Импортируем библиотеки"
   ]
  },
  {
   "cell_type": "code",
   "execution_count": null,
   "metadata": {
    "colab": {
     "base_uri": "https://localhost:8080/"
    },
    "id": "4HC_WZ2d8Omm",
    "outputId": "c6fcddd7-7126-4adb-ee28-0955b1f89555"
   },
   "outputs": [
    {
     "name": "stdout",
     "output_type": "stream",
     "text": [
      "\u001b[2K     \u001b[90m━━━━━━━━━━━━━━━━━━━━━━━━━━━━━━━━━━━━━━━━\u001b[0m \u001b[32m7.4/7.4 MB\u001b[0m \u001b[31m15.1 MB/s\u001b[0m eta \u001b[36m0:00:00\u001b[0m\n",
      "\u001b[2K     \u001b[90m━━━━━━━━━━━━━━━━━━━━━━━━━━━━━━━━━━━━━━\u001b[0m \u001b[32m268.8/268.8 kB\u001b[0m \u001b[31m27.0 MB/s\u001b[0m eta \u001b[36m0:00:00\u001b[0m\n",
      "\u001b[2K     \u001b[90m━━━━━━━━━━━━━━━━━━━━━━━━━━━━━━━━━━━━━━━━\u001b[0m \u001b[32m7.8/7.8 MB\u001b[0m \u001b[31m42.6 MB/s\u001b[0m eta \u001b[36m0:00:00\u001b[0m\n",
      "\u001b[2K     \u001b[90m━━━━━━━━━━━━━━━━━━━━━━━━━━━━━━━━━━━━━━━━\u001b[0m \u001b[32m1.3/1.3 MB\u001b[0m \u001b[31m30.1 MB/s\u001b[0m eta \u001b[36m0:00:00\u001b[0m\n",
      "\u001b[2K     \u001b[90m━━━━━━━━━━━━━━━━━━━━━━━━━━━━━━━━━━━━━━━\u001b[0m \u001b[32m390.6/390.6 kB\u001b[0m \u001b[31m5.3 MB/s\u001b[0m eta \u001b[36m0:00:00\u001b[0m\n",
      "\u001b[2K     \u001b[90m━━━━━━━━━━━━━━━━━━━━━━━━━━━━━━━━━━━━━━━\u001b[0m \u001b[32m224.5/224.5 kB\u001b[0m \u001b[31m6.9 MB/s\u001b[0m eta \u001b[36m0:00:00\u001b[0m\n",
      "\u001b[2K     \u001b[90m━━━━━━━━━━━━━━━━━━━━━━━━━━━━━━━━━━━━━━━━\u001b[0m \u001b[32m78.7/78.7 kB\u001b[0m \u001b[31m8.6 MB/s\u001b[0m eta \u001b[36m0:00:00\u001b[0m\n",
      "\u001b[?25hRequirement already satisfied: wordcloud in /usr/local/lib/python3.10/dist-packages (1.8.2.2)\n",
      "Requirement already satisfied: numpy>=1.6.1 in /usr/local/lib/python3.10/dist-packages (from wordcloud) (1.22.4)\n",
      "Requirement already satisfied: pillow in /usr/local/lib/python3.10/dist-packages (from wordcloud) (8.4.0)\n",
      "Requirement already satisfied: matplotlib in /usr/local/lib/python3.10/dist-packages (from wordcloud) (3.7.1)\n",
      "Requirement already satisfied: contourpy>=1.0.1 in /usr/local/lib/python3.10/dist-packages (from matplotlib->wordcloud) (1.1.0)\n",
      "Requirement already satisfied: cycler>=0.10 in /usr/local/lib/python3.10/dist-packages (from matplotlib->wordcloud) (0.11.0)\n",
      "Requirement already satisfied: fonttools>=4.22.0 in /usr/local/lib/python3.10/dist-packages (from matplotlib->wordcloud) (4.41.0)\n",
      "Requirement already satisfied: kiwisolver>=1.0.1 in /usr/local/lib/python3.10/dist-packages (from matplotlib->wordcloud) (1.4.4)\n",
      "Requirement already satisfied: packaging>=20.0 in /usr/local/lib/python3.10/dist-packages (from matplotlib->wordcloud) (23.1)\n",
      "Requirement already satisfied: pyparsing>=2.3.1 in /usr/local/lib/python3.10/dist-packages (from matplotlib->wordcloud) (3.1.0)\n",
      "Requirement already satisfied: python-dateutil>=2.7 in /usr/local/lib/python3.10/dist-packages (from matplotlib->wordcloud) (2.8.2)\n",
      "Requirement already satisfied: six>=1.5 in /usr/local/lib/python3.10/dist-packages (from python-dateutil>=2.7->matplotlib->wordcloud) (1.16.0)\n"
     ]
    }
   ],
   "source": [
    "if 1 == 1:\n",
    "#if 'is_import_libraries' not in globals():\n",
    "  # Не запускаем повторно загрузку библиотекесли уже запускали их\n",
    "  # Если хочется запустить повторно раскоментировать верхнюю строку if 1 == 1:\n",
    "  # И закоментировать проверку if 'is_import_libraries' not in globals():\n",
    "  # Сделал так чтобы быстрее выполнялась программа повторно целиком, когда\n",
    "  # библиотеки уже загружены\n",
    "  is_import_libraries = False\n",
    "\n",
    "  !pip install transformers --quiet\n",
    "  !pip install optuna --quiet\n",
    "  !pip install wordcloud\n",
    "\n",
    "  import numpy as np\n",
    "  import pandas as pd\n",
    "  import math\n",
    "  import matplotlib.pyplot as plt\n",
    "\n",
    "  import timeit\n",
    "  from tqdm import notebook\n",
    "\n",
    "  import nltk\n",
    "  import re\n",
    "\n",
    "  from sklearn.model_selection import (\n",
    "      train_test_split,\n",
    "      StratifiedKFold,\n",
    "      cross_val_score\n",
    "  )\n",
    "\n",
    "  import torch\n",
    "  import lightgbm as lgb\n",
    "  from sklearn.linear_model import LogisticRegression\n",
    "  from sklearn.svm import LinearSVC\n",
    "  from sklearn.ensemble import RandomForestClassifier\n",
    "  from lightgbm import LGBMClassifier\n",
    "  from sklearn.dummy import DummyClassifier\n",
    "  from sklearn.decomposition import TruncatedSVD\n",
    "\n",
    "  from sklearn.metrics import (\n",
    "      f1_score,\n",
    "      confusion_matrix,\n",
    "      ConfusionMatrixDisplay,\n",
    "      classification_report\n",
    "  )\n",
    "\n",
    "  from wordcloud import WordCloud\n",
    "  import optuna\n",
    "\n",
    "  from transformers import (\n",
    "      AutoTokenizer,\n",
    "      AutoModelForMaskedLM\n",
    "  )"
   ]
  },
  {
   "cell_type": "markdown",
   "metadata": {
    "id": "Uad0_tX7oVIr"
   },
   "source": [
    "## Загрузка данных"
   ]
  },
  {
   "cell_type": "code",
   "execution_count": null,
   "metadata": {
    "id": "nzYenNlcfshI"
   },
   "outputs": [],
   "source": [
    "# Чтение csv файла с необходимыми опциями\n",
    "def read_csv_opt(csv_file):\n",
    "  return pd.read_csv(csv_file, index_col = 0, sep = ',')\n",
    "  #return pd.read_csv(csv_file, sep = ',')"
   ]
  },
  {
   "cell_type": "code",
   "execution_count": null,
   "metadata": {
    "id": "xv6MllnroVIr"
   },
   "outputs": [],
   "source": [
    "#Загрузим данные\n",
    "\n",
    "# Имя файла для загрузки\n",
    "csv_file_name = 'toxic_comments.csv'\n",
    "\n",
    "if is_my_calab:\n",
    "  #Если выполняем в моем колабе\n",
    "  csv_gdrv_path = '/content/drive/MyDrive/datasets/'+ csv_file_name\n",
    "  try:\n",
    "    data = read_csv_opt(csv_gdrv_path)\n",
    "  except:\n",
    "    from google.colab import drive\n",
    "    drive.mount('/content/drive')\n",
    "    data = read_csv_opt(csv_gdrv_path)\n",
    "else:\n",
    "  #Если выполняем в практикуме или другом месте или ноутбук расшарен\n",
    "  try:\n",
    "    data = read_csv_opt('/datasets/' + csv_file_name)\n",
    "  except:\n",
    "    data = read_csv_opt('https://code.s3.yandex.net/datasets/' + csv_file_name)"
   ]
  },
  {
   "cell_type": "code",
   "execution_count": null,
   "metadata": {
    "colab": {
     "base_uri": "https://localhost:8080/"
    },
    "id": "sy1rTntGxvrw",
    "outputId": "c0456b9a-6d7e-4f62-9675-83df92afddf5"
   },
   "outputs": [
    {
     "data": {
      "text/plain": [
       "(159292, 2)"
      ]
     },
     "execution_count": 6,
     "metadata": {},
     "output_type": "execute_result"
    }
   ],
   "source": [
    "data = data.reset_index(drop=True)\n",
    "data.shape"
   ]
  },
  {
   "cell_type": "markdown",
   "metadata": {
    "id": "u8QI6vuNgjTT"
   },
   "source": [
    "## Подготовка"
   ]
  },
  {
   "cell_type": "markdown",
   "metadata": {
    "id": "a8F9cYb8ln5d"
   },
   "source": [
    "### Ознакомимся с данными"
   ]
  },
  {
   "cell_type": "code",
   "execution_count": null,
   "metadata": {
    "colab": {
     "base_uri": "https://localhost:8080/",
     "height": 206
    },
    "id": "NFxqX4Z1jksP",
    "outputId": "5227b44a-73e6-4d34-cca8-0eeb26e45b9e"
   },
   "outputs": [
    {
     "data": {
      "text/html": [
       "\n",
       "\n",
       "  <div id=\"df-928920fe-a25f-4f69-8ade-53164bfc21b7\">\n",
       "    <div class=\"colab-df-container\">\n",
       "      <div>\n",
       "<style scoped>\n",
       "    .dataframe tbody tr th:only-of-type {\n",
       "        vertical-align: middle;\n",
       "    }\n",
       "\n",
       "    .dataframe tbody tr th {\n",
       "        vertical-align: top;\n",
       "    }\n",
       "\n",
       "    .dataframe thead th {\n",
       "        text-align: right;\n",
       "    }\n",
       "</style>\n",
       "<table border=\"1\" class=\"dataframe\">\n",
       "  <thead>\n",
       "    <tr style=\"text-align: right;\">\n",
       "      <th></th>\n",
       "      <th>text</th>\n",
       "      <th>toxic</th>\n",
       "    </tr>\n",
       "  </thead>\n",
       "  <tbody>\n",
       "    <tr>\n",
       "      <th>22874</th>\n",
       "      <td>I think I understand that part.  Why not undo ...</td>\n",
       "      <td>0</td>\n",
       "    </tr>\n",
       "    <tr>\n",
       "      <th>131802</th>\n",
       "      <td>\"Hi, 98.212.  I am the author of the Wikipedia...</td>\n",
       "      <td>0</td>\n",
       "    </tr>\n",
       "    <tr>\n",
       "      <th>127285</th>\n",
       "      <td>arsehole who was bullied as a child</td>\n",
       "      <td>1</td>\n",
       "    </tr>\n",
       "    <tr>\n",
       "      <th>469</th>\n",
       "      <td>\"\\nThanks! And happy new year to you too!   ''...</td>\n",
       "      <td>0</td>\n",
       "    </tr>\n",
       "    <tr>\n",
       "      <th>117916</th>\n",
       "      <td>I didn't make it, I just started it and some o...</td>\n",
       "      <td>0</td>\n",
       "    </tr>\n",
       "  </tbody>\n",
       "</table>\n",
       "</div>\n",
       "      <button class=\"colab-df-convert\" onclick=\"convertToInteractive('df-928920fe-a25f-4f69-8ade-53164bfc21b7')\"\n",
       "              title=\"Convert this dataframe to an interactive table.\"\n",
       "              style=\"display:none;\">\n",
       "\n",
       "  <svg xmlns=\"http://www.w3.org/2000/svg\" height=\"24px\"viewBox=\"0 0 24 24\"\n",
       "       width=\"24px\">\n",
       "    <path d=\"M0 0h24v24H0V0z\" fill=\"none\"/>\n",
       "    <path d=\"M18.56 5.44l.94 2.06.94-2.06 2.06-.94-2.06-.94-.94-2.06-.94 2.06-2.06.94zm-11 1L8.5 8.5l.94-2.06 2.06-.94-2.06-.94L8.5 2.5l-.94 2.06-2.06.94zm10 10l.94 2.06.94-2.06 2.06-.94-2.06-.94-.94-2.06-.94 2.06-2.06.94z\"/><path d=\"M17.41 7.96l-1.37-1.37c-.4-.4-.92-.59-1.43-.59-.52 0-1.04.2-1.43.59L10.3 9.45l-7.72 7.72c-.78.78-.78 2.05 0 2.83L4 21.41c.39.39.9.59 1.41.59.51 0 1.02-.2 1.41-.59l7.78-7.78 2.81-2.81c.8-.78.8-2.07 0-2.86zM5.41 20L4 18.59l7.72-7.72 1.47 1.35L5.41 20z\"/>\n",
       "  </svg>\n",
       "      </button>\n",
       "\n",
       "\n",
       "\n",
       "    <div id=\"df-cc2e3e28-35f4-4b1a-8330-e38252586dc7\">\n",
       "      <button class=\"colab-df-quickchart\" onclick=\"quickchart('df-cc2e3e28-35f4-4b1a-8330-e38252586dc7')\"\n",
       "              title=\"Suggest charts.\"\n",
       "              style=\"display:none;\">\n",
       "\n",
       "<svg xmlns=\"http://www.w3.org/2000/svg\" height=\"24px\"viewBox=\"0 0 24 24\"\n",
       "     width=\"24px\">\n",
       "    <g>\n",
       "        <path d=\"M19 3H5c-1.1 0-2 .9-2 2v14c0 1.1.9 2 2 2h14c1.1 0 2-.9 2-2V5c0-1.1-.9-2-2-2zM9 17H7v-7h2v7zm4 0h-2V7h2v10zm4 0h-2v-4h2v4z\"/>\n",
       "    </g>\n",
       "</svg>\n",
       "      </button>\n",
       "    </div>\n",
       "\n",
       "<style>\n",
       "  .colab-df-quickchart {\n",
       "    background-color: #E8F0FE;\n",
       "    border: none;\n",
       "    border-radius: 50%;\n",
       "    cursor: pointer;\n",
       "    display: none;\n",
       "    fill: #1967D2;\n",
       "    height: 32px;\n",
       "    padding: 0 0 0 0;\n",
       "    width: 32px;\n",
       "  }\n",
       "\n",
       "  .colab-df-quickchart:hover {\n",
       "    background-color: #E2EBFA;\n",
       "    box-shadow: 0px 1px 2px rgba(60, 64, 67, 0.3), 0px 1px 3px 1px rgba(60, 64, 67, 0.15);\n",
       "    fill: #174EA6;\n",
       "  }\n",
       "\n",
       "  [theme=dark] .colab-df-quickchart {\n",
       "    background-color: #3B4455;\n",
       "    fill: #D2E3FC;\n",
       "  }\n",
       "\n",
       "  [theme=dark] .colab-df-quickchart:hover {\n",
       "    background-color: #434B5C;\n",
       "    box-shadow: 0px 1px 3px 1px rgba(0, 0, 0, 0.15);\n",
       "    filter: drop-shadow(0px 1px 2px rgba(0, 0, 0, 0.3));\n",
       "    fill: #FFFFFF;\n",
       "  }\n",
       "</style>\n",
       "\n",
       "    <script>\n",
       "      async function quickchart(key) {\n",
       "        const containerElement = document.querySelector('#' + key);\n",
       "        const charts = await google.colab.kernel.invokeFunction(\n",
       "            'suggestCharts', [key], {});\n",
       "      }\n",
       "    </script>\n",
       "\n",
       "      <script>\n",
       "\n",
       "function displayQuickchartButton(domScope) {\n",
       "  let quickchartButtonEl =\n",
       "    domScope.querySelector('#df-cc2e3e28-35f4-4b1a-8330-e38252586dc7 button.colab-df-quickchart');\n",
       "  quickchartButtonEl.style.display =\n",
       "    google.colab.kernel.accessAllowed ? 'block' : 'none';\n",
       "}\n",
       "\n",
       "        displayQuickchartButton(document);\n",
       "      </script>\n",
       "      <style>\n",
       "    .colab-df-container {\n",
       "      display:flex;\n",
       "      flex-wrap:wrap;\n",
       "      gap: 12px;\n",
       "    }\n",
       "\n",
       "    .colab-df-convert {\n",
       "      background-color: #E8F0FE;\n",
       "      border: none;\n",
       "      border-radius: 50%;\n",
       "      cursor: pointer;\n",
       "      display: none;\n",
       "      fill: #1967D2;\n",
       "      height: 32px;\n",
       "      padding: 0 0 0 0;\n",
       "      width: 32px;\n",
       "    }\n",
       "\n",
       "    .colab-df-convert:hover {\n",
       "      background-color: #E2EBFA;\n",
       "      box-shadow: 0px 1px 2px rgba(60, 64, 67, 0.3), 0px 1px 3px 1px rgba(60, 64, 67, 0.15);\n",
       "      fill: #174EA6;\n",
       "    }\n",
       "\n",
       "    [theme=dark] .colab-df-convert {\n",
       "      background-color: #3B4455;\n",
       "      fill: #D2E3FC;\n",
       "    }\n",
       "\n",
       "    [theme=dark] .colab-df-convert:hover {\n",
       "      background-color: #434B5C;\n",
       "      box-shadow: 0px 1px 3px 1px rgba(0, 0, 0, 0.15);\n",
       "      filter: drop-shadow(0px 1px 2px rgba(0, 0, 0, 0.3));\n",
       "      fill: #FFFFFF;\n",
       "    }\n",
       "  </style>\n",
       "\n",
       "      <script>\n",
       "        const buttonEl =\n",
       "          document.querySelector('#df-928920fe-a25f-4f69-8ade-53164bfc21b7 button.colab-df-convert');\n",
       "        buttonEl.style.display =\n",
       "          google.colab.kernel.accessAllowed ? 'block' : 'none';\n",
       "\n",
       "        async function convertToInteractive(key) {\n",
       "          const element = document.querySelector('#df-928920fe-a25f-4f69-8ade-53164bfc21b7');\n",
       "          const dataTable =\n",
       "            await google.colab.kernel.invokeFunction('convertToInteractive',\n",
       "                                                     [key], {});\n",
       "          if (!dataTable) return;\n",
       "\n",
       "          const docLinkHtml = 'Like what you see? Visit the ' +\n",
       "            '<a target=\"_blank\" href=https://colab.research.google.com/notebooks/data_table.ipynb>data table notebook</a>'\n",
       "            + ' to learn more about interactive tables.';\n",
       "          element.innerHTML = '';\n",
       "          dataTable['output_type'] = 'display_data';\n",
       "          await google.colab.output.renderOutput(dataTable, element);\n",
       "          const docLink = document.createElement('div');\n",
       "          docLink.innerHTML = docLinkHtml;\n",
       "          element.appendChild(docLink);\n",
       "        }\n",
       "      </script>\n",
       "    </div>\n",
       "  </div>\n"
      ],
      "text/plain": [
       "                                                     text  toxic\n",
       "22874   I think I understand that part.  Why not undo ...      0\n",
       "131802  \"Hi, 98.212.  I am the author of the Wikipedia...      0\n",
       "127285                arsehole who was bullied as a child      1\n",
       "469     \"\\nThanks! And happy new year to you too!   ''...      0\n",
       "117916  I didn't make it, I just started it and some o...      0"
      ]
     },
     "execution_count": 7,
     "metadata": {},
     "output_type": "execute_result"
    }
   ],
   "source": [
    "data.sample(5)"
   ]
  },
  {
   "cell_type": "code",
   "execution_count": null,
   "metadata": {
    "colab": {
     "base_uri": "https://localhost:8080/"
    },
    "id": "aTWpajdEdNI-",
    "outputId": "88e70f35-6cbc-4672-a7f3-880161580dd6"
   },
   "outputs": [
    {
     "name": "stdout",
     "output_type": "stream",
     "text": [
      "<class 'pandas.core.frame.DataFrame'>\n",
      "RangeIndex: 159292 entries, 0 to 159291\n",
      "Data columns (total 2 columns):\n",
      " #   Column  Non-Null Count   Dtype \n",
      "---  ------  --------------   ----- \n",
      " 0   text    159292 non-null  object\n",
      " 1   toxic   159292 non-null  int64 \n",
      "dtypes: int64(1), object(1)\n",
      "memory usage: 2.4+ MB\n"
     ]
    }
   ],
   "source": [
    "data.info()"
   ]
  },
  {
   "cell_type": "markdown",
   "metadata": {
    "id": "nKmcdad_n-9E"
   },
   "source": [
    "Пропусков не обнаружено"
   ]
  },
  {
   "cell_type": "code",
   "execution_count": null,
   "metadata": {
    "colab": {
     "base_uri": "https://localhost:8080/",
     "height": 49
    },
    "id": "4xx1w0qSVPrE",
    "outputId": "89b25f75-e837-4127-a747-e6f642d332f3",
    "scrolled": true
   },
   "outputs": [
    {
     "data": {
      "text/html": [
       "\n",
       "\n",
       "  <div id=\"df-50ebe9c0-9494-494b-b366-3bad8f506da0\">\n",
       "    <div class=\"colab-df-container\">\n",
       "      <div>\n",
       "<style scoped>\n",
       "    .dataframe tbody tr th:only-of-type {\n",
       "        vertical-align: middle;\n",
       "    }\n",
       "\n",
       "    .dataframe tbody tr th {\n",
       "        vertical-align: top;\n",
       "    }\n",
       "\n",
       "    .dataframe thead th {\n",
       "        text-align: right;\n",
       "    }\n",
       "</style>\n",
       "<table border=\"1\" class=\"dataframe\">\n",
       "  <thead>\n",
       "    <tr style=\"text-align: right;\">\n",
       "      <th></th>\n",
       "      <th>text</th>\n",
       "      <th>toxic</th>\n",
       "    </tr>\n",
       "  </thead>\n",
       "  <tbody>\n",
       "  </tbody>\n",
       "</table>\n",
       "</div>\n",
       "      <button class=\"colab-df-convert\" onclick=\"convertToInteractive('df-50ebe9c0-9494-494b-b366-3bad8f506da0')\"\n",
       "              title=\"Convert this dataframe to an interactive table.\"\n",
       "              style=\"display:none;\">\n",
       "\n",
       "  <svg xmlns=\"http://www.w3.org/2000/svg\" height=\"24px\"viewBox=\"0 0 24 24\"\n",
       "       width=\"24px\">\n",
       "    <path d=\"M0 0h24v24H0V0z\" fill=\"none\"/>\n",
       "    <path d=\"M18.56 5.44l.94 2.06.94-2.06 2.06-.94-2.06-.94-.94-2.06-.94 2.06-2.06.94zm-11 1L8.5 8.5l.94-2.06 2.06-.94-2.06-.94L8.5 2.5l-.94 2.06-2.06.94zm10 10l.94 2.06.94-2.06 2.06-.94-2.06-.94-.94-2.06-.94 2.06-2.06.94z\"/><path d=\"M17.41 7.96l-1.37-1.37c-.4-.4-.92-.59-1.43-.59-.52 0-1.04.2-1.43.59L10.3 9.45l-7.72 7.72c-.78.78-.78 2.05 0 2.83L4 21.41c.39.39.9.59 1.41.59.51 0 1.02-.2 1.41-.59l7.78-7.78 2.81-2.81c.8-.78.8-2.07 0-2.86zM5.41 20L4 18.59l7.72-7.72 1.47 1.35L5.41 20z\"/>\n",
       "  </svg>\n",
       "      </button>\n",
       "\n",
       "\n",
       "\n",
       "    <div id=\"df-9c0ebeeb-f4b2-4a32-8003-61e550e59786\">\n",
       "      <button class=\"colab-df-quickchart\" onclick=\"quickchart('df-9c0ebeeb-f4b2-4a32-8003-61e550e59786')\"\n",
       "              title=\"Suggest charts.\"\n",
       "              style=\"display:none;\">\n",
       "\n",
       "<svg xmlns=\"http://www.w3.org/2000/svg\" height=\"24px\"viewBox=\"0 0 24 24\"\n",
       "     width=\"24px\">\n",
       "    <g>\n",
       "        <path d=\"M19 3H5c-1.1 0-2 .9-2 2v14c0 1.1.9 2 2 2h14c1.1 0 2-.9 2-2V5c0-1.1-.9-2-2-2zM9 17H7v-7h2v7zm4 0h-2V7h2v10zm4 0h-2v-4h2v4z\"/>\n",
       "    </g>\n",
       "</svg>\n",
       "      </button>\n",
       "    </div>\n",
       "\n",
       "<style>\n",
       "  .colab-df-quickchart {\n",
       "    background-color: #E8F0FE;\n",
       "    border: none;\n",
       "    border-radius: 50%;\n",
       "    cursor: pointer;\n",
       "    display: none;\n",
       "    fill: #1967D2;\n",
       "    height: 32px;\n",
       "    padding: 0 0 0 0;\n",
       "    width: 32px;\n",
       "  }\n",
       "\n",
       "  .colab-df-quickchart:hover {\n",
       "    background-color: #E2EBFA;\n",
       "    box-shadow: 0px 1px 2px rgba(60, 64, 67, 0.3), 0px 1px 3px 1px rgba(60, 64, 67, 0.15);\n",
       "    fill: #174EA6;\n",
       "  }\n",
       "\n",
       "  [theme=dark] .colab-df-quickchart {\n",
       "    background-color: #3B4455;\n",
       "    fill: #D2E3FC;\n",
       "  }\n",
       "\n",
       "  [theme=dark] .colab-df-quickchart:hover {\n",
       "    background-color: #434B5C;\n",
       "    box-shadow: 0px 1px 3px 1px rgba(0, 0, 0, 0.15);\n",
       "    filter: drop-shadow(0px 1px 2px rgba(0, 0, 0, 0.3));\n",
       "    fill: #FFFFFF;\n",
       "  }\n",
       "</style>\n",
       "\n",
       "    <script>\n",
       "      async function quickchart(key) {\n",
       "        const containerElement = document.querySelector('#' + key);\n",
       "        const charts = await google.colab.kernel.invokeFunction(\n",
       "            'suggestCharts', [key], {});\n",
       "      }\n",
       "    </script>\n",
       "\n",
       "      <script>\n",
       "\n",
       "function displayQuickchartButton(domScope) {\n",
       "  let quickchartButtonEl =\n",
       "    domScope.querySelector('#df-9c0ebeeb-f4b2-4a32-8003-61e550e59786 button.colab-df-quickchart');\n",
       "  quickchartButtonEl.style.display =\n",
       "    google.colab.kernel.accessAllowed ? 'block' : 'none';\n",
       "}\n",
       "\n",
       "        displayQuickchartButton(document);\n",
       "      </script>\n",
       "      <style>\n",
       "    .colab-df-container {\n",
       "      display:flex;\n",
       "      flex-wrap:wrap;\n",
       "      gap: 12px;\n",
       "    }\n",
       "\n",
       "    .colab-df-convert {\n",
       "      background-color: #E8F0FE;\n",
       "      border: none;\n",
       "      border-radius: 50%;\n",
       "      cursor: pointer;\n",
       "      display: none;\n",
       "      fill: #1967D2;\n",
       "      height: 32px;\n",
       "      padding: 0 0 0 0;\n",
       "      width: 32px;\n",
       "    }\n",
       "\n",
       "    .colab-df-convert:hover {\n",
       "      background-color: #E2EBFA;\n",
       "      box-shadow: 0px 1px 2px rgba(60, 64, 67, 0.3), 0px 1px 3px 1px rgba(60, 64, 67, 0.15);\n",
       "      fill: #174EA6;\n",
       "    }\n",
       "\n",
       "    [theme=dark] .colab-df-convert {\n",
       "      background-color: #3B4455;\n",
       "      fill: #D2E3FC;\n",
       "    }\n",
       "\n",
       "    [theme=dark] .colab-df-convert:hover {\n",
       "      background-color: #434B5C;\n",
       "      box-shadow: 0px 1px 3px 1px rgba(0, 0, 0, 0.15);\n",
       "      filter: drop-shadow(0px 1px 2px rgba(0, 0, 0, 0.3));\n",
       "      fill: #FFFFFF;\n",
       "    }\n",
       "  </style>\n",
       "\n",
       "      <script>\n",
       "        const buttonEl =\n",
       "          document.querySelector('#df-50ebe9c0-9494-494b-b366-3bad8f506da0 button.colab-df-convert');\n",
       "        buttonEl.style.display =\n",
       "          google.colab.kernel.accessAllowed ? 'block' : 'none';\n",
       "\n",
       "        async function convertToInteractive(key) {\n",
       "          const element = document.querySelector('#df-50ebe9c0-9494-494b-b366-3bad8f506da0');\n",
       "          const dataTable =\n",
       "            await google.colab.kernel.invokeFunction('convertToInteractive',\n",
       "                                                     [key], {});\n",
       "          if (!dataTable) return;\n",
       "\n",
       "          const docLinkHtml = 'Like what you see? Visit the ' +\n",
       "            '<a target=\"_blank\" href=https://colab.research.google.com/notebooks/data_table.ipynb>data table notebook</a>'\n",
       "            + ' to learn more about interactive tables.';\n",
       "          element.innerHTML = '';\n",
       "          dataTable['output_type'] = 'display_data';\n",
       "          await google.colab.output.renderOutput(dataTable, element);\n",
       "          const docLink = document.createElement('div');\n",
       "          docLink.innerHTML = docLinkHtml;\n",
       "          element.appendChild(docLink);\n",
       "        }\n",
       "      </script>\n",
       "    </div>\n",
       "  </div>\n"
      ],
      "text/plain": [
       "Empty DataFrame\n",
       "Columns: [text, toxic]\n",
       "Index: []"
      ]
     },
     "execution_count": 9,
     "metadata": {},
     "output_type": "execute_result"
    }
   ],
   "source": [
    "data[data.duplicated()]"
   ]
  },
  {
   "cell_type": "markdown",
   "metadata": {
    "id": "jXHuRqSAkHMe"
   },
   "source": [
    "Дубликатов не обнаружено"
   ]
  },
  {
   "cell_type": "markdown",
   "metadata": {
    "id": "LUMQbr8ypaqb"
   },
   "source": [
    "Посмотрим на распределение длин строк в данных"
   ]
  },
  {
   "cell_type": "code",
   "execution_count": null,
   "metadata": {
    "colab": {
     "base_uri": "https://localhost:8080/",
     "height": 472
    },
    "id": "xHWpzlQ4oJrs",
    "outputId": "0f0f7e33-74af-4e7d-c3a6-2180092dad0c"
   },
   "outputs": [
    {
     "data": {
      "image/png": "[encoded data removed]",
      "text/plain": [
       "<Figure size 640x480 with 1 Axes>"
      ]
     },
     "metadata": {},
     "output_type": "display_data"
    }
   ],
   "source": [
    "plt.hist(data.text.str.len(), bins=100)\n",
    "plt.title('Распределение числа символов в строках данных')\n",
    "plt.xlabel('Длина строки')\n",
    "plt.ylabel('Количество')\n",
    "plt.show()"
   ]
  },
  {
   "cell_type": "markdown",
   "metadata": {
    "id": "f2r1w4dGqs75"
   },
   "source": [
    "Видим что максимальная длина текста составляет 5000 символов. Основная часть текстов имеет длину менее 2000 символов."
   ]
  },
  {
   "cell_type": "markdown",
   "metadata": {
    "id": "cD1rQobTO6tW"
   },
   "source": [
    "Преверим баланс классов"
   ]
  },
  {
   "cell_type": "code",
   "execution_count": null,
   "metadata": {
    "colab": {
     "base_uri": "https://localhost:8080/"
    },
    "id": "oV3i-kE3PDtn",
    "outputId": "ec5d119c-80a9-42f7-8ac5-1d70abbeec6f"
   },
   "outputs": [
    {
     "data": {
      "text/plain": [
       "0    0.898388\n",
       "1    0.101612\n",
       "Name: toxic, dtype: float64"
      ]
     },
     "execution_count": 11,
     "metadata": {},
     "output_type": "execute_result"
    }
   ],
   "source": [
    "data.toxic.value_counts(normalize=True)"
   ]
  },
  {
   "cell_type": "markdown",
   "metadata": {
    "id": "kQ15aU-KPxcT"
   },
   "source": [
    "Наблюдается довольно сильный дисбаланс классов. Это нужно будет учесть при обучении моделей."
   ]
  },
  {
   "cell_type": "markdown",
   "metadata": {
    "id": "E0XWo5bCxBFn"
   },
   "source": [
    "### Частотный анализ и облако слов"
   ]
  },
  {
   "cell_type": "code",
   "execution_count": null,
   "metadata": {
    "id": "6DjtSBe-1RC4"
   },
   "outputs": [],
   "source": [
    "# text_analiz - проводит частотный анализ текста\n",
    "# и строит облако слов.\n",
    "# Параметры:\n",
    "# text - текст для анализа\n",
    "# text_name - наименование текста для анализа\n",
    "def text_analiz(text, text_name):\n",
    "  # Переведем в нижний регистр\n",
    "  text = text.lower()\n",
    "  # Оставим только буквы латинского алфавита и пробелы\n",
    "  text =  re.sub(r'[^a-z\\s]', ' ', text)\n",
    "  # Заменим много пробелов подряд на один\n",
    "  text =  re.sub(r'\\s+', ' ', text)\n",
    "  # Удалим начальные и конечные пробелы\n",
    "  text = text.strip()\n",
    "  #print(text[:250])\n",
    "\n",
    "  # Токенезируем текст\n",
    "  text_tokens = nltk.word_tokenize(text)\n",
    "  #print(type(text_tokens), len(text_tokens))\n",
    "  #print(text_tokens[:10])\n",
    "\n",
    "  # Удалим стоп-слова\n",
    "  stopwords = nltk.corpus.stopwords.words('english')\n",
    "  # Можно расширить список стоп слов:\n",
    "  #russian_stopwords.extend(['no', 'not'])\n",
    "  text_tokens = [token.strip() for token in text_tokens if token not in stopwords]\n",
    "  #print(len(text_tokens))\n",
    "\n",
    "  text = nltk.Text(text_tokens)\n",
    "  #print(type(text))\n",
    "  #print(text[:10])\n",
    "\n",
    "  # Расчёт частоты встречаемости слов\n",
    "  fdist = nltk.probability.FreqDist(text)\n",
    "  #display(fdist)\n",
    "  # Можно вывести 5 самых распространенных слов\n",
    "  #fdist.most_common(5)\n",
    "  fdist.plot(30, cumulative=False, title = text_name)\n",
    "\n",
    "  # Построим облако слов\n",
    "  text_raw = \" \".join(text)\n",
    "  wordcloud = WordCloud(collocations = False).generate(text_raw)\n",
    "  plt.imshow(wordcloud, interpolation='bilinear')\n",
    "  plt.axis(\"off\")\n",
    "  plt.show()"
   ]
  },
  {
   "cell_type": "code",
   "execution_count": null,
   "metadata": {
    "colab": {
     "base_uri": "https://localhost:8080/"
    },
    "id": "cMajEvrkS25U",
    "outputId": "a464b2f0-5902-4052-af54-3c275986e0f4"
   },
   "outputs": [
    {
     "name": "stderr",
     "output_type": "stream",
     "text": [
      "[nltk_data] Downloading package punkt to /root/nltk_data...\n",
      "[nltk_data]   Unzipping tokenizers/punkt.zip.\n",
      "[nltk_data] Downloading package stopwords to /root/nltk_data...\n",
      "[nltk_data]   Unzipping corpora/stopwords.zip.\n"
     ]
    },
    {
     "data": {
      "text/plain": [
       "True"
      ]
     },
     "execution_count": 13,
     "metadata": {},
     "output_type": "execute_result"
    }
   ],
   "source": [
    "nltk.download('punkt')\n",
    "nltk.download('stopwords')"
   ]
  },
  {
   "cell_type": "code",
   "execution_count": null,
   "metadata": {
    "id": "p6yrTT35txAS"
   },
   "outputs": [],
   "source": [
    "# Можно расскоментировать, если облако слов дает ошибку в тренажере\n",
    "#!/opt/conda/bin/python -m pip install wordcloud==1.8.2.2\n",
    "#!pip install --upgrade Pillow\n",
    "#Но вообще на эту ошибку рекумендуют сделать:\n",
    "#sudo apt install libfreetype6\n",
    "#Однако в тренажере эту комманду не выполнить, требует пароль рута."
   ]
  },
  {
   "cell_type": "markdown",
   "metadata": {
    "id": "L3UjllMiTNDB"
   },
   "source": [
    "#### Токсичные тексты"
   ]
  },
  {
   "cell_type": "code",
   "execution_count": null,
   "metadata": {
    "colab": {
     "base_uri": "https://localhost:8080/",
     "height": 792
    },
    "id": "ZdO1-u5RxG7V",
    "outputId": "b6b79322-db48-4159-d12c-2b8614abae5d"
   },
   "outputs": [
    {
     "data": {
      "image/png": "[encoded data removed]",
      "text/plain": [
       "<Figure size 640x480 with 1 Axes>"
      ]
     },
     "metadata": {},
     "output_type": "display_data"
    },
    {
     "data": {
      "image/png": "[encoded data removed]",
      "text/plain": [
       "<Figure size 640x480 with 1 Axes>"
      ]
     },
     "metadata": {},
     "output_type": "display_data"
    }
   ],
   "source": [
    "toxic_text = ' '.join(data.query('toxic == 1')['text'])\n",
    "text_analiz(toxic_text, 'Токсичные тексты')\n",
    "del toxic_text"
   ]
  },
  {
   "cell_type": "markdown",
   "metadata": {
    "id": "SlCBhDKQTc0o"
   },
   "source": [
    "#### Не токсичные тексты"
   ]
  },
  {
   "cell_type": "code",
   "execution_count": null,
   "metadata": {
    "colab": {
     "base_uri": "https://localhost:8080/",
     "height": 806
    },
    "id": "Lg2OEMpbS8MR",
    "outputId": "262aad97-fe88-4f84-d7af-8b7601936fbd"
   },
   "outputs": [
    {
     "data": {
      "image/png": "[encoded data removed]",
      "text/plain": [
       "<Figure size 640x480 with 1 Axes>"
      ]
     },
     "metadata": {},
     "output_type": "display_data"
    },
    {
     "data": {
      "image/png": "[encoded data removed]",
      "text/plain": [
       "<Figure size 640x480 with 1 Axes>"
      ]
     },
     "metadata": {},
     "output_type": "display_data"
    }
   ],
   "source": [
    "good_text = ' '.join(data.query('toxic == 0')['text'])\n",
    "text_analiz(good_text, 'Не токсичные тексты')\n",
    "del good_text"
   ]
  },
  {
   "cell_type": "markdown",
   "metadata": {
    "id": "dgsg9trNUZ76"
   },
   "source": [
    "Видим, что в токсичных и не токсичных текстах разные слова являются лидерами. В то же время некоторые слова, например слово \"article\" довольно часто встречаются в обоих случаях."
   ]
  },
  {
   "cell_type": "markdown",
   "metadata": {
    "id": "jIJqwzHbs6dJ"
   },
   "source": [
    "### Извлечем часть данных\n",
    "Данных довольно много. Чтобы повысить скорость обучения будем работать только с частью данных"
   ]
  },
  {
   "cell_type": "code",
   "execution_count": null,
   "metadata": {
    "colab": {
     "base_uri": "https://localhost:8080/"
    },
    "id": "L4YUUkfqs6dZ",
    "outputId": "4fac0acf-2f74-4ec1-94d4-d24033c003d4"
   },
   "outputs": [
    {
     "name": "stdout",
     "output_type": "stream",
     "text": [
      "0    898\n",
      "1    102\n",
      "Name: toxic, dtype: int64\n",
      "0    0.898\n",
      "1    0.102\n",
      "Name: toxic, dtype: float64\n"
     ]
    }
   ],
   "source": [
    "# В sample_size устанавливаем долю от датафрейма которую будем выбирать\n",
    "# для обучения и тестирования, остальное отбрасываем.\n",
    "sample_size = 0.1\n",
    "#sample_size = 1000\n",
    "\n",
    "#Берем 10% от всех данных для обучения и тестирования, остальное отбрасываем.\n",
    "rest_data, new_data = train_test_split(\n",
    "    data,\n",
    "    test_size = sample_size,\n",
    "    random_state=RANDOM_STATE,\n",
    "    stratify=data['toxic']\n",
    "    )\n",
    "data = new_data.copy()\n",
    "data = data.reset_index(drop=True)\n",
    "del rest_data\n",
    "del new_data\n",
    "print(data['toxic'].value_counts())\n",
    "print(data['toxic'].value_counts(normalize=True))"
   ]
  },
  {
   "cell_type": "markdown",
   "metadata": {
    "id": "gWtZDWvTgjTX"
   },
   "source": [
    "## Обучение"
   ]
  },
  {
   "cell_type": "markdown",
   "metadata": {
    "id": "zAW2jVjdYEPi"
   },
   "source": [
    "Поименуем признаки и целевой признак."
   ]
  },
  {
   "cell_type": "code",
   "execution_count": null,
   "metadata": {
    "id": "jFq0jdp5YE-m"
   },
   "outputs": [],
   "source": [
    "target = data['toxic']\n",
    "features = data['text']"
   ]
  },
  {
   "cell_type": "markdown",
   "metadata": {
    "id": "ungS5Ogaw6QB"
   },
   "source": [
    "### Создадим класс Embeddings\n",
    "для токенизации и создания эмбеддингов."
   ]
  },
  {
   "cell_type": "code",
   "execution_count": null,
   "metadata": {
    "id": "2FitiUMlgjTX"
   },
   "outputs": [],
   "source": [
    "# is_my_calab - перадаем параметр работаем ли в моем колабе.\n",
    "# Если да эмбеддинги сохраняются у меня на диске\n",
    "class Embeddings:\n",
    "  def __init__(self, is_my_calab):\n",
    "    self.is_my_calab = is_my_calab\n",
    "    print(\"Есть GPU\" if torch.cuda.is_available() else \"Нет GPU, работаем на CPU\")\n",
    "\n",
    "    # Если есть GPU best_device будет на GPU, если нет - не CPU\n",
    "    self.best_device = torch.device(\"cuda:0\" if torch.cuda.is_available() else \"cpu\")\n",
    "    # В device_cpu в любом случае будет CPU для вычислений которые будем делать на обычном процессоре.\n",
    "    self.device_cpu = torch.device(\"cpu\")\n",
    "\n",
    "    # Инициализируем токенизатор из предтренированной модели unitary/toxic-bert\n",
    "    # Есть варианты: martin-ha/toxic-comment-model, distilbert-base-uncased, unitary/toxic-bert\n",
    "    pretrained_name = 'unitary/toxic-bert'\n",
    "    self.tokenizer = AutoTokenizer.from_pretrained(pretrained_name)\n",
    "\n",
    "    # Инициализируем саму модель класса Bert с предобученной моделью unitary/toxic-bert.\n",
    "    self.model = (AutoModelForMaskedLM\n",
    "                  .from_pretrained(pretrained_name)\n",
    "                  .to(self.best_device)\n",
    "                  )\n",
    "\n",
    "  # Преобразуем текст в токены\n",
    "  # text - колонка датафрейма с текстами.\n",
    "  # max_length - максимальное количество токенов\n",
    "  def make_tokens(self, text, max_length = None):\n",
    "    tokens = self.tokenizer(\n",
    "        text.tolist(),\n",
    "        max_length=max_length,\n",
    "        padding=True,\n",
    "        truncation=True,\n",
    "        add_special_tokens=True,\n",
    "        return_attention_mask=True,\n",
    "        return_tensors=\"pt\"\n",
    "        )\n",
    "    # Извлечем полученные токены и переместим их если возможно\n",
    "    # на GPU (если GPU есть best_device будет указывать на GPU)\n",
    "    self.gpu_tokens = tokens['input_ids'].to(self.best_device)\n",
    "    print('tokens.shape:', self.gpu_tokens.shape)\n",
    "\n",
    "    # Извлечем attention_mask и переместим ее если возможно\n",
    "    # на GPU (если GPU есть best_device будет указывать на GPU)\n",
    "    self.gpu_attention_mask = tokens['attention_mask'].to(self.best_device)\n",
    "    print('attention_mask:', self.gpu_attention_mask.shape)\n",
    "\n",
    "  # make_embeddings Создает Embeddings на основе\n",
    "  # ранее созданных токенов в make_tokens\n",
    "  def make_embeddings(self, X_file_name = 'features'):\n",
    "    #batch_size = 50\n",
    "    batch_size = 5\n",
    "    self.embeddings = []\n",
    "    for i in notebook.tqdm(range(math.ceil(self.gpu_tokens.shape[0] / batch_size))):\n",
    "      if torch.cuda.is_available():\n",
    "        # Если работаем на GPU\n",
    "        batch = torch.cuda.LongTensor(\n",
    "            self.gpu_tokens[batch_size*i:batch_size*(i+1)])\n",
    "        attention_mask_batch = torch.cuda.LongTensor(\n",
    "            self.gpu_attention_mask[batch_size*i:batch_size*(i+1)])\n",
    "      else:\n",
    "        # Если работаем на процессоре, а не на GPU\n",
    "        # Берем очередной батч токенов\n",
    "        batch = torch.LongTensor(\n",
    "            self.gpu_tokens[batch_size*i:batch_size*(i+1)])\n",
    "        # И соответствующий этому батчу батч attention_mask\n",
    "        attention_mask_batch = torch.LongTensor(\n",
    "            self.gpu_attention_mask[batch_size*i:batch_size*(i+1)])\n",
    "\n",
    "      # Для ускорения вычисления функцией no_grad() в библиотеке torch укажем, что\n",
    "      # градиенты не нужны: модель BERT обучать не будем.\n",
    "      with torch.no_grad():\n",
    "        # Создаем эмбеддинги для батча и attention_mask\n",
    "        batch_embeddings = self.model(batch, attention_mask=attention_mask_batch)\n",
    "\n",
    "      # перемещаем полученный батч эмбеддингов на cpu\n",
    "      # и преобразуем элементы методом numpy() к типу numpy.array.\n",
    "      # Затем добавляем к списку эмбеддингов: embeddings\n",
    "      self.embeddings.append(batch_embeddings[0][:,0,:].to(self.device_cpu).numpy())\n",
    "    # Собераем все эмбеддинги в матрицу признаков\n",
    "    self.X = np.concatenate(self.embeddings)\n",
    "\n",
    "    # Больше не нужны embeddings, удаляем их и освобождаем память\n",
    "    del self.embeddings\n",
    "\n",
    "    if self.is_my_calab:\n",
    "      # Если в моем колабе, сохраним матрицу признаков на google drive\n",
    "      file = open('/content/drive/MyDrive/'+ X_file_name, 'wb')\n",
    "      np.save(file, self.X)\n",
    "\n",
    "  # load_features считывает с диска ранее созданный массив признаков\n",
    "  # чтобы каждый раз не ждать когда посчитаются эмбеддинги\n",
    "  def load_features(self, X_file_name = 'features'):\n",
    "    file = open('/content/drive/MyDrive/'+ X_file_name, 'rb')\n",
    "    self.X = np.load(file)\n"
   ]
  },
  {
   "cell_type": "markdown",
   "metadata": {},
   "source": [
    "<img src=\"https://emojigraph.org/media/apple/check-mark-button_2705.png\" align=left width=33, heigth=33>\n",
    "<div class=\"alert alert-success\">\n",
    "Ух, какой мощный класс.\n",
    "\n",
    " - Вижу ты используешь модель unitary/toxic-bert, да, она дает эмбеддинги очень хорошо подходящие для нашей задачи\n",
    " - использование cuda тоже очень хорошо\n",
    " - truncation=True - тоже ОК, можно быть уверенным что последовательности токенов будут \"подрезаны\" до нужной длинны   \n",
    "</div>"
   ]
  },
  {
   "cell_type": "markdown",
   "metadata": {
    "id": "CyDwqxVCH4Za"
   },
   "source": [
    "### Пробно токенизируем тексты\n",
    "чтобы посмотреть сколько, распределение числа текстов по числу токенов в них"
   ]
  },
  {
   "cell_type": "code",
   "execution_count": null,
   "metadata": {
    "colab": {
     "base_uri": "https://localhost:8080/",
     "height": 336,
     "referenced_widgets": [
      "2414eef561da41838d9ce5c17b3eb27e",
      "1580d7d2bb144c9ea9383df8863f30bf",
      "a6673d435c984281945227e2a5499542",
      "e04d0404c937410e868c58966b9eb5e3",
      "f780ab87ba08467a97024dff23d1051d",
      "09fed9aef24140769c6e60d21e8a72fa",
      "73bc48e4851c4fa39f8833d5ac0d1cd3",
      "a55c5530a54f4ff58471083caad8bac8",
      "a43ee422fc2d4f60bec999a367074edc",
      "e98ab107b1534dd0b4250eff6f80e541",
      "0ad8c50249db4b1e8cd95121b3f340df",
      "1b08f039e2a24089a6d2a05e5774e362",
      "40934691ab3e4e768bbd21a122b23495",
      "ec959cf7841144bea13ae1f009af9a4d",
      "3d7f7c5d9e5b4d458bea8da10b591ba5",
      "d9bb3cae2c8e422c8fe388f6d888ad10",
      "eaaed1ed17584c22b9660ca40844f64c",
      "7efc1579de0c427da2018db9e0629b76",
      "92cf36af11d349b596bd8f9378633616",
      "115a33c4239a413fa33610ae138b3f26",
      "900d33f22993474b831b1595247b10a6",
      "f8bb8612fc694fbb887e780371deb539",
      "48d8c512ec504ae68a77794d6fcc7cae",
      "3dd99805e9bd4ff98895af7f2662c08a",
      "5b370e8acff64329b2152d11d404112a",
      "6db8cfd6cbfa4575a09cc38527960044",
      "4b736ea83a06448eab32da66446fd700",
      "72a73095518d400594713ecc237ca33d",
      "f41cd15c4e1d48a98dd261f0468f4cdc",
      "c277074a75214542bc092bb5c9934ae5",
      "c25758ae1aa147e295abb8d685645a40",
      "0d7c2322001f410c97d36420b848b9cb",
      "546704e572d94fe996a636a1b901ddfb",
      "c99f37c6610e46468b9a21ff09933eac",
      "ba1566614bb24f20b0b6762f90f016f0",
      "9b1f0f2cdf0a4e898cb7f28f1fa7ee6a",
      "a5e3c8e5e18b4574a50faed232c59e4f",
      "90822a77219346ecaa210e3758155f25",
      "2c61da179424498eb057daa3d63476b9",
      "59fe1041685f40fbab0823bf02314105",
      "7c72c8f8f0b24f679b41a11c7a6b57af",
      "f37c2b374a8740db8c5395e3137f5923",
      "38230721b785419aa70edf52303a3449",
      "f329aead7c594c57a2a57c504a0e535f",
      "839d0a336e864bc183880b8d7969b1cd",
      "02d3ced69e1e4dfaa873602a81bcadd8",
      "b0e782a427bd4d47b2b265ef46ffa7b3",
      "1a301cdc280248acb64dab43008d305b",
      "593c04467b5f401b8bad46ea326536a7",
      "64e9181b28fb42918baee55815849a30",
      "f20647b05aa149aa829c9fd9137b540f",
      "cd34d9b6125a44719ac382326558acb5",
      "1b3af364abce48c09745a4c66fec487b",
      "1b7cc56059a4458ab80ddee1a253f26e",
      "41360dd11f73460197ecedcdf52ca132"
     ]
    },
    "id": "PjwcLtVzz7SG",
    "outputId": "69c49506-5317-4328-8008-470f774f7fcc"
   },
   "outputs": [
    {
     "name": "stdout",
     "output_type": "stream",
     "text": [
      "Есть GPU\n"
     ]
    },
    {
     "data": {
      "application/vnd.jupyter.widget-view+json": {
       "model_id": "2414eef561da41838d9ce5c17b3eb27e",
       "version_major": 2,
       "version_minor": 0
      },
      "text/plain": [
       "Downloading (…)okenizer_config.json:   0%|          | 0.00/174 [00:00<?, ?B/s]"
      ]
     },
     "metadata": {},
     "output_type": "display_data"
    },
    {
     "data": {
      "application/vnd.jupyter.widget-view+json": {
       "model_id": "1b08f039e2a24089a6d2a05e5774e362",
       "version_major": 2,
       "version_minor": 0
      },
      "text/plain": [
       "Downloading (…)lve/main/config.json:   0%|          | 0.00/811 [00:00<?, ?B/s]"
      ]
     },
     "metadata": {},
     "output_type": "display_data"
    },
    {
     "data": {
      "application/vnd.jupyter.widget-view+json": {
       "model_id": "48d8c512ec504ae68a77794d6fcc7cae",
       "version_major": 2,
       "version_minor": 0
      },
      "text/plain": [
       "Downloading (…)solve/main/vocab.txt:   0%|          | 0.00/232k [00:00<?, ?B/s]"
      ]
     },
     "metadata": {},
     "output_type": "display_data"
    },
    {
     "data": {
      "application/vnd.jupyter.widget-view+json": {
       "model_id": "c99f37c6610e46468b9a21ff09933eac",
       "version_major": 2,
       "version_minor": 0
      },
      "text/plain": [
       "Downloading (…)cial_tokens_map.json:   0%|          | 0.00/112 [00:00<?, ?B/s]"
      ]
     },
     "metadata": {},
     "output_type": "display_data"
    },
    {
     "data": {
      "application/vnd.jupyter.widget-view+json": {
       "model_id": "839d0a336e864bc183880b8d7969b1cd",
       "version_major": 2,
       "version_minor": 0
      },
      "text/plain": [
       "Downloading pytorch_model.bin:   0%|          | 0.00/438M [00:00<?, ?B/s]"
      ]
     },
     "metadata": {},
     "output_type": "display_data"
    },
    {
     "name": "stderr",
     "output_type": "stream",
     "text": [
      "Some weights of the model checkpoint at unitary/toxic-bert were not used when initializing BertForMaskedLM: ['classifier.weight', 'classifier.bias']\n",
      "- This IS expected if you are initializing BertForMaskedLM from the checkpoint of a model trained on another task or with another architecture (e.g. initializing a BertForSequenceClassification model from a BertForPreTraining model).\n",
      "- This IS NOT expected if you are initializing BertForMaskedLM from the checkpoint of a model that you expect to be exactly identical (initializing a BertForSequenceClassification model from a BertForSequenceClassification model).\n",
      "Some weights of BertForMaskedLM were not initialized from the model checkpoint at unitary/toxic-bert and are newly initialized: ['cls.predictions.transform.LayerNorm.weight', 'cls.predictions.bias', 'cls.predictions.transform.LayerNorm.bias', 'cls.predictions.transform.dense.bias', 'cls.predictions.transform.dense.weight']\n",
      "You should probably TRAIN this model on a down-stream task to be able to use it for predictions and inference.\n"
     ]
    },
    {
     "name": "stdout",
     "output_type": "stream",
     "text": [
      "tokens.shape: torch.Size([1000, 1135])\n",
      "attention_mask: torch.Size([1000, 1135])\n"
     ]
    }
   ],
   "source": [
    "# Создаем экземпляр класса для тренировочной выборки\n",
    "embd = Embeddings(is_my_calab)\n",
    "# Пробно геренируем эмбеддинги для тренировочной выборки\n",
    "# с большим (поэтому отсутствующим фактически) ограничением на число токенов\n",
    "embd.make_tokens(features, 2000)"
   ]
  },
  {
   "cell_type": "markdown",
   "metadata": {
    "id": "8slU9CdqHkvs"
   },
   "source": [
    "### Посмотрим на распределение числа токенов в тексте"
   ]
  },
  {
   "cell_type": "code",
   "execution_count": null,
   "metadata": {
    "colab": {
     "base_uri": "https://localhost:8080/",
     "height": 472
    },
    "id": "3H-ruoA-Hkvt",
    "outputId": "1c1d9c01-e7fa-442e-cdb0-ee93d8b2285f"
   },
   "outputs": [
    {
     "data": {
      "image/png": "[encoded data removed]",
      "text/plain": [
       "<Figure size 640x480 with 1 Axes>"
      ]
     },
     "metadata": {},
     "output_type": "display_data"
    }
   ],
   "source": [
    "plt.hist(embd.gpu_attention_mask\n",
    "         .sum(axis=1)\n",
    "         .to(embd.device_cpu),\n",
    "         bins=100\n",
    "         )\n",
    "\n",
    "plt.title('Распределение токенов в тексте')\n",
    "plt.xlabel('Число токенов')\n",
    "plt.ylabel('Количество текстов')\n",
    "plt.show()"
   ]
  },
  {
   "cell_type": "markdown",
   "metadata": {
    "id": "OwODGJOYHkvu"
   },
   "source": [
    "В большей части тексто токенов меньше 500. Токенезируем текст установив максимальным число токенов равным 512."
   ]
  },
  {
   "cell_type": "code",
   "execution_count": null,
   "metadata": {
    "colab": {
     "base_uri": "https://localhost:8080/"
    },
    "id": "HAsSBTNBHrNc",
    "outputId": "a3390ebb-be8a-4a1f-fb53-9a7c2680d1bd"
   },
   "outputs": [
    {
     "name": "stdout",
     "output_type": "stream",
     "text": [
      "tokens.shape: torch.Size([1000, 512])\n",
      "attention_mask: torch.Size([1000, 512])\n"
     ]
    }
   ],
   "source": [
    "max_token = 512\n",
    "embd.make_tokens(features, max_token)"
   ]
  },
  {
   "cell_type": "markdown",
   "metadata": {
    "id": "qXAFWSPFH1tK"
   },
   "source": [
    "### Создадим Эмбеддинги"
   ]
  },
  {
   "cell_type": "code",
   "execution_count": null,
   "metadata": {
    "colab": {
     "base_uri": "https://localhost:8080/",
     "height": 84,
     "referenced_widgets": [
      "8d08f3ba085a4fcf9711001018074beb",
      "641679b731df40d886e7f3836b2fd306",
      "af186eeaec2a4fa0adbace17ec88e473",
      "d90d64e889634508a38ed558d3faf7d0",
      "13f19aac728b4774b1b89edb7640bbd3",
      "07f8b833f9114ef2ad552253ed4b924d",
      "05d021265731421da72c2736693cafcb",
      "a58113b9382b4163bcaf6ecc5193643b",
      "ff182bbc94604ae68957a7b9ac06322e",
      "9186f75b4e694c8f8e55280331c9e42d",
      "c3923a118322483e9ec3fadd3fe0a6b2"
     ]
    },
    "id": "KyzMuZTSGZAy",
    "outputId": "19df3ca2-d691-42d9-d84f-69aaf0cf9258"
   },
   "outputs": [
    {
     "data": {
      "application/vnd.jupyter.widget-view+json": {
       "model_id": "8d08f3ba085a4fcf9711001018074beb",
       "version_major": 2,
       "version_minor": 0
      },
      "text/plain": [
       "  0%|          | 0/200 [00:00<?, ?it/s]"
      ]
     },
     "metadata": {},
     "output_type": "display_data"
    },
    {
     "name": "stdout",
     "output_type": "stream",
     "text": [
      "CPU times: user 35.5 s, sys: 388 ms, total: 35.9 s\n",
      "Wall time: 39.2 s\n"
     ]
    }
   ],
   "source": [
    "%%time\n",
    "features_name = f'features_{sample_size}_{max_token}'\n",
    "if is_make_embeddings:\n",
    "  # Если в устновили заново сгенерировать эмбеддинги\n",
    "  embd.make_embeddings(features_name)\n",
    "else:\n",
    "  # Иначе загрузаем эмбеддинги с диска\n",
    "  embd.load_features(features_name)"
   ]
  },
  {
   "cell_type": "markdown",
   "metadata": {
    "id": "Hi4Q4XtPXVoL"
   },
   "source": [
    "### Создадим класс для обучения моделей"
   ]
  },
  {
   "cell_type": "code",
   "execution_count": null,
   "metadata": {
    "id": "k-W_PwtGXh4r"
   },
   "outputs": [],
   "source": [
    "class Model_train:\n",
    "  # Для конструктора класса Model_use в качестве параметров передаем:\n",
    "  # features - признаки\n",
    "  # target - целевой признак\n",
    "  def __init__(self, features, target):\n",
    "    # Разобьем даннные на выборки\n",
    "    # Выделим тестовую выбору\n",
    "    temp_X_train, self.X_test, temp_y_train, self.y_test = train_test_split(\n",
    "        features, target, test_size=0.2,\n",
    "        random_state=RANDOM_STATE, stratify=target)\n",
    "    # Выделим обучающую и валидационную выборки.\n",
    "    # Валидационная выборка понадобится для определения порога отнесения к токсичным комментариям\n",
    "    self.X_train, self.X_valid, self.y_train, self.y_valid = train_test_split(\n",
    "        temp_X_train, temp_y_train, test_size=0.1,\n",
    "        random_state=RANDOM_STATE, stratify=temp_y_train)\n",
    "\n",
    "    #Снизим размерность признаков\n",
    "    svd = TruncatedSVD(n_components=20, random_state=RANDOM_STATE)\n",
    "    self.X_train = svd.fit_transform(self.X_train)\n",
    "    self.X_valid = svd.transform(self.X_valid)\n",
    "    self.X_test = svd.transform(self.X_test)\n",
    "\n",
    "    # Настроим разбиение на выборки для кроссвалидации\n",
    "    self.cv = StratifiedKFold(n_splits=5,\n",
    "                              random_state=RANDOM_STATE,\n",
    "                              shuffle=True)\n",
    "    # В этом списке будем сохрананять модели с лучшими параметрами\n",
    "    self.models = []\n",
    "\n",
    "\n",
    "  # objective - функция для оценки попытки (trial) обучения  модели с помощью optuna\n",
    "  def objective(self, trial):\n",
    "    params = eval(self.params)\n",
    "    # Создадим классифаер\n",
    "    classifier = self.estimator_class(**params)\n",
    "\n",
    "    # Найдем F1 score\n",
    "    result = cross_val_score(classifier,\n",
    "                              self.X_train,\n",
    "                              self.y_train,\n",
    "                              scoring='f1',\n",
    "                              cv=self.cv).mean()\n",
    "    return result\n",
    "\n",
    "\n",
    "  # param_search - метод для подбора лучших параметров модели\n",
    "  # estimator_class - класс модели для обучения\n",
    "  # params - параметры для оптуны\n",
    "  # n_trials - число проходов\n",
    "  # estimator_class_name наименование класса\n",
    "  def param_search(self, estimator_class, params, n_trials):\n",
    "\n",
    "    self.estimator_class = estimator_class\n",
    "    self.params = params\n",
    "    # Подбираем параметры\n",
    "    study = optuna.create_study(direction=\"maximize\",\n",
    "                                sampler=optuna.samplers.TPESampler(seed=RANDOM_STATE))\n",
    "    study.optimize(self.objective,\n",
    "                   n_trials = n_trials,\n",
    "                   # Убрал пока n_jobs=-1, так как параддельное выполнение дает не\n",
    "                   # повторяемость результатов\n",
    "                   # n_jobs=-1\n",
    "                   )\n",
    "\n",
    "\n",
    "    model = estimator_class(**study.best_params)\n",
    "    self.models.append(model)\n",
    "\n",
    "    # печать результатов\n",
    "    print('******************')\n",
    "    print(f'{model.__class__.__name__}:')\n",
    "    print(f'Лучшие параметры: {study.best_params}')\n",
    "    print(f'F1 модели на тренировочной выборке на лучших параметрах: {study.best_value}')\n",
    "\n",
    "\n",
    "  # compair_models Метод для сравенения качества разных моделей\n",
    "  def compair_models(self):\n",
    "    models_f1 = [] # F1 моделей\n",
    "    models_time_fit = [] # Время тренировки моделей\n",
    "    models_time_predict = [] # Время предсказания моделей\n",
    "    models_name = [] # Названия классов моделей\n",
    "    best_f1 = 0 # Лучший F1 моделей\n",
    "    self.best_model = None # Лучшая модель\n",
    "\n",
    "    for model in self.models:\n",
    "        # Добавим в список название класса модели\n",
    "        print('Оцениваем модель:', model.__class__.__name__)\n",
    "        models_name.append(model.__class__.__name__)\n",
    "\n",
    "        # Добавим в список f1 модели на обучающей выборке\n",
    "        #print('Оцениваем f1.')\n",
    "        f1 = cross_val_score(model, self.X_train, self.y_train,\n",
    "                                scoring='f1', cv=self.cv).mean()\n",
    "        if f1 > best_f1:\n",
    "          # Если нашли лучшую на данный момент модель\n",
    "          best_f1 = f1\n",
    "          self.best_model = model\n",
    "        models_f1.append(f1)\n",
    "\n",
    "        # Добавим в список время обучения модели на обучающей выборке\n",
    "        #print('Оцениваем время обучения.')\n",
    "        models_time_fit.append(timeit.timeit(\n",
    "            lambda: model.fit(self.X_train, self.y_train), number=1))\n",
    "\n",
    "        # Добавим в список время предсказания модели на обучающей выборке\n",
    "        #print('Оцениваем время предсказания.')\n",
    "        models_time_predict.append(timeit.timeit(\n",
    "            lambda: model.predict(self.X_train), number=1))\n",
    "\n",
    "    compare_df = pd.DataFrame({\n",
    "        'model': models_name,\n",
    "        'f1': np.around(models_f1, 3),\n",
    "        'time_fit': np.around(models_time_fit, 3),\n",
    "        'time_predict': np.around(models_time_predict, 3)\n",
    "    }).set_index('model')\n",
    "    display(compare_df)\n",
    "    print('Лучшая модель из найденных:', self.best_model.__class__.__name__)"
   ]
  },
  {
   "cell_type": "markdown",
   "metadata": {},
   "source": [
    "<img src=\"https://emojigraph.org/media/apple/check-mark-button_2705.png\" align=left width=33, heigth=33>\n",
    "<div class=\"alert alert-success\">\n",
    " 👍 Вижу что ты всю логику обучения и оценки моделей \"упаковал\" в один объект. На мой взгляд сложновато, но с точки зрения практики ООП - молодец! И возможно удобно с точи зрения переиспользования, подозреваю что он у тебя \"кочует\" из проекта в проект.\n",
    "\n",
    "Единственный неочевидный для меня момент - это использование SVD к эмбеддингам полученным из BERT. Я знаю что они используется в подходах BOW, а нужно ли снижение размерности здесь мне не очевидно. Однако это \"теоретический\" вопрос, и результат у тебя получен вполне адекватный.\n",
    "</div>"
   ]
  },
  {
   "cell_type": "markdown",
   "metadata": {
    "id": "-nwjZgQsaoF0"
   },
   "source": [
    "### Снизим размерность признаков"
   ]
  },
  {
   "cell_type": "code",
   "execution_count": null,
   "metadata": {
    "id": "r6d6M77maoGE"
   },
   "outputs": [],
   "source": [
    "# Снизим размерность признаков\n",
    "#svd = TruncatedSVD(n_components=20, random_state=RANDOM_STATE)\n",
    "#X_svd = svd.fit_transform(embd.X)"
   ]
  },
  {
   "cell_type": "markdown",
   "metadata": {
    "id": "yqI2V0xU33dM"
   },
   "source": [
    "### Создаем объект класса обучения моделей"
   ]
  },
  {
   "cell_type": "code",
   "execution_count": null,
   "metadata": {
    "id": "OByedZBX3zGt"
   },
   "outputs": [],
   "source": [
    "model_train = Model_train(embd.X, target)"
   ]
  },
  {
   "cell_type": "markdown",
   "metadata": {
    "id": "TsdxuC5Wipcy"
   },
   "source": [
    "### LogisticRegression"
   ]
  },
  {
   "cell_type": "code",
   "execution_count": null,
   "metadata": {
    "colab": {
     "base_uri": "https://localhost:8080/"
    },
    "id": "yVnckmN6ufPW",
    "outputId": "a7766fd8-10b5-48d5-b70a-ccaa489b5f0c"
   },
   "outputs": [
    {
     "name": "stderr",
     "output_type": "stream",
     "text": [
      "[I 2023-06-11 10:40:53,197] A new study created in memory with name: no-name-eee68ea7-1adc-4894-9607-3aa4acf013f6\n",
      "[I 2023-06-11 10:40:55,646] Trial 0 finished with value: 0.9177324264112052 and parameters: {'class_weight': 'balanced', 'max_iter': 1000, 'random_state': 12345}. Best is trial 0 with value: 0.9177324264112052.\n",
      "[I 2023-06-11 10:40:57,119] Trial 1 finished with value: 0.9177324264112052 and parameters: {'class_weight': 'balanced', 'max_iter': 1000, 'random_state': 12345}. Best is trial 0 with value: 0.9177324264112052.\n"
     ]
    },
    {
     "name": "stdout",
     "output_type": "stream",
     "text": [
      "******************\n",
      "LogisticRegression:\n",
      "Лучшие параметры: {'class_weight': 'balanced', 'max_iter': 1000, 'random_state': 12345}\n",
      "F1 модели на тренировочной выборке на лучших параметрах: 0.9177324264112052\n",
      "CPU times: user 3.77 s, sys: 2.62 s, total: 6.39 s\n",
      "Wall time: 3.93 s\n"
     ]
    }
   ],
   "source": [
    "%%time\n",
    "params = '''\n",
    "{'class_weight': trial.suggest_categorical('class_weight', ['balanced']),\n",
    "'max_iter': trial.suggest_int('max_iter', 1000, 1000),\n",
    "'random_state': trial.suggest_int('random_state', RANDOM_STATE, RANDOM_STATE)\n",
    "}\n",
    "'''\n",
    "\n",
    "model_train.param_search(\n",
    "    LogisticRegression,\n",
    "    params,\n",
    "    2)"
   ]
  },
  {
   "cell_type": "markdown",
   "metadata": {},
   "source": [
    "<img src=\"https://emojigraph.org/media/apple/check-mark-button_2705.png\" align=left width=33, heigth=33>\n",
    "<div class=\"alert alert-success\">\n",
    " 👍 </div>"
   ]
  },
  {
   "cell_type": "markdown",
   "metadata": {
    "id": "jznf43abeeSG"
   },
   "source": [
    "### LinearSVC"
   ]
  },
  {
   "cell_type": "code",
   "execution_count": null,
   "metadata": {
    "colab": {
     "base_uri": "https://localhost:8080/"
    },
    "id": "Y4SWiN9U-cVU",
    "outputId": "a3a6bcec-e97c-43c2-89de-3b2b5278bbad"
   },
   "outputs": [
    {
     "name": "stderr",
     "output_type": "stream",
     "text": [
      "[I 2023-06-11 10:40:57,144] A new study created in memory with name: no-name-c3a357ef-7fed-446f-8f51-1c9d9afec1ed\n",
      "[I 2023-06-11 10:41:13,751] Trial 0 finished with value: 0.919073289084643 and parameters: {'loss': 'hinge', 'penalty': 'l2', 'tol': 0.18391881167709445, 'C': 0.2045602785530397, 'class_weight': 'balanced', 'max_iter': 200000, 'random_state': 12345}. Best is trial 0 with value: 0.919073289084643.\n",
      "[I 2023-06-11 10:42:49,256] Trial 1 finished with value: 0.9242769269719675 and parameters: {'loss': 'squared_hinge', 'penalty': 'l2', 'tol': 0.9645145197356216, 'C': 0.6531770968715709, 'class_weight': 'balanced', 'max_iter': 200000, 'random_state': 12345}. Best is trial 1 with value: 0.9242769269719675.\n"
     ]
    },
    {
     "name": "stdout",
     "output_type": "stream",
     "text": [
      "******************\n",
      "LinearSVC:\n",
      "Лучшие параметры: {'loss': 'squared_hinge', 'penalty': 'l2', 'tol': 0.9645145197356216, 'C': 0.6531770968715709, 'class_weight': 'balanced', 'max_iter': 200000, 'random_state': 12345}\n",
      "F1 модели на тренировочной выборке на лучших параметрах: 0.9242769269719675\n",
      "CPU times: user 1min 43s, sys: 892 ms, total: 1min 44s\n",
      "Wall time: 1min 52s\n"
     ]
    }
   ],
   "source": [
    "%%time\n",
    "params = '''\n",
    "{'loss': trial.suggest_categorical('loss', ['hinge', 'squared_hinge']),\n",
    "'penalty': trial.suggest_categorical('penalty', ['l2']),\n",
    "'tol': trial.suggest_float('tol', 0, 1),\n",
    "'C': trial.suggest_float('C', 0, 1),\n",
    "'class_weight': trial.suggest_categorical('class_weight', ['balanced']),\n",
    "'max_iter': trial.suggest_int('max_iter', 200000, 200000),\n",
    "'random_state': trial.suggest_int('random_state', RANDOM_STATE, RANDOM_STATE)\n",
    "}\n",
    "'''\n",
    "\n",
    "model_train.param_search(\n",
    "    LinearSVC,\n",
    "    params,\n",
    "    2)"
   ]
  },
  {
   "cell_type": "markdown",
   "metadata": {},
   "source": [
    "<img src=\"https://emojigraph.org/media/apple/check-mark-button_2705.png\" align=left width=33, heigth=33>\n",
    "<div class=\"alert alert-success\">\n",
    " 👍 </div>"
   ]
  },
  {
   "cell_type": "markdown",
   "metadata": {
    "id": "F6p0qFD8t84I"
   },
   "source": [
    "### LGBMClassifier"
   ]
  },
  {
   "cell_type": "code",
   "execution_count": null,
   "metadata": {
    "colab": {
     "base_uri": "https://localhost:8080/"
    },
    "id": "FHuGlnv5cSgY",
    "outputId": "936187d2-2d3f-4174-d8b6-e2b4a85185da"
   },
   "outputs": [
    {
     "name": "stderr",
     "output_type": "stream",
     "text": [
      "[I 2023-06-11 10:42:49,285] A new study created in memory with name: no-name-e24c0ad5-1d03-468a-bab5-d56a94d02f21\n",
      "[I 2023-06-11 10:42:49,720] Trial 0 finished with value: 0.938503631194657 and parameters: {'num_leaves': 10, 'max_depth': 6, 'n_estimators': 13, 'learning_rate': 0.2045602785530397, 'class_weight': None, 'random_state': 12345}. Best is trial 0 with value: 0.938503631194657.\n",
      "[I 2023-06-11 10:42:50,209] Trial 1 finished with value: 0.8678053242312508 and parameters: {'num_leaves': 10, 'max_depth': 8, 'n_estimators': 25, 'learning_rate': 0.6535698708517353, 'class_weight': None, 'random_state': 12345}. Best is trial 0 with value: 0.938503631194657.\n",
      "[I 2023-06-11 10:42:50,559] Trial 2 finished with value: 0.9079076893174861 and parameters: {'num_leaves': 5, 'max_depth': 5, 'n_estimators': 16, 'learning_rate': 0.65641118308227, 'class_weight': None, 'random_state': 12345}. Best is trial 0 with value: 0.938503631194657.\n",
      "[I 2023-06-11 10:42:51,039] Trial 3 finished with value: 0.8950952916835005 and parameters: {'num_leaves': 10, 'max_depth': 9, 'n_estimators': 23, 'learning_rate': 0.7174536208124137, 'class_weight': 'balanced', 'random_state': 12345}. Best is trial 0 with value: 0.938503631194657.\n",
      "[I 2023-06-11 10:42:51,529] Trial 4 finished with value: 0.8858789735808903 and parameters: {'num_leaves': 7, 'max_depth': 9, 'n_estimators': 30, 'learning_rate': 0.67687371177377, 'class_weight': 'balanced', 'random_state': 12345}. Best is trial 0 with value: 0.938503631194657.\n"
     ]
    },
    {
     "name": "stdout",
     "output_type": "stream",
     "text": [
      "******************\n",
      "LGBMClassifier:\n",
      "Лучшие параметры: {'num_leaves': 10, 'max_depth': 6, 'n_estimators': 13, 'learning_rate': 0.2045602785530397, 'class_weight': None, 'random_state': 12345}\n",
      "F1 модели на тренировочной выборке на лучших параметрах: 0.938503631194657\n",
      "CPU times: user 2.18 s, sys: 90.6 ms, total: 2.27 s\n",
      "Wall time: 2.25 s\n"
     ]
    }
   ],
   "source": [
    "%%time\n",
    "params = '''\n",
    "{'num_leaves': trial.suggest_int('num_leaves', 5, 10),\n",
    "'max_depth': trial.suggest_int('max_depth', 5, 10),\n",
    "'n_estimators': trial.suggest_int('n_estimators', 10, 30),\n",
    "'learning_rate': trial.suggest_float('learning_rate', 0, 1),\n",
    "'class_weight': trial.suggest_categorical('class_weight', ['balanced', None]),\n",
    "'random_state': trial.suggest_int('random_state', RANDOM_STATE, RANDOM_STATE)\n",
    "}\n",
    "'''\n",
    "\n",
    "model_train.param_search(\n",
    "    LGBMClassifier,\n",
    "    params,\n",
    "    5)"
   ]
  },
  {
   "cell_type": "markdown",
   "metadata": {
    "id": "JGaZdAhhxYxl"
   },
   "source": [
    "### RandomForestClassifier"
   ]
  },
  {
   "cell_type": "code",
   "execution_count": null,
   "metadata": {
    "colab": {
     "base_uri": "https://localhost:8080/"
    },
    "id": "0FqdkQW9xYxm",
    "outputId": "edbefb6b-75da-4fe0-f9a4-de6476cd9216"
   },
   "outputs": [
    {
     "name": "stderr",
     "output_type": "stream",
     "text": [
      "[I 2023-06-11 10:42:51,559] A new study created in memory with name: no-name-ab139ddc-b5ee-4fdf-b80e-9fefb0af720d\n",
      "[I 2023-06-11 10:42:56,799] Trial 0 finished with value: 0.9368895464457268 and parameters: {'criterion': 'gini', 'max_depth': 8, 'n_estimators': 33, 'class_weight': None, 'random_state': 12345}. Best is trial 0 with value: 0.9368895464457268.\n",
      "[I 2023-06-11 10:43:08,127] Trial 1 finished with value: 0.9372710965753868 and parameters: {'criterion': 'entropy', 'max_depth': 16, 'n_estimators': 49, 'class_weight': None, 'random_state': 12345}. Best is trial 1 with value: 0.9372710965753868.\n",
      "[I 2023-06-11 10:43:15,017] Trial 2 finished with value: 0.9363931463288342 and parameters: {'criterion': 'log_loss', 'max_depth': 18, 'n_estimators': 49, 'class_weight': 'balanced', 'random_state': 12345}. Best is trial 1 with value: 0.9372710965753868.\n"
     ]
    },
    {
     "name": "stdout",
     "output_type": "stream",
     "text": [
      "******************\n",
      "RandomForestClassifier:\n",
      "Лучшие параметры: {'criterion': 'entropy', 'max_depth': 16, 'n_estimators': 49, 'class_weight': None, 'random_state': 12345}\n",
      "F1 модели на тренировочной выборке на лучших параметрах: 0.9372710965753868\n",
      "CPU times: user 22.8 s, sys: 20.4 ms, total: 22.8 s\n",
      "Wall time: 23.5 s\n"
     ]
    }
   ],
   "source": [
    "%%time\n",
    "params = '''\n",
    "{'criterion': trial.suggest_categorical('criterion', ['gini', 'entropy', 'log_loss']),\n",
    "'max_depth': trial.suggest_int('max_depth', 5, 20),\n",
    "'n_estimators': trial.suggest_int('n_estimators', 10, 50),\n",
    "'class_weight': trial.suggest_categorical('class_weight', ['balanced', None]),\n",
    "'random_state': trial.suggest_int('random_state', RANDOM_STATE, RANDOM_STATE)\n",
    "}\n",
    "'''\n",
    "\n",
    "model_train.param_search(\n",
    "    RandomForestClassifier,\n",
    "    params,\n",
    "    3)"
   ]
  },
  {
   "cell_type": "markdown",
   "metadata": {},
   "source": [
    "<img src=\"https://emojigraph.org/media/apple/check-mark-button_2705.png\" align=left width=33, heigth=33>\n",
    "<div class=\"alert alert-success\">\n",
    " 👍 </div>"
   ]
  },
  {
   "cell_type": "markdown",
   "metadata": {
    "id": "sUrwTiZDrOAA"
   },
   "source": [
    "### DummyClassifier"
   ]
  },
  {
   "cell_type": "code",
   "execution_count": null,
   "metadata": {
    "colab": {
     "base_uri": "https://localhost:8080/"
    },
    "id": "wqS7bNz0O9Yg",
    "outputId": "98f58165-2b89-45d1-ade7-29b35e26ad2b"
   },
   "outputs": [
    {
     "name": "stderr",
     "output_type": "stream",
     "text": [
      "[I 2023-06-11 10:43:15,032] A new study created in memory with name: no-name-904ae108-012e-496f-a228-5f0706951647\n",
      "[I 2023-06-11 10:43:15,065] Trial 0 finished with value: 0.0 and parameters: {'strategy': 'most_frequent', 'random_state': 12345}. Best is trial 0 with value: 0.0.\n",
      "[I 2023-06-11 10:43:15,094] Trial 1 finished with value: 0.0 and parameters: {'strategy': 'prior', 'random_state': 12345}. Best is trial 0 with value: 0.0.\n",
      "[I 2023-06-11 10:43:15,122] Trial 2 finished with value: 0.0 and parameters: {'strategy': 'prior', 'random_state': 12345}. Best is trial 0 with value: 0.0.\n",
      "[I 2023-06-11 10:43:15,151] Trial 3 finished with value: 0.17157610087838898 and parameters: {'strategy': 'uniform', 'random_state': 12345}. Best is trial 3 with value: 0.17157610087838898.\n",
      "[I 2023-06-11 10:43:15,180] Trial 4 finished with value: 0.0 and parameters: {'strategy': 'prior', 'random_state': 12345}. Best is trial 3 with value: 0.17157610087838898.\n"
     ]
    },
    {
     "name": "stdout",
     "output_type": "stream",
     "text": [
      "******************\n",
      "DummyClassifier:\n",
      "Лучшие параметры: {'strategy': 'uniform', 'random_state': 12345}\n",
      "F1 модели на тренировочной выборке на лучших параметрах: 0.17157610087838898\n",
      "CPU times: user 151 ms, sys: 855 µs, total: 152 ms\n",
      "Wall time: 152 ms\n"
     ]
    }
   ],
   "source": [
    "%%time\n",
    "params = '''\n",
    "{'strategy': trial.suggest_categorical('strategy', ['most_frequent', 'prior', 'stratified', 'uniform', 'constant']),\n",
    "'random_state': trial.suggest_int('random_state', RANDOM_STATE, RANDOM_STATE)\n",
    "}\n",
    "'''\n",
    "model_train.param_search(\n",
    "    DummyClassifier,\n",
    "    params,\n",
    "    5)"
   ]
  },
  {
   "cell_type": "markdown",
   "metadata": {},
   "source": [
    "<img src=\"https://emojigraph.org/media/apple/check-mark-button_2705.png\" align=left width=33, heigth=33>\n",
    "<div class=\"alert alert-success\">\n",
    " 👍 </div>"
   ]
  },
  {
   "cell_type": "markdown",
   "metadata": {
    "id": "Pi8Sv3YpyPlS"
   },
   "source": [
    "### Сравнение моделей"
   ]
  },
  {
   "cell_type": "code",
   "execution_count": null,
   "metadata": {
    "colab": {
     "base_uri": "https://localhost:8080/",
     "height": 385
    },
    "id": "xgf-tniVyZNx",
    "outputId": "259e5248-04ac-4113-87dc-be9621d488cd",
    "scrolled": true
   },
   "outputs": [
    {
     "name": "stdout",
     "output_type": "stream",
     "text": [
      "Оцениваем модель: LogisticRegression\n",
      "Оцениваем модель: LinearSVC\n",
      "Оцениваем модель: LGBMClassifier\n",
      "Оцениваем модель: RandomForestClassifier\n",
      "Оцениваем модель: DummyClassifier\n"
     ]
    },
    {
     "data": {
      "text/html": [
       "\n",
       "  <div id=\"df-a2e75393-ea63-499f-a05c-0a0da4e70c92\">\n",
       "    <div class=\"colab-df-container\">\n",
       "      <div>\n",
       "<style scoped>\n",
       "    .dataframe tbody tr th:only-of-type {\n",
       "        vertical-align: middle;\n",
       "    }\n",
       "\n",
       "    .dataframe tbody tr th {\n",
       "        vertical-align: top;\n",
       "    }\n",
       "\n",
       "    .dataframe thead th {\n",
       "        text-align: right;\n",
       "    }\n",
       "</style>\n",
       "<table border=\"1\" class=\"dataframe\">\n",
       "  <thead>\n",
       "    <tr style=\"text-align: right;\">\n",
       "      <th></th>\n",
       "      <th>f1</th>\n",
       "      <th>time_fit</th>\n",
       "      <th>time_predict</th>\n",
       "    </tr>\n",
       "    <tr>\n",
       "      <th>model</th>\n",
       "      <th></th>\n",
       "      <th></th>\n",
       "      <th></th>\n",
       "    </tr>\n",
       "  </thead>\n",
       "  <tbody>\n",
       "    <tr>\n",
       "      <th>LogisticRegression</th>\n",
       "      <td>0.918</td>\n",
       "      <td>0.324</td>\n",
       "      <td>0.001</td>\n",
       "    </tr>\n",
       "    <tr>\n",
       "      <th>LinearSVC</th>\n",
       "      <td>0.924</td>\n",
       "      <td>24.824</td>\n",
       "      <td>0.001</td>\n",
       "    </tr>\n",
       "    <tr>\n",
       "      <th>LGBMClassifier</th>\n",
       "      <td>0.939</td>\n",
       "      <td>0.077</td>\n",
       "      <td>0.005</td>\n",
       "    </tr>\n",
       "    <tr>\n",
       "      <th>RandomForestClassifier</th>\n",
       "      <td>0.937</td>\n",
       "      <td>2.411</td>\n",
       "      <td>0.048</td>\n",
       "    </tr>\n",
       "    <tr>\n",
       "      <th>DummyClassifier</th>\n",
       "      <td>0.172</td>\n",
       "      <td>0.001</td>\n",
       "      <td>0.000</td>\n",
       "    </tr>\n",
       "  </tbody>\n",
       "</table>\n",
       "</div>\n",
       "      <button class=\"colab-df-convert\" onclick=\"convertToInteractive('df-a2e75393-ea63-499f-a05c-0a0da4e70c92')\"\n",
       "              title=\"Convert this dataframe to an interactive table.\"\n",
       "              style=\"display:none;\">\n",
       "        \n",
       "  <svg xmlns=\"http://www.w3.org/2000/svg\" height=\"24px\"viewBox=\"0 0 24 24\"\n",
       "       width=\"24px\">\n",
       "    <path d=\"M0 0h24v24H0V0z\" fill=\"none\"/>\n",
       "    <path d=\"M18.56 5.44l.94 2.06.94-2.06 2.06-.94-2.06-.94-.94-2.06-.94 2.06-2.06.94zm-11 1L8.5 8.5l.94-2.06 2.06-.94-2.06-.94L8.5 2.5l-.94 2.06-2.06.94zm10 10l.94 2.06.94-2.06 2.06-.94-2.06-.94-.94-2.06-.94 2.06-2.06.94z\"/><path d=\"M17.41 7.96l-1.37-1.37c-.4-.4-.92-.59-1.43-.59-.52 0-1.04.2-1.43.59L10.3 9.45l-7.72 7.72c-.78.78-.78 2.05 0 2.83L4 21.41c.39.39.9.59 1.41.59.51 0 1.02-.2 1.41-.59l7.78-7.78 2.81-2.81c.8-.78.8-2.07 0-2.86zM5.41 20L4 18.59l7.72-7.72 1.47 1.35L5.41 20z\"/>\n",
       "  </svg>\n",
       "      </button>\n",
       "      \n",
       "  <style>\n",
       "    .colab-df-container {\n",
       "      display:flex;\n",
       "      flex-wrap:wrap;\n",
       "      gap: 12px;\n",
       "    }\n",
       "\n",
       "    .colab-df-convert {\n",
       "      background-color: #E8F0FE;\n",
       "      border: none;\n",
       "      border-radius: 50%;\n",
       "      cursor: pointer;\n",
       "      display: none;\n",
       "      fill: #1967D2;\n",
       "      height: 32px;\n",
       "      padding: 0 0 0 0;\n",
       "      width: 32px;\n",
       "    }\n",
       "\n",
       "    .colab-df-convert:hover {\n",
       "      background-color: #E2EBFA;\n",
       "      box-shadow: 0px 1px 2px rgba(60, 64, 67, 0.3), 0px 1px 3px 1px rgba(60, 64, 67, 0.15);\n",
       "      fill: #174EA6;\n",
       "    }\n",
       "\n",
       "    [theme=dark] .colab-df-convert {\n",
       "      background-color: #3B4455;\n",
       "      fill: #D2E3FC;\n",
       "    }\n",
       "\n",
       "    [theme=dark] .colab-df-convert:hover {\n",
       "      background-color: #434B5C;\n",
       "      box-shadow: 0px 1px 3px 1px rgba(0, 0, 0, 0.15);\n",
       "      filter: drop-shadow(0px 1px 2px rgba(0, 0, 0, 0.3));\n",
       "      fill: #FFFFFF;\n",
       "    }\n",
       "  </style>\n",
       "\n",
       "      <script>\n",
       "        const buttonEl =\n",
       "          document.querySelector('#df-a2e75393-ea63-499f-a05c-0a0da4e70c92 button.colab-df-convert');\n",
       "        buttonEl.style.display =\n",
       "          google.colab.kernel.accessAllowed ? 'block' : 'none';\n",
       "\n",
       "        async function convertToInteractive(key) {\n",
       "          const element = document.querySelector('#df-a2e75393-ea63-499f-a05c-0a0da4e70c92');\n",
       "          const dataTable =\n",
       "            await google.colab.kernel.invokeFunction('convertToInteractive',\n",
       "                                                     [key], {});\n",
       "          if (!dataTable) return;\n",
       "\n",
       "          const docLinkHtml = 'Like what you see? Visit the ' +\n",
       "            '<a target=\"_blank\" href=https://colab.research.google.com/notebooks/data_table.ipynb>data table notebook</a>'\n",
       "            + ' to learn more about interactive tables.';\n",
       "          element.innerHTML = '';\n",
       "          dataTable['output_type'] = 'display_data';\n",
       "          await google.colab.output.renderOutput(dataTable, element);\n",
       "          const docLink = document.createElement('div');\n",
       "          docLink.innerHTML = docLinkHtml;\n",
       "          element.appendChild(docLink);\n",
       "        }\n",
       "      </script>\n",
       "    </div>\n",
       "  </div>\n",
       "  "
      ],
      "text/plain": [
       "                           f1  time_fit  time_predict\n",
       "model                                                \n",
       "LogisticRegression      0.918     0.324         0.001\n",
       "LinearSVC               0.924    24.824         0.001\n",
       "LGBMClassifier          0.939     0.077         0.005\n",
       "RandomForestClassifier  0.937     2.411         0.048\n",
       "DummyClassifier         0.172     0.001         0.000"
      ]
     },
     "metadata": {},
     "output_type": "display_data"
    },
    {
     "name": "stdout",
     "output_type": "stream",
     "text": [
      "Лучшая модель из найденных: LGBMClassifier\n",
      "CPU times: user 2min 2s, sys: 1.99 s, total: 2min 4s\n",
      "Wall time: 2min 3s\n"
     ]
    }
   ],
   "source": [
    "%%time\n",
    "model_train.compair_models()"
   ]
  },
  {
   "cell_type": "markdown",
   "metadata": {
    "id": "jsdhCzM92J27"
   },
   "source": [
    "Лучшей моделью по итогам сравнения оказался LGBMClassifier"
   ]
  },
  {
   "cell_type": "markdown",
   "metadata": {},
   "source": [
    "<img src=\"https://emojigraph.org/media/apple/check-mark-button_2705.png\" align=left width=33, heigth=33>\n",
    "<div class=\"alert alert-success\">\n",
    " 👍 </div>"
   ]
  },
  {
   "cell_type": "markdown",
   "metadata": {
    "id": "HCwTY9KdaJnG"
   },
   "source": [
    "### Порог отнесения к токсичным комментариям.\n",
    "Так как желательно отправить на модерацию по возможности большее число токсичных комментарии, при условии что это не сильно увеличит общее число комментариев для модерации. Поэтому дополнительно посмотрим, что произойдет если изменить порог отнесения комментариев к токсичным."
   ]
  },
  {
   "cell_type": "code",
   "execution_count": null,
   "metadata": {
    "colab": {
     "base_uri": "https://localhost:8080/"
    },
    "id": "c_ILw-qXabqM",
    "outputId": "4d741561-0c58-4931-bb28-2c378c6f790c"
   },
   "outputs": [
    {
     "name": "stdout",
     "output_type": "stream",
     "text": [
      "Порог: 0.0  F1: 0.19\n",
      "[[   0 1145]\n",
      " [   0  130]]\n",
      "Порог: 0.05  F1: 0.88\n",
      "[[1112   33]\n",
      " [   1  129]]\n",
      "Порог: 0.1  F1: 0.9\n",
      "[[1121   24]\n",
      " [   3  127]]\n",
      "Порог: 0.15  F1: 0.91\n",
      "[[1124   21]\n",
      " [   3  127]]\n",
      "Порог: 0.2  F1: 0.92\n",
      "[[1129   16]\n",
      " [   6  124]]\n",
      "Порог: 0.25  F1: 0.93\n",
      "[[1132   13]\n",
      " [   6  124]]\n",
      "Порог: 0.3  F1: 0.93\n",
      "[[1132   13]\n",
      " [   6  124]]\n",
      "Порог: 0.35  F1: 0.93\n",
      "[[1133   12]\n",
      " [   6  124]]\n",
      "Порог: 0.4  F1: 0.94\n",
      "[[1135   10]\n",
      " [   7  123]]\n",
      "Порог: 0.45  F1: 0.93\n",
      "[[1136    9]\n",
      " [   8  122]]\n",
      "Порог: 0.5  F1: 0.93\n",
      "[[1136    9]\n",
      " [   8  122]]\n",
      "Порог: 0.55  F1: 0.94\n",
      "[[1138    7]\n",
      " [   8  122]]\n"
     ]
    }
   ],
   "source": [
    "# в y_pred попадет вероятность отнесения к не токсичным и токсичным комментариям.\n",
    "try:\n",
    "  # Для остальных\n",
    "  y_pred = model_train.best_model.decision_function(model_train.X_valid)\n",
    "except:\n",
    "  # Для RandomForestClassifier\n",
    "  y_pred = model_train.best_model.predict_proba(model_train.X_valid)\n",
    "\n",
    "for threshold in np.arange(0.0, 0.6, 0.05):\n",
    "  try:\n",
    "    # Для остальных\n",
    "    y_pred_thresholded = (y_pred[:,1] > threshold).astype(int)\n",
    "  except:\n",
    "    # Для LogisticRegression\n",
    "    y_pred_thresholded = (y_pred > threshold).astype(int)\n",
    "\n",
    "  print(f'Порог: {threshold:.3}  F1: {f1_score(model_train.y_valid, y_pred_thresholded):.2}')\n",
    "  print(confusion_matrix(model_train.y_valid, y_pred_thresholded))"
   ]
  },
  {
   "cell_type": "code",
   "execution_count": null,
   "metadata": {
    "id": "mnjblTrK-H4-"
   },
   "outputs": [],
   "source": [
    "y_pred_thresholded = (y_pred > 0.2).astype(int)"
   ]
  },
  {
   "cell_type": "markdown",
   "metadata": {
    "id": "nM3LhDsCfJrY"
   },
   "source": [
    "Видим, что при использовании порога равным 0.15 число токсичных комментариев существенно снизилось. По сравнению со стандартным порогом 0.5. При этом, общее число комментариев отправленных на модерацию увеличилось не значительно, а осталась в пределах требований заказчика.\n",
    "\n",
    "Данный порог можно варьировать для нахождения баланса между дополнительными трудозатратами на модерацию, и другими проблемами для пользователей, которые связаны с модераций, с одной стороны, и не отправлением на модерацию токсичных комментариев, которые в действительности токсичны."
   ]
  },
  {
   "cell_type": "markdown",
   "metadata": {},
   "source": [
    "<img src=\"https://emojigraph.org/media/apple/check-mark-button_2705.png\" align=left width=33, heigth=33>\n",
    "<div class=\"alert alert-success\">\n",
    " 👍 </div>"
   ]
  },
  {
   "cell_type": "markdown",
   "metadata": {
    "id": "JM5UcC6W0RYH"
   },
   "source": [
    "## Тестирование"
   ]
  },
  {
   "cell_type": "markdown",
   "metadata": {
    "id": "7ZGpEfX0T6yf"
   },
   "source": [
    "Проведем тестирование лучшей модели на тестовой выборке"
   ]
  },
  {
   "cell_type": "code",
   "execution_count": null,
   "metadata": {
    "colab": {
     "base_uri": "https://localhost:8080/"
    },
    "id": "YvJfCisA09pv",
    "outputId": "733f99ff-a496-416b-d9b5-f31847f868a6"
   },
   "outputs": [
    {
     "name": "stdout",
     "output_type": "stream",
     "text": [
      "Модель: LGBMClassifier\n",
      "F1 на тестовой выборке: 0.94\n"
     ]
    }
   ],
   "source": [
    "model_train.best_model.fit(model_train.X_train, model_train.y_train)\n",
    "prediction = model_train.best_model.predict(model_train.X_test)\n",
    "\n",
    "# Выводим метрику f1 на тестовой выборке\n",
    "f1 = f1_score(model_train.y_test, prediction)\n",
    "print('Модель:', model_train.best_model.__class__.__name__)\n",
    "print(f'F1 на тестовой выборке: {f1:.2}')"
   ]
  },
  {
   "cell_type": "markdown",
   "metadata": {
    "id": "5jmiialLUfIP"
   },
   "source": [
    "Показатель F1, равный 0.94 соответствует требованиям заказчика: \"значением метрики качества F1 не меньше 0.75\""
   ]
  },
  {
   "cell_type": "markdown",
   "metadata": {},
   "source": [
    "<img src=\"https://emojigraph.org/media/apple/check-mark-button_2705.png\" align=left width=33, heigth=33>\n",
    "<div class=\"alert alert-success\">\n",
    "Молодец: \n",
    "    \n",
    "  - выбрана лучшая модель\n",
    "  - тестирование произведено корректно \n",
    "  - достигнута метрика f1 выше 0,75 на тестовой выборке\n",
    "</div>\n"
   ]
  },
  {
   "cell_type": "markdown",
   "metadata": {
    "id": "LLojQjgSVDmL"
   },
   "source": [
    "### Анализ дополнительных параметров и остатков"
   ]
  },
  {
   "cell_type": "code",
   "execution_count": null,
   "metadata": {
    "colab": {
     "base_uri": "https://localhost:8080/",
     "height": 689
    },
    "id": "t5z1RzS92aPW",
    "outputId": "6e80b94a-a210-43ea-c832-69f147f78667"
   },
   "outputs": [
    {
     "name": "stdout",
     "output_type": "stream",
     "text": [
      "Метрики LGBMClassifier:\n",
      "              precision    recall  f1-score   support\n",
      "\n",
      "           0       0.99      0.99      0.99      2862\n",
      "           1       0.94      0.95      0.94       324\n",
      "\n",
      "    accuracy                           0.99      3186\n",
      "   macro avg       0.97      0.97      0.97      3186\n",
      "weighted avg       0.99      0.99      0.99      3186\n",
      "\n",
      "\n",
      "\n",
      "Матрица ошибок:\n"
     ]
    },
    {
     "data": {
      "image/png": "[encoded data removed]",
      "text/plain": [
       "<Figure size 640x480 with 2 Axes>"
      ]
     },
     "metadata": {},
     "output_type": "display_data"
    }
   ],
   "source": [
    "print(f'Метрики {model_train.best_model.__class__.__name__}:\\n'\n",
    "      f'{classification_report(model_train.y_test, prediction)}\\n'\n",
    ")\n",
    "print(f'\\nМатрица ошибок:')\n",
    "ConfusionMatrixDisplay(confusion_matrix(model_train.y_test, prediction)).plot();"
   ]
  },
  {
   "cell_type": "markdown",
   "metadata": {
    "id": "h6LECCQjZuws"
   },
   "source": [
    "### Установка порога для токсичных комментариев\n",
    "Установим порог для отнесения к токсичным комментариям равным 0.15. Данный порог был предположен как оптимальный во время обучения моделей."
   ]
  },
  {
   "cell_type": "code",
   "execution_count": null,
   "metadata": {
    "colab": {
     "base_uri": "https://localhost:8080/",
     "height": 726
    },
    "id": "4PcHxYkoR965",
    "outputId": "8c6ecebb-815f-458d-f01a-349cc9d7714d"
   },
   "outputs": [
    {
     "name": "stdout",
     "output_type": "stream",
     "text": [
      "Модель: LGBMClassifier с применением порога 0.15\n",
      "F1 на тестовой выборке: 0.94\n",
      "Метрики LGBMClassifier:\n",
      "              precision    recall  f1-score   support\n",
      "\n",
      "           0       1.00      0.99      0.99      2862\n",
      "           1       0.89      0.99      0.94       324\n",
      "\n",
      "    accuracy                           0.99      3186\n",
      "   macro avg       0.94      0.99      0.96      3186\n",
      "weighted avg       0.99      0.99      0.99      3186\n",
      "\n",
      "\n",
      "\n",
      "Матрица ошибок:\n"
     ]
    },
    {
     "data": {
      "image/png": "[encoded data removed]",
      "text/plain": [
       "<Figure size 640x480 with 2 Axes>"
      ]
     },
     "metadata": {},
     "output_type": "display_data"
    }
   ],
   "source": [
    "try:\n",
    "  # Для LinearSVC\n",
    "  y_pred = model_train.best_model.decision_function(model_train.X_test)\n",
    "except:\n",
    "  # Для RandomForestClassifier\n",
    "  y_pred = model_train.best_model.predict_proba(model_train.X_test)\n",
    "\n",
    "thresholded = 0.15\n",
    "\n",
    "try:\n",
    "  # Для остальных\n",
    "  y_pred_thresholded = (y_pred[:,1] >= thresholded).astype(int)\n",
    "except:\n",
    "  # Для LogisticRegression\n",
    "  y_pred_thresholded = (y_pred >= thresholded).astype(int)\n",
    "\n",
    "# Выводим метрику f1 на тестовой выборке\n",
    "f1 = f1_score(model_train.y_test, y_pred_thresholded)\n",
    "print('Модель:', model_train.best_model.__class__.__name__, f'с применением порога {thresholded}')\n",
    "print(f'F1 на тестовой выборке: {f1:.2}')\n",
    "\n",
    "print(f'Метрики {model_train.best_model.__class__.__name__}:\\n'\n",
    "      f'{classification_report(model_train.y_test, y_pred_thresholded)}\\n'\n",
    ")\n",
    "print(f'\\nМатрица ошибок:')\n",
    "ConfusionMatrixDisplay(confusion_matrix(model_train.y_test, y_pred_thresholded)).plot();"
   ]
  },
  {
   "cell_type": "markdown",
   "metadata": {
    "id": "h0BNKXIQhdhq"
   },
   "source": [
    "При применении пониженного порога отсечения комментариев к токсичным метрика F1 осталась в пределах допустимого. общее число комментариев отправленных на модерацию изменилось не значительно, а значит не вызовет значительных дополнительных трудозатрат. В то же время, на тестовой выборке не обнаруженными оказалось 4 токсичных комментариев вместо 15. Таким образом, не был обнаружен только 1% токсичных комментариев."
   ]
  },
  {
   "cell_type": "markdown",
   "metadata": {
    "id": "y0XCnlv4gjTZ"
   },
   "source": [
    "## Выводы\n",
    "\n",
    "**Загрузка и подготовка данных**\n",
    "\n",
    "Данные были успешно загружены. В данных не было пропусков, дубликатов, были замечены сохраненные индексы и они были удалены. С целью сокращения времени обучения было извлечено 10% случайных строк из всех данных, с сохранением баланса целевого класса.\n",
    "\n",
    "Был проведен частотный анализ текстов и сделано облако слов. Видим, что часто использеумые слова различаются в токсичных и не токсичных комментариях.\n",
    "\n",
    "**Обучение**\n",
    "\n",
    "* Была проведена токенизация текстов сообщений, а затем созданы эмбеддинги с использованием предобученной модели 'unitary/toxic-bert'.\n",
    "* Были созданы признаки на основе эмбеддингов\n",
    "* Была снижена размерность признаков с помощью TruncatedSVD, с целью ускорить обучения моделей.\n",
    "* После подбора гиперпараметров для различных моделей были получены следующие результаты:\n",
    "\n",
    "|model|f1|time\\_fit|time\\_predict|\n",
    "|---|---|---|---|\n",
    "|LogisticRegression|0\\.941|0\\.297|0\\.001|\n",
    "|LinearSVC|0\\.939|4\\.024|0\\.003|\n",
    "|LGBMClassifier|0\\.938|0\\.076|0\\.006|\n",
    "|RandomForestClassifier|0\\.943|2\\.121|0\\.045|\n",
    "|DummyClassifier|0\\.172|0\\.001|0\\.0|\n",
    "\n",
    "* Был исследован вопрос о влиянии на эффективность отнесения к токсичным комментариям при помощи изменения порога отнесения к целевому классу. По результатам исследования было решено относить к токсичным комментариям, те комментарии, у которыз порог превышает 0.2. В случае, если заказчиком будет принято решение о том, что для него является приемлемым некоторое увеличение трудозатрат на модерацию, с целью обнаружить большее число токсичных комментариев.\n",
    "\n",
    "**Тестирование**\n",
    "\n",
    "Лучшая модель была протестирована на тестовой выборке. Показатель F1, равный 0.94 соответствует требованиям заказчика: \"значением метрики качества F1 не меньше 0.75\". При этом примерно 94% токсичных комментариев были обнаружены и отправлены на модерацию.\n",
    "\n",
    "При условии применения порога в 0.15 в тестовой выборке было обнаружено около 99% токсичных комментариев и отправлено на модерацию. При этом некоторое небольшое дополнительное количество не токсичных комментариев было отправлено на модерацию. Общее число комментариев на модерацию увеличилось менее чем на 10%.\n"
   ]
  },
  {
   "cell_type": "markdown",
   "metadata": {},
   "source": [
    "<img src=\"https://emojigraph.org/media/apple/check-mark-button_2705.png\" align=left width=33, heigth=33>\n",
    "<div class=\"alert alert-success\">\n",
    "Очень подробные и содержательные итоги проекта\n",
    "</div>\n"
   ]
  },
  {
   "cell_type": "markdown",
   "metadata": {
    "id": "Mso5Nx0pgjTc"
   },
   "source": [
    "## Чек-лист проверки"
   ]
  },
  {
   "cell_type": "markdown",
   "metadata": {
    "id": "2djSvIrxgjTd"
   },
   "source": [
    "- [x]  Jupyter Notebook открыт\n",
    "- [x]  Весь код выполняется без ошибок\n",
    "- [x]  Ячейки с кодом расположены в порядке исполнения\n",
    "- [x]  Данные загружены и подготовлены\n",
    "- [x]  Модели обучены\n",
    "- [x]  Значение метрики *F1* не меньше 0.75\n",
    "- [x]  Выводы написаны"
   ]
  },
  {
   "cell_type": "code",
   "execution_count": null,
   "metadata": {},
   "outputs": [],
   "source": []
  }
 ],
 "metadata": {
  "colab": {
   "gpuType": "T4",
   "provenance": []
  },
  "kernelspec": {
   "display_name": "Python 3 (ipykernel)",
   "language": "python",
   "name": "python3"
  },
  "language_info": {
   "codemirror_mode": {
    "name": "ipython",
    "version": 3
   },
   "file_extension": ".py",
   "mimetype": "text/x-python",
   "name": "python",
   "nbconvert_exporter": "python",
   "pygments_lexer": "ipython3",
   "version": "3.9.5"
  },
  "toc": {
   "base_numbering": 1,
   "nav_menu": {},
   "number_sections": true,
   "sideBar": true,
   "skip_h1_title": true,
   "title_cell": "Содержание",
   "title_sidebar": "Contents",
   "toc_cell": true,
   "toc_position": {
    "height": "calc(100% - 180px)",
    "left": "10px",
    "top": "150px",
    "width": "302.391px"
   },
   "toc_section_display": true,
   "toc_window_display": false
  },
  "widgets": {
   "application/vnd.jupyter.widget-state+json": {
    "02d3ced69e1e4dfaa873602a81bcadd8": {
     "model_module": "@jupyter-widgets/controls",
     "model_module_version": "1.5.0",
     "model_name": "HTMLModel",
     "state": {
      "_dom_classes": [],
      "_model_module": "@jupyter-widgets/controls",
      "_model_module_version": "1.5.0",
      "_model_name": "HTMLModel",
      "_view_count": null,
      "_view_module": "@jupyter-widgets/controls",
      "_view_module_version": "1.5.0",
      "_view_name": "HTMLView",
      "description": "",
      "description_tooltip": null,
      "layout": "IPY_MODEL_64e9181b28fb42918baee55815849a30",
      "placeholder": "​",
      "style": "IPY_MODEL_f20647b05aa149aa829c9fd9137b540f",
      "value": "Downloading pytorch_model.bin: 100%"
     }
    },
    "05d021265731421da72c2736693cafcb": {
     "model_module": "@jupyter-widgets/controls",
     "model_module_version": "1.5.0",
     "model_name": "DescriptionStyleModel",
     "state": {
      "_model_module": "@jupyter-widgets/controls",
      "_model_module_version": "1.5.0",
      "_model_name": "DescriptionStyleModel",
      "_view_count": null,
      "_view_module": "@jupyter-widgets/base",
      "_view_module_version": "1.2.0",
      "_view_name": "StyleView",
      "description_width": ""
     }
    },
    "07f8b833f9114ef2ad552253ed4b924d": {
     "model_module": "@jupyter-widgets/base",
     "model_module_version": "1.2.0",
     "model_name": "LayoutModel",
     "state": {
      "_model_module": "@jupyter-widgets/base",
      "_model_module_version": "1.2.0",
      "_model_name": "LayoutModel",
      "_view_count": null,
      "_view_module": "@jupyter-widgets/base",
      "_view_module_version": "1.2.0",
      "_view_name": "LayoutView",
      "align_content": null,
      "align_items": null,
      "align_self": null,
      "border": null,
      "bottom": null,
      "display": null,
      "flex": null,
      "flex_flow": null,
      "grid_area": null,
      "grid_auto_columns": null,
      "grid_auto_flow": null,
      "grid_auto_rows": null,
      "grid_column": null,
      "grid_gap": null,
      "grid_row": null,
      "grid_template_areas": null,
      "grid_template_columns": null,
      "grid_template_rows": null,
      "height": null,
      "justify_content": null,
      "justify_items": null,
      "left": null,
      "margin": null,
      "max_height": null,
      "max_width": null,
      "min_height": null,
      "min_width": null,
      "object_fit": null,
      "object_position": null,
      "order": null,
      "overflow": null,
      "overflow_x": null,
      "overflow_y": null,
      "padding": null,
      "right": null,
      "top": null,
      "visibility": null,
      "width": null
     }
    },
    "09fed9aef24140769c6e60d21e8a72fa": {
     "model_module": "@jupyter-widgets/base",
     "model_module_version": "1.2.0",
     "model_name": "LayoutModel",
     "state": {
      "_model_module": "@jupyter-widgets/base",
      "_model_module_version": "1.2.0",
      "_model_name": "LayoutModel",
      "_view_count": null,
      "_view_module": "@jupyter-widgets/base",
      "_view_module_version": "1.2.0",
      "_view_name": "LayoutView",
      "align_content": null,
      "align_items": null,
      "align_self": null,
      "border": null,
      "bottom": null,
      "display": null,
      "flex": null,
      "flex_flow": null,
      "grid_area": null,
      "grid_auto_columns": null,
      "grid_auto_flow": null,
      "grid_auto_rows": null,
      "grid_column": null,
      "grid_gap": null,
      "grid_row": null,
      "grid_template_areas": null,
      "grid_template_columns": null,
      "grid_template_rows": null,
      "height": null,
      "justify_content": null,
      "justify_items": null,
      "left": null,
      "margin": null,
      "max_height": null,
      "max_width": null,
      "min_height": null,
      "min_width": null,
      "object_fit": null,
      "object_position": null,
      "order": null,
      "overflow": null,
      "overflow_x": null,
      "overflow_y": null,
      "padding": null,
      "right": null,
      "top": null,
      "visibility": null,
      "width": null
     }
    },
    "0ad8c50249db4b1e8cd95121b3f340df": {
     "model_module": "@jupyter-widgets/controls",
     "model_module_version": "1.5.0",
     "model_name": "DescriptionStyleModel",
     "state": {
      "_model_module": "@jupyter-widgets/controls",
      "_model_module_version": "1.5.0",
      "_model_name": "DescriptionStyleModel",
      "_view_count": null,
      "_view_module": "@jupyter-widgets/base",
      "_view_module_version": "1.2.0",
      "_view_name": "StyleView",
      "description_width": ""
     }
    },
    "0d7c2322001f410c97d36420b848b9cb": {
     "model_module": "@jupyter-widgets/base",
     "model_module_version": "1.2.0",
     "model_name": "LayoutModel",
     "state": {
      "_model_module": "@jupyter-widgets/base",
      "_model_module_version": "1.2.0",
      "_model_name": "LayoutModel",
      "_view_count": null,
      "_view_module": "@jupyter-widgets/base",
      "_view_module_version": "1.2.0",
      "_view_name": "LayoutView",
      "align_content": null,
      "align_items": null,
      "align_self": null,
      "border": null,
      "bottom": null,
      "display": null,
      "flex": null,
      "flex_flow": null,
      "grid_area": null,
      "grid_auto_columns": null,
      "grid_auto_flow": null,
      "grid_auto_rows": null,
      "grid_column": null,
      "grid_gap": null,
      "grid_row": null,
      "grid_template_areas": null,
      "grid_template_columns": null,
      "grid_template_rows": null,
      "height": null,
      "justify_content": null,
      "justify_items": null,
      "left": null,
      "margin": null,
      "max_height": null,
      "max_width": null,
      "min_height": null,
      "min_width": null,
      "object_fit": null,
      "object_position": null,
      "order": null,
      "overflow": null,
      "overflow_x": null,
      "overflow_y": null,
      "padding": null,
      "right": null,
      "top": null,
      "visibility": null,
      "width": null
     }
    },
    "115a33c4239a413fa33610ae138b3f26": {
     "model_module": "@jupyter-widgets/controls",
     "model_module_version": "1.5.0",
     "model_name": "ProgressStyleModel",
     "state": {
      "_model_module": "@jupyter-widgets/controls",
      "_model_module_version": "1.5.0",
      "_model_name": "ProgressStyleModel",
      "_view_count": null,
      "_view_module": "@jupyter-widgets/base",
      "_view_module_version": "1.2.0",
      "_view_name": "StyleView",
      "bar_color": null,
      "description_width": ""
     }
    },
    "13f19aac728b4774b1b89edb7640bbd3": {
     "model_module": "@jupyter-widgets/base",
     "model_module_version": "1.2.0",
     "model_name": "LayoutModel",
     "state": {
      "_model_module": "@jupyter-widgets/base",
      "_model_module_version": "1.2.0",
      "_model_name": "LayoutModel",
      "_view_count": null,
      "_view_module": "@jupyter-widgets/base",
      "_view_module_version": "1.2.0",
      "_view_name": "LayoutView",
      "align_content": null,
      "align_items": null,
      "align_self": null,
      "border": null,
      "bottom": null,
      "display": null,
      "flex": null,
      "flex_flow": null,
      "grid_area": null,
      "grid_auto_columns": null,
      "grid_auto_flow": null,
      "grid_auto_rows": null,
      "grid_column": null,
      "grid_gap": null,
      "grid_row": null,
      "grid_template_areas": null,
      "grid_template_columns": null,
      "grid_template_rows": null,
      "height": null,
      "justify_content": null,
      "justify_items": null,
      "left": null,
      "margin": null,
      "max_height": null,
      "max_width": null,
      "min_height": null,
      "min_width": null,
      "object_fit": null,
      "object_position": null,
      "order": null,
      "overflow": null,
      "overflow_x": null,
      "overflow_y": null,
      "padding": null,
      "right": null,
      "top": null,
      "visibility": null,
      "width": null
     }
    },
    "1580d7d2bb144c9ea9383df8863f30bf": {
     "model_module": "@jupyter-widgets/controls",
     "model_module_version": "1.5.0",
     "model_name": "HTMLModel",
     "state": {
      "_dom_classes": [],
      "_model_module": "@jupyter-widgets/controls",
      "_model_module_version": "1.5.0",
      "_model_name": "HTMLModel",
      "_view_count": null,
      "_view_module": "@jupyter-widgets/controls",
      "_view_module_version": "1.5.0",
      "_view_name": "HTMLView",
      "description": "",
      "description_tooltip": null,
      "layout": "IPY_MODEL_09fed9aef24140769c6e60d21e8a72fa",
      "placeholder": "​",
      "style": "IPY_MODEL_73bc48e4851c4fa39f8833d5ac0d1cd3",
      "value": "Downloading (…)okenizer_config.json: 100%"
     }
    },
    "1a301cdc280248acb64dab43008d305b": {
     "model_module": "@jupyter-widgets/controls",
     "model_module_version": "1.5.0",
     "model_name": "HTMLModel",
     "state": {
      "_dom_classes": [],
      "_model_module": "@jupyter-widgets/controls",
      "_model_module_version": "1.5.0",
      "_model_name": "HTMLModel",
      "_view_count": null,
      "_view_module": "@jupyter-widgets/controls",
      "_view_module_version": "1.5.0",
      "_view_name": "HTMLView",
      "description": "",
      "description_tooltip": null,
      "layout": "IPY_MODEL_1b7cc56059a4458ab80ddee1a253f26e",
      "placeholder": "​",
      "style": "IPY_MODEL_41360dd11f73460197ecedcdf52ca132",
      "value": " 438M/438M [00:06&lt;00:00, 55.9MB/s]"
     }
    },
    "1b08f039e2a24089a6d2a05e5774e362": {
     "model_module": "@jupyter-widgets/controls",
     "model_module_version": "1.5.0",
     "model_name": "HBoxModel",
     "state": {
      "_dom_classes": [],
      "_model_module": "@jupyter-widgets/controls",
      "_model_module_version": "1.5.0",
      "_model_name": "HBoxModel",
      "_view_count": null,
      "_view_module": "@jupyter-widgets/controls",
      "_view_module_version": "1.5.0",
      "_view_name": "HBoxView",
      "box_style": "",
      "children": [
       "IPY_MODEL_40934691ab3e4e768bbd21a122b23495",
       "IPY_MODEL_ec959cf7841144bea13ae1f009af9a4d",
       "IPY_MODEL_3d7f7c5d9e5b4d458bea8da10b591ba5"
      ],
      "layout": "IPY_MODEL_d9bb3cae2c8e422c8fe388f6d888ad10"
     }
    },
    "1b3af364abce48c09745a4c66fec487b": {
     "model_module": "@jupyter-widgets/controls",
     "model_module_version": "1.5.0",
     "model_name": "ProgressStyleModel",
     "state": {
      "_model_module": "@jupyter-widgets/controls",
      "_model_module_version": "1.5.0",
      "_model_name": "ProgressStyleModel",
      "_view_count": null,
      "_view_module": "@jupyter-widgets/base",
      "_view_module_version": "1.2.0",
      "_view_name": "StyleView",
      "bar_color": null,
      "description_width": ""
     }
    },
    "1b7cc56059a4458ab80ddee1a253f26e": {
     "model_module": "@jupyter-widgets/base",
     "model_module_version": "1.2.0",
     "model_name": "LayoutModel",
     "state": {
      "_model_module": "@jupyter-widgets/base",
      "_model_module_version": "1.2.0",
      "_model_name": "LayoutModel",
      "_view_count": null,
      "_view_module": "@jupyter-widgets/base",
      "_view_module_version": "1.2.0",
      "_view_name": "LayoutView",
      "align_content": null,
      "align_items": null,
      "align_self": null,
      "border": null,
      "bottom": null,
      "display": null,
      "flex": null,
      "flex_flow": null,
      "grid_area": null,
      "grid_auto_columns": null,
      "grid_auto_flow": null,
      "grid_auto_rows": null,
      "grid_column": null,
      "grid_gap": null,
      "grid_row": null,
      "grid_template_areas": null,
      "grid_template_columns": null,
      "grid_template_rows": null,
      "height": null,
      "justify_content": null,
      "justify_items": null,
      "left": null,
      "margin": null,
      "max_height": null,
      "max_width": null,
      "min_height": null,
      "min_width": null,
      "object_fit": null,
      "object_position": null,
      "order": null,
      "overflow": null,
      "overflow_x": null,
      "overflow_y": null,
      "padding": null,
      "right": null,
      "top": null,
      "visibility": null,
      "width": null
     }
    },
    "2414eef561da41838d9ce5c17b3eb27e": {
     "model_module": "@jupyter-widgets/controls",
     "model_module_version": "1.5.0",
     "model_name": "HBoxModel",
     "state": {
      "_dom_classes": [],
      "_model_module": "@jupyter-widgets/controls",
      "_model_module_version": "1.5.0",
      "_model_name": "HBoxModel",
      "_view_count": null,
      "_view_module": "@jupyter-widgets/controls",
      "_view_module_version": "1.5.0",
      "_view_name": "HBoxView",
      "box_style": "",
      "children": [
       "IPY_MODEL_1580d7d2bb144c9ea9383df8863f30bf",
       "IPY_MODEL_a6673d435c984281945227e2a5499542",
       "IPY_MODEL_e04d0404c937410e868c58966b9eb5e3"
      ],
      "layout": "IPY_MODEL_f780ab87ba08467a97024dff23d1051d"
     }
    },
    "2c61da179424498eb057daa3d63476b9": {
     "model_module": "@jupyter-widgets/base",
     "model_module_version": "1.2.0",
     "model_name": "LayoutModel",
     "state": {
      "_model_module": "@jupyter-widgets/base",
      "_model_module_version": "1.2.0",
      "_model_name": "LayoutModel",
      "_view_count": null,
      "_view_module": "@jupyter-widgets/base",
      "_view_module_version": "1.2.0",
      "_view_name": "LayoutView",
      "align_content": null,
      "align_items": null,
      "align_self": null,
      "border": null,
      "bottom": null,
      "display": null,
      "flex": null,
      "flex_flow": null,
      "grid_area": null,
      "grid_auto_columns": null,
      "grid_auto_flow": null,
      "grid_auto_rows": null,
      "grid_column": null,
      "grid_gap": null,
      "grid_row": null,
      "grid_template_areas": null,
      "grid_template_columns": null,
      "grid_template_rows": null,
      "height": null,
      "justify_content": null,
      "justify_items": null,
      "left": null,
      "margin": null,
      "max_height": null,
      "max_width": null,
      "min_height": null,
      "min_width": null,
      "object_fit": null,
      "object_position": null,
      "order": null,
      "overflow": null,
      "overflow_x": null,
      "overflow_y": null,
      "padding": null,
      "right": null,
      "top": null,
      "visibility": null,
      "width": null
     }
    },
    "38230721b785419aa70edf52303a3449": {
     "model_module": "@jupyter-widgets/base",
     "model_module_version": "1.2.0",
     "model_name": "LayoutModel",
     "state": {
      "_model_module": "@jupyter-widgets/base",
      "_model_module_version": "1.2.0",
      "_model_name": "LayoutModel",
      "_view_count": null,
      "_view_module": "@jupyter-widgets/base",
      "_view_module_version": "1.2.0",
      "_view_name": "LayoutView",
      "align_content": null,
      "align_items": null,
      "align_self": null,
      "border": null,
      "bottom": null,
      "display": null,
      "flex": null,
      "flex_flow": null,
      "grid_area": null,
      "grid_auto_columns": null,
      "grid_auto_flow": null,
      "grid_auto_rows": null,
      "grid_column": null,
      "grid_gap": null,
      "grid_row": null,
      "grid_template_areas": null,
      "grid_template_columns": null,
      "grid_template_rows": null,
      "height": null,
      "justify_content": null,
      "justify_items": null,
      "left": null,
      "margin": null,
      "max_height": null,
      "max_width": null,
      "min_height": null,
      "min_width": null,
      "object_fit": null,
      "object_position": null,
      "order": null,
      "overflow": null,
      "overflow_x": null,
      "overflow_y": null,
      "padding": null,
      "right": null,
      "top": null,
      "visibility": null,
      "width": null
     }
    },
    "3d7f7c5d9e5b4d458bea8da10b591ba5": {
     "model_module": "@jupyter-widgets/controls",
     "model_module_version": "1.5.0",
     "model_name": "HTMLModel",
     "state": {
      "_dom_classes": [],
      "_model_module": "@jupyter-widgets/controls",
      "_model_module_version": "1.5.0",
      "_model_name": "HTMLModel",
      "_view_count": null,
      "_view_module": "@jupyter-widgets/controls",
      "_view_module_version": "1.5.0",
      "_view_name": "HTMLView",
      "description": "",
      "description_tooltip": null,
      "layout": "IPY_MODEL_900d33f22993474b831b1595247b10a6",
      "placeholder": "​",
      "style": "IPY_MODEL_f8bb8612fc694fbb887e780371deb539",
      "value": " 811/811 [00:00&lt;00:00, 48.7kB/s]"
     }
    },
    "3dd99805e9bd4ff98895af7f2662c08a": {
     "model_module": "@jupyter-widgets/controls",
     "model_module_version": "1.5.0",
     "model_name": "HTMLModel",
     "state": {
      "_dom_classes": [],
      "_model_module": "@jupyter-widgets/controls",
      "_model_module_version": "1.5.0",
      "_model_name": "HTMLModel",
      "_view_count": null,
      "_view_module": "@jupyter-widgets/controls",
      "_view_module_version": "1.5.0",
      "_view_name": "HTMLView",
      "description": "",
      "description_tooltip": null,
      "layout": "IPY_MODEL_72a73095518d400594713ecc237ca33d",
      "placeholder": "​",
      "style": "IPY_MODEL_f41cd15c4e1d48a98dd261f0468f4cdc",
      "value": "Downloading (…)solve/main/vocab.txt: 100%"
     }
    },
    "40934691ab3e4e768bbd21a122b23495": {
     "model_module": "@jupyter-widgets/controls",
     "model_module_version": "1.5.0",
     "model_name": "HTMLModel",
     "state": {
      "_dom_classes": [],
      "_model_module": "@jupyter-widgets/controls",
      "_model_module_version": "1.5.0",
      "_model_name": "HTMLModel",
      "_view_count": null,
      "_view_module": "@jupyter-widgets/controls",
      "_view_module_version": "1.5.0",
      "_view_name": "HTMLView",
      "description": "",
      "description_tooltip": null,
      "layout": "IPY_MODEL_eaaed1ed17584c22b9660ca40844f64c",
      "placeholder": "​",
      "style": "IPY_MODEL_7efc1579de0c427da2018db9e0629b76",
      "value": "Downloading (…)lve/main/config.json: 100%"
     }
    },
    "41360dd11f73460197ecedcdf52ca132": {
     "model_module": "@jupyter-widgets/controls",
     "model_module_version": "1.5.0",
     "model_name": "DescriptionStyleModel",
     "state": {
      "_model_module": "@jupyter-widgets/controls",
      "_model_module_version": "1.5.0",
      "_model_name": "DescriptionStyleModel",
      "_view_count": null,
      "_view_module": "@jupyter-widgets/base",
      "_view_module_version": "1.2.0",
      "_view_name": "StyleView",
      "description_width": ""
     }
    },
    "48d8c512ec504ae68a77794d6fcc7cae": {
     "model_module": "@jupyter-widgets/controls",
     "model_module_version": "1.5.0",
     "model_name": "HBoxModel",
     "state": {
      "_dom_classes": [],
      "_model_module": "@jupyter-widgets/controls",
      "_model_module_version": "1.5.0",
      "_model_name": "HBoxModel",
      "_view_count": null,
      "_view_module": "@jupyter-widgets/controls",
      "_view_module_version": "1.5.0",
      "_view_name": "HBoxView",
      "box_style": "",
      "children": [
       "IPY_MODEL_3dd99805e9bd4ff98895af7f2662c08a",
       "IPY_MODEL_5b370e8acff64329b2152d11d404112a",
       "IPY_MODEL_6db8cfd6cbfa4575a09cc38527960044"
      ],
      "layout": "IPY_MODEL_4b736ea83a06448eab32da66446fd700"
     }
    },
    "4b736ea83a06448eab32da66446fd700": {
     "model_module": "@jupyter-widgets/base",
     "model_module_version": "1.2.0",
     "model_name": "LayoutModel",
     "state": {
      "_model_module": "@jupyter-widgets/base",
      "_model_module_version": "1.2.0",
      "_model_name": "LayoutModel",
      "_view_count": null,
      "_view_module": "@jupyter-widgets/base",
      "_view_module_version": "1.2.0",
      "_view_name": "LayoutView",
      "align_content": null,
      "align_items": null,
      "align_self": null,
      "border": null,
      "bottom": null,
      "display": null,
      "flex": null,
      "flex_flow": null,
      "grid_area": null,
      "grid_auto_columns": null,
      "grid_auto_flow": null,
      "grid_auto_rows": null,
      "grid_column": null,
      "grid_gap": null,
      "grid_row": null,
      "grid_template_areas": null,
      "grid_template_columns": null,
      "grid_template_rows": null,
      "height": null,
      "justify_content": null,
      "justify_items": null,
      "left": null,
      "margin": null,
      "max_height": null,
      "max_width": null,
      "min_height": null,
      "min_width": null,
      "object_fit": null,
      "object_position": null,
      "order": null,
      "overflow": null,
      "overflow_x": null,
      "overflow_y": null,
      "padding": null,
      "right": null,
      "top": null,
      "visibility": null,
      "width": null
     }
    },
    "546704e572d94fe996a636a1b901ddfb": {
     "model_module": "@jupyter-widgets/controls",
     "model_module_version": "1.5.0",
     "model_name": "DescriptionStyleModel",
     "state": {
      "_model_module": "@jupyter-widgets/controls",
      "_model_module_version": "1.5.0",
      "_model_name": "DescriptionStyleModel",
      "_view_count": null,
      "_view_module": "@jupyter-widgets/base",
      "_view_module_version": "1.2.0",
      "_view_name": "StyleView",
      "description_width": ""
     }
    },
    "593c04467b5f401b8bad46ea326536a7": {
     "model_module": "@jupyter-widgets/base",
     "model_module_version": "1.2.0",
     "model_name": "LayoutModel",
     "state": {
      "_model_module": "@jupyter-widgets/base",
      "_model_module_version": "1.2.0",
      "_model_name": "LayoutModel",
      "_view_count": null,
      "_view_module": "@jupyter-widgets/base",
      "_view_module_version": "1.2.0",
      "_view_name": "LayoutView",
      "align_content": null,
      "align_items": null,
      "align_self": null,
      "border": null,
      "bottom": null,
      "display": null,
      "flex": null,
      "flex_flow": null,
      "grid_area": null,
      "grid_auto_columns": null,
      "grid_auto_flow": null,
      "grid_auto_rows": null,
      "grid_column": null,
      "grid_gap": null,
      "grid_row": null,
      "grid_template_areas": null,
      "grid_template_columns": null,
      "grid_template_rows": null,
      "height": null,
      "justify_content": null,
      "justify_items": null,
      "left": null,
      "margin": null,
      "max_height": null,
      "max_width": null,
      "min_height": null,
      "min_width": null,
      "object_fit": null,
      "object_position": null,
      "order": null,
      "overflow": null,
      "overflow_x": null,
      "overflow_y": null,
      "padding": null,
      "right": null,
      "top": null,
      "visibility": null,
      "width": null
     }
    },
    "59fe1041685f40fbab0823bf02314105": {
     "model_module": "@jupyter-widgets/controls",
     "model_module_version": "1.5.0",
     "model_name": "DescriptionStyleModel",
     "state": {
      "_model_module": "@jupyter-widgets/controls",
      "_model_module_version": "1.5.0",
      "_model_name": "DescriptionStyleModel",
      "_view_count": null,
      "_view_module": "@jupyter-widgets/base",
      "_view_module_version": "1.2.0",
      "_view_name": "StyleView",
      "description_width": ""
     }
    },
    "5b370e8acff64329b2152d11d404112a": {
     "model_module": "@jupyter-widgets/controls",
     "model_module_version": "1.5.0",
     "model_name": "FloatProgressModel",
     "state": {
      "_dom_classes": [],
      "_model_module": "@jupyter-widgets/controls",
      "_model_module_version": "1.5.0",
      "_model_name": "FloatProgressModel",
      "_view_count": null,
      "_view_module": "@jupyter-widgets/controls",
      "_view_module_version": "1.5.0",
      "_view_name": "ProgressView",
      "bar_style": "success",
      "description": "",
      "description_tooltip": null,
      "layout": "IPY_MODEL_c277074a75214542bc092bb5c9934ae5",
      "max": 231508,
      "min": 0,
      "orientation": "horizontal",
      "style": "IPY_MODEL_c25758ae1aa147e295abb8d685645a40",
      "value": 231508
     }
    },
    "641679b731df40d886e7f3836b2fd306": {
     "model_module": "@jupyter-widgets/controls",
     "model_module_version": "1.5.0",
     "model_name": "HTMLModel",
     "state": {
      "_dom_classes": [],
      "_model_module": "@jupyter-widgets/controls",
      "_model_module_version": "1.5.0",
      "_model_name": "HTMLModel",
      "_view_count": null,
      "_view_module": "@jupyter-widgets/controls",
      "_view_module_version": "1.5.0",
      "_view_name": "HTMLView",
      "description": "",
      "description_tooltip": null,
      "layout": "IPY_MODEL_07f8b833f9114ef2ad552253ed4b924d",
      "placeholder": "​",
      "style": "IPY_MODEL_05d021265731421da72c2736693cafcb",
      "value": "100%"
     }
    },
    "64e9181b28fb42918baee55815849a30": {
     "model_module": "@jupyter-widgets/base",
     "model_module_version": "1.2.0",
     "model_name": "LayoutModel",
     "state": {
      "_model_module": "@jupyter-widgets/base",
      "_model_module_version": "1.2.0",
      "_model_name": "LayoutModel",
      "_view_count": null,
      "_view_module": "@jupyter-widgets/base",
      "_view_module_version": "1.2.0",
      "_view_name": "LayoutView",
      "align_content": null,
      "align_items": null,
      "align_self": null,
      "border": null,
      "bottom": null,
      "display": null,
      "flex": null,
      "flex_flow": null,
      "grid_area": null,
      "grid_auto_columns": null,
      "grid_auto_flow": null,
      "grid_auto_rows": null,
      "grid_column": null,
      "grid_gap": null,
      "grid_row": null,
      "grid_template_areas": null,
      "grid_template_columns": null,
      "grid_template_rows": null,
      "height": null,
      "justify_content": null,
      "justify_items": null,
      "left": null,
      "margin": null,
      "max_height": null,
      "max_width": null,
      "min_height": null,
      "min_width": null,
      "object_fit": null,
      "object_position": null,
      "order": null,
      "overflow": null,
      "overflow_x": null,
      "overflow_y": null,
      "padding": null,
      "right": null,
      "top": null,
      "visibility": null,
      "width": null
     }
    },
    "6db8cfd6cbfa4575a09cc38527960044": {
     "model_module": "@jupyter-widgets/controls",
     "model_module_version": "1.5.0",
     "model_name": "HTMLModel",
     "state": {
      "_dom_classes": [],
      "_model_module": "@jupyter-widgets/controls",
      "_model_module_version": "1.5.0",
      "_model_name": "HTMLModel",
      "_view_count": null,
      "_view_module": "@jupyter-widgets/controls",
      "_view_module_version": "1.5.0",
      "_view_name": "HTMLView",
      "description": "",
      "description_tooltip": null,
      "layout": "IPY_MODEL_0d7c2322001f410c97d36420b848b9cb",
      "placeholder": "​",
      "style": "IPY_MODEL_546704e572d94fe996a636a1b901ddfb",
      "value": " 232k/232k [00:00&lt;00:00, 5.42MB/s]"
     }
    },
    "72a73095518d400594713ecc237ca33d": {
     "model_module": "@jupyter-widgets/base",
     "model_module_version": "1.2.0",
     "model_name": "LayoutModel",
     "state": {
      "_model_module": "@jupyter-widgets/base",
      "_model_module_version": "1.2.0",
      "_model_name": "LayoutModel",
      "_view_count": null,
      "_view_module": "@jupyter-widgets/base",
      "_view_module_version": "1.2.0",
      "_view_name": "LayoutView",
      "align_content": null,
      "align_items": null,
      "align_self": null,
      "border": null,
      "bottom": null,
      "display": null,
      "flex": null,
      "flex_flow": null,
      "grid_area": null,
      "grid_auto_columns": null,
      "grid_auto_flow": null,
      "grid_auto_rows": null,
      "grid_column": null,
      "grid_gap": null,
      "grid_row": null,
      "grid_template_areas": null,
      "grid_template_columns": null,
      "grid_template_rows": null,
      "height": null,
      "justify_content": null,
      "justify_items": null,
      "left": null,
      "margin": null,
      "max_height": null,
      "max_width": null,
      "min_height": null,
      "min_width": null,
      "object_fit": null,
      "object_position": null,
      "order": null,
      "overflow": null,
      "overflow_x": null,
      "overflow_y": null,
      "padding": null,
      "right": null,
      "top": null,
      "visibility": null,
      "width": null
     }
    },
    "73bc48e4851c4fa39f8833d5ac0d1cd3": {
     "model_module": "@jupyter-widgets/controls",
     "model_module_version": "1.5.0",
     "model_name": "DescriptionStyleModel",
     "state": {
      "_model_module": "@jupyter-widgets/controls",
      "_model_module_version": "1.5.0",
      "_model_name": "DescriptionStyleModel",
      "_view_count": null,
      "_view_module": "@jupyter-widgets/base",
      "_view_module_version": "1.2.0",
      "_view_name": "StyleView",
      "description_width": ""
     }
    },
    "7c72c8f8f0b24f679b41a11c7a6b57af": {
     "model_module": "@jupyter-widgets/base",
     "model_module_version": "1.2.0",
     "model_name": "LayoutModel",
     "state": {
      "_model_module": "@jupyter-widgets/base",
      "_model_module_version": "1.2.0",
      "_model_name": "LayoutModel",
      "_view_count": null,
      "_view_module": "@jupyter-widgets/base",
      "_view_module_version": "1.2.0",
      "_view_name": "LayoutView",
      "align_content": null,
      "align_items": null,
      "align_self": null,
      "border": null,
      "bottom": null,
      "display": null,
      "flex": null,
      "flex_flow": null,
      "grid_area": null,
      "grid_auto_columns": null,
      "grid_auto_flow": null,
      "grid_auto_rows": null,
      "grid_column": null,
      "grid_gap": null,
      "grid_row": null,
      "grid_template_areas": null,
      "grid_template_columns": null,
      "grid_template_rows": null,
      "height": null,
      "justify_content": null,
      "justify_items": null,
      "left": null,
      "margin": null,
      "max_height": null,
      "max_width": null,
      "min_height": null,
      "min_width": null,
      "object_fit": null,
      "object_position": null,
      "order": null,
      "overflow": null,
      "overflow_x": null,
      "overflow_y": null,
      "padding": null,
      "right": null,
      "top": null,
      "visibility": null,
      "width": null
     }
    },
    "7efc1579de0c427da2018db9e0629b76": {
     "model_module": "@jupyter-widgets/controls",
     "model_module_version": "1.5.0",
     "model_name": "DescriptionStyleModel",
     "state": {
      "_model_module": "@jupyter-widgets/controls",
      "_model_module_version": "1.5.0",
      "_model_name": "DescriptionStyleModel",
      "_view_count": null,
      "_view_module": "@jupyter-widgets/base",
      "_view_module_version": "1.2.0",
      "_view_name": "StyleView",
      "description_width": ""
     }
    },
    "839d0a336e864bc183880b8d7969b1cd": {
     "model_module": "@jupyter-widgets/controls",
     "model_module_version": "1.5.0",
     "model_name": "HBoxModel",
     "state": {
      "_dom_classes": [],
      "_model_module": "@jupyter-widgets/controls",
      "_model_module_version": "1.5.0",
      "_model_name": "HBoxModel",
      "_view_count": null,
      "_view_module": "@jupyter-widgets/controls",
      "_view_module_version": "1.5.0",
      "_view_name": "HBoxView",
      "box_style": "",
      "children": [
       "IPY_MODEL_02d3ced69e1e4dfaa873602a81bcadd8",
       "IPY_MODEL_b0e782a427bd4d47b2b265ef46ffa7b3",
       "IPY_MODEL_1a301cdc280248acb64dab43008d305b"
      ],
      "layout": "IPY_MODEL_593c04467b5f401b8bad46ea326536a7"
     }
    },
    "8d08f3ba085a4fcf9711001018074beb": {
     "model_module": "@jupyter-widgets/controls",
     "model_module_version": "1.5.0",
     "model_name": "HBoxModel",
     "state": {
      "_dom_classes": [],
      "_model_module": "@jupyter-widgets/controls",
      "_model_module_version": "1.5.0",
      "_model_name": "HBoxModel",
      "_view_count": null,
      "_view_module": "@jupyter-widgets/controls",
      "_view_module_version": "1.5.0",
      "_view_name": "HBoxView",
      "box_style": "",
      "children": [
       "IPY_MODEL_641679b731df40d886e7f3836b2fd306",
       "IPY_MODEL_af186eeaec2a4fa0adbace17ec88e473",
       "IPY_MODEL_d90d64e889634508a38ed558d3faf7d0"
      ],
      "layout": "IPY_MODEL_13f19aac728b4774b1b89edb7640bbd3"
     }
    },
    "900d33f22993474b831b1595247b10a6": {
     "model_module": "@jupyter-widgets/base",
     "model_module_version": "1.2.0",
     "model_name": "LayoutModel",
     "state": {
      "_model_module": "@jupyter-widgets/base",
      "_model_module_version": "1.2.0",
      "_model_name": "LayoutModel",
      "_view_count": null,
      "_view_module": "@jupyter-widgets/base",
      "_view_module_version": "1.2.0",
      "_view_name": "LayoutView",
      "align_content": null,
      "align_items": null,
      "align_self": null,
      "border": null,
      "bottom": null,
      "display": null,
      "flex": null,
      "flex_flow": null,
      "grid_area": null,
      "grid_auto_columns": null,
      "grid_auto_flow": null,
      "grid_auto_rows": null,
      "grid_column": null,
      "grid_gap": null,
      "grid_row": null,
      "grid_template_areas": null,
      "grid_template_columns": null,
      "grid_template_rows": null,
      "height": null,
      "justify_content": null,
      "justify_items": null,
      "left": null,
      "margin": null,
      "max_height": null,
      "max_width": null,
      "min_height": null,
      "min_width": null,
      "object_fit": null,
      "object_position": null,
      "order": null,
      "overflow": null,
      "overflow_x": null,
      "overflow_y": null,
      "padding": null,
      "right": null,
      "top": null,
      "visibility": null,
      "width": null
     }
    },
    "90822a77219346ecaa210e3758155f25": {
     "model_module": "@jupyter-widgets/base",
     "model_module_version": "1.2.0",
     "model_name": "LayoutModel",
     "state": {
      "_model_module": "@jupyter-widgets/base",
      "_model_module_version": "1.2.0",
      "_model_name": "LayoutModel",
      "_view_count": null,
      "_view_module": "@jupyter-widgets/base",
      "_view_module_version": "1.2.0",
      "_view_name": "LayoutView",
      "align_content": null,
      "align_items": null,
      "align_self": null,
      "border": null,
      "bottom": null,
      "display": null,
      "flex": null,
      "flex_flow": null,
      "grid_area": null,
      "grid_auto_columns": null,
      "grid_auto_flow": null,
      "grid_auto_rows": null,
      "grid_column": null,
      "grid_gap": null,
      "grid_row": null,
      "grid_template_areas": null,
      "grid_template_columns": null,
      "grid_template_rows": null,
      "height": null,
      "justify_content": null,
      "justify_items": null,
      "left": null,
      "margin": null,
      "max_height": null,
      "max_width": null,
      "min_height": null,
      "min_width": null,
      "object_fit": null,
      "object_position": null,
      "order": null,
      "overflow": null,
      "overflow_x": null,
      "overflow_y": null,
      "padding": null,
      "right": null,
      "top": null,
      "visibility": null,
      "width": null
     }
    },
    "9186f75b4e694c8f8e55280331c9e42d": {
     "model_module": "@jupyter-widgets/base",
     "model_module_version": "1.2.0",
     "model_name": "LayoutModel",
     "state": {
      "_model_module": "@jupyter-widgets/base",
      "_model_module_version": "1.2.0",
      "_model_name": "LayoutModel",
      "_view_count": null,
      "_view_module": "@jupyter-widgets/base",
      "_view_module_version": "1.2.0",
      "_view_name": "LayoutView",
      "align_content": null,
      "align_items": null,
      "align_self": null,
      "border": null,
      "bottom": null,
      "display": null,
      "flex": null,
      "flex_flow": null,
      "grid_area": null,
      "grid_auto_columns": null,
      "grid_auto_flow": null,
      "grid_auto_rows": null,
      "grid_column": null,
      "grid_gap": null,
      "grid_row": null,
      "grid_template_areas": null,
      "grid_template_columns": null,
      "grid_template_rows": null,
      "height": null,
      "justify_content": null,
      "justify_items": null,
      "left": null,
      "margin": null,
      "max_height": null,
      "max_width": null,
      "min_height": null,
      "min_width": null,
      "object_fit": null,
      "object_position": null,
      "order": null,
      "overflow": null,
      "overflow_x": null,
      "overflow_y": null,
      "padding": null,
      "right": null,
      "top": null,
      "visibility": null,
      "width": null
     }
    },
    "92cf36af11d349b596bd8f9378633616": {
     "model_module": "@jupyter-widgets/base",
     "model_module_version": "1.2.0",
     "model_name": "LayoutModel",
     "state": {
      "_model_module": "@jupyter-widgets/base",
      "_model_module_version": "1.2.0",
      "_model_name": "LayoutModel",
      "_view_count": null,
      "_view_module": "@jupyter-widgets/base",
      "_view_module_version": "1.2.0",
      "_view_name": "LayoutView",
      "align_content": null,
      "align_items": null,
      "align_self": null,
      "border": null,
      "bottom": null,
      "display": null,
      "flex": null,
      "flex_flow": null,
      "grid_area": null,
      "grid_auto_columns": null,
      "grid_auto_flow": null,
      "grid_auto_rows": null,
      "grid_column": null,
      "grid_gap": null,
      "grid_row": null,
      "grid_template_areas": null,
      "grid_template_columns": null,
      "grid_template_rows": null,
      "height": null,
      "justify_content": null,
      "justify_items": null,
      "left": null,
      "margin": null,
      "max_height": null,
      "max_width": null,
      "min_height": null,
      "min_width": null,
      "object_fit": null,
      "object_position": null,
      "order": null,
      "overflow": null,
      "overflow_x": null,
      "overflow_y": null,
      "padding": null,
      "right": null,
      "top": null,
      "visibility": null,
      "width": null
     }
    },
    "9b1f0f2cdf0a4e898cb7f28f1fa7ee6a": {
     "model_module": "@jupyter-widgets/controls",
     "model_module_version": "1.5.0",
     "model_name": "FloatProgressModel",
     "state": {
      "_dom_classes": [],
      "_model_module": "@jupyter-widgets/controls",
      "_model_module_version": "1.5.0",
      "_model_name": "FloatProgressModel",
      "_view_count": null,
      "_view_module": "@jupyter-widgets/controls",
      "_view_module_version": "1.5.0",
      "_view_name": "ProgressView",
      "bar_style": "success",
      "description": "",
      "description_tooltip": null,
      "layout": "IPY_MODEL_7c72c8f8f0b24f679b41a11c7a6b57af",
      "max": 112,
      "min": 0,
      "orientation": "horizontal",
      "style": "IPY_MODEL_f37c2b374a8740db8c5395e3137f5923",
      "value": 112
     }
    },
    "a43ee422fc2d4f60bec999a367074edc": {
     "model_module": "@jupyter-widgets/controls",
     "model_module_version": "1.5.0",
     "model_name": "ProgressStyleModel",
     "state": {
      "_model_module": "@jupyter-widgets/controls",
      "_model_module_version": "1.5.0",
      "_model_name": "ProgressStyleModel",
      "_view_count": null,
      "_view_module": "@jupyter-widgets/base",
      "_view_module_version": "1.2.0",
      "_view_name": "StyleView",
      "bar_color": null,
      "description_width": ""
     }
    },
    "a55c5530a54f4ff58471083caad8bac8": {
     "model_module": "@jupyter-widgets/base",
     "model_module_version": "1.2.0",
     "model_name": "LayoutModel",
     "state": {
      "_model_module": "@jupyter-widgets/base",
      "_model_module_version": "1.2.0",
      "_model_name": "LayoutModel",
      "_view_count": null,
      "_view_module": "@jupyter-widgets/base",
      "_view_module_version": "1.2.0",
      "_view_name": "LayoutView",
      "align_content": null,
      "align_items": null,
      "align_self": null,
      "border": null,
      "bottom": null,
      "display": null,
      "flex": null,
      "flex_flow": null,
      "grid_area": null,
      "grid_auto_columns": null,
      "grid_auto_flow": null,
      "grid_auto_rows": null,
      "grid_column": null,
      "grid_gap": null,
      "grid_row": null,
      "grid_template_areas": null,
      "grid_template_columns": null,
      "grid_template_rows": null,
      "height": null,
      "justify_content": null,
      "justify_items": null,
      "left": null,
      "margin": null,
      "max_height": null,
      "max_width": null,
      "min_height": null,
      "min_width": null,
      "object_fit": null,
      "object_position": null,
      "order": null,
      "overflow": null,
      "overflow_x": null,
      "overflow_y": null,
      "padding": null,
      "right": null,
      "top": null,
      "visibility": null,
      "width": null
     }
    },
    "a58113b9382b4163bcaf6ecc5193643b": {
     "model_module": "@jupyter-widgets/base",
     "model_module_version": "1.2.0",
     "model_name": "LayoutModel",
     "state": {
      "_model_module": "@jupyter-widgets/base",
      "_model_module_version": "1.2.0",
      "_model_name": "LayoutModel",
      "_view_count": null,
      "_view_module": "@jupyter-widgets/base",
      "_view_module_version": "1.2.0",
      "_view_name": "LayoutView",
      "align_content": null,
      "align_items": null,
      "align_self": null,
      "border": null,
      "bottom": null,
      "display": null,
      "flex": null,
      "flex_flow": null,
      "grid_area": null,
      "grid_auto_columns": null,
      "grid_auto_flow": null,
      "grid_auto_rows": null,
      "grid_column": null,
      "grid_gap": null,
      "grid_row": null,
      "grid_template_areas": null,
      "grid_template_columns": null,
      "grid_template_rows": null,
      "height": null,
      "justify_content": null,
      "justify_items": null,
      "left": null,
      "margin": null,
      "max_height": null,
      "max_width": null,
      "min_height": null,
      "min_width": null,
      "object_fit": null,
      "object_position": null,
      "order": null,
      "overflow": null,
      "overflow_x": null,
      "overflow_y": null,
      "padding": null,
      "right": null,
      "top": null,
      "visibility": null,
      "width": null
     }
    },
    "a5e3c8e5e18b4574a50faed232c59e4f": {
     "model_module": "@jupyter-widgets/controls",
     "model_module_version": "1.5.0",
     "model_name": "HTMLModel",
     "state": {
      "_dom_classes": [],
      "_model_module": "@jupyter-widgets/controls",
      "_model_module_version": "1.5.0",
      "_model_name": "HTMLModel",
      "_view_count": null,
      "_view_module": "@jupyter-widgets/controls",
      "_view_module_version": "1.5.0",
      "_view_name": "HTMLView",
      "description": "",
      "description_tooltip": null,
      "layout": "IPY_MODEL_38230721b785419aa70edf52303a3449",
      "placeholder": "​",
      "style": "IPY_MODEL_f329aead7c594c57a2a57c504a0e535f",
      "value": " 112/112 [00:00&lt;00:00, 7.42kB/s]"
     }
    },
    "a6673d435c984281945227e2a5499542": {
     "model_module": "@jupyter-widgets/controls",
     "model_module_version": "1.5.0",
     "model_name": "FloatProgressModel",
     "state": {
      "_dom_classes": [],
      "_model_module": "@jupyter-widgets/controls",
      "_model_module_version": "1.5.0",
      "_model_name": "FloatProgressModel",
      "_view_count": null,
      "_view_module": "@jupyter-widgets/controls",
      "_view_module_version": "1.5.0",
      "_view_name": "ProgressView",
      "bar_style": "success",
      "description": "",
      "description_tooltip": null,
      "layout": "IPY_MODEL_a55c5530a54f4ff58471083caad8bac8",
      "max": 174,
      "min": 0,
      "orientation": "horizontal",
      "style": "IPY_MODEL_a43ee422fc2d4f60bec999a367074edc",
      "value": 174
     }
    },
    "af186eeaec2a4fa0adbace17ec88e473": {
     "model_module": "@jupyter-widgets/controls",
     "model_module_version": "1.5.0",
     "model_name": "FloatProgressModel",
     "state": {
      "_dom_classes": [],
      "_model_module": "@jupyter-widgets/controls",
      "_model_module_version": "1.5.0",
      "_model_name": "FloatProgressModel",
      "_view_count": null,
      "_view_module": "@jupyter-widgets/controls",
      "_view_module_version": "1.5.0",
      "_view_name": "ProgressView",
      "bar_style": "success",
      "description": "",
      "description_tooltip": null,
      "layout": "IPY_MODEL_a58113b9382b4163bcaf6ecc5193643b",
      "max": 200,
      "min": 0,
      "orientation": "horizontal",
      "style": "IPY_MODEL_ff182bbc94604ae68957a7b9ac06322e",
      "value": 200
     }
    },
    "b0e782a427bd4d47b2b265ef46ffa7b3": {
     "model_module": "@jupyter-widgets/controls",
     "model_module_version": "1.5.0",
     "model_name": "FloatProgressModel",
     "state": {
      "_dom_classes": [],
      "_model_module": "@jupyter-widgets/controls",
      "_model_module_version": "1.5.0",
      "_model_name": "FloatProgressModel",
      "_view_count": null,
      "_view_module": "@jupyter-widgets/controls",
      "_view_module_version": "1.5.0",
      "_view_name": "ProgressView",
      "bar_style": "success",
      "description": "",
      "description_tooltip": null,
      "layout": "IPY_MODEL_cd34d9b6125a44719ac382326558acb5",
      "max": 438033929,
      "min": 0,
      "orientation": "horizontal",
      "style": "IPY_MODEL_1b3af364abce48c09745a4c66fec487b",
      "value": 438033929
     }
    },
    "ba1566614bb24f20b0b6762f90f016f0": {
     "model_module": "@jupyter-widgets/controls",
     "model_module_version": "1.5.0",
     "model_name": "HTMLModel",
     "state": {
      "_dom_classes": [],
      "_model_module": "@jupyter-widgets/controls",
      "_model_module_version": "1.5.0",
      "_model_name": "HTMLModel",
      "_view_count": null,
      "_view_module": "@jupyter-widgets/controls",
      "_view_module_version": "1.5.0",
      "_view_name": "HTMLView",
      "description": "",
      "description_tooltip": null,
      "layout": "IPY_MODEL_2c61da179424498eb057daa3d63476b9",
      "placeholder": "​",
      "style": "IPY_MODEL_59fe1041685f40fbab0823bf02314105",
      "value": "Downloading (…)cial_tokens_map.json: 100%"
     }
    },
    "c25758ae1aa147e295abb8d685645a40": {
     "model_module": "@jupyter-widgets/controls",
     "model_module_version": "1.5.0",
     "model_name": "ProgressStyleModel",
     "state": {
      "_model_module": "@jupyter-widgets/controls",
      "_model_module_version": "1.5.0",
      "_model_name": "ProgressStyleModel",
      "_view_count": null,
      "_view_module": "@jupyter-widgets/base",
      "_view_module_version": "1.2.0",
      "_view_name": "StyleView",
      "bar_color": null,
      "description_width": ""
     }
    },
    "c277074a75214542bc092bb5c9934ae5": {
     "model_module": "@jupyter-widgets/base",
     "model_module_version": "1.2.0",
     "model_name": "LayoutModel",
     "state": {
      "_model_module": "@jupyter-widgets/base",
      "_model_module_version": "1.2.0",
      "_model_name": "LayoutModel",
      "_view_count": null,
      "_view_module": "@jupyter-widgets/base",
      "_view_module_version": "1.2.0",
      "_view_name": "LayoutView",
      "align_content": null,
      "align_items": null,
      "align_self": null,
      "border": null,
      "bottom": null,
      "display": null,
      "flex": null,
      "flex_flow": null,
      "grid_area": null,
      "grid_auto_columns": null,
      "grid_auto_flow": null,
      "grid_auto_rows": null,
      "grid_column": null,
      "grid_gap": null,
      "grid_row": null,
      "grid_template_areas": null,
      "grid_template_columns": null,
      "grid_template_rows": null,
      "height": null,
      "justify_content": null,
      "justify_items": null,
      "left": null,
      "margin": null,
      "max_height": null,
      "max_width": null,
      "min_height": null,
      "min_width": null,
      "object_fit": null,
      "object_position": null,
      "order": null,
      "overflow": null,
      "overflow_x": null,
      "overflow_y": null,
      "padding": null,
      "right": null,
      "top": null,
      "visibility": null,
      "width": null
     }
    },
    "c3923a118322483e9ec3fadd3fe0a6b2": {
     "model_module": "@jupyter-widgets/controls",
     "model_module_version": "1.5.0",
     "model_name": "DescriptionStyleModel",
     "state": {
      "_model_module": "@jupyter-widgets/controls",
      "_model_module_version": "1.5.0",
      "_model_name": "DescriptionStyleModel",
      "_view_count": null,
      "_view_module": "@jupyter-widgets/base",
      "_view_module_version": "1.2.0",
      "_view_name": "StyleView",
      "description_width": ""
     }
    },
    "c99f37c6610e46468b9a21ff09933eac": {
     "model_module": "@jupyter-widgets/controls",
     "model_module_version": "1.5.0",
     "model_name": "HBoxModel",
     "state": {
      "_dom_classes": [],
      "_model_module": "@jupyter-widgets/controls",
      "_model_module_version": "1.5.0",
      "_model_name": "HBoxModel",
      "_view_count": null,
      "_view_module": "@jupyter-widgets/controls",
      "_view_module_version": "1.5.0",
      "_view_name": "HBoxView",
      "box_style": "",
      "children": [
       "IPY_MODEL_ba1566614bb24f20b0b6762f90f016f0",
       "IPY_MODEL_9b1f0f2cdf0a4e898cb7f28f1fa7ee6a",
       "IPY_MODEL_a5e3c8e5e18b4574a50faed232c59e4f"
      ],
      "layout": "IPY_MODEL_90822a77219346ecaa210e3758155f25"
     }
    },
    "cd34d9b6125a44719ac382326558acb5": {
     "model_module": "@jupyter-widgets/base",
     "model_module_version": "1.2.0",
     "model_name": "LayoutModel",
     "state": {
      "_model_module": "@jupyter-widgets/base",
      "_model_module_version": "1.2.0",
      "_model_name": "LayoutModel",
      "_view_count": null,
      "_view_module": "@jupyter-widgets/base",
      "_view_module_version": "1.2.0",
      "_view_name": "LayoutView",
      "align_content": null,
      "align_items": null,
      "align_self": null,
      "border": null,
      "bottom": null,
      "display": null,
      "flex": null,
      "flex_flow": null,
      "grid_area": null,
      "grid_auto_columns": null,
      "grid_auto_flow": null,
      "grid_auto_rows": null,
      "grid_column": null,
      "grid_gap": null,
      "grid_row": null,
      "grid_template_areas": null,
      "grid_template_columns": null,
      "grid_template_rows": null,
      "height": null,
      "justify_content": null,
      "justify_items": null,
      "left": null,
      "margin": null,
      "max_height": null,
      "max_width": null,
      "min_height": null,
      "min_width": null,
      "object_fit": null,
      "object_position": null,
      "order": null,
      "overflow": null,
      "overflow_x": null,
      "overflow_y": null,
      "padding": null,
      "right": null,
      "top": null,
      "visibility": null,
      "width": null
     }
    },
    "d90d64e889634508a38ed558d3faf7d0": {
     "model_module": "@jupyter-widgets/controls",
     "model_module_version": "1.5.0",
     "model_name": "HTMLModel",
     "state": {
      "_dom_classes": [],
      "_model_module": "@jupyter-widgets/controls",
      "_model_module_version": "1.5.0",
      "_model_name": "HTMLModel",
      "_view_count": null,
      "_view_module": "@jupyter-widgets/controls",
      "_view_module_version": "1.5.0",
      "_view_name": "HTMLView",
      "description": "",
      "description_tooltip": null,
      "layout": "IPY_MODEL_9186f75b4e694c8f8e55280331c9e42d",
      "placeholder": "​",
      "style": "IPY_MODEL_c3923a118322483e9ec3fadd3fe0a6b2",
      "value": " 200/200 [00:39&lt;00:00,  5.49it/s]"
     }
    },
    "d9bb3cae2c8e422c8fe388f6d888ad10": {
     "model_module": "@jupyter-widgets/base",
     "model_module_version": "1.2.0",
     "model_name": "LayoutModel",
     "state": {
      "_model_module": "@jupyter-widgets/base",
      "_model_module_version": "1.2.0",
      "_model_name": "LayoutModel",
      "_view_count": null,
      "_view_module": "@jupyter-widgets/base",
      "_view_module_version": "1.2.0",
      "_view_name": "LayoutView",
      "align_content": null,
      "align_items": null,
      "align_self": null,
      "border": null,
      "bottom": null,
      "display": null,
      "flex": null,
      "flex_flow": null,
      "grid_area": null,
      "grid_auto_columns": null,
      "grid_auto_flow": null,
      "grid_auto_rows": null,
      "grid_column": null,
      "grid_gap": null,
      "grid_row": null,
      "grid_template_areas": null,
      "grid_template_columns": null,
      "grid_template_rows": null,
      "height": null,
      "justify_content": null,
      "justify_items": null,
      "left": null,
      "margin": null,
      "max_height": null,
      "max_width": null,
      "min_height": null,
      "min_width": null,
      "object_fit": null,
      "object_position": null,
      "order": null,
      "overflow": null,
      "overflow_x": null,
      "overflow_y": null,
      "padding": null,
      "right": null,
      "top": null,
      "visibility": null,
      "width": null
     }
    },
    "e04d0404c937410e868c58966b9eb5e3": {
     "model_module": "@jupyter-widgets/controls",
     "model_module_version": "1.5.0",
     "model_name": "HTMLModel",
     "state": {
      "_dom_classes": [],
      "_model_module": "@jupyter-widgets/controls",
      "_model_module_version": "1.5.0",
      "_model_name": "HTMLModel",
      "_view_count": null,
      "_view_module": "@jupyter-widgets/controls",
      "_view_module_version": "1.5.0",
      "_view_name": "HTMLView",
      "description": "",
      "description_tooltip": null,
      "layout": "IPY_MODEL_e98ab107b1534dd0b4250eff6f80e541",
      "placeholder": "​",
      "style": "IPY_MODEL_0ad8c50249db4b1e8cd95121b3f340df",
      "value": " 174/174 [00:00&lt;00:00, 7.50kB/s]"
     }
    },
    "e98ab107b1534dd0b4250eff6f80e541": {
     "model_module": "@jupyter-widgets/base",
     "model_module_version": "1.2.0",
     "model_name": "LayoutModel",
     "state": {
      "_model_module": "@jupyter-widgets/base",
      "_model_module_version": "1.2.0",
      "_model_name": "LayoutModel",
      "_view_count": null,
      "_view_module": "@jupyter-widgets/base",
      "_view_module_version": "1.2.0",
      "_view_name": "LayoutView",
      "align_content": null,
      "align_items": null,
      "align_self": null,
      "border": null,
      "bottom": null,
      "display": null,
      "flex": null,
      "flex_flow": null,
      "grid_area": null,
      "grid_auto_columns": null,
      "grid_auto_flow": null,
      "grid_auto_rows": null,
      "grid_column": null,
      "grid_gap": null,
      "grid_row": null,
      "grid_template_areas": null,
      "grid_template_columns": null,
      "grid_template_rows": null,
      "height": null,
      "justify_content": null,
      "justify_items": null,
      "left": null,
      "margin": null,
      "max_height": null,
      "max_width": null,
      "min_height": null,
      "min_width": null,
      "object_fit": null,
      "object_position": null,
      "order": null,
      "overflow": null,
      "overflow_x": null,
      "overflow_y": null,
      "padding": null,
      "right": null,
      "top": null,
      "visibility": null,
      "width": null
     }
    },
    "eaaed1ed17584c22b9660ca40844f64c": {
     "model_module": "@jupyter-widgets/base",
     "model_module_version": "1.2.0",
     "model_name": "LayoutModel",
     "state": {
      "_model_module": "@jupyter-widgets/base",
      "_model_module_version": "1.2.0",
      "_model_name": "LayoutModel",
      "_view_count": null,
      "_view_module": "@jupyter-widgets/base",
      "_view_module_version": "1.2.0",
      "_view_name": "LayoutView",
      "align_content": null,
      "align_items": null,
      "align_self": null,
      "border": null,
      "bottom": null,
      "display": null,
      "flex": null,
      "flex_flow": null,
      "grid_area": null,
      "grid_auto_columns": null,
      "grid_auto_flow": null,
      "grid_auto_rows": null,
      "grid_column": null,
      "grid_gap": null,
      "grid_row": null,
      "grid_template_areas": null,
      "grid_template_columns": null,
      "grid_template_rows": null,
      "height": null,
      "justify_content": null,
      "justify_items": null,
      "left": null,
      "margin": null,
      "max_height": null,
      "max_width": null,
      "min_height": null,
      "min_width": null,
      "object_fit": null,
      "object_position": null,
      "order": null,
      "overflow": null,
      "overflow_x": null,
      "overflow_y": null,
      "padding": null,
      "right": null,
      "top": null,
      "visibility": null,
      "width": null
     }
    },
    "ec959cf7841144bea13ae1f009af9a4d": {
     "model_module": "@jupyter-widgets/controls",
     "model_module_version": "1.5.0",
     "model_name": "FloatProgressModel",
     "state": {
      "_dom_classes": [],
      "_model_module": "@jupyter-widgets/controls",
      "_model_module_version": "1.5.0",
      "_model_name": "FloatProgressModel",
      "_view_count": null,
      "_view_module": "@jupyter-widgets/controls",
      "_view_module_version": "1.5.0",
      "_view_name": "ProgressView",
      "bar_style": "success",
      "description": "",
      "description_tooltip": null,
      "layout": "IPY_MODEL_92cf36af11d349b596bd8f9378633616",
      "max": 811,
      "min": 0,
      "orientation": "horizontal",
      "style": "IPY_MODEL_115a33c4239a413fa33610ae138b3f26",
      "value": 811
     }
    },
    "f20647b05aa149aa829c9fd9137b540f": {
     "model_module": "@jupyter-widgets/controls",
     "model_module_version": "1.5.0",
     "model_name": "DescriptionStyleModel",
     "state": {
      "_model_module": "@jupyter-widgets/controls",
      "_model_module_version": "1.5.0",
      "_model_name": "DescriptionStyleModel",
      "_view_count": null,
      "_view_module": "@jupyter-widgets/base",
      "_view_module_version": "1.2.0",
      "_view_name": "StyleView",
      "description_width": ""
     }
    },
    "f329aead7c594c57a2a57c504a0e535f": {
     "model_module": "@jupyter-widgets/controls",
     "model_module_version": "1.5.0",
     "model_name": "DescriptionStyleModel",
     "state": {
      "_model_module": "@jupyter-widgets/controls",
      "_model_module_version": "1.5.0",
      "_model_name": "DescriptionStyleModel",
      "_view_count": null,
      "_view_module": "@jupyter-widgets/base",
      "_view_module_version": "1.2.0",
      "_view_name": "StyleView",
      "description_width": ""
     }
    },
    "f37c2b374a8740db8c5395e3137f5923": {
     "model_module": "@jupyter-widgets/controls",
     "model_module_version": "1.5.0",
     "model_name": "ProgressStyleModel",
     "state": {
      "_model_module": "@jupyter-widgets/controls",
      "_model_module_version": "1.5.0",
      "_model_name": "ProgressStyleModel",
      "_view_count": null,
      "_view_module": "@jupyter-widgets/base",
      "_view_module_version": "1.2.0",
      "_view_name": "StyleView",
      "bar_color": null,
      "description_width": ""
     }
    },
    "f41cd15c4e1d48a98dd261f0468f4cdc": {
     "model_module": "@jupyter-widgets/controls",
     "model_module_version": "1.5.0",
     "model_name": "DescriptionStyleModel",
     "state": {
      "_model_module": "@jupyter-widgets/controls",
      "_model_module_version": "1.5.0",
      "_model_name": "DescriptionStyleModel",
      "_view_count": null,
      "_view_module": "@jupyter-widgets/base",
      "_view_module_version": "1.2.0",
      "_view_name": "StyleView",
      "description_width": ""
     }
    },
    "f780ab87ba08467a97024dff23d1051d": {
     "model_module": "@jupyter-widgets/base",
     "model_module_version": "1.2.0",
     "model_name": "LayoutModel",
     "state": {
      "_model_module": "@jupyter-widgets/base",
      "_model_module_version": "1.2.0",
      "_model_name": "LayoutModel",
      "_view_count": null,
      "_view_module": "@jupyter-widgets/base",
      "_view_module_version": "1.2.0",
      "_view_name": "LayoutView",
      "align_content": null,
      "align_items": null,
      "align_self": null,
      "border": null,
      "bottom": null,
      "display": null,
      "flex": null,
      "flex_flow": null,
      "grid_area": null,
      "grid_auto_columns": null,
      "grid_auto_flow": null,
      "grid_auto_rows": null,
      "grid_column": null,
      "grid_gap": null,
      "grid_row": null,
      "grid_template_areas": null,
      "grid_template_columns": null,
      "grid_template_rows": null,
      "height": null,
      "justify_content": null,
      "justify_items": null,
      "left": null,
      "margin": null,
      "max_height": null,
      "max_width": null,
      "min_height": null,
      "min_width": null,
      "object_fit": null,
      "object_position": null,
      "order": null,
      "overflow": null,
      "overflow_x": null,
      "overflow_y": null,
      "padding": null,
      "right": null,
      "top": null,
      "visibility": null,
      "width": null
     }
    },
    "f8bb8612fc694fbb887e780371deb539": {
     "model_module": "@jupyter-widgets/controls",
     "model_module_version": "1.5.0",
     "model_name": "DescriptionStyleModel",
     "state": {
      "_model_module": "@jupyter-widgets/controls",
      "_model_module_version": "1.5.0",
      "_model_name": "DescriptionStyleModel",
      "_view_count": null,
      "_view_module": "@jupyter-widgets/base",
      "_view_module_version": "1.2.0",
      "_view_name": "StyleView",
      "description_width": ""
     }
    },
    "ff182bbc94604ae68957a7b9ac06322e": {
     "model_module": "@jupyter-widgets/controls",
     "model_module_version": "1.5.0",
     "model_name": "ProgressStyleModel",
     "state": {
      "_model_module": "@jupyter-widgets/controls",
      "_model_module_version": "1.5.0",
      "_model_name": "ProgressStyleModel",
      "_view_count": null,
      "_view_module": "@jupyter-widgets/base",
      "_view_module_version": "1.2.0",
      "_view_name": "StyleView",
      "bar_color": null,
      "description_width": ""
     }
    }
   }
  }
 },
 "nbformat": 4,
 "nbformat_minor": 4
}
