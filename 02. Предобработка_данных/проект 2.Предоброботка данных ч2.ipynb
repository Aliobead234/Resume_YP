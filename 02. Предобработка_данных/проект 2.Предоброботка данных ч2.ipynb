{
 "cells": [
  {
   "cell_type": "markdown",
   "id": "03973dbc",
   "metadata": {
    "deletable": false,
    "editable": false,
    "id": "c81daeeb"
   },
   "source": [
    "# Исследование надежности заемщиков\n"
   ]
  },
  {
   "cell_type": "markdown",
   "id": "af8e65f9",
   "metadata": {
    "deletable": false,
    "editable": false,
    "id": "827c20bf"
   },
   "source": [
    "Во второй части проекта вы выполните шаги 3 и 4. Их вручную проверит ревьюер.\n",
    "Чтобы вам не пришлось писать код заново для шагов 1 и 2, мы добавили авторские решения в ячейки с кодом. \n",
    "\n"
   ]
  },
  {
   "cell_type": "markdown",
   "id": "92b85faf",
   "metadata": {
    "deletable": false,
    "editable": false,
    "id": "744d7639"
   },
   "source": [
    "## Откройте таблицу и изучите общую информацию о данных"
   ]
  },
  {
   "cell_type": "markdown",
   "id": "332ec7c1",
   "metadata": {
    "deletable": false,
    "editable": false,
    "id": "e7a14c31"
   },
   "source": [
    "**Задание 1. Импортируйте библиотеку pandas. Считайте данные из csv-файла в датафрейм и сохраните в переменную `data`. Путь к файлу:**\n",
    "\n",
    "`/datasets/data.csv`"
   ]
  },
  {
   "cell_type": "code",
   "execution_count": 1,
   "id": "0c74faae",
   "metadata": {
    "deletable": false,
    "id": "7bcf75c9"
   },
   "outputs": [],
   "source": [
    "import pandas as pd\n",
    "\n",
    "try:\n",
    "    data = pd.read_csv('/datasets/data.csv')\n",
    "except:\n",
    "    data = pd.read_csv('https://code.s3.yandex.net/datasets/data.csv')"
   ]
  },
  {
   "cell_type": "markdown",
   "id": "5d0d3c35",
   "metadata": {
    "deletable": false,
    "editable": false,
    "id": "b8038fe3"
   },
   "source": [
    "**Задание 2. Выведите первые 20 строчек датафрейма `data` на экран.**"
   ]
  },
  {
   "cell_type": "code",
   "execution_count": 2,
   "id": "ea0118f8",
   "metadata": {
    "deletable": false,
    "id": "2a7cab99",
    "outputId": "1a8f3ef2-d323-4ec2-ddf7-89670b5944c4"
   },
   "outputs": [
    {
     "data": {
      "text/html": [
       "<div>\n",
       "<style scoped>\n",
       "    .dataframe tbody tr th:only-of-type {\n",
       "        vertical-align: middle;\n",
       "    }\n",
       "\n",
       "    .dataframe tbody tr th {\n",
       "        vertical-align: top;\n",
       "    }\n",
       "\n",
       "    .dataframe thead th {\n",
       "        text-align: right;\n",
       "    }\n",
       "</style>\n",
       "<table border=\"1\" class=\"dataframe\">\n",
       "  <thead>\n",
       "    <tr style=\"text-align: right;\">\n",
       "      <th></th>\n",
       "      <th>children</th>\n",
       "      <th>days_employed</th>\n",
       "      <th>dob_years</th>\n",
       "      <th>education</th>\n",
       "      <th>education_id</th>\n",
       "      <th>family_status</th>\n",
       "      <th>family_status_id</th>\n",
       "      <th>gender</th>\n",
       "      <th>income_type</th>\n",
       "      <th>debt</th>\n",
       "      <th>total_income</th>\n",
       "      <th>purpose</th>\n",
       "    </tr>\n",
       "  </thead>\n",
       "  <tbody>\n",
       "    <tr>\n",
       "      <th>0</th>\n",
       "      <td>1</td>\n",
       "      <td>-8437.673028</td>\n",
       "      <td>42</td>\n",
       "      <td>высшее</td>\n",
       "      <td>0</td>\n",
       "      <td>женат / замужем</td>\n",
       "      <td>0</td>\n",
       "      <td>F</td>\n",
       "      <td>сотрудник</td>\n",
       "      <td>0</td>\n",
       "      <td>253875.639453</td>\n",
       "      <td>покупка жилья</td>\n",
       "    </tr>\n",
       "    <tr>\n",
       "      <th>1</th>\n",
       "      <td>1</td>\n",
       "      <td>-4024.803754</td>\n",
       "      <td>36</td>\n",
       "      <td>среднее</td>\n",
       "      <td>1</td>\n",
       "      <td>женат / замужем</td>\n",
       "      <td>0</td>\n",
       "      <td>F</td>\n",
       "      <td>сотрудник</td>\n",
       "      <td>0</td>\n",
       "      <td>112080.014102</td>\n",
       "      <td>приобретение автомобиля</td>\n",
       "    </tr>\n",
       "    <tr>\n",
       "      <th>2</th>\n",
       "      <td>0</td>\n",
       "      <td>-5623.422610</td>\n",
       "      <td>33</td>\n",
       "      <td>Среднее</td>\n",
       "      <td>1</td>\n",
       "      <td>женат / замужем</td>\n",
       "      <td>0</td>\n",
       "      <td>M</td>\n",
       "      <td>сотрудник</td>\n",
       "      <td>0</td>\n",
       "      <td>145885.952297</td>\n",
       "      <td>покупка жилья</td>\n",
       "    </tr>\n",
       "    <tr>\n",
       "      <th>3</th>\n",
       "      <td>3</td>\n",
       "      <td>-4124.747207</td>\n",
       "      <td>32</td>\n",
       "      <td>среднее</td>\n",
       "      <td>1</td>\n",
       "      <td>женат / замужем</td>\n",
       "      <td>0</td>\n",
       "      <td>M</td>\n",
       "      <td>сотрудник</td>\n",
       "      <td>0</td>\n",
       "      <td>267628.550329</td>\n",
       "      <td>дополнительное образование</td>\n",
       "    </tr>\n",
       "    <tr>\n",
       "      <th>4</th>\n",
       "      <td>0</td>\n",
       "      <td>340266.072047</td>\n",
       "      <td>53</td>\n",
       "      <td>среднее</td>\n",
       "      <td>1</td>\n",
       "      <td>гражданский брак</td>\n",
       "      <td>1</td>\n",
       "      <td>F</td>\n",
       "      <td>пенсионер</td>\n",
       "      <td>0</td>\n",
       "      <td>158616.077870</td>\n",
       "      <td>сыграть свадьбу</td>\n",
       "    </tr>\n",
       "    <tr>\n",
       "      <th>5</th>\n",
       "      <td>0</td>\n",
       "      <td>-926.185831</td>\n",
       "      <td>27</td>\n",
       "      <td>высшее</td>\n",
       "      <td>0</td>\n",
       "      <td>гражданский брак</td>\n",
       "      <td>1</td>\n",
       "      <td>M</td>\n",
       "      <td>компаньон</td>\n",
       "      <td>0</td>\n",
       "      <td>255763.565419</td>\n",
       "      <td>покупка жилья</td>\n",
       "    </tr>\n",
       "    <tr>\n",
       "      <th>6</th>\n",
       "      <td>0</td>\n",
       "      <td>-2879.202052</td>\n",
       "      <td>43</td>\n",
       "      <td>высшее</td>\n",
       "      <td>0</td>\n",
       "      <td>женат / замужем</td>\n",
       "      <td>0</td>\n",
       "      <td>F</td>\n",
       "      <td>компаньон</td>\n",
       "      <td>0</td>\n",
       "      <td>240525.971920</td>\n",
       "      <td>операции с жильем</td>\n",
       "    </tr>\n",
       "    <tr>\n",
       "      <th>7</th>\n",
       "      <td>0</td>\n",
       "      <td>-152.779569</td>\n",
       "      <td>50</td>\n",
       "      <td>СРЕДНЕЕ</td>\n",
       "      <td>1</td>\n",
       "      <td>женат / замужем</td>\n",
       "      <td>0</td>\n",
       "      <td>M</td>\n",
       "      <td>сотрудник</td>\n",
       "      <td>0</td>\n",
       "      <td>135823.934197</td>\n",
       "      <td>образование</td>\n",
       "    </tr>\n",
       "    <tr>\n",
       "      <th>8</th>\n",
       "      <td>2</td>\n",
       "      <td>-6929.865299</td>\n",
       "      <td>35</td>\n",
       "      <td>ВЫСШЕЕ</td>\n",
       "      <td>0</td>\n",
       "      <td>гражданский брак</td>\n",
       "      <td>1</td>\n",
       "      <td>F</td>\n",
       "      <td>сотрудник</td>\n",
       "      <td>0</td>\n",
       "      <td>95856.832424</td>\n",
       "      <td>на проведение свадьбы</td>\n",
       "    </tr>\n",
       "    <tr>\n",
       "      <th>9</th>\n",
       "      <td>0</td>\n",
       "      <td>-2188.756445</td>\n",
       "      <td>41</td>\n",
       "      <td>среднее</td>\n",
       "      <td>1</td>\n",
       "      <td>женат / замужем</td>\n",
       "      <td>0</td>\n",
       "      <td>M</td>\n",
       "      <td>сотрудник</td>\n",
       "      <td>0</td>\n",
       "      <td>144425.938277</td>\n",
       "      <td>покупка жилья для семьи</td>\n",
       "    </tr>\n",
       "    <tr>\n",
       "      <th>10</th>\n",
       "      <td>2</td>\n",
       "      <td>-4171.483647</td>\n",
       "      <td>36</td>\n",
       "      <td>высшее</td>\n",
       "      <td>0</td>\n",
       "      <td>женат / замужем</td>\n",
       "      <td>0</td>\n",
       "      <td>M</td>\n",
       "      <td>компаньон</td>\n",
       "      <td>0</td>\n",
       "      <td>113943.491460</td>\n",
       "      <td>покупка недвижимости</td>\n",
       "    </tr>\n",
       "    <tr>\n",
       "      <th>11</th>\n",
       "      <td>0</td>\n",
       "      <td>-792.701887</td>\n",
       "      <td>40</td>\n",
       "      <td>среднее</td>\n",
       "      <td>1</td>\n",
       "      <td>женат / замужем</td>\n",
       "      <td>0</td>\n",
       "      <td>F</td>\n",
       "      <td>сотрудник</td>\n",
       "      <td>0</td>\n",
       "      <td>77069.234271</td>\n",
       "      <td>покупка коммерческой недвижимости</td>\n",
       "    </tr>\n",
       "    <tr>\n",
       "      <th>12</th>\n",
       "      <td>0</td>\n",
       "      <td>NaN</td>\n",
       "      <td>65</td>\n",
       "      <td>среднее</td>\n",
       "      <td>1</td>\n",
       "      <td>гражданский брак</td>\n",
       "      <td>1</td>\n",
       "      <td>M</td>\n",
       "      <td>пенсионер</td>\n",
       "      <td>0</td>\n",
       "      <td>NaN</td>\n",
       "      <td>сыграть свадьбу</td>\n",
       "    </tr>\n",
       "    <tr>\n",
       "      <th>13</th>\n",
       "      <td>0</td>\n",
       "      <td>-1846.641941</td>\n",
       "      <td>54</td>\n",
       "      <td>неоконченное высшее</td>\n",
       "      <td>2</td>\n",
       "      <td>женат / замужем</td>\n",
       "      <td>0</td>\n",
       "      <td>F</td>\n",
       "      <td>сотрудник</td>\n",
       "      <td>0</td>\n",
       "      <td>130458.228857</td>\n",
       "      <td>приобретение автомобиля</td>\n",
       "    </tr>\n",
       "    <tr>\n",
       "      <th>14</th>\n",
       "      <td>0</td>\n",
       "      <td>-1844.956182</td>\n",
       "      <td>56</td>\n",
       "      <td>высшее</td>\n",
       "      <td>0</td>\n",
       "      <td>гражданский брак</td>\n",
       "      <td>1</td>\n",
       "      <td>F</td>\n",
       "      <td>компаньон</td>\n",
       "      <td>1</td>\n",
       "      <td>165127.911772</td>\n",
       "      <td>покупка жилой недвижимости</td>\n",
       "    </tr>\n",
       "    <tr>\n",
       "      <th>15</th>\n",
       "      <td>1</td>\n",
       "      <td>-972.364419</td>\n",
       "      <td>26</td>\n",
       "      <td>среднее</td>\n",
       "      <td>1</td>\n",
       "      <td>женат / замужем</td>\n",
       "      <td>0</td>\n",
       "      <td>F</td>\n",
       "      <td>сотрудник</td>\n",
       "      <td>0</td>\n",
       "      <td>116820.904450</td>\n",
       "      <td>строительство собственной недвижимости</td>\n",
       "    </tr>\n",
       "    <tr>\n",
       "      <th>16</th>\n",
       "      <td>0</td>\n",
       "      <td>-1719.934226</td>\n",
       "      <td>35</td>\n",
       "      <td>среднее</td>\n",
       "      <td>1</td>\n",
       "      <td>женат / замужем</td>\n",
       "      <td>0</td>\n",
       "      <td>F</td>\n",
       "      <td>сотрудник</td>\n",
       "      <td>0</td>\n",
       "      <td>289202.704229</td>\n",
       "      <td>недвижимость</td>\n",
       "    </tr>\n",
       "    <tr>\n",
       "      <th>17</th>\n",
       "      <td>0</td>\n",
       "      <td>-2369.999720</td>\n",
       "      <td>33</td>\n",
       "      <td>высшее</td>\n",
       "      <td>0</td>\n",
       "      <td>гражданский брак</td>\n",
       "      <td>1</td>\n",
       "      <td>M</td>\n",
       "      <td>сотрудник</td>\n",
       "      <td>0</td>\n",
       "      <td>90410.586745</td>\n",
       "      <td>строительство недвижимости</td>\n",
       "    </tr>\n",
       "    <tr>\n",
       "      <th>18</th>\n",
       "      <td>0</td>\n",
       "      <td>400281.136913</td>\n",
       "      <td>53</td>\n",
       "      <td>среднее</td>\n",
       "      <td>1</td>\n",
       "      <td>вдовец / вдова</td>\n",
       "      <td>2</td>\n",
       "      <td>F</td>\n",
       "      <td>пенсионер</td>\n",
       "      <td>0</td>\n",
       "      <td>56823.777243</td>\n",
       "      <td>на покупку подержанного автомобиля</td>\n",
       "    </tr>\n",
       "    <tr>\n",
       "      <th>19</th>\n",
       "      <td>0</td>\n",
       "      <td>-10038.818549</td>\n",
       "      <td>48</td>\n",
       "      <td>СРЕДНЕЕ</td>\n",
       "      <td>1</td>\n",
       "      <td>в разводе</td>\n",
       "      <td>3</td>\n",
       "      <td>F</td>\n",
       "      <td>сотрудник</td>\n",
       "      <td>0</td>\n",
       "      <td>242831.107982</td>\n",
       "      <td>на покупку своего автомобиля</td>\n",
       "    </tr>\n",
       "  </tbody>\n",
       "</table>\n",
       "</div>"
      ],
      "text/plain": [
       "    children  days_employed  dob_years            education  education_id  \\\n",
       "0          1   -8437.673028         42               высшее             0   \n",
       "1          1   -4024.803754         36              среднее             1   \n",
       "2          0   -5623.422610         33              Среднее             1   \n",
       "3          3   -4124.747207         32              среднее             1   \n",
       "4          0  340266.072047         53              среднее             1   \n",
       "5          0    -926.185831         27               высшее             0   \n",
       "6          0   -2879.202052         43               высшее             0   \n",
       "7          0    -152.779569         50              СРЕДНЕЕ             1   \n",
       "8          2   -6929.865299         35               ВЫСШЕЕ             0   \n",
       "9          0   -2188.756445         41              среднее             1   \n",
       "10         2   -4171.483647         36               высшее             0   \n",
       "11         0    -792.701887         40              среднее             1   \n",
       "12         0            NaN         65              среднее             1   \n",
       "13         0   -1846.641941         54  неоконченное высшее             2   \n",
       "14         0   -1844.956182         56               высшее             0   \n",
       "15         1    -972.364419         26              среднее             1   \n",
       "16         0   -1719.934226         35              среднее             1   \n",
       "17         0   -2369.999720         33               высшее             0   \n",
       "18         0  400281.136913         53              среднее             1   \n",
       "19         0  -10038.818549         48              СРЕДНЕЕ             1   \n",
       "\n",
       "       family_status  family_status_id gender income_type  debt  \\\n",
       "0    женат / замужем                 0      F   сотрудник     0   \n",
       "1    женат / замужем                 0      F   сотрудник     0   \n",
       "2    женат / замужем                 0      M   сотрудник     0   \n",
       "3    женат / замужем                 0      M   сотрудник     0   \n",
       "4   гражданский брак                 1      F   пенсионер     0   \n",
       "5   гражданский брак                 1      M   компаньон     0   \n",
       "6    женат / замужем                 0      F   компаньон     0   \n",
       "7    женат / замужем                 0      M   сотрудник     0   \n",
       "8   гражданский брак                 1      F   сотрудник     0   \n",
       "9    женат / замужем                 0      M   сотрудник     0   \n",
       "10   женат / замужем                 0      M   компаньон     0   \n",
       "11   женат / замужем                 0      F   сотрудник     0   \n",
       "12  гражданский брак                 1      M   пенсионер     0   \n",
       "13   женат / замужем                 0      F   сотрудник     0   \n",
       "14  гражданский брак                 1      F   компаньон     1   \n",
       "15   женат / замужем                 0      F   сотрудник     0   \n",
       "16   женат / замужем                 0      F   сотрудник     0   \n",
       "17  гражданский брак                 1      M   сотрудник     0   \n",
       "18    вдовец / вдова                 2      F   пенсионер     0   \n",
       "19         в разводе                 3      F   сотрудник     0   \n",
       "\n",
       "     total_income                                 purpose  \n",
       "0   253875.639453                           покупка жилья  \n",
       "1   112080.014102                 приобретение автомобиля  \n",
       "2   145885.952297                           покупка жилья  \n",
       "3   267628.550329              дополнительное образование  \n",
       "4   158616.077870                         сыграть свадьбу  \n",
       "5   255763.565419                           покупка жилья  \n",
       "6   240525.971920                       операции с жильем  \n",
       "7   135823.934197                             образование  \n",
       "8    95856.832424                   на проведение свадьбы  \n",
       "9   144425.938277                 покупка жилья для семьи  \n",
       "10  113943.491460                    покупка недвижимости  \n",
       "11   77069.234271       покупка коммерческой недвижимости  \n",
       "12            NaN                         сыграть свадьбу  \n",
       "13  130458.228857                 приобретение автомобиля  \n",
       "14  165127.911772              покупка жилой недвижимости  \n",
       "15  116820.904450  строительство собственной недвижимости  \n",
       "16  289202.704229                            недвижимость  \n",
       "17   90410.586745              строительство недвижимости  \n",
       "18   56823.777243      на покупку подержанного автомобиля  \n",
       "19  242831.107982            на покупку своего автомобиля  "
      ]
     },
     "execution_count": 2,
     "metadata": {},
     "output_type": "execute_result"
    }
   ],
   "source": [
    "data.head(20)"
   ]
  },
  {
   "cell_type": "markdown",
   "id": "ef775c6f",
   "metadata": {
    "deletable": false,
    "editable": false,
    "id": "1c12e233"
   },
   "source": [
    "**Задание 3. Выведите основную информацию о датафрейме с помощью метода `info()`.**"
   ]
  },
  {
   "cell_type": "code",
   "execution_count": 3,
   "id": "98a7ce6e",
   "metadata": {
    "deletable": false,
    "id": "2b757bca",
    "outputId": "15376089-8dad-46c9-b520-c05248d43158"
   },
   "outputs": [
    {
     "name": "stdout",
     "output_type": "stream",
     "text": [
      "<class 'pandas.core.frame.DataFrame'>\n",
      "RangeIndex: 21525 entries, 0 to 21524\n",
      "Data columns (total 12 columns):\n",
      " #   Column            Non-Null Count  Dtype  \n",
      "---  ------            --------------  -----  \n",
      " 0   children          21525 non-null  int64  \n",
      " 1   days_employed     19351 non-null  float64\n",
      " 2   dob_years         21525 non-null  int64  \n",
      " 3   education         21525 non-null  object \n",
      " 4   education_id      21525 non-null  int64  \n",
      " 5   family_status     21525 non-null  object \n",
      " 6   family_status_id  21525 non-null  int64  \n",
      " 7   gender            21525 non-null  object \n",
      " 8   income_type       21525 non-null  object \n",
      " 9   debt              21525 non-null  int64  \n",
      " 10  total_income      19351 non-null  float64\n",
      " 11  purpose           21525 non-null  object \n",
      "dtypes: float64(2), int64(5), object(5)\n",
      "memory usage: 2.0+ MB\n"
     ]
    }
   ],
   "source": [
    "data.info()"
   ]
  },
  {
   "cell_type": "markdown",
   "id": "8b79eeb8",
   "metadata": {
    "deletable": false,
    "editable": false,
    "id": "333ec665"
   },
   "source": [
    "## Предобработка данных"
   ]
  },
  {
   "cell_type": "markdown",
   "id": "436d2c0f",
   "metadata": {
    "deletable": false,
    "editable": false,
    "id": "02d92d53"
   },
   "source": [
    "### Удаление пропусков"
   ]
  },
  {
   "cell_type": "markdown",
   "id": "185538de",
   "metadata": {
    "deletable": false,
    "editable": false,
    "id": "cd84967c"
   },
   "source": [
    "**Задание 4. Выведите количество пропущенных значений для каждого столбца. Используйте комбинацию двух методов.**"
   ]
  },
  {
   "cell_type": "code",
   "execution_count": 4,
   "id": "2088050f",
   "metadata": {
    "deletable": false,
    "id": "7f9b2309",
    "outputId": "81f4d817-781c-465c-ed15-91ce4446810d"
   },
   "outputs": [
    {
     "data": {
      "text/plain": [
       "children               0\n",
       "days_employed       2174\n",
       "dob_years              0\n",
       "education              0\n",
       "education_id           0\n",
       "family_status          0\n",
       "family_status_id       0\n",
       "gender                 0\n",
       "income_type            0\n",
       "debt                   0\n",
       "total_income        2174\n",
       "purpose                0\n",
       "dtype: int64"
      ]
     },
     "execution_count": 4,
     "metadata": {},
     "output_type": "execute_result"
    }
   ],
   "source": [
    "data.isna().sum()"
   ]
  },
  {
   "cell_type": "markdown",
   "id": "c8feec94",
   "metadata": {
    "deletable": false,
    "editable": false,
    "id": "db86e27b"
   },
   "source": [
    "**Задание 5. В двух столбцах есть пропущенные значения. Один из них — `days_employed`. Пропуски в этом столбце вы обработаете на следующем этапе. Другой столбец с пропущенными значениями — `total_income` — хранит данные о доходах. На сумму дохода сильнее всего влияет тип занятости, поэтому заполнить пропуски в этом столбце нужно медианным значением по каждому типу из столбца `income_type`. Например, у человека с типом занятости `сотрудник` пропуск в столбце `total_income` должен быть заполнен медианным доходом среди всех записей с тем же типом.**"
   ]
  },
  {
   "cell_type": "code",
   "execution_count": 5,
   "id": "13a7321f",
   "metadata": {
    "deletable": false,
    "id": "42006a93"
   },
   "outputs": [],
   "source": [
    "for t in data['income_type'].unique():\n",
    "    data.loc[(data['income_type'] == t) & (data['total_income'].isna()), 'total_income'] = \\\n",
    "    data.loc[(data['income_type'] == t), 'total_income'].median()"
   ]
  },
  {
   "cell_type": "markdown",
   "id": "9b2a3ceb",
   "metadata": {
    "deletable": false,
    "editable": false,
    "id": "89da5ece"
   },
   "source": [
    "### Обработка аномальных значений"
   ]
  },
  {
   "cell_type": "markdown",
   "id": "496810b3",
   "metadata": {
    "deletable": false,
    "editable": false,
    "id": "57964554"
   },
   "source": [
    "**Задание 6. В данных могут встречаться артефакты (аномалии) — значения, которые не отражают действительность и появились по какой-то ошибке. таким артефактом будет отрицательное количество дней трудового стажа в столбце `days_employed`. Для реальных данных это нормально. Обработайте значения в этом столбце: замените все отрицательные значения положительными с помощью метода `abs()`.**"
   ]
  },
  {
   "cell_type": "code",
   "execution_count": 6,
   "id": "ddd2d393",
   "metadata": {
    "deletable": false,
    "id": "f6f055bf"
   },
   "outputs": [],
   "source": [
    "data['days_employed'] = data['days_employed'].abs()"
   ]
  },
  {
   "cell_type": "markdown",
   "id": "f9ed72aa",
   "metadata": {
    "deletable": false,
    "editable": false,
    "id": "6107dd2f"
   },
   "source": [
    "**Задание 7. Для каждого типа занятости выведите медианное значение трудового стажа `days_employed` в днях.**"
   ]
  },
  {
   "cell_type": "code",
   "execution_count": 7,
   "id": "a1a1f79a",
   "metadata": {
    "deletable": false,
    "id": "85a5faf6",
    "outputId": "801ef80e-522b-4668-f34e-565af7432bcf"
   },
   "outputs": [
    {
     "data": {
      "text/plain": [
       "income_type\n",
       "безработный        366413.652744\n",
       "в декрете            3296.759962\n",
       "госслужащий          2689.368353\n",
       "компаньон            1547.382223\n",
       "пенсионер          365213.306266\n",
       "предприниматель       520.848083\n",
       "сотрудник            1574.202821\n",
       "студент               578.751554\n",
       "Name: days_employed, dtype: float64"
      ]
     },
     "execution_count": 7,
     "metadata": {},
     "output_type": "execute_result"
    }
   ],
   "source": [
    "data.groupby('income_type')['days_employed'].agg('median')"
   ]
  },
  {
   "cell_type": "markdown",
   "id": "d50f8d8f",
   "metadata": {
    "deletable": false,
    "editable": false,
    "id": "38d1a030"
   },
   "source": [
    "У двух типов (безработные и пенсионеры) получатся аномально большие значения. Исправить такие значения сложно, поэтому оставьте их как есть. Тем более этот столбец не понадобится вам для исследования."
   ]
  },
  {
   "cell_type": "markdown",
   "id": "f4136a9e",
   "metadata": {
    "deletable": false,
    "editable": false,
    "id": "d8a9f147"
   },
   "source": [
    "**Задание 8. Выведите перечень уникальных значений столбца `children`.**"
   ]
  },
  {
   "cell_type": "code",
   "execution_count": 8,
   "id": "0239d87b",
   "metadata": {
    "deletable": false,
    "id": "ef5056eb",
    "outputId": "6975b15c-7f95-4697-d16d-a0c79b657b03"
   },
   "outputs": [
    {
     "data": {
      "text/plain": [
       "array([ 1,  0,  3,  2, -1,  4, 20,  5])"
      ]
     },
     "execution_count": 8,
     "metadata": {},
     "output_type": "execute_result"
    }
   ],
   "source": [
    "data['children'].unique()"
   ]
  },
  {
   "cell_type": "markdown",
   "id": "d5ca627a",
   "metadata": {
    "deletable": false,
    "editable": false,
    "id": "40b9ebf2"
   },
   "source": [
    "**Задание 9. В столбце `children` есть два аномальных значения. Удалите строки, в которых встречаются такие аномальные значения из датафрейма `data`.**"
   ]
  },
  {
   "cell_type": "code",
   "execution_count": 9,
   "id": "329f065c",
   "metadata": {
    "deletable": false,
    "id": "3ff9801d"
   },
   "outputs": [],
   "source": [
    "data = data[(data['children'] != -1) & (data['children'] != 20)]"
   ]
  },
  {
   "cell_type": "markdown",
   "id": "cc9d6f97",
   "metadata": {
    "deletable": false,
    "editable": false,
    "id": "bbc4d0ce"
   },
   "source": [
    "**Задание 10. Ещё раз выведите перечень уникальных значений столбца `children`, чтобы убедиться, что артефакты удалены.**"
   ]
  },
  {
   "cell_type": "code",
   "execution_count": 10,
   "id": "32ca3df8",
   "metadata": {
    "deletable": false,
    "id": "ad4fa8b7",
    "outputId": "b2097101-d49d-44d9-901b-32a65c9463d1"
   },
   "outputs": [
    {
     "data": {
      "text/plain": [
       "array([1, 0, 3, 2, 4, 5])"
      ]
     },
     "execution_count": 10,
     "metadata": {},
     "output_type": "execute_result"
    }
   ],
   "source": [
    "data['children'].unique()"
   ]
  },
  {
   "cell_type": "markdown",
   "id": "2b3c1f71",
   "metadata": {
    "deletable": false,
    "editable": false,
    "id": "75440b63"
   },
   "source": [
    "### Удаление пропусков (продолжение)"
   ]
  },
  {
   "cell_type": "markdown",
   "id": "433250a2",
   "metadata": {
    "deletable": false,
    "editable": false,
    "id": "f4ea573f"
   },
   "source": [
    "**Задание 11. Заполните пропуски в столбце `days_employed` медианными значениями по каждого типа занятости `income_type`.**"
   ]
  },
  {
   "cell_type": "code",
   "execution_count": 11,
   "id": "c91587db",
   "metadata": {
    "deletable": false,
    "id": "af6b1a7e"
   },
   "outputs": [],
   "source": [
    "for t in data['income_type'].unique():\n",
    "    data.loc[(data['income_type'] == t) & (data['days_employed'].isna()), 'days_employed'] = \\\n",
    "    data.loc[(data['income_type'] == t), 'days_employed'].median()"
   ]
  },
  {
   "cell_type": "markdown",
   "id": "6dc8240e",
   "metadata": {
    "deletable": false,
    "editable": false,
    "id": "2753f40d"
   },
   "source": [
    "**Задание 12. Убедитесь, что все пропуски заполнены. Проверьте себя и ещё раз выведите количество пропущенных значений для каждого столбца с помощью двух методов.**"
   ]
  },
  {
   "cell_type": "code",
   "execution_count": 12,
   "id": "021c7e94",
   "metadata": {
    "deletable": false,
    "id": "55f78bc2",
    "outputId": "8da1e4e1-358e-4e87-98c9-f261bce0a7b2"
   },
   "outputs": [
    {
     "data": {
      "text/plain": [
       "children            0\n",
       "days_employed       0\n",
       "dob_years           0\n",
       "education           0\n",
       "education_id        0\n",
       "family_status       0\n",
       "family_status_id    0\n",
       "gender              0\n",
       "income_type         0\n",
       "debt                0\n",
       "total_income        0\n",
       "purpose             0\n",
       "dtype: int64"
      ]
     },
     "execution_count": 12,
     "metadata": {},
     "output_type": "execute_result"
    }
   ],
   "source": [
    "data.isna().sum()"
   ]
  },
  {
   "cell_type": "markdown",
   "id": "50fe004a",
   "metadata": {
    "deletable": false,
    "editable": false,
    "id": "ddc81e43"
   },
   "source": [
    "### Изменение типов данных"
   ]
  },
  {
   "cell_type": "markdown",
   "id": "b18a0681",
   "metadata": {
    "deletable": false,
    "editable": false,
    "id": "42d19d24"
   },
   "source": [
    "**Задание 13. Замените вещественный тип данных в столбце `total_income` на целочисленный с помощью метода `astype()`.**"
   ]
  },
  {
   "cell_type": "code",
   "execution_count": 13,
   "id": "ed6990df",
   "metadata": {
    "deletable": false,
    "id": "920b65ad"
   },
   "outputs": [],
   "source": [
    "data['total_income'] = data['total_income'].astype(int)"
   ]
  },
  {
   "cell_type": "markdown",
   "id": "1959ba7a",
   "metadata": {
    "deletable": false,
    "editable": false,
    "id": "80c420ba"
   },
   "source": [
    "### Обработка дубликатов"
   ]
  },
  {
   "cell_type": "markdown",
   "id": "573c9d2f",
   "metadata": {
    "deletable": false,
    "editable": false
   },
   "source": [
    "**Задание 14. Обработайте неявные дубликаты в столбце `education`. В этом столбце есть одни и те же значения, но записанные по-разному: с использованием заглавных и строчных букв. Приведите их к нижнему регистру. Проверьте остальные столбцы.**"
   ]
  },
  {
   "cell_type": "code",
   "execution_count": 14,
   "id": "19c3a9b8",
   "metadata": {
    "deletable": false
   },
   "outputs": [],
   "source": [
    "data['education'] = data['education'].str.lower()"
   ]
  },
  {
   "cell_type": "markdown",
   "id": "6be68cb3",
   "metadata": {
    "deletable": false,
    "editable": false,
    "id": "dc587695"
   },
   "source": [
    "**Задание 15. Выведите на экран количество строк-дубликатов в данных. Если такие строки присутствуют, удалите их.**"
   ]
  },
  {
   "cell_type": "code",
   "execution_count": 15,
   "id": "507f6953",
   "metadata": {
    "deletable": false,
    "id": "3ee445e4",
    "outputId": "9684deba-1934-42d1-99e1-cda61740f822"
   },
   "outputs": [
    {
     "data": {
      "text/plain": [
       "71"
      ]
     },
     "execution_count": 15,
     "metadata": {},
     "output_type": "execute_result"
    }
   ],
   "source": [
    "data.duplicated().sum()"
   ]
  },
  {
   "cell_type": "code",
   "execution_count": 16,
   "id": "0e3a8125",
   "metadata": {
    "deletable": false,
    "id": "8575fe05"
   },
   "outputs": [],
   "source": [
    "data = data.drop_duplicates()"
   ]
  },
  {
   "cell_type": "markdown",
   "id": "5da84498",
   "metadata": {
    "deletable": false,
    "editable": false,
    "id": "9904cf55"
   },
   "source": [
    "### Категоризация данных"
   ]
  },
  {
   "cell_type": "markdown",
   "id": "4af54fbc",
   "metadata": {
    "deletable": false,
    "editable": false,
    "id": "72fcc8a2"
   },
   "source": [
    "**Задание 16. На основании диапазонов, указанных ниже, создайте в датафрейме `data` столбец `total_income_category` с категориями:**\n",
    "\n",
    "- 0–30000 — `'E'`;\n",
    "- 30001–50000 — `'D'`;\n",
    "- 50001–200000 — `'C'`;\n",
    "- 200001–1000000 — `'B'`;\n",
    "- 1000001 и выше — `'A'`.\n",
    "\n",
    "\n",
    "**Например, кредитополучателю с доходом 25000 нужно назначить категорию `'E'`, а клиенту, получающему 235000, — `'B'`. Используйте собственную функцию с именем `categorize_income()` и метод `apply()`.**"
   ]
  },
  {
   "cell_type": "code",
   "execution_count": 17,
   "id": "3e121724",
   "metadata": {
    "deletable": false,
    "id": "e1771346"
   },
   "outputs": [],
   "source": [
    "def categorize_income(income):\n",
    "    try:\n",
    "        if 0 <= income <= 30000:\n",
    "            return 'E'\n",
    "        elif 30001 <= income <= 50000:\n",
    "            return 'D'\n",
    "        elif 50001 <= income <= 200000:\n",
    "            return 'C'\n",
    "        elif 200001 <= income <= 1000000:\n",
    "            return 'B'\n",
    "        elif income >= 1000001:\n",
    "            return 'A'\n",
    "    except:\n",
    "        pass"
   ]
  },
  {
   "cell_type": "code",
   "execution_count": 18,
   "id": "8922a46b",
   "metadata": {
    "deletable": false,
    "id": "d5f3586d"
   },
   "outputs": [],
   "source": [
    "data['total_income_category'] = data['total_income'].apply(categorize_income)"
   ]
  },
  {
   "cell_type": "markdown",
   "id": "51ce3d49",
   "metadata": {
    "deletable": false,
    "editable": false,
    "id": "dde49b5c"
   },
   "source": [
    "**Задание 17. Выведите на экран перечень уникальных целей взятия кредита из столбца `purpose`.**"
   ]
  },
  {
   "cell_type": "code",
   "execution_count": 19,
   "id": "58b66f07",
   "metadata": {
    "deletable": false,
    "id": "f67ce9b3",
    "outputId": "673c12d9-7d7e-4ae0-9812-c622c89dd244"
   },
   "outputs": [
    {
     "data": {
      "text/plain": [
       "array(['покупка жилья', 'приобретение автомобиля',\n",
       "       'дополнительное образование', 'сыграть свадьбу',\n",
       "       'операции с жильем', 'образование', 'на проведение свадьбы',\n",
       "       'покупка жилья для семьи', 'покупка недвижимости',\n",
       "       'покупка коммерческой недвижимости', 'покупка жилой недвижимости',\n",
       "       'строительство собственной недвижимости', 'недвижимость',\n",
       "       'строительство недвижимости', 'на покупку подержанного автомобиля',\n",
       "       'на покупку своего автомобиля',\n",
       "       'операции с коммерческой недвижимостью',\n",
       "       'строительство жилой недвижимости', 'жилье',\n",
       "       'операции со своей недвижимостью', 'автомобили',\n",
       "       'заняться образованием', 'сделка с подержанным автомобилем',\n",
       "       'получение образования', 'автомобиль', 'свадьба',\n",
       "       'получение дополнительного образования', 'покупка своего жилья',\n",
       "       'операции с недвижимостью', 'получение высшего образования',\n",
       "       'свой автомобиль', 'сделка с автомобилем',\n",
       "       'профильное образование', 'высшее образование',\n",
       "       'покупка жилья для сдачи', 'на покупку автомобиля', 'ремонт жилью',\n",
       "       'заняться высшим образованием'], dtype=object)"
      ]
     },
     "execution_count": 19,
     "metadata": {},
     "output_type": "execute_result"
    }
   ],
   "source": [
    "data['purpose'].unique()"
   ]
  },
  {
   "cell_type": "markdown",
   "id": "cf0f3350",
   "metadata": {
    "deletable": false,
    "editable": false,
    "id": "85d0aef0"
   },
   "source": [
    "**Задание 18. Создайте функцию, которая на основании данных из столбца `purpose` сформирует новый столбец `purpose_category`, в который войдут следующие категории:**\n",
    "\n",
    "- `'операции с автомобилем'`,\n",
    "- `'операции с недвижимостью'`,\n",
    "- `'проведение свадьбы'`,\n",
    "- `'получение образования'`.\n",
    "\n",
    "**Например, если в столбце `purpose` находится подстрока `'на покупку автомобиля'`, то в столбце `purpose_category` должна появиться строка `'операции с автомобилем'`.**\n",
    "\n",
    "**Используйте собственную функцию с именем `categorize_purpose()` и метод `apply()`. Изучите данные в столбце `purpose` и определите, какие подстроки помогут вам правильно определить категорию.**"
   ]
  },
  {
   "cell_type": "code",
   "execution_count": 20,
   "id": "79d65e3d",
   "metadata": {
    "deletable": false,
    "id": "e149fab4"
   },
   "outputs": [],
   "source": [
    "def categorize_purpose(row):\n",
    "    try:\n",
    "        if 'автом' in row:\n",
    "            return 'операции с автомобилем'\n",
    "        elif 'жил' in row or 'недвиж' in row:\n",
    "            return 'операции с недвижимостью'\n",
    "        elif 'свад' in row:\n",
    "            return 'проведение свадьбы'\n",
    "        elif 'образов' in row:\n",
    "            return 'получение образования'\n",
    "    except:\n",
    "        return 'нет категории'"
   ]
  },
  {
   "cell_type": "code",
   "execution_count": 21,
   "id": "0dc47e52",
   "metadata": {
    "deletable": false,
    "id": "bf36e69b"
   },
   "outputs": [],
   "source": [
    "data['purpose_category'] = data['purpose'].apply(categorize_purpose)"
   ]
  },
  {
   "cell_type": "markdown",
   "id": "cde02375",
   "metadata": {
    "deletable": false,
    "editable": false,
    "id": "09b242bf"
   },
   "source": [
    "### Шаг 3. Исследуйте данные и ответьте на вопросы"
   ]
  },
  {
   "cell_type": "markdown",
   "id": "339e2979",
   "metadata": {
    "deletable": false,
    "editable": false,
    "id": "c5d66278"
   },
   "source": [
    "#### 3.1 Есть ли зависимость между количеством детей и возвратом кредита в срок?"
   ]
  },
  {
   "cell_type": "code",
   "execution_count": 22,
   "id": "dff1f976",
   "metadata": {
    "deletable": false,
    "id": "2cacfc4a",
    "scrolled": true
   },
   "outputs": [
    {
     "data": {
      "text/html": [
       "<div>\n",
       "<style scoped>\n",
       "    .dataframe tbody tr th:only-of-type {\n",
       "        vertical-align: middle;\n",
       "    }\n",
       "\n",
       "    .dataframe tbody tr th {\n",
       "        vertical-align: top;\n",
       "    }\n",
       "\n",
       "    .dataframe thead th {\n",
       "        text-align: right;\n",
       "    }\n",
       "</style>\n",
       "<table border=\"1\" class=\"dataframe\">\n",
       "  <thead>\n",
       "    <tr style=\"text-align: right;\">\n",
       "      <th></th>\n",
       "      <th>Количество записей</th>\n",
       "      <th>Среднее</th>\n",
       "    </tr>\n",
       "    <tr>\n",
       "      <th>children</th>\n",
       "      <th></th>\n",
       "      <th></th>\n",
       "    </tr>\n",
       "  </thead>\n",
       "  <tbody>\n",
       "    <tr>\n",
       "      <th>0</th>\n",
       "      <td>14091.0</td>\n",
       "      <td>7.54%</td>\n",
       "    </tr>\n",
       "    <tr>\n",
       "      <th>1</th>\n",
       "      <td>4808.0</td>\n",
       "      <td>9.23%</td>\n",
       "    </tr>\n",
       "    <tr>\n",
       "      <th>2</th>\n",
       "      <td>2052.0</td>\n",
       "      <td>9.45%</td>\n",
       "    </tr>\n",
       "    <tr>\n",
       "      <th>3</th>\n",
       "      <td>330.0</td>\n",
       "      <td>8.18%</td>\n",
       "    </tr>\n",
       "    <tr>\n",
       "      <th>4</th>\n",
       "      <td>41.0</td>\n",
       "      <td>9.76%</td>\n",
       "    </tr>\n",
       "    <tr>\n",
       "      <th>5</th>\n",
       "      <td>9.0</td>\n",
       "      <td>0.00%</td>\n",
       "    </tr>\n",
       "  </tbody>\n",
       "</table>\n",
       "</div>"
      ],
      "text/plain": [
       "          Количество записей Среднее\n",
       "children                            \n",
       "0                    14091.0   7.54%\n",
       "1                     4808.0   9.23%\n",
       "2                     2052.0   9.45%\n",
       "3                      330.0   8.18%\n",
       "4                       41.0   9.76%\n",
       "5                        9.0   0.00%"
      ]
     },
     "execution_count": 22,
     "metadata": {},
     "output_type": "execute_result"
    }
   ],
   "source": [
    "# Ваш код будет здесь. Вы можете создавать новые ячейки.\n",
    "#data['children'].value_counts()\n",
    "#заметил, что есть отрицательные значения и вызывает сомнение цифра 20, но все возможно))\n",
    "data['children'] = data['children'].abs()\n",
    "#data['children'].value_counts()\n",
    "#отрицательные значения измененя на положительные\n",
    "#mean = data.groupby('children')['debt'].mean()\n",
    "#def children_count(series):\n",
    "    #return \"(0:.2%)\".format(series.sum()/series.count())\n",
    "#data.groupby('children').agg({'children':['mean', 'count', children_count]})\n",
    "#data.groupby('children')['debt'].mean()\n",
    "ch = data.pivot_table(index = ['children'], values='debt', aggfunc = ('mean', lambda X:\n",
    "                                                                       X.count()))\n",
    "\n",
    "def percent(x):\n",
    "    return \"{0:.2%}\".format(x)\n",
    "\n",
    "ch['mean'] = ch['mean'].apply(percent)\n",
    "ch = ch.rename(columns={\"<lambda_0>\": \"Количество записей\", \"mean\": \"Среднее\"})\n",
    "ch.sort_values(by='Количество записей', ascending=False)"
   ]
  },
  {
   "cell_type": "markdown",
   "id": "16ab4c81",
   "metadata": {
    "deletable": false,
    "id": "3a6b99ec"
   },
   "source": [
    "**Вывод:** Люди, у которых есть от 1 до 4 детей, имеют более высокий процент долга, чем люди, у которых нет детей. Для людей, у которых 5 человек; Без объяснений."
   ]
  },
  {
   "cell_type": "markdown",
   "id": "820ecc64",
   "metadata": {},
   "source": [
    "конечно «разбег» между \"цифрами\" в наших данных мал. **Возможно**, что в рамках имеющихся данных сделать вывод о том, что семьи с детьми относительно семей без оных имеют какие-то задержки в выплатах кредитов нельзя. Слишком уж близки доли, чуть измениться выборка и значения могут измениться в другую сторону. То есть можно сделать вывод, что сколь угодно значимой разницы между группами нет ... однако учти, что даже небольшие разницы могут существенно сказываться на кредитном портфеле банка. Например, наш банк в год выдает кредитов на 100.000.000.000 (сто миллиардов) рублей. В какую сумму выльется разница в 1,9%, если мы выдадим кредит не той аудитории? Значимая разница в деньгах?\n",
    "\n",
    "Однако, если считать, что **любая** разница между группами есть повод для «разделения» классов, то я бы сделал такой вывод: кредитополучатели без детей являются более ответственными, чем клиенты, у которых есть дети. Видимо, наличие ребенка накладывает на клиента дополнительные финансовое бремя (обязательства) и клиенты либо менее ответственно относятся к своим кредитным обязательствам, либо не имеют возможности в срок оплачивать обязательства.\n",
    "\n",
    "Ну и что ещё можно увидеть в наших данных (агрегация «по count» в этом может помочь), то, что по некоторым группам заемщиков у нас недостаточно данных. Говорят, что выборка не сбалансирована, классы в выборке имеют разные размеры.\n",
    "\n",
    "P.S. И вот ещё какой важный момент – да, на больших суммах и маленькие доли процента выльются в значительные объемы. Но вообще, насколько я понимаю логику кредитного бизнеса, дело не в том, чтобы кому-то не давать денег, а в том, чтобы компенсировать риск выдачи кредитным процентом. То есть, потенциальный должник заплатит более высокий процент за использование кредита. Так что в этой задаче фактически рассматривается вопрос - повышать ли процент заемщику с детьми. И статистика, которая показывает, что человек с 4 детьми просрочит выплату примерно так же, как и с двумя, - она, на мой взгляд, не обосновывает ужесточение кредитных условий для семей с детьми. К тому же тут зафиксировано количество детей только на момент выдачи кредита, никто не гарантирует, что их не станет больше в течение срока выплаты. Таким образом из этих данных можно сделать скорее другой вывод: кредитный портфель бездетных (со сроками выданных кредитов по несколько лет) скорее всего со временем ухудшится по показателю возврата денег (какая-то часть бездетных заведут детей, и у них должников из 7,5% станет 9%). И тогда этот риск можно было бы закладывать заранее (но для этого хорошо было бы понимать, сколько бездетных перейдут в категорию «с детьми» в течение 5 лет, например)."
   ]
  },
  {
   "cell_type": "markdown",
   "id": "a88af50e",
   "metadata": {
    "deletable": false,
    "editable": false,
    "id": "97be82ca"
   },
   "source": [
    "#### 3.2 Есть ли зависимость между семейным положением и возвратом кредита в срок?"
   ]
  },
  {
   "cell_type": "code",
   "execution_count": 23,
   "id": "5e9cff84",
   "metadata": {
    "deletable": false,
    "id": "dc3f7ee8"
   },
   "outputs": [
    {
     "data": {
      "text/html": [
       "<div>\n",
       "<style scoped>\n",
       "    .dataframe tbody tr th:only-of-type {\n",
       "        vertical-align: middle;\n",
       "    }\n",
       "\n",
       "    .dataframe tbody tr th {\n",
       "        vertical-align: top;\n",
       "    }\n",
       "\n",
       "    .dataframe thead th {\n",
       "        text-align: right;\n",
       "    }\n",
       "</style>\n",
       "<table border=\"1\" class=\"dataframe\">\n",
       "  <thead>\n",
       "    <tr style=\"text-align: right;\">\n",
       "      <th></th>\n",
       "      <th>Количество записей</th>\n",
       "      <th>Среднее</th>\n",
       "    </tr>\n",
       "    <tr>\n",
       "      <th>family_status</th>\n",
       "      <th></th>\n",
       "      <th></th>\n",
       "    </tr>\n",
       "  </thead>\n",
       "  <tbody>\n",
       "    <tr>\n",
       "      <th>женат / замужем</th>\n",
       "      <td>12261.0</td>\n",
       "      <td>7.56%</td>\n",
       "    </tr>\n",
       "    <tr>\n",
       "      <th>гражданский брак</th>\n",
       "      <td>4134.0</td>\n",
       "      <td>9.31%</td>\n",
       "    </tr>\n",
       "    <tr>\n",
       "      <th>Не женат / не замужем</th>\n",
       "      <td>2796.0</td>\n",
       "      <td>9.76%</td>\n",
       "    </tr>\n",
       "    <tr>\n",
       "      <th>в разводе</th>\n",
       "      <td>1189.0</td>\n",
       "      <td>7.06%</td>\n",
       "    </tr>\n",
       "    <tr>\n",
       "      <th>вдовец / вдова</th>\n",
       "      <td>951.0</td>\n",
       "      <td>6.62%</td>\n",
       "    </tr>\n",
       "  </tbody>\n",
       "</table>\n",
       "</div>"
      ],
      "text/plain": [
       "                       Количество записей Среднее\n",
       "family_status                                    \n",
       "женат / замужем                   12261.0   7.56%\n",
       "гражданский брак                   4134.0   9.31%\n",
       "Не женат / не замужем              2796.0   9.76%\n",
       "в разводе                          1189.0   7.06%\n",
       "вдовец / вдова                      951.0   6.62%"
      ]
     },
     "execution_count": 23,
     "metadata": {},
     "output_type": "execute_result"
    }
   ],
   "source": [
    "# Ваш код будет здесь. Вы можете создавать новые ячейки.\n",
    "#print(data.groupby('family_status')['debt'].mean())\n",
    "fs = data.pivot_table(index = ['family_status'], values='debt', aggfunc = ('mean', lambda X:\n",
    "                                                                       X.count()))\n",
    "\n",
    "def percent(x):\n",
    "    return \"{0:.2%}\".format(x)\n",
    "\n",
    "fs['mean'] = fs['mean'].apply(percent)\n",
    "fs = fs.rename(columns={\"<lambda_0>\": \"Количество записей\", \"mean\": \"Среднее\"})\n",
    "fs.sort_values(by='Количество записей', ascending=False)"
   ]
  },
  {
   "cell_type": "markdown",
   "id": "23376863",
   "metadata": {
    "deletable": false,
    "editable": false,
    "id": "1e8b2fca"
   },
   "source": [
    "#### 3.3 Есть ли зависимость между уровнем дохода и возвратом кредита в срок?"
   ]
  },
  {
   "cell_type": "code",
   "execution_count": 24,
   "id": "81e8e103",
   "metadata": {
    "deletable": false,
    "id": "cd7e3720"
   },
   "outputs": [
    {
     "data": {
      "text/html": [
       "<div>\n",
       "<style scoped>\n",
       "    .dataframe tbody tr th:only-of-type {\n",
       "        vertical-align: middle;\n",
       "    }\n",
       "\n",
       "    .dataframe tbody tr th {\n",
       "        vertical-align: top;\n",
       "    }\n",
       "\n",
       "    .dataframe thead th {\n",
       "        text-align: right;\n",
       "    }\n",
       "</style>\n",
       "<table border=\"1\" class=\"dataframe\">\n",
       "  <thead>\n",
       "    <tr style=\"text-align: right;\">\n",
       "      <th></th>\n",
       "      <th>Количество записей</th>\n",
       "      <th>Среднее по задолжностям</th>\n",
       "    </tr>\n",
       "    <tr>\n",
       "      <th>total_income_category</th>\n",
       "      <th></th>\n",
       "      <th></th>\n",
       "    </tr>\n",
       "  </thead>\n",
       "  <tbody>\n",
       "    <tr>\n",
       "      <th>C</th>\n",
       "      <td>15921.0</td>\n",
       "      <td>8.50%</td>\n",
       "    </tr>\n",
       "    <tr>\n",
       "      <th>B</th>\n",
       "      <td>5014.0</td>\n",
       "      <td>7.06%</td>\n",
       "    </tr>\n",
       "    <tr>\n",
       "      <th>D</th>\n",
       "      <td>349.0</td>\n",
       "      <td>6.02%</td>\n",
       "    </tr>\n",
       "    <tr>\n",
       "      <th>A</th>\n",
       "      <td>25.0</td>\n",
       "      <td>8.00%</td>\n",
       "    </tr>\n",
       "    <tr>\n",
       "      <th>E</th>\n",
       "      <td>22.0</td>\n",
       "      <td>9.09%</td>\n",
       "    </tr>\n",
       "  </tbody>\n",
       "</table>\n",
       "</div>"
      ],
      "text/plain": [
       "                       Количество записей Среднее по задолжностям\n",
       "total_income_category                                            \n",
       "C                                 15921.0                   8.50%\n",
       "B                                  5014.0                   7.06%\n",
       "D                                   349.0                   6.02%\n",
       "A                                    25.0                   8.00%\n",
       "E                                    22.0                   9.09%"
      ]
     },
     "execution_count": 24,
     "metadata": {},
     "output_type": "execute_result"
    }
   ],
   "source": [
    "# Ваш код будет здесь. Вы можете создавать новые ячейки.\n",
    "inc = data.pivot_table(index = 'total_income_category', values='debt', aggfunc = ('mean', lambda X:\n",
    "                                                                       X.count()))\n",
    "def percent(x):\n",
    "    return \"{0:.2%}\".format(x)\n",
    "\n",
    "inc['mean'] = inc['mean'].apply(percent)\n",
    "inc = inc.rename(columns={\"<lambda_0>\": \"Количество записей\", \"mean\": \"Среднее по задолжностям\"})\n",
    "inc.sort_values(by='Количество записей', ascending=False)"
   ]
  },
  {
   "cell_type": "markdown",
   "id": "34270f3f",
   "metadata": {
    "deletable": false,
    "id": "e8593def"
   },
   "source": [
    "**Вывод:** люди с общей доходной категорией C имеют высокий процент долга, как и люди с совокупной доходной категорией A.\n",
    "это может быть потому, что большинство людей относятся к категории С; долги могут стать высокими из-за многих потребностей, о которых вам нужно позаботиться.\n",
    "для людей категории А дорогие товары и товары могут увеличить их долги"
   ]
  },
  {
   "cell_type": "markdown",
   "id": "bc475df8",
   "metadata": {},
   "source": [
    "Быстрый взгляд на данные (в случае графика - это конечно ещё более наглядным становиться): ожидаемо, для группы с низким доходом (Е) процент невозвратов самый высокий. Что более интересно, так это то, что с ростом доходов тенденция (D->C и B->А) к снижению числа долгов не сохраняется, а скорее даже растёт. Можно сказать, что по какой-то причине люди \"перестают считать деньги\" или планировать \"наперёд\". Из-за подобного поведения наших групп параметр (\"доход\") нельзя назвать надёжным при определении платёжеспособности клиента. Без дополнительной информации он может даже наоборот привести к выдаче кредита состоятельному, но не слишком \"надёжному\" клиенту, хотя, возможно, это может быть аномалия, вызванная недостаточным размером выборки для клиентов с категорией доходов А.    \n",
    "    \n",
    "А теперь мой вывод- дополнительный, альтернативный вариант твоему: исходя из здравого смысла логично предположить, что чаще всего должниками становятся люди с небольшим доходом, которым финансовые проблемы не позволяют вовремя осуществлять платежи. Но глядя на наши результаты лично мой вывод таков: выборка по заемщикам, как с наименьшим доходом, так и с наибольшим крайне недостаточна для формирования однозначных выводов. Можно думать, что E-категория самая низкооплачиваемая не может корректно распоряжаться деньгами и «влезает» в кредиты, но тогда неясно почему у А-категории также достаточно высокий процент задолженности. В общем вывод по группам А и Е неочевиден, слишком мало данных.\n",
    "\n",
    "Если же взять для анализа только группы В, С и D, то по полученным данным не наблюдаем зависимости \"те, кто получает больше ЗП, лучше возвращает кредит». В целом это логично, так как материальный достаток - не единственная переменная, которая влияет на качество кредитной истории.\n",
    "\n",
    "Но вот если пойти ещё дальше, отбросить малочисленные группы, оставив только две самые большие выборки (более-менее сопоставимые по размеру) B и C, то тогда зависимость можно сформулировать так: что заемщики с более высоким уровнем дохода реже допускают просрочку.\n",
    "\n",
    "p.s. Однако 2174 пропуска в данных столбца \"total_income\" ставят под сомнение полученный нами результат. Сводная таблица (или группировка) с данными о зависимости между уровнем дохода и возвратом кредита в срок возможно могла бы выглядеть иначе, если бы не пропущенные данные, которые мы выше заполнили медианным значением зарплаты, исходя из типа занятости соответствующего заемщика.\n"
   ]
  },
  {
   "cell_type": "markdown",
   "id": "02a8271c",
   "metadata": {
    "deletable": false,
    "editable": false,
    "id": "99ecbd1f"
   },
   "source": [
    "#### 3.4 Как разные цели кредита влияют на его возврат в срок?"
   ]
  },
  {
   "cell_type": "code",
   "execution_count": 25,
   "id": "3a5ffc99",
   "metadata": {
    "deletable": false,
    "id": "2b687290"
   },
   "outputs": [
    {
     "data": {
      "text/html": [
       "<div>\n",
       "<style scoped>\n",
       "    .dataframe tbody tr th:only-of-type {\n",
       "        vertical-align: middle;\n",
       "    }\n",
       "\n",
       "    .dataframe tbody tr th {\n",
       "        vertical-align: top;\n",
       "    }\n",
       "\n",
       "    .dataframe thead th {\n",
       "        text-align: right;\n",
       "    }\n",
       "</style>\n",
       "<table border=\"1\" class=\"dataframe\">\n",
       "  <thead>\n",
       "    <tr style=\"text-align: right;\">\n",
       "      <th></th>\n",
       "      <th>Количество записей</th>\n",
       "      <th>Среднее по задолжностям</th>\n",
       "    </tr>\n",
       "    <tr>\n",
       "      <th>purpose_category</th>\n",
       "      <th></th>\n",
       "      <th></th>\n",
       "    </tr>\n",
       "  </thead>\n",
       "  <tbody>\n",
       "    <tr>\n",
       "      <th>операции с недвижимостью</th>\n",
       "      <td>10751.0</td>\n",
       "      <td>7.26%</td>\n",
       "    </tr>\n",
       "    <tr>\n",
       "      <th>операции с автомобилем</th>\n",
       "      <td>4279.0</td>\n",
       "      <td>9.35%</td>\n",
       "    </tr>\n",
       "    <tr>\n",
       "      <th>получение образования</th>\n",
       "      <td>3988.0</td>\n",
       "      <td>9.25%</td>\n",
       "    </tr>\n",
       "    <tr>\n",
       "      <th>проведение свадьбы</th>\n",
       "      <td>2313.0</td>\n",
       "      <td>7.91%</td>\n",
       "    </tr>\n",
       "  </tbody>\n",
       "</table>\n",
       "</div>"
      ],
      "text/plain": [
       "                          Количество записей Среднее по задолжностям\n",
       "purpose_category                                                    \n",
       "операции с недвижимостью             10751.0                   7.26%\n",
       "операции с автомобилем                4279.0                   9.35%\n",
       "получение образования                 3988.0                   9.25%\n",
       "проведение свадьбы                    2313.0                   7.91%"
      ]
     },
     "execution_count": 25,
     "metadata": {},
     "output_type": "execute_result"
    }
   ],
   "source": [
    "# Ваш код будет здесь. Вы можете создавать новые ячейки.\n",
    "ps = data.pivot_table(index = ['purpose_category'], values='debt', aggfunc = ('mean', lambda X:\n",
    "                                                                       X.count()))\n",
    "#ps = data.pivot_table(index = ['purpose_category'], values='debt', aggfunc = ('mean', lambda X:\n",
    "                                                                       #X.count()))\n",
    "def percent(x):\n",
    "    return \"{0:.2%}\".format(x)\n",
    "\n",
    "ps['mean'] = ps['mean'].apply(percent)\n",
    "ps = ps.rename(columns={\"<lambda_0>\": \"Количество записей\", \"mean\": \"Среднее по задолжностям\"})\n",
    "ps.sort_values(by='Количество записей', ascending=False)"
   ]
  },
  {
   "cell_type": "markdown",
   "id": "dc657a8e",
   "metadata": {
    "deletable": false,
    "id": "b4bb2ce6"
   },
   "source": [
    "<div class  = \"alert alert-success\">\n",
    "\n",
    "**Вывод:** похоже, что у людей, принадлежащих ко второй и третьей строкам таблицы «purpose_category», самый высокий возврат в срок в процентах.\n",
    "Это может показать нам, что люди, которые готовятся к свадьбе или пытаются расстаться с недвижимостью, более ответственны.\n",
    "<div>"
   ]
  },
  {
   "cell_type": "markdown",
   "id": "2fe4a8c5",
   "metadata": {},
   "source": [
    "Всё подтверждается и цифрами, и здравым смыслом. Машины люди покупают в кредит гораздо дорогие, нежели могут соответствовать им своим доходом (ну кому не хочется красивую иномарку). А вот рисковать ипотечным жильём люди не хотят. Интересно конечно, что с образованием не так - как правило такие кредиты берут люди мотивированные, имеющие цель впереди, да и суммы таких кредитов судя по рынку онлайн образования не так велики. Ну и получается, что ещё более мотивированные люди берут деньги на организацию своей свадьбы)))"
   ]
  },
  {
   "cell_type": "markdown",
   "id": "06ad65c3",
   "metadata": {
    "deletable": false,
    "editable": false,
    "id": "09c3ac4c"
   },
   "source": [
    "#### 3.5 Приведите возможные причины появления пропусков в исходных данных."
   ]
  },
  {
   "cell_type": "markdown",
   "id": "bf172eb8",
   "metadata": {
    "deletable": false,
    "id": "9da2ceda"
   },
   "source": [
    "*Ответ:* возможные причины появления пропусков в исходных данных связаны **с заменой значений пропусков** *нульями* или *заполняя их медиану*"
   ]
  },
  {
   "cell_type": "code",
   "execution_count": 26,
   "id": "83fde69a",
   "metadata": {
    "scrolled": true
   },
   "outputs": [
    {
     "data": {
      "text/plain": [
       "children                 0\n",
       "days_employed            0\n",
       "dob_years                0\n",
       "education                0\n",
       "education_id             0\n",
       "family_status            0\n",
       "family_status_id         0\n",
       "gender                   0\n",
       "income_type              0\n",
       "debt                     0\n",
       "total_income             0\n",
       "purpose                  0\n",
       "total_income_category    0\n",
       "purpose_category         0\n",
       "dtype: int64"
      ]
     },
     "execution_count": 26,
     "metadata": {},
     "output_type": "execute_result"
    }
   ],
   "source": [
    "data.isna().sum()"
   ]
  },
  {
   "cell_type": "markdown",
   "id": "a9b88e16",
   "metadata": {},
   "source": [
    "*Вменение* - означает замену **нулей/пропусков** средними значениями **\"Медианами\"**.\n",
    "<div class  = \"alert alert-success\">\n",
    "\n",
    "Благодаря вменению наши данные не имеют нулей. Это может помочь лучше читать данные (также в некоторых процедурах машинного обучения программа может не иметь возможности читать нули).\n",
    "Вменение не изменит значения наших данных данных.\n",
    "<div>"
   ]
  },
  {
   "cell_type": "markdown",
   "id": "00cb0854",
   "metadata": {},
   "source": [
    "В наших данных пропуски в столбцах \"трудовой стаж\" и \"ежемесячный доход\" абсолютно идентичны. Количество строк с отсутствующими данными в обоих указанных столбцах совпадает и равно 2174. Маловероятно, что специалисты по выдаче кредитов, заполнив все без исключения ячейки других столбцов по каждому кредитополучателю, оставляли незаполненными именно два показателя, и сделали это ровно 2174 раза в каждом столбце. Даже не проводя проверку, во всех ли случаях незаполненные ячейки находятся в одной и то же строке с высокой долей вероятности можно утверждать, что произошла техническая ошибка при формировании таблицы с исходными данными (либо некий сбой во время выгрузки данных на анализ, либо при объединении данных в единый файл, который также должен был передаваться на анализ, либо эти данные не собирались). \n",
    "\n",
    "На пользу основной версии об «объединении», как причине проблем с данными работает вот ещё какой аргумент: пропуски в столбцах 'total_income' и 'days_employed' соответствуют значениям 'пенсионер', 'госслужащий', 'компаньон', 'сотрудник' и 'предприниматель' в столбце 'income_type'. Однако в 'income_type' также присутствуют значения ‘студент’, ‘безработный’ и ‘в декрете’, в которых пропусков нет вообще. На основании этого можно предположить, что исходная таблица была объединена с другим датасетом, содержавшим сведения о категориях 'пенсионер', 'госслужащий', 'компаньон', 'сотрудник' и 'предприниматель', но без сведений о доходе и трудовом стаже. В результате при объединении таблиц столбцы 'total_income' и 'days_employed' были заполнены значением NaN.\n",
    "\n",
    "Это моё ИМХО (врачи говорят – «второе мнение»).\n",
    "\n"
   ]
  },
  {
   "cell_type": "markdown",
   "id": "765428c6",
   "metadata": {
    "deletable": false,
    "editable": false,
    "id": "7b0487d6"
   },
   "source": [
    "#### 3.6 Объясните, почему заполнить пропуски медианным значением — лучшее решение для количественных переменных."
   ]
  },
  {
   "cell_type": "markdown",
   "id": "373acabe",
   "metadata": {
    "deletable": false,
    "id": "7ecf2b8e"
   },
   "source": [
    "*Ответ:* лучшее решение заполнить пропуски медианным значением потому что, В лучшем случае эти информационные пробелы:\n",
    "1. Может не позволить нам прийти к ключевым выводам или…\n",
    "2. Может привести к тому, что любые выводы, полученные на основе данных, будут иметь сомнительную точность или…\n",
    "3. Может нарисовать ограниченную картину мира (представьте, что вы пытаетесь описать комнату, глядя только в замочную скважину).\n",
    "4. … и в худшем случае они являются препятствиями, ведущими к плохим моделям машинного обучения — мусор на входе, мусор на выходе."
   ]
  },
  {
   "cell_type": "markdown",
   "id": "d5f577d5",
   "metadata": {
    "deletable": false,
    "editable": false,
    "id": "6db5255a"
   },
   "source": [
    "### Шаг 4: общий вывод."
   ]
  },
  {
   "cell_type": "markdown",
   "id": "17c09985",
   "metadata": {
    "deletable": false,
    "id": "bad65432"
   },
   "source": [
    "Есть зависимости между целями кредита, семейным положением, уровнем дохода и количеством детей в семье. Нельзя сказать, что они кардинально отличаются, но 2% на больших числах могут оказать существенное влияние на кредитный портфель. Особое внимание следует уделить вдовам/вдовцам или молодоженам — с ними могут риски по невозврату кредитов выше.\n",
    "Надо отметить на то, что ответственность клиента влияет тоже на кредиты.\n"
   ]
  },
  {
   "cell_type": "markdown",
   "id": "a12f5012",
   "metadata": {},
   "source": [
    "#### **Oбщий вывод:**\n",
    "\n",
    "Было проведено исследование, чтобы сформулировать вывод о причинах, которые могут повлиять на увеличение долга.\n",
    "данные для изучения - статистика о платежеспособности клиентов.\n",
    "Результаты будут учтены при постреонии модели крдитного скоринга - специальной системы, которая оценивает способность потенциального заемщика вернуть кредит банку.\n",
    "\n",
    "*Перед исследования были поставлены несколько гипотиз:*\n",
    "\n",
    "**Гипотиза** 1. Колтчество детей вдияет на факт погашения возврата крдита\n",
    "\n",
    "**Гипотиза** 2. Семейные положения вдияет на факт погашения возврата крдита.\n",
    "\n",
    "**Гипотиза** 3. Уровень дохода вдияет на факт погашения возврата крдита. \n",
    "\n",
    "**Гипотиза** 4. Цель кредита вдияет на факт погашения возврата крдита. \n",
    "\n",
    "В результате удалось выявить зависимости:\n",
    "\n",
    "**Гипотиза** 1: *частично подверждена* нужны больше данных по клиентам с 3, 4, и 5 детей для более точных выводов.\n",
    "\n",
    "- 7.54% доля просрочных кредитов у заёмщиков без детей.\n",
    "- 9.23% доля просрочных кредитов у заёмщиков с 1 ребенком\n",
    "- 9.45% доля просрочных кредитов у заёмщиков с 2 детей\n",
    "\n",
    "у заёмщиков без детей более ответвенные чем тех заёмщиков, у кого есть детей (по данным с 1 и 2 детей).\n",
    "\n",
    "**Гипотиза** 2: *подверждена* \n",
    "\n",
    "- у не женатых клиентов (9.76%) и тех, у кого официально не зарегистрирован брак (9.31%).Выше вероятность стать должником.\n",
    "\n",
    "- те, кто в разводе (7.06%), женат/замужем (7.56%) или вдовец/вдова (6.62%) менее вероятно становятся должниками.\n",
    "\n",
    "**Гипотиза** 3: *частично подверждена* \"для более точных выводов необходимо больше данных по клиентам с уровнем дохода категории D (от 30 001 до 50 000) А(от 1 000 001), Е( до 30 000)\n",
    "\n",
    "- (7.06%) - доля просроченных кредитов у заёмщиков с уровнем дохода от 200.001 до 1.000.000;\n",
    "- (8.5%) - доля просроченных кредитов у заёмщиков с уровнем дохода от 50.001 до 200.000;\n",
    "\n",
    "**Гипотеза** 4 *подтверждена*:\n",
    "\n",
    "- 7.26% доля просроченных кредитов, целью которых были операции с недвижимостью;\n",
    "- 9.35% доля просроченных кредитов, целью которых было проведение свадьбы;\n",
    "- 9.25% доля просроченных кредитов, целью которых были операции с автомобилем;\n",
    "- 7.91% доля просроченных кредитов, целью которых было получение образования.\n",
    "\n",
    "**Общие Рекомендации**:\n",
    "\n",
    "1. Специалистам, которые занимаются построением модели кредитного скоринга, можно использовать зависимости из второй и четвёртой гипотезы (семейное попозжение и цели кредита)\n",
    "2. Необходимо собрать более полную выборку для повторной проверки первой и третьей гипотез\n",
    "\n"
   ]
  },
  {
   "cell_type": "markdown",
   "id": "ee18092d",
   "metadata": {},
   "source": []
  }
 ],
 "metadata": {
  "ExecuteTimeLog": [
   {
    "duration": 60,
    "start_time": "2023-01-24T10:29:27.877Z"
   },
   {
    "duration": 448,
    "start_time": "2023-01-24T10:29:34.870Z"
   },
   {
    "duration": 22,
    "start_time": "2023-01-24T10:29:35.321Z"
   },
   {
    "duration": 23,
    "start_time": "2023-01-24T10:29:35.344Z"
   },
   {
    "duration": 10,
    "start_time": "2023-01-24T10:29:35.369Z"
   },
   {
    "duration": 60,
    "start_time": "2023-01-24T10:29:35.381Z"
   },
   {
    "duration": 5,
    "start_time": "2023-01-24T10:29:35.443Z"
   },
   {
    "duration": 41,
    "start_time": "2023-01-24T10:29:35.450Z"
   },
   {
    "duration": 13,
    "start_time": "2023-01-24T10:29:35.494Z"
   },
   {
    "duration": 32,
    "start_time": "2023-01-24T10:29:35.511Z"
   },
   {
    "duration": 21,
    "start_time": "2023-01-24T10:29:35.545Z"
   },
   {
    "duration": 52,
    "start_time": "2023-01-24T10:29:35.568Z"
   },
   {
    "duration": 17,
    "start_time": "2023-01-24T10:29:35.622Z"
   },
   {
    "duration": 10,
    "start_time": "2023-01-24T10:29:35.641Z"
   },
   {
    "duration": 29,
    "start_time": "2023-01-24T10:29:35.655Z"
   },
   {
    "duration": 39,
    "start_time": "2023-01-24T10:29:35.687Z"
   },
   {
    "duration": 25,
    "start_time": "2023-01-24T10:29:35.728Z"
   },
   {
    "duration": 7,
    "start_time": "2023-01-24T10:29:35.755Z"
   },
   {
    "duration": 14,
    "start_time": "2023-01-24T10:29:35.763Z"
   },
   {
    "duration": 9,
    "start_time": "2023-01-24T10:29:35.779Z"
   },
   {
    "duration": 5,
    "start_time": "2023-01-24T10:29:35.790Z"
   },
   {
    "duration": 23,
    "start_time": "2023-01-24T10:29:35.796Z"
   },
   {
    "duration": 23,
    "start_time": "2023-01-24T10:29:35.821Z"
   },
   {
    "duration": 5,
    "start_time": "2023-01-24T10:29:35.845Z"
   },
   {
    "duration": 7,
    "start_time": "2023-01-24T10:29:35.851Z"
   },
   {
    "duration": 5,
    "start_time": "2023-01-24T10:29:35.860Z"
   },
   {
    "duration": 44,
    "start_time": "2023-01-28T11:54:49.134Z"
   },
   {
    "duration": 498,
    "start_time": "2023-01-28T11:55:00.589Z"
   },
   {
    "duration": 21,
    "start_time": "2023-01-28T11:55:01.089Z"
   },
   {
    "duration": 39,
    "start_time": "2023-01-28T11:55:01.111Z"
   },
   {
    "duration": 20,
    "start_time": "2023-01-28T11:55:01.152Z"
   },
   {
    "duration": 56,
    "start_time": "2023-01-28T11:55:01.175Z"
   },
   {
    "duration": 6,
    "start_time": "2023-01-28T11:55:01.232Z"
   },
   {
    "duration": 44,
    "start_time": "2023-01-28T11:55:01.239Z"
   },
   {
    "duration": 20,
    "start_time": "2023-01-28T11:55:01.284Z"
   },
   {
    "duration": 28,
    "start_time": "2023-01-28T11:55:01.305Z"
   },
   {
    "duration": 52,
    "start_time": "2023-01-28T11:55:01.335Z"
   },
   {
    "duration": 44,
    "start_time": "2023-01-28T11:55:01.388Z"
   },
   {
    "duration": 9,
    "start_time": "2023-01-28T11:55:01.433Z"
   },
   {
    "duration": 11,
    "start_time": "2023-01-28T11:55:01.444Z"
   },
   {
    "duration": 20,
    "start_time": "2023-01-28T11:55:01.458Z"
   },
   {
    "duration": 36,
    "start_time": "2023-01-28T11:55:01.480Z"
   },
   {
    "duration": 28,
    "start_time": "2023-01-28T11:55:01.518Z"
   },
   {
    "duration": 15,
    "start_time": "2023-01-28T11:55:01.548Z"
   },
   {
    "duration": 45,
    "start_time": "2023-01-28T11:55:01.564Z"
   },
   {
    "duration": 24,
    "start_time": "2023-01-28T11:55:01.610Z"
   },
   {
    "duration": 27,
    "start_time": "2023-01-28T11:55:01.636Z"
   },
   {
    "duration": 30,
    "start_time": "2023-01-28T11:55:01.665Z"
   },
   {
    "duration": 38,
    "start_time": "2023-01-28T11:55:01.698Z"
   },
   {
    "duration": 15,
    "start_time": "2023-01-28T11:55:01.738Z"
   },
   {
    "duration": 19,
    "start_time": "2023-01-28T11:55:01.755Z"
   },
   {
    "duration": 18,
    "start_time": "2023-01-28T11:55:01.775Z"
   },
   {
    "duration": 7,
    "start_time": "2023-01-28T12:16:55.678Z"
   },
   {
    "duration": 6,
    "start_time": "2023-01-28T12:17:18.014Z"
   },
   {
    "duration": 100,
    "start_time": "2023-01-28T12:17:37.530Z"
   },
   {
    "duration": 6,
    "start_time": "2023-01-28T12:17:48.391Z"
   },
   {
    "duration": 4,
    "start_time": "2023-01-28T12:18:03.327Z"
   },
   {
    "duration": 13,
    "start_time": "2023-01-28T12:22:40.526Z"
   },
   {
    "duration": 14,
    "start_time": "2023-01-28T12:22:47.283Z"
   },
   {
    "duration": 19,
    "start_time": "2023-01-28T12:25:20.924Z"
   },
   {
    "duration": 16,
    "start_time": "2023-01-28T12:25:33.807Z"
   },
   {
    "duration": 29,
    "start_time": "2023-01-28T12:27:08.515Z"
   },
   {
    "duration": 24,
    "start_time": "2023-01-28T12:27:37.572Z"
   },
   {
    "duration": 11,
    "start_time": "2023-01-28T14:49:04.166Z"
   },
   {
    "duration": 12,
    "start_time": "2023-01-28T14:49:32.850Z"
   },
   {
    "duration": 18,
    "start_time": "2023-01-28T14:49:42.076Z"
   },
   {
    "duration": 37,
    "start_time": "2023-01-28T14:50:02.167Z"
   },
   {
    "duration": 24,
    "start_time": "2023-01-28T14:52:49.465Z"
   },
   {
    "duration": 21,
    "start_time": "2023-01-28T14:53:07.924Z"
   },
   {
    "duration": 15,
    "start_time": "2023-01-28T14:53:17.272Z"
   },
   {
    "duration": 34,
    "start_time": "2023-01-28T14:53:20.670Z"
   },
   {
    "duration": 19,
    "start_time": "2023-01-28T14:54:35.465Z"
   },
   {
    "duration": 20,
    "start_time": "2023-01-28T15:01:10.357Z"
   },
   {
    "duration": 21,
    "start_time": "2023-01-28T15:02:12.110Z"
   },
   {
    "duration": 3,
    "start_time": "2023-01-28T15:15:23.193Z"
   },
   {
    "duration": 22,
    "start_time": "2023-01-28T15:17:12.034Z"
   },
   {
    "duration": 6,
    "start_time": "2023-01-28T15:18:08.458Z"
   },
   {
    "duration": 26,
    "start_time": "2023-01-28T15:18:59.960Z"
   },
   {
    "duration": 17,
    "start_time": "2023-01-28T15:20:12.571Z"
   },
   {
    "duration": 27,
    "start_time": "2023-01-28T15:20:53.247Z"
   },
   {
    "duration": 18,
    "start_time": "2023-01-28T15:21:42.706Z"
   },
   {
    "duration": 438,
    "start_time": "2023-01-28T15:21:48.902Z"
   },
   {
    "duration": 34,
    "start_time": "2023-01-28T15:22:24.869Z"
   },
   {
    "duration": 12,
    "start_time": "2023-01-28T15:23:54.169Z"
   },
   {
    "duration": 12,
    "start_time": "2023-01-28T15:24:08.224Z"
   },
   {
    "duration": 15,
    "start_time": "2023-01-28T15:25:18.515Z"
   },
   {
    "duration": 24,
    "start_time": "2023-01-28T15:25:29.561Z"
   },
   {
    "duration": 38,
    "start_time": "2023-01-28T15:25:46.631Z"
   },
   {
    "duration": 569,
    "start_time": "2023-01-30T13:01:13.228Z"
   },
   {
    "duration": 23,
    "start_time": "2023-01-30T13:01:13.800Z"
   },
   {
    "duration": 16,
    "start_time": "2023-01-30T13:01:13.825Z"
   },
   {
    "duration": 10,
    "start_time": "2023-01-30T13:01:13.842Z"
   },
   {
    "duration": 36,
    "start_time": "2023-01-30T13:01:13.854Z"
   },
   {
    "duration": 4,
    "start_time": "2023-01-30T13:01:13.910Z"
   },
   {
    "duration": 16,
    "start_time": "2023-01-30T13:01:13.915Z"
   },
   {
    "duration": 6,
    "start_time": "2023-01-30T13:01:13.933Z"
   },
   {
    "duration": 15,
    "start_time": "2023-01-30T13:01:13.940Z"
   },
   {
    "duration": 20,
    "start_time": "2023-01-30T13:01:13.957Z"
   },
   {
    "duration": 37,
    "start_time": "2023-01-30T13:01:13.978Z"
   },
   {
    "duration": 10,
    "start_time": "2023-01-30T13:01:14.017Z"
   },
   {
    "duration": 7,
    "start_time": "2023-01-30T13:01:14.029Z"
   },
   {
    "duration": 20,
    "start_time": "2023-01-30T13:01:14.037Z"
   },
   {
    "duration": 22,
    "start_time": "2023-01-30T13:01:14.058Z"
   },
   {
    "duration": 37,
    "start_time": "2023-01-30T13:01:14.081Z"
   },
   {
    "duration": 5,
    "start_time": "2023-01-30T13:01:14.120Z"
   },
   {
    "duration": 15,
    "start_time": "2023-01-30T13:01:14.126Z"
   },
   {
    "duration": 17,
    "start_time": "2023-01-30T13:01:14.143Z"
   },
   {
    "duration": 21,
    "start_time": "2023-01-30T13:01:14.162Z"
   },
   {
    "duration": 20,
    "start_time": "2023-01-30T13:01:14.185Z"
   },
   {
    "duration": 29,
    "start_time": "2023-01-30T13:01:14.207Z"
   },
   {
    "duration": 24,
    "start_time": "2023-01-30T13:01:14.237Z"
   },
   {
    "duration": 23,
    "start_time": "2023-01-30T13:01:14.262Z"
   },
   {
    "duration": 26,
    "start_time": "2023-01-30T13:01:14.309Z"
   },
   {
    "duration": 4,
    "start_time": "2023-01-30T13:01:26.466Z"
   },
   {
    "duration": 8,
    "start_time": "2023-01-30T13:01:27.923Z"
   },
   {
    "duration": 18,
    "start_time": "2023-01-30T13:14:21.577Z"
   },
   {
    "duration": 20,
    "start_time": "2023-01-30T13:14:32.392Z"
   },
   {
    "duration": 740,
    "start_time": "2023-01-30T16:02:13.525Z"
   },
   {
    "duration": 32,
    "start_time": "2023-01-30T16:02:14.268Z"
   },
   {
    "duration": 15,
    "start_time": "2023-01-30T16:02:14.302Z"
   },
   {
    "duration": 15,
    "start_time": "2023-01-30T16:02:14.320Z"
   },
   {
    "duration": 66,
    "start_time": "2023-01-30T16:02:14.337Z"
   },
   {
    "duration": 8,
    "start_time": "2023-01-30T16:02:14.405Z"
   },
   {
    "duration": 10,
    "start_time": "2023-01-30T16:02:14.414Z"
   },
   {
    "duration": 4,
    "start_time": "2023-01-30T16:02:14.426Z"
   },
   {
    "duration": 18,
    "start_time": "2023-01-30T16:02:14.431Z"
   },
   {
    "duration": 15,
    "start_time": "2023-01-30T16:02:14.451Z"
   },
   {
    "duration": 56,
    "start_time": "2023-01-30T16:02:14.467Z"
   },
   {
    "duration": 24,
    "start_time": "2023-01-30T16:02:14.525Z"
   },
   {
    "duration": 14,
    "start_time": "2023-01-30T16:02:14.551Z"
   },
   {
    "duration": 24,
    "start_time": "2023-01-30T16:02:14.567Z"
   },
   {
    "duration": 47,
    "start_time": "2023-01-30T16:02:14.593Z"
   },
   {
    "duration": 22,
    "start_time": "2023-01-30T16:02:14.643Z"
   },
   {
    "duration": 4,
    "start_time": "2023-01-30T16:02:14.667Z"
   },
   {
    "duration": 37,
    "start_time": "2023-01-30T16:02:14.672Z"
   },
   {
    "duration": 32,
    "start_time": "2023-01-30T16:02:14.711Z"
   },
   {
    "duration": 12,
    "start_time": "2023-01-30T16:02:14.745Z"
   },
   {
    "duration": 51,
    "start_time": "2023-01-30T16:02:14.758Z"
   },
   {
    "duration": 57,
    "start_time": "2023-01-30T16:02:14.811Z"
   },
   {
    "duration": 22,
    "start_time": "2023-01-30T16:02:14.870Z"
   },
   {
    "duration": 24,
    "start_time": "2023-01-30T16:02:14.894Z"
   },
   {
    "duration": 47,
    "start_time": "2023-01-30T16:02:14.920Z"
   },
   {
    "duration": 19,
    "start_time": "2023-01-30T16:02:14.969Z"
   },
   {
    "duration": 64,
    "start_time": "2023-01-30T17:26:41.280Z"
   },
   {
    "duration": 562,
    "start_time": "2023-01-30T17:26:52.577Z"
   },
   {
    "duration": 33,
    "start_time": "2023-01-30T17:26:53.141Z"
   },
   {
    "duration": 32,
    "start_time": "2023-01-30T17:26:53.176Z"
   },
   {
    "duration": 13,
    "start_time": "2023-01-30T17:26:53.210Z"
   },
   {
    "duration": 56,
    "start_time": "2023-01-30T17:26:53.225Z"
   },
   {
    "duration": 4,
    "start_time": "2023-01-30T17:26:53.284Z"
   },
   {
    "duration": 35,
    "start_time": "2023-01-30T17:26:53.291Z"
   },
   {
    "duration": 11,
    "start_time": "2023-01-30T17:26:53.329Z"
   },
   {
    "duration": 15,
    "start_time": "2023-01-30T17:26:53.342Z"
   },
   {
    "duration": 5,
    "start_time": "2023-01-30T17:26:53.362Z"
   },
   {
    "duration": 76,
    "start_time": "2023-01-30T17:26:53.369Z"
   },
   {
    "duration": 31,
    "start_time": "2023-01-30T17:26:53.447Z"
   },
   {
    "duration": 28,
    "start_time": "2023-01-30T17:26:53.481Z"
   },
   {
    "duration": 17,
    "start_time": "2023-01-30T17:26:53.514Z"
   },
   {
    "duration": 27,
    "start_time": "2023-01-30T17:26:53.537Z"
   },
   {
    "duration": 21,
    "start_time": "2023-01-30T17:26:53.565Z"
   },
   {
    "duration": 5,
    "start_time": "2023-01-30T17:26:53.587Z"
   },
   {
    "duration": 34,
    "start_time": "2023-01-30T17:26:53.593Z"
   },
   {
    "duration": 25,
    "start_time": "2023-01-30T17:26:53.629Z"
   },
   {
    "duration": 9,
    "start_time": "2023-01-30T17:26:53.656Z"
   },
   {
    "duration": 22,
    "start_time": "2023-01-30T17:26:53.667Z"
   },
   {
    "duration": 45,
    "start_time": "2023-01-30T17:26:53.691Z"
   },
   {
    "duration": 37,
    "start_time": "2023-01-30T17:26:53.740Z"
   },
   {
    "duration": 73,
    "start_time": "2023-01-30T17:26:53.779Z"
   },
   {
    "duration": 88,
    "start_time": "2023-01-30T17:26:53.859Z"
   },
   {
    "duration": 19,
    "start_time": "2023-01-30T17:26:53.950Z"
   },
   {
    "duration": 532,
    "start_time": "2023-01-30T18:11:51.409Z"
   },
   {
    "duration": 30,
    "start_time": "2023-01-30T18:11:51.943Z"
   },
   {
    "duration": 21,
    "start_time": "2023-01-30T18:11:51.975Z"
   },
   {
    "duration": 96,
    "start_time": "2023-01-30T18:11:51.999Z"
   },
   {
    "duration": 68,
    "start_time": "2023-01-30T18:11:52.097Z"
   },
   {
    "duration": 7,
    "start_time": "2023-01-30T18:11:52.170Z"
   },
   {
    "duration": 21,
    "start_time": "2023-01-30T18:11:52.179Z"
   },
   {
    "duration": 15,
    "start_time": "2023-01-30T18:11:52.202Z"
   },
   {
    "duration": 12,
    "start_time": "2023-01-30T18:11:52.218Z"
   },
   {
    "duration": 8,
    "start_time": "2023-01-30T18:11:52.233Z"
   },
   {
    "duration": 41,
    "start_time": "2023-01-30T18:11:52.243Z"
   },
   {
    "duration": 11,
    "start_time": "2023-01-30T18:11:52.286Z"
   },
   {
    "duration": 7,
    "start_time": "2023-01-30T18:11:52.299Z"
   },
   {
    "duration": 17,
    "start_time": "2023-01-30T18:11:52.308Z"
   },
   {
    "duration": 37,
    "start_time": "2023-01-30T18:11:52.327Z"
   },
   {
    "duration": 24,
    "start_time": "2023-01-30T18:11:52.366Z"
   },
   {
    "duration": 5,
    "start_time": "2023-01-30T18:11:52.392Z"
   },
   {
    "duration": 28,
    "start_time": "2023-01-30T18:11:52.398Z"
   },
   {
    "duration": 21,
    "start_time": "2023-01-30T18:11:52.429Z"
   },
   {
    "duration": 4,
    "start_time": "2023-01-30T18:11:52.452Z"
   },
   {
    "duration": 20,
    "start_time": "2023-01-30T18:11:52.458Z"
   },
   {
    "duration": 41,
    "start_time": "2023-01-30T18:11:52.480Z"
   },
   {
    "duration": 58,
    "start_time": "2023-01-30T18:11:52.523Z"
   },
   {
    "duration": 25,
    "start_time": "2023-01-30T18:11:52.583Z"
   },
   {
    "duration": 51,
    "start_time": "2023-01-30T18:11:52.610Z"
   },
   {
    "duration": 436,
    "start_time": "2023-01-30T19:05:40.550Z"
   },
   {
    "duration": 22,
    "start_time": "2023-01-30T19:05:40.988Z"
   },
   {
    "duration": 28,
    "start_time": "2023-01-30T19:05:41.011Z"
   },
   {
    "duration": 10,
    "start_time": "2023-01-30T19:05:41.041Z"
   },
   {
    "duration": 42,
    "start_time": "2023-01-30T19:05:41.052Z"
   },
   {
    "duration": 4,
    "start_time": "2023-01-30T19:05:41.096Z"
   },
   {
    "duration": 20,
    "start_time": "2023-01-30T19:05:41.102Z"
   },
   {
    "duration": 14,
    "start_time": "2023-01-30T19:05:41.124Z"
   },
   {
    "duration": 19,
    "start_time": "2023-01-30T19:05:41.140Z"
   },
   {
    "duration": 8,
    "start_time": "2023-01-30T19:05:41.162Z"
   },
   {
    "duration": 43,
    "start_time": "2023-01-30T19:05:41.171Z"
   },
   {
    "duration": 9,
    "start_time": "2023-01-30T19:05:41.216Z"
   },
   {
    "duration": 11,
    "start_time": "2023-01-30T19:05:41.226Z"
   },
   {
    "duration": 25,
    "start_time": "2023-01-30T19:05:41.239Z"
   },
   {
    "duration": 26,
    "start_time": "2023-01-30T19:05:41.266Z"
   },
   {
    "duration": 28,
    "start_time": "2023-01-30T19:05:41.294Z"
   },
   {
    "duration": 5,
    "start_time": "2023-01-30T19:05:41.324Z"
   },
   {
    "duration": 38,
    "start_time": "2023-01-30T19:05:41.331Z"
   },
   {
    "duration": 20,
    "start_time": "2023-01-30T19:05:41.371Z"
   },
   {
    "duration": 12,
    "start_time": "2023-01-30T19:05:41.393Z"
   },
   {
    "duration": 44,
    "start_time": "2023-01-30T19:05:41.406Z"
   },
   {
    "duration": 44,
    "start_time": "2023-01-30T19:05:41.452Z"
   },
   {
    "duration": 23,
    "start_time": "2023-01-30T19:05:41.497Z"
   },
   {
    "duration": 31,
    "start_time": "2023-01-30T19:05:41.521Z"
   },
   {
    "duration": 49,
    "start_time": "2023-01-30T19:05:41.554Z"
   },
   {
    "duration": 70,
    "start_time": "2023-01-31T08:52:01.775Z"
   },
   {
    "duration": 494,
    "start_time": "2023-01-31T08:52:14.538Z"
   },
   {
    "duration": 23,
    "start_time": "2023-01-31T08:52:15.034Z"
   },
   {
    "duration": 38,
    "start_time": "2023-01-31T08:52:15.059Z"
   },
   {
    "duration": 43,
    "start_time": "2023-01-31T08:52:15.099Z"
   },
   {
    "duration": 48,
    "start_time": "2023-01-31T08:52:15.144Z"
   },
   {
    "duration": 14,
    "start_time": "2023-01-31T08:52:15.194Z"
   },
   {
    "duration": 32,
    "start_time": "2023-01-31T08:52:15.210Z"
   },
   {
    "duration": 49,
    "start_time": "2023-01-31T08:52:15.244Z"
   },
   {
    "duration": 29,
    "start_time": "2023-01-31T08:52:15.295Z"
   },
   {
    "duration": 43,
    "start_time": "2023-01-31T08:52:15.328Z"
   },
   {
    "duration": 84,
    "start_time": "2023-01-31T08:52:15.372Z"
   },
   {
    "duration": 10,
    "start_time": "2023-01-31T08:52:15.458Z"
   },
   {
    "duration": 46,
    "start_time": "2023-01-31T08:52:15.469Z"
   },
   {
    "duration": 29,
    "start_time": "2023-01-31T08:52:15.516Z"
   },
   {
    "duration": 61,
    "start_time": "2023-01-31T08:52:15.546Z"
   },
   {
    "duration": 22,
    "start_time": "2023-01-31T08:52:15.609Z"
   },
   {
    "duration": 35,
    "start_time": "2023-01-31T08:52:15.633Z"
   },
   {
    "duration": 39,
    "start_time": "2023-01-31T08:52:15.670Z"
   },
   {
    "duration": 57,
    "start_time": "2023-01-31T08:52:15.711Z"
   },
   {
    "duration": 20,
    "start_time": "2023-01-31T08:52:15.770Z"
   },
   {
    "duration": 20,
    "start_time": "2023-01-31T08:52:15.791Z"
   },
   {
    "duration": 33,
    "start_time": "2023-01-31T08:52:15.812Z"
   },
   {
    "duration": 33,
    "start_time": "2023-01-31T08:52:15.847Z"
   },
   {
    "duration": 25,
    "start_time": "2023-01-31T08:52:15.882Z"
   },
   {
    "duration": 30,
    "start_time": "2023-01-31T08:52:15.908Z"
   },
   {
    "duration": 758,
    "start_time": "2023-01-31T08:52:15.940Z"
   },
   {
    "duration": 42,
    "start_time": "2023-01-31T13:03:09.226Z"
   },
   {
    "duration": 6,
    "start_time": "2023-01-31T13:03:10.170Z"
   },
   {
    "duration": 49,
    "start_time": "2023-01-31T15:41:59.781Z"
   },
   {
    "duration": 47,
    "start_time": "2023-01-31T15:42:03.155Z"
   },
   {
    "duration": 6,
    "start_time": "2023-01-31T20:01:18.601Z"
   },
   {
    "duration": 539,
    "start_time": "2023-01-31T20:01:25.965Z"
   },
   {
    "duration": 24,
    "start_time": "2023-01-31T20:01:26.506Z"
   },
   {
    "duration": 14,
    "start_time": "2023-01-31T20:01:28.008Z"
   },
   {
    "duration": 15,
    "start_time": "2023-01-31T20:01:28.024Z"
   },
   {
    "duration": 37,
    "start_time": "2023-01-31T20:01:28.040Z"
   },
   {
    "duration": 3,
    "start_time": "2023-01-31T20:01:28.079Z"
   },
   {
    "duration": 19,
    "start_time": "2023-01-31T20:01:28.084Z"
   },
   {
    "duration": 5,
    "start_time": "2023-01-31T20:01:28.104Z"
   },
   {
    "duration": 8,
    "start_time": "2023-01-31T20:01:28.111Z"
   },
   {
    "duration": 7,
    "start_time": "2023-01-31T20:01:28.120Z"
   },
   {
    "duration": 46,
    "start_time": "2023-01-31T20:01:28.128Z"
   },
   {
    "duration": 22,
    "start_time": "2023-01-31T20:01:28.175Z"
   },
   {
    "duration": 7,
    "start_time": "2023-01-31T20:01:28.199Z"
   },
   {
    "duration": 17,
    "start_time": "2023-01-31T20:01:28.208Z"
   },
   {
    "duration": 22,
    "start_time": "2023-01-31T20:01:28.227Z"
   },
   {
    "duration": 17,
    "start_time": "2023-01-31T20:01:28.252Z"
   },
   {
    "duration": 24,
    "start_time": "2023-01-31T20:01:28.270Z"
   },
   {
    "duration": 13,
    "start_time": "2023-01-31T20:01:28.296Z"
   },
   {
    "duration": 10,
    "start_time": "2023-01-31T20:01:28.310Z"
   },
   {
    "duration": 6,
    "start_time": "2023-01-31T20:01:28.321Z"
   },
   {
    "duration": 16,
    "start_time": "2023-01-31T20:01:28.329Z"
   },
   {
    "duration": 42,
    "start_time": "2023-01-31T20:01:28.347Z"
   },
   {
    "duration": 24,
    "start_time": "2023-01-31T20:01:28.390Z"
   },
   {
    "duration": 24,
    "start_time": "2023-01-31T20:01:28.416Z"
   },
   {
    "duration": 23,
    "start_time": "2023-01-31T20:01:28.442Z"
   },
   {
    "duration": 45,
    "start_time": "2023-01-31T20:01:28.467Z"
   },
   {
    "duration": 0,
    "start_time": "2023-01-31T20:01:28.513Z"
   },
   {
    "duration": 0,
    "start_time": "2023-01-31T20:01:28.514Z"
   },
   {
    "duration": 20,
    "start_time": "2023-01-31T20:01:38.713Z"
   },
   {
    "duration": 22,
    "start_time": "2023-01-31T20:02:09.387Z"
   },
   {
    "duration": 37,
    "start_time": "2023-01-31T20:05:19.183Z"
   },
   {
    "duration": 79,
    "start_time": "2023-01-31T20:05:58.432Z"
   },
   {
    "duration": 41,
    "start_time": "2023-01-31T20:06:09.064Z"
   },
   {
    "duration": 43,
    "start_time": "2023-01-31T20:06:20.896Z"
   },
   {
    "duration": 27,
    "start_time": "2023-01-31T20:06:32.410Z"
   },
   {
    "duration": 44,
    "start_time": "2023-01-31T20:06:53.886Z"
   },
   {
    "duration": 36,
    "start_time": "2023-01-31T20:07:25.480Z"
   },
   {
    "duration": 25,
    "start_time": "2023-01-31T20:07:57.332Z"
   },
   {
    "duration": 18,
    "start_time": "2023-01-31T20:10:22.883Z"
   },
   {
    "duration": 4,
    "start_time": "2023-01-31T20:10:56.053Z"
   },
   {
    "duration": 4,
    "start_time": "2023-01-31T20:11:19.031Z"
   },
   {
    "duration": 14,
    "start_time": "2023-01-31T20:11:42.487Z"
   },
   {
    "duration": 14,
    "start_time": "2023-01-31T20:11:59.229Z"
   },
   {
    "duration": 15,
    "start_time": "2023-01-31T20:12:06.264Z"
   },
   {
    "duration": 4,
    "start_time": "2023-01-31T20:16:28.279Z"
   },
   {
    "duration": 10,
    "start_time": "2023-01-31T20:16:52.484Z"
   },
   {
    "duration": 6,
    "start_time": "2023-01-31T20:17:14.382Z"
   },
   {
    "duration": 9,
    "start_time": "2023-01-31T20:17:27.687Z"
   },
   {
    "duration": 36,
    "start_time": "2023-01-31T20:18:36.374Z"
   },
   {
    "duration": 40,
    "start_time": "2023-01-31T20:20:28.951Z"
   },
   {
    "duration": 18,
    "start_time": "2023-01-31T20:20:41.351Z"
   },
   {
    "duration": 79,
    "start_time": "2023-02-01T05:12:40.856Z"
   },
   {
    "duration": 89,
    "start_time": "2023-02-01T05:13:18.065Z"
   },
   {
    "duration": 720,
    "start_time": "2023-02-01T05:14:31.588Z"
   },
   {
    "duration": 27,
    "start_time": "2023-02-01T05:14:32.310Z"
   },
   {
    "duration": 17,
    "start_time": "2023-02-01T05:14:32.339Z"
   },
   {
    "duration": 20,
    "start_time": "2023-02-01T05:14:32.358Z"
   },
   {
    "duration": 41,
    "start_time": "2023-02-01T05:14:32.379Z"
   },
   {
    "duration": 4,
    "start_time": "2023-02-01T05:14:32.422Z"
   },
   {
    "duration": 34,
    "start_time": "2023-02-01T05:14:32.427Z"
   },
   {
    "duration": 17,
    "start_time": "2023-02-01T05:14:32.463Z"
   },
   {
    "duration": 27,
    "start_time": "2023-02-01T05:14:32.481Z"
   },
   {
    "duration": 9,
    "start_time": "2023-02-01T05:14:32.512Z"
   },
   {
    "duration": 58,
    "start_time": "2023-02-01T05:14:32.522Z"
   },
   {
    "duration": 9,
    "start_time": "2023-02-01T05:14:32.581Z"
   },
   {
    "duration": 20,
    "start_time": "2023-02-01T05:14:32.591Z"
   },
   {
    "duration": 31,
    "start_time": "2023-02-01T05:14:32.612Z"
   },
   {
    "duration": 47,
    "start_time": "2023-02-01T05:14:32.644Z"
   },
   {
    "duration": 35,
    "start_time": "2023-02-01T05:14:32.692Z"
   },
   {
    "duration": 10,
    "start_time": "2023-02-01T05:14:32.728Z"
   },
   {
    "duration": 55,
    "start_time": "2023-02-01T05:14:32.739Z"
   },
   {
    "duration": 37,
    "start_time": "2023-02-01T05:14:32.795Z"
   },
   {
    "duration": 17,
    "start_time": "2023-02-01T05:14:32.833Z"
   },
   {
    "duration": 44,
    "start_time": "2023-02-01T05:14:32.851Z"
   },
   {
    "duration": 44,
    "start_time": "2023-02-01T05:14:32.896Z"
   },
   {
    "duration": 23,
    "start_time": "2023-02-01T05:14:32.941Z"
   },
   {
    "duration": 45,
    "start_time": "2023-02-01T05:14:32.966Z"
   },
   {
    "duration": 26,
    "start_time": "2023-02-01T05:14:33.013Z"
   },
   {
    "duration": 91,
    "start_time": "2023-02-01T05:14:33.040Z"
   },
   {
    "duration": 0,
    "start_time": "2023-02-01T05:14:33.133Z"
   },
   {
    "duration": 0,
    "start_time": "2023-02-01T05:14:33.134Z"
   },
   {
    "duration": 15,
    "start_time": "2023-02-01T05:17:19.498Z"
   },
   {
    "duration": 21,
    "start_time": "2023-02-01T05:19:39.337Z"
   },
   {
    "duration": 17,
    "start_time": "2023-02-01T05:19:46.297Z"
   },
   {
    "duration": 13,
    "start_time": "2023-02-01T05:20:28.347Z"
   },
   {
    "duration": 95,
    "start_time": "2023-02-01T05:20:38.616Z"
   },
   {
    "duration": 13,
    "start_time": "2023-02-01T05:20:48.032Z"
   },
   {
    "duration": 9,
    "start_time": "2023-02-01T05:21:24.798Z"
   },
   {
    "duration": 20,
    "start_time": "2023-02-01T05:23:59.362Z"
   },
   {
    "duration": 21,
    "start_time": "2023-02-01T05:24:06.766Z"
   },
   {
    "duration": 265,
    "start_time": "2023-02-01T05:27:01.398Z"
   },
   {
    "duration": 17,
    "start_time": "2023-02-01T05:27:19.812Z"
   },
   {
    "duration": 13,
    "start_time": "2023-02-01T05:29:08.884Z"
   },
   {
    "duration": 15,
    "start_time": "2023-02-01T05:29:15.564Z"
   },
   {
    "duration": 9,
    "start_time": "2023-02-01T05:30:17.628Z"
   },
   {
    "duration": 11,
    "start_time": "2023-02-01T05:33:11.766Z"
   },
   {
    "duration": 7,
    "start_time": "2023-02-01T05:33:17.464Z"
   },
   {
    "duration": 10,
    "start_time": "2023-02-01T05:33:23.261Z"
   },
   {
    "duration": 11,
    "start_time": "2023-02-01T05:34:03.261Z"
   },
   {
    "duration": 8,
    "start_time": "2023-02-01T05:34:12.005Z"
   },
   {
    "duration": 8,
    "start_time": "2023-02-01T05:34:23.923Z"
   },
   {
    "duration": 7,
    "start_time": "2023-02-01T05:35:38.881Z"
   },
   {
    "duration": 8,
    "start_time": "2023-02-01T05:38:02.424Z"
   },
   {
    "duration": 12,
    "start_time": "2023-02-01T05:38:07.814Z"
   },
   {
    "duration": 9,
    "start_time": "2023-02-01T05:39:02.847Z"
   },
   {
    "duration": 10,
    "start_time": "2023-02-01T05:39:12.886Z"
   },
   {
    "duration": 11,
    "start_time": "2023-02-01T05:39:27.800Z"
   },
   {
    "duration": 10,
    "start_time": "2023-02-01T05:39:38.436Z"
   },
   {
    "duration": 9,
    "start_time": "2023-02-01T05:39:43.639Z"
   },
   {
    "duration": 8,
    "start_time": "2023-02-01T05:40:08.795Z"
   },
   {
    "duration": 11,
    "start_time": "2023-02-01T05:40:19.564Z"
   },
   {
    "duration": 15,
    "start_time": "2023-02-01T05:40:36.704Z"
   },
   {
    "duration": 21,
    "start_time": "2023-02-01T06:31:27.564Z"
   },
   {
    "duration": 71,
    "start_time": "2023-02-01T06:31:39.865Z"
   },
   {
    "duration": 15,
    "start_time": "2023-02-01T06:31:47.431Z"
   },
   {
    "duration": 18,
    "start_time": "2023-02-01T06:32:22.987Z"
   },
   {
    "duration": 15,
    "start_time": "2023-02-01T06:32:34.342Z"
   },
   {
    "duration": 28,
    "start_time": "2023-02-01T06:32:49.518Z"
   },
   {
    "duration": 850,
    "start_time": "2023-02-03T15:56:36.179Z"
   },
   {
    "duration": 24,
    "start_time": "2023-02-03T15:56:37.032Z"
   },
   {
    "duration": 24,
    "start_time": "2023-02-03T15:56:37.058Z"
   },
   {
    "duration": 13,
    "start_time": "2023-02-03T15:56:37.085Z"
   },
   {
    "duration": 48,
    "start_time": "2023-02-03T15:56:37.103Z"
   },
   {
    "duration": 14,
    "start_time": "2023-02-03T15:56:37.153Z"
   },
   {
    "duration": 12,
    "start_time": "2023-02-03T15:56:37.169Z"
   },
   {
    "duration": 16,
    "start_time": "2023-02-03T15:56:37.183Z"
   },
   {
    "duration": 9,
    "start_time": "2023-02-03T15:56:37.201Z"
   },
   {
    "duration": 5,
    "start_time": "2023-02-03T15:56:37.213Z"
   },
   {
    "duration": 68,
    "start_time": "2023-02-03T15:56:37.219Z"
   },
   {
    "duration": 10,
    "start_time": "2023-02-03T15:56:37.289Z"
   },
   {
    "duration": 6,
    "start_time": "2023-02-03T15:56:37.301Z"
   },
   {
    "duration": 12,
    "start_time": "2023-02-03T15:56:37.309Z"
   },
   {
    "duration": 24,
    "start_time": "2023-02-03T15:56:37.323Z"
   },
   {
    "duration": 40,
    "start_time": "2023-02-03T15:56:37.349Z"
   },
   {
    "duration": 4,
    "start_time": "2023-02-03T15:56:37.390Z"
   },
   {
    "duration": 17,
    "start_time": "2023-02-03T15:56:37.396Z"
   },
   {
    "duration": 9,
    "start_time": "2023-02-03T15:56:37.415Z"
   },
   {
    "duration": 4,
    "start_time": "2023-02-03T15:56:37.426Z"
   },
   {
    "duration": 14,
    "start_time": "2023-02-03T15:56:37.432Z"
   },
   {
    "duration": 50,
    "start_time": "2023-02-03T15:56:37.448Z"
   },
   {
    "duration": 26,
    "start_time": "2023-02-03T15:56:37.500Z"
   },
   {
    "duration": 53,
    "start_time": "2023-02-03T15:56:37.527Z"
   },
   {
    "duration": 25,
    "start_time": "2023-02-03T15:56:37.586Z"
   },
   {
    "duration": 4,
    "start_time": "2023-02-03T15:56:37.613Z"
   },
   {
    "duration": 27,
    "start_time": "2023-02-03T15:56:37.618Z"
   },
   {
    "duration": 40,
    "start_time": "2023-02-03T15:56:37.648Z"
   },
   {
    "duration": 15,
    "start_time": "2023-02-03T15:57:12.700Z"
   },
   {
    "duration": 77,
    "start_time": "2023-02-03T15:57:40.631Z"
   },
   {
    "duration": 17,
    "start_time": "2023-02-03T15:57:59.658Z"
   },
   {
    "duration": 38,
    "start_time": "2023-02-03T15:58:07.599Z"
   },
   {
    "duration": 13,
    "start_time": "2023-02-03T16:10:12.087Z"
   },
   {
    "duration": 4,
    "start_time": "2023-02-03T16:28:30.599Z"
   },
   {
    "duration": 31,
    "start_time": "2023-02-03T18:32:05.813Z"
   },
   {
    "duration": 702,
    "start_time": "2023-02-04T12:34:47.782Z"
   },
   {
    "duration": 22,
    "start_time": "2023-02-04T12:34:48.486Z"
   },
   {
    "duration": 16,
    "start_time": "2023-02-04T12:34:48.510Z"
   },
   {
    "duration": 9,
    "start_time": "2023-02-04T12:34:48.527Z"
   },
   {
    "duration": 34,
    "start_time": "2023-02-04T12:34:48.538Z"
   },
   {
    "duration": 3,
    "start_time": "2023-02-04T12:34:48.573Z"
   },
   {
    "duration": 30,
    "start_time": "2023-02-04T12:34:48.578Z"
   },
   {
    "duration": 4,
    "start_time": "2023-02-04T12:34:48.610Z"
   },
   {
    "duration": 8,
    "start_time": "2023-02-04T12:34:48.615Z"
   },
   {
    "duration": 5,
    "start_time": "2023-02-04T12:34:48.625Z"
   },
   {
    "duration": 37,
    "start_time": "2023-02-04T12:34:48.631Z"
   },
   {
    "duration": 34,
    "start_time": "2023-02-04T12:34:48.670Z"
   },
   {
    "duration": 3,
    "start_time": "2023-02-04T12:34:48.706Z"
   },
   {
    "duration": 15,
    "start_time": "2023-02-04T12:34:48.712Z"
   },
   {
    "duration": 22,
    "start_time": "2023-02-04T12:34:48.728Z"
   },
   {
    "duration": 17,
    "start_time": "2023-02-04T12:34:48.752Z"
   },
   {
    "duration": 34,
    "start_time": "2023-02-04T12:34:48.770Z"
   },
   {
    "duration": 10,
    "start_time": "2023-02-04T12:34:48.805Z"
   },
   {
    "duration": 11,
    "start_time": "2023-02-04T12:34:48.817Z"
   },
   {
    "duration": 3,
    "start_time": "2023-02-04T12:34:48.829Z"
   },
   {
    "duration": 12,
    "start_time": "2023-02-04T12:34:48.834Z"
   },
   {
    "duration": 27,
    "start_time": "2023-02-04T12:34:48.847Z"
   },
   {
    "duration": 24,
    "start_time": "2023-02-04T12:34:48.904Z"
   },
   {
    "duration": 22,
    "start_time": "2023-02-04T12:34:48.929Z"
   },
   {
    "duration": 22,
    "start_time": "2023-02-04T12:34:48.953Z"
   },
   {
    "duration": 37,
    "start_time": "2023-02-04T12:34:48.976Z"
   },
   {
    "duration": 4,
    "start_time": "2023-02-04T12:34:49.015Z"
   },
   {
    "duration": 35,
    "start_time": "2023-02-04T12:34:49.020Z"
   },
   {
    "duration": 13,
    "start_time": "2023-02-04T12:34:49.057Z"
   }
  ],
  "colab": {
   "name": "dpp_template_part2.ipynb",
   "provenance": []
  },
  "kernelspec": {
   "display_name": "Python 3 (ipykernel)",
   "language": "python",
   "name": "python3"
  },
  "language_info": {
   "codemirror_mode": {
    "name": "ipython",
    "version": 3
   },
   "file_extension": ".py",
   "mimetype": "text/x-python",
   "name": "python",
   "nbconvert_exporter": "python",
   "pygments_lexer": "ipython3",
   "version": "3.9.5"
  },
  "toc": {
   "base_numbering": 1,
   "nav_menu": {},
   "number_sections": true,
   "sideBar": true,
   "skip_h1_title": true,
   "title_cell": "Table of Contents",
   "title_sidebar": "Contents",
   "toc_cell": false,
   "toc_position": {
    "height": "calc(100% - 180px)",
    "left": "10px",
    "top": "150px",
    "width": "273.4px"
   },
   "toc_section_display": true,
   "toc_window_display": false
  }
 },
 "nbformat": 4,
 "nbformat_minor": 5
}
