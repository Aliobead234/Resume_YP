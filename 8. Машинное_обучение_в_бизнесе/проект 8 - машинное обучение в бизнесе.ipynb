{
 "cells": [
  {
   "cell_type": "markdown",
   "metadata": {
    "toc": true
   },
   "source": [
    "<h1>Содержание<span class=\"tocSkip\"></span></h1>\n",
    "<div class=\"toc\"><ul class=\"toc-item\"><li><span><a href=\"#Описание-проекта\" data-toc-modified-id=\"Описание-проекта-1\"><span class=\"toc-item-num\">1&nbsp;&nbsp;</span>Описание проекта</a></span></li><li><span><a href=\"#Загрузка-и-подготовка-данных\" data-toc-modified-id=\"Загрузка-и-подготовка-данных-2\"><span class=\"toc-item-num\">2&nbsp;&nbsp;</span>Загрузка и подготовка данных</a></span></li><li><span><a href=\"#Проведем-первичное-изучение-данных\" data-toc-modified-id=\"Проведем-первичное-изучение-данных-3\"><span class=\"toc-item-num\">3&nbsp;&nbsp;</span>Проведем первичное изучение данных</a></span><ul class=\"toc-item\"><li><span><a href=\"#Проверим-количество-дубликатов\" data-toc-modified-id=\"Проверим-количество-дубликатов-3.1\"><span class=\"toc-item-num\">3.1&nbsp;&nbsp;</span>Проверим количество дубликатов</a></span></li><li><span><a href=\"#Посмотрим-информацию-о-значениях\" data-toc-modified-id=\"Посмотрим-информацию-о-значениях-3.2\"><span class=\"toc-item-num\">3.2&nbsp;&nbsp;</span>Посмотрим информацию о значениях</a></span><ul class=\"toc-item\"><li><span><a href=\"#Визуализируем-полученные-данные\" data-toc-modified-id=\"Визуализируем-полученные-данные-3.2.1\"><span class=\"toc-item-num\">3.2.1&nbsp;&nbsp;</span>Визуализируем полученные данные</a></span></li><li><span><a href=\"#Выводы\" data-toc-modified-id=\"Выводы-3.2.2\"><span class=\"toc-item-num\">3.2.2&nbsp;&nbsp;</span>Выводы</a></span></li></ul></li><li><span><a href=\"#Исправим-недочеты,-найденные-в-данных\" data-toc-modified-id=\"Исправим-недочеты,-найденные-в-данных-3.3\"><span class=\"toc-item-num\">3.3&nbsp;&nbsp;</span>Исправим недочеты, найденные в данных</a></span></li><li><span><a href=\"#Проверим-корреляцию-между-признаками\" data-toc-modified-id=\"Проверим-корреляцию-между-признаками-3.4\"><span class=\"toc-item-num\">3.4&nbsp;&nbsp;</span>Проверим корреляцию между признаками</a></span><ul class=\"toc-item\"><li><span><a href=\"#Вывод\" data-toc-modified-id=\"Вывод-3.4.1\"><span class=\"toc-item-num\">3.4.1&nbsp;&nbsp;</span>Вывод</a></span></li></ul></li><li><span><a href=\"#Вывод\" data-toc-modified-id=\"Вывод-3.5\"><span class=\"toc-item-num\">3.5&nbsp;&nbsp;</span>Вывод</a></span></li></ul></li><li><span><a href=\"#Обучение-и-проверка-модели\" data-toc-modified-id=\"Обучение-и-проверка-модели-4\"><span class=\"toc-item-num\">4&nbsp;&nbsp;</span>Обучение и проверка модели</a></span><ul class=\"toc-item\"><li><span><a href=\"#Вывод:\" data-toc-modified-id=\"Вывод:-4.1\"><span class=\"toc-item-num\">4.1&nbsp;&nbsp;</span>Вывод:</a></span></li></ul></li><li><span><a href=\"#Подготовка-к-расчету-прибыли\" data-toc-modified-id=\"Подготовка-к-расчету-прибыли-5\"><span class=\"toc-item-num\">5&nbsp;&nbsp;</span>Подготовка к расчету прибыли</a></span><ul class=\"toc-item\"><li><span><a href=\"#Посмотрим-распределение-значений-по-районам\" data-toc-modified-id=\"Посмотрим-распределение-значений-по-районам-5.1\"><span class=\"toc-item-num\">5.1&nbsp;&nbsp;</span>Посмотрим распределение значений по районам</a></span></li><li><span><a href=\"#Вывод\" data-toc-modified-id=\"Вывод-5.2\"><span class=\"toc-item-num\">5.2&nbsp;&nbsp;</span>Вывод</a></span></li></ul></li><li><span><a href=\"#Расчёт-прибыли-и-рисков\" data-toc-modified-id=\"Расчёт-прибыли-и-рисков-6\"><span class=\"toc-item-num\">6&nbsp;&nbsp;</span>Расчёт прибыли и рисков</a></span><ul class=\"toc-item\"><li><span><a href=\"#Общий-вывод\" data-toc-modified-id=\"Общий-вывод-6.1\"><span class=\"toc-item-num\">6.1&nbsp;&nbsp;</span>Общий вывод</a></span></li><li><span><a href=\"#Общий-вывод\" data-toc-modified-id=\"Общий-вывод-6.2\"><span class=\"toc-item-num\">6.2&nbsp;&nbsp;</span>Общий вывод</a></span></li></ul></li></ul></div>"
   ]
  },
  {
   "cell_type": "markdown",
   "metadata": {},
   "source": [
    "# Описание проекта"
   ]
  },
  {
   "cell_type": "markdown",
   "metadata": {},
   "source": [
    "Допустим, вы работаете в добывающей компании «ГлавРосГосНефть». Нужно решить, где бурить новую скважину.\n",
    "\n",
    "Вам предоставлены пробы нефти в трёх регионах: в каждом 10 000 месторождений, где измерили качество нефти и объём её запасов. Постройте модель машинного обучения, которая поможет определить регион, где добыча принесёт наибольшую прибыль. Проанализируйте возможную прибыль и риски техникой *Bootstrap.*\n",
    "\n",
    "Шаги для выбора локации:\n",
    "\n",
    "- В избранном регионе ищут месторождения, для каждого определяют значения признаков;\n",
    "- Строят модель и оценивают объём запасов;\n",
    "- Выбирают месторождения с самым высокими оценками значений. Количество месторождений зависит от бюджета компании и стоимости разработки одной скважины;\n",
    "- Прибыль равна суммарной прибыли отобранных месторождений."
   ]
  },
  {
   "cell_type": "code",
   "execution_count": 1,
   "metadata": {},
   "outputs": [],
   "source": [
    "import pandas as pd\n",
    "import numpy as np\n",
    "import matplotlib.pyplot as plt \n",
    "import itertools\n",
    "from sklearn.model_selection import train_test_split\n",
    "from sklearn.linear_model import LinearRegression\n",
    "from sklearn.pipeline import make_pipeline\n",
    "from sklearn.preprocessing import StandardScaler\n",
    "from sklearn.metrics import mean_squared_error\n",
    "from numpy.random import RandomState\n",
    "from tqdm import tqdm\n",
    "\n",
    "RANDOM = 42\n",
    "state = RandomState(RANDOM) "
   ]
  },
  {
   "cell_type": "markdown",
   "metadata": {},
   "source": [
    "#  Загрузка и подготовка данных"
   ]
  },
  {
   "cell_type": "markdown",
   "metadata": {},
   "source": [
    "Загрузим данные"
   ]
  },
  {
   "cell_type": "code",
   "execution_count": 2,
   "metadata": {},
   "outputs": [],
   "source": [
    "zero_frame = pd.read_csv(\"/datasets/geo_data_0.csv\")\n",
    "first_frame = pd.read_csv(\"/datasets/geo_data_1.csv\")\n",
    "second_frame = pd.read_csv(\"/datasets/geo_data_2.csv\")"
   ]
  },
  {
   "cell_type": "code",
   "execution_count": 3,
   "metadata": {},
   "outputs": [],
   "source": [
    "def display_info(isFrame,**kwargs):\n",
    "    \"\"\"Функция структурированного вывода переданной информации\n",
    "    \n",
    "    Формат оглавления ключа:\n",
    "        #################\n",
    "        #   Имя_Ключа   #\n",
    "        #################\n",
    "    \"\"\"\n",
    "    # Воспользуемся display,если передается фрейм и print, если передаются отсальные типы\n",
    "    if isFrame:\n",
    "        out_func = display\n",
    "    else: \n",
    "        out_func = print\n",
    "        \n",
    "    # Обработаем все переданные параметры с их ключами   \n",
    "    for frame_name, args in kwargs.items():\n",
    "        # Создадим строку с названием обрабатываемого ключа\n",
    "        name_string = \"#   \"+ str(frame_name) + \"   #\"\n",
    "        # Измерим длину получившегося названия, чтобы в дальнейшем создать окантовку для него\n",
    "        len_label = len(name_string)\n",
    "        \n",
    "        # Выведем оглавление согласну формату указанному в описании\n",
    "        print(\"#\"*len_label)\n",
    "        print(name_string)\n",
    "        print(\"#\"*len_label)\n",
    "        print()\n",
    "        \n",
    "        #обработаем и выведем параметры переданные для вывода\n",
    "        for info_string,element in args.items():\n",
    "            if not info_string:\n",
    "                out_func(element)\n",
    "            else:\n",
    "                out_func(info_string,element)\n",
    "        print()"
   ]
  },
  {
   "cell_type": "code",
   "execution_count": 4,
   "metadata": {},
   "outputs": [
    {
     "name": "stdout",
     "output_type": "stream",
     "text": [
      "##################\n",
      "#   Zero_Frame   #\n",
      "##################\n",
      "\n"
     ]
    },
    {
     "data": {
      "text/html": [
       "<div>\n",
       "<style scoped>\n",
       "    .dataframe tbody tr th:only-of-type {\n",
       "        vertical-align: middle;\n",
       "    }\n",
       "\n",
       "    .dataframe tbody tr th {\n",
       "        vertical-align: top;\n",
       "    }\n",
       "\n",
       "    .dataframe thead th {\n",
       "        text-align: right;\n",
       "    }\n",
       "</style>\n",
       "<table border=\"1\" class=\"dataframe\">\n",
       "  <thead>\n",
       "    <tr style=\"text-align: right;\">\n",
       "      <th></th>\n",
       "      <th>id</th>\n",
       "      <th>f0</th>\n",
       "      <th>f1</th>\n",
       "      <th>f2</th>\n",
       "      <th>product</th>\n",
       "    </tr>\n",
       "  </thead>\n",
       "  <tbody>\n",
       "    <tr>\n",
       "      <th>0</th>\n",
       "      <td>txEyH</td>\n",
       "      <td>0.705745</td>\n",
       "      <td>-0.497823</td>\n",
       "      <td>1.221170</td>\n",
       "      <td>105.280062</td>\n",
       "    </tr>\n",
       "    <tr>\n",
       "      <th>1</th>\n",
       "      <td>2acmU</td>\n",
       "      <td>1.334711</td>\n",
       "      <td>-0.340164</td>\n",
       "      <td>4.365080</td>\n",
       "      <td>73.037750</td>\n",
       "    </tr>\n",
       "    <tr>\n",
       "      <th>2</th>\n",
       "      <td>409Wp</td>\n",
       "      <td>1.022732</td>\n",
       "      <td>0.151990</td>\n",
       "      <td>1.419926</td>\n",
       "      <td>85.265647</td>\n",
       "    </tr>\n",
       "    <tr>\n",
       "      <th>3</th>\n",
       "      <td>iJLyR</td>\n",
       "      <td>-0.032172</td>\n",
       "      <td>0.139033</td>\n",
       "      <td>2.978566</td>\n",
       "      <td>168.620776</td>\n",
       "    </tr>\n",
       "    <tr>\n",
       "      <th>4</th>\n",
       "      <td>Xdl7t</td>\n",
       "      <td>1.988431</td>\n",
       "      <td>0.155413</td>\n",
       "      <td>4.751769</td>\n",
       "      <td>154.036647</td>\n",
       "    </tr>\n",
       "  </tbody>\n",
       "</table>\n",
       "</div>"
      ],
      "text/plain": [
       "      id        f0        f1        f2     product\n",
       "0  txEyH  0.705745 -0.497823  1.221170  105.280062\n",
       "1  2acmU  1.334711 -0.340164  4.365080   73.037750\n",
       "2  409Wp  1.022732  0.151990  1.419926   85.265647\n",
       "3  iJLyR -0.032172  0.139033  2.978566  168.620776\n",
       "4  Xdl7t  1.988431  0.155413  4.751769  154.036647"
      ]
     },
     "metadata": {},
     "output_type": "display_data"
    },
    {
     "name": "stdout",
     "output_type": "stream",
     "text": [
      "\n",
      "###################\n",
      "#   First_Frame   #\n",
      "###################\n",
      "\n"
     ]
    },
    {
     "data": {
      "text/html": [
       "<div>\n",
       "<style scoped>\n",
       "    .dataframe tbody tr th:only-of-type {\n",
       "        vertical-align: middle;\n",
       "    }\n",
       "\n",
       "    .dataframe tbody tr th {\n",
       "        vertical-align: top;\n",
       "    }\n",
       "\n",
       "    .dataframe thead th {\n",
       "        text-align: right;\n",
       "    }\n",
       "</style>\n",
       "<table border=\"1\" class=\"dataframe\">\n",
       "  <thead>\n",
       "    <tr style=\"text-align: right;\">\n",
       "      <th></th>\n",
       "      <th>id</th>\n",
       "      <th>f0</th>\n",
       "      <th>f1</th>\n",
       "      <th>f2</th>\n",
       "      <th>product</th>\n",
       "    </tr>\n",
       "  </thead>\n",
       "  <tbody>\n",
       "    <tr>\n",
       "      <th>0</th>\n",
       "      <td>kBEdx</td>\n",
       "      <td>-15.001348</td>\n",
       "      <td>-8.276000</td>\n",
       "      <td>-0.005876</td>\n",
       "      <td>3.179103</td>\n",
       "    </tr>\n",
       "    <tr>\n",
       "      <th>1</th>\n",
       "      <td>62mP7</td>\n",
       "      <td>14.272088</td>\n",
       "      <td>-3.475083</td>\n",
       "      <td>0.999183</td>\n",
       "      <td>26.953261</td>\n",
       "    </tr>\n",
       "    <tr>\n",
       "      <th>2</th>\n",
       "      <td>vyE1P</td>\n",
       "      <td>6.263187</td>\n",
       "      <td>-5.948386</td>\n",
       "      <td>5.001160</td>\n",
       "      <td>134.766305</td>\n",
       "    </tr>\n",
       "    <tr>\n",
       "      <th>3</th>\n",
       "      <td>KcrkZ</td>\n",
       "      <td>-13.081196</td>\n",
       "      <td>-11.506057</td>\n",
       "      <td>4.999415</td>\n",
       "      <td>137.945408</td>\n",
       "    </tr>\n",
       "    <tr>\n",
       "      <th>4</th>\n",
       "      <td>AHL4O</td>\n",
       "      <td>12.702195</td>\n",
       "      <td>-8.147433</td>\n",
       "      <td>5.004363</td>\n",
       "      <td>134.766305</td>\n",
       "    </tr>\n",
       "  </tbody>\n",
       "</table>\n",
       "</div>"
      ],
      "text/plain": [
       "      id         f0         f1        f2     product\n",
       "0  kBEdx -15.001348  -8.276000 -0.005876    3.179103\n",
       "1  62mP7  14.272088  -3.475083  0.999183   26.953261\n",
       "2  vyE1P   6.263187  -5.948386  5.001160  134.766305\n",
       "3  KcrkZ -13.081196 -11.506057  4.999415  137.945408\n",
       "4  AHL4O  12.702195  -8.147433  5.004363  134.766305"
      ]
     },
     "metadata": {},
     "output_type": "display_data"
    },
    {
     "name": "stdout",
     "output_type": "stream",
     "text": [
      "\n",
      "####################\n",
      "#   Second_Frame   #\n",
      "####################\n",
      "\n"
     ]
    },
    {
     "data": {
      "text/html": [
       "<div>\n",
       "<style scoped>\n",
       "    .dataframe tbody tr th:only-of-type {\n",
       "        vertical-align: middle;\n",
       "    }\n",
       "\n",
       "    .dataframe tbody tr th {\n",
       "        vertical-align: top;\n",
       "    }\n",
       "\n",
       "    .dataframe thead th {\n",
       "        text-align: right;\n",
       "    }\n",
       "</style>\n",
       "<table border=\"1\" class=\"dataframe\">\n",
       "  <thead>\n",
       "    <tr style=\"text-align: right;\">\n",
       "      <th></th>\n",
       "      <th>id</th>\n",
       "      <th>f0</th>\n",
       "      <th>f1</th>\n",
       "      <th>f2</th>\n",
       "      <th>product</th>\n",
       "    </tr>\n",
       "  </thead>\n",
       "  <tbody>\n",
       "    <tr>\n",
       "      <th>0</th>\n",
       "      <td>fwXo0</td>\n",
       "      <td>-1.146987</td>\n",
       "      <td>0.963328</td>\n",
       "      <td>-0.828965</td>\n",
       "      <td>27.758673</td>\n",
       "    </tr>\n",
       "    <tr>\n",
       "      <th>1</th>\n",
       "      <td>WJtFt</td>\n",
       "      <td>0.262778</td>\n",
       "      <td>0.269839</td>\n",
       "      <td>-2.530187</td>\n",
       "      <td>56.069697</td>\n",
       "    </tr>\n",
       "    <tr>\n",
       "      <th>2</th>\n",
       "      <td>ovLUW</td>\n",
       "      <td>0.194587</td>\n",
       "      <td>0.289035</td>\n",
       "      <td>-5.586433</td>\n",
       "      <td>62.871910</td>\n",
       "    </tr>\n",
       "    <tr>\n",
       "      <th>3</th>\n",
       "      <td>q6cA6</td>\n",
       "      <td>2.236060</td>\n",
       "      <td>-0.553760</td>\n",
       "      <td>0.930038</td>\n",
       "      <td>114.572842</td>\n",
       "    </tr>\n",
       "    <tr>\n",
       "      <th>4</th>\n",
       "      <td>WPMUX</td>\n",
       "      <td>-0.515993</td>\n",
       "      <td>1.716266</td>\n",
       "      <td>5.899011</td>\n",
       "      <td>149.600746</td>\n",
       "    </tr>\n",
       "  </tbody>\n",
       "</table>\n",
       "</div>"
      ],
      "text/plain": [
       "      id        f0        f1        f2     product\n",
       "0  fwXo0 -1.146987  0.963328 -0.828965   27.758673\n",
       "1  WJtFt  0.262778  0.269839 -2.530187   56.069697\n",
       "2  ovLUW  0.194587  0.289035 -5.586433   62.871910\n",
       "3  q6cA6  2.236060 -0.553760  0.930038  114.572842\n",
       "4  WPMUX -0.515993  1.716266  5.899011  149.600746"
      ]
     },
     "metadata": {},
     "output_type": "display_data"
    },
    {
     "name": "stdout",
     "output_type": "stream",
     "text": [
      "\n"
     ]
    }
   ],
   "source": [
    "display_info(True,\n",
    "             Zero_Frame = {'':zero_frame.head()},\n",
    "             First_Frame = {'':first_frame.head()},\n",
    "             Second_Frame = {'':second_frame.head()})"
   ]
  },
  {
   "cell_type": "markdown",
   "metadata": {},
   "source": [
    "# Проведем первичное изучение данных\n"
   ]
  },
  {
   "cell_type": "code",
   "execution_count": 5,
   "metadata": {
    "scrolled": false
   },
   "outputs": [
    {
     "name": "stdout",
     "output_type": "stream",
     "text": [
      "####################\n",
      "#    Zero Frame    #\n",
      "####################\n",
      "\n",
      "<class 'pandas.core.frame.DataFrame'>\n",
      "RangeIndex: 100000 entries, 0 to 99999\n",
      "Data columns (total 5 columns):\n",
      " #   Column   Non-Null Count   Dtype  \n",
      "---  ------   --------------   -----  \n",
      " 0   id       100000 non-null  object \n",
      " 1   f0       100000 non-null  float64\n",
      " 2   f1       100000 non-null  float64\n",
      " 3   f2       100000 non-null  float64\n",
      " 4   product  100000 non-null  float64\n",
      "dtypes: float64(4), object(1)\n",
      "memory usage: 3.8+ MB\n",
      "None\n",
      "\n",
      "####################\n",
      "#    First Frame   #\n",
      "####################\n",
      "\n",
      "<class 'pandas.core.frame.DataFrame'>\n",
      "RangeIndex: 100000 entries, 0 to 99999\n",
      "Data columns (total 5 columns):\n",
      " #   Column   Non-Null Count   Dtype  \n",
      "---  ------   --------------   -----  \n",
      " 0   id       100000 non-null  object \n",
      " 1   f0       100000 non-null  float64\n",
      " 2   f1       100000 non-null  float64\n",
      " 3   f2       100000 non-null  float64\n",
      " 4   product  100000 non-null  float64\n",
      "dtypes: float64(4), object(1)\n",
      "memory usage: 3.8+ MB\n",
      "None\n",
      "\n",
      "####################\n",
      "#    Second Frame  #\n",
      "####################\n",
      "\n",
      "<class 'pandas.core.frame.DataFrame'>\n",
      "RangeIndex: 100000 entries, 0 to 99999\n",
      "Data columns (total 5 columns):\n",
      " #   Column   Non-Null Count   Dtype  \n",
      "---  ------   --------------   -----  \n",
      " 0   id       100000 non-null  object \n",
      " 1   f0       100000 non-null  float64\n",
      " 2   f1       100000 non-null  float64\n",
      " 3   f2       100000 non-null  float64\n",
      " 4   product  100000 non-null  float64\n",
      "dtypes: float64(4), object(1)\n",
      "memory usage: 3.8+ MB\n",
      "None\n"
     ]
    }
   ],
   "source": [
    "print(\"####################\")\n",
    "print(\"#    Zero Frame    #\")\n",
    "print(\"####################\")\n",
    "print()\n",
    "print(zero_frame.info())\n",
    "print()\n",
    "print(\"####################\")\n",
    "print(\"#    First Frame   #\")\n",
    "print(\"####################\")\n",
    "print()\n",
    "print(first_frame.info())\n",
    "print()\n",
    "print(\"####################\")\n",
    "print(\"#    Second Frame  #\")\n",
    "print(\"####################\")\n",
    "print()\n",
    "print(second_frame.info())"
   ]
  },
  {
   "cell_type": "markdown",
   "metadata": {},
   "source": [
    "## Проверим количество дубликатов"
   ]
  },
  {
   "cell_type": "code",
   "execution_count": 6,
   "metadata": {
    "scrolled": false
   },
   "outputs": [
    {
     "name": "stdout",
     "output_type": "stream",
     "text": [
      "##################\n",
      "#   Zero_Frame   #\n",
      "##################\n",
      "\n",
      "Количество дубликатов: 0\n",
      "\n",
      "###################\n",
      "#   First_Frame   #\n",
      "###################\n",
      "\n",
      "Количество дубликатов: 0\n",
      "\n",
      "####################\n",
      "#   Second_Frame   #\n",
      "####################\n",
      "\n",
      "Количество дубликатов: 0\n",
      "\n"
     ]
    }
   ],
   "source": [
    "display_info(False,\n",
    "             Zero_Frame = {'Количество дубликатов:':zero_frame.duplicated().sum()},\n",
    "             First_Frame = {'Количество дубликатов:':first_frame.duplicated().sum()},\n",
    "             Second_Frame = {'Количество дубликатов:':second_frame.duplicated().sum()})"
   ]
  },
  {
   "cell_type": "markdown",
   "metadata": {},
   "source": [
    "## Посмотрим информацию о значениях"
   ]
  },
  {
   "cell_type": "code",
   "execution_count": 7,
   "metadata": {
    "scrolled": true
   },
   "outputs": [
    {
     "name": "stdout",
     "output_type": "stream",
     "text": [
      "##################\n",
      "#   Zero_Frame   #\n",
      "##################\n",
      "\n"
     ]
    },
    {
     "data": {
      "text/html": [
       "<div>\n",
       "<style scoped>\n",
       "    .dataframe tbody tr th:only-of-type {\n",
       "        vertical-align: middle;\n",
       "    }\n",
       "\n",
       "    .dataframe tbody tr th {\n",
       "        vertical-align: top;\n",
       "    }\n",
       "\n",
       "    .dataframe thead th {\n",
       "        text-align: right;\n",
       "    }\n",
       "</style>\n",
       "<table border=\"1\" class=\"dataframe\">\n",
       "  <thead>\n",
       "    <tr style=\"text-align: right;\">\n",
       "      <th></th>\n",
       "      <th>f0</th>\n",
       "      <th>f1</th>\n",
       "      <th>f2</th>\n",
       "      <th>product</th>\n",
       "    </tr>\n",
       "  </thead>\n",
       "  <tbody>\n",
       "    <tr>\n",
       "      <th>count</th>\n",
       "      <td>100000.000000</td>\n",
       "      <td>100000.000000</td>\n",
       "      <td>100000.000000</td>\n",
       "      <td>100000.000000</td>\n",
       "    </tr>\n",
       "    <tr>\n",
       "      <th>mean</th>\n",
       "      <td>0.500419</td>\n",
       "      <td>0.250143</td>\n",
       "      <td>2.502647</td>\n",
       "      <td>92.500000</td>\n",
       "    </tr>\n",
       "    <tr>\n",
       "      <th>std</th>\n",
       "      <td>0.871832</td>\n",
       "      <td>0.504433</td>\n",
       "      <td>3.248248</td>\n",
       "      <td>44.288691</td>\n",
       "    </tr>\n",
       "    <tr>\n",
       "      <th>min</th>\n",
       "      <td>-1.408605</td>\n",
       "      <td>-0.848218</td>\n",
       "      <td>-12.088328</td>\n",
       "      <td>0.000000</td>\n",
       "    </tr>\n",
       "    <tr>\n",
       "      <th>25%</th>\n",
       "      <td>-0.072580</td>\n",
       "      <td>-0.200881</td>\n",
       "      <td>0.287748</td>\n",
       "      <td>56.497507</td>\n",
       "    </tr>\n",
       "    <tr>\n",
       "      <th>50%</th>\n",
       "      <td>0.502360</td>\n",
       "      <td>0.250252</td>\n",
       "      <td>2.515969</td>\n",
       "      <td>91.849972</td>\n",
       "    </tr>\n",
       "    <tr>\n",
       "      <th>75%</th>\n",
       "      <td>1.073581</td>\n",
       "      <td>0.700646</td>\n",
       "      <td>4.715088</td>\n",
       "      <td>128.564089</td>\n",
       "    </tr>\n",
       "    <tr>\n",
       "      <th>max</th>\n",
       "      <td>2.362331</td>\n",
       "      <td>1.343769</td>\n",
       "      <td>16.003790</td>\n",
       "      <td>185.364347</td>\n",
       "    </tr>\n",
       "  </tbody>\n",
       "</table>\n",
       "</div>"
      ],
      "text/plain": [
       "                  f0             f1             f2        product\n",
       "count  100000.000000  100000.000000  100000.000000  100000.000000\n",
       "mean        0.500419       0.250143       2.502647      92.500000\n",
       "std         0.871832       0.504433       3.248248      44.288691\n",
       "min        -1.408605      -0.848218     -12.088328       0.000000\n",
       "25%        -0.072580      -0.200881       0.287748      56.497507\n",
       "50%         0.502360       0.250252       2.515969      91.849972\n",
       "75%         1.073581       0.700646       4.715088     128.564089\n",
       "max         2.362331       1.343769      16.003790     185.364347"
      ]
     },
     "metadata": {},
     "output_type": "display_data"
    },
    {
     "name": "stdout",
     "output_type": "stream",
     "text": [
      "\n",
      "###################\n",
      "#   First_Frame   #\n",
      "###################\n",
      "\n"
     ]
    },
    {
     "data": {
      "text/html": [
       "<div>\n",
       "<style scoped>\n",
       "    .dataframe tbody tr th:only-of-type {\n",
       "        vertical-align: middle;\n",
       "    }\n",
       "\n",
       "    .dataframe tbody tr th {\n",
       "        vertical-align: top;\n",
       "    }\n",
       "\n",
       "    .dataframe thead th {\n",
       "        text-align: right;\n",
       "    }\n",
       "</style>\n",
       "<table border=\"1\" class=\"dataframe\">\n",
       "  <thead>\n",
       "    <tr style=\"text-align: right;\">\n",
       "      <th></th>\n",
       "      <th>f0</th>\n",
       "      <th>f1</th>\n",
       "      <th>f2</th>\n",
       "      <th>product</th>\n",
       "    </tr>\n",
       "  </thead>\n",
       "  <tbody>\n",
       "    <tr>\n",
       "      <th>count</th>\n",
       "      <td>100000.000000</td>\n",
       "      <td>100000.000000</td>\n",
       "      <td>100000.000000</td>\n",
       "      <td>100000.000000</td>\n",
       "    </tr>\n",
       "    <tr>\n",
       "      <th>mean</th>\n",
       "      <td>1.141296</td>\n",
       "      <td>-4.796579</td>\n",
       "      <td>2.494541</td>\n",
       "      <td>68.825000</td>\n",
       "    </tr>\n",
       "    <tr>\n",
       "      <th>std</th>\n",
       "      <td>8.965932</td>\n",
       "      <td>5.119872</td>\n",
       "      <td>1.703572</td>\n",
       "      <td>45.944423</td>\n",
       "    </tr>\n",
       "    <tr>\n",
       "      <th>min</th>\n",
       "      <td>-31.609576</td>\n",
       "      <td>-26.358598</td>\n",
       "      <td>-0.018144</td>\n",
       "      <td>0.000000</td>\n",
       "    </tr>\n",
       "    <tr>\n",
       "      <th>25%</th>\n",
       "      <td>-6.298551</td>\n",
       "      <td>-8.267985</td>\n",
       "      <td>1.000021</td>\n",
       "      <td>26.953261</td>\n",
       "    </tr>\n",
       "    <tr>\n",
       "      <th>50%</th>\n",
       "      <td>1.153055</td>\n",
       "      <td>-4.813172</td>\n",
       "      <td>2.011479</td>\n",
       "      <td>57.085625</td>\n",
       "    </tr>\n",
       "    <tr>\n",
       "      <th>75%</th>\n",
       "      <td>8.621015</td>\n",
       "      <td>-1.332816</td>\n",
       "      <td>3.999904</td>\n",
       "      <td>107.813044</td>\n",
       "    </tr>\n",
       "    <tr>\n",
       "      <th>max</th>\n",
       "      <td>29.421755</td>\n",
       "      <td>18.734063</td>\n",
       "      <td>5.019721</td>\n",
       "      <td>137.945408</td>\n",
       "    </tr>\n",
       "  </tbody>\n",
       "</table>\n",
       "</div>"
      ],
      "text/plain": [
       "                  f0             f1             f2        product\n",
       "count  100000.000000  100000.000000  100000.000000  100000.000000\n",
       "mean        1.141296      -4.796579       2.494541      68.825000\n",
       "std         8.965932       5.119872       1.703572      45.944423\n",
       "min       -31.609576     -26.358598      -0.018144       0.000000\n",
       "25%        -6.298551      -8.267985       1.000021      26.953261\n",
       "50%         1.153055      -4.813172       2.011479      57.085625\n",
       "75%         8.621015      -1.332816       3.999904     107.813044\n",
       "max        29.421755      18.734063       5.019721     137.945408"
      ]
     },
     "metadata": {},
     "output_type": "display_data"
    },
    {
     "name": "stdout",
     "output_type": "stream",
     "text": [
      "\n",
      "####################\n",
      "#   Second_Frame   #\n",
      "####################\n",
      "\n"
     ]
    },
    {
     "data": {
      "text/html": [
       "<div>\n",
       "<style scoped>\n",
       "    .dataframe tbody tr th:only-of-type {\n",
       "        vertical-align: middle;\n",
       "    }\n",
       "\n",
       "    .dataframe tbody tr th {\n",
       "        vertical-align: top;\n",
       "    }\n",
       "\n",
       "    .dataframe thead th {\n",
       "        text-align: right;\n",
       "    }\n",
       "</style>\n",
       "<table border=\"1\" class=\"dataframe\">\n",
       "  <thead>\n",
       "    <tr style=\"text-align: right;\">\n",
       "      <th></th>\n",
       "      <th>f0</th>\n",
       "      <th>f1</th>\n",
       "      <th>f2</th>\n",
       "      <th>product</th>\n",
       "    </tr>\n",
       "  </thead>\n",
       "  <tbody>\n",
       "    <tr>\n",
       "      <th>count</th>\n",
       "      <td>100000.000000</td>\n",
       "      <td>100000.000000</td>\n",
       "      <td>100000.000000</td>\n",
       "      <td>100000.000000</td>\n",
       "    </tr>\n",
       "    <tr>\n",
       "      <th>mean</th>\n",
       "      <td>0.002023</td>\n",
       "      <td>-0.002081</td>\n",
       "      <td>2.495128</td>\n",
       "      <td>95.000000</td>\n",
       "    </tr>\n",
       "    <tr>\n",
       "      <th>std</th>\n",
       "      <td>1.732045</td>\n",
       "      <td>1.730417</td>\n",
       "      <td>3.473445</td>\n",
       "      <td>44.749921</td>\n",
       "    </tr>\n",
       "    <tr>\n",
       "      <th>min</th>\n",
       "      <td>-8.760004</td>\n",
       "      <td>-7.084020</td>\n",
       "      <td>-11.970335</td>\n",
       "      <td>0.000000</td>\n",
       "    </tr>\n",
       "    <tr>\n",
       "      <th>25%</th>\n",
       "      <td>-1.162288</td>\n",
       "      <td>-1.174820</td>\n",
       "      <td>0.130359</td>\n",
       "      <td>59.450441</td>\n",
       "    </tr>\n",
       "    <tr>\n",
       "      <th>50%</th>\n",
       "      <td>0.009424</td>\n",
       "      <td>-0.009482</td>\n",
       "      <td>2.484236</td>\n",
       "      <td>94.925613</td>\n",
       "    </tr>\n",
       "    <tr>\n",
       "      <th>75%</th>\n",
       "      <td>1.158535</td>\n",
       "      <td>1.163678</td>\n",
       "      <td>4.858794</td>\n",
       "      <td>130.595027</td>\n",
       "    </tr>\n",
       "    <tr>\n",
       "      <th>max</th>\n",
       "      <td>7.238262</td>\n",
       "      <td>7.844801</td>\n",
       "      <td>16.739402</td>\n",
       "      <td>190.029838</td>\n",
       "    </tr>\n",
       "  </tbody>\n",
       "</table>\n",
       "</div>"
      ],
      "text/plain": [
       "                  f0             f1             f2        product\n",
       "count  100000.000000  100000.000000  100000.000000  100000.000000\n",
       "mean        0.002023      -0.002081       2.495128      95.000000\n",
       "std         1.732045       1.730417       3.473445      44.749921\n",
       "min        -8.760004      -7.084020     -11.970335       0.000000\n",
       "25%        -1.162288      -1.174820       0.130359      59.450441\n",
       "50%         0.009424      -0.009482       2.484236      94.925613\n",
       "75%         1.158535       1.163678       4.858794     130.595027\n",
       "max         7.238262       7.844801      16.739402     190.029838"
      ]
     },
     "metadata": {},
     "output_type": "display_data"
    },
    {
     "name": "stdout",
     "output_type": "stream",
     "text": [
      "\n"
     ]
    }
   ],
   "source": [
    "display_info(True,\n",
    "             Zero_Frame = {'':zero_frame.describe()},\n",
    "             First_Frame = {'':first_frame.describe()},\n",
    "             Second_Frame = {'':second_frame.describe()})"
   ]
  },
  {
   "cell_type": "markdown",
   "metadata": {},
   "source": [
    "### Визуализируем полученные данные"
   ]
  },
  {
   "cell_type": "code",
   "execution_count": 8,
   "metadata": {
    "scrolled": false
   },
   "outputs": [
    {
     "data": {
      "image/png": "[encoded data removed]",
      "text/plain": [
       "<Figure size 1440x1080 with 12 Axes>"
      ]
     },
     "metadata": {
      "needs_background": "light"
     },
     "output_type": "display_data"
    }
   ],
   "source": [
    "fig,ax = plt.subplots(3,4,figsize = (20,15))\n",
    "\n",
    "all_frames = [\"zero_frame\",\"first_frame\",\"second_frame\"]\n",
    "num_columns = zero_frame.columns[1:]\n",
    "num_columns_with_columns = zip(zero_frame.columns[1:],range(4))\n",
    "all_frames_with_rows = zip([zero_frame,first_frame,second_frame],range(3))\n",
    "# Построим графики\n",
    "for column in list(itertools.product(all_frames_with_rows,num_columns_with_columns)):\n",
    "    ax[column[0][1]][column[1][1]].boxplot(column[0][0][column[1][0]])\n",
    "# Добавим название фрейма изображаемого на графике\n",
    "for row in range(3):\n",
    "    ax[row][0].set_ylabel(all_frames[row])\n",
    "# Добавим название столбца изображаемого на графике\n",
    "for column in range(4):\n",
    "    ax[0][column].set_title(num_columns[column])"
   ]
  },
  {
   "cell_type": "markdown",
   "metadata": {},
   "source": [
    "### Выводы"
   ]
  },
  {
   "cell_type": "markdown",
   "metadata": {},
   "source": [
    "Заметим, что в некоторых столбцах есть данные, выходящие за границы. Эти данные будут мешать модели обучаться, отвлекая её. Поэтому их необходимо удалить.\n",
    "Выпишем необходимые столбцы для обработки в формате - (фрейм, столбец):\n",
    "1. (zero_frame,\"f2\")\n",
    "1. (first_frame,\"f1\")\n",
    "1. (second_frame,\"f0\")\n",
    "1. (second_frame,\"f1\")\n",
    "1. (second_frame,\"f2\")"
   ]
  },
  {
   "cell_type": "markdown",
   "metadata": {},
   "source": [
    "## Исправим недочеты, найденные в данных "
   ]
  },
  {
   "cell_type": "code",
   "execution_count": 9,
   "metadata": {},
   "outputs": [],
   "source": [
    "def remove_ouliers(frame,column):\n",
    "    q25=np.array(frame[column].quantile(0.25))\n",
    "    \n",
    "    q75=np.array(frame[column].quantile(0.75))\n",
    "    first_part=q25-1.5*(q75-q25)\n",
    "    second_part=q75+1.5*(q75-q25)\n",
    "    del_index = []\n",
    "    for index_value, value in zip(frame[column].index,frame[column]):\n",
    "        if second_part <= value or value <= first_part:\n",
    "            del_index.append(index_value)\n",
    "    \n",
    "    print('Количество строк, выбранных для удаления: ',len(del_index))\n",
    "    return del_index"
   ]
  },
  {
   "cell_type": "code",
   "execution_count": 10,
   "metadata": {
    "scrolled": false
   },
   "outputs": [
    {
     "name": "stdout",
     "output_type": "stream",
     "text": [
      "Количество строк, выбранных для удаления:  506\n",
      "Количество строк, выбранных для удаления:  636\n",
      "Количество строк, выбранных для удаления:  733\n",
      "Количество строк, выбранных для удаления:  682\n",
      "Количество строк, выбранных для удаления:  582\n"
     ]
    }
   ],
   "source": [
    "noise_data = [(zero_frame,\"f2\"),\n",
    " (first_frame,\"f1\"),\n",
    " (second_frame,\"f0\"),\n",
    " (second_frame,\"f1\"),\n",
    " (second_frame,\"f2\")]\n",
    "\n",
    "for frame,column in noise_data:\n",
    "    indexes = remove_ouliers(frame,column)\n",
    "    frame.drop(indexes,axis = 0,inplace = True)"
   ]
  },
  {
   "cell_type": "markdown",
   "metadata": {},
   "source": [
    "Выборки пострадали не сильно, в первых двух потери составили менее 1%, в последней же потеря данных составила 2%"
   ]
  },
  {
   "cell_type": "code",
   "execution_count": 11,
   "metadata": {},
   "outputs": [],
   "source": [
    "zero_frame = zero_frame.reset_index(drop = True)\n",
    "first_frame = first_frame.reset_index(drop = True)\n",
    "second_frame = second_frame.reset_index(drop = True)"
   ]
  },
  {
   "cell_type": "markdown",
   "metadata": {},
   "source": [
    "## Проверим корреляцию между признаками"
   ]
  },
  {
   "cell_type": "code",
   "execution_count": 12,
   "metadata": {
    "scrolled": true
   },
   "outputs": [
    {
     "name": "stdout",
     "output_type": "stream",
     "text": [
      "##################\n",
      "#   Zero_Frame   #\n",
      "##################\n",
      "\n"
     ]
    },
    {
     "data": {
      "text/html": [
       "<div>\n",
       "<style scoped>\n",
       "    .dataframe tbody tr th:only-of-type {\n",
       "        vertical-align: middle;\n",
       "    }\n",
       "\n",
       "    .dataframe tbody tr th {\n",
       "        vertical-align: top;\n",
       "    }\n",
       "\n",
       "    .dataframe thead th {\n",
       "        text-align: right;\n",
       "    }\n",
       "</style>\n",
       "<table border=\"1\" class=\"dataframe\">\n",
       "  <thead>\n",
       "    <tr style=\"text-align: right;\">\n",
       "      <th></th>\n",
       "      <th>f0</th>\n",
       "      <th>f1</th>\n",
       "      <th>f2</th>\n",
       "      <th>product</th>\n",
       "    </tr>\n",
       "  </thead>\n",
       "  <tbody>\n",
       "    <tr>\n",
       "      <th>f0</th>\n",
       "      <td>1.000000</td>\n",
       "      <td>-0.440716</td>\n",
       "      <td>-0.003339</td>\n",
       "      <td>0.143591</td>\n",
       "    </tr>\n",
       "    <tr>\n",
       "      <th>f1</th>\n",
       "      <td>-0.440716</td>\n",
       "      <td>1.000000</td>\n",
       "      <td>0.001098</td>\n",
       "      <td>-0.192748</td>\n",
       "    </tr>\n",
       "    <tr>\n",
       "      <th>f2</th>\n",
       "      <td>-0.003339</td>\n",
       "      <td>0.001098</td>\n",
       "      <td>1.000000</td>\n",
       "      <td>0.480159</td>\n",
       "    </tr>\n",
       "    <tr>\n",
       "      <th>product</th>\n",
       "      <td>0.143591</td>\n",
       "      <td>-0.192748</td>\n",
       "      <td>0.480159</td>\n",
       "      <td>1.000000</td>\n",
       "    </tr>\n",
       "  </tbody>\n",
       "</table>\n",
       "</div>"
      ],
      "text/plain": [
       "               f0        f1        f2   product\n",
       "f0       1.000000 -0.440716 -0.003339  0.143591\n",
       "f1      -0.440716  1.000000  0.001098 -0.192748\n",
       "f2      -0.003339  0.001098  1.000000  0.480159\n",
       "product  0.143591 -0.192748  0.480159  1.000000"
      ]
     },
     "metadata": {},
     "output_type": "display_data"
    },
    {
     "name": "stdout",
     "output_type": "stream",
     "text": [
      "\n",
      "###################\n",
      "#   First_Frame   #\n",
      "###################\n",
      "\n"
     ]
    },
    {
     "data": {
      "text/html": [
       "<div>\n",
       "<style scoped>\n",
       "    .dataframe tbody tr th:only-of-type {\n",
       "        vertical-align: middle;\n",
       "    }\n",
       "\n",
       "    .dataframe tbody tr th {\n",
       "        vertical-align: top;\n",
       "    }\n",
       "\n",
       "    .dataframe thead th {\n",
       "        text-align: right;\n",
       "    }\n",
       "</style>\n",
       "<table border=\"1\" class=\"dataframe\">\n",
       "  <thead>\n",
       "    <tr style=\"text-align: right;\">\n",
       "      <th></th>\n",
       "      <th>f0</th>\n",
       "      <th>f1</th>\n",
       "      <th>f2</th>\n",
       "      <th>product</th>\n",
       "    </tr>\n",
       "  </thead>\n",
       "  <tbody>\n",
       "    <tr>\n",
       "      <th>f0</th>\n",
       "      <td>1.000000</td>\n",
       "      <td>0.178877</td>\n",
       "      <td>-0.001670</td>\n",
       "      <td>-0.030389</td>\n",
       "    </tr>\n",
       "    <tr>\n",
       "      <th>f1</th>\n",
       "      <td>0.178877</td>\n",
       "      <td>1.000000</td>\n",
       "      <td>-0.002756</td>\n",
       "      <td>-0.010174</td>\n",
       "    </tr>\n",
       "    <tr>\n",
       "      <th>f2</th>\n",
       "      <td>-0.001670</td>\n",
       "      <td>-0.002756</td>\n",
       "      <td>1.000000</td>\n",
       "      <td>0.999397</td>\n",
       "    </tr>\n",
       "    <tr>\n",
       "      <th>product</th>\n",
       "      <td>-0.030389</td>\n",
       "      <td>-0.010174</td>\n",
       "      <td>0.999397</td>\n",
       "      <td>1.000000</td>\n",
       "    </tr>\n",
       "  </tbody>\n",
       "</table>\n",
       "</div>"
      ],
      "text/plain": [
       "               f0        f1        f2   product\n",
       "f0       1.000000  0.178877 -0.001670 -0.030389\n",
       "f1       0.178877  1.000000 -0.002756 -0.010174\n",
       "f2      -0.001670 -0.002756  1.000000  0.999397\n",
       "product -0.030389 -0.010174  0.999397  1.000000"
      ]
     },
     "metadata": {},
     "output_type": "display_data"
    },
    {
     "name": "stdout",
     "output_type": "stream",
     "text": [
      "\n",
      "####################\n",
      "#   Second_Frame   #\n",
      "####################\n",
      "\n"
     ]
    },
    {
     "data": {
      "text/html": [
       "<div>\n",
       "<style scoped>\n",
       "    .dataframe tbody tr th:only-of-type {\n",
       "        vertical-align: middle;\n",
       "    }\n",
       "\n",
       "    .dataframe tbody tr th {\n",
       "        vertical-align: top;\n",
       "    }\n",
       "\n",
       "    .dataframe thead th {\n",
       "        text-align: right;\n",
       "    }\n",
       "</style>\n",
       "<table border=\"1\" class=\"dataframe\">\n",
       "  <thead>\n",
       "    <tr style=\"text-align: right;\">\n",
       "      <th></th>\n",
       "      <th>f0</th>\n",
       "      <th>f1</th>\n",
       "      <th>f2</th>\n",
       "      <th>product</th>\n",
       "    </tr>\n",
       "  </thead>\n",
       "  <tbody>\n",
       "    <tr>\n",
       "      <th>f0</th>\n",
       "      <td>1.000000</td>\n",
       "      <td>0.000649</td>\n",
       "      <td>0.000473</td>\n",
       "      <td>-0.002962</td>\n",
       "    </tr>\n",
       "    <tr>\n",
       "      <th>f1</th>\n",
       "      <td>0.000649</td>\n",
       "      <td>1.000000</td>\n",
       "      <td>0.000710</td>\n",
       "      <td>-0.000895</td>\n",
       "    </tr>\n",
       "    <tr>\n",
       "      <th>f2</th>\n",
       "      <td>0.000473</td>\n",
       "      <td>0.000710</td>\n",
       "      <td>1.000000</td>\n",
       "      <td>0.441211</td>\n",
       "    </tr>\n",
       "    <tr>\n",
       "      <th>product</th>\n",
       "      <td>-0.002962</td>\n",
       "      <td>-0.000895</td>\n",
       "      <td>0.441211</td>\n",
       "      <td>1.000000</td>\n",
       "    </tr>\n",
       "  </tbody>\n",
       "</table>\n",
       "</div>"
      ],
      "text/plain": [
       "               f0        f1        f2   product\n",
       "f0       1.000000  0.000649  0.000473 -0.002962\n",
       "f1       0.000649  1.000000  0.000710 -0.000895\n",
       "f2       0.000473  0.000710  1.000000  0.441211\n",
       "product -0.002962 -0.000895  0.441211  1.000000"
      ]
     },
     "metadata": {},
     "output_type": "display_data"
    },
    {
     "name": "stdout",
     "output_type": "stream",
     "text": [
      "\n"
     ]
    }
   ],
   "source": [
    "display_info(True,\n",
    "             Zero_Frame = {'':zero_frame.corr()},\n",
    "             First_Frame = {'':first_frame.corr()},\n",
    "             Second_Frame = {'':second_frame.corr()})"
   ]
  },
  {
   "cell_type": "markdown",
   "metadata": {},
   "source": [
    "### Вывод"
   ]
  },
  {
   "cell_type": "markdown",
   "metadata": {},
   "source": [
    "Заметим, что в нулевом фрейме признаки f0 и f1 отрицательно коррелируют относительно друг друга и f2 слабо положительно коррелирует с целевым признаком. Так же в первом фрейме очень сильно коррелирует целевой признак и f2. Во втором фрейме так же есть коррелирующие признаки, такие как f2 и product.\n",
    "\n",
    "Если в случае с первым фреймом все достаточно понятно, там очень высокая корреляция и признак f2 следует удалить, то вот в случае с другими двумя выборками стоит опираться на результат, который мы получим на моделях, Следовательно необходимо подготовить 3 выборок:\n",
    "1. Нулевая со всеми столбцами\n",
    "1. Первая ~без f2~ со всеми столбцами\n",
    "1. Вторая со всеми столбцами"
   ]
  },
  {
   "cell_type": "code",
   "execution_count": 13,
   "metadata": {},
   "outputs": [],
   "source": [
    "#first_frame_out_f2 = first_frame.drop([\"f2\"],axis = 1)"
   ]
  },
  {
   "cell_type": "markdown",
   "metadata": {},
   "source": [
    "## Вывод"
   ]
  },
  {
   "cell_type": "markdown",
   "metadata": {},
   "source": [
    "Результаты первичного анализа:\n",
    "1. Пропуски - отсутствуют\n",
    "2. Типы столбцов - корректны\n",
    "3. Названия столбцов - корректны \n",
    "1. Дубликаты - отсутствуют\n",
    "1. Объем запасов - положительный \n",
    "1. ~Выбросы - удалены~\n",
    "1. Коррелирующие признаки - учтены"
   ]
  },
  {
   "cell_type": "markdown",
   "metadata": {},
   "source": [
    "#  Обучение и проверка модели"
   ]
  },
  {
   "cell_type": "code",
   "execution_count": 14,
   "metadata": {},
   "outputs": [],
   "source": [
    "array_name = [\"zero_frame\",\n",
    "              \"second_frame\",\n",
    "              \"first_frame\"]\n",
    "\n",
    "array_frame = [zero_frame,\n",
    "              second_frame,\n",
    "              first_frame]\n",
    "\n",
    "data_dict = {\"pipelines\":{},\"scores\":{},\"valid\":{}}\n",
    "\n",
    "for frame, name in zip(array_frame,array_name):\n",
    "    \n",
    "    features = frame.drop([\"id\",\"product\"], axis = 1)\n",
    "    target = frame[\"product\"]\n",
    "    \n",
    "    new_pipeline = make_pipeline(StandardScaler(),LinearRegression())\n",
    "    \n",
    "    \n",
    "    (features_train,\n",
    "    features_valid,\n",
    "    target_train,\n",
    "    target_valid) = train_test_split(features,\n",
    "                                     target,\n",
    "                                     test_size = 0.25,\n",
    "                                     random_state = RANDOM)\n",
    "    data_dict['valid'][name] = (features_valid,target_valid)\n",
    "    new_pipeline.fit(features_train,target_train)\n",
    "    \n",
    "    data_dict['pipelines'][name] = new_pipeline\n",
    "    data_dict['scores'][name] = mean_squared_error(target_valid,\n",
    "                                                   new_pipeline.predict(features_valid))**0.5\n"
   ]
  },
  {
   "cell_type": "code",
   "execution_count": 15,
   "metadata": {
    "scrolled": true
   },
   "outputs": [
    {
     "data": {
      "text/plain": [
       "{'zero_frame': 37.815104778634264,\n",
       " 'second_frame': 40.12959008344122,\n",
       " 'first_frame': 0.8911478860562426}"
      ]
     },
     "execution_count": 15,
     "metadata": {},
     "output_type": "execute_result"
    }
   ],
   "source": [
    "data_dict['scores']"
   ]
  },
  {
   "cell_type": "markdown",
   "metadata": {},
   "source": [
    "Выборка с минимальной ошибкой: \n",
    "1. Первый регион: \"first_frame\"\n",
    "1. Нулевой регион: 'zero_frame'\n",
    "1. Второй регион: 'second_frame'"
   ]
  },
  {
   "cell_type": "code",
   "execution_count": 16,
   "metadata": {},
   "outputs": [],
   "source": [
    "best_model_zero = data_dict['pipelines']['zero_frame']\n",
    "best_model_first = data_dict['pipelines']['first_frame']\n",
    "best_model_second = data_dict['pipelines']['second_frame']\n",
    "\n",
    "predicted_values_zero = best_model_zero.predict(data_dict['valid']['zero_frame'][0])\n",
    "predicted_values_first = best_model_first.predict(data_dict['valid']['first_frame'][0])\n",
    "predicted_values_second = best_model_second.predict(data_dict['valid']['second_frame'][0])\n",
    "\n",
    "RMSE_model_zero = (mean_squared_error(data_dict['valid']['zero_frame'][1],predicted_values_zero))**0.5\n",
    "RMSE_model_first = (mean_squared_error(data_dict['valid']['first_frame'][1],predicted_values_first))**0.5\n",
    "RMSE_model_second = (mean_squared_error(data_dict['valid']['second_frame'][1],predicted_values_second))**0.5\n"
   ]
  },
  {
   "cell_type": "code",
   "execution_count": 17,
   "metadata": {},
   "outputs": [
    {
     "name": "stdout",
     "output_type": "stream",
     "text": [
      "##################\n",
      "#   Zero_Frame   #\n",
      "##################\n",
      "\n",
      "Средний запас: 92.35054696467081\n",
      "RMSE модели: 37.815104778634264\n",
      "\n",
      "###################\n",
      "#   First_Frame   #\n",
      "###################\n",
      "\n",
      "Средний запас: 68.54948307873164\n",
      "RMSE модели: 0.8911478860562426\n",
      "\n",
      "####################\n",
      "#   Second_Frame   #\n",
      "####################\n",
      "\n",
      "Средний запас: 94.9517811076183\n",
      "RMSE модели: 40.12959008344122\n",
      "\n"
     ]
    }
   ],
   "source": [
    "display_info(False,\n",
    "             Zero_Frame = {'Средний запас:':predicted_values_zero.mean(),\n",
    "                           \"RMSE модели:\":RMSE_model_zero},\n",
    "             First_Frame = {'Средний запас:':predicted_values_first.mean(),\n",
    "                            \"RMSE модели:\":RMSE_model_first},\n",
    "             Second_Frame = {'Средний запас:':predicted_values_second.mean(),\n",
    "                             \"RMSE модели:\":RMSE_model_second})"
   ]
  },
  {
   "cell_type": "markdown",
   "metadata": {},
   "source": [
    "## Вывод:\n",
    "- Нулевой регион:\n",
    "    - Ошибка в нулевом регионе самая маленькая, но по среднему объему запасов регион на втором месте \n",
    "- Первый регион:\n",
    "    - Проигрывает другим регионам и по показателю средней ошибки и по среднему объему запасов\n",
    "- Второй регион:\n",
    "    - Самый большой средний объем запасов, но по ошибке регион на втором месте \n",
    "\n",
    "На данном этапе было произведено обучение линейной регрессии на данных трех регионов. В ходе обучения и проверки на валидационной выборке в каждом регионе были выявлени следующие особености:  \n",
    "\n",
    "1. Лучшие показатели модели в Регионе 1 (RMSE = 0.891)\n",
    "2. Модель в Регионе 0 и 2 показала приблизительно одинаковые результаты (RMSE = 37.75 и 40.1, соответственно)  \n",
    "3. Средние запасы сырья в месторождениях по регионам (0,1,2) = 92.35 тыс; 68.5 тыс и 94.9 тыс баррелей соответственно.\n",
    "\n",
    "Несмотря на высокое качество предсказаний модели в Регионе 1, напрашивется гипотеза, что лучше сразу отбросить разработку Региона 1, поскольку средний объем нефти в месторождениях в нем меньше на ~25 тыс баррелей. Получается, что в бОльшем количестве случаев мы сможем выкачать меньше нефти и заработать меньше, чем разведав месторожожения в Регионах 0 или 2. \n",
    "\n",
    "Однако (этот пункт я дописал уже в конце исследования) - очень качество модели говорит об обратном - добыча в регионах 0 и 2 может быть гораздо \"рандомнее\", а вот регион 1 мы предсказываем стабильно хорошо.\n",
    "\n"
   ]
  },
  {
   "cell_type": "markdown",
   "metadata": {},
   "source": [
    "#  Подготовка к расчету прибыли"
   ]
  },
  {
   "cell_type": "code",
   "execution_count": 18,
   "metadata": {},
   "outputs": [],
   "source": [
    "#По условиям задачи : \n",
    "\n",
    "BUDGET = 10000000000   #Бюджет на разработку скважин в регионе 10 млрд. рублей\n",
    "TOTAL_RECONAISSANCE = 500 #При разведке исследуют 500 точек\n",
    "PROFIT_WELLS = 200  # 200 лучших скважин для расчета прибыли\n",
    "PRICE_PER_BARREL = 450   #Прибыль с одного барреля сырья 450 рублей\n",
    "PRICE_PER_PRODUCT = 450000   #Доход с каждой единицы продукта 450 000 рублей\n",
    "BUDGET_PER_REGION = 50000000    #ценa за бурение одной скважины\n",
    "FINAL_MAX_POINTS = 200\n",
    "PRE_MAX_POINTS = 500"
   ]
  },
  {
   "cell_type": "code",
   "execution_count": 19,
   "metadata": {
    "scrolled": false
   },
   "outputs": [
    {
     "data": {
      "text/plain": [
       "111.11111111111111"
      ]
     },
     "execution_count": 19,
     "metadata": {},
     "output_type": "execute_result"
    }
   ],
   "source": [
    "#Посчитаем Достаточный объем сырья для безубыточной разработки новой скважины\n",
    "MIN_PRODUCT_MEAN  = BUDGET_PER_REGION/PRICE_PER_PRODUCT\n",
    "MIN_PRODUCT_MEAN"
   ]
  },
  {
   "cell_type": "code",
   "execution_count": 20,
   "metadata": {},
   "outputs": [
    {
     "name": "stdout",
     "output_type": "stream",
     "text": [
      "Достаточный объем добычи для безубыточной разработки 111.11 тыс. добытых баррелей нефти\n"
     ]
    }
   ],
   "source": [
    "print(\"Достаточный объем добычи для безубыточной разработки\",round(MIN_PRODUCT_MEAN,2), 'тыс. добытых баррелей нефти')"
   ]
  },
  {
   "cell_type": "markdown",
   "metadata": {},
   "source": [
    "## Посмотрим распределение значений по районам\n"
   ]
  },
  {
   "cell_type": "code",
   "execution_count": 21,
   "metadata": {
    "scrolled": false
   },
   "outputs": [
    {
     "name": "stdout",
     "output_type": "stream",
     "text": [
      "##################\n",
      "#   Zero_Frame   #\n",
      "##################\n",
      "\n",
      "                 f0            f1            f2       product\n",
      "count  99494.000000  99494.000000  99494.000000  99494.000000\n",
      "mean       0.500570      0.250044      2.503399     92.500677\n",
      "std        0.871838      0.504437      3.181196     44.229330\n",
      "min       -1.408605     -0.848218     -6.352956      0.000000\n",
      "25%       -0.072378     -0.201063      0.301496     56.567678\n",
      "50%        0.502606      0.250032      2.516336     91.842533\n",
      "75%        1.073729      0.700574      4.704256    128.517876\n",
      "max        2.362331      1.343769     11.353804    185.364347\n",
      "\n",
      "###################\n",
      "#   First_Frame   #\n",
      "###################\n",
      "\n",
      "                 f0            f1            f2       product\n",
      "count  99364.000000  99364.000000  99364.000000  99364.000000\n",
      "mean       1.139661     -4.803101      2.493961     68.809919\n",
      "std        8.966349      4.984107      1.703241     45.934941\n",
      "min      -31.609576    -18.667777     -0.018144      0.000000\n",
      "25%       -6.300689     -8.249871      1.000016     26.953261\n",
      "50%        1.150044     -4.816643      2.011374     57.085625\n",
      "75%        8.621015     -1.363538      3.999893    107.813044\n",
      "max       29.421755      9.050688      5.019721    137.945408\n",
      "\n",
      "####################\n",
      "#   Second_Frame   #\n",
      "####################\n",
      "\n",
      "                 f0            f1            f2       product\n",
      "count  98003.000000  98003.000000  98003.000000  98003.000000\n",
      "mean       0.000788     -0.002182      2.494648     94.785072\n",
      "std        1.679981      1.681475      3.389780     44.685282\n",
      "min       -4.640830     -4.676782     -6.944602      0.000000\n",
      "25%       -1.153136     -1.164226      0.147699     59.330119\n",
      "50%        0.008893     -0.009345      2.482845     94.696578\n",
      "75%        1.148220      1.155001      4.841025    130.319425\n",
      "max        4.637965      4.670610     11.945919    190.029838\n",
      "\n"
     ]
    }
   ],
   "source": [
    "display_info(False,\n",
    "             Zero_Frame = {'':zero_frame.describe()},\n",
    "             First_Frame = {'':first_frame.describe()},\n",
    "             Second_Frame = {'':second_frame.describe()})"
   ]
  },
  {
   "cell_type": "markdown",
   "metadata": {},
   "source": [
    "В соответствии с найденной точкой безубыточности все регионы нам подходят\n"
   ]
  },
  {
   "cell_type": "code",
   "execution_count": 22,
   "metadata": {
    "scrolled": true
   },
   "outputs": [
    {
     "name": "stdout",
     "output_type": "stream",
     "text": [
      "64% скважин в нулевом регионе содержат больше сырья, чем  113.1\n",
      "80% скважин в первом регионе содержат больше сырья, чем  134.77\n",
      "62% скважин во втором регионе содержат больше сырья, чем  115.36\n"
     ]
    }
   ],
   "source": [
    "print(\"64% скважин в нулевом регионе содержат больше сырья, чем \",\n",
    "      round(zero_frame[\"product\"].quantile(0.65),2))\n",
    "print(\"80% скважин в первом регионе содержат больше сырья, чем \",\n",
    "      round(first_frame[\"product\"].quantile(0.85),2))\n",
    "print(\"62% скважин во втором регионе содержат больше сырья, чем \",\n",
    "      round(second_frame[\"product\"].quantile(0.65),2))"
   ]
  },
  {
   "cell_type": "code",
   "execution_count": 23,
   "metadata": {},
   "outputs": [],
   "source": [
    "regions = [zero_frame, first_frame, second_frame]"
   ]
  },
  {
   "cell_type": "code",
   "execution_count": 24,
   "metadata": {},
   "outputs": [
    {
     "name": "stdout",
     "output_type": "stream",
     "text": [
      "Вероятность неокупить разрабатываемую скважину в Регионе 0 = 63.45809797575733 %\n",
      "Вероятность неокупить разрабатываемую скважину в Регионе 1 = 83.4819451712894 %\n",
      "Вероятность неокупить разрабатываемую скважину в Регионе 2 = 62.01748926053284 %\n"
     ]
    }
   ],
   "source": [
    "for i in range(len(regions)):\n",
    "    print('Вероятность неокупить разрабатываемую скважину в Регионе', i, '=',\n",
    "          len(regions[i].query('product < 111.111')) / len(regions[i]) * 100,'%')"
   ]
  },
  {
   "cell_type": "code",
   "execution_count": null,
   "metadata": {},
   "outputs": [],
   "source": []
  },
  {
   "cell_type": "markdown",
   "metadata": {},
   "source": [
    "## Вывод"
   ]
  },
  {
   "cell_type": "markdown",
   "metadata": {},
   "source": [
    "Минимальное количество баррелей нефти для безубыточной разработки составило 111.(1)  (в  тыс.)\n",
    "\n",
    "В тоже время максимальное средний объем в регионах равен ~ 94 тыс.\n",
    "Если обратить внимание на распределение объема запасов по району, можно заметить, что в нулевом и втором районах 65% скважин проходят минимальный порог(учитывая объемы выборок, 65% составляют чуть меньше 115 000 скважин)\n",
    "\n",
    "В то время как:\n",
    "- в нулевом районе подходят только 63.417% скважин\n",
    "- в первом районе подходят только 83.463% скважин\n",
    "- во втором районе подходят только 61.822% скважин\n"
   ]
  },
  {
   "cell_type": "markdown",
   "metadata": {},
   "source": [
    "#  Расчёт прибыли и рисков "
   ]
  },
  {
   "cell_type": "code",
   "execution_count": 34,
   "metadata": {},
   "outputs": [],
   "source": [
    "def income(true_target, pred_target):\n",
    "    sort_Series = pd.Series(pred_target).sort_values(ascending=False)[:200]\n",
    "    true_target_sort = (true_target\n",
    "                         .reset_index(drop = True)[sort_Series.index])\n",
    "    sum_true = true_target_sort.sum() \n",
    "    return round((sum_true * 450000) - 10*(10**9),2)"
   ]
  },
  {
   "cell_type": "code",
   "execution_count": 35,
   "metadata": {
    "scrolled": true
   },
   "outputs": [
    {
     "name": "stdout",
     "output_type": "stream",
     "text": [
      "Прибыль с лучших 200 скважин в нулевом регионе:     3252359903.11 рубл.\n",
      "Прибыль с лучших 200 скважин во втором регионе:     2385314465.93 рубл.\n",
      "Прибыль с лучших 200 скважин в первом регионе:     2415086696.68 рубл.\n"
     ]
    }
   ],
   "source": [
    "## Система единиц : рублей\n",
    "\n",
    "print(\"Прибыль с лучших 200 скважин в нулевом регионе:\",\"   \", income(data_dict['valid']['zero_frame'][1],\n",
    "                                                               predicted_values_zero), \"рубл.\")\n",
    "print(\"Прибыль с лучших 200 скважин во втором регионе:\",\"   \", income(data_dict['valid']['second_frame'][1],\n",
    "                                                               predicted_values_second), \"рубл.\")\n",
    "print(\"Прибыль с лучших 200 скважин в первом регионе:\",\"   \", income(data_dict['valid']['first_frame'][1],\n",
    "                                                               predicted_values_first), \"рубл.\")\n"
   ]
  },
  {
   "cell_type": "code",
   "execution_count": 36,
   "metadata": {},
   "outputs": [],
   "source": [
    "def confidence_interval(true_target,pred_target):\n",
    "    samples = []\n",
    "    for i in tqdm(range(1000)):\n",
    "        sample = pd.Series(pred_target).sample(n = 500, replace=True, random_state=state)\n",
    "        samples.append(income(true_target,sample))\n",
    "    samples = pd.Series(samples)\n",
    "    print(samples.mean())\n",
    "    print(samples.apply(lambda x: x < 0).sum()/len(samples)*100,\"%\")\n",
    "    \n",
    "    lower = samples.quantile(0.025)\n",
    "    upper = samples.quantile(0.975)\n",
    "    return round(lower,2), round(upper,2)"
   ]
  },
  {
   "cell_type": "code",
   "execution_count": 37,
   "metadata": {
    "scrolled": true
   },
   "outputs": [
    {
     "name": "stderr",
     "output_type": "stream",
     "text": [
      "100%|██████████| 1000/1000 [00:01<00:00, 978.95it/s]\n"
     ]
    },
    {
     "name": "stdout",
     "output_type": "stream",
     "text": [
      "375133625.79308003\n",
      "7.7 %\n",
      "95% доверительный итервал для Нулевового региона лежит между: (-123450669.0, 861255048.59)\n",
      "\n"
     ]
    },
    {
     "name": "stderr",
     "output_type": "stream",
     "text": [
      "100%|██████████| 1000/1000 [00:01<00:00, 920.53it/s]\n"
     ]
    },
    {
     "name": "stdout",
     "output_type": "stream",
     "text": [
      "380659458.28916997\n",
      "6.4 %\n",
      "95% Доверительный итервал для Второго региона лежит между: (-140175478.34, 913676179.99)\n",
      "\n"
     ]
    },
    {
     "name": "stderr",
     "output_type": "stream",
     "text": [
      "100%|██████████| 1000/1000 [00:01<00:00, 909.04it/s]"
     ]
    },
    {
     "name": "stdout",
     "output_type": "stream",
     "text": [
      "434312048.68527\n",
      "2.0 %\n",
      "95% Доверительный итервал для Первого  региона лежит между: (32938826.77, 846657258.97)\n"
     ]
    },
    {
     "name": "stderr",
     "output_type": "stream",
     "text": [
      "\n"
     ]
    }
   ],
   "source": [
    "print(\"95% доверительный итервал для Нулевового региона лежит между:\",\n",
    "        confidence_interval(data_dict['valid']['zero_frame'][1],pd.Series(predicted_values_zero)))\n",
    "print()\n",
    "print(\"95% Доверительный итервал для Второго региона лежит между:\",\n",
    "      confidence_interval(data_dict['valid']['second_frame'][1],predicted_values_second))\n",
    "print()\n",
    "print(\"95% Доверительный итервал для Первого  региона лежит между:\",\n",
    "      confidence_interval(data_dict['valid']['first_frame'][1],predicted_values_first))\n",
    "\n"
   ]
  },
  {
   "cell_type": "markdown",
   "metadata": {},
   "source": [
    "## Общий вывод\n",
    "\n",
    "Основной целью данного проекта ставился выбор региона для буровых работ, основанный на предсказаниях построенной модели.\n",
    "\n",
    "Данным регионом, основываясь на имеющихся данных, признан first_frame со средней чистой прибылью = 436,853 млн. руб, и доверительным интервал среднего: (11 694 473.75,845 251 542.74).\n",
    "\n",
    "Задачами проекта выступали:\n",
    "1. Анализ трех регионов на максимальную выгоду - регионы расположились в следующем порядке: Регион 1 (436,853 млн. руб), Регион 2 (382,973 млн руб) и Регион 0 (381,841 млн руб) \n",
    "2. Строительство модели для определения макимальной прибыли - здесь все просто, одна разрешенная линейная регрессия практически не имеет возможностей настройки гиперпараметров и предсказывает значения лучше всего в Регионе 1, благодаря очень хорошему распеределению фич и просматривающися корреляциям фич и целевого признака  \n",
    "3. Провели расчет прибыли и пришли к выводу, что минимальный объем сырья должен составлять 111 тыс барелей. Наши средние показатели трех регионов не доходят до минимального порога\n",
    "3. Проанализировать финансовые риски - По условию рисков подходит только первый регион.\n",
    "\n",
    "Итог - Исходя из всех полученных данных: первый регион (first_frame) имеет наибольшие шансы на получение прибыли.\n",
    "\n",
    "---\n"
   ]
  },
  {
   "cell_type": "code",
   "execution_count": null,
   "metadata": {},
   "outputs": [],
   "source": []
  }
 ],
 "metadata": {
  "ExecuteTimeLog": [
   {
    "duration": 1554,
    "start_time": "2023-04-21T05:19:08.112Z"
   },
   {
    "duration": 717,
    "start_time": "2023-04-21T05:19:09.668Z"
   },
   {
    "duration": 5,
    "start_time": "2023-04-21T05:19:10.386Z"
   },
   {
    "duration": 27,
    "start_time": "2023-04-21T05:19:10.392Z"
   },
   {
    "duration": 30,
    "start_time": "2023-04-21T05:19:10.420Z"
   },
   {
    "duration": 109,
    "start_time": "2023-04-21T05:19:10.451Z"
   },
   {
    "duration": 108,
    "start_time": "2023-04-21T05:19:10.561Z"
   },
   {
    "duration": 834,
    "start_time": "2023-04-21T05:19:10.672Z"
   },
   {
    "duration": 4,
    "start_time": "2023-04-21T05:19:11.508Z"
   },
   {
    "duration": 198,
    "start_time": "2023-04-21T05:19:11.514Z"
   },
   {
    "duration": 8,
    "start_time": "2023-04-21T05:19:11.714Z"
   },
   {
    "duration": 104,
    "start_time": "2023-04-21T05:19:11.723Z"
   },
   {
    "duration": 4,
    "start_time": "2023-04-21T05:19:11.829Z"
   },
   {
    "duration": 351,
    "start_time": "2023-04-21T05:19:11.834Z"
   },
   {
    "duration": 5,
    "start_time": "2023-04-21T05:19:12.186Z"
   },
   {
    "duration": 192,
    "start_time": "2023-04-21T05:19:12.192Z"
   },
   {
    "duration": 92,
    "start_time": "2023-04-21T05:19:12.387Z"
   },
   {
    "duration": 109,
    "start_time": "2023-04-21T05:19:12.485Z"
   },
   {
    "duration": 6,
    "start_time": "2023-04-21T05:19:12.596Z"
   },
   {
    "duration": 76,
    "start_time": "2023-04-21T05:19:12.603Z"
   },
   {
    "duration": 12,
    "start_time": "2023-04-21T05:19:12.680Z"
   },
   {
    "duration": 3,
    "start_time": "2023-04-21T05:19:12.694Z"
   },
   {
    "duration": 16,
    "start_time": "2023-04-21T05:19:12.698Z"
   },
   {
    "duration": 3,
    "start_time": "2023-04-21T05:19:12.715Z"
   },
   {
    "duration": 2324,
    "start_time": "2023-04-21T05:19:12.720Z"
   },
   {
    "duration": 9,
    "start_time": "2023-04-21T05:37:50.530Z"
   },
   {
    "duration": 4,
    "start_time": "2023-04-21T05:38:26.848Z"
   },
   {
    "duration": 6,
    "start_time": "2023-04-21T05:53:39.046Z"
   },
   {
    "duration": 4,
    "start_time": "2023-04-21T05:53:58.263Z"
   },
   {
    "duration": 8,
    "start_time": "2023-04-21T05:55:28.489Z"
   },
   {
    "duration": 5,
    "start_time": "2023-04-21T05:55:58.902Z"
   },
   {
    "duration": 8,
    "start_time": "2023-04-21T05:56:09.763Z"
   },
   {
    "duration": 6,
    "start_time": "2023-04-21T05:56:25.710Z"
   },
   {
    "duration": 3,
    "start_time": "2023-04-21T19:07:04.728Z"
   },
   {
    "duration": 1748,
    "start_time": "2023-04-21T19:07:18.226Z"
   },
   {
    "duration": 808,
    "start_time": "2023-04-21T19:07:19.977Z"
   },
   {
    "duration": 6,
    "start_time": "2023-04-21T19:07:20.787Z"
   },
   {
    "duration": 54,
    "start_time": "2023-04-21T19:07:20.795Z"
   },
   {
    "duration": 44,
    "start_time": "2023-04-21T19:07:21.154Z"
   },
   {
    "duration": 169,
    "start_time": "2023-04-21T19:07:22.498Z"
   },
   {
    "duration": 117,
    "start_time": "2023-04-21T19:07:24.558Z"
   },
   {
    "duration": 1218,
    "start_time": "2023-04-21T19:07:25.596Z"
   },
   {
    "duration": 5,
    "start_time": "2023-04-21T19:07:29.104Z"
   },
   {
    "duration": 238,
    "start_time": "2023-04-21T19:07:29.923Z"
   },
   {
    "duration": 13,
    "start_time": "2023-04-21T19:07:31.704Z"
   },
   {
    "duration": 49,
    "start_time": "2023-04-21T19:07:32.802Z"
   },
   {
    "duration": 3,
    "start_time": "2023-04-21T19:07:34.512Z"
   },
   {
    "duration": 121,
    "start_time": "2023-04-21T19:07:59.804Z"
   },
   {
    "duration": 495,
    "start_time": "2023-04-21T19:09:21.150Z"
   },
   {
    "duration": 5,
    "start_time": "2023-04-21T19:09:23.615Z"
   },
   {
    "duration": 54,
    "start_time": "2023-04-21T19:09:56.187Z"
   },
   {
    "duration": 8,
    "start_time": "2023-04-21T19:10:06.514Z"
   },
   {
    "duration": 4,
    "start_time": "2023-04-21T19:11:24.633Z"
   },
   {
    "duration": 4,
    "start_time": "2023-04-21T19:11:31.503Z"
   },
   {
    "duration": 5,
    "start_time": "2023-04-21T19:12:10.695Z"
   },
   {
    "duration": 41,
    "start_time": "2023-04-21T19:12:22.114Z"
   },
   {
    "duration": 101,
    "start_time": "2023-04-21T19:12:27.532Z"
   },
   {
    "duration": 13,
    "start_time": "2023-04-21T19:12:38.308Z"
   },
   {
    "duration": 3,
    "start_time": "2023-04-21T19:12:56.082Z"
   },
   {
    "duration": 30,
    "start_time": "2023-04-21T19:13:04.951Z"
   },
   {
    "duration": 348,
    "start_time": "2023-04-21T19:15:29.907Z"
   },
   {
    "duration": 6,
    "start_time": "2023-04-21T19:15:30.985Z"
   },
   {
    "duration": 4,
    "start_time": "2023-04-21T19:17:53.615Z"
   },
   {
    "duration": 20,
    "start_time": "2023-04-21T19:17:54.689Z"
   },
   {
    "duration": 19,
    "start_time": "2023-04-21T19:18:07.132Z"
   },
   {
    "duration": 6,
    "start_time": "2023-04-21T19:18:17.407Z"
   },
   {
    "duration": 20,
    "start_time": "2023-04-21T19:18:17.742Z"
   },
   {
    "duration": 4,
    "start_time": "2023-04-21T19:20:18.720Z"
   },
   {
    "duration": 5,
    "start_time": "2023-04-21T19:20:19.290Z"
   },
   {
    "duration": 4,
    "start_time": "2023-04-21T19:20:19.832Z"
   },
   {
    "duration": 111,
    "start_time": "2023-04-21T19:20:21.110Z"
   },
   {
    "duration": 14,
    "start_time": "2023-04-21T19:20:22.526Z"
   },
   {
    "duration": 4,
    "start_time": "2023-04-21T19:20:22.713Z"
   },
   {
    "duration": 25,
    "start_time": "2023-04-21T19:20:22.886Z"
   },
   {
    "duration": 4,
    "start_time": "2023-04-21T19:20:25.101Z"
   },
   {
    "duration": 20,
    "start_time": "2023-04-21T19:20:25.459Z"
   },
   {
    "duration": 5,
    "start_time": "2023-04-21T19:20:25.744Z"
   },
   {
    "duration": 19,
    "start_time": "2023-04-21T19:20:26.351Z"
   },
   {
    "duration": 12,
    "start_time": "2023-04-21T19:23:08.043Z"
   },
   {
    "duration": 3,
    "start_time": "2023-04-21T19:23:28.974Z"
   },
   {
    "duration": 4,
    "start_time": "2023-04-21T19:23:29.543Z"
   },
   {
    "duration": 4,
    "start_time": "2023-04-21T19:23:48.135Z"
   },
   {
    "duration": 21,
    "start_time": "2023-04-21T19:23:54.356Z"
   },
   {
    "duration": 3,
    "start_time": "2023-04-21T19:24:40.571Z"
   },
   {
    "duration": 4,
    "start_time": "2023-04-21T19:24:41.125Z"
   },
   {
    "duration": 4,
    "start_time": "2023-04-21T19:24:43.701Z"
   },
   {
    "duration": 106,
    "start_time": "2023-04-21T19:24:45.116Z"
   },
   {
    "duration": 14,
    "start_time": "2023-04-21T19:24:45.788Z"
   },
   {
    "duration": 3,
    "start_time": "2023-04-21T19:24:45.993Z"
   },
   {
    "duration": 24,
    "start_time": "2023-04-21T19:24:46.162Z"
   },
   {
    "duration": 4,
    "start_time": "2023-04-21T19:24:47.995Z"
   },
   {
    "duration": 20,
    "start_time": "2023-04-21T19:24:48.490Z"
   },
   {
    "duration": 5,
    "start_time": "2023-04-21T19:24:48.890Z"
   },
   {
    "duration": 20,
    "start_time": "2023-04-21T19:24:49.589Z"
   },
   {
    "duration": 22,
    "start_time": "2023-04-21T19:25:22.679Z"
   },
   {
    "duration": 5,
    "start_time": "2023-04-21T19:26:27.747Z"
   },
   {
    "duration": 5,
    "start_time": "2023-04-21T19:26:28.398Z"
   },
   {
    "duration": 4,
    "start_time": "2023-04-21T19:26:28.955Z"
   },
   {
    "duration": 107,
    "start_time": "2023-04-21T19:26:29.707Z"
   },
   {
    "duration": 16,
    "start_time": "2023-04-21T19:26:30.375Z"
   },
   {
    "duration": 4,
    "start_time": "2023-04-21T19:26:30.856Z"
   },
   {
    "duration": 25,
    "start_time": "2023-04-21T19:26:31.251Z"
   },
   {
    "duration": 4,
    "start_time": "2023-04-21T19:26:34.317Z"
   },
   {
    "duration": 20,
    "start_time": "2023-04-21T19:26:34.526Z"
   },
   {
    "duration": 5,
    "start_time": "2023-04-21T19:26:35.282Z"
   },
   {
    "duration": 3404,
    "start_time": "2023-04-21T19:26:35.572Z"
   },
   {
    "duration": 5,
    "start_time": "2023-04-21T19:27:29.751Z"
   },
   {
    "duration": 3223,
    "start_time": "2023-04-21T19:27:30.105Z"
   },
   {
    "duration": 5,
    "start_time": "2023-04-21T19:28:31.628Z"
   },
   {
    "duration": 18,
    "start_time": "2023-04-21T19:28:32.243Z"
   },
   {
    "duration": 5,
    "start_time": "2023-04-21T19:28:32.588Z"
   },
   {
    "duration": 3325,
    "start_time": "2023-04-21T19:28:33.920Z"
   },
   {
    "duration": 1467,
    "start_time": "2023-04-21T19:51:22.088Z"
   },
   {
    "duration": 422,
    "start_time": "2023-04-21T19:51:23.557Z"
   },
   {
    "duration": 5,
    "start_time": "2023-04-21T19:51:23.982Z"
   },
   {
    "duration": 52,
    "start_time": "2023-04-21T19:51:23.989Z"
   },
   {
    "duration": 53,
    "start_time": "2023-04-21T19:51:24.043Z"
   },
   {
    "duration": 200,
    "start_time": "2023-04-21T19:51:24.098Z"
   },
   {
    "duration": 127,
    "start_time": "2023-04-21T19:51:24.300Z"
   },
   {
    "duration": 1089,
    "start_time": "2023-04-21T19:51:24.428Z"
   },
   {
    "duration": 5,
    "start_time": "2023-04-21T19:51:25.520Z"
   },
   {
    "duration": 259,
    "start_time": "2023-04-21T19:51:25.544Z"
   },
   {
    "duration": 13,
    "start_time": "2023-04-21T19:51:25.806Z"
   },
   {
    "duration": 183,
    "start_time": "2023-04-21T19:51:25.821Z"
   },
   {
    "duration": 3,
    "start_time": "2023-04-21T19:51:26.007Z"
   },
   {
    "duration": 430,
    "start_time": "2023-04-21T19:51:26.013Z"
   },
   {
    "duration": 95,
    "start_time": "2023-04-21T19:51:26.445Z"
   },
   {
    "duration": 195,
    "start_time": "2023-04-21T19:51:26.548Z"
   },
   {
    "duration": 104,
    "start_time": "2023-04-21T19:51:26.745Z"
   },
   {
    "duration": 12,
    "start_time": "2023-04-21T19:51:26.851Z"
   },
   {
    "duration": 9,
    "start_time": "2023-04-21T19:51:26.865Z"
   },
   {
    "duration": 5,
    "start_time": "2023-04-21T19:51:26.876Z"
   },
   {
    "duration": 117,
    "start_time": "2023-04-21T19:51:26.883Z"
   },
   {
    "duration": 15,
    "start_time": "2023-04-21T19:51:27.003Z"
   },
   {
    "duration": 3,
    "start_time": "2023-04-21T19:51:27.019Z"
   },
   {
    "duration": 30,
    "start_time": "2023-04-21T19:51:27.040Z"
   },
   {
    "duration": 4,
    "start_time": "2023-04-21T19:51:27.072Z"
   },
   {
    "duration": 21,
    "start_time": "2023-04-21T19:51:27.078Z"
   },
   {
    "duration": 25,
    "start_time": "2023-04-21T19:51:27.101Z"
   },
   {
    "duration": 3157,
    "start_time": "2023-04-21T19:51:27.130Z"
   },
   {
    "duration": 1565,
    "start_time": "2023-04-21T19:52:19.916Z"
   },
   {
    "duration": 413,
    "start_time": "2023-04-21T19:52:21.485Z"
   },
   {
    "duration": 5,
    "start_time": "2023-04-21T19:52:21.902Z"
   },
   {
    "duration": 66,
    "start_time": "2023-04-21T19:52:21.910Z"
   },
   {
    "duration": 64,
    "start_time": "2023-04-21T19:52:21.978Z"
   },
   {
    "duration": 182,
    "start_time": "2023-04-21T19:52:22.045Z"
   },
   {
    "duration": 130,
    "start_time": "2023-04-21T19:52:22.229Z"
   },
   {
    "duration": 2130,
    "start_time": "2023-04-21T19:52:22.360Z"
   },
   {
    "duration": 5,
    "start_time": "2023-04-21T19:52:24.492Z"
   },
   {
    "duration": 283,
    "start_time": "2023-04-21T19:52:24.499Z"
   },
   {
    "duration": 12,
    "start_time": "2023-04-21T19:52:24.784Z"
   },
   {
    "duration": 162,
    "start_time": "2023-04-21T19:52:24.798Z"
   },
   {
    "duration": 3,
    "start_time": "2023-04-21T19:52:24.962Z"
   },
   {
    "duration": 379,
    "start_time": "2023-04-21T19:52:24.966Z"
   },
   {
    "duration": 4,
    "start_time": "2023-04-21T19:52:25.347Z"
   },
   {
    "duration": 199,
    "start_time": "2023-04-21T19:52:25.354Z"
   },
   {
    "duration": 195,
    "start_time": "2023-04-21T19:52:25.557Z"
   },
   {
    "duration": 48,
    "start_time": "2023-04-21T19:52:25.754Z"
   },
   {
    "duration": 18,
    "start_time": "2023-04-21T19:52:25.805Z"
   },
   {
    "duration": 25,
    "start_time": "2023-04-21T19:52:25.826Z"
   },
   {
    "duration": 182,
    "start_time": "2023-04-21T19:52:25.853Z"
   },
   {
    "duration": 18,
    "start_time": "2023-04-21T19:52:26.042Z"
   },
   {
    "duration": 30,
    "start_time": "2023-04-21T19:52:26.062Z"
   },
   {
    "duration": 31,
    "start_time": "2023-04-21T19:52:26.094Z"
   },
   {
    "duration": 4,
    "start_time": "2023-04-21T19:52:26.127Z"
   },
   {
    "duration": 53,
    "start_time": "2023-04-21T19:52:26.134Z"
   },
   {
    "duration": 30,
    "start_time": "2023-04-21T19:52:26.189Z"
   },
   {
    "duration": 3352,
    "start_time": "2023-04-21T19:52:26.222Z"
   },
   {
    "duration": 78,
    "start_time": "2023-04-21T19:53:38.429Z"
   },
   {
    "duration": 8,
    "start_time": "2023-04-21T19:53:43.250Z"
   },
   {
    "duration": 3602,
    "start_time": "2023-04-21T19:53:43.947Z"
   },
   {
    "duration": 4,
    "start_time": "2023-04-21T19:54:48.323Z"
   },
   {
    "duration": 18,
    "start_time": "2023-04-21T19:54:48.836Z"
   },
   {
    "duration": 4,
    "start_time": "2023-04-21T19:55:33.129Z"
   },
   {
    "duration": 18,
    "start_time": "2023-04-21T19:55:33.845Z"
   },
   {
    "duration": 5,
    "start_time": "2023-04-21T19:55:35.658Z"
   },
   {
    "duration": 3235,
    "start_time": "2023-04-21T19:55:36.252Z"
   }
  ],
  "kernelspec": {
   "display_name": "Python 3 (ipykernel)",
   "language": "python",
   "name": "python3"
  },
  "language_info": {
   "codemirror_mode": {
    "name": "ipython",
    "version": 3
   },
   "file_extension": ".py",
   "mimetype": "text/x-python",
   "name": "python",
   "nbconvert_exporter": "python",
   "pygments_lexer": "ipython3",
   "version": "3.9.5"
  },
  "toc": {
   "base_numbering": 1,
   "nav_menu": {},
   "number_sections": true,
   "sideBar": true,
   "skip_h1_title": false,
   "title_cell": "Содержание",
   "title_sidebar": "Contents",
   "toc_cell": true,
   "toc_position": {},
   "toc_section_display": true,
   "toc_window_display": true
  }
 },
 "nbformat": 4,
 "nbformat_minor": 2
}
