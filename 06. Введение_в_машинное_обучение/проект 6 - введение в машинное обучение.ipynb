{
 "cells": [
  {
   "cell_type": "markdown",
   "metadata": {},
   "source": [
    "# Рекомендация тарифов"
   ]
  },
  {
   "cell_type": "markdown",
   "metadata": {},
   "source": [
    "В вашем распоряжении данные о поведении клиентов, которые уже перешли на эти тарифы (из проекта курса «Статистический анализ данных»). Нужно построить модель для задачи классификации, которая выберет подходящий тариф. Предобработка данных не понадобится — вы её уже сделали.\n",
    "\n",
    "Постройте модель с максимально большим значением *accuracy*. Чтобы сдать проект успешно, нужно довести долю правильных ответов по крайней мере до 0.75. Проверьте *accuracy* на тестовой выборке самостоятельно."
   ]
  },
  {
   "cell_type": "markdown",
   "metadata": {},
   "source": [
    "## Откройте и изучите файл"
   ]
  },
  {
   "cell_type": "code",
   "execution_count": 1,
   "metadata": {},
   "outputs": [],
   "source": [
    "#подключим ВСЕ необходимые Библиотеки\n",
    "import pandas as pd\n",
    "\n",
    "from sklearn.tree import DecisionTreeClassifier\n",
    "from sklearn.model_selection import train_test_split\n",
    "from sklearn.ensemble import RandomForestClassifier\n",
    "from sklearn.neighbors import KNeighborsClassifier\n",
    "from sklearn.metrics import accuracy_score\n",
    "\n",
    "import seaborn as sns\n",
    "sns.set_style('darkgrid')\n",
    "import matplotlib.pyplot as plt\n",
    "import joblib\n"
   ]
  },
  {
   "cell_type": "markdown",
   "metadata": {},
   "source": [
    "прочитаем данные и ознакомимся с ними"
   ]
  },
  {
   "cell_type": "code",
   "execution_count": 2,
   "metadata": {},
   "outputs": [
    {
     "data": {
      "text/html": [
       "<div>\n",
       "<style scoped>\n",
       "    .dataframe tbody tr th:only-of-type {\n",
       "        vertical-align: middle;\n",
       "    }\n",
       "\n",
       "    .dataframe tbody tr th {\n",
       "        vertical-align: top;\n",
       "    }\n",
       "\n",
       "    .dataframe thead th {\n",
       "        text-align: right;\n",
       "    }\n",
       "</style>\n",
       "<table border=\"1\" class=\"dataframe\">\n",
       "  <thead>\n",
       "    <tr style=\"text-align: right;\">\n",
       "      <th></th>\n",
       "      <th>calls</th>\n",
       "      <th>minutes</th>\n",
       "      <th>messages</th>\n",
       "      <th>mb_used</th>\n",
       "      <th>is_ultra</th>\n",
       "    </tr>\n",
       "  </thead>\n",
       "  <tbody>\n",
       "    <tr>\n",
       "      <th>0</th>\n",
       "      <td>40.0</td>\n",
       "      <td>311.90</td>\n",
       "      <td>83.0</td>\n",
       "      <td>19915.42</td>\n",
       "      <td>0</td>\n",
       "    </tr>\n",
       "    <tr>\n",
       "      <th>1</th>\n",
       "      <td>85.0</td>\n",
       "      <td>516.75</td>\n",
       "      <td>56.0</td>\n",
       "      <td>22696.96</td>\n",
       "      <td>0</td>\n",
       "    </tr>\n",
       "    <tr>\n",
       "      <th>2</th>\n",
       "      <td>77.0</td>\n",
       "      <td>467.66</td>\n",
       "      <td>86.0</td>\n",
       "      <td>21060.45</td>\n",
       "      <td>0</td>\n",
       "    </tr>\n",
       "    <tr>\n",
       "      <th>3</th>\n",
       "      <td>106.0</td>\n",
       "      <td>745.53</td>\n",
       "      <td>81.0</td>\n",
       "      <td>8437.39</td>\n",
       "      <td>1</td>\n",
       "    </tr>\n",
       "    <tr>\n",
       "      <th>4</th>\n",
       "      <td>66.0</td>\n",
       "      <td>418.74</td>\n",
       "      <td>1.0</td>\n",
       "      <td>14502.75</td>\n",
       "      <td>0</td>\n",
       "    </tr>\n",
       "  </tbody>\n",
       "</table>\n",
       "</div>"
      ],
      "text/plain": [
       "   calls  minutes  messages   mb_used  is_ultra\n",
       "0   40.0   311.90      83.0  19915.42         0\n",
       "1   85.0   516.75      56.0  22696.96         0\n",
       "2   77.0   467.66      86.0  21060.45         0\n",
       "3  106.0   745.53      81.0   8437.39         1\n",
       "4   66.0   418.74       1.0  14502.75         0"
      ]
     },
     "execution_count": 2,
     "metadata": {},
     "output_type": "execute_result"
    }
   ],
   "source": [
    "df = pd.read_csv('/datasets/users_behavior.csv')\n",
    "df.head()\n"
   ]
  },
  {
   "cell_type": "markdown",
   "metadata": {},
   "source": [
    "**is_ultra 1** - У клиента подключен тариф \"Ультра\"\n",
    "\n",
    "**is_ultra 0** - У клиента подключен тариф \"Смарт\""
   ]
  },
  {
   "cell_type": "code",
   "execution_count": 3,
   "metadata": {},
   "outputs": [
    {
     "name": "stdout",
     "output_type": "stream",
     "text": [
      "<class 'pandas.core.frame.DataFrame'>\n",
      "RangeIndex: 3214 entries, 0 to 3213\n",
      "Data columns (total 5 columns):\n",
      " #   Column    Non-Null Count  Dtype  \n",
      "---  ------    --------------  -----  \n",
      " 0   calls     3214 non-null   float64\n",
      " 1   minutes   3214 non-null   float64\n",
      " 2   messages  3214 non-null   float64\n",
      " 3   mb_used   3214 non-null   float64\n",
      " 4   is_ultra  3214 non-null   int64  \n",
      "dtypes: float64(4), int64(1)\n",
      "memory usage: 125.7 KB\n"
     ]
    },
    {
     "data": {
      "text/html": [
       "<div>\n",
       "<style scoped>\n",
       "    .dataframe tbody tr th:only-of-type {\n",
       "        vertical-align: middle;\n",
       "    }\n",
       "\n",
       "    .dataframe tbody tr th {\n",
       "        vertical-align: top;\n",
       "    }\n",
       "\n",
       "    .dataframe thead th {\n",
       "        text-align: right;\n",
       "    }\n",
       "</style>\n",
       "<table border=\"1\" class=\"dataframe\">\n",
       "  <thead>\n",
       "    <tr style=\"text-align: right;\">\n",
       "      <th></th>\n",
       "      <th>calls</th>\n",
       "      <th>minutes</th>\n",
       "      <th>messages</th>\n",
       "      <th>mb_used</th>\n",
       "      <th>is_ultra</th>\n",
       "    </tr>\n",
       "  </thead>\n",
       "  <tbody>\n",
       "    <tr>\n",
       "      <th>count</th>\n",
       "      <td>3214.000000</td>\n",
       "      <td>3214.000000</td>\n",
       "      <td>3214.000000</td>\n",
       "      <td>3214.000000</td>\n",
       "      <td>3214.000000</td>\n",
       "    </tr>\n",
       "    <tr>\n",
       "      <th>mean</th>\n",
       "      <td>63.038892</td>\n",
       "      <td>438.208787</td>\n",
       "      <td>38.281269</td>\n",
       "      <td>17207.673836</td>\n",
       "      <td>0.306472</td>\n",
       "    </tr>\n",
       "    <tr>\n",
       "      <th>std</th>\n",
       "      <td>33.236368</td>\n",
       "      <td>234.569872</td>\n",
       "      <td>36.148326</td>\n",
       "      <td>7570.968246</td>\n",
       "      <td>0.461100</td>\n",
       "    </tr>\n",
       "    <tr>\n",
       "      <th>min</th>\n",
       "      <td>0.000000</td>\n",
       "      <td>0.000000</td>\n",
       "      <td>0.000000</td>\n",
       "      <td>0.000000</td>\n",
       "      <td>0.000000</td>\n",
       "    </tr>\n",
       "    <tr>\n",
       "      <th>25%</th>\n",
       "      <td>40.000000</td>\n",
       "      <td>274.575000</td>\n",
       "      <td>9.000000</td>\n",
       "      <td>12491.902500</td>\n",
       "      <td>0.000000</td>\n",
       "    </tr>\n",
       "    <tr>\n",
       "      <th>50%</th>\n",
       "      <td>62.000000</td>\n",
       "      <td>430.600000</td>\n",
       "      <td>30.000000</td>\n",
       "      <td>16943.235000</td>\n",
       "      <td>0.000000</td>\n",
       "    </tr>\n",
       "    <tr>\n",
       "      <th>75%</th>\n",
       "      <td>82.000000</td>\n",
       "      <td>571.927500</td>\n",
       "      <td>57.000000</td>\n",
       "      <td>21424.700000</td>\n",
       "      <td>1.000000</td>\n",
       "    </tr>\n",
       "    <tr>\n",
       "      <th>max</th>\n",
       "      <td>244.000000</td>\n",
       "      <td>1632.060000</td>\n",
       "      <td>224.000000</td>\n",
       "      <td>49745.730000</td>\n",
       "      <td>1.000000</td>\n",
       "    </tr>\n",
       "  </tbody>\n",
       "</table>\n",
       "</div>"
      ],
      "text/plain": [
       "             calls      minutes     messages       mb_used     is_ultra\n",
       "count  3214.000000  3214.000000  3214.000000   3214.000000  3214.000000\n",
       "mean     63.038892   438.208787    38.281269  17207.673836     0.306472\n",
       "std      33.236368   234.569872    36.148326   7570.968246     0.461100\n",
       "min       0.000000     0.000000     0.000000      0.000000     0.000000\n",
       "25%      40.000000   274.575000     9.000000  12491.902500     0.000000\n",
       "50%      62.000000   430.600000    30.000000  16943.235000     0.000000\n",
       "75%      82.000000   571.927500    57.000000  21424.700000     1.000000\n",
       "max     244.000000  1632.060000   224.000000  49745.730000     1.000000"
      ]
     },
     "execution_count": 3,
     "metadata": {},
     "output_type": "execute_result"
    }
   ],
   "source": [
    "desc = df.describe()\n",
    "\n",
    "df.info()\n",
    "desc"
   ]
  },
  {
   "cell_type": "markdown",
   "metadata": {},
   "source": [
    "## Разбейте данные на выборки"
   ]
  },
  {
   "cell_type": "code",
   "execution_count": 4,
   "metadata": {},
   "outputs": [
    {
     "name": "stdout",
     "output_type": "stream",
     "text": [
      "Размер обучающий выборки: 2249 объекта\n",
      "Размер Валидиоционной выборке: 675 объектов\n",
      "Размер тестовой выборки: 290 объектов\n"
     ]
    }
   ],
   "source": [
    "#с помощью train_test_split  мы сможем Разделить наш датасет на следующие выборки\n",
    "df_train, df_valid = train_test_split(df, test_size = 0.30, random_state = 12345)\n",
    "df_valid, df_test = train_test_split(df_valid, test_size = 0.30, random_state = 12345)\n",
    "\n",
    "print(\"Размер обучающий выборки:\", df_train.shape[0],\"объекта\")\n",
    "print(\"Размер Валидиоционной выборке:\", df_valid.shape[0], \"объектов\")\n",
    "print(\"Размер тестовой выборки:\", df_test.shape[0], \"объектов\")"
   ]
  },
  {
   "cell_type": "markdown",
   "metadata": {},
   "source": [
    "## Исследуйте модели"
   ]
  },
  {
   "cell_type": "code",
   "execution_count": 5,
   "metadata": {},
   "outputs": [],
   "source": [
    "# Присвоим переменным прищнаки и целевые признаки\n",
    "features = df.drop(['is_ultra'], axis = 1)\n",
    "target = df['is_ultra']\n",
    "\n",
    "#Валидиоционные Выборки\n",
    "valid_features = df_valid.drop(['is_ultra'], axis = 1)\n",
    "valid_target = df_valid['is_ultra']\n",
    "\n",
    "#обучающая Выборка\n",
    "train_features = df_train.drop(['is_ultra'], axis = 1)\n",
    "train_target = df_train['is_ultra']\n",
    "\n",
    "#Тестовая Выборка\n",
    "test_features = df_test.drop(['is_ultra'], axis = 1)\n",
    "test_targets = df_test['is_ultra']"
   ]
  },
  {
   "cell_type": "code",
   "execution_count": 6,
   "metadata": {
    "scrolled": true
   },
   "outputs": [
    {
     "name": "stdout",
     "output_type": "stream",
     "text": [
      "Depth: 1              Accuracy: 0.7422222222222222\n",
      "Depth: 2              Accuracy: 0.7792592592592592\n",
      "Depth: 3              Accuracy: 0.7851851851851852\n",
      "Depth: 4              Accuracy: 0.7807407407407407\n",
      "Depth: 5              Accuracy: 0.7511111111111111\n",
      "Depth: 6              Accuracy: 0.7851851851851852\n",
      "Depth: 7              Accuracy: 0.7851851851851852\n",
      "Depth: 8              Accuracy: 0.7837037037037037\n",
      "Depth: 9              Accuracy: 0.7822222222222223\n",
      "Depth: 10              Accuracy: 0.7822222222222223\n",
      "Depth: 11              Accuracy: 0.7807407407407407\n",
      "Depth: 12              Accuracy: 0.7837037037037037\n",
      "Depth: 13              Accuracy: 0.7674074074074074\n",
      "Depth: 14              Accuracy: 0.7659259259259259\n",
      "\n",
      "\n"
     ]
    },
    {
     "data": {
      "image/png": "[encoded data removed]",
      "text/plain": [
       "<Figure size 720x360 with 1 Axes>"
      ]
     },
     "metadata": {},
     "output_type": "display_data"
    },
    {
     "name": "stdout",
     "output_type": "stream",
     "text": [
      "\n",
      "\n",
      "\n"
     ]
    }
   ],
   "source": [
    "#Обучим модель Дерево Решений и проверим разные глубины\n",
    "\n",
    "depths = []\n",
    "DTC_accuracies = []\n",
    "\n",
    "plt.figure(figsize = (10, 5))\n",
    "\n",
    "for depth in range(1, 15):\n",
    "    model = DecisionTreeClassifier(random_state = 12345, max_depth = depth)\n",
    "    model.fit(train_features, train_target)\n",
    "    predictions = model.predict(valid_features)\n",
    "    score = accuracy_score(valid_target, predictions)\n",
    "    depths.append(depth)\n",
    "    DTC_accuracies.append(score)\n",
    "    print('Depth:',depth,end = '')\n",
    "    print(\"              Accuracy:\", score)\n",
    "    sns.lineplot(data = pd.DataFrame(data = DTC_accuracies, index = depths), dashes = False)\n",
    "    plt.legend('')\n",
    "print(\"\\n\")\n",
    "plt.title(\"Выбирем лучую accuracy при различних глубинах\", fontsize = 15)\n",
    "plt.ylabel('Accuracies')\n",
    "plt.xlabel('Max Depth')\n",
    "plt.show()\n",
    "\n",
    "print('\\n\\n')"
   ]
  },
  {
   "cell_type": "code",
   "execution_count": 7,
   "metadata": {},
   "outputs": [
    {
     "name": "stdout",
     "output_type": "stream",
     "text": [
      "Depth: 1              Accuracy: 0.7851851851851852\n",
      "Depth: 2              Accuracy: 0.7837037037037037\n",
      "Depth: 3              Accuracy: 0.7851851851851852\n",
      "Depth: 4              Accuracy: 0.7837037037037037\n",
      "Depth: 5              Accuracy: 0.7866666666666666\n",
      "Depth: 6              Accuracy: 0.7837037037037037\n",
      "Depth: 7              Accuracy: 0.7851851851851852\n",
      "Depth: 8              Accuracy: 0.7837037037037037\n",
      "Depth: 9              Accuracy: 0.7837037037037037\n",
      "\n",
      "\n"
     ]
    },
    {
     "data": {
      "image/png": "[encoded data removed]",
      "text/plain": [
       "<Figure size 720x360 with 1 Axes>"
      ]
     },
     "metadata": {},
     "output_type": "display_data"
    },
    {
     "name": "stdout",
     "output_type": "stream",
     "text": [
      "\n",
      "\n",
      "\n"
     ]
    }
   ],
   "source": [
    "#Обучим модель Дерево Решений и проверим разные глубины\n",
    "\n",
    "depths = []\n",
    "DTC_accuracies = []\n",
    "\n",
    "plt.figure(figsize = (10, 5))\n",
    "\n",
    "for depth in range(1, 10):\n",
    "    model = DecisionTreeClassifier(class_weight = None, criterion = 'gini', \n",
    "                                   max_depth = 7)\n",
    "\n",
    "    model.fit(train_features, train_target)\n",
    "    predictions = model.predict(valid_features)\n",
    "    score = accuracy_score(valid_target, predictions)\n",
    "    depths.append(depth)\n",
    "    DTC_accuracies.append(score)\n",
    "    print('Depth:',depth,end = '')\n",
    "    print(\"              Accuracy:\", score)\n",
    "    sns.lineplot(data = pd.DataFrame(data = DTC_accuracies, index = depths), dashes = False)\n",
    "    plt.legend('')\n",
    "print(\"\\n\")\n",
    "plt.title(\"Выбирем лучую accuracy при различних глубинах\", fontsize = 15)\n",
    "plt.ylabel('Accuracies')\n",
    "plt.xlabel('Max Depth')\n",
    "plt.show()\n",
    "\n",
    "print('\\n\\n')"
   ]
  },
  {
   "cell_type": "code",
   "execution_count": 8,
   "metadata": {
    "scrolled": false
   },
   "outputs": [
    {
     "name": "stdout",
     "output_type": "stream",
     "text": [
      "Estimator=: 10             Accuracy: 0.7703703703703704\n",
      "Estimator=: 15             Accuracy: 0.7718518518518519\n",
      "Estimator=: 20             Accuracy: 0.7822222222222223\n",
      "Estimator=: 25             Accuracy: 0.7762962962962963\n",
      "Estimator=: 30             Accuracy: 0.7792592592592592\n",
      "Estimator=: 35             Accuracy: 0.7807407407407407\n",
      "Estimator=: 40             Accuracy: 0.7851851851851852\n",
      "Estimator=: 45             Accuracy: 0.7792592592592592\n",
      "Estimator=: 50             Accuracy: 0.7777777777777778\n",
      "\n",
      "\n"
     ]
    },
    {
     "data": {
      "image/png": "[encoded data removed]",
      "text/plain": [
       "<Figure size 720x360 with 1 Axes>"
      ]
     },
     "metadata": {},
     "output_type": "display_data"
    },
    {
     "name": "stdout",
     "output_type": "stream",
     "text": [
      "\n",
      "\n",
      "\n"
     ]
    }
   ],
   "source": [
    "#обучим модель случайный лес с разним количеством деревьев в лесу\n",
    "\n",
    "estimators = []\n",
    "RFC_accuracies = []\n",
    "\n",
    "plt.figure(figsize = (10, 5))\n",
    "\n",
    "for estim in range(10,51,5):\n",
    "    model = RandomForestClassifier(random_state = 12345, n_estimators = estim)\n",
    "    model.fit(train_features, train_target)\n",
    "    predictions = model.predict(valid_features)\n",
    "    score = accuracy_score(valid_target, predictions)\n",
    "    estimators.append(estim)\n",
    "    RFC_accuracies.append(score)\n",
    "    print('Estimator=:', estim, end= '')\n",
    "    print('             Accuracy:', score)\n",
    "    sns.lineplot(data= pd.DataFrame( data= RFC_accuracies, index = estimators), legend = 'brief')\n",
    "    plt.legend('')\n",
    "    \n",
    "print('\\n')\n",
    "plt.title('Выберем лучую accuracy при разном количестве деревьев',  fontsize = 15)\n",
    "plt.ylabel('Accuracies')\n",
    "plt.xlabel('Estimators')\n",
    "plt.show()\n",
    "\n",
    "print('\\n\\n')"
   ]
  },
  {
   "cell_type": "code",
   "execution_count": 9,
   "metadata": {},
   "outputs": [
    {
     "name": "stdout",
     "output_type": "stream",
     "text": [
      "Estimator=: 10             Accuracy: 0.7703703703703704\n",
      "Estimator=: 15             Accuracy: 0.7718518518518519\n",
      "Estimator=: 20             Accuracy: 0.7822222222222223\n",
      "Estimator=: 25             Accuracy: 0.7762962962962963\n",
      "Estimator=: 30             Accuracy: 0.7792592592592592\n",
      "Estimator=: 35             Accuracy: 0.7807407407407407\n",
      "Estimator=: 40             Accuracy: 0.7851851851851852\n",
      "Estimator=: 45             Accuracy: 0.7792592592592592\n",
      "Estimator=: 50             Accuracy: 0.7777777777777778\n",
      "\n",
      "\n"
     ]
    },
    {
     "data": {
      "image/png": "[encoded data removed]",
      "text/plain": [
       "<Figure size 720x360 with 1 Axes>"
      ]
     },
     "metadata": {},
     "output_type": "display_data"
    },
    {
     "name": "stdout",
     "output_type": "stream",
     "text": [
      "\n",
      "\n",
      "\n"
     ]
    }
   ],
   "source": [
    "#обучим модель случайный лес с разним количеством деревьев в лесу\n",
    "\n",
    "estimators = []\n",
    "RFC_accuracies = []\n",
    "\n",
    "plt.figure(figsize = (10, 5))\n",
    "\n",
    "for estim in range(10,51,5):\n",
    "    model = RandomForestClassifier(random_state = 12345, n_estimators = estim, \n",
    "                                  min_weight_fraction_leaf = 0.0, \n",
    "                                  max_features = \"sqrt\", \n",
    "                                  max_leaf_nodes = None, \n",
    "                                  min_impurity_decrease = 0.0, \n",
    "                                  bootstrap = True, oob_score = False, \n",
    "                                  n_jobs = None, \n",
    "                                  verbose = 0, \n",
    "                                   class_weight = None)\n",
    "    model.fit(train_features, train_target)\n",
    "    predictions = model.predict(valid_features)\n",
    "    score = accuracy_score(valid_target, predictions)\n",
    "    estimators.append(estim)\n",
    "    RFC_accuracies.append(score)\n",
    "    print('Estimator=:', estim, end= '')\n",
    "    print('             Accuracy:', score)\n",
    "    sns.lineplot(data= pd.DataFrame( data= RFC_accuracies, index = estimators), legend = 'brief')\n",
    "    plt.legend('')\n",
    "    \n",
    "print('\\n')\n",
    "plt.title('Выберем лучую accuracy при разном количестве деревьев',  fontsize = 15)\n",
    "plt.ylabel('Accuracies')\n",
    "plt.xlabel('Estimators')\n",
    "plt.show()\n",
    "\n",
    "print('\\n\\n')"
   ]
  },
  {
   "cell_type": "code",
   "execution_count": 10,
   "metadata": {},
   "outputs": [
    {
     "name": "stdout",
     "output_type": "stream",
     "text": [
      "Neighbors: [1]            Accuracy: 0.72\n",
      "Neighbors: [1, 4]            Accuracy: 0.7585185185185185\n",
      "Neighbors: [1, 4, 7]            Accuracy: 0.7540740740740741\n"
     ]
    },
    {
     "name": "stderr",
     "output_type": "stream",
     "text": [
      "/opt/conda/lib/python3.9/site-packages/sklearn/neighbors/_classification.py:211: FutureWarning: Unlike other reduction functions (e.g. `skew`, `kurtosis`), the default behavior of `mode` typically preserves the axis it acts along. In SciPy 1.11.0, this behavior will change: the default value of `keepdims` will become False, the `axis` over which the statistic is taken will be eliminated, and the value None will no longer be accepted. Set `keepdims` to True or False to avoid this warning.\n",
      "  mode, _ = stats.mode(_y[neigh_ind, k], axis=1)\n",
      "/opt/conda/lib/python3.9/site-packages/sklearn/neighbors/_classification.py:211: FutureWarning: Unlike other reduction functions (e.g. `skew`, `kurtosis`), the default behavior of `mode` typically preserves the axis it acts along. In SciPy 1.11.0, this behavior will change: the default value of `keepdims` will become False, the `axis` over which the statistic is taken will be eliminated, and the value None will no longer be accepted. Set `keepdims` to True or False to avoid this warning.\n",
      "  mode, _ = stats.mode(_y[neigh_ind, k], axis=1)\n",
      "/opt/conda/lib/python3.9/site-packages/sklearn/neighbors/_classification.py:211: FutureWarning: Unlike other reduction functions (e.g. `skew`, `kurtosis`), the default behavior of `mode` typically preserves the axis it acts along. In SciPy 1.11.0, this behavior will change: the default value of `keepdims` will become False, the `axis` over which the statistic is taken will be eliminated, and the value None will no longer be accepted. Set `keepdims` to True or False to avoid this warning.\n",
      "  mode, _ = stats.mode(_y[neigh_ind, k], axis=1)\n",
      "/opt/conda/lib/python3.9/site-packages/sklearn/neighbors/_classification.py:211: FutureWarning: Unlike other reduction functions (e.g. `skew`, `kurtosis`), the default behavior of `mode` typically preserves the axis it acts along. In SciPy 1.11.0, this behavior will change: the default value of `keepdims` will become False, the `axis` over which the statistic is taken will be eliminated, and the value None will no longer be accepted. Set `keepdims` to True or False to avoid this warning.\n",
      "  mode, _ = stats.mode(_y[neigh_ind, k], axis=1)\n"
     ]
    },
    {
     "name": "stdout",
     "output_type": "stream",
     "text": [
      "Neighbors: [1, 4, 7, 10]            Accuracy: 0.7585185185185185\n",
      "Neighbors: [1, 4, 7, 10, 13]            Accuracy: 0.7570370370370371\n",
      "Neighbors: [1, 4, 7, 10, 13, 16]            Accuracy: 0.7525925925925926\n",
      "Neighbors: [1, 4, 7, 10, 13, 16, 19]            Accuracy: 0.7540740740740741\n"
     ]
    },
    {
     "name": "stderr",
     "output_type": "stream",
     "text": [
      "/opt/conda/lib/python3.9/site-packages/sklearn/neighbors/_classification.py:211: FutureWarning: Unlike other reduction functions (e.g. `skew`, `kurtosis`), the default behavior of `mode` typically preserves the axis it acts along. In SciPy 1.11.0, this behavior will change: the default value of `keepdims` will become False, the `axis` over which the statistic is taken will be eliminated, and the value None will no longer be accepted. Set `keepdims` to True or False to avoid this warning.\n",
      "  mode, _ = stats.mode(_y[neigh_ind, k], axis=1)\n",
      "/opt/conda/lib/python3.9/site-packages/sklearn/neighbors/_classification.py:211: FutureWarning: Unlike other reduction functions (e.g. `skew`, `kurtosis`), the default behavior of `mode` typically preserves the axis it acts along. In SciPy 1.11.0, this behavior will change: the default value of `keepdims` will become False, the `axis` over which the statistic is taken will be eliminated, and the value None will no longer be accepted. Set `keepdims` to True or False to avoid this warning.\n",
      "  mode, _ = stats.mode(_y[neigh_ind, k], axis=1)\n",
      "/opt/conda/lib/python3.9/site-packages/sklearn/neighbors/_classification.py:211: FutureWarning: Unlike other reduction functions (e.g. `skew`, `kurtosis`), the default behavior of `mode` typically preserves the axis it acts along. In SciPy 1.11.0, this behavior will change: the default value of `keepdims` will become False, the `axis` over which the statistic is taken will be eliminated, and the value None will no longer be accepted. Set `keepdims` to True or False to avoid this warning.\n",
      "  mode, _ = stats.mode(_y[neigh_ind, k], axis=1)\n",
      "/opt/conda/lib/python3.9/site-packages/sklearn/neighbors/_classification.py:211: FutureWarning: Unlike other reduction functions (e.g. `skew`, `kurtosis`), the default behavior of `mode` typically preserves the axis it acts along. In SciPy 1.11.0, this behavior will change: the default value of `keepdims` will become False, the `axis` over which the statistic is taken will be eliminated, and the value None will no longer be accepted. Set `keepdims` to True or False to avoid this warning.\n",
      "  mode, _ = stats.mode(_y[neigh_ind, k], axis=1)\n"
     ]
    },
    {
     "name": "stdout",
     "output_type": "stream",
     "text": [
      "Neighbors: [1, 4, 7, 10, 13, 16, 19, 22]            Accuracy: 0.7570370370370371\n",
      "Neighbors: [1, 4, 7, 10, 13, 16, 19, 22, 25]            Accuracy: 0.7511111111111111\n",
      "\n",
      "\n"
     ]
    },
    {
     "name": "stderr",
     "output_type": "stream",
     "text": [
      "/opt/conda/lib/python3.9/site-packages/sklearn/neighbors/_classification.py:211: FutureWarning: Unlike other reduction functions (e.g. `skew`, `kurtosis`), the default behavior of `mode` typically preserves the axis it acts along. In SciPy 1.11.0, this behavior will change: the default value of `keepdims` will become False, the `axis` over which the statistic is taken will be eliminated, and the value None will no longer be accepted. Set `keepdims` to True or False to avoid this warning.\n",
      "  mode, _ = stats.mode(_y[neigh_ind, k], axis=1)\n"
     ]
    },
    {
     "data": {
      "image/png": "[encoded data removed]",
      "text/plain": [
       "<Figure size 720x360 with 1 Axes>"
      ]
     },
     "metadata": {},
     "output_type": "display_data"
    },
    {
     "name": "stdout",
     "output_type": "stream",
     "text": [
      "\n",
      "\n",
      "\n"
     ]
    }
   ],
   "source": [
    "#Обучим модель ближайщих соседей\n",
    "\n",
    "neighbors_list = []\n",
    "KNC_accuracies = []\n",
    "plt.figure(figsize = (10, 5))\n",
    "    \n",
    "for neighbors in range(1,28,3):\n",
    "    model = KNeighborsClassifier(n_neighbors = neighbors)\n",
    "    model.fit(train_features, train_target)\n",
    "    predictions = model.predict(valid_features)\n",
    "    score = accuracy_score(valid_target, predictions)\n",
    "    neighbors_list.append(neighbors)\n",
    "    KNC_accuracies.append(score)\n",
    "    print('Neighbors:', neighbors_list, end= '')\n",
    "    print('            Accuracy:', score)\n",
    "    sns.lineplot(data = pd.DataFrame(data = KNC_accuracies, index = neighbors_list),legend = 'brief')\n",
    "    plt.legend('')\n",
    "    \n",
    "print('\\n')\n",
    "plt.title('Выберем лучую accuracy при разном количестве Соседей', fontsize=  15)\n",
    "plt.xlabel('Neighbors')\n",
    "plt.ylabel('Accuracies')\n",
    "plt.show()\n",
    "\n",
    "print('\\n\\n')"
   ]
  },
  {
   "cell_type": "code",
   "execution_count": 11,
   "metadata": {},
   "outputs": [
    {
     "name": "stdout",
     "output_type": "stream",
     "text": [
      "Neighbors: [1]            Accuracy: 0.72\n",
      "Neighbors: [1, 4]            Accuracy: 0.7585185185185185\n",
      "Neighbors: [1, 4, 7]            Accuracy: 0.7540740740740741\n"
     ]
    },
    {
     "name": "stderr",
     "output_type": "stream",
     "text": [
      "/opt/conda/lib/python3.9/site-packages/sklearn/neighbors/_classification.py:211: FutureWarning: Unlike other reduction functions (e.g. `skew`, `kurtosis`), the default behavior of `mode` typically preserves the axis it acts along. In SciPy 1.11.0, this behavior will change: the default value of `keepdims` will become False, the `axis` over which the statistic is taken will be eliminated, and the value None will no longer be accepted. Set `keepdims` to True or False to avoid this warning.\n",
      "  mode, _ = stats.mode(_y[neigh_ind, k], axis=1)\n",
      "/opt/conda/lib/python3.9/site-packages/sklearn/neighbors/_classification.py:211: FutureWarning: Unlike other reduction functions (e.g. `skew`, `kurtosis`), the default behavior of `mode` typically preserves the axis it acts along. In SciPy 1.11.0, this behavior will change: the default value of `keepdims` will become False, the `axis` over which the statistic is taken will be eliminated, and the value None will no longer be accepted. Set `keepdims` to True or False to avoid this warning.\n",
      "  mode, _ = stats.mode(_y[neigh_ind, k], axis=1)\n",
      "/opt/conda/lib/python3.9/site-packages/sklearn/neighbors/_classification.py:211: FutureWarning: Unlike other reduction functions (e.g. `skew`, `kurtosis`), the default behavior of `mode` typically preserves the axis it acts along. In SciPy 1.11.0, this behavior will change: the default value of `keepdims` will become False, the `axis` over which the statistic is taken will be eliminated, and the value None will no longer be accepted. Set `keepdims` to True or False to avoid this warning.\n",
      "  mode, _ = stats.mode(_y[neigh_ind, k], axis=1)\n",
      "/opt/conda/lib/python3.9/site-packages/sklearn/neighbors/_classification.py:211: FutureWarning: Unlike other reduction functions (e.g. `skew`, `kurtosis`), the default behavior of `mode` typically preserves the axis it acts along. In SciPy 1.11.0, this behavior will change: the default value of `keepdims` will become False, the `axis` over which the statistic is taken will be eliminated, and the value None will no longer be accepted. Set `keepdims` to True or False to avoid this warning.\n",
      "  mode, _ = stats.mode(_y[neigh_ind, k], axis=1)\n",
      "/opt/conda/lib/python3.9/site-packages/sklearn/neighbors/_classification.py:211: FutureWarning: Unlike other reduction functions (e.g. `skew`, `kurtosis`), the default behavior of `mode` typically preserves the axis it acts along. In SciPy 1.11.0, this behavior will change: the default value of `keepdims` will become False, the `axis` over which the statistic is taken will be eliminated, and the value None will no longer be accepted. Set `keepdims` to True or False to avoid this warning.\n",
      "  mode, _ = stats.mode(_y[neigh_ind, k], axis=1)\n",
      "/opt/conda/lib/python3.9/site-packages/sklearn/neighbors/_classification.py:211: FutureWarning: Unlike other reduction functions (e.g. `skew`, `kurtosis`), the default behavior of `mode` typically preserves the axis it acts along. In SciPy 1.11.0, this behavior will change: the default value of `keepdims` will become False, the `axis` over which the statistic is taken will be eliminated, and the value None will no longer be accepted. Set `keepdims` to True or False to avoid this warning.\n",
      "  mode, _ = stats.mode(_y[neigh_ind, k], axis=1)\n",
      "/opt/conda/lib/python3.9/site-packages/sklearn/neighbors/_classification.py:211: FutureWarning: Unlike other reduction functions (e.g. `skew`, `kurtosis`), the default behavior of `mode` typically preserves the axis it acts along. In SciPy 1.11.0, this behavior will change: the default value of `keepdims` will become False, the `axis` over which the statistic is taken will be eliminated, and the value None will no longer be accepted. Set `keepdims` to True or False to avoid this warning.\n",
      "  mode, _ = stats.mode(_y[neigh_ind, k], axis=1)\n"
     ]
    },
    {
     "name": "stdout",
     "output_type": "stream",
     "text": [
      "Neighbors: [1, 4, 7, 10]            Accuracy: 0.7585185185185185\n",
      "Neighbors: [1, 4, 7, 10, 13]            Accuracy: 0.7570370370370371\n",
      "Neighbors: [1, 4, 7, 10, 13, 16]            Accuracy: 0.7525925925925926\n",
      "Neighbors: [1, 4, 7, 10, 13, 16, 19]            Accuracy: 0.7540740740740741\n"
     ]
    },
    {
     "name": "stderr",
     "output_type": "stream",
     "text": [
      "/opt/conda/lib/python3.9/site-packages/sklearn/neighbors/_classification.py:211: FutureWarning: Unlike other reduction functions (e.g. `skew`, `kurtosis`), the default behavior of `mode` typically preserves the axis it acts along. In SciPy 1.11.0, this behavior will change: the default value of `keepdims` will become False, the `axis` over which the statistic is taken will be eliminated, and the value None will no longer be accepted. Set `keepdims` to True or False to avoid this warning.\n",
      "  mode, _ = stats.mode(_y[neigh_ind, k], axis=1)\n",
      "/opt/conda/lib/python3.9/site-packages/sklearn/neighbors/_classification.py:211: FutureWarning: Unlike other reduction functions (e.g. `skew`, `kurtosis`), the default behavior of `mode` typically preserves the axis it acts along. In SciPy 1.11.0, this behavior will change: the default value of `keepdims` will become False, the `axis` over which the statistic is taken will be eliminated, and the value None will no longer be accepted. Set `keepdims` to True or False to avoid this warning.\n",
      "  mode, _ = stats.mode(_y[neigh_ind, k], axis=1)\n"
     ]
    },
    {
     "name": "stdout",
     "output_type": "stream",
     "text": [
      "Neighbors: [1, 4, 7, 10, 13, 16, 19, 22]            Accuracy: 0.7570370370370371\n",
      "Neighbors: [1, 4, 7, 10, 13, 16, 19, 22, 25]            Accuracy: 0.7511111111111111\n",
      "\n",
      "\n"
     ]
    },
    {
     "data": {
      "image/png": "[encoded data removed]",
      "text/plain": [
       "<Figure size 720x360 with 1 Axes>"
      ]
     },
     "metadata": {},
     "output_type": "display_data"
    },
    {
     "name": "stdout",
     "output_type": "stream",
     "text": [
      "\n",
      "\n",
      "\n"
     ]
    }
   ],
   "source": [
    "#Обучим модель ближайщих соседей\n",
    "\n",
    "neighbors_list = []\n",
    "KNC_accuracies = []\n",
    "plt.figure(figsize = (10, 5))\n",
    "    \n",
    "for neighbors in range(1,28,3):\n",
    "    model = KNeighborsClassifier(n_neighbors = neighbors,\n",
    "                                 weights='uniform', \n",
    "                                 algorithm='auto', \n",
    "                                 leaf_size=30, \n",
    "                                 p=2, \n",
    "                                 metric='minkowski', \n",
    "                                 metric_params=None, \n",
    "                                 n_jobs=None)\n",
    "    \n",
    "    model.fit(train_features, train_target)\n",
    "    predictions = model.predict(valid_features)\n",
    "    score = accuracy_score(valid_target, predictions)\n",
    "    neighbors_list.append(neighbors)\n",
    "    KNC_accuracies.append(score)\n",
    "    print('Neighbors:', neighbors_list, end= '')\n",
    "    print('            Accuracy:', score)\n",
    "    sns.lineplot(data = pd.DataFrame(data = KNC_accuracies, index = neighbors_list),legend = 'brief')\n",
    "    plt.legend('')\n",
    "    \n",
    "print('\\n')\n",
    "plt.title('Выберем лучую accuracy при разном количестве Соседей', fontsize=  15)\n",
    "plt.xlabel('Neighbors')\n",
    "plt.ylabel('Accuracies')\n",
    "plt.show()\n",
    "\n",
    "print('\\n\\n')"
   ]
  },
  {
   "cell_type": "code",
   "execution_count": 12,
   "metadata": {},
   "outputs": [],
   "source": [
    "#\n",
    "columns = ['DecisionTreeClassifier', 'RandomForestClassifier', 'KNeighborsClassifier']\n",
    "\n",
    "data = pd.DataFrame(columns = columns)\n",
    "\n",
    "data['DecisionTreeClassifier'] = DTC_accuracies\n",
    "data['KNeighborsClassifier'] = KNC_accuracies\n",
    "data['RandomForestClassifier'] = RFC_accuracies"
   ]
  },
  {
   "cell_type": "code",
   "execution_count": 13,
   "metadata": {
    "scrolled": true
   },
   "outputs": [
    {
     "data": {
      "text/plain": [
       "<AxesSubplot:title={'center':'Сравним все модели на одном графике'}, ylabel='Accuracy'>"
      ]
     },
     "execution_count": 13,
     "metadata": {},
     "output_type": "execute_result"
    },
    {
     "data": {
      "image/png": "[encoded data removed]",
      "text/plain": [
       "<Figure size 864x432 with 1 Axes>"
      ]
     },
     "metadata": {},
     "output_type": "display_data"
    }
   ],
   "source": [
    "plt.figure(figsize = (12, 6))\n",
    "plt.title(\"Сравним все модели на одном графике\", fontsize = 15)\n",
    "plt.xlabel('')\n",
    "plt.ylabel('Accuracy')\n",
    "sns.lineplot(data = data)"
   ]
  },
  {
   "cell_type": "markdown",
   "metadata": {},
   "source": [
    "Вывод:\n",
    "   - Иследователи три модели: Случайный лес, Ближайшие соседи, Дерево Решений.\n",
    "   - После исследования мы получили:\n",
    "        -  дерева решений при 4 деревьях accuracy: \n",
    "        - У ближайщих соседей при 10 соседях accuracy: Neighbors 10 Accuracy:\n",
    "        - У случайного леса при 40 деревьях, accuracy\n",
    "   - Исходя из полученных результатов на данный момент, можно сказать, что модель \"Случайный лес\" показывает лучший результат : при 40 деревьях, Accuracy: ~ 0.79\n",
    "            "
   ]
  },
  {
   "cell_type": "markdown",
   "metadata": {},
   "source": [
    "## Проверьте модель на тестовой выборке"
   ]
  },
  {
   "cell_type": "code",
   "execution_count": 14,
   "metadata": {},
   "outputs": [
    {
     "name": "stdout",
     "output_type": "stream",
     "text": [
      "Accuracy: 0.7931034482758621\n"
     ]
    }
   ],
   "source": [
    "#Проверим модель: Случайный лес на тестовой выборке при 40 деревьях\n",
    "\n",
    "model = RandomForestClassifier(random_state = 12345, n_estimators = 40)\n",
    "model.fit(train_features, train_target)\n",
    "predictions = model.predict(test_features)\n",
    "score = accuracy_score(test_targets, predictions)\n",
    "\n",
    "print('Accuracy:', score)"
   ]
  },
  {
   "cell_type": "markdown",
   "metadata": {},
   "source": [
    "## (бонус) Проверьте модели на адекватность"
   ]
  },
  {
   "cell_type": "markdown",
   "metadata": {},
   "source": [
    "Наша модель показала результат 0.79 - это значит, что наша модель адекватная. И не предсказывает случайным образом."
   ]
  },
  {
   "cell_type": "code",
   "execution_count": 15,
   "metadata": {},
   "outputs": [
    {
     "data": {
      "text/plain": [
       "0    0.693528\n",
       "1    0.306472\n",
       "Name: is_ultra, dtype: float64"
      ]
     },
     "execution_count": 15,
     "metadata": {},
     "output_type": "execute_result"
    }
   ],
   "source": [
    "df['is_ultra'].value_counts(normalize=True)"
   ]
  },
  {
   "cell_type": "markdown",
   "metadata": {},
   "source": [
    "Пусть наша модель всегда будет предсказывать тариф «Смарт». Тогда точность модели будет равна примерно 69%, но точность нашей лучшей модели больше и равна 79%. Можем заключить, что проверка на адекватность пройдена успешно!"
   ]
  },
  {
   "cell_type": "code",
   "execution_count": 16,
   "metadata": {},
   "outputs": [],
   "source": [
    "from sklearn.model_selection import train_test_split, GridSearchCV, RandomizedSearchCV"
   ]
  },
  {
   "cell_type": "code",
   "execution_count": 17,
   "metadata": {},
   "outputs": [],
   "source": [
    "from catboost import CatBoostClassifier\n",
    "import optuna"
   ]
  },
  {
   "cell_type": "code",
   "execution_count": 18,
   "metadata": {
    "scrolled": true
   },
   "outputs": [
    {
     "name": "stdout",
     "output_type": "stream",
     "text": [
      "Requirement already satisfied: optuna in /opt/conda/lib/python3.9/site-packages (3.1.1)\n",
      "Requirement already satisfied: cmaes>=0.9.1 in /opt/conda/lib/python3.9/site-packages (from optuna) (0.9.1)\n",
      "Requirement already satisfied: alembic>=1.5.0 in /opt/conda/lib/python3.9/site-packages (from optuna) (1.6.5)\n",
      "Requirement already satisfied: sqlalchemy>=1.3.0 in /opt/conda/lib/python3.9/site-packages (from optuna) (1.4.20)\n",
      "Requirement already satisfied: tqdm in /opt/conda/lib/python3.9/site-packages (from optuna) (4.61.2)\n",
      "Requirement already satisfied: numpy in /opt/conda/lib/python3.9/site-packages (from optuna) (1.21.1)\n",
      "Requirement already satisfied: PyYAML in /opt/conda/lib/python3.9/site-packages (from optuna) (6.0)\n",
      "Requirement already satisfied: packaging>=20.0 in /opt/conda/lib/python3.9/site-packages (from optuna) (21.3)\n",
      "Requirement already satisfied: colorlog in /opt/conda/lib/python3.9/site-packages (from optuna) (6.7.0)\n",
      "Requirement already satisfied: python-editor>=0.3 in /opt/conda/lib/python3.9/site-packages (from alembic>=1.5.0->optuna) (1.0.4)\n",
      "Requirement already satisfied: Mako in /opt/conda/lib/python3.9/site-packages (from alembic>=1.5.0->optuna) (1.1.4)\n",
      "Requirement already satisfied: python-dateutil in /opt/conda/lib/python3.9/site-packages (from alembic>=1.5.0->optuna) (2.8.1)\n",
      "Requirement already satisfied: pyparsing!=3.0.5,>=2.0.2 in /opt/conda/lib/python3.9/site-packages (from packaging>=20.0->optuna) (2.4.7)\n",
      "Requirement already satisfied: greenlet!=0.4.17 in /opt/conda/lib/python3.9/site-packages (from sqlalchemy>=1.3.0->optuna) (1.1.0)\n",
      "Requirement already satisfied: MarkupSafe>=0.9.2 in /opt/conda/lib/python3.9/site-packages (from Mako->alembic>=1.5.0->optuna) (2.1.1)\n",
      "Requirement already satisfied: six>=1.5 in /opt/conda/lib/python3.9/site-packages (from python-dateutil->alembic>=1.5.0->optuna) (1.16.0)\n",
      "Note: you may need to restart the kernel to use updated packages.\n"
     ]
    }
   ],
   "source": [
    "%pip install optuna"
   ]
  },
  {
   "cell_type": "markdown",
   "metadata": {},
   "source": [
    "</a><font size=\"3.5\"><b>Подбор гиперпараметров для лучайного Леса</font></b>"
   ]
  },
  {
   "cell_type": "markdown",
   "metadata": {},
   "source": [
    "Подберем гиперпараметры по максимальной глубине леса и количеству деревьев и минимальному количество примеров для разделения."
   ]
  },
  {
   "cell_type": "code",
   "execution_count": 19,
   "metadata": {
    "scrolled": true
   },
   "outputs": [
    {
     "name": "stdout",
     "output_type": "stream",
     "text": [
      "accuracy наилучшей модели на валидационной выборке: 0.8118518518518518 Количество деревьев: 20 Максимальная глубина: 10 минимальное количество примеров для разделения 4\n"
     ]
    }
   ],
   "source": [
    "best_model = None\n",
    "best_result = 0\n",
    "best_est = 0\n",
    "best_depth = 0\n",
    "for est in range(10, 101, 10):\n",
    "    for sample in range(2,5):\n",
    "        for depth in range (1, 11):\n",
    "            model = RandomForestClassifier(random_state=12345, n_estimators=est, max_depth=depth, min_samples_split = sample)\n",
    "            model.fit(train_features, train_target) \n",
    "            valid_predictions = model.predict(valid_features)\n",
    "            result = accuracy_score(valid_target, valid_predictions) \n",
    "            if result > best_result:\n",
    "                best_model = model\n",
    "                best_result = result\n",
    "                best_est = est\n",
    "                best_depth = depth\n",
    "                best_split = sample\n",
    "\n",
    "\n",
    "print(\"accuracy наилучшей модели на валидационной выборке:\", best_result, \"Количество деревьев:\", best_est, \"Максимальная глубина:\", depth, \"минимальное количество примеров для разделения\",best_split)"
   ]
  },
  {
   "cell_type": "markdown",
   "metadata": {},
   "source": [
    "Итак, Разбиваем на выборки и инициализируем объект **OptunaSearchCV** с условием максимизации метрики f1:\n",
    "\n",
    "</a><font size=\"3.5\"><b>ВНИМАНИЕ!!!! </font></b>\n",
    "\n",
    "Здесь, мне надо было ждать около минут пяти\n",
    "\n",
    "хорошего вам отдыха!\n",
    "\n",
    "Надеюсь что вам не будет скучно 😅🙏."
   ]
  },
  {
   "cell_type": "code",
   "execution_count": 20,
   "metadata": {},
   "outputs": [],
   "source": [
    "clf = CatBoostClassifier(verbose = False)"
   ]
  },
  {
   "cell_type": "code",
   "execution_count": 21,
   "metadata": {},
   "outputs": [
    {
     "name": "stderr",
     "output_type": "stream",
     "text": [
      "/tmp/ipykernel_178/467500640.py:10: ExperimentalWarning: OptunaSearchCV is experimental (supported from v0.17.0). The interface can change in the future.\n",
      "  opt_search = optuna.integration.OptunaSearchCV(clf, params_distrs, cv = 5, n_trials = 50, scoring = 'f1', timeout = 500)\n",
      "\u001b[32m[I 2023-04-12 20:24:01,949]\u001b[0m A new study created in memory with name: no-name-e66cb754-2425-4542-bf08-20aea7a84ca6\u001b[0m\n",
      "learning rate is greater than 1. You probably need to decrease learning rate.\n",
      "learning rate is greater than 1. You probably need to decrease learning rate.\n",
      "learning rate is greater than 1. You probably need to decrease learning rate.\n",
      "Training has stopped (degenerate solution on iteration 7, probably too small l2-regularization, try to increase it)\n",
      "learning rate is greater than 1. You probably need to decrease learning rate.\n",
      "learning rate is greater than 1. You probably need to decrease learning rate.\n",
      "learning rate is greater than 1. You probably need to decrease learning rate.\n",
      "learning rate is greater than 1. You probably need to decrease learning rate.\n",
      "learning rate is greater than 1. You probably need to decrease learning rate.\n",
      "learning rate is greater than 1. You probably need to decrease learning rate.\n",
      "learning rate is greater than 1. You probably need to decrease learning rate.\n",
      "learning rate is greater than 1. You probably need to decrease learning rate.\n",
      "learning rate is greater than 1. You probably need to decrease learning rate.\n",
      "learning rate is greater than 1. You probably need to decrease learning rate.\n",
      "learning rate is greater than 1. You probably need to decrease learning rate.\n",
      "learning rate is greater than 1. You probably need to decrease learning rate.\n",
      "Training has stopped (degenerate solution on iteration 13, probably too small l2-regularization, try to increase it)\n",
      "\u001b[32m[I 2023-04-12 20:24:08,078]\u001b[0m Trial 0 finished with value: 0.4104391070624196 and parameters: {'learning_rate': 8.530664021912154, 'min_data_in_leaf': 9, 'iterations': 803, 'subsample': 0.8950903328835071}. Best is trial 0 with value: 0.4104391070624196.\u001b[0m\n",
      "learning rate is greater than 1. You probably need to decrease learning rate.\n",
      "learning rate is greater than 1. You probably need to decrease learning rate.\n",
      "learning rate is greater than 1. You probably need to decrease learning rate.\n",
      "learning rate is greater than 1. You probably need to decrease learning rate.\n",
      "learning rate is greater than 1. You probably need to decrease learning rate.\n",
      "learning rate is greater than 1. You probably need to decrease learning rate.\n",
      "Training has stopped (degenerate solution on iteration 5, probably too small l2-regularization, try to increase it)\n",
      "learning rate is greater than 1. You probably need to decrease learning rate.\n",
      "learning rate is greater than 1. You probably need to decrease learning rate.\n",
      "learning rate is greater than 1. You probably need to decrease learning rate.\n",
      "Training has stopped (degenerate solution on iteration 114, probably too small l2-regularization, try to increase it)\n",
      "learning rate is greater than 1. You probably need to decrease learning rate.\n",
      "learning rate is greater than 1. You probably need to decrease learning rate.\n",
      "learning rate is greater than 1. You probably need to decrease learning rate.\n",
      "learning rate is greater than 1. You probably need to decrease learning rate.\n",
      "learning rate is greater than 1. You probably need to decrease learning rate.\n",
      "learning rate is greater than 1. You probably need to decrease learning rate.\n",
      "Training has stopped (degenerate solution on iteration 6, probably too small l2-regularization, try to increase it)\n",
      "\u001b[32m[I 2023-04-12 20:24:12,882]\u001b[0m Trial 1 finished with value: 0.4218914023032049 and parameters: {'learning_rate': 15.528896491233825, 'min_data_in_leaf': 2, 'iterations': 812, 'subsample': 0.7096169843805086}. Best is trial 1 with value: 0.4218914023032049.\u001b[0m\n",
      "learning rate is greater than 1. You probably need to decrease learning rate.\n",
      "learning rate is greater than 1. You probably need to decrease learning rate.\n",
      "learning rate is greater than 1. You probably need to decrease learning rate.\n",
      "Training has stopped (degenerate solution on iteration 8, probably too small l2-regularization, try to increase it)\n",
      "learning rate is greater than 1. You probably need to decrease learning rate.\n",
      "learning rate is greater than 1. You probably need to decrease learning rate.\n",
      "learning rate is greater than 1. You probably need to decrease learning rate.\n",
      "Training has stopped (degenerate solution on iteration 19, probably too small l2-regularization, try to increase it)\n",
      "learning rate is greater than 1. You probably need to decrease learning rate.\n",
      "learning rate is greater than 1. You probably need to decrease learning rate.\n",
      "learning rate is greater than 1. You probably need to decrease learning rate.\n",
      "learning rate is greater than 1. You probably need to decrease learning rate.\n",
      "learning rate is greater than 1. You probably need to decrease learning rate.\n",
      "learning rate is greater than 1. You probably need to decrease learning rate.\n",
      "Training has stopped (degenerate solution on iteration 9, probably too small l2-regularization, try to increase it)\n",
      "learning rate is greater than 1. You probably need to decrease learning rate.\n",
      "learning rate is greater than 1. You probably need to decrease learning rate.\n",
      "learning rate is greater than 1. You probably need to decrease learning rate.\n",
      "Training has stopped (degenerate solution on iteration 9, probably too small l2-regularization, try to increase it)\n",
      "\u001b[32m[I 2023-04-12 20:24:16,307]\u001b[0m Trial 2 finished with value: 0.45907762678468905 and parameters: {'learning_rate': 3.386874800747092, 'min_data_in_leaf': 9, 'iterations': 867, 'subsample': 0.8665096594726182}. Best is trial 2 with value: 0.45907762678468905.\u001b[0m\n",
      "learning rate is greater than 1. You probably need to decrease learning rate.\n",
      "learning rate is greater than 1. You probably need to decrease learning rate.\n",
      "learning rate is greater than 1. You probably need to decrease learning rate.\n",
      "learning rate is greater than 1. You probably need to decrease learning rate.\n",
      "learning rate is greater than 1. You probably need to decrease learning rate.\n",
      "learning rate is greater than 1. You probably need to decrease learning rate.\n",
      "learning rate is greater than 1. You probably need to decrease learning rate.\n",
      "learning rate is greater than 1. You probably need to decrease learning rate.\n",
      "learning rate is greater than 1. You probably need to decrease learning rate.\n",
      "Training has stopped (degenerate solution on iteration 5, probably too small l2-regularization, try to increase it)\n",
      "learning rate is greater than 1. You probably need to decrease learning rate.\n",
      "learning rate is greater than 1. You probably need to decrease learning rate.\n",
      "learning rate is greater than 1. You probably need to decrease learning rate.\n",
      "learning rate is greater than 1. You probably need to decrease learning rate.\n",
      "learning rate is greater than 1. You probably need to decrease learning rate.\n",
      "learning rate is greater than 1. You probably need to decrease learning rate.\n",
      "\u001b[32m[I 2023-04-12 20:24:23,449]\u001b[0m Trial 3 finished with value: 0.28162015750770975 and parameters: {'learning_rate': 14.05319011709848, 'min_data_in_leaf': 2, 'iterations': 804, 'subsample': 0.7047945513009393}. Best is trial 2 with value: 0.45907762678468905.\u001b[0m\n",
      "learning rate is greater than 1. You probably need to decrease learning rate.\n",
      "learning rate is greater than 1. You probably need to decrease learning rate.\n",
      "learning rate is greater than 1. You probably need to decrease learning rate.\n",
      "learning rate is greater than 1. You probably need to decrease learning rate.\n",
      "learning rate is greater than 1. You probably need to decrease learning rate.\n",
      "learning rate is greater than 1. You probably need to decrease learning rate.\n",
      "Training has stopped (degenerate solution on iteration 62, probably too small l2-regularization, try to increase it)\n",
      "learning rate is greater than 1. You probably need to decrease learning rate.\n",
      "learning rate is greater than 1. You probably need to decrease learning rate.\n",
      "learning rate is greater than 1. You probably need to decrease learning rate.\n",
      "Training has stopped (degenerate solution on iteration 6, probably too small l2-regularization, try to increase it)\n",
      "learning rate is greater than 1. You probably need to decrease learning rate.\n",
      "learning rate is greater than 1. You probably need to decrease learning rate.\n",
      "learning rate is greater than 1. You probably need to decrease learning rate.\n",
      "learning rate is greater than 1. You probably need to decrease learning rate.\n",
      "learning rate is greater than 1. You probably need to decrease learning rate.\n",
      "learning rate is greater than 1. You probably need to decrease learning rate.\n",
      "\u001b[32m[I 2023-04-12 20:24:29,819]\u001b[0m Trial 4 finished with value: 0.34770249429749855 and parameters: {'learning_rate': 18.174745222047754, 'min_data_in_leaf': 5, 'iterations': 924, 'subsample': 0.8197625831008618}. Best is trial 2 with value: 0.45907762678468905.\u001b[0m\n",
      "learning rate is greater than 1. You probably need to decrease learning rate.\n",
      "learning rate is greater than 1. You probably need to decrease learning rate.\n",
      "learning rate is greater than 1. You probably need to decrease learning rate.\n",
      "learning rate is greater than 1. You probably need to decrease learning rate.\n",
      "learning rate is greater than 1. You probably need to decrease learning rate.\n",
      "learning rate is greater than 1. You probably need to decrease learning rate.\n",
      "learning rate is greater than 1. You probably need to decrease learning rate.\n",
      "learning rate is greater than 1. You probably need to decrease learning rate.\n",
      "learning rate is greater than 1. You probably need to decrease learning rate.\n",
      "learning rate is greater than 1. You probably need to decrease learning rate.\n",
      "learning rate is greater than 1. You probably need to decrease learning rate.\n",
      "learning rate is greater than 1. You probably need to decrease learning rate.\n",
      "learning rate is greater than 1. You probably need to decrease learning rate.\n",
      "learning rate is greater than 1. You probably need to decrease learning rate.\n",
      "learning rate is greater than 1. You probably need to decrease learning rate.\n",
      "\u001b[32m[I 2023-04-12 20:24:41,281]\u001b[0m Trial 5 finished with value: 0.5637555323076602 and parameters: {'learning_rate': 2.155194494012017, 'min_data_in_leaf': 5, 'iterations': 1162, 'subsample': 0.8674595589109307}. Best is trial 5 with value: 0.5637555323076602.\u001b[0m\n",
      "learning rate is greater than 1. You probably need to decrease learning rate.\n",
      "learning rate is greater than 1. You probably need to decrease learning rate.\n",
      "learning rate is greater than 1. You probably need to decrease learning rate.\n",
      "Training has stopped (degenerate solution on iteration 8, probably too small l2-regularization, try to increase it)\n",
      "learning rate is greater than 1. You probably need to decrease learning rate.\n",
      "learning rate is greater than 1. You probably need to decrease learning rate.\n",
      "learning rate is greater than 1. You probably need to decrease learning rate.\n",
      "Training has stopped (degenerate solution on iteration 10, probably too small l2-regularization, try to increase it)\n",
      "learning rate is greater than 1. You probably need to decrease learning rate.\n",
      "learning rate is greater than 1. You probably need to decrease learning rate.\n",
      "learning rate is greater than 1. You probably need to decrease learning rate.\n",
      "Training has stopped (degenerate solution on iteration 12, probably too small l2-regularization, try to increase it)\n",
      "learning rate is greater than 1. You probably need to decrease learning rate.\n",
      "learning rate is greater than 1. You probably need to decrease learning rate.\n",
      "learning rate is greater than 1. You probably need to decrease learning rate.\n",
      "Training has stopped (degenerate solution on iteration 6, probably too small l2-regularization, try to increase it)\n",
      "learning rate is greater than 1. You probably need to decrease learning rate.\n",
      "learning rate is greater than 1. You probably need to decrease learning rate.\n",
      "learning rate is greater than 1. You probably need to decrease learning rate.\n",
      "Training has stopped (degenerate solution on iteration 134, probably too small l2-regularization, try to increase it)\n",
      "\u001b[32m[I 2023-04-12 20:24:43,455]\u001b[0m Trial 6 finished with value: 0.494939046499845 and parameters: {'learning_rate': 6.615684115833253, 'min_data_in_leaf': 9, 'iterations': 852, 'subsample': 0.7178745200373015}. Best is trial 5 with value: 0.5637555323076602.\u001b[0m\n",
      "learning rate is greater than 1. You probably need to decrease learning rate.\n",
      "learning rate is greater than 1. You probably need to decrease learning rate.\n",
      "learning rate is greater than 1. You probably need to decrease learning rate.\n",
      "learning rate is greater than 1. You probably need to decrease learning rate.\n",
      "learning rate is greater than 1. You probably need to decrease learning rate.\n",
      "learning rate is greater than 1. You probably need to decrease learning rate.\n",
      "Training has stopped (degenerate solution on iteration 14, probably too small l2-regularization, try to increase it)\n",
      "learning rate is greater than 1. You probably need to decrease learning rate.\n",
      "learning rate is greater than 1. You probably need to decrease learning rate.\n",
      "learning rate is greater than 1. You probably need to decrease learning rate.\n",
      "learning rate is greater than 1. You probably need to decrease learning rate.\n",
      "learning rate is greater than 1. You probably need to decrease learning rate.\n",
      "learning rate is greater than 1. You probably need to decrease learning rate.\n",
      "Training has stopped (degenerate solution on iteration 9, probably too small l2-regularization, try to increase it)\n",
      "learning rate is greater than 1. You probably need to decrease learning rate.\n",
      "learning rate is greater than 1. You probably need to decrease learning rate.\n",
      "learning rate is greater than 1. You probably need to decrease learning rate.\n",
      "Training has stopped (degenerate solution on iteration 5, probably too small l2-regularization, try to increase it)\n",
      "\u001b[32m[I 2023-04-12 20:24:48,444]\u001b[0m Trial 7 finished with value: 0.4128708053274234 and parameters: {'learning_rate': 11.604401856028296, 'min_data_in_leaf': 6, 'iterations': 955, 'subsample': 0.8886538890377458}. Best is trial 5 with value: 0.5637555323076602.\u001b[0m\n",
      "learning rate is greater than 1. You probably need to decrease learning rate.\n",
      "learning rate is greater than 1. You probably need to decrease learning rate.\n",
      "learning rate is greater than 1. You probably need to decrease learning rate.\n",
      "learning rate is greater than 1. You probably need to decrease learning rate.\n",
      "learning rate is greater than 1. You probably need to decrease learning rate.\n",
      "learning rate is greater than 1. You probably need to decrease learning rate.\n",
      "Training has stopped (degenerate solution on iteration 7, probably too small l2-regularization, try to increase it)\n",
      "learning rate is greater than 1. You probably need to decrease learning rate.\n",
      "learning rate is greater than 1. You probably need to decrease learning rate.\n",
      "learning rate is greater than 1. You probably need to decrease learning rate.\n",
      "Training has stopped (degenerate solution on iteration 7, probably too small l2-regularization, try to increase it)\n",
      "learning rate is greater than 1. You probably need to decrease learning rate.\n",
      "learning rate is greater than 1. You probably need to decrease learning rate.\n",
      "learning rate is greater than 1. You probably need to decrease learning rate.\n",
      "learning rate is greater than 1. You probably need to decrease learning rate.\n",
      "learning rate is greater than 1. You probably need to decrease learning rate.\n",
      "learning rate is greater than 1. You probably need to decrease learning rate.\n",
      "\u001b[32m[I 2023-04-12 20:24:55,626]\u001b[0m Trial 8 finished with value: 0.38783031918363053 and parameters: {'learning_rate': 19.04906320472422, 'min_data_in_leaf': 10, 'iterations': 1077, 'subsample': 0.8717168070759117}. Best is trial 5 with value: 0.5637555323076602.\u001b[0m\n",
      "learning rate is greater than 1. You probably need to decrease learning rate.\n",
      "learning rate is greater than 1. You probably need to decrease learning rate.\n",
      "learning rate is greater than 1. You probably need to decrease learning rate.\n",
      "learning rate is greater than 1. You probably need to decrease learning rate.\n",
      "learning rate is greater than 1. You probably need to decrease learning rate.\n",
      "learning rate is greater than 1. You probably need to decrease learning rate.\n",
      "learning rate is greater than 1. You probably need to decrease learning rate.\n",
      "learning rate is greater than 1. You probably need to decrease learning rate.\n",
      "learning rate is greater than 1. You probably need to decrease learning rate.\n",
      "Training has stopped (degenerate solution on iteration 8, probably too small l2-regularization, try to increase it)\n",
      "learning rate is greater than 1. You probably need to decrease learning rate.\n",
      "learning rate is greater than 1. You probably need to decrease learning rate.\n",
      "learning rate is greater than 1. You probably need to decrease learning rate.\n",
      "learning rate is greater than 1. You probably need to decrease learning rate.\n",
      "learning rate is greater than 1. You probably need to decrease learning rate.\n",
      "learning rate is greater than 1. You probably need to decrease learning rate.\n",
      "\u001b[32m[I 2023-04-12 20:25:06,089]\u001b[0m Trial 9 finished with value: 0.45162908539125873 and parameters: {'learning_rate': 5.0014651849218215, 'min_data_in_leaf': 4, 'iterations': 1045, 'subsample': 0.7298366045181286}. Best is trial 5 with value: 0.5637555323076602.\u001b[0m\n",
      "\u001b[32m[I 2023-04-12 20:25:18,301]\u001b[0m Trial 10 finished with value: 0.6233077331026438 and parameters: {'learning_rate': 0.3218469087006959, 'min_data_in_leaf': 7, 'iterations': 1185, 'subsample': 0.832160125900298}. Best is trial 10 with value: 0.6233077331026438.\u001b[0m\n",
      "\u001b[32m[I 2023-04-12 20:25:30,333]\u001b[0m Trial 11 finished with value: 0.6258715302093825 and parameters: {'learning_rate': 0.8214752668257197, 'min_data_in_leaf': 7, 'iterations': 1200, 'subsample': 0.8363300913187529}. Best is trial 11 with value: 0.6258715302093825.\u001b[0m\n",
      "\u001b[32m[I 2023-04-12 20:25:44,923]\u001b[0m Trial 12 finished with value: 0.6366885670693746 and parameters: {'learning_rate': 0.04951305097201342, 'min_data_in_leaf': 7, 'iterations': 1183, 'subsample': 0.8246942413938636}. Best is trial 12 with value: 0.6366885670693746.\u001b[0m\n",
      "\u001b[32m[I 2023-04-12 20:25:56,321]\u001b[0m Trial 13 finished with value: 0.6169009280236918 and parameters: {'learning_rate': 0.4475916085901207, 'min_data_in_leaf': 7, 'iterations': 1124, 'subsample': 0.7815546904039496}. Best is trial 12 with value: 0.6366885670693746.\u001b[0m\n",
      "learning rate is greater than 1. You probably need to decrease learning rate.\n",
      "learning rate is greater than 1. You probably need to decrease learning rate.\n",
      "learning rate is greater than 1. You probably need to decrease learning rate.\n",
      "learning rate is greater than 1. You probably need to decrease learning rate.\n",
      "learning rate is greater than 1. You probably need to decrease learning rate.\n",
      "learning rate is greater than 1. You probably need to decrease learning rate.\n",
      "learning rate is greater than 1. You probably need to decrease learning rate.\n",
      "learning rate is greater than 1. You probably need to decrease learning rate.\n",
      "learning rate is greater than 1. You probably need to decrease learning rate.\n",
      "learning rate is greater than 1. You probably need to decrease learning rate.\n",
      "learning rate is greater than 1. You probably need to decrease learning rate.\n",
      "learning rate is greater than 1. You probably need to decrease learning rate.\n",
      "learning rate is greater than 1. You probably need to decrease learning rate.\n",
      "learning rate is greater than 1. You probably need to decrease learning rate.\n",
      "learning rate is greater than 1. You probably need to decrease learning rate.\n",
      "\u001b[32m[I 2023-04-12 20:26:08,625]\u001b[0m Trial 14 finished with value: 0.49221602505308903 and parameters: {'learning_rate': 4.214640349569474, 'min_data_in_leaf': 7, 'iterations': 1199, 'subsample': 0.7949513042104313}. Best is trial 12 with value: 0.6366885670693746.\u001b[0m\n",
      "learning rate is greater than 1. You probably need to decrease learning rate.\n",
      "learning rate is greater than 1. You probably need to decrease learning rate.\n",
      "learning rate is greater than 1. You probably need to decrease learning rate.\n",
      "learning rate is greater than 1. You probably need to decrease learning rate.\n",
      "learning rate is greater than 1. You probably need to decrease learning rate.\n",
      "learning rate is greater than 1. You probably need to decrease learning rate.\n",
      "Training has stopped (degenerate solution on iteration 8, probably too small l2-regularization, try to increase it)\n",
      "learning rate is greater than 1. You probably need to decrease learning rate.\n",
      "learning rate is greater than 1. You probably need to decrease learning rate.\n",
      "learning rate is greater than 1. You probably need to decrease learning rate.\n",
      "Training has stopped (degenerate solution on iteration 15, probably too small l2-regularization, try to increase it)\n",
      "learning rate is greater than 1. You probably need to decrease learning rate.\n",
      "learning rate is greater than 1. You probably need to decrease learning rate.\n",
      "learning rate is greater than 1. You probably need to decrease learning rate.\n",
      "Training has stopped (degenerate solution on iteration 5, probably too small l2-regularization, try to increase it)\n",
      "learning rate is greater than 1. You probably need to decrease learning rate.\n",
      "learning rate is greater than 1. You probably need to decrease learning rate.\n",
      "learning rate is greater than 1. You probably need to decrease learning rate.\n",
      "Training has stopped (degenerate solution on iteration 15, probably too small l2-regularization, try to increase it)\n",
      "\u001b[32m[I 2023-04-12 20:26:12,631]\u001b[0m Trial 15 finished with value: 0.49725438601513006 and parameters: {'learning_rate': 6.9322879514853, 'min_data_in_leaf': 8, 'iterations': 1110, 'subsample': 0.8385441997614791}. Best is trial 12 with value: 0.6366885670693746.\u001b[0m\n",
      "learning rate is greater than 1. You probably need to decrease learning rate.\n",
      "learning rate is greater than 1. You probably need to decrease learning rate.\n",
      "learning rate is greater than 1. You probably need to decrease learning rate.\n",
      "learning rate is greater than 1. You probably need to decrease learning rate.\n",
      "learning rate is greater than 1. You probably need to decrease learning rate.\n",
      "learning rate is greater than 1. You probably need to decrease learning rate.\n",
      "learning rate is greater than 1. You probably need to decrease learning rate.\n",
      "learning rate is greater than 1. You probably need to decrease learning rate.\n",
      "learning rate is greater than 1. You probably need to decrease learning rate.\n",
      "learning rate is greater than 1. You probably need to decrease learning rate.\n",
      "learning rate is greater than 1. You probably need to decrease learning rate.\n",
      "learning rate is greater than 1. You probably need to decrease learning rate.\n",
      "learning rate is greater than 1. You probably need to decrease learning rate.\n",
      "learning rate is greater than 1. You probably need to decrease learning rate.\n",
      "learning rate is greater than 1. You probably need to decrease learning rate.\n",
      "\u001b[32m[I 2023-04-12 20:26:23,174]\u001b[0m Trial 16 finished with value: 0.6008316006853635 and parameters: {'learning_rate': 1.5556607661941904, 'min_data_in_leaf': 4, 'iterations': 1012, 'subsample': 0.7812939794968369}. Best is trial 12 with value: 0.6366885670693746.\u001b[0m\n",
      "\u001b[32m[I 2023-04-12 20:26:34,727]\u001b[0m Trial 17 finished with value: 0.644562016841652 and parameters: {'learning_rate': 0.017132537824106953, 'min_data_in_leaf': 6, 'iterations': 1131, 'subsample': 0.8128946392752073}. Best is trial 17 with value: 0.644562016841652.\u001b[0m\n",
      "learning rate is greater than 1. You probably need to decrease learning rate.\n",
      "learning rate is greater than 1. You probably need to decrease learning rate.\n",
      "learning rate is greater than 1. You probably need to decrease learning rate.\n",
      "learning rate is greater than 1. You probably need to decrease learning rate.\n",
      "learning rate is greater than 1. You probably need to decrease learning rate.\n",
      "learning rate is greater than 1. You probably need to decrease learning rate.\n",
      "learning rate is greater than 1. You probably need to decrease learning rate.\n",
      "learning rate is greater than 1. You probably need to decrease learning rate.\n",
      "learning rate is greater than 1. You probably need to decrease learning rate.\n",
      "learning rate is greater than 1. You probably need to decrease learning rate.\n",
      "learning rate is greater than 1. You probably need to decrease learning rate.\n",
      "learning rate is greater than 1. You probably need to decrease learning rate.\n",
      "learning rate is greater than 1. You probably need to decrease learning rate.\n",
      "learning rate is greater than 1. You probably need to decrease learning rate.\n",
      "learning rate is greater than 1. You probably need to decrease learning rate.\n",
      "\u001b[32m[I 2023-04-12 20:26:45,870]\u001b[0m Trial 18 finished with value: 0.5153777508037969 and parameters: {'learning_rate': 3.134064831572668, 'min_data_in_leaf': 3, 'iterations': 1127, 'subsample': 0.810496371769469}. Best is trial 17 with value: 0.644562016841652.\u001b[0m\n",
      "learning rate is greater than 1. You probably need to decrease learning rate.\n",
      "learning rate is greater than 1. You probably need to decrease learning rate.\n",
      "learning rate is greater than 1. You probably need to decrease learning rate.\n",
      "Training has stopped (degenerate solution on iteration 21, probably too small l2-regularization, try to increase it)\n",
      "learning rate is greater than 1. You probably need to decrease learning rate.\n",
      "learning rate is greater than 1. You probably need to decrease learning rate.\n",
      "learning rate is greater than 1. You probably need to decrease learning rate.\n",
      "learning rate is greater than 1. You probably need to decrease learning rate.\n",
      "learning rate is greater than 1. You probably need to decrease learning rate.\n",
      "learning rate is greater than 1. You probably need to decrease learning rate.\n",
      "learning rate is greater than 1. You probably need to decrease learning rate.\n",
      "learning rate is greater than 1. You probably need to decrease learning rate.\n",
      "learning rate is greater than 1. You probably need to decrease learning rate.\n",
      "learning rate is greater than 1. You probably need to decrease learning rate.\n",
      "learning rate is greater than 1. You probably need to decrease learning rate.\n",
      "learning rate is greater than 1. You probably need to decrease learning rate.\n",
      "\u001b[32m[I 2023-04-12 20:26:54,565]\u001b[0m Trial 19 finished with value: 0.38945343883077876 and parameters: {'learning_rate': 5.354593786565364, 'min_data_in_leaf': 6, 'iterations': 1059, 'subsample': 0.7660193606875985}. Best is trial 17 with value: 0.644562016841652.\u001b[0m\n",
      "\u001b[32m[I 2023-04-12 20:27:06,541]\u001b[0m Trial 20 finished with value: 0.6265055179829362 and parameters: {'learning_rate': 0.10231667254693136, 'min_data_in_leaf': 4, 'iterations': 1154, 'subsample': 0.8471646850394013}. Best is trial 17 with value: 0.644562016841652.\u001b[0m\n",
      "\u001b[32m[I 2023-04-12 20:27:18,448]\u001b[0m Trial 21 finished with value: 0.6246162446024536 and parameters: {'learning_rate': 0.13981384372419114, 'min_data_in_leaf': 1, 'iterations': 1153, 'subsample': 0.8492703407936825}. Best is trial 17 with value: 0.644562016841652.\u001b[0m\n",
      "learning rate is greater than 1. You probably need to decrease learning rate.\n",
      "learning rate is greater than 1. You probably need to decrease learning rate.\n",
      "learning rate is greater than 1. You probably need to decrease learning rate.\n",
      "learning rate is greater than 1. You probably need to decrease learning rate.\n",
      "learning rate is greater than 1. You probably need to decrease learning rate.\n",
      "learning rate is greater than 1. You probably need to decrease learning rate.\n",
      "learning rate is greater than 1. You probably need to decrease learning rate.\n",
      "learning rate is greater than 1. You probably need to decrease learning rate.\n",
      "learning rate is greater than 1. You probably need to decrease learning rate.\n",
      "learning rate is greater than 1. You probably need to decrease learning rate.\n",
      "learning rate is greater than 1. You probably need to decrease learning rate.\n",
      "learning rate is greater than 1. You probably need to decrease learning rate.\n",
      "learning rate is greater than 1. You probably need to decrease learning rate.\n",
      "learning rate is greater than 1. You probably need to decrease learning rate.\n",
      "learning rate is greater than 1. You probably need to decrease learning rate.\n",
      "\u001b[32m[I 2023-04-12 20:27:28,973]\u001b[0m Trial 22 finished with value: 0.5523292510173026 and parameters: {'learning_rate': 2.1196044849751825, 'min_data_in_leaf': 4, 'iterations': 1089, 'subsample': 0.8142290690637835}. Best is trial 17 with value: 0.644562016841652.\u001b[0m\n",
      "learning rate is greater than 1. You probably need to decrease learning rate.\n",
      "learning rate is greater than 1. You probably need to decrease learning rate.\n",
      "learning rate is greater than 1. You probably need to decrease learning rate.\n",
      "learning rate is greater than 1. You probably need to decrease learning rate.\n",
      "learning rate is greater than 1. You probably need to decrease learning rate.\n",
      "learning rate is greater than 1. You probably need to decrease learning rate.\n",
      "learning rate is greater than 1. You probably need to decrease learning rate.\n",
      "learning rate is greater than 1. You probably need to decrease learning rate.\n",
      "learning rate is greater than 1. You probably need to decrease learning rate.\n",
      "learning rate is greater than 1. You probably need to decrease learning rate.\n",
      "learning rate is greater than 1. You probably need to decrease learning rate.\n",
      "learning rate is greater than 1. You probably need to decrease learning rate.\n",
      "learning rate is greater than 1. You probably need to decrease learning rate.\n",
      "learning rate is greater than 1. You probably need to decrease learning rate.\n",
      "learning rate is greater than 1. You probably need to decrease learning rate.\n",
      "\u001b[32m[I 2023-04-12 20:27:40,217]\u001b[0m Trial 23 finished with value: 0.4999543326705762 and parameters: {'learning_rate': 2.656672712051017, 'min_data_in_leaf': 5, 'iterations': 1119, 'subsample': 0.8492518577737515}. Best is trial 17 with value: 0.644562016841652.\u001b[0m\n",
      "learning rate is greater than 1. You probably need to decrease learning rate.\n",
      "learning rate is greater than 1. You probably need to decrease learning rate.\n",
      "learning rate is greater than 1. You probably need to decrease learning rate.\n",
      "learning rate is greater than 1. You probably need to decrease learning rate.\n",
      "learning rate is greater than 1. You probably need to decrease learning rate.\n",
      "learning rate is greater than 1. You probably need to decrease learning rate.\n",
      "learning rate is greater than 1. You probably need to decrease learning rate.\n",
      "learning rate is greater than 1. You probably need to decrease learning rate.\n",
      "learning rate is greater than 1. You probably need to decrease learning rate.\n",
      "learning rate is greater than 1. You probably need to decrease learning rate.\n",
      "learning rate is greater than 1. You probably need to decrease learning rate.\n",
      "learning rate is greater than 1. You probably need to decrease learning rate.\n",
      "learning rate is greater than 1. You probably need to decrease learning rate.\n",
      "learning rate is greater than 1. You probably need to decrease learning rate.\n",
      "learning rate is greater than 1. You probably need to decrease learning rate.\n",
      "\u001b[32m[I 2023-04-12 20:27:51,510]\u001b[0m Trial 24 finished with value: 0.46596781282349353 and parameters: {'learning_rate': 3.6896599786954267, 'min_data_in_leaf': 6, 'iterations': 1152, 'subsample': 0.8236257139222098}. Best is trial 17 with value: 0.644562016841652.\u001b[0m\n",
      "learning rate is greater than 1. You probably need to decrease learning rate.\n",
      "learning rate is greater than 1. You probably need to decrease learning rate.\n",
      "learning rate is greater than 1. You probably need to decrease learning rate.\n",
      "learning rate is greater than 1. You probably need to decrease learning rate.\n",
      "learning rate is greater than 1. You probably need to decrease learning rate.\n",
      "learning rate is greater than 1. You probably need to decrease learning rate.\n",
      "learning rate is greater than 1. You probably need to decrease learning rate.\n",
      "learning rate is greater than 1. You probably need to decrease learning rate.\n",
      "learning rate is greater than 1. You probably need to decrease learning rate.\n",
      "learning rate is greater than 1. You probably need to decrease learning rate.\n",
      "learning rate is greater than 1. You probably need to decrease learning rate.\n",
      "learning rate is greater than 1. You probably need to decrease learning rate.\n",
      "learning rate is greater than 1. You probably need to decrease learning rate.\n",
      "learning rate is greater than 1. You probably need to decrease learning rate.\n",
      "learning rate is greater than 1. You probably need to decrease learning rate.\n",
      "\u001b[32m[I 2023-04-12 20:28:02,702]\u001b[0m Trial 25 finished with value: 0.5931200723492639 and parameters: {'learning_rate': 1.7710856289364743, 'min_data_in_leaf': 8, 'iterations': 1157, 'subsample': 0.8036443448564228}. Best is trial 17 with value: 0.644562016841652.\u001b[0m\n",
      "\u001b[32m[I 2023-04-12 20:28:13,984]\u001b[0m Trial 26 finished with value: 0.6299151033471345 and parameters: {'learning_rate': 0.23591952302125796, 'min_data_in_leaf': 3, 'iterations': 1090, 'subsample': 0.8480214311537111}. Best is trial 17 with value: 0.644562016841652.\u001b[0m\n",
      "learning rate is greater than 1. You probably need to decrease learning rate.\n",
      "learning rate is greater than 1. You probably need to decrease learning rate.\n",
      "learning rate is greater than 1. You probably need to decrease learning rate.\n",
      "Training has stopped (degenerate solution on iteration 42, probably too small l2-regularization, try to increase it)\n",
      "learning rate is greater than 1. You probably need to decrease learning rate.\n",
      "learning rate is greater than 1. You probably need to decrease learning rate.\n",
      "learning rate is greater than 1. You probably need to decrease learning rate.\n",
      "learning rate is greater than 1. You probably need to decrease learning rate.\n",
      "learning rate is greater than 1. You probably need to decrease learning rate.\n",
      "learning rate is greater than 1. You probably need to decrease learning rate.\n",
      "learning rate is greater than 1. You probably need to decrease learning rate.\n",
      "learning rate is greater than 1. You probably need to decrease learning rate.\n",
      "learning rate is greater than 1. You probably need to decrease learning rate.\n",
      "learning rate is greater than 1. You probably need to decrease learning rate.\n",
      "learning rate is greater than 1. You probably need to decrease learning rate.\n",
      "learning rate is greater than 1. You probably need to decrease learning rate.\n",
      "\u001b[32m[I 2023-04-12 20:28:23,000]\u001b[0m Trial 27 finished with value: 0.5160876948603429 and parameters: {'learning_rate': 4.846309456916881, 'min_data_in_leaf': 3, 'iterations': 1021, 'subsample': 0.8224674460422627}. Best is trial 17 with value: 0.644562016841652.\u001b[0m\n",
      "learning rate is greater than 1. You probably need to decrease learning rate.\n",
      "learning rate is greater than 1. You probably need to decrease learning rate.\n",
      "learning rate is greater than 1. You probably need to decrease learning rate.\n",
      "learning rate is greater than 1. You probably need to decrease learning rate.\n",
      "learning rate is greater than 1. You probably need to decrease learning rate.\n",
      "learning rate is greater than 1. You probably need to decrease learning rate.\n",
      "learning rate is greater than 1. You probably need to decrease learning rate.\n",
      "learning rate is greater than 1. You probably need to decrease learning rate.\n",
      "learning rate is greater than 1. You probably need to decrease learning rate.\n",
      "learning rate is greater than 1. You probably need to decrease learning rate.\n",
      "learning rate is greater than 1. You probably need to decrease learning rate.\n",
      "learning rate is greater than 1. You probably need to decrease learning rate.\n",
      "learning rate is greater than 1. You probably need to decrease learning rate.\n",
      "learning rate is greater than 1. You probably need to decrease learning rate.\n",
      "learning rate is greater than 1. You probably need to decrease learning rate.\n",
      "\u001b[32m[I 2023-04-12 20:28:34,177]\u001b[0m Trial 28 finished with value: 0.5962475016074447 and parameters: {'learning_rate': 1.6859240175782568, 'min_data_in_leaf': 8, 'iterations': 1094, 'subsample': 0.8034147421143678}. Best is trial 17 with value: 0.644562016841652.\u001b[0m\n",
      "learning rate is greater than 1. You probably need to decrease learning rate.\n",
      "learning rate is greater than 1. You probably need to decrease learning rate.\n",
      "learning rate is greater than 1. You probably need to decrease learning rate.\n",
      "Training has stopped (degenerate solution on iteration 16, probably too small l2-regularization, try to increase it)\n",
      "learning rate is greater than 1. You probably need to decrease learning rate.\n",
      "learning rate is greater than 1. You probably need to decrease learning rate.\n",
      "learning rate is greater than 1. You probably need to decrease learning rate.\n",
      "Training has stopped (degenerate solution on iteration 7, probably too small l2-regularization, try to increase it)\n",
      "learning rate is greater than 1. You probably need to decrease learning rate.\n",
      "learning rate is greater than 1. You probably need to decrease learning rate.\n",
      "learning rate is greater than 1. You probably need to decrease learning rate.\n",
      "Training has stopped (degenerate solution on iteration 9, probably too small l2-regularization, try to increase it)\n",
      "learning rate is greater than 1. You probably need to decrease learning rate.\n",
      "learning rate is greater than 1. You probably need to decrease learning rate.\n",
      "learning rate is greater than 1. You probably need to decrease learning rate.\n",
      "learning rate is greater than 1. You probably need to decrease learning rate.\n",
      "learning rate is greater than 1. You probably need to decrease learning rate.\n",
      "learning rate is greater than 1. You probably need to decrease learning rate.\n",
      "Training has stopped (degenerate solution on iteration 7, probably too small l2-regularization, try to increase it)\n",
      "\u001b[32m[I 2023-04-12 20:28:38,063]\u001b[0m Trial 29 finished with value: 0.49764750938906877 and parameters: {'learning_rate': 8.711833726458822, 'min_data_in_leaf': 1, 'iterations': 1065, 'subsample': 0.8934690892857619}. Best is trial 17 with value: 0.644562016841652.\u001b[0m\n",
      "learning rate is greater than 1. You probably need to decrease learning rate.\n",
      "learning rate is greater than 1. You probably need to decrease learning rate.\n",
      "learning rate is greater than 1. You probably need to decrease learning rate.\n",
      "learning rate is greater than 1. You probably need to decrease learning rate.\n",
      "learning rate is greater than 1. You probably need to decrease learning rate.\n",
      "learning rate is greater than 1. You probably need to decrease learning rate.\n",
      "learning rate is greater than 1. You probably need to decrease learning rate.\n",
      "learning rate is greater than 1. You probably need to decrease learning rate.\n",
      "learning rate is greater than 1. You probably need to decrease learning rate.\n",
      "learning rate is greater than 1. You probably need to decrease learning rate.\n",
      "learning rate is greater than 1. You probably need to decrease learning rate.\n",
      "learning rate is greater than 1. You probably need to decrease learning rate.\n",
      "learning rate is greater than 1. You probably need to decrease learning rate.\n",
      "learning rate is greater than 1. You probably need to decrease learning rate.\n",
      "learning rate is greater than 1. You probably need to decrease learning rate.\n",
      "\u001b[32m[I 2023-04-12 20:28:49,222]\u001b[0m Trial 30 finished with value: 0.531544526470787 and parameters: {'learning_rate': 3.2490577770769113, 'min_data_in_leaf': 3, 'iterations': 1095, 'subsample': 0.8572491324510829}. Best is trial 17 with value: 0.644562016841652.\u001b[0m\n",
      "\u001b[32m[I 2023-04-12 20:29:00,948]\u001b[0m Trial 31 finished with value: 0.6367082910297077 and parameters: {'learning_rate': 0.397975537201406, 'min_data_in_leaf': 5, 'iterations': 1139, 'subsample': 0.8430435472490243}. Best is trial 17 with value: 0.644562016841652.\u001b[0m\n",
      "learning rate is greater than 1. You probably need to decrease learning rate.\n",
      "learning rate is greater than 1. You probably need to decrease learning rate.\n",
      "learning rate is greater than 1. You probably need to decrease learning rate.\n",
      "learning rate is greater than 1. You probably need to decrease learning rate.\n",
      "learning rate is greater than 1. You probably need to decrease learning rate.\n",
      "learning rate is greater than 1. You probably need to decrease learning rate.\n",
      "learning rate is greater than 1. You probably need to decrease learning rate.\n",
      "learning rate is greater than 1. You probably need to decrease learning rate.\n",
      "learning rate is greater than 1. You probably need to decrease learning rate.\n",
      "learning rate is greater than 1. You probably need to decrease learning rate.\n",
      "learning rate is greater than 1. You probably need to decrease learning rate.\n",
      "learning rate is greater than 1. You probably need to decrease learning rate.\n",
      "learning rate is greater than 1. You probably need to decrease learning rate.\n",
      "learning rate is greater than 1. You probably need to decrease learning rate.\n",
      "learning rate is greater than 1. You probably need to decrease learning rate.\n",
      "\u001b[32m[I 2023-04-12 20:29:12,185]\u001b[0m Trial 32 finished with value: 0.617770277277676 and parameters: {'learning_rate': 1.3341058733561408, 'min_data_in_leaf': 6, 'iterations': 1114, 'subsample': 0.8303862713252348}. Best is trial 17 with value: 0.644562016841652.\u001b[0m\n",
      "learning rate is greater than 1. You probably need to decrease learning rate.\n",
      "learning rate is greater than 1. You probably need to decrease learning rate.\n",
      "learning rate is greater than 1. You probably need to decrease learning rate.\n",
      "learning rate is greater than 1. You probably need to decrease learning rate.\n",
      "learning rate is greater than 1. You probably need to decrease learning rate.\n",
      "learning rate is greater than 1. You probably need to decrease learning rate.\n",
      "learning rate is greater than 1. You probably need to decrease learning rate.\n",
      "learning rate is greater than 1. You probably need to decrease learning rate.\n",
      "learning rate is greater than 1. You probably need to decrease learning rate.\n",
      "learning rate is greater than 1. You probably need to decrease learning rate.\n",
      "learning rate is greater than 1. You probably need to decrease learning rate.\n",
      "learning rate is greater than 1. You probably need to decrease learning rate.\n",
      "learning rate is greater than 1. You probably need to decrease learning rate.\n",
      "learning rate is greater than 1. You probably need to decrease learning rate.\n",
      "learning rate is greater than 1. You probably need to decrease learning rate.\n",
      "\u001b[32m[I 2023-04-12 20:29:23,887]\u001b[0m Trial 33 finished with value: 0.515918413309208 and parameters: {'learning_rate': 2.9358003452247017, 'min_data_in_leaf': 5, 'iterations': 1177, 'subsample': 0.8403790833525451}. Best is trial 17 with value: 0.644562016841652.\u001b[0m\n",
      "\u001b[32m[I 2023-04-12 20:29:35,808]\u001b[0m Trial 34 finished with value: 0.6347634544606794 and parameters: {'learning_rate': 0.23105739576345294, 'min_data_in_leaf': 2, 'iterations': 1139, 'subsample': 0.8596230710195321}. Best is trial 17 with value: 0.644562016841652.\u001b[0m\n",
      "learning rate is greater than 1. You probably need to decrease learning rate.\n",
      "learning rate is greater than 1. You probably need to decrease learning rate.\n",
      "learning rate is greater than 1. You probably need to decrease learning rate.\n",
      "learning rate is greater than 1. You probably need to decrease learning rate.\n",
      "learning rate is greater than 1. You probably need to decrease learning rate.\n",
      "learning rate is greater than 1. You probably need to decrease learning rate.\n",
      "learning rate is greater than 1. You probably need to decrease learning rate.\n",
      "learning rate is greater than 1. You probably need to decrease learning rate.\n",
      "learning rate is greater than 1. You probably need to decrease learning rate.\n",
      "learning rate is greater than 1. You probably need to decrease learning rate.\n",
      "learning rate is greater than 1. You probably need to decrease learning rate.\n",
      "learning rate is greater than 1. You probably need to decrease learning rate.\n",
      "learning rate is greater than 1. You probably need to decrease learning rate.\n",
      "learning rate is greater than 1. You probably need to decrease learning rate.\n",
      "learning rate is greater than 1. You probably need to decrease learning rate.\n",
      "\u001b[32m[I 2023-04-12 20:29:47,091]\u001b[0m Trial 35 finished with value: 0.6074962866949044 and parameters: {'learning_rate': 1.5006690377720109, 'min_data_in_leaf': 2, 'iterations': 1137, 'subsample': 0.8778492274649711}. Best is trial 17 with value: 0.644562016841652.\u001b[0m\n",
      "learning rate is greater than 1. You probably need to decrease learning rate.\n",
      "learning rate is greater than 1. You probably need to decrease learning rate.\n",
      "learning rate is greater than 1. You probably need to decrease learning rate.\n",
      "learning rate is greater than 1. You probably need to decrease learning rate.\n",
      "learning rate is greater than 1. You probably need to decrease learning rate.\n",
      "learning rate is greater than 1. You probably need to decrease learning rate.\n",
      "learning rate is greater than 1. You probably need to decrease learning rate.\n",
      "learning rate is greater than 1. You probably need to decrease learning rate.\n",
      "learning rate is greater than 1. You probably need to decrease learning rate.\n",
      "learning rate is greater than 1. You probably need to decrease learning rate.\n",
      "learning rate is greater than 1. You probably need to decrease learning rate.\n",
      "learning rate is greater than 1. You probably need to decrease learning rate.\n",
      "learning rate is greater than 1. You probably need to decrease learning rate.\n",
      "learning rate is greater than 1. You probably need to decrease learning rate.\n",
      "learning rate is greater than 1. You probably need to decrease learning rate.\n",
      "\u001b[32m[I 2023-04-12 20:29:58,380]\u001b[0m Trial 36 finished with value: 0.5102554760774097 and parameters: {'learning_rate': 2.6115962074754977, 'min_data_in_leaf': 2, 'iterations': 1171, 'subsample': 0.8643275676276564}. Best is trial 17 with value: 0.644562016841652.\u001b[0m\n",
      "learning rate is greater than 1. You probably need to decrease learning rate.\n",
      "learning rate is greater than 1. You probably need to decrease learning rate.\n",
      "learning rate is greater than 1. You probably need to decrease learning rate.\n",
      "Training has stopped (degenerate solution on iteration 30, probably too small l2-regularization, try to increase it)\n",
      "learning rate is greater than 1. You probably need to decrease learning rate.\n",
      "learning rate is greater than 1. You probably need to decrease learning rate.\n",
      "learning rate is greater than 1. You probably need to decrease learning rate.\n",
      "learning rate is greater than 1. You probably need to decrease learning rate.\n",
      "learning rate is greater than 1. You probably need to decrease learning rate.\n",
      "learning rate is greater than 1. You probably need to decrease learning rate.\n",
      "Training has stopped (degenerate solution on iteration 9, probably too small l2-regularization, try to increase it)\n",
      "learning rate is greater than 1. You probably need to decrease learning rate.\n",
      "learning rate is greater than 1. You probably need to decrease learning rate.\n",
      "learning rate is greater than 1. You probably need to decrease learning rate.\n",
      "learning rate is greater than 1. You probably need to decrease learning rate.\n",
      "learning rate is greater than 1. You probably need to decrease learning rate.\n",
      "learning rate is greater than 1. You probably need to decrease learning rate.\n",
      "\u001b[32m[I 2023-04-12 20:30:08,092]\u001b[0m Trial 37 finished with value: 0.5183441460760729 and parameters: {'learning_rate': 4.142696984001536, 'min_data_in_leaf': 8, 'iterations': 1135, 'subsample': 0.8600903737475077}. Best is trial 17 with value: 0.644562016841652.\u001b[0m\n",
      "learning rate is greater than 1. You probably need to decrease learning rate.\n",
      "learning rate is greater than 1. You probably need to decrease learning rate.\n",
      "learning rate is greater than 1. You probably need to decrease learning rate.\n",
      "learning rate is greater than 1. You probably need to decrease learning rate.\n",
      "learning rate is greater than 1. You probably need to decrease learning rate.\n",
      "learning rate is greater than 1. You probably need to decrease learning rate.\n",
      "learning rate is greater than 1. You probably need to decrease learning rate.\n",
      "learning rate is greater than 1. You probably need to decrease learning rate.\n",
      "learning rate is greater than 1. You probably need to decrease learning rate.\n",
      "learning rate is greater than 1. You probably need to decrease learning rate.\n",
      "learning rate is greater than 1. You probably need to decrease learning rate.\n",
      "learning rate is greater than 1. You probably need to decrease learning rate.\n",
      "learning rate is greater than 1. You probably need to decrease learning rate.\n",
      "learning rate is greater than 1. You probably need to decrease learning rate.\n",
      "learning rate is greater than 1. You probably need to decrease learning rate.\n",
      "\u001b[32m[I 2023-04-12 20:30:20,552]\u001b[0m Trial 38 finished with value: 0.6100658670084781 and parameters: {'learning_rate': 1.133560991212979, 'min_data_in_leaf': 10, 'iterations': 1181, 'subsample': 0.8263353668536882}. Best is trial 17 with value: 0.644562016841652.\u001b[0m\n",
      "\u001b[32m[I 2023-04-12 20:30:33,371]\u001b[0m Trial 39 finished with value: 0.6396817348884702 and parameters: {'learning_rate': 0.004178273965375637, 'min_data_in_leaf': 5, 'iterations': 1138, 'subsample': 0.8839800276400557}. Best is trial 17 with value: 0.644562016841652.\u001b[0m\n",
      "learning rate is greater than 1. You probably need to decrease learning rate.\n",
      "learning rate is greater than 1. You probably need to decrease learning rate.\n",
      "learning rate is greater than 1. You probably need to decrease learning rate.\n",
      "learning rate is greater than 1. You probably need to decrease learning rate.\n",
      "learning rate is greater than 1. You probably need to decrease learning rate.\n",
      "learning rate is greater than 1. You probably need to decrease learning rate.\n",
      "learning rate is greater than 1. You probably need to decrease learning rate.\n",
      "learning rate is greater than 1. You probably need to decrease learning rate.\n",
      "learning rate is greater than 1. You probably need to decrease learning rate.\n",
      "learning rate is greater than 1. You probably need to decrease learning rate.\n",
      "learning rate is greater than 1. You probably need to decrease learning rate.\n",
      "learning rate is greater than 1. You probably need to decrease learning rate.\n",
      "learning rate is greater than 1. You probably need to decrease learning rate.\n",
      "learning rate is greater than 1. You probably need to decrease learning rate.\n",
      "learning rate is greater than 1. You probably need to decrease learning rate.\n",
      "\u001b[32m[I 2023-04-12 20:30:45,216]\u001b[0m Trial 40 finished with value: 0.5457146837089863 and parameters: {'learning_rate': 2.093686805325127, 'min_data_in_leaf': 5, 'iterations': 1198, 'subsample': 0.8830637098220662}. Best is trial 17 with value: 0.644562016841652.\u001b[0m\n",
      "\u001b[32m[I 2023-04-12 20:30:57,175]\u001b[0m Trial 41 finished with value: 0.6409134256995781 and parameters: {'learning_rate': 0.033229702041053945, 'min_data_in_leaf': 6, 'iterations': 1138, 'subsample': 0.8968113328662917}. Best is trial 17 with value: 0.644562016841652.\u001b[0m\n",
      "learning rate is greater than 1. You probably need to decrease learning rate.\n",
      "learning rate is greater than 1. You probably need to decrease learning rate.\n",
      "learning rate is greater than 1. You probably need to decrease learning rate.\n",
      "learning rate is greater than 1. You probably need to decrease learning rate.\n",
      "learning rate is greater than 1. You probably need to decrease learning rate.\n",
      "learning rate is greater than 1. You probably need to decrease learning rate.\n",
      "learning rate is greater than 1. You probably need to decrease learning rate.\n",
      "learning rate is greater than 1. You probably need to decrease learning rate.\n",
      "learning rate is greater than 1. You probably need to decrease learning rate.\n",
      "learning rate is greater than 1. You probably need to decrease learning rate.\n",
      "learning rate is greater than 1. You probably need to decrease learning rate.\n",
      "learning rate is greater than 1. You probably need to decrease learning rate.\n",
      "learning rate is greater than 1. You probably need to decrease learning rate.\n",
      "learning rate is greater than 1. You probably need to decrease learning rate.\n",
      "learning rate is greater than 1. You probably need to decrease learning rate.\n",
      "\u001b[32m[I 2023-04-12 20:31:09,215]\u001b[0m Trial 42 finished with value: 0.6132556560703599 and parameters: {'learning_rate': 1.069559123216645, 'min_data_in_leaf': 6, 'iterations': 1171, 'subsample': 0.8867015704542484}. Best is trial 17 with value: 0.644562016841652.\u001b[0m\n",
      "learning rate is greater than 1. You probably need to decrease learning rate.\n",
      "learning rate is greater than 1. You probably need to decrease learning rate.\n",
      "learning rate is greater than 1. You probably need to decrease learning rate.\n",
      "learning rate is greater than 1. You probably need to decrease learning rate.\n",
      "learning rate is greater than 1. You probably need to decrease learning rate.\n",
      "learning rate is greater than 1. You probably need to decrease learning rate.\n",
      "learning rate is greater than 1. You probably need to decrease learning rate.\n",
      "learning rate is greater than 1. You probably need to decrease learning rate.\n",
      "learning rate is greater than 1. You probably need to decrease learning rate.\n",
      "learning rate is greater than 1. You probably need to decrease learning rate.\n",
      "learning rate is greater than 1. You probably need to decrease learning rate.\n",
      "learning rate is greater than 1. You probably need to decrease learning rate.\n",
      "learning rate is greater than 1. You probably need to decrease learning rate.\n",
      "learning rate is greater than 1. You probably need to decrease learning rate.\n",
      "learning rate is greater than 1. You probably need to decrease learning rate.\n",
      "\u001b[32m[I 2023-04-12 20:31:20,377]\u001b[0m Trial 43 finished with value: 0.45122483589097395 and parameters: {'learning_rate': 2.5163509399277397, 'min_data_in_leaf': 6, 'iterations': 1105, 'subsample': 0.8705525772408498}. Best is trial 17 with value: 0.644562016841652.\u001b[0m\n",
      "\u001b[32m[I 2023-04-12 20:31:32,057]\u001b[0m Trial 44 finished with value: 0.632599184434816 and parameters: {'learning_rate': 0.0649482159990728, 'min_data_in_leaf': 7, 'iterations': 1075, 'subsample': 0.8937443016080016}. Best is trial 17 with value: 0.644562016841652.\u001b[0m\n",
      "learning rate is greater than 1. You probably need to decrease learning rate.\n",
      "learning rate is greater than 1. You probably need to decrease learning rate.\n",
      "learning rate is greater than 1. You probably need to decrease learning rate.\n",
      "learning rate is greater than 1. You probably need to decrease learning rate.\n",
      "learning rate is greater than 1. You probably need to decrease learning rate.\n",
      "learning rate is greater than 1. You probably need to decrease learning rate.\n",
      "learning rate is greater than 1. You probably need to decrease learning rate.\n",
      "learning rate is greater than 1. You probably need to decrease learning rate.\n",
      "learning rate is greater than 1. You probably need to decrease learning rate.\n",
      "learning rate is greater than 1. You probably need to decrease learning rate.\n",
      "learning rate is greater than 1. You probably need to decrease learning rate.\n",
      "learning rate is greater than 1. You probably need to decrease learning rate.\n",
      "learning rate is greater than 1. You probably need to decrease learning rate.\n",
      "learning rate is greater than 1. You probably need to decrease learning rate.\n",
      "learning rate is greater than 1. You probably need to decrease learning rate.\n",
      "\u001b[32m[I 2023-04-12 20:31:43,671]\u001b[0m Trial 45 finished with value: 0.6102094011106272 and parameters: {'learning_rate': 1.1072983708134951, 'min_data_in_leaf': 5, 'iterations': 1142, 'subsample': 0.8798811050319393}. Best is trial 17 with value: 0.644562016841652.\u001b[0m\n",
      "learning rate is greater than 1. You probably need to decrease learning rate.\n",
      "learning rate is greater than 1. You probably need to decrease learning rate.\n",
      "learning rate is greater than 1. You probably need to decrease learning rate.\n",
      "learning rate is greater than 1. You probably need to decrease learning rate.\n",
      "learning rate is greater than 1. You probably need to decrease learning rate.\n",
      "learning rate is greater than 1. You probably need to decrease learning rate.\n",
      "learning rate is greater than 1. You probably need to decrease learning rate.\n",
      "learning rate is greater than 1. You probably need to decrease learning rate.\n",
      "learning rate is greater than 1. You probably need to decrease learning rate.\n",
      "learning rate is greater than 1. You probably need to decrease learning rate.\n",
      "learning rate is greater than 1. You probably need to decrease learning rate.\n",
      "learning rate is greater than 1. You probably need to decrease learning rate.\n",
      "learning rate is greater than 1. You probably need to decrease learning rate.\n",
      "learning rate is greater than 1. You probably need to decrease learning rate.\n",
      "learning rate is greater than 1. You probably need to decrease learning rate.\n",
      "\u001b[32m[I 2023-04-12 20:31:54,787]\u001b[0m Trial 46 finished with value: 0.46516649157040935 and parameters: {'learning_rate': 3.7276455487836415, 'min_data_in_leaf': 7, 'iterations': 1123, 'subsample': 0.8749046973892748}. Best is trial 17 with value: 0.644562016841652.\u001b[0m\n",
      "learning rate is greater than 1. You probably need to decrease learning rate.\n",
      "learning rate is greater than 1. You probably need to decrease learning rate.\n",
      "learning rate is greater than 1. You probably need to decrease learning rate.\n",
      "learning rate is greater than 1. You probably need to decrease learning rate.\n",
      "learning rate is greater than 1. You probably need to decrease learning rate.\n",
      "learning rate is greater than 1. You probably need to decrease learning rate.\n",
      "learning rate is greater than 1. You probably need to decrease learning rate.\n",
      "learning rate is greater than 1. You probably need to decrease learning rate.\n",
      "learning rate is greater than 1. You probably need to decrease learning rate.\n",
      "learning rate is greater than 1. You probably need to decrease learning rate.\n",
      "learning rate is greater than 1. You probably need to decrease learning rate.\n",
      "learning rate is greater than 1. You probably need to decrease learning rate.\n",
      "learning rate is greater than 1. You probably need to decrease learning rate.\n",
      "learning rate is greater than 1. You probably need to decrease learning rate.\n",
      "learning rate is greater than 1. You probably need to decrease learning rate.\n",
      "\u001b[32m[I 2023-04-12 20:32:06,678]\u001b[0m Trial 47 finished with value: 0.6247603664483847 and parameters: {'learning_rate': 1.0606954203493504, 'min_data_in_leaf': 5, 'iterations': 1168, 'subsample': 0.8973437153991211}. Best is trial 17 with value: 0.644562016841652.\u001b[0m\n",
      "learning rate is greater than 1. You probably need to decrease learning rate.\n",
      "learning rate is greater than 1. You probably need to decrease learning rate.\n",
      "learning rate is greater than 1. You probably need to decrease learning rate.\n",
      "learning rate is greater than 1. You probably need to decrease learning rate.\n",
      "learning rate is greater than 1. You probably need to decrease learning rate.\n",
      "learning rate is greater than 1. You probably need to decrease learning rate.\n",
      "learning rate is greater than 1. You probably need to decrease learning rate.\n",
      "learning rate is greater than 1. You probably need to decrease learning rate.\n",
      "learning rate is greater than 1. You probably need to decrease learning rate.\n",
      "learning rate is greater than 1. You probably need to decrease learning rate.\n",
      "learning rate is greater than 1. You probably need to decrease learning rate.\n",
      "learning rate is greater than 1. You probably need to decrease learning rate.\n",
      "learning rate is greater than 1. You probably need to decrease learning rate.\n",
      "learning rate is greater than 1. You probably need to decrease learning rate.\n",
      "learning rate is greater than 1. You probably need to decrease learning rate.\n",
      "\u001b[32m[I 2023-04-12 20:32:17,691]\u001b[0m Trial 48 finished with value: 0.5599530170060042 and parameters: {'learning_rate': 2.042725872421821, 'min_data_in_leaf': 9, 'iterations': 1109, 'subsample': 0.8983876119072539}. Best is trial 17 with value: 0.644562016841652.\u001b[0m\n",
      "learning rate is greater than 1. You probably need to decrease learning rate.\n",
      "learning rate is greater than 1. You probably need to decrease learning rate.\n",
      "learning rate is greater than 1. You probably need to decrease learning rate.\n",
      "Training has stopped (degenerate solution on iteration 9, probably too small l2-regularization, try to increase it)\n",
      "learning rate is greater than 1. You probably need to decrease learning rate.\n",
      "learning rate is greater than 1. You probably need to decrease learning rate.\n",
      "learning rate is greater than 1. You probably need to decrease learning rate.\n",
      "Training has stopped (degenerate solution on iteration 14, probably too small l2-regularization, try to increase it)\n",
      "learning rate is greater than 1. You probably need to decrease learning rate.\n",
      "learning rate is greater than 1. You probably need to decrease learning rate.\n",
      "learning rate is greater than 1. You probably need to decrease learning rate.\n",
      "Training has stopped (degenerate solution on iteration 7, probably too small l2-regularization, try to increase it)\n",
      "learning rate is greater than 1. You probably need to decrease learning rate.\n",
      "learning rate is greater than 1. You probably need to decrease learning rate.\n",
      "learning rate is greater than 1. You probably need to decrease learning rate.\n",
      "Training has stopped (degenerate solution on iteration 15, probably too small l2-regularization, try to increase it)\n",
      "learning rate is greater than 1. You probably need to decrease learning rate.\n",
      "learning rate is greater than 1. You probably need to decrease learning rate.\n",
      "learning rate is greater than 1. You probably need to decrease learning rate.\n",
      "Training has stopped (degenerate solution on iteration 5, probably too small l2-regularization, try to increase it)\n",
      "\u001b[32m[I 2023-04-12 20:32:19,659]\u001b[0m Trial 49 finished with value: 0.3828732139365979 and parameters: {'learning_rate': 11.802927347530659, 'min_data_in_leaf': 7, 'iterations': 1180, 'subsample': 0.8714262490325587}. Best is trial 17 with value: 0.644562016841652.\u001b[0m\n"
     ]
    },
    {
     "data": {
      "text/plain": [
       "OptunaSearchCV(estimator=<catboost.core.CatBoostClassifier object at 0x7fa0cc2abc70>,\n",
       "               n_trials=50,\n",
       "               param_distributions={'iterations': IntDistribution(high=1200, log=100, low=800, step=1),\n",
       "                                    'learning_rate': FloatDistribution(high=20.0, log=False, low=0.0001, step=None),\n",
       "                                    'min_data_in_leaf': IntDistribution(high=10, log=False, low=1, step=1),\n",
       "                                    'subsample': FloatDistribution(high=0.9, log=False, low=0.7, step=None)},\n",
       "               scoring='f1', timeout=500)"
      ]
     },
     "execution_count": 21,
     "metadata": {},
     "output_type": "execute_result"
    }
   ],
   "source": [
    "model = RandomForestClassifier(random_state = 12345)\n",
    "\n",
    "params_distrs = {'learning_rate': optuna.distributions.FloatDistribution(1e-4, 20),\n",
    "                'min_data_in_leaf':optuna.distributions.IntDistribution(1, 10),\n",
    "                'iterations':optuna.distributions.IntDistribution(800, 1200, 100),\n",
    "                'subsample':optuna.distributions.FloatDistribution(0.7, 0.9),\n",
    "                \n",
    "                      }\n",
    "\n",
    "opt_search = optuna.integration.OptunaSearchCV(clf, params_distrs, cv = 5, n_trials = 50, scoring = 'f1', timeout = 500)\n",
    "\n",
    "opt_search.fit(train_features, train_target)"
   ]
  },
  {
   "cell_type": "code",
   "execution_count": 22,
   "metadata": {},
   "outputs": [
    {
     "data": {
      "text/plain": [
       "{'learning_rate': 0.017132537824106953,\n",
       " 'min_data_in_leaf': 6,\n",
       " 'iterations': 1131,\n",
       " 'subsample': 0.8128946392752073}"
      ]
     },
     "execution_count": 22,
     "metadata": {},
     "output_type": "execute_result"
    }
   ],
   "source": [
    "opt_search.best_params_"
   ]
  },
  {
   "cell_type": "code",
   "execution_count": 23,
   "metadata": {},
   "outputs": [
    {
     "data": {
      "text/plain": [
       "0.644562016841652"
      ]
     },
     "execution_count": 23,
     "metadata": {},
     "output_type": "execute_result"
    }
   ],
   "source": [
    "opt_search.best_score_"
   ]
  },
  {
   "cell_type": "markdown",
   "metadata": {},
   "source": [
    "Почему-то так мало"
   ]
  },
  {
   "cell_type": "code",
   "execution_count": 24,
   "metadata": {},
   "outputs": [
    {
     "data": {
      "text/plain": [
       "<catboost.core.CatBoostClassifier at 0x7fa0cc2c38e0>"
      ]
     },
     "execution_count": 24,
     "metadata": {},
     "output_type": "execute_result"
    }
   ],
   "source": [
    "opt_search.best_estimator_"
   ]
  },
  {
   "cell_type": "markdown",
   "metadata": {},
   "source": [
    "У нас вышло ExparimantalWarning из-за версии\n",
    "\n",
    "**попробуем еще использовать для случайного леса RandomizedSearchCV**\n"
   ]
  },
  {
   "cell_type": "code",
   "execution_count": 25,
   "metadata": {
    "scrolled": true
   },
   "outputs": [
    {
     "data": {
      "text/plain": [
       "RandomizedSearchCV(cv=5, estimator=RandomForestClassifier(random_state=12345),\n",
       "                   n_jobs=-1,\n",
       "                   param_distributions={'max_depth': range(1, 10),\n",
       "                                        'min_samples_split': range(2, 5),\n",
       "                                        'n_estimators': range(10, 201, 10)},\n",
       "                   scoring='accuracy')"
      ]
     },
     "execution_count": 25,
     "metadata": {},
     "output_type": "execute_result"
    }
   ],
   "source": [
    "model = RandomForestClassifier(random_state=12345)\n",
    "    \n",
    "\n",
    "param_dict = {'max_depth': range(1, 10),\n",
    "             'n_estimators': range(10, 201, 10),\n",
    "             'min_samples_split': range(2,5)}\n",
    "\n",
    "grid_1 = RandomizedSearchCV(model, param_dict, cv = 5, scoring='accuracy', n_jobs = -1)\n",
    "\n",
    "grid_1.fit(train_features, train_target)"
   ]
  },
  {
   "cell_type": "code",
   "execution_count": 26,
   "metadata": {},
   "outputs": [
    {
     "data": {
      "text/plain": [
       "RandomForestClassifier(max_depth=9, min_samples_split=4, n_estimators=180,\n",
       "                       random_state=12345)"
      ]
     },
     "execution_count": 26,
     "metadata": {},
     "output_type": "execute_result"
    }
   ],
   "source": [
    "grid_1.best_estimator_"
   ]
  },
  {
   "cell_type": "code",
   "execution_count": 27,
   "metadata": {
    "scrolled": true
   },
   "outputs": [
    {
     "data": {
      "text/plain": [
       "0.815484286067805"
      ]
     },
     "execution_count": 27,
     "metadata": {},
     "output_type": "execute_result"
    }
   ],
   "source": [
    "grid_1.best_score_"
   ]
  },
  {
   "cell_type": "markdown",
   "metadata": {},
   "source": [
    "Полученное сейчас значние выше того, что мы получили ранее в OptunaSearchCV, и немного выше чем на наилучшей моделе валидационной выборки."
   ]
  },
  {
   "cell_type": "markdown",
   "metadata": {},
   "source": [
    "</a><font size=\"3.5\"><b>Подбор гиперпараметров для Дерева Решений</font></b>"
   ]
  },
  {
   "cell_type": "code",
   "execution_count": 28,
   "metadata": {
    "scrolled": false
   },
   "outputs": [
    {
     "name": "stdout",
     "output_type": "stream",
     "text": [
      "max_depth = 1 : 0.7422222222222222\n",
      "0.7422222222222222\n",
      "max_depth = 2 : 0.7792592592592592\n",
      "0.7792592592592592\n",
      "max_depth = 3 : 0.7851851851851852\n",
      "0.7851851851851852\n",
      "max_depth = 4 : 0.7807407407407407\n",
      "0.7807407407407407\n",
      "max_depth = 5 : 0.7511111111111111\n",
      "0.7511111111111111\n",
      "max_depth = 6 : 0.7851851851851852\n",
      "0.7851851851851852\n",
      "max_depth = 7 : 0.7851851851851852\n",
      "0.7851851851851852\n",
      "max_depth = 8 : 0.7837037037037037\n",
      "0.7837037037037037\n",
      "max_depth = 9 : 0.7822222222222223\n",
      "0.7822222222222223\n"
     ]
    }
   ],
   "source": [
    "for depth in range(1, 10):\n",
    "    model = DecisionTreeClassifier(random_state=12345, max_depth = depth) # обучите модель с заданной глубиной дерева\n",
    "    model.fit(train_features,train_target) # обучите модель\n",
    "    valid_predictions = model.predict(valid_features) # получите предсказания модели\n",
    "    result = accuracy_score(valid_target, valid_predictions) # посчитайте качество модели\n",
    "    print('max_depth =', depth, ':', result)\n",
    "    print(accuracy_score(valid_target, valid_predictions))  "
   ]
  },
  {
   "cell_type": "markdown",
   "metadata": {},
   "source": [
    "Увеличивая глубину - точность не растёт. Модель переобучается. Сделаем вывод, что **лучшая глубина для данной модели - 3.**"
   ]
  },
  {
   "cell_type": "code",
   "execution_count": 29,
   "metadata": {
    "scrolled": true
   },
   "outputs": [
    {
     "data": {
      "text/plain": [
       "GridSearchCV(cv=5, estimator=DecisionTreeClassifier(random_state=12345),\n",
       "             n_jobs=-1, param_grid={'max_depth': range(1, 10)},\n",
       "             scoring='accuracy')"
      ]
     },
     "execution_count": 29,
     "metadata": {},
     "output_type": "execute_result"
    }
   ],
   "source": [
    "model = DecisionTreeClassifier(random_state =12345)\n",
    "\n",
    "param_dict = {\"max_depth\": range(1, 10)}\n",
    "\n",
    "grid_2 = GridSearchCV(model, param_dict, cv =5, scoring = 'accuracy', n_jobs = -1)\n",
    "\n",
    "grid_2.fit(train_features, train_target)\n"
   ]
  },
  {
   "cell_type": "code",
   "execution_count": 30,
   "metadata": {
    "scrolled": true
   },
   "outputs": [
    {
     "data": {
      "text/plain": [
       "DecisionTreeClassifier(max_depth=3, random_state=12345)"
      ]
     },
     "execution_count": 30,
     "metadata": {},
     "output_type": "execute_result"
    }
   ],
   "source": [
    "grid_2.best_estimator_"
   ]
  },
  {
   "cell_type": "code",
   "execution_count": 31,
   "metadata": {},
   "outputs": [
    {
     "data": {
      "text/plain": [
       "0.7959188319722841"
      ]
     },
     "execution_count": 31,
     "metadata": {},
     "output_type": "execute_result"
    }
   ],
   "source": [
    "grid_2.best_score_"
   ]
  },
  {
   "cell_type": "markdown",
   "metadata": {},
   "source": [
    "Результат выше, чем при лучшей значение глубины - 3"
   ]
  },
  {
   "cell_type": "markdown",
   "metadata": {},
   "source": [
    "## Чек-лист готовности проекта"
   ]
  },
  {
   "cell_type": "markdown",
   "metadata": {},
   "source": [
    "Поставьте 'x' в выполненных пунктах. Далее нажмите Shift+Enter."
   ]
  },
  {
   "cell_type": "markdown",
   "metadata": {},
   "source": [
    "\n",
    "\n",
    "\n",
    "\n",
    "\n",
    "\n",
    "\n",
    "\n",
    "- [x] Jupyter Notebook открыт\n",
    "- [x] Весь код исполняется без ошибок\n",
    "- [x] Ячейки с кодом расположены в порядке исполнения\n",
    "- [x] Выполнено задание 1: данные загружены и изучены\n",
    "- [x] Выполнено задание 2: данные разбиты на три выборки\n",
    "- [x] Выполнено задание 3: проведено исследование моделей\n",
    "    - [x] Рассмотрено больше одной модели\n",
    "    - [x] Рассмотрено хотя бы 3 значения гипепараметров для какой-нибудь модели\n",
    "    - [x] Написаны выводы по результатам исследования\n",
    "- [x] Выполнено задание 3: Проведено тестирование\n",
    "- [x] Удалось достичь accuracy не меньше 0.75\n"
   ]
  }
 ],
 "metadata": {
  "ExecuteTimeLog": [
   {
    "duration": 1150,
    "start_time": "2023-03-18T21:02:34.696Z"
   },
   {
    "duration": 11,
    "start_time": "2023-03-18T21:02:46.932Z"
   },
   {
    "duration": 8,
    "start_time": "2023-03-18T21:02:53.213Z"
   },
   {
    "duration": 9,
    "start_time": "2023-03-18T21:03:04.928Z"
   },
   {
    "duration": 17,
    "start_time": "2023-03-18T21:03:30.237Z"
   },
   {
    "duration": 459,
    "start_time": "2023-03-18T21:03:39.843Z"
   },
   {
    "duration": 1857,
    "start_time": "2023-03-19T09:45:39.712Z"
   },
   {
    "duration": 4,
    "start_time": "2023-03-19T09:45:54.729Z"
   },
   {
    "duration": 76,
    "start_time": "2023-03-19T09:46:42.577Z"
   },
   {
    "duration": 43,
    "start_time": "2023-03-19T09:46:46.261Z"
   },
   {
    "duration": 12,
    "start_time": "2023-03-19T09:47:21.670Z"
   },
   {
    "duration": 31,
    "start_time": "2023-03-19T09:47:29.768Z"
   },
   {
    "duration": 37,
    "start_time": "2023-03-19T09:47:49.139Z"
   },
   {
    "duration": 59,
    "start_time": "2023-03-21T01:56:58.459Z"
   },
   {
    "duration": 1677,
    "start_time": "2023-03-21T01:57:03.304Z"
   },
   {
    "duration": 148,
    "start_time": "2023-03-21T01:57:04.983Z"
   },
   {
    "duration": 44,
    "start_time": "2023-03-21T01:57:05.133Z"
   },
   {
    "duration": 40,
    "start_time": "2023-03-21T01:57:46.569Z"
   },
   {
    "duration": 33,
    "start_time": "2023-03-21T02:00:03.350Z"
   },
   {
    "duration": 11,
    "start_time": "2023-03-21T02:08:04.054Z"
   },
   {
    "duration": 175,
    "start_time": "2023-03-21T02:11:04.543Z"
   },
   {
    "duration": 20,
    "start_time": "2023-03-21T02:11:14.633Z"
   },
   {
    "duration": 11,
    "start_time": "2023-03-21T02:11:25.854Z"
   },
   {
    "duration": 8,
    "start_time": "2023-03-21T02:11:35.994Z"
   },
   {
    "duration": 31,
    "start_time": "2023-03-21T02:17:54.001Z"
   },
   {
    "duration": 18,
    "start_time": "2023-03-21T02:18:15.966Z"
   },
   {
    "duration": 16,
    "start_time": "2023-03-21T02:18:21.601Z"
   },
   {
    "duration": 11,
    "start_time": "2023-03-21T02:19:46.658Z"
   },
   {
    "duration": 23,
    "start_time": "2023-03-21T02:26:41.678Z"
   },
   {
    "duration": 43,
    "start_time": "2023-03-21T02:26:54.888Z"
   },
   {
    "duration": 23,
    "start_time": "2023-03-21T02:27:39.674Z"
   },
   {
    "duration": 771,
    "start_time": "2023-03-21T02:27:56.465Z"
   },
   {
    "duration": 811,
    "start_time": "2023-03-21T02:28:15.292Z"
   },
   {
    "duration": 752,
    "start_time": "2023-03-21T02:28:30.720Z"
   },
   {
    "duration": 124,
    "start_time": "2023-03-21T02:28:41.701Z"
   },
   {
    "duration": 633,
    "start_time": "2023-03-21T02:28:53.285Z"
   },
   {
    "duration": 776,
    "start_time": "2023-03-21T02:29:53.665Z"
   },
   {
    "duration": 644,
    "start_time": "2023-03-21T02:30:13.550Z"
   },
   {
    "duration": 1030,
    "start_time": "2023-03-21T02:31:15.444Z"
   },
   {
    "duration": 687,
    "start_time": "2023-03-21T02:31:27.375Z"
   },
   {
    "duration": 697,
    "start_time": "2023-03-21T02:31:38.914Z"
   },
   {
    "duration": 689,
    "start_time": "2023-03-21T02:31:46.537Z"
   },
   {
    "duration": 745,
    "start_time": "2023-03-21T02:31:52.463Z"
   },
   {
    "duration": 844,
    "start_time": "2023-03-21T02:34:50.495Z"
   },
   {
    "duration": 734,
    "start_time": "2023-03-21T02:34:54.534Z"
   },
   {
    "duration": 253,
    "start_time": "2023-03-21T02:45:00.682Z"
   },
   {
    "duration": 98,
    "start_time": "2023-03-21T02:45:19.724Z"
   },
   {
    "duration": 116,
    "start_time": "2023-03-21T02:45:30.923Z"
   },
   {
    "duration": 2234,
    "start_time": "2023-03-21T02:45:44.338Z"
   },
   {
    "duration": 289,
    "start_time": "2023-03-21T02:52:05.798Z"
   },
   {
    "duration": 936,
    "start_time": "2023-03-21T02:55:09.542Z"
   },
   {
    "duration": 885,
    "start_time": "2023-03-21T02:55:52.746Z"
   },
   {
    "duration": 902,
    "start_time": "2023-03-21T02:56:54.618Z"
   },
   {
    "duration": 2305,
    "start_time": "2023-03-21T02:57:32.381Z"
   },
   {
    "duration": 107,
    "start_time": "2023-03-21T02:58:01.324Z"
   },
   {
    "duration": 894,
    "start_time": "2023-03-21T02:58:09.362Z"
   },
   {
    "duration": 877,
    "start_time": "2023-03-21T02:59:59.017Z"
   },
   {
    "duration": 17,
    "start_time": "2023-03-21T03:06:18.353Z"
   },
   {
    "duration": 19,
    "start_time": "2023-03-21T03:10:41.869Z"
   },
   {
    "duration": 2028,
    "start_time": "2023-03-21T03:11:49.970Z"
   },
   {
    "duration": 875,
    "start_time": "2023-03-21T03:11:52.000Z"
   },
   {
    "duration": 32,
    "start_time": "2023-03-21T03:11:52.877Z"
   },
   {
    "duration": 341,
    "start_time": "2023-03-21T03:56:35.285Z"
   },
   {
    "duration": 26,
    "start_time": "2023-03-21T04:02:53.094Z"
   },
   {
    "duration": 8,
    "start_time": "2023-03-21T04:02:59.920Z"
   },
   {
    "duration": 25,
    "start_time": "2023-03-21T04:03:08.697Z"
   },
   {
    "duration": 22,
    "start_time": "2023-03-21T04:03:46.461Z"
   },
   {
    "duration": 22,
    "start_time": "2023-03-21T04:04:32.366Z"
   },
   {
    "duration": 2282,
    "start_time": "2023-03-21T04:19:09.454Z"
   },
   {
    "duration": 873,
    "start_time": "2023-03-21T04:19:11.739Z"
   },
   {
    "duration": 8,
    "start_time": "2023-03-21T04:19:26.129Z"
   },
   {
    "duration": 318,
    "start_time": "2023-03-21T04:19:27.849Z"
   },
   {
    "duration": 21,
    "start_time": "2023-03-21T04:36:02.794Z"
   },
   {
    "duration": 14,
    "start_time": "2023-03-21T04:36:21.077Z"
   },
   {
    "duration": 221,
    "start_time": "2023-03-21T04:36:51.636Z"
   },
   {
    "duration": 227,
    "start_time": "2023-03-21T04:36:57.910Z"
   },
   {
    "duration": 57,
    "start_time": "2023-03-22T17:53:06.866Z"
   },
   {
    "duration": 1571,
    "start_time": "2023-03-22T17:53:12.860Z"
   },
   {
    "duration": 143,
    "start_time": "2023-03-22T17:53:14.434Z"
   },
   {
    "duration": 36,
    "start_time": "2023-03-22T17:53:14.579Z"
   },
   {
    "duration": 9,
    "start_time": "2023-03-22T17:53:14.617Z"
   },
   {
    "duration": 6,
    "start_time": "2023-03-22T17:53:14.629Z"
   },
   {
    "duration": 552,
    "start_time": "2023-03-22T17:53:14.637Z"
   },
   {
    "duration": 2016,
    "start_time": "2023-03-22T17:53:15.191Z"
   },
   {
    "duration": 658,
    "start_time": "2023-03-22T17:53:17.209Z"
   },
   {
    "duration": 7,
    "start_time": "2023-03-22T17:53:17.869Z"
   },
   {
    "duration": 255,
    "start_time": "2023-03-22T17:53:17.878Z"
   },
   {
    "duration": 226,
    "start_time": "2023-03-22T17:53:18.135Z"
   },
   {
    "duration": 8,
    "start_time": "2023-03-22T17:53:18.364Z"
   },
   {
    "duration": 6,
    "start_time": "2023-03-22T17:54:22.469Z"
   },
   {
    "duration": 54,
    "start_time": "2023-04-09T14:49:26.561Z"
   },
   {
    "duration": 1945,
    "start_time": "2023-04-09T14:49:33.747Z"
   },
   {
    "duration": 95,
    "start_time": "2023-04-09T14:49:35.695Z"
   },
   {
    "duration": 45,
    "start_time": "2023-04-09T14:49:35.792Z"
   },
   {
    "duration": 14,
    "start_time": "2023-04-09T14:49:35.840Z"
   },
   {
    "duration": 12,
    "start_time": "2023-04-09T14:49:35.856Z"
   },
   {
    "duration": 806,
    "start_time": "2023-04-09T14:49:35.871Z"
   },
   {
    "duration": 2332,
    "start_time": "2023-04-09T14:49:36.679Z"
   },
   {
    "duration": 831,
    "start_time": "2023-04-09T14:49:39.013Z"
   },
   {
    "duration": 15,
    "start_time": "2023-04-09T14:49:39.847Z"
   },
   {
    "duration": 350,
    "start_time": "2023-04-09T14:49:39.865Z"
   },
   {
    "duration": 271,
    "start_time": "2023-04-09T14:49:40.217Z"
   },
   {
    "duration": 7,
    "start_time": "2023-04-09T14:49:40.490Z"
   },
   {
    "duration": 708,
    "start_time": "2023-04-09T14:50:50.553Z"
   },
   {
    "duration": 703,
    "start_time": "2023-04-09T14:52:09.010Z"
   },
   {
    "duration": 1575,
    "start_time": "2023-04-11T09:34:35.906Z"
   },
   {
    "duration": 121,
    "start_time": "2023-04-11T09:34:37.483Z"
   },
   {
    "duration": 26,
    "start_time": "2023-04-11T09:34:37.606Z"
   },
   {
    "duration": 8,
    "start_time": "2023-04-11T09:34:37.634Z"
   },
   {
    "duration": 7,
    "start_time": "2023-04-11T09:34:37.644Z"
   },
   {
    "duration": 474,
    "start_time": "2023-04-11T09:34:37.652Z"
   },
   {
    "duration": 595,
    "start_time": "2023-04-11T09:34:38.128Z"
   },
   {
    "duration": 185,
    "start_time": "2023-04-11T09:34:38.724Z"
   },
   {
    "duration": 0,
    "start_time": "2023-04-11T09:34:38.911Z"
   },
   {
    "duration": 0,
    "start_time": "2023-04-11T09:34:38.912Z"
   },
   {
    "duration": 0,
    "start_time": "2023-04-11T09:34:38.913Z"
   },
   {
    "duration": 0,
    "start_time": "2023-04-11T09:34:38.914Z"
   },
   {
    "duration": 0,
    "start_time": "2023-04-11T09:34:38.915Z"
   },
   {
    "duration": 594,
    "start_time": "2023-04-11T09:35:13.323Z"
   },
   {
    "duration": 113,
    "start_time": "2023-04-11T09:35:23.279Z"
   },
   {
    "duration": 111,
    "start_time": "2023-04-11T09:35:44.683Z"
   },
   {
    "duration": 15,
    "start_time": "2023-04-11T09:36:05.493Z"
   },
   {
    "duration": 19,
    "start_time": "2023-04-11T09:37:16.854Z"
   },
   {
    "duration": 14,
    "start_time": "2023-04-11T09:37:33.519Z"
   },
   {
    "duration": 1603,
    "start_time": "2023-04-11T09:37:52.036Z"
   },
   {
    "duration": 1701,
    "start_time": "2023-04-11T09:38:26.091Z"
   },
   {
    "duration": 1625,
    "start_time": "2023-04-11T09:39:17.047Z"
   },
   {
    "duration": 1770,
    "start_time": "2023-04-11T09:39:21.416Z"
   },
   {
    "duration": 20,
    "start_time": "2023-04-11T09:39:31.532Z"
   },
   {
    "duration": 1734,
    "start_time": "2023-04-11T09:40:03.578Z"
   },
   {
    "duration": 1669,
    "start_time": "2023-04-11T09:40:20.115Z"
   },
   {
    "duration": 15,
    "start_time": "2023-04-11T09:48:09.017Z"
   },
   {
    "duration": 16,
    "start_time": "2023-04-11T09:48:44.311Z"
   },
   {
    "duration": 30,
    "start_time": "2023-04-11T09:48:53.194Z"
   },
   {
    "duration": 19,
    "start_time": "2023-04-11T09:49:00.381Z"
   },
   {
    "duration": 18,
    "start_time": "2023-04-11T09:49:10.144Z"
   },
   {
    "duration": 14,
    "start_time": "2023-04-11T09:49:18.080Z"
   },
   {
    "duration": 15,
    "start_time": "2023-04-11T09:49:34.980Z"
   },
   {
    "duration": 15,
    "start_time": "2023-04-11T09:49:41.340Z"
   },
   {
    "duration": 19,
    "start_time": "2023-04-11T09:49:57.829Z"
   },
   {
    "duration": 20,
    "start_time": "2023-04-11T09:50:09.893Z"
   },
   {
    "duration": 16,
    "start_time": "2023-04-11T09:50:17.942Z"
   },
   {
    "duration": 14,
    "start_time": "2023-04-11T09:50:32.188Z"
   },
   {
    "duration": 558,
    "start_time": "2023-04-11T09:50:41.239Z"
   },
   {
    "duration": 15,
    "start_time": "2023-04-11T09:53:44.577Z"
   },
   {
    "duration": 362,
    "start_time": "2023-04-11T09:55:15.441Z"
   },
   {
    "duration": 14,
    "start_time": "2023-04-11T09:55:24.272Z"
   },
   {
    "duration": 14,
    "start_time": "2023-04-11T09:55:32.292Z"
   },
   {
    "duration": 18,
    "start_time": "2023-04-11T09:55:41.952Z"
   },
   {
    "duration": 18,
    "start_time": "2023-04-11T09:55:56.090Z"
   },
   {
    "duration": 617,
    "start_time": "2023-04-11T09:56:47.669Z"
   },
   {
    "duration": 556,
    "start_time": "2023-04-11T09:57:11.155Z"
   },
   {
    "duration": 532,
    "start_time": "2023-04-11T09:57:34.510Z"
   },
   {
    "duration": 135,
    "start_time": "2023-04-11T10:20:45.804Z"
   },
   {
    "duration": 1571,
    "start_time": "2023-04-12T09:20:00.389Z"
   },
   {
    "duration": 75,
    "start_time": "2023-04-12T09:20:01.962Z"
   },
   {
    "duration": 30,
    "start_time": "2023-04-12T09:20:02.039Z"
   },
   {
    "duration": 47,
    "start_time": "2023-04-12T09:20:02.071Z"
   },
   {
    "duration": 47,
    "start_time": "2023-04-12T09:20:02.120Z"
   },
   {
    "duration": 564,
    "start_time": "2023-04-12T09:20:02.169Z"
   },
   {
    "duration": 640,
    "start_time": "2023-04-12T09:20:02.735Z"
   },
   {
    "duration": 1628,
    "start_time": "2023-04-12T09:20:03.377Z"
   },
   {
    "duration": 1576,
    "start_time": "2023-04-12T09:20:05.007Z"
   },
   {
    "duration": 651,
    "start_time": "2023-04-12T09:20:06.584Z"
   },
   {
    "duration": 639,
    "start_time": "2023-04-12T09:20:07.236Z"
   },
   {
    "duration": 6,
    "start_time": "2023-04-12T09:20:07.877Z"
   },
   {
    "duration": 259,
    "start_time": "2023-04-12T09:20:07.893Z"
   },
   {
    "duration": 176,
    "start_time": "2023-04-12T09:20:08.155Z"
   },
   {
    "duration": 7,
    "start_time": "2023-04-12T09:20:08.332Z"
   },
   {
    "duration": 1062,
    "start_time": "2023-04-12T09:28:43.984Z"
   },
   {
    "duration": 2684,
    "start_time": "2023-04-12T09:29:18.092Z"
   },
   {
    "duration": 927,
    "start_time": "2023-04-12T09:29:36.215Z"
   },
   {
    "duration": 679,
    "start_time": "2023-04-12T09:30:41.400Z"
   },
   {
    "duration": 598,
    "start_time": "2023-04-12T09:31:10.120Z"
   },
   {
    "duration": 508,
    "start_time": "2023-04-12T09:31:39.120Z"
   },
   {
    "duration": 2119,
    "start_time": "2023-04-12T09:32:43.595Z"
   },
   {
    "duration": 1966,
    "start_time": "2023-04-12T09:33:12.984Z"
   },
   {
    "duration": 1979,
    "start_time": "2023-04-12T09:33:20.603Z"
   },
   {
    "duration": 1695,
    "start_time": "2023-04-12T09:33:28.884Z"
   },
   {
    "duration": 4,
    "start_time": "2023-04-12T10:00:44.169Z"
   },
   {
    "duration": 3784,
    "start_time": "2023-04-12T10:00:47.524Z"
   },
   {
    "duration": 1016,
    "start_time": "2023-04-12T10:02:27.819Z"
   },
   {
    "duration": 1723,
    "start_time": "2023-04-12T14:51:30.361Z"
   },
   {
    "duration": 100,
    "start_time": "2023-04-12T14:51:32.087Z"
   },
   {
    "duration": 41,
    "start_time": "2023-04-12T14:51:32.189Z"
   },
   {
    "duration": 20,
    "start_time": "2023-04-12T14:51:32.232Z"
   },
   {
    "duration": 45,
    "start_time": "2023-04-12T14:51:32.254Z"
   },
   {
    "duration": 900,
    "start_time": "2023-04-12T14:51:32.302Z"
   },
   {
    "duration": 733,
    "start_time": "2023-04-12T14:51:33.203Z"
   },
   {
    "duration": 2001,
    "start_time": "2023-04-12T14:51:33.940Z"
   },
   {
    "duration": 2031,
    "start_time": "2023-04-12T14:51:35.948Z"
   },
   {
    "duration": 769,
    "start_time": "2023-04-12T14:51:37.980Z"
   },
   {
    "duration": 796,
    "start_time": "2023-04-12T14:51:38.751Z"
   },
   {
    "duration": 10,
    "start_time": "2023-04-12T14:51:39.550Z"
   },
   {
    "duration": 319,
    "start_time": "2023-04-12T14:51:39.562Z"
   },
   {
    "duration": 248,
    "start_time": "2023-04-12T14:51:39.884Z"
   },
   {
    "duration": 11,
    "start_time": "2023-04-12T14:51:40.138Z"
   },
   {
    "duration": 4752,
    "start_time": "2023-04-12T14:51:40.151Z"
   },
   {
    "duration": 157,
    "start_time": "2023-04-12T14:51:44.905Z"
   },
   {
    "duration": 16,
    "start_time": "2023-04-12T14:54:32.626Z"
   },
   {
    "duration": 3,
    "start_time": "2023-04-12T14:55:51.173Z"
   },
   {
    "duration": 11,
    "start_time": "2023-04-12T14:55:52.282Z"
   },
   {
    "duration": 1596,
    "start_time": "2023-04-12T18:26:52.713Z"
   },
   {
    "duration": 74,
    "start_time": "2023-04-12T18:26:54.312Z"
   },
   {
    "duration": 32,
    "start_time": "2023-04-12T18:26:54.387Z"
   },
   {
    "duration": 8,
    "start_time": "2023-04-12T18:26:54.421Z"
   },
   {
    "duration": 8,
    "start_time": "2023-04-12T18:26:54.431Z"
   },
   {
    "duration": 1447,
    "start_time": "2023-04-12T18:27:05.130Z"
   },
   {
    "duration": 36,
    "start_time": "2023-04-12T18:27:06.579Z"
   },
   {
    "duration": 32,
    "start_time": "2023-04-12T18:27:06.617Z"
   },
   {
    "duration": 9,
    "start_time": "2023-04-12T18:27:06.651Z"
   },
   {
    "duration": 13,
    "start_time": "2023-04-12T18:27:06.662Z"
   },
   {
    "duration": 803,
    "start_time": "2023-04-12T18:27:06.677Z"
   },
   {
    "duration": 644,
    "start_time": "2023-04-12T18:27:07.481Z"
   },
   {
    "duration": 1868,
    "start_time": "2023-04-12T18:27:08.127Z"
   },
   {
    "duration": 1951,
    "start_time": "2023-04-12T18:27:09.997Z"
   },
   {
    "duration": 745,
    "start_time": "2023-04-12T18:27:11.951Z"
   },
   {
    "duration": 708,
    "start_time": "2023-04-12T18:27:12.697Z"
   },
   {
    "duration": 6,
    "start_time": "2023-04-12T18:27:13.407Z"
   },
   {
    "duration": 323,
    "start_time": "2023-04-12T18:27:13.415Z"
   },
   {
    "duration": 204,
    "start_time": "2023-04-12T18:27:13.740Z"
   },
   {
    "duration": 6,
    "start_time": "2023-04-12T18:27:13.946Z"
   },
   {
    "duration": 4106,
    "start_time": "2023-04-12T18:27:13.954Z"
   },
   {
    "duration": 4,
    "start_time": "2023-04-12T18:27:18.063Z"
   },
   {
    "duration": 126,
    "start_time": "2023-04-12T18:27:18.069Z"
   },
   {
    "duration": 3,
    "start_time": "2023-04-12T18:28:22.495Z"
   },
   {
    "duration": 11,
    "start_time": "2023-04-12T18:28:22.994Z"
   },
   {
    "duration": 11,
    "start_time": "2023-04-12T18:29:37.718Z"
   },
   {
    "duration": 10,
    "start_time": "2023-04-12T18:30:05.933Z"
   },
   {
    "duration": 337,
    "start_time": "2023-04-12T18:30:11.101Z"
   },
   {
    "duration": 5,
    "start_time": "2023-04-12T18:30:34.015Z"
   },
   {
    "duration": 329,
    "start_time": "2023-04-12T18:34:43.426Z"
   },
   {
    "duration": 4,
    "start_time": "2023-04-12T18:34:52.949Z"
   },
   {
    "duration": 4,
    "start_time": "2023-04-12T18:35:01.520Z"
   },
   {
    "duration": 14,
    "start_time": "2023-04-12T18:36:52.723Z"
   },
   {
    "duration": 32,
    "start_time": "2023-04-12T18:37:14.890Z"
   },
   {
    "duration": 47048,
    "start_time": "2023-04-12T18:38:01.700Z"
   },
   {
    "duration": 3,
    "start_time": "2023-04-12T18:38:48.751Z"
   },
   {
    "duration": 354,
    "start_time": "2023-04-12T18:38:48.756Z"
   },
   {
    "duration": 4,
    "start_time": "2023-04-12T18:38:49.113Z"
   },
   {
    "duration": 7,
    "start_time": "2023-04-12T18:38:49.118Z"
   },
   {
    "duration": 52,
    "start_time": "2023-04-12T18:40:31.200Z"
   },
   {
    "duration": 87,
    "start_time": "2023-04-12T18:40:46.092Z"
   },
   {
    "duration": 80,
    "start_time": "2023-04-12T18:41:00.149Z"
   },
   {
    "duration": 3,
    "start_time": "2023-04-12T18:43:59.728Z"
   },
   {
    "duration": 365,
    "start_time": "2023-04-12T18:44:00.091Z"
   },
   {
    "duration": 5,
    "start_time": "2023-04-12T18:44:00.543Z"
   },
   {
    "duration": 5,
    "start_time": "2023-04-12T18:44:00.990Z"
   },
   {
    "duration": 82,
    "start_time": "2023-04-12T18:44:46.243Z"
   },
   {
    "duration": 48553,
    "start_time": "2023-04-12T18:45:24.494Z"
   },
   {
    "duration": 3,
    "start_time": "2023-04-12T18:47:47.288Z"
   },
   {
    "duration": 341,
    "start_time": "2023-04-12T18:47:48.697Z"
   },
   {
    "duration": 4,
    "start_time": "2023-04-12T18:47:50.166Z"
   },
   {
    "duration": 4,
    "start_time": "2023-04-12T18:47:50.425Z"
   },
   {
    "duration": 31,
    "start_time": "2023-04-12T19:24:56.490Z"
   },
   {
    "duration": 3,
    "start_time": "2023-04-12T19:27:26.314Z"
   },
   {
    "duration": 12,
    "start_time": "2023-04-12T19:31:49.729Z"
   },
   {
    "duration": 12,
    "start_time": "2023-04-12T19:32:04.604Z"
   },
   {
    "duration": 11,
    "start_time": "2023-04-12T19:32:28.884Z"
   },
   {
    "duration": 304,
    "start_time": "2023-04-12T19:32:33.282Z"
   },
   {
    "duration": 3,
    "start_time": "2023-04-12T19:32:33.891Z"
   },
   {
    "duration": 27,
    "start_time": "2023-04-12T19:32:34.377Z"
   },
   {
    "duration": 14,
    "start_time": "2023-04-12T19:32:48.118Z"
   },
   {
    "duration": 13,
    "start_time": "2023-04-12T19:32:59.680Z"
   },
   {
    "duration": 5,
    "start_time": "2023-04-12T19:33:08.117Z"
   },
   {
    "duration": 1520,
    "start_time": "2023-04-12T19:33:41.985Z"
   },
   {
    "duration": 37,
    "start_time": "2023-04-12T19:33:43.507Z"
   },
   {
    "duration": 33,
    "start_time": "2023-04-12T19:33:43.546Z"
   },
   {
    "duration": 14,
    "start_time": "2023-04-12T19:33:43.581Z"
   },
   {
    "duration": 7,
    "start_time": "2023-04-12T19:33:43.598Z"
   },
   {
    "duration": 859,
    "start_time": "2023-04-12T19:33:43.607Z"
   },
   {
    "duration": 663,
    "start_time": "2023-04-12T19:33:44.468Z"
   },
   {
    "duration": 1836,
    "start_time": "2023-04-12T19:33:45.132Z"
   },
   {
    "duration": 1836,
    "start_time": "2023-04-12T19:33:46.969Z"
   },
   {
    "duration": 771,
    "start_time": "2023-04-12T19:33:48.806Z"
   },
   {
    "duration": 735,
    "start_time": "2023-04-12T19:33:49.589Z"
   },
   {
    "duration": 7,
    "start_time": "2023-04-12T19:33:50.326Z"
   },
   {
    "duration": 364,
    "start_time": "2023-04-12T19:33:50.335Z"
   },
   {
    "duration": 215,
    "start_time": "2023-04-12T19:33:50.702Z"
   },
   {
    "duration": 6,
    "start_time": "2023-04-12T19:33:50.919Z"
   },
   {
    "duration": 2205,
    "start_time": "2023-04-12T19:33:50.927Z"
   },
   {
    "duration": 46844,
    "start_time": "2023-04-12T19:33:53.135Z"
   },
   {
    "duration": 360,
    "start_time": "2023-04-12T19:34:39.981Z"
   },
   {
    "duration": 4,
    "start_time": "2023-04-12T19:34:40.343Z"
   },
   {
    "duration": 9,
    "start_time": "2023-04-12T19:34:40.349Z"
   },
   {
    "duration": 120,
    "start_time": "2023-04-12T19:34:40.360Z"
   },
   {
    "duration": 3,
    "start_time": "2023-04-12T19:34:40.490Z"
   },
   {
    "duration": 349,
    "start_time": "2023-04-12T19:34:40.495Z"
   },
   {
    "duration": 4,
    "start_time": "2023-04-12T19:34:40.846Z"
   },
   {
    "duration": 6,
    "start_time": "2023-04-12T19:34:40.851Z"
   },
   {
    "duration": 2,
    "start_time": "2023-04-12T19:35:39.589Z"
   },
   {
    "duration": 3,
    "start_time": "2023-04-12T19:35:49.645Z"
   },
   {
    "duration": 2700,
    "start_time": "2023-04-12T19:35:50.272Z"
   },
   {
    "duration": 49059,
    "start_time": "2023-04-12T19:35:52.975Z"
   },
   {
    "duration": 3,
    "start_time": "2023-04-12T19:36:42.036Z"
   },
   {
    "duration": 10,
    "start_time": "2023-04-12T19:36:42.042Z"
   },
   {
    "duration": 13250,
    "start_time": "2023-04-12T19:36:42.055Z"
   },
   {
    "duration": 89,
    "start_time": "2023-04-12T19:36:55.307Z"
   },
   {
    "duration": 383,
    "start_time": "2023-04-12T19:36:55.397Z"
   },
   {
    "duration": 7,
    "start_time": "2023-04-12T19:36:55.782Z"
   },
   {
    "duration": 15,
    "start_time": "2023-04-12T19:36:55.791Z"
   },
   {
    "duration": 6,
    "start_time": "2023-04-12T19:36:55.807Z"
   },
   {
    "duration": 4,
    "start_time": "2023-04-12T19:38:00.219Z"
   },
   {
    "duration": 14159,
    "start_time": "2023-04-12T19:38:12.271Z"
   },
   {
    "duration": 5,
    "start_time": "2023-04-12T19:38:26.432Z"
   },
   {
    "duration": 6,
    "start_time": "2023-04-12T19:38:26.438Z"
   },
   {
    "duration": 334,
    "start_time": "2023-04-12T19:39:05.084Z"
   },
   {
    "duration": 4,
    "start_time": "2023-04-12T19:39:05.553Z"
   },
   {
    "duration": 4,
    "start_time": "2023-04-12T19:39:05.926Z"
   },
   {
    "duration": 4,
    "start_time": "2023-04-12T19:40:54.413Z"
   },
   {
    "duration": 48,
    "start_time": "2023-04-12T19:52:17.221Z"
   },
   {
    "duration": 168,
    "start_time": "2023-04-12T19:55:46.541Z"
   },
   {
    "duration": 14,
    "start_time": "2023-04-12T19:56:39.225Z"
   },
   {
    "duration": 22,
    "start_time": "2023-04-12T19:57:21.457Z"
   },
   {
    "duration": 60650,
    "start_time": "2023-04-12T19:59:03.422Z"
   },
   {
    "duration": 15,
    "start_time": "2023-04-12T20:01:47.626Z"
   },
   {
    "duration": 15,
    "start_time": "2023-04-12T20:02:33.320Z"
   },
   {
    "duration": 16,
    "start_time": "2023-04-12T20:02:54.925Z"
   },
   {
    "duration": 17,
    "start_time": "2023-04-12T20:02:59.712Z"
   },
   {
    "duration": 1582,
    "start_time": "2023-04-12T20:04:29.466Z"
   },
   {
    "duration": 43,
    "start_time": "2023-04-12T20:04:31.051Z"
   },
   {
    "duration": 41,
    "start_time": "2023-04-12T20:04:31.096Z"
   },
   {
    "duration": 9,
    "start_time": "2023-04-12T20:04:31.139Z"
   },
   {
    "duration": 49,
    "start_time": "2023-04-12T20:04:31.150Z"
   },
   {
    "duration": 932,
    "start_time": "2023-04-12T20:04:31.201Z"
   },
   {
    "duration": 706,
    "start_time": "2023-04-12T20:04:32.134Z"
   },
   {
    "duration": 1958,
    "start_time": "2023-04-12T20:04:32.842Z"
   },
   {
    "duration": 1920,
    "start_time": "2023-04-12T20:04:34.802Z"
   },
   {
    "duration": 820,
    "start_time": "2023-04-12T20:04:36.725Z"
   },
   {
    "duration": 757,
    "start_time": "2023-04-12T20:04:37.547Z"
   },
   {
    "duration": 7,
    "start_time": "2023-04-12T20:04:38.306Z"
   },
   {
    "duration": 317,
    "start_time": "2023-04-12T20:04:38.315Z"
   },
   {
    "duration": 210,
    "start_time": "2023-04-12T20:04:38.635Z"
   },
   {
    "duration": 7,
    "start_time": "2023-04-12T20:04:38.847Z"
   },
   {
    "duration": 15,
    "start_time": "2023-04-12T20:04:38.856Z"
   },
   {
    "duration": 324,
    "start_time": "2023-04-12T20:04:38.873Z"
   },
   {
    "duration": 2316,
    "start_time": "2023-04-12T20:04:39.199Z"
   },
   {
    "duration": 46788,
    "start_time": "2023-04-12T20:04:41.518Z"
   },
   {
    "duration": 3,
    "start_time": "2023-04-12T20:05:28.308Z"
   },
   {
    "duration": 478590,
    "start_time": "2023-04-12T20:05:28.312Z"
   },
   {
    "duration": 13407,
    "start_time": "2023-04-12T20:13:26.904Z"
   },
   {
    "duration": 6,
    "start_time": "2023-04-12T20:13:40.313Z"
   },
   {
    "duration": 9,
    "start_time": "2023-04-12T20:13:40.320Z"
   },
   {
    "duration": 119,
    "start_time": "2023-04-12T20:13:40.332Z"
   },
   {
    "duration": 358,
    "start_time": "2023-04-12T20:13:40.454Z"
   },
   {
    "duration": 5,
    "start_time": "2023-04-12T20:13:40.814Z"
   },
   {
    "duration": 5,
    "start_time": "2023-04-12T20:13:40.821Z"
   },
   {
    "duration": 5,
    "start_time": "2023-04-12T20:13:40.830Z"
   },
   {
    "duration": 135,
    "start_time": "2023-04-12T20:14:11.281Z"
   },
   {
    "duration": 5,
    "start_time": "2023-04-12T20:14:14.665Z"
   },
   {
    "duration": 4,
    "start_time": "2023-04-12T20:14:44.135Z"
   },
   {
    "duration": 57,
    "start_time": "2023-04-12T20:21:53.925Z"
   },
   {
    "duration": 1468,
    "start_time": "2023-04-12T20:23:02.071Z"
   },
   {
    "duration": 37,
    "start_time": "2023-04-12T20:23:03.541Z"
   },
   {
    "duration": 33,
    "start_time": "2023-04-12T20:23:03.580Z"
   },
   {
    "duration": 10,
    "start_time": "2023-04-12T20:23:03.615Z"
   },
   {
    "duration": 19,
    "start_time": "2023-04-12T20:23:03.626Z"
   },
   {
    "duration": 848,
    "start_time": "2023-04-12T20:23:03.647Z"
   },
   {
    "duration": 670,
    "start_time": "2023-04-12T20:23:04.497Z"
   },
   {
    "duration": 1841,
    "start_time": "2023-04-12T20:23:05.169Z"
   },
   {
    "duration": 1836,
    "start_time": "2023-04-12T20:23:07.013Z"
   },
   {
    "duration": 746,
    "start_time": "2023-04-12T20:23:08.853Z"
   },
   {
    "duration": 794,
    "start_time": "2023-04-12T20:23:09.601Z"
   },
   {
    "duration": 8,
    "start_time": "2023-04-12T20:23:10.397Z"
   },
   {
    "duration": 337,
    "start_time": "2023-04-12T20:23:10.407Z"
   },
   {
    "duration": 214,
    "start_time": "2023-04-12T20:23:10.746Z"
   },
   {
    "duration": 7,
    "start_time": "2023-04-12T20:23:10.961Z"
   },
   {
    "duration": 7,
    "start_time": "2023-04-12T20:23:10.970Z"
   },
   {
    "duration": 321,
    "start_time": "2023-04-12T20:23:10.990Z"
   },
   {
    "duration": 2254,
    "start_time": "2023-04-12T20:23:11.313Z"
   },
   {
    "duration": 48345,
    "start_time": "2023-04-12T20:23:13.569Z"
   },
   {
    "duration": 3,
    "start_time": "2023-04-12T20:24:01.916Z"
   },
   {
    "duration": 500294,
    "start_time": "2023-04-12T20:24:01.921Z"
   },
   {
    "duration": 5,
    "start_time": "2023-04-12T20:32:22.218Z"
   },
   {
    "duration": 14,
    "start_time": "2023-04-12T20:32:22.225Z"
   },
   {
    "duration": 14,
    "start_time": "2023-04-12T20:32:22.241Z"
   },
   {
    "duration": 10218,
    "start_time": "2023-04-12T20:32:22.257Z"
   },
   {
    "duration": 4,
    "start_time": "2023-04-12T20:32:32.477Z"
   },
   {
    "duration": 7,
    "start_time": "2023-04-12T20:32:32.483Z"
   },
   {
    "duration": 98,
    "start_time": "2023-04-12T20:32:32.493Z"
   },
   {
    "duration": 360,
    "start_time": "2023-04-12T20:32:32.594Z"
   },
   {
    "duration": 4,
    "start_time": "2023-04-12T20:32:32.956Z"
   },
   {
    "duration": 6,
    "start_time": "2023-04-12T20:32:32.962Z"
   }
  ],
  "kernelspec": {
   "display_name": "Python 3 (ipykernel)",
   "language": "python",
   "name": "python3"
  },
  "language_info": {
   "codemirror_mode": {
    "name": "ipython",
    "version": 3
   },
   "file_extension": ".py",
   "mimetype": "text/x-python",
   "name": "python",
   "nbconvert_exporter": "python",
   "pygments_lexer": "ipython3",
   "version": "3.9.5"
  },
  "toc": {
   "base_numbering": 1,
   "nav_menu": {},
   "number_sections": true,
   "sideBar": true,
   "skip_h1_title": true,
   "title_cell": "Table of Contents",
   "title_sidebar": "Contents",
   "toc_cell": false,
   "toc_position": {},
   "toc_section_display": true,
   "toc_window_display": false
  }
 },
 "nbformat": 4,
 "nbformat_minor": 2
}
