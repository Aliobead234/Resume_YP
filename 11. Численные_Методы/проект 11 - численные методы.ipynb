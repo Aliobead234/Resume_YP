{
 "cells": [
  {
   "cell_type": "markdown",
   "metadata": {
    "id": "JPnPSEhtplK3"
   },
   "source": [
    "# Определение стоимости автомобилей"
   ]
  },
  {
   "cell_type": "markdown",
   "metadata": {
    "id": "R13qa5WGQSPw"
   },
   "source": [
    "Сервис по продаже автомобилей с пробегом «Не бит, не крашен» разрабатывает приложение для привлечения новых клиентов. В нём можно быстро узнать рыночную стоимость своего автомобиля. В нашем распоряжении исторические данные: технические характеристики, комплектации и цены автомобилей. Нам нужно построить модель для определения стоимости.\n",
    "\n",
    "Заказчику важны:\n",
    "\n",
    "- качество предсказания;\n",
    "- скорость предсказания;\n",
    "- время обучения."
   ]
  },
  {
   "cell_type": "markdown",
   "metadata": {
    "id": "pNhPDw1Bg1r8"
   },
   "source": [
    "## Описание данных\n",
    "\n",
    "**Набор данных находится в файле:** autos.csv\n",
    "\n",
    "**Признаки**:\n",
    "\n",
    "* DateCrawled — дата скачивания анкеты из базы\n",
    "* VehicleType — тип автомобильного кузова\n",
    "* RegistrationYear — год регистрации автомобиля\n",
    "* Gearbox — тип коробки передач\n",
    "* Power — мощность (л. с.)\n",
    "* Model — модель автомобиля\n",
    "* Kilometer — пробег (км)\n",
    "* RegistrationMonth — месяц регистрации автомобиля\n",
    "* FuelType — тип топлива\n",
    "* Brand — марка автомобиля\n",
    "* Repaired — была машина в ремонте или нет\n",
    "* DateCreated — дата создания анкеты\n",
    "* NumberOfPictures — количество фотографий автомобиля\n",
    "* PostalCode — почтовый индекс владельца анкеты (пользователя)\n",
    "* LastSeen — дата последней активности пользователя\n",
    "\n",
    "\n",
    "**Целевой признак:**\n",
    "\n",
    "* Price — цена (евро)"
   ]
  },
  {
   "cell_type": "markdown",
   "metadata": {
    "id": "ISUQwC00yQeI"
   },
   "source": [
    "## План работы\n",
    "\n",
    "**Загрузим данные**\n",
    "\n",
    "**Изучим данные**.\n",
    "* Заполним или удалим пропущенные значения и обработаем аномалии.\n",
    "* Если среди признаков имеются неинформативные, удалим их.\n",
    "\n",
    "**Подготовим выборки для обучения моделей.**\n",
    "\n",
    "**Обучим разные модели**\n",
    "* Для каждой модели попробуем разные гиперпараметры\n",
    "\n",
    "**Проанализируем время обучения, время предсказания и качество моделей.**\n",
    "\n",
    "**Опираясь на критерии заказчика, выберем лучшую модель.**\n",
    "* Проверим качество модели на тестовой выборке.**\n"
   ]
  },
  {
   "cell_type": "markdown",
   "metadata": {
    "id": "V-7NquDoOLrC"
   },
   "source": [
    "## Импортируем библиотеки"
   ]
  },
  {
   "cell_type": "code",
   "execution_count": 44,
   "metadata": {
    "colab": {
     "base_uri": "https://localhost:8080/"
    },
    "id": "4HC_WZ2d8Omm",
    "outputId": "83dbfa2c-432d-4419-d8ec-41db2d2cc546"
   },
   "outputs": [],
   "source": [
    "!pip install catboost --quiet\n",
    "!pip install category_encoders --quiet\n",
    "\n",
    "import seaborn as sns\n",
    "import pandas as pd\n",
    "import numpy as np\n",
    "import matplotlib.pyplot as plt\n",
    "import plotly.express as px\n",
    "import lightgbm as lgb\n",
    "import timeit\n",
    "\n",
    "from IPython.core.display import HTML\n",
    "from sklearn.model_selection import train_test_split\n",
    "from sklearn.model_selection import GridSearchCV\n",
    "from category_encoders import TargetEncoder\n",
    "\n",
    "from catboost import CatBoostRegressor\n",
    "from sklearn.ensemble import RandomForestRegressor\n",
    "\n",
    "from sklearn.metrics import mean_squared_error"
   ]
  },
  {
   "cell_type": "markdown",
   "metadata": {
    "id": "44PwA4zuzmAv"
   },
   "source": [
    "## Загрузка данных"
   ]
  },
  {
   "cell_type": "code",
   "execution_count": 2,
   "metadata": {
    "id": "mYQIDnsbN_RT"
   },
   "outputs": [],
   "source": [
    "#Загрузим данные\n",
    "try:\n",
    "    data = pd.read_csv('/datasets/autos.csv', sep = ',')\n",
    "except:\n",
    "    data = pd.read_csv('https://code.s3.yandex.net/datasets/autos.csv', sep = ',')"
   ]
  },
  {
   "cell_type": "markdown",
   "metadata": {
    "id": "q_OavIVmp5RY"
   },
   "source": [
    "Устанавливаем начальный RANDOM_STATE для получения одинаковых и повторяющихся результатов вычислений при использования случайных чисел."
   ]
  },
  {
   "cell_type": "code",
   "execution_count": 3,
   "metadata": {
    "id": "WjxStDYhp5RZ"
   },
   "outputs": [],
   "source": [
    "RANDOM_STATE = 12345"
   ]
  },
  {
   "cell_type": "code",
   "execution_count": 4,
   "metadata": {
    "colab": {
     "base_uri": "https://localhost:8080/"
    },
    "id": "UVFaqp4DYkyC",
    "outputId": "c72c9e6f-1f64-4ebd-9e17-65129e402b95"
   },
   "outputs": [
    {
     "data": {
      "text/plain": [
       "Index(['DateCrawled', 'Price', 'VehicleType', 'RegistrationYear', 'Gearbox',\n",
       "       'Power', 'Model', 'Kilometer', 'RegistrationMonth', 'FuelType', 'Brand',\n",
       "       'Repaired', 'DateCreated', 'NumberOfPictures', 'PostalCode',\n",
       "       'LastSeen'],\n",
       "      dtype='object')"
      ]
     },
     "execution_count": 4,
     "metadata": {},
     "output_type": "execute_result"
    }
   ],
   "source": [
    "data.columns"
   ]
  },
  {
   "cell_type": "markdown",
   "metadata": {
    "id": "SK6iW3p7BK-y"
   },
   "source": [
    "**Переименуем все столбцы** для соответствия змеиной нотации"
   ]
  },
  {
   "cell_type": "code",
   "execution_count": 5,
   "metadata": {
    "colab": {
     "base_uri": "https://localhost:8080/"
    },
    "id": "ru_3FJG8-cr8",
    "outputId": "278ae8c8-a315-47ff-e5aa-71db060e2a2d"
   },
   "outputs": [
    {
     "data": {
      "text/plain": [
       "Index(['date_crawled', 'price', 'vehicle_type', 'registration_year', 'gearbox',\n",
       "       'power', 'model', 'kilometer', 'registration_month', 'fuel_type',\n",
       "       'brand', 'repaired', 'date_created', 'number_of_pictures',\n",
       "       'postal_code', 'last_seen'],\n",
       "      dtype='object')"
      ]
     },
     "execution_count": 5,
     "metadata": {},
     "output_type": "execute_result"
    }
   ],
   "source": [
    "# Переведем наименования столбцов в нижний регистр.\n",
    "# При этом между прописными и строчными буквами поставим знак нижнего подчеркивания: \"_\".\n",
    "# Чтобы разделить составные слова.\n",
    "\n",
    "data.columns = (data.columns\n",
    "                .str.replace(r'([a-z])([A-Z])', r'\\1_\\2', regex=True)\n",
    "                .str.lower()\n",
    "                )\n",
    "\n",
    "# Проверим, что столбцы переименовались\n",
    "data.columns"
   ]
  },
  {
   "cell_type": "markdown",
   "metadata": {
    "id": "_QXyl6eTpbd_"
   },
   "source": [
    "## Изучение данных"
   ]
  },
  {
   "cell_type": "markdown",
   "metadata": {
    "id": "KXX5IFLN1SL7"
   },
   "source": [
    "Напишем функцию df_describe для ознакомления с данными в одном датафрейме"
   ]
  },
  {
   "cell_type": "code",
   "execution_count": 6,
   "metadata": {
    "id": "rDA-nEM21z25"
   },
   "outputs": [],
   "source": [
    "def df_describe(df):\n",
    "    print('Первые 3 строки данных:\\n')\n",
    "    display(df.head(3))\n",
    "\n",
    "    print('Последние 3 строки данных:\\n')\n",
    "    display(df.head(3))\n",
    "\n",
    "    print('\\nИнформация столбцах, их типах:\\n')\n",
    "    df.info()\n",
    "\n",
    "    print('\\nОбщее описание данных:\\n')\n",
    "    display(df.describe())\n",
    "\n",
    "    print('\\nГистограммы данных:\\n')\n",
    "    data.hist(figsize=(15, 15), rwidth=0.9)\n",
    "    plt.show()\n",
    "\n",
    "    print('\\nКорреляция между признаками:\\n')\n",
    "    corrMatrix = (data\n",
    "     #Выбираем только числовые типы данных\n",
    "     .select_dtypes(include='number')\n",
    "     #Убираем столбец number_of_pictures, там ругеается на Nan\n",
    "     .filter(regex='^(?!number_of_pictures)')\n",
    "     .corr())\n",
    "\n",
    "    display(corrMatrix.style.background_gradient(cmap='coolwarm'));"
   ]
  },
  {
   "cell_type": "markdown",
   "metadata": {
    "id": "MtlrlqsjS9aG"
   },
   "source": [
    "### Общий обзор данных"
   ]
  },
  {
   "cell_type": "code",
   "execution_count": 7,
   "metadata": {
    "colab": {
     "base_uri": "https://localhost:8080/",
     "height": 1000
    },
    "id": "0Hs2sHSYdtqK",
    "outputId": "55374047-26bb-4b28-cdce-4387ec1752b0"
   },
   "outputs": [
    {
     "name": "stdout",
     "output_type": "stream",
     "text": [
      "Первые 3 строки данных:\n",
      "\n"
     ]
    },
    {
     "data": {
      "text/html": [
       "<div>\n",
       "<style scoped>\n",
       "    .dataframe tbody tr th:only-of-type {\n",
       "        vertical-align: middle;\n",
       "    }\n",
       "\n",
       "    .dataframe tbody tr th {\n",
       "        vertical-align: top;\n",
       "    }\n",
       "\n",
       "    .dataframe thead th {\n",
       "        text-align: right;\n",
       "    }\n",
       "</style>\n",
       "<table border=\"1\" class=\"dataframe\">\n",
       "  <thead>\n",
       "    <tr style=\"text-align: right;\">\n",
       "      <th></th>\n",
       "      <th>date_crawled</th>\n",
       "      <th>price</th>\n",
       "      <th>vehicle_type</th>\n",
       "      <th>registration_year</th>\n",
       "      <th>gearbox</th>\n",
       "      <th>power</th>\n",
       "      <th>model</th>\n",
       "      <th>kilometer</th>\n",
       "      <th>registration_month</th>\n",
       "      <th>fuel_type</th>\n",
       "      <th>brand</th>\n",
       "      <th>repaired</th>\n",
       "      <th>date_created</th>\n",
       "      <th>number_of_pictures</th>\n",
       "      <th>postal_code</th>\n",
       "      <th>last_seen</th>\n",
       "    </tr>\n",
       "  </thead>\n",
       "  <tbody>\n",
       "    <tr>\n",
       "      <th>0</th>\n",
       "      <td>2016-03-24 11:52:17</td>\n",
       "      <td>480</td>\n",
       "      <td>NaN</td>\n",
       "      <td>1993</td>\n",
       "      <td>manual</td>\n",
       "      <td>0</td>\n",
       "      <td>golf</td>\n",
       "      <td>150000</td>\n",
       "      <td>0</td>\n",
       "      <td>petrol</td>\n",
       "      <td>volkswagen</td>\n",
       "      <td>NaN</td>\n",
       "      <td>2016-03-24 00:00:00</td>\n",
       "      <td>0</td>\n",
       "      <td>70435</td>\n",
       "      <td>2016-04-07 03:16:57</td>\n",
       "    </tr>\n",
       "    <tr>\n",
       "      <th>1</th>\n",
       "      <td>2016-03-24 10:58:45</td>\n",
       "      <td>18300</td>\n",
       "      <td>coupe</td>\n",
       "      <td>2011</td>\n",
       "      <td>manual</td>\n",
       "      <td>190</td>\n",
       "      <td>NaN</td>\n",
       "      <td>125000</td>\n",
       "      <td>5</td>\n",
       "      <td>gasoline</td>\n",
       "      <td>audi</td>\n",
       "      <td>yes</td>\n",
       "      <td>2016-03-24 00:00:00</td>\n",
       "      <td>0</td>\n",
       "      <td>66954</td>\n",
       "      <td>2016-04-07 01:46:50</td>\n",
       "    </tr>\n",
       "    <tr>\n",
       "      <th>2</th>\n",
       "      <td>2016-03-14 12:52:21</td>\n",
       "      <td>9800</td>\n",
       "      <td>suv</td>\n",
       "      <td>2004</td>\n",
       "      <td>auto</td>\n",
       "      <td>163</td>\n",
       "      <td>grand</td>\n",
       "      <td>125000</td>\n",
       "      <td>8</td>\n",
       "      <td>gasoline</td>\n",
       "      <td>jeep</td>\n",
       "      <td>NaN</td>\n",
       "      <td>2016-03-14 00:00:00</td>\n",
       "      <td>0</td>\n",
       "      <td>90480</td>\n",
       "      <td>2016-04-05 12:47:46</td>\n",
       "    </tr>\n",
       "  </tbody>\n",
       "</table>\n",
       "</div>"
      ],
      "text/plain": [
       "          date_crawled  price vehicle_type  registration_year gearbox  power  \\\n",
       "0  2016-03-24 11:52:17    480          NaN               1993  manual      0   \n",
       "1  2016-03-24 10:58:45  18300        coupe               2011  manual    190   \n",
       "2  2016-03-14 12:52:21   9800          suv               2004    auto    163   \n",
       "\n",
       "   model  kilometer  registration_month fuel_type       brand repaired  \\\n",
       "0   golf     150000                   0    petrol  volkswagen      NaN   \n",
       "1    NaN     125000                   5  gasoline        audi      yes   \n",
       "2  grand     125000                   8  gasoline        jeep      NaN   \n",
       "\n",
       "          date_created  number_of_pictures  postal_code            last_seen  \n",
       "0  2016-03-24 00:00:00                   0        70435  2016-04-07 03:16:57  \n",
       "1  2016-03-24 00:00:00                   0        66954  2016-04-07 01:46:50  \n",
       "2  2016-03-14 00:00:00                   0        90480  2016-04-05 12:47:46  "
      ]
     },
     "metadata": {},
     "output_type": "display_data"
    },
    {
     "name": "stdout",
     "output_type": "stream",
     "text": [
      "Последние 3 строки данных:\n",
      "\n"
     ]
    },
    {
     "data": {
      "text/html": [
       "<div>\n",
       "<style scoped>\n",
       "    .dataframe tbody tr th:only-of-type {\n",
       "        vertical-align: middle;\n",
       "    }\n",
       "\n",
       "    .dataframe tbody tr th {\n",
       "        vertical-align: top;\n",
       "    }\n",
       "\n",
       "    .dataframe thead th {\n",
       "        text-align: right;\n",
       "    }\n",
       "</style>\n",
       "<table border=\"1\" class=\"dataframe\">\n",
       "  <thead>\n",
       "    <tr style=\"text-align: right;\">\n",
       "      <th></th>\n",
       "      <th>date_crawled</th>\n",
       "      <th>price</th>\n",
       "      <th>vehicle_type</th>\n",
       "      <th>registration_year</th>\n",
       "      <th>gearbox</th>\n",
       "      <th>power</th>\n",
       "      <th>model</th>\n",
       "      <th>kilometer</th>\n",
       "      <th>registration_month</th>\n",
       "      <th>fuel_type</th>\n",
       "      <th>brand</th>\n",
       "      <th>repaired</th>\n",
       "      <th>date_created</th>\n",
       "      <th>number_of_pictures</th>\n",
       "      <th>postal_code</th>\n",
       "      <th>last_seen</th>\n",
       "    </tr>\n",
       "  </thead>\n",
       "  <tbody>\n",
       "    <tr>\n",
       "      <th>0</th>\n",
       "      <td>2016-03-24 11:52:17</td>\n",
       "      <td>480</td>\n",
       "      <td>NaN</td>\n",
       "      <td>1993</td>\n",
       "      <td>manual</td>\n",
       "      <td>0</td>\n",
       "      <td>golf</td>\n",
       "      <td>150000</td>\n",
       "      <td>0</td>\n",
       "      <td>petrol</td>\n",
       "      <td>volkswagen</td>\n",
       "      <td>NaN</td>\n",
       "      <td>2016-03-24 00:00:00</td>\n",
       "      <td>0</td>\n",
       "      <td>70435</td>\n",
       "      <td>2016-04-07 03:16:57</td>\n",
       "    </tr>\n",
       "    <tr>\n",
       "      <th>1</th>\n",
       "      <td>2016-03-24 10:58:45</td>\n",
       "      <td>18300</td>\n",
       "      <td>coupe</td>\n",
       "      <td>2011</td>\n",
       "      <td>manual</td>\n",
       "      <td>190</td>\n",
       "      <td>NaN</td>\n",
       "      <td>125000</td>\n",
       "      <td>5</td>\n",
       "      <td>gasoline</td>\n",
       "      <td>audi</td>\n",
       "      <td>yes</td>\n",
       "      <td>2016-03-24 00:00:00</td>\n",
       "      <td>0</td>\n",
       "      <td>66954</td>\n",
       "      <td>2016-04-07 01:46:50</td>\n",
       "    </tr>\n",
       "    <tr>\n",
       "      <th>2</th>\n",
       "      <td>2016-03-14 12:52:21</td>\n",
       "      <td>9800</td>\n",
       "      <td>suv</td>\n",
       "      <td>2004</td>\n",
       "      <td>auto</td>\n",
       "      <td>163</td>\n",
       "      <td>grand</td>\n",
       "      <td>125000</td>\n",
       "      <td>8</td>\n",
       "      <td>gasoline</td>\n",
       "      <td>jeep</td>\n",
       "      <td>NaN</td>\n",
       "      <td>2016-03-14 00:00:00</td>\n",
       "      <td>0</td>\n",
       "      <td>90480</td>\n",
       "      <td>2016-04-05 12:47:46</td>\n",
       "    </tr>\n",
       "  </tbody>\n",
       "</table>\n",
       "</div>"
      ],
      "text/plain": [
       "          date_crawled  price vehicle_type  registration_year gearbox  power  \\\n",
       "0  2016-03-24 11:52:17    480          NaN               1993  manual      0   \n",
       "1  2016-03-24 10:58:45  18300        coupe               2011  manual    190   \n",
       "2  2016-03-14 12:52:21   9800          suv               2004    auto    163   \n",
       "\n",
       "   model  kilometer  registration_month fuel_type       brand repaired  \\\n",
       "0   golf     150000                   0    petrol  volkswagen      NaN   \n",
       "1    NaN     125000                   5  gasoline        audi      yes   \n",
       "2  grand     125000                   8  gasoline        jeep      NaN   \n",
       "\n",
       "          date_created  number_of_pictures  postal_code            last_seen  \n",
       "0  2016-03-24 00:00:00                   0        70435  2016-04-07 03:16:57  \n",
       "1  2016-03-24 00:00:00                   0        66954  2016-04-07 01:46:50  \n",
       "2  2016-03-14 00:00:00                   0        90480  2016-04-05 12:47:46  "
      ]
     },
     "metadata": {},
     "output_type": "display_data"
    },
    {
     "name": "stdout",
     "output_type": "stream",
     "text": [
      "\n",
      "Информация столбцах, их типах:\n",
      "\n",
      "<class 'pandas.core.frame.DataFrame'>\n",
      "RangeIndex: 354369 entries, 0 to 354368\n",
      "Data columns (total 16 columns):\n",
      " #   Column              Non-Null Count   Dtype \n",
      "---  ------              --------------   ----- \n",
      " 0   date_crawled        354369 non-null  object\n",
      " 1   price               354369 non-null  int64 \n",
      " 2   vehicle_type        316879 non-null  object\n",
      " 3   registration_year   354369 non-null  int64 \n",
      " 4   gearbox             334536 non-null  object\n",
      " 5   power               354369 non-null  int64 \n",
      " 6   model               334664 non-null  object\n",
      " 7   kilometer           354369 non-null  int64 \n",
      " 8   registration_month  354369 non-null  int64 \n",
      " 9   fuel_type           321474 non-null  object\n",
      " 10  brand               354369 non-null  object\n",
      " 11  repaired            283215 non-null  object\n",
      " 12  date_created        354369 non-null  object\n",
      " 13  number_of_pictures  354369 non-null  int64 \n",
      " 14  postal_code         354369 non-null  int64 \n",
      " 15  last_seen           354369 non-null  object\n",
      "dtypes: int64(7), object(9)\n",
      "memory usage: 43.3+ MB\n",
      "\n",
      "Общее описание данных:\n",
      "\n"
     ]
    },
    {
     "data": {
      "text/html": [
       "<div>\n",
       "<style scoped>\n",
       "    .dataframe tbody tr th:only-of-type {\n",
       "        vertical-align: middle;\n",
       "    }\n",
       "\n",
       "    .dataframe tbody tr th {\n",
       "        vertical-align: top;\n",
       "    }\n",
       "\n",
       "    .dataframe thead th {\n",
       "        text-align: right;\n",
       "    }\n",
       "</style>\n",
       "<table border=\"1\" class=\"dataframe\">\n",
       "  <thead>\n",
       "    <tr style=\"text-align: right;\">\n",
       "      <th></th>\n",
       "      <th>price</th>\n",
       "      <th>registration_year</th>\n",
       "      <th>power</th>\n",
       "      <th>kilometer</th>\n",
       "      <th>registration_month</th>\n",
       "      <th>number_of_pictures</th>\n",
       "      <th>postal_code</th>\n",
       "    </tr>\n",
       "  </thead>\n",
       "  <tbody>\n",
       "    <tr>\n",
       "      <th>count</th>\n",
       "      <td>354369.000000</td>\n",
       "      <td>354369.000000</td>\n",
       "      <td>354369.000000</td>\n",
       "      <td>354369.000000</td>\n",
       "      <td>354369.000000</td>\n",
       "      <td>354369.0</td>\n",
       "      <td>354369.000000</td>\n",
       "    </tr>\n",
       "    <tr>\n",
       "      <th>mean</th>\n",
       "      <td>4416.656776</td>\n",
       "      <td>2004.234448</td>\n",
       "      <td>110.094337</td>\n",
       "      <td>128211.172535</td>\n",
       "      <td>5.714645</td>\n",
       "      <td>0.0</td>\n",
       "      <td>50508.689087</td>\n",
       "    </tr>\n",
       "    <tr>\n",
       "      <th>std</th>\n",
       "      <td>4514.158514</td>\n",
       "      <td>90.227958</td>\n",
       "      <td>189.850405</td>\n",
       "      <td>37905.341530</td>\n",
       "      <td>3.726421</td>\n",
       "      <td>0.0</td>\n",
       "      <td>25783.096248</td>\n",
       "    </tr>\n",
       "    <tr>\n",
       "      <th>min</th>\n",
       "      <td>0.000000</td>\n",
       "      <td>1000.000000</td>\n",
       "      <td>0.000000</td>\n",
       "      <td>5000.000000</td>\n",
       "      <td>0.000000</td>\n",
       "      <td>0.0</td>\n",
       "      <td>1067.000000</td>\n",
       "    </tr>\n",
       "    <tr>\n",
       "      <th>25%</th>\n",
       "      <td>1050.000000</td>\n",
       "      <td>1999.000000</td>\n",
       "      <td>69.000000</td>\n",
       "      <td>125000.000000</td>\n",
       "      <td>3.000000</td>\n",
       "      <td>0.0</td>\n",
       "      <td>30165.000000</td>\n",
       "    </tr>\n",
       "    <tr>\n",
       "      <th>50%</th>\n",
       "      <td>2700.000000</td>\n",
       "      <td>2003.000000</td>\n",
       "      <td>105.000000</td>\n",
       "      <td>150000.000000</td>\n",
       "      <td>6.000000</td>\n",
       "      <td>0.0</td>\n",
       "      <td>49413.000000</td>\n",
       "    </tr>\n",
       "    <tr>\n",
       "      <th>75%</th>\n",
       "      <td>6400.000000</td>\n",
       "      <td>2008.000000</td>\n",
       "      <td>143.000000</td>\n",
       "      <td>150000.000000</td>\n",
       "      <td>9.000000</td>\n",
       "      <td>0.0</td>\n",
       "      <td>71083.000000</td>\n",
       "    </tr>\n",
       "    <tr>\n",
       "      <th>max</th>\n",
       "      <td>20000.000000</td>\n",
       "      <td>9999.000000</td>\n",
       "      <td>20000.000000</td>\n",
       "      <td>150000.000000</td>\n",
       "      <td>12.000000</td>\n",
       "      <td>0.0</td>\n",
       "      <td>99998.000000</td>\n",
       "    </tr>\n",
       "  </tbody>\n",
       "</table>\n",
       "</div>"
      ],
      "text/plain": [
       "               price  registration_year          power      kilometer  \\\n",
       "count  354369.000000      354369.000000  354369.000000  354369.000000   \n",
       "mean     4416.656776        2004.234448     110.094337  128211.172535   \n",
       "std      4514.158514          90.227958     189.850405   37905.341530   \n",
       "min         0.000000        1000.000000       0.000000    5000.000000   \n",
       "25%      1050.000000        1999.000000      69.000000  125000.000000   \n",
       "50%      2700.000000        2003.000000     105.000000  150000.000000   \n",
       "75%      6400.000000        2008.000000     143.000000  150000.000000   \n",
       "max     20000.000000        9999.000000   20000.000000  150000.000000   \n",
       "\n",
       "       registration_month  number_of_pictures    postal_code  \n",
       "count       354369.000000            354369.0  354369.000000  \n",
       "mean             5.714645                 0.0   50508.689087  \n",
       "std              3.726421                 0.0   25783.096248  \n",
       "min              0.000000                 0.0    1067.000000  \n",
       "25%              3.000000                 0.0   30165.000000  \n",
       "50%              6.000000                 0.0   49413.000000  \n",
       "75%              9.000000                 0.0   71083.000000  \n",
       "max             12.000000                 0.0   99998.000000  "
      ]
     },
     "metadata": {},
     "output_type": "display_data"
    },
    {
     "name": "stdout",
     "output_type": "stream",
     "text": [
      "\n",
      "Гистограммы данных:\n",
      "\n"
     ]
    },
    {
     "data": {
      "image/png": "[encoded data removed]",
      "text/plain": [
       "<Figure size 1080x1080 with 9 Axes>"
      ]
     },
     "metadata": {
      "needs_background": "light"
     },
     "output_type": "display_data"
    },
    {
     "name": "stdout",
     "output_type": "stream",
     "text": [
      "\n",
      "Корреляция между признаками:\n",
      "\n"
     ]
    },
    {
     "data": {
      "text/html": [
       "<style  type=\"text/css\" >\n",
       "#T_62033_row0_col0,#T_62033_row1_col1,#T_62033_row2_col2,#T_62033_row3_col3,#T_62033_row4_col4,#T_62033_row5_col5{\n",
       "            background-color:  #b40426;\n",
       "            color:  #f1f1f1;\n",
       "        }#T_62033_row0_col1{\n",
       "            background-color:  #516ddb;\n",
       "            color:  #000000;\n",
       "        }#T_62033_row0_col2{\n",
       "            background-color:  #6c8ff1;\n",
       "            color:  #000000;\n",
       "        }#T_62033_row0_col3,#T_62033_row1_col2,#T_62033_row1_col4,#T_62033_row3_col0,#T_62033_row3_col1,#T_62033_row3_col5{\n",
       "            background-color:  #3b4cc0;\n",
       "            color:  #f1f1f1;\n",
       "        }#T_62033_row0_col4{\n",
       "            background-color:  #5f7fe8;\n",
       "            color:  #000000;\n",
       "        }#T_62033_row0_col5{\n",
       "            background-color:  #5470de;\n",
       "            color:  #000000;\n",
       "        }#T_62033_row1_col0{\n",
       "            background-color:  #94b6ff;\n",
       "            color:  #000000;\n",
       "        }#T_62033_row1_col3{\n",
       "            background-color:  #7ea1fa;\n",
       "            color:  #000000;\n",
       "        }#T_62033_row1_col5{\n",
       "            background-color:  #3c4ec2;\n",
       "            color:  #f1f1f1;\n",
       "        }#T_62033_row2_col0{\n",
       "            background-color:  #b6cefa;\n",
       "            color:  #000000;\n",
       "        }#T_62033_row2_col1,#T_62033_row5_col1{\n",
       "            background-color:  #4961d2;\n",
       "            color:  #f1f1f1;\n",
       "        }#T_62033_row2_col3{\n",
       "            background-color:  #93b5fe;\n",
       "            color:  #000000;\n",
       "        }#T_62033_row2_col4{\n",
       "            background-color:  #4a63d3;\n",
       "            color:  #f1f1f1;\n",
       "        }#T_62033_row2_col5{\n",
       "            background-color:  #4358cb;\n",
       "            color:  #f1f1f1;\n",
       "        }#T_62033_row3_col2,#T_62033_row5_col4{\n",
       "            background-color:  #4257c9;\n",
       "            color:  #f1f1f1;\n",
       "        }#T_62033_row3_col4,#T_62033_row4_col5,#T_62033_row5_col2{\n",
       "            background-color:  #4055c8;\n",
       "            color:  #f1f1f1;\n",
       "        }#T_62033_row4_col0{\n",
       "            background-color:  #aac7fd;\n",
       "            color:  #000000;\n",
       "        }#T_62033_row4_col1{\n",
       "            background-color:  #465ecf;\n",
       "            color:  #f1f1f1;\n",
       "        }#T_62033_row4_col2{\n",
       "            background-color:  #485fd1;\n",
       "            color:  #f1f1f1;\n",
       "        }#T_62033_row4_col3{\n",
       "            background-color:  #8fb1fe;\n",
       "            color:  #000000;\n",
       "        }#T_62033_row5_col0{\n",
       "            background-color:  #a1c0ff;\n",
       "            color:  #000000;\n",
       "        }#T_62033_row5_col3{\n",
       "            background-color:  #8badfd;\n",
       "            color:  #000000;\n",
       "        }</style><table id=\"T_62033_\" ><thead>    <tr>        <th class=\"blank level0\" ></th>        <th class=\"col_heading level0 col0\" >price</th>        <th class=\"col_heading level0 col1\" >registration_year</th>        <th class=\"col_heading level0 col2\" >power</th>        <th class=\"col_heading level0 col3\" >kilometer</th>        <th class=\"col_heading level0 col4\" >registration_month</th>        <th class=\"col_heading level0 col5\" >postal_code</th>    </tr></thead><tbody>\n",
       "                <tr>\n",
       "                        <th id=\"T_62033_level0_row0\" class=\"row_heading level0 row0\" >price</th>\n",
       "                        <td id=\"T_62033_row0_col0\" class=\"data row0 col0\" >1.000000</td>\n",
       "                        <td id=\"T_62033_row0_col1\" class=\"data row0 col1\" >0.026916</td>\n",
       "                        <td id=\"T_62033_row0_col2\" class=\"data row0 col2\" >0.158872</td>\n",
       "                        <td id=\"T_62033_row0_col3\" class=\"data row0 col3\" >-0.333199</td>\n",
       "                        <td id=\"T_62033_row0_col4\" class=\"data row0 col4\" >0.110581</td>\n",
       "                        <td id=\"T_62033_row0_col5\" class=\"data row0 col5\" >0.076055</td>\n",
       "            </tr>\n",
       "            <tr>\n",
       "                        <th id=\"T_62033_level0_row1\" class=\"row_heading level0 row1\" >registration_year</th>\n",
       "                        <td id=\"T_62033_row1_col0\" class=\"data row1 col0\" >0.026916</td>\n",
       "                        <td id=\"T_62033_row1_col1\" class=\"data row1 col1\" >1.000000</td>\n",
       "                        <td id=\"T_62033_row1_col2\" class=\"data row1 col2\" >-0.000828</td>\n",
       "                        <td id=\"T_62033_row1_col3\" class=\"data row1 col3\" >-0.053447</td>\n",
       "                        <td id=\"T_62033_row1_col4\" class=\"data row1 col4\" >-0.011619</td>\n",
       "                        <td id=\"T_62033_row1_col5\" class=\"data row1 col5\" >-0.003459</td>\n",
       "            </tr>\n",
       "            <tr>\n",
       "                        <th id=\"T_62033_level0_row2\" class=\"row_heading level0 row2\" >power</th>\n",
       "                        <td id=\"T_62033_row2_col0\" class=\"data row2 col0\" >0.158872</td>\n",
       "                        <td id=\"T_62033_row2_col1\" class=\"data row2 col1\" >-0.000828</td>\n",
       "                        <td id=\"T_62033_row2_col2\" class=\"data row2 col2\" >1.000000</td>\n",
       "                        <td id=\"T_62033_row2_col3\" class=\"data row2 col3\" >0.024002</td>\n",
       "                        <td id=\"T_62033_row2_col4\" class=\"data row2 col4\" >0.043380</td>\n",
       "                        <td id=\"T_62033_row2_col5\" class=\"data row2 col5\" >0.021665</td>\n",
       "            </tr>\n",
       "            <tr>\n",
       "                        <th id=\"T_62033_level0_row3\" class=\"row_heading level0 row3\" >kilometer</th>\n",
       "                        <td id=\"T_62033_row3_col0\" class=\"data row3 col0\" >-0.333199</td>\n",
       "                        <td id=\"T_62033_row3_col1\" class=\"data row3 col1\" >-0.053447</td>\n",
       "                        <td id=\"T_62033_row3_col2\" class=\"data row3 col2\" >0.024002</td>\n",
       "                        <td id=\"T_62033_row3_col3\" class=\"data row3 col3\" >1.000000</td>\n",
       "                        <td id=\"T_62033_row3_col4\" class=\"data row3 col4\" >0.009571</td>\n",
       "                        <td id=\"T_62033_row3_col5\" class=\"data row3 col5\" >-0.007698</td>\n",
       "            </tr>\n",
       "            <tr>\n",
       "                        <th id=\"T_62033_level0_row4\" class=\"row_heading level0 row4\" >registration_month</th>\n",
       "                        <td id=\"T_62033_row4_col0\" class=\"data row4 col0\" >0.110581</td>\n",
       "                        <td id=\"T_62033_row4_col1\" class=\"data row4 col1\" >-0.011619</td>\n",
       "                        <td id=\"T_62033_row4_col2\" class=\"data row4 col2\" >0.043380</td>\n",
       "                        <td id=\"T_62033_row4_col3\" class=\"data row4 col3\" >0.009571</td>\n",
       "                        <td id=\"T_62033_row4_col4\" class=\"data row4 col4\" >1.000000</td>\n",
       "                        <td id=\"T_62033_row4_col5\" class=\"data row4 col5\" >0.013995</td>\n",
       "            </tr>\n",
       "            <tr>\n",
       "                        <th id=\"T_62033_level0_row5\" class=\"row_heading level0 row5\" >postal_code</th>\n",
       "                        <td id=\"T_62033_row5_col0\" class=\"data row5 col0\" >0.076055</td>\n",
       "                        <td id=\"T_62033_row5_col1\" class=\"data row5 col1\" >-0.003459</td>\n",
       "                        <td id=\"T_62033_row5_col2\" class=\"data row5 col2\" >0.021665</td>\n",
       "                        <td id=\"T_62033_row5_col3\" class=\"data row5 col3\" >-0.007698</td>\n",
       "                        <td id=\"T_62033_row5_col4\" class=\"data row5 col4\" >0.013995</td>\n",
       "                        <td id=\"T_62033_row5_col5\" class=\"data row5 col5\" >1.000000</td>\n",
       "            </tr>\n",
       "    </tbody></table>"
      ],
      "text/plain": [
       "<pandas.io.formats.style.Styler at 0x7fb7c9747190>"
      ]
     },
     "metadata": {},
     "output_type": "display_data"
    }
   ],
   "source": [
    "df_describe(data)"
   ]
  },
  {
   "cell_type": "markdown",
   "metadata": {
    "id": "hpbgZxU1bG0A"
   },
   "source": [
    "Изучив данные видим, что в данных есть пропуски. Столбец number_of_pictures не содержит полезных данных. Видимо где-то произошел сбой при парсинге данных и в этом столбце только нули. Этот столбец можно удалить.\n",
    "\n",
    "Значимой корреляции между признаками не было обнаружен. Есть небольшая корреляция между пробегом и ценой и еще меньшая между мощностью двигателя и ценой автомобиля."
   ]
  },
  {
   "cell_type": "markdown",
   "metadata": {
    "id": "-sJLGEVUqaFJ"
   },
   "source": [
    "Переведем столбцы с датами в формат даты."
   ]
  },
  {
   "cell_type": "code",
   "execution_count": 8,
   "metadata": {
    "colab": {
     "base_uri": "https://localhost:8080/"
    },
    "id": "p9AavzQLq9l2",
    "outputId": "257f1471-dae1-4f64-8e71-8301864be23c"
   },
   "outputs": [
    {
     "name": "stdout",
     "output_type": "stream",
     "text": [
      "0   2016-03-24 11:52:17\n",
      "1   2016-03-24 10:58:45\n",
      "2   2016-03-14 12:52:21\n",
      "3   2016-03-17 16:54:04\n",
      "4   2016-03-31 17:25:20\n",
      "Name: date_crawled, dtype: datetime64[ns]\n",
      "0   2016-03-24\n",
      "1   2016-03-24\n",
      "2   2016-03-14\n",
      "3   2016-03-17\n",
      "4   2016-03-31\n",
      "Name: date_created, dtype: datetime64[ns]\n",
      "0   2016-04-07 03:16:57\n",
      "1   2016-04-07 01:46:50\n",
      "2   2016-04-05 12:47:46\n",
      "3   2016-03-17 17:40:17\n",
      "4   2016-04-06 10:17:21\n",
      "Name: last_seen, dtype: datetime64[ns]\n"
     ]
    }
   ],
   "source": [
    "#Переведем в формат даты все столбцы наименование которых начинается с 'date' или 'last'\n",
    "for data_col in data.filter(regex='^(date|last.+)').columns:\n",
    "    data[data_col] = pd.to_datetime(\n",
    "    data[data_col], format='%Y-%m-%dT%H:%M:%S'\n",
    "    )\n",
    "    print(data[data_col].head(5))"
   ]
  },
  {
   "cell_type": "markdown",
   "metadata": {
    "id": "jbO9gReLVmzw"
   },
   "source": [
    "Посмотрим время, когда загружались обьявления"
   ]
  },
  {
   "cell_type": "code",
   "execution_count": 9,
   "metadata": {
    "colab": {
     "base_uri": "https://localhost:8080/"
    },
    "id": "_KvgmUOltMzm",
    "outputId": "7e07d341-2ceb-4093-862d-d374b3c4ab61"
   },
   "outputs": [
    {
     "name": "stdout",
     "output_type": "stream",
     "text": [
      "2016-03-05 14:06:22\n",
      "2016-04-07 14:36:58\n"
     ]
    }
   ],
   "source": [
    "print(data.date_crawled.min())\n",
    "print(data.date_crawled.max())"
   ]
  },
  {
   "cell_type": "markdown",
   "metadata": {
    "id": "Wjb1zRNEU7nl"
   },
   "source": [
    "### Посмотрим дубликаты в данных"
   ]
  },
  {
   "cell_type": "code",
   "execution_count": 10,
   "metadata": {
    "colab": {
     "base_uri": "https://localhost:8080/",
     "height": 835
    },
    "id": "4xx1w0qSVPrE",
    "outputId": "1ec69809-79a3-4367-9f3b-e27db5a1d14d",
    "scrolled": true
   },
   "outputs": [
    {
     "data": {
      "text/html": [
       "<div>\n",
       "<style scoped>\n",
       "    .dataframe tbody tr th:only-of-type {\n",
       "        vertical-align: middle;\n",
       "    }\n",
       "\n",
       "    .dataframe tbody tr th {\n",
       "        vertical-align: top;\n",
       "    }\n",
       "\n",
       "    .dataframe thead th {\n",
       "        text-align: right;\n",
       "    }\n",
       "</style>\n",
       "<table border=\"1\" class=\"dataframe\">\n",
       "  <thead>\n",
       "    <tr style=\"text-align: right;\">\n",
       "      <th></th>\n",
       "      <th>date_crawled</th>\n",
       "      <th>price</th>\n",
       "      <th>vehicle_type</th>\n",
       "      <th>registration_year</th>\n",
       "      <th>gearbox</th>\n",
       "      <th>power</th>\n",
       "      <th>model</th>\n",
       "      <th>kilometer</th>\n",
       "      <th>registration_month</th>\n",
       "      <th>fuel_type</th>\n",
       "      <th>brand</th>\n",
       "      <th>repaired</th>\n",
       "      <th>date_created</th>\n",
       "      <th>number_of_pictures</th>\n",
       "      <th>postal_code</th>\n",
       "      <th>last_seen</th>\n",
       "    </tr>\n",
       "  </thead>\n",
       "  <tbody>\n",
       "    <tr>\n",
       "      <th>3551</th>\n",
       "      <td>2016-03-22 21:55:08</td>\n",
       "      <td>1670</td>\n",
       "      <td>sedan</td>\n",
       "      <td>1999</td>\n",
       "      <td>manual</td>\n",
       "      <td>75</td>\n",
       "      <td>golf</td>\n",
       "      <td>150000</td>\n",
       "      <td>8</td>\n",
       "      <td>petrol</td>\n",
       "      <td>volkswagen</td>\n",
       "      <td>no</td>\n",
       "      <td>2016-03-22</td>\n",
       "      <td>0</td>\n",
       "      <td>52388</td>\n",
       "      <td>2016-03-22 21:55:08</td>\n",
       "    </tr>\n",
       "    <tr>\n",
       "      <th>3786</th>\n",
       "      <td>2016-03-12 11:50:17</td>\n",
       "      <td>2999</td>\n",
       "      <td>sedan</td>\n",
       "      <td>2002</td>\n",
       "      <td>manual</td>\n",
       "      <td>101</td>\n",
       "      <td>golf</td>\n",
       "      <td>150000</td>\n",
       "      <td>6</td>\n",
       "      <td>gasoline</td>\n",
       "      <td>volkswagen</td>\n",
       "      <td>no</td>\n",
       "      <td>2016-03-12</td>\n",
       "      <td>0</td>\n",
       "      <td>32756</td>\n",
       "      <td>2016-03-13 03:15:44</td>\n",
       "    </tr>\n",
       "    <tr>\n",
       "      <th>3907</th>\n",
       "      <td>2016-03-26 21:38:04</td>\n",
       "      <td>500</td>\n",
       "      <td>small</td>\n",
       "      <td>1999</td>\n",
       "      <td>manual</td>\n",
       "      <td>55</td>\n",
       "      <td>corsa</td>\n",
       "      <td>150000</td>\n",
       "      <td>12</td>\n",
       "      <td>petrol</td>\n",
       "      <td>opel</td>\n",
       "      <td>no</td>\n",
       "      <td>2016-03-26</td>\n",
       "      <td>0</td>\n",
       "      <td>51377</td>\n",
       "      <td>2016-03-31 19:46:16</td>\n",
       "    </tr>\n",
       "    <tr>\n",
       "      <th>4134</th>\n",
       "      <td>2016-03-24 08:53:30</td>\n",
       "      <td>18750</td>\n",
       "      <td>sedan</td>\n",
       "      <td>2014</td>\n",
       "      <td>manual</td>\n",
       "      <td>150</td>\n",
       "      <td>golf</td>\n",
       "      <td>20000</td>\n",
       "      <td>9</td>\n",
       "      <td>gasoline</td>\n",
       "      <td>volkswagen</td>\n",
       "      <td>no</td>\n",
       "      <td>2016-03-24</td>\n",
       "      <td>0</td>\n",
       "      <td>38518</td>\n",
       "      <td>2016-04-06 23:45:06</td>\n",
       "    </tr>\n",
       "    <tr>\n",
       "      <th>4222</th>\n",
       "      <td>2016-03-19 21:54:30</td>\n",
       "      <td>14500</td>\n",
       "      <td>wagon</td>\n",
       "      <td>2007</td>\n",
       "      <td>manual</td>\n",
       "      <td>140</td>\n",
       "      <td>a6</td>\n",
       "      <td>100000</td>\n",
       "      <td>3</td>\n",
       "      <td>gasoline</td>\n",
       "      <td>audi</td>\n",
       "      <td>no</td>\n",
       "      <td>2016-03-19</td>\n",
       "      <td>0</td>\n",
       "      <td>94060</td>\n",
       "      <td>2016-04-05 11:49:20</td>\n",
       "    </tr>\n",
       "    <tr>\n",
       "      <th>...</th>\n",
       "      <td>...</td>\n",
       "      <td>...</td>\n",
       "      <td>...</td>\n",
       "      <td>...</td>\n",
       "      <td>...</td>\n",
       "      <td>...</td>\n",
       "      <td>...</td>\n",
       "      <td>...</td>\n",
       "      <td>...</td>\n",
       "      <td>...</td>\n",
       "      <td>...</td>\n",
       "      <td>...</td>\n",
       "      <td>...</td>\n",
       "      <td>...</td>\n",
       "      <td>...</td>\n",
       "      <td>...</td>\n",
       "    </tr>\n",
       "    <tr>\n",
       "      <th>354336</th>\n",
       "      <td>2016-03-05 18:57:45</td>\n",
       "      <td>3299</td>\n",
       "      <td>NaN</td>\n",
       "      <td>2005</td>\n",
       "      <td>auto</td>\n",
       "      <td>0</td>\n",
       "      <td>outlander</td>\n",
       "      <td>150000</td>\n",
       "      <td>4</td>\n",
       "      <td>petrol</td>\n",
       "      <td>mitsubishi</td>\n",
       "      <td>NaN</td>\n",
       "      <td>2016-03-05</td>\n",
       "      <td>0</td>\n",
       "      <td>17034</td>\n",
       "      <td>2016-03-06 04:17:37</td>\n",
       "    </tr>\n",
       "    <tr>\n",
       "      <th>354337</th>\n",
       "      <td>2016-03-26 14:38:18</td>\n",
       "      <td>11500</td>\n",
       "      <td>sedan</td>\n",
       "      <td>2004</td>\n",
       "      <td>auto</td>\n",
       "      <td>445</td>\n",
       "      <td>7er</td>\n",
       "      <td>125000</td>\n",
       "      <td>0</td>\n",
       "      <td>petrol</td>\n",
       "      <td>bmw</td>\n",
       "      <td>NaN</td>\n",
       "      <td>2016-03-26</td>\n",
       "      <td>0</td>\n",
       "      <td>4107</td>\n",
       "      <td>2016-04-06 20:45:16</td>\n",
       "    </tr>\n",
       "    <tr>\n",
       "      <th>354352</th>\n",
       "      <td>2016-03-06 21:11:23</td>\n",
       "      <td>6500</td>\n",
       "      <td>sedan</td>\n",
       "      <td>2003</td>\n",
       "      <td>auto</td>\n",
       "      <td>145</td>\n",
       "      <td>e_klasse</td>\n",
       "      <td>150000</td>\n",
       "      <td>3</td>\n",
       "      <td>gasoline</td>\n",
       "      <td>mercedes_benz</td>\n",
       "      <td>no</td>\n",
       "      <td>2016-03-05</td>\n",
       "      <td>0</td>\n",
       "      <td>60437</td>\n",
       "      <td>2016-03-12 12:18:05</td>\n",
       "    </tr>\n",
       "    <tr>\n",
       "      <th>354355</th>\n",
       "      <td>2016-03-21 15:36:22</td>\n",
       "      <td>4400</td>\n",
       "      <td>sedan</td>\n",
       "      <td>2008</td>\n",
       "      <td>manual</td>\n",
       "      <td>105</td>\n",
       "      <td>leon</td>\n",
       "      <td>150000</td>\n",
       "      <td>7</td>\n",
       "      <td>gasoline</td>\n",
       "      <td>seat</td>\n",
       "      <td>no</td>\n",
       "      <td>2016-03-21</td>\n",
       "      <td>0</td>\n",
       "      <td>45896</td>\n",
       "      <td>2016-04-06 15:45:01</td>\n",
       "    </tr>\n",
       "    <tr>\n",
       "      <th>354363</th>\n",
       "      <td>2016-03-27 20:36:20</td>\n",
       "      <td>1150</td>\n",
       "      <td>bus</td>\n",
       "      <td>2000</td>\n",
       "      <td>manual</td>\n",
       "      <td>0</td>\n",
       "      <td>zafira</td>\n",
       "      <td>150000</td>\n",
       "      <td>3</td>\n",
       "      <td>petrol</td>\n",
       "      <td>opel</td>\n",
       "      <td>no</td>\n",
       "      <td>2016-03-27</td>\n",
       "      <td>0</td>\n",
       "      <td>26624</td>\n",
       "      <td>2016-03-29 10:17:23</td>\n",
       "    </tr>\n",
       "  </tbody>\n",
       "</table>\n",
       "<p>21333 rows × 16 columns</p>\n",
       "</div>"
      ],
      "text/plain": [
       "              date_crawled  price vehicle_type  registration_year gearbox  \\\n",
       "3551   2016-03-22 21:55:08   1670        sedan               1999  manual   \n",
       "3786   2016-03-12 11:50:17   2999        sedan               2002  manual   \n",
       "3907   2016-03-26 21:38:04    500        small               1999  manual   \n",
       "4134   2016-03-24 08:53:30  18750        sedan               2014  manual   \n",
       "4222   2016-03-19 21:54:30  14500        wagon               2007  manual   \n",
       "...                    ...    ...          ...                ...     ...   \n",
       "354336 2016-03-05 18:57:45   3299          NaN               2005    auto   \n",
       "354337 2016-03-26 14:38:18  11500        sedan               2004    auto   \n",
       "354352 2016-03-06 21:11:23   6500        sedan               2003    auto   \n",
       "354355 2016-03-21 15:36:22   4400        sedan               2008  manual   \n",
       "354363 2016-03-27 20:36:20   1150          bus               2000  manual   \n",
       "\n",
       "        power      model  kilometer  registration_month fuel_type  \\\n",
       "3551       75       golf     150000                   8    petrol   \n",
       "3786      101       golf     150000                   6  gasoline   \n",
       "3907       55      corsa     150000                  12    petrol   \n",
       "4134      150       golf      20000                   9  gasoline   \n",
       "4222      140         a6     100000                   3  gasoline   \n",
       "...       ...        ...        ...                 ...       ...   \n",
       "354336      0  outlander     150000                   4    petrol   \n",
       "354337    445        7er     125000                   0    petrol   \n",
       "354352    145   e_klasse     150000                   3  gasoline   \n",
       "354355    105       leon     150000                   7  gasoline   \n",
       "354363      0     zafira     150000                   3    petrol   \n",
       "\n",
       "                brand repaired date_created  number_of_pictures  postal_code  \\\n",
       "3551       volkswagen       no   2016-03-22                   0        52388   \n",
       "3786       volkswagen       no   2016-03-12                   0        32756   \n",
       "3907             opel       no   2016-03-26                   0        51377   \n",
       "4134       volkswagen       no   2016-03-24                   0        38518   \n",
       "4222             audi       no   2016-03-19                   0        94060   \n",
       "...               ...      ...          ...                 ...          ...   \n",
       "354336     mitsubishi      NaN   2016-03-05                   0        17034   \n",
       "354337            bmw      NaN   2016-03-26                   0         4107   \n",
       "354352  mercedes_benz       no   2016-03-05                   0        60437   \n",
       "354355           seat       no   2016-03-21                   0        45896   \n",
       "354363           opel       no   2016-03-27                   0        26624   \n",
       "\n",
       "                 last_seen  \n",
       "3551   2016-03-22 21:55:08  \n",
       "3786   2016-03-13 03:15:44  \n",
       "3907   2016-03-31 19:46:16  \n",
       "4134   2016-04-06 23:45:06  \n",
       "4222   2016-04-05 11:49:20  \n",
       "...                    ...  \n",
       "354336 2016-03-06 04:17:37  \n",
       "354337 2016-04-06 20:45:16  \n",
       "354352 2016-03-12 12:18:05  \n",
       "354355 2016-04-06 15:45:01  \n",
       "354363 2016-03-29 10:17:23  \n",
       "\n",
       "[21333 rows x 16 columns]"
      ]
     },
     "execution_count": 10,
     "metadata": {},
     "output_type": "execute_result"
    }
   ],
   "source": [
    "data[data.duplicated(subset =\n",
    "                     # Ищем полные дубликаты по всем столбцам, исключая  столбцы с датами\n",
    "                     data.filter(regex='^(?!date|last)')\n",
    "                     .columns)]"
   ]
  },
  {
   "cell_type": "markdown",
   "metadata": {
    "id": "-5mNVW0UblRy"
   },
   "source": [
    "Имеется довольно много дубликатов. Возможно кролер записывал как различающиеся объявления, когда различалась только дата объявления или только время последней активности продавца."
   ]
  },
  {
   "cell_type": "markdown",
   "metadata": {
    "id": "MgLm6nHJTXtR"
   },
   "source": [
    "### Изучим уникальные значения\n",
    "в категориальных столбцах"
   ]
  },
  {
   "cell_type": "code",
   "execution_count": 11,
   "metadata": {
    "colab": {
     "base_uri": "https://localhost:8080/",
     "height": 1000
    },
    "id": "4-IOvJedTXtX",
    "outputId": "2526cb9e-be89-499c-ab46-61e874808aa8",
    "scrolled": true
   },
   "outputs": [
    {
     "name": "stdout",
     "output_type": "stream",
     "text": [
      "******************************\n"
     ]
    },
    {
     "data": {
      "text/html": [
       "<b>vehicle_type:</b>"
      ],
      "text/plain": [
       "<IPython.core.display.HTML object>"
      ]
     },
     "metadata": {},
     "output_type": "display_data"
    },
    {
     "name": "stdout",
     "output_type": "stream",
     "text": [
      "sedan          91457\n",
      "small          79831\n",
      "wagon          65166\n",
      "bus            28775\n",
      "convertible    20203\n",
      "coupe          16163\n",
      "suv            11996\n",
      "other           3288\n",
      "Name: vehicle_type, dtype: int64\n",
      "\n",
      "******************************\n"
     ]
    },
    {
     "data": {
      "text/html": [
       "<b>gearbox:</b>"
      ],
      "text/plain": [
       "<IPython.core.display.HTML object>"
      ]
     },
     "metadata": {},
     "output_type": "display_data"
    },
    {
     "name": "stdout",
     "output_type": "stream",
     "text": [
      "manual    268251\n",
      "auto       66285\n",
      "Name: gearbox, dtype: int64\n",
      "\n",
      "******************************\n"
     ]
    },
    {
     "data": {
      "text/html": [
       "<b>model:</b>"
      ],
      "text/plain": [
       "<IPython.core.display.HTML object>"
      ]
     },
     "metadata": {},
     "output_type": "display_data"
    },
    {
     "name": "stdout",
     "output_type": "stream",
     "text": [
      "golf                  29232\n",
      "other                 24421\n",
      "3er                   19761\n",
      "polo                  13066\n",
      "corsa                 12570\n",
      "                      ...  \n",
      "serie_2                   8\n",
      "rangerover                4\n",
      "serie_3                   4\n",
      "serie_1                   2\n",
      "range_rover_evoque        2\n",
      "Name: model, Length: 250, dtype: int64\n",
      "\n",
      "******************************\n"
     ]
    },
    {
     "data": {
      "text/html": [
       "<b>fuel_type:</b>"
      ],
      "text/plain": [
       "<IPython.core.display.HTML object>"
      ]
     },
     "metadata": {},
     "output_type": "display_data"
    },
    {
     "name": "stdout",
     "output_type": "stream",
     "text": [
      "petrol      216352\n",
      "gasoline     98720\n",
      "lpg           5310\n",
      "cng            565\n",
      "hybrid         233\n",
      "other          204\n",
      "electric        90\n",
      "Name: fuel_type, dtype: int64\n",
      "\n",
      "******************************\n"
     ]
    },
    {
     "data": {
      "text/html": [
       "<b>brand:</b>"
      ],
      "text/plain": [
       "<IPython.core.display.HTML object>"
      ]
     },
     "metadata": {},
     "output_type": "display_data"
    },
    {
     "name": "stdout",
     "output_type": "stream",
     "text": [
      "volkswagen        77013\n",
      "opel              39931\n",
      "bmw               36914\n",
      "mercedes_benz     32046\n",
      "audi              29456\n",
      "ford              25179\n",
      "renault           17927\n",
      "peugeot           10998\n",
      "fiat               9643\n",
      "seat               6907\n",
      "mazda              5615\n",
      "skoda              5500\n",
      "smart              5246\n",
      "citroen            5148\n",
      "nissan             4941\n",
      "toyota             4606\n",
      "hyundai            3587\n",
      "sonstige_autos     3374\n",
      "volvo              3210\n",
      "mini               3202\n",
      "mitsubishi         3022\n",
      "honda              2817\n",
      "kia                2465\n",
      "suzuki             2323\n",
      "alfa_romeo         2314\n",
      "chevrolet          1754\n",
      "chrysler           1439\n",
      "dacia               900\n",
      "daihatsu            806\n",
      "subaru              762\n",
      "porsche             758\n",
      "jeep                677\n",
      "trabant             589\n",
      "land_rover          545\n",
      "daewoo              542\n",
      "saab                526\n",
      "jaguar              505\n",
      "rover               486\n",
      "lancia              471\n",
      "lada                225\n",
      "Name: brand, dtype: int64\n",
      "\n",
      "******************************\n"
     ]
    },
    {
     "data": {
      "text/html": [
       "<b>repaired:</b>"
      ],
      "text/plain": [
       "<IPython.core.display.HTML object>"
      ]
     },
     "metadata": {},
     "output_type": "display_data"
    },
    {
     "name": "stdout",
     "output_type": "stream",
     "text": [
      "no     247161\n",
      "yes     36054\n",
      "Name: repaired, dtype: int64\n",
      "\n"
     ]
    }
   ],
   "source": [
    "for cat_col in (data\n",
    "                #Выбираем только строковые столбцы\n",
    "                .select_dtypes(include='object')\n",
    "                .columns):\n",
    "    print('******************************')\n",
    "    #Печатаем название столбца жирным с помощью тэгов HTML\n",
    "    display(HTML(f\"<b>{cat_col}:</b>\"))\n",
    "    print(data[cat_col].value_counts())\n",
    "    print()"
   ]
  },
  {
   "cell_type": "markdown",
   "metadata": {
    "id": "vUoQ6loMXyhm"
   },
   "source": [
    "Уникальные значения в категориальных признаках выглядят ожидаемым образом."
   ]
  },
  {
   "cell_type": "markdown",
   "metadata": {
    "id": "7l6JVL02plK7"
   },
   "source": [
    "## Подготовка данных"
   ]
  },
  {
   "cell_type": "code",
   "execution_count": 12,
   "metadata": {
    "colab": {
     "base_uri": "https://localhost:8080/"
    },
    "id": "mZpBarNILaKy",
    "outputId": "1763438d-d0bd-4d8b-9be0-a446f3672ee0"
   },
   "outputs": [
    {
     "name": "stdout",
     "output_type": "stream",
     "text": [
      "<class 'pandas.core.frame.DataFrame'>\n",
      "RangeIndex: 354369 entries, 0 to 354368\n",
      "Data columns (total 16 columns):\n",
      " #   Column              Non-Null Count   Dtype         \n",
      "---  ------              --------------   -----         \n",
      " 0   date_crawled        354369 non-null  datetime64[ns]\n",
      " 1   price               354369 non-null  int64         \n",
      " 2   vehicle_type        316879 non-null  object        \n",
      " 3   registration_year   354369 non-null  int64         \n",
      " 4   gearbox             334536 non-null  object        \n",
      " 5   power               354369 non-null  int64         \n",
      " 6   model               334664 non-null  object        \n",
      " 7   kilometer           354369 non-null  int64         \n",
      " 8   registration_month  354369 non-null  int64         \n",
      " 9   fuel_type           321474 non-null  object        \n",
      " 10  brand               354369 non-null  object        \n",
      " 11  repaired            283215 non-null  object        \n",
      " 12  date_created        354369 non-null  datetime64[ns]\n",
      " 13  number_of_pictures  354369 non-null  int64         \n",
      " 14  postal_code         354369 non-null  int64         \n",
      " 15  last_seen           354369 non-null  datetime64[ns]\n",
      "dtypes: datetime64[ns](3), int64(7), object(6)\n",
      "memory usage: 43.3+ MB\n"
     ]
    }
   ],
   "source": [
    "data.info()"
   ]
  },
  {
   "cell_type": "markdown",
   "metadata": {
    "id": "_Oetw6Z9IPPU"
   },
   "source": [
    "### Время экспозиции"
   ]
  },
  {
   "cell_type": "markdown",
   "metadata": {
    "id": "wXA-XD6jIcZz"
   },
   "source": [
    "Используем столбец с разницей между временем создания объявления и временем последней активности пользователя. Чтобы выявить связь между длительностью экспозиции и ценой автомобиля. Предположим, что модель увидит связь, что цена должна быть видимо завышена при прочих равных условиях, если время экспозиции велико."
   ]
  },
  {
   "cell_type": "code",
   "execution_count": 13,
   "metadata": {
    "colab": {
     "base_uri": "https://localhost:8080/",
     "height": 179
    },
    "id": "57O8bnwPLN3T",
    "outputId": "ec05f7a7-148c-4c4c-e6c3-c026e0dcf46e"
   },
   "outputs": [
    {
     "data": {
      "text/html": [
       "<div>\n",
       "<style scoped>\n",
       "    .dataframe tbody tr th:only-of-type {\n",
       "        vertical-align: middle;\n",
       "    }\n",
       "\n",
       "    .dataframe tbody tr th {\n",
       "        vertical-align: top;\n",
       "    }\n",
       "\n",
       "    .dataframe thead th {\n",
       "        text-align: right;\n",
       "    }\n",
       "</style>\n",
       "<table border=\"1\" class=\"dataframe\">\n",
       "  <thead>\n",
       "    <tr style=\"text-align: right;\">\n",
       "      <th></th>\n",
       "      <th>date_crawled</th>\n",
       "      <th>price</th>\n",
       "      <th>vehicle_type</th>\n",
       "      <th>registration_year</th>\n",
       "      <th>gearbox</th>\n",
       "      <th>power</th>\n",
       "      <th>model</th>\n",
       "      <th>kilometer</th>\n",
       "      <th>registration_month</th>\n",
       "      <th>fuel_type</th>\n",
       "      <th>brand</th>\n",
       "      <th>repaired</th>\n",
       "      <th>date_created</th>\n",
       "      <th>number_of_pictures</th>\n",
       "      <th>postal_code</th>\n",
       "      <th>last_seen</th>\n",
       "      <th>diff_days</th>\n",
       "    </tr>\n",
       "  </thead>\n",
       "  <tbody>\n",
       "    <tr>\n",
       "      <th>0</th>\n",
       "      <td>2016-03-24 11:52:17</td>\n",
       "      <td>480</td>\n",
       "      <td>NaN</td>\n",
       "      <td>1993</td>\n",
       "      <td>manual</td>\n",
       "      <td>0</td>\n",
       "      <td>golf</td>\n",
       "      <td>150000</td>\n",
       "      <td>0</td>\n",
       "      <td>petrol</td>\n",
       "      <td>volkswagen</td>\n",
       "      <td>NaN</td>\n",
       "      <td>20160324</td>\n",
       "      <td>0</td>\n",
       "      <td>70435</td>\n",
       "      <td>2016-04-07 03:16:57</td>\n",
       "      <td>14.136771</td>\n",
       "    </tr>\n",
       "  </tbody>\n",
       "</table>\n",
       "</div>"
      ],
      "text/plain": [
       "         date_crawled  price vehicle_type  registration_year gearbox  power  \\\n",
       "0 2016-03-24 11:52:17    480          NaN               1993  manual      0   \n",
       "\n",
       "  model  kilometer  registration_month fuel_type       brand repaired  \\\n",
       "0  golf     150000                   0    petrol  volkswagen      NaN   \n",
       "\n",
       "   date_created  number_of_pictures  postal_code           last_seen  \\\n",
       "0      20160324                   0        70435 2016-04-07 03:16:57   \n",
       "\n",
       "   diff_days  \n",
       "0  14.136771  "
      ]
     },
     "execution_count": 13,
     "metadata": {},
     "output_type": "execute_result"
    }
   ],
   "source": [
    "# Создадим столбей для времени экспозиции\n",
    "data['diff_days'] =(data['last_seen'] - data['date_created']) / np.timedelta64 ( 1 , 'D')\n",
    "\n",
    "# Преобразуем признак date_created в формат целого числа для использования в дальнейшем обучении\n",
    "data['date_created'] = data['date_created'].dt.strftime(\"%Y%m%d\").astype(int)\n",
    "data.head(1)"
   ]
  },
  {
   "cell_type": "markdown",
   "metadata": {
    "id": "96b0FZ58XmA4"
   },
   "source": [
    "### Удаление неинформативных признаков\n",
    "\n",
    "Удалим неинформативный признак number_of_pictures, так как в нем нет данных. Так же удалим столбец с датой загрузки объявления. Так как если модели и получится найти какую-то связь между временем загрузки объявления и ценой в тренировочных данных, то это будет не нужная связь для дальнейшего применения модели на практике. Остальные даты тоже удалим, будем использовать только разницу между датой создания объявления и последней активностью пользователя. Не будем удаляь дату создания объявления, чтобы учесть год в котором продавался автомобиль, возможную инфляцию и подобные факторы."
   ]
  },
  {
   "cell_type": "code",
   "execution_count": 14,
   "metadata": {
    "colab": {
     "base_uri": "https://localhost:8080/",
     "height": 145
    },
    "id": "9zUW0XkJOcJy",
    "outputId": "9dcbe0c7-7d72-4efe-98ea-3d953236e5af"
   },
   "outputs": [
    {
     "data": {
      "text/html": [
       "<div>\n",
       "<style scoped>\n",
       "    .dataframe tbody tr th:only-of-type {\n",
       "        vertical-align: middle;\n",
       "    }\n",
       "\n",
       "    .dataframe tbody tr th {\n",
       "        vertical-align: top;\n",
       "    }\n",
       "\n",
       "    .dataframe thead th {\n",
       "        text-align: right;\n",
       "    }\n",
       "</style>\n",
       "<table border=\"1\" class=\"dataframe\">\n",
       "  <thead>\n",
       "    <tr style=\"text-align: right;\">\n",
       "      <th></th>\n",
       "      <th>price</th>\n",
       "      <th>vehicle_type</th>\n",
       "      <th>registration_year</th>\n",
       "      <th>gearbox</th>\n",
       "      <th>power</th>\n",
       "      <th>model</th>\n",
       "      <th>kilometer</th>\n",
       "      <th>registration_month</th>\n",
       "      <th>fuel_type</th>\n",
       "      <th>brand</th>\n",
       "      <th>repaired</th>\n",
       "      <th>date_created</th>\n",
       "      <th>postal_code</th>\n",
       "      <th>diff_days</th>\n",
       "    </tr>\n",
       "  </thead>\n",
       "  <tbody>\n",
       "    <tr>\n",
       "      <th>0</th>\n",
       "      <td>480</td>\n",
       "      <td>NaN</td>\n",
       "      <td>1993</td>\n",
       "      <td>manual</td>\n",
       "      <td>0</td>\n",
       "      <td>golf</td>\n",
       "      <td>150000</td>\n",
       "      <td>0</td>\n",
       "      <td>petrol</td>\n",
       "      <td>volkswagen</td>\n",
       "      <td>NaN</td>\n",
       "      <td>20160324</td>\n",
       "      <td>70435</td>\n",
       "      <td>14.136771</td>\n",
       "    </tr>\n",
       "  </tbody>\n",
       "</table>\n",
       "</div>"
      ],
      "text/plain": [
       "   price vehicle_type  registration_year gearbox  power model  kilometer  \\\n",
       "0    480          NaN               1993  manual      0  golf     150000   \n",
       "\n",
       "   registration_month fuel_type       brand repaired  date_created  \\\n",
       "0                   0    petrol  volkswagen      NaN      20160324   \n",
       "\n",
       "   postal_code  diff_days  \n",
       "0        70435  14.136771  "
      ]
     },
     "execution_count": 14,
     "metadata": {},
     "output_type": "execute_result"
    }
   ],
   "source": [
    "data.drop(['number_of_pictures', 'date_crawled', 'last_seen'], axis=1, inplace = True)\n",
    "data.head(1)"
   ]
  },
  {
   "cell_type": "markdown",
   "metadata": {
    "id": "hWOtVqOBQetN"
   },
   "source": [
    "### Удалим дубликаты в данных"
   ]
  },
  {
   "cell_type": "code",
   "execution_count": 15,
   "metadata": {
    "colab": {
     "base_uri": "https://localhost:8080/",
     "height": 113
    },
    "id": "W_rdweSOQetT",
    "outputId": "6216bacb-5c1d-41fb-942e-a5e5b79384c7"
   },
   "outputs": [
    {
     "data": {
      "text/html": [
       "<div>\n",
       "<style scoped>\n",
       "    .dataframe tbody tr th:only-of-type {\n",
       "        vertical-align: middle;\n",
       "    }\n",
       "\n",
       "    .dataframe tbody tr th {\n",
       "        vertical-align: top;\n",
       "    }\n",
       "\n",
       "    .dataframe thead th {\n",
       "        text-align: right;\n",
       "    }\n",
       "</style>\n",
       "<table border=\"1\" class=\"dataframe\">\n",
       "  <thead>\n",
       "    <tr style=\"text-align: right;\">\n",
       "      <th></th>\n",
       "      <th>price</th>\n",
       "      <th>vehicle_type</th>\n",
       "      <th>registration_year</th>\n",
       "      <th>gearbox</th>\n",
       "      <th>power</th>\n",
       "      <th>model</th>\n",
       "      <th>kilometer</th>\n",
       "      <th>registration_month</th>\n",
       "      <th>fuel_type</th>\n",
       "      <th>brand</th>\n",
       "      <th>repaired</th>\n",
       "      <th>date_created</th>\n",
       "      <th>postal_code</th>\n",
       "      <th>diff_days</th>\n",
       "    </tr>\n",
       "  </thead>\n",
       "  <tbody>\n",
       "  </tbody>\n",
       "</table>\n",
       "</div>"
      ],
      "text/plain": [
       "Empty DataFrame\n",
       "Columns: [price, vehicle_type, registration_year, gearbox, power, model, kilometer, registration_month, fuel_type, brand, repaired, date_created, postal_code, diff_days]\n",
       "Index: []"
      ]
     },
     "execution_count": 15,
     "metadata": {},
     "output_type": "execute_result"
    }
   ],
   "source": [
    "#data.drop_duplicates(subset =\n",
    "#                     # Ищем полные дубликаты по всем столбцам, исключая  столбцы с датами\n",
    "#                     data.filter(regex='^(?!date|last)').columns,\n",
    "#                     keep='last',\n",
    "#                     inplace=True)\n",
    "data.drop_duplicates(keep='last', inplace=True)\n",
    "data[data.duplicated()]\n",
    "#data[data.duplicated(subset =\n",
    "#                     # Ищем полные дубликаты по всем столбцам, исключая  столбцы с датами\n",
    "#                     data.filter(regex='^(?!date|last)')\n",
    "#                     .columns)]"
   ]
  },
  {
   "cell_type": "markdown",
   "metadata": {
    "id": "WKY3dShcRvso"
   },
   "source": [
    "### Заполним пропуски\n",
    "в строковых столбцах словом 'missed'. Некоторые модели бустинга могут работать с пропусками как с отдельной категорией. Но в данном проекте будут использоваться и другие модели, для которых необходимо устранить пропуски в данных."
   ]
  },
  {
   "cell_type": "code",
   "execution_count": 16,
   "metadata": {
    "colab": {
     "base_uri": "https://localhost:8080/"
    },
    "id": "PNriVYtZSwJx",
    "outputId": "e5e955db-ded7-46dc-e2ca-f6c9053f5cb4"
   },
   "outputs": [
    {
     "name": "stdout",
     "output_type": "stream",
     "text": [
      "<class 'pandas.core.frame.DataFrame'>\n",
      "Int64Index: 354280 entries, 0 to 354368\n",
      "Data columns (total 14 columns):\n",
      " #   Column              Non-Null Count   Dtype  \n",
      "---  ------              --------------   -----  \n",
      " 0   price               354280 non-null  int64  \n",
      " 1   vehicle_type        354280 non-null  object \n",
      " 2   registration_year   354280 non-null  int64  \n",
      " 3   gearbox             354280 non-null  object \n",
      " 4   power               354280 non-null  int64  \n",
      " 5   model               354280 non-null  object \n",
      " 6   kilometer           354280 non-null  int64  \n",
      " 7   registration_month  354280 non-null  int64  \n",
      " 8   fuel_type           354280 non-null  object \n",
      " 9   brand               354280 non-null  object \n",
      " 10  repaired            354280 non-null  object \n",
      " 11  date_created        354280 non-null  int64  \n",
      " 12  postal_code         354280 non-null  int64  \n",
      " 13  diff_days           354280 non-null  float64\n",
      "dtypes: float64(1), int64(7), object(6)\n",
      "memory usage: 40.5+ MB\n"
     ]
    }
   ],
   "source": [
    "#Выбираем только строковые столбцы\n",
    "#data.select_dtypes(include='object').fillna('missed', inplace=True)\n",
    "data.fillna('missed', inplace=True)\n",
    "data.info()"
   ]
  },
  {
   "cell_type": "markdown",
   "metadata": {
    "id": "oq_i1e13W3K4"
   },
   "source": [
    "Сбросим индексы после удавления строк"
   ]
  },
  {
   "cell_type": "code",
   "execution_count": 17,
   "metadata": {
    "id": "PAUeqmH-VH0R"
   },
   "outputs": [],
   "source": [
    "data.reset_index(drop=True, inplace=True)"
   ]
  },
  {
   "cell_type": "markdown",
   "metadata": {
    "id": "MXOJqVljcAwe"
   },
   "source": [
    "### Удалим аномальные значения"
   ]
  },
  {
   "cell_type": "markdown",
   "metadata": {
    "id": "o3fuqGkameF2"
   },
   "source": [
    "Признак `price`.\n",
    "\n"
   ]
  },
  {
   "cell_type": "code",
   "execution_count": 18,
   "metadata": {
    "colab": {
     "base_uri": "https://localhost:8080/"
    },
    "id": "IyIwXtnBodfT",
    "outputId": "0f5b4c12-caac-414b-b8be-2227c01a7680"
   },
   "outputs": [
    {
     "name": "stdout",
     "output_type": "stream",
     "text": [
      "Объявлений с ценной 0: 10771\n"
     ]
    }
   ],
   "source": [
    "print('Объявлений с ценной 0:', data.query('price == 0').shape[0])"
   ]
  },
  {
   "cell_type": "markdown",
   "metadata": {
    "id": "0K-ZEhXTYNY7"
   },
   "source": [
    "Признак `registration_year`.\n",
    "\n",
    "Удалим даты регистрации до 1900 года и после 2017. Так как сбор данных был в 2016 году. Авто 2017 сразу удалять не будем так как может нужно выяснять может быть в этом признаке авто следующего года несут какой-то смысл. Потому что таких авто довольно много и ввод 2017 в 2016 мог быть и не случайной ошибкой и аномалией."
   ]
  },
  {
   "cell_type": "code",
   "execution_count": 19,
   "metadata": {
    "colab": {
     "base_uri": "https://localhost:8080/"
    },
    "id": "TD7_RXtzYEib",
    "outputId": "e052647f-6689-46eb-cfe3-54069bb6e80e"
   },
   "outputs": [
    {
     "name": "stdout",
     "output_type": "stream",
     "text": [
      "Объявлений до удаления: 354280\n",
      "Объявлений после удаления: 350125\n"
     ]
    }
   ],
   "source": [
    "print('Объявлений до удаления:', data.shape[0])\n",
    "data=data.query('registration_year > 1900 and registration_year < 2018')\n",
    "print('Объявлений после удаления:', data.shape[0])"
   ]
  },
  {
   "cell_type": "markdown",
   "metadata": {
    "id": "dz8TiJysh0cS"
   },
   "source": [
    "Признак `power`.\n",
    "\n",
    "Удалим мощности двигателей автомобилей больше 1000. Так как это аномальной высокая мощность и даже если это реальные автомобили, а не ошибка, они вероятно будут слишком редкими чтобы модель хорошо обучилась предсказывать их цену. В Данных есть много автомобилей с мощностью 0. Но их удалять не будем, будем считать 0 мощности это заглушкой, сигнализирующей отсутствие данных."
   ]
  },
  {
   "cell_type": "code",
   "execution_count": 20,
   "metadata": {
    "colab": {
     "base_uri": "https://localhost:8080/"
    },
    "id": "RGAzMaaQh0cU",
    "outputId": "739c2a1b-9a4a-43b3-ad92-856c70271411",
    "scrolled": true
   },
   "outputs": [
    {
     "name": "stdout",
     "output_type": "stream",
     "text": [
      "Объявлений с мощностью 0: 39110\n",
      "Объявлений после удаления: 349829\n"
     ]
    }
   ],
   "source": [
    "data=data.query('power < 1000')\n",
    "print('Объявлений с мощностью 0:', data.query('power == 0').shape[0])\n",
    "print('Объявлений после удаления:', data.shape[0])"
   ]
  },
  {
   "cell_type": "markdown",
   "metadata": {},
   "source": [
    "Заменяем на столбце `power` с мощностью 0 на средний мощзность с помощью функции `median()`"
   ]
  },
  {
   "cell_type": "code",
   "execution_count": 21,
   "metadata": {},
   "outputs": [],
   "source": [
    "data.loc[(data['power'] == 0), 'power'] = data['power'].median()"
   ]
  },
  {
   "cell_type": "markdown",
   "metadata": {
    "id": "yYoJ9-xZlj5i"
   },
   "source": [
    "Признак `kilometer`.\n",
    "\n",
    "В признаке пробег не было обнаружено аномальных значений. Пробег укладывается в нормальные 150 тыс. км. Что довольно неожиданно так как должны быть и реальные автомобили с большим пробегом. Возможно продавцы не всегда указывают реальный пробег."
   ]
  },
  {
   "cell_type": "markdown",
   "metadata": {
    "id": "o3fuqGkameF2"
   },
   "source": [
    "Признак `registration_month`.\n",
    "\n",
    "Есть значительное число данных с месяцем регистрации 0. Не будем их удалять так как этих данных довольно много с одной стороны. А с другой стороны можно считать величину 0 заглушкой, сигнализирующей об отсутствии данных."
   ]
  },
  {
   "cell_type": "code",
   "execution_count": 22,
   "metadata": {
    "colab": {
     "base_uri": "https://localhost:8080/"
    },
    "id": "IyIwXtnBodfT",
    "outputId": "0f5b4c12-caac-414b-b8be-2227c01a7680"
   },
   "outputs": [
    {
     "name": "stdout",
     "output_type": "stream",
     "text": [
      "Объявлений с месяцем регистрации 0: 36290\n"
     ]
    }
   ],
   "source": [
    "print('Объявлений с месяцем регистрации 0:', data.query('registration_month == 0').shape[0])"
   ]
  },
  {
   "cell_type": "code",
   "execution_count": 40,
   "metadata": {
    "colab": {
     "base_uri": "https://localhost:8080/"
    },
    "id": "IyIwXtnBodfT",
    "outputId": "0f5b4c12-caac-414b-b8be-2227c01a7680"
   },
   "outputs": [
    {
     "name": "stdout",
     "output_type": "stream",
     "text": [
      "Объявлений с ценной 0: 10538\n"
     ]
    }
   ],
   "source": [
    "print('Объявлений с ценной 0:', data.query('price == 0').shape[0])"
   ]
  },
  {
   "cell_type": "code",
   "execution_count": 41,
   "metadata": {},
   "outputs": [],
   "source": [
    "data.loc[(data['price'] == 0), 'price'] = data['price'].median()"
   ]
  },
  {
   "cell_type": "code",
   "execution_count": 45,
   "metadata": {},
   "outputs": [
    {
     "data": {
      "image/png": "[encoded data removed]",
      "text/plain": [
       "<Figure size 800x480 with 1 Axes>"
      ]
     },
     "metadata": {
      "needs_background": "light"
     },
     "output_type": "display_data"
    }
   ],
   "source": [
    "# Draw Plot\n",
    "plt.figure(figsize=(10,6), dpi= 80)\n",
    "sns.violinplot(y='price', data=data, scale='width', inner='quartile', grid=True)\n",
    "\n",
    "# Decoration\n",
    "plt.title('Бокс-плот по выборке по цене л.с. после обработки', fontsize=10)\n",
    "plt.show()"
   ]
  },
  {
   "cell_type": "markdown",
   "metadata": {
    "id": "C3eBP2wSplK8"
   },
   "source": [
    "## Обучение моделей"
   ]
  },
  {
   "cell_type": "markdown",
   "metadata": {
    "id": "Gz2ZobLgAfvI"
   },
   "source": [
    "### Разобьем данные на выборки"
   ]
  },
  {
   "cell_type": "code",
   "execution_count": 23,
   "metadata": {
    "colab": {
     "base_uri": "https://localhost:8080/"
    },
    "id": "rwslZEx247m3",
    "outputId": "c2b91e3a-6a9e-4859-ca83-e4b3ab140915"
   },
   "outputs": [
    {
     "name": "stdout",
     "output_type": "stream",
     "text": [
      "train - 262371 262371\n",
      "test - 87458 87458\n"
     ]
    }
   ],
   "source": [
    "# Выделим обучающую выборку для кросс валидации: 'train' и тестовую: 'test'\n",
    "X_train, X_test, y_train, y_test = train_test_split(\n",
    "    data.drop('price', axis=1),\n",
    "    data['price'],\n",
    "    test_size=0.25, random_state=RANDOM_STATE)\n",
    "\n",
    "# Проверим размер выборок\n",
    "print('train -', len(X_train), len(y_train))\n",
    "print('test -',len(X_test), len(y_test))"
   ]
  },
  {
   "cell_type": "markdown",
   "metadata": {
    "id": "6GxY_8mCYmKz"
   },
   "source": [
    "### Трансформируем категориальные признаки\n",
    "С помощью TargetEncoder переведем категориальные строковые столбцы в числовой формат. Закодированные таким образом категориальные признаки будем использовать только для модели RandomForest."
   ]
  },
  {
   "cell_type": "code",
   "execution_count": 24,
   "metadata": {
    "colab": {
     "base_uri": "https://localhost:8080/",
     "height": 334
    },
    "id": "VqNTzFPmYmK5",
    "outputId": "965f1653-6d5d-49dd-878b-b40972556726"
   },
   "outputs": [
    {
     "data": {
      "text/html": [
       "<div>\n",
       "<style scoped>\n",
       "    .dataframe tbody tr th:only-of-type {\n",
       "        vertical-align: middle;\n",
       "    }\n",
       "\n",
       "    .dataframe tbody tr th {\n",
       "        vertical-align: top;\n",
       "    }\n",
       "\n",
       "    .dataframe thead th {\n",
       "        text-align: right;\n",
       "    }\n",
       "</style>\n",
       "<table border=\"1\" class=\"dataframe\">\n",
       "  <thead>\n",
       "    <tr style=\"text-align: right;\">\n",
       "      <th></th>\n",
       "      <th>vehicle_type</th>\n",
       "      <th>gearbox</th>\n",
       "      <th>model</th>\n",
       "      <th>fuel_type</th>\n",
       "      <th>brand</th>\n",
       "      <th>repaired</th>\n",
       "      <th>registration_year</th>\n",
       "      <th>power</th>\n",
       "      <th>kilometer</th>\n",
       "      <th>registration_month</th>\n",
       "      <th>date_created</th>\n",
       "      <th>postal_code</th>\n",
       "      <th>diff_days</th>\n",
       "    </tr>\n",
       "  </thead>\n",
       "  <tbody>\n",
       "    <tr>\n",
       "      <th>4439</th>\n",
       "      <td>5473.392793</td>\n",
       "      <td>6841.387339</td>\n",
       "      <td>6708.582226</td>\n",
       "      <td>3752.477271</td>\n",
       "      <td>4392.243861</td>\n",
       "      <td>5300.666073</td>\n",
       "      <td>1992</td>\n",
       "      <td>110.0</td>\n",
       "      <td>150000</td>\n",
       "      <td>5</td>\n",
       "      <td>20160306</td>\n",
       "      <td>15711</td>\n",
       "      <td>31.448912</td>\n",
       "    </tr>\n",
       "    <tr>\n",
       "      <th>306121</th>\n",
       "      <td>6033.562238</td>\n",
       "      <td>3984.601158</td>\n",
       "      <td>9907.209249</td>\n",
       "      <td>6577.942148</td>\n",
       "      <td>6182.198664</td>\n",
       "      <td>5300.666073</td>\n",
       "      <td>2011</td>\n",
       "      <td>204.0</td>\n",
       "      <td>100000</td>\n",
       "      <td>4</td>\n",
       "      <td>20160307</td>\n",
       "      <td>46485</td>\n",
       "      <td>3.552338</td>\n",
       "    </tr>\n",
       "    <tr>\n",
       "      <th>128869</th>\n",
       "      <td>2671.586828</td>\n",
       "      <td>3984.601158</td>\n",
       "      <td>1381.300525</td>\n",
       "      <td>3752.477271</td>\n",
       "      <td>2285.424371</td>\n",
       "      <td>5300.666073</td>\n",
       "      <td>2001</td>\n",
       "      <td>58.0</td>\n",
       "      <td>150000</td>\n",
       "      <td>3</td>\n",
       "      <td>20160323</td>\n",
       "      <td>32107</td>\n",
       "      <td>0.696713</td>\n",
       "    </tr>\n",
       "  </tbody>\n",
       "</table>\n",
       "</div>"
      ],
      "text/plain": [
       "        vehicle_type      gearbox        model    fuel_type        brand  \\\n",
       "4439     5473.392793  6841.387339  6708.582226  3752.477271  4392.243861   \n",
       "306121   6033.562238  3984.601158  9907.209249  6577.942148  6182.198664   \n",
       "128869   2671.586828  3984.601158  1381.300525  3752.477271  2285.424371   \n",
       "\n",
       "           repaired  registration_year  power  kilometer  registration_month  \\\n",
       "4439    5300.666073               1992  110.0     150000                   5   \n",
       "306121  5300.666073               2011  204.0     100000                   4   \n",
       "128869  5300.666073               2001   58.0     150000                   3   \n",
       "\n",
       "        date_created  postal_code  diff_days  \n",
       "4439        20160306        15711  31.448912  \n",
       "306121      20160307        46485   3.552338  \n",
       "128869      20160323        32107   0.696713  "
      ]
     },
     "metadata": {},
     "output_type": "display_data"
    },
    {
     "data": {
      "text/html": [
       "<div>\n",
       "<style scoped>\n",
       "    .dataframe tbody tr th:only-of-type {\n",
       "        vertical-align: middle;\n",
       "    }\n",
       "\n",
       "    .dataframe tbody tr th {\n",
       "        vertical-align: top;\n",
       "    }\n",
       "\n",
       "    .dataframe thead th {\n",
       "        text-align: right;\n",
       "    }\n",
       "</style>\n",
       "<table border=\"1\" class=\"dataframe\">\n",
       "  <thead>\n",
       "    <tr style=\"text-align: right;\">\n",
       "      <th></th>\n",
       "      <th>vehicle_type</th>\n",
       "      <th>gearbox</th>\n",
       "      <th>model</th>\n",
       "      <th>fuel_type</th>\n",
       "      <th>brand</th>\n",
       "      <th>repaired</th>\n",
       "      <th>registration_year</th>\n",
       "      <th>power</th>\n",
       "      <th>kilometer</th>\n",
       "      <th>registration_month</th>\n",
       "      <th>date_created</th>\n",
       "      <th>postal_code</th>\n",
       "      <th>diff_days</th>\n",
       "    </tr>\n",
       "  </thead>\n",
       "  <tbody>\n",
       "    <tr>\n",
       "      <th>304250</th>\n",
       "      <td>4715.177069</td>\n",
       "      <td>6841.387339</td>\n",
       "      <td>4518.729816</td>\n",
       "      <td>3752.477271</td>\n",
       "      <td>4392.243861</td>\n",
       "      <td>5300.666073</td>\n",
       "      <td>2006</td>\n",
       "      <td>150.0</td>\n",
       "      <td>60000</td>\n",
       "      <td>3</td>\n",
       "      <td>20160325</td>\n",
       "      <td>21033</td>\n",
       "      <td>12.947928</td>\n",
       "    </tr>\n",
       "    <tr>\n",
       "      <th>210452</th>\n",
       "      <td>6806.108221</td>\n",
       "      <td>3984.601158</td>\n",
       "      <td>2598.099831</td>\n",
       "      <td>3752.477271</td>\n",
       "      <td>2721.824666</td>\n",
       "      <td>5300.666073</td>\n",
       "      <td>2008</td>\n",
       "      <td>90.0</td>\n",
       "      <td>125000</td>\n",
       "      <td>4</td>\n",
       "      <td>20160315</td>\n",
       "      <td>23845</td>\n",
       "      <td>18.323056</td>\n",
       "    </tr>\n",
       "    <tr>\n",
       "      <th>282839</th>\n",
       "      <td>2233.466656</td>\n",
       "      <td>6841.387339</td>\n",
       "      <td>6194.649446</td>\n",
       "      <td>3752.477271</td>\n",
       "      <td>5910.789705</td>\n",
       "      <td>5300.666073</td>\n",
       "      <td>2000</td>\n",
       "      <td>105.0</td>\n",
       "      <td>150000</td>\n",
       "      <td>11</td>\n",
       "      <td>20160323</td>\n",
       "      <td>13347</td>\n",
       "      <td>0.653750</td>\n",
       "    </tr>\n",
       "  </tbody>\n",
       "</table>\n",
       "</div>"
      ],
      "text/plain": [
       "        vehicle_type      gearbox        model    fuel_type        brand  \\\n",
       "304250   4715.177069  6841.387339  4518.729816  3752.477271  4392.243861   \n",
       "210452   6806.108221  3984.601158  2598.099831  3752.477271  2721.824666   \n",
       "282839   2233.466656  6841.387339  6194.649446  3752.477271  5910.789705   \n",
       "\n",
       "           repaired  registration_year  power  kilometer  registration_month  \\\n",
       "304250  5300.666073               2006  150.0      60000                   3   \n",
       "210452  5300.666073               2008   90.0     125000                   4   \n",
       "282839  5300.666073               2000  105.0     150000                  11   \n",
       "\n",
       "        date_created  postal_code  diff_days  \n",
       "304250      20160325        21033  12.947928  \n",
       "210452      20160315        23845  18.323056  \n",
       "282839      20160323        13347   0.653750  "
      ]
     },
     "metadata": {},
     "output_type": "display_data"
    }
   ],
   "source": [
    "# Найдем категориальные признаки\n",
    "cat_features = data.select_dtypes(include='object').columns.tolist()\n",
    "\n",
    "tenc=TargetEncoder()\n",
    "# Проводим трансформацию категориальных столбцов cat_features для тренировочной выборки используя целевой признак y_train\n",
    "df=tenc.fit_transform(X_train[cat_features], y_train)\n",
    "X_train_cat = df.join(X_train.drop(cat_features, axis = 1))\n",
    "display(X_train_cat.head(3))\n",
    "\n",
    "# Проводим трансформацию тестовойвыборки на ранее обученном кодировщике tenc без испольования целевого признака y_test (чтобы не было утечки целевого признака)\n",
    "df=tenc.transform(X_test[cat_features])\n",
    "X_test_cat = df.join(X_test.drop(cat_features, axis = 1))\n",
    "display(X_test_cat.head(3))"
   ]
  },
  {
   "cell_type": "markdown",
   "metadata": {
    "id": "69DGlNjLAsLy"
   },
   "source": [
    "### Обучим LGBMRegressor"
   ]
  },
  {
   "cell_type": "markdown",
   "metadata": {
    "id": "D_nqDs9WAsL3"
   },
   "source": [
    "Отметим категориальные столбцы"
   ]
  },
  {
   "cell_type": "code",
   "execution_count": 25,
   "metadata": {
    "colab": {
     "base_uri": "https://localhost:8080/"
    },
    "id": "dQgv1mlLAsL3",
    "outputId": "b69a61aa-560a-4cda-8342-11708a45189a",
    "scrolled": false
   },
   "outputs": [
    {
     "name": "stdout",
     "output_type": "stream",
     "text": [
      "<class 'pandas.core.frame.DataFrame'>\n",
      "Int64Index: 262371 entries, 4439 to 220349\n",
      "Data columns (total 13 columns):\n",
      " #   Column              Non-Null Count   Dtype   \n",
      "---  ------              --------------   -----   \n",
      " 0   vehicle_type        262371 non-null  category\n",
      " 1   registration_year   262371 non-null  int64   \n",
      " 2   gearbox             262371 non-null  category\n",
      " 3   power               262371 non-null  float64 \n",
      " 4   model               262371 non-null  category\n",
      " 5   kilometer           262371 non-null  int64   \n",
      " 6   registration_month  262371 non-null  int64   \n",
      " 7   fuel_type           262371 non-null  category\n",
      " 8   brand               262371 non-null  category\n",
      " 9   repaired            262371 non-null  category\n",
      " 10  date_created        262371 non-null  int64   \n",
      " 11  postal_code         262371 non-null  int64   \n",
      " 12  diff_days           262371 non-null  float64 \n",
      "dtypes: category(6), float64(2), int64(5)\n",
      "memory usage: 25.8 MB\n",
      "<class 'pandas.core.frame.DataFrame'>\n",
      "Int64Index: 87458 entries, 304250 to 100815\n",
      "Data columns (total 13 columns):\n",
      " #   Column              Non-Null Count  Dtype   \n",
      "---  ------              --------------  -----   \n",
      " 0   vehicle_type        87458 non-null  category\n",
      " 1   registration_year   87458 non-null  int64   \n",
      " 2   gearbox             87458 non-null  category\n",
      " 3   power               87458 non-null  float64 \n",
      " 4   model               87458 non-null  category\n",
      " 5   kilometer           87458 non-null  int64   \n",
      " 6   registration_month  87458 non-null  int64   \n",
      " 7   fuel_type           87458 non-null  category\n",
      " 8   brand               87458 non-null  category\n",
      " 9   repaired            87458 non-null  category\n",
      " 10  date_created        87458 non-null  int64   \n",
      " 11  postal_code         87458 non-null  int64   \n",
      " 12  diff_days           87458 non-null  float64 \n",
      "dtypes: category(6), float64(2), int64(5)\n",
      "memory usage: 7.9 MB\n"
     ]
    }
   ],
   "source": [
    "X_train_type = X_train.copy()\n",
    "X_test_type = X_test.copy()\n",
    "for col in cat_features:\n",
    "  X_train_type[col] = X_train_type[col].astype('category')\n",
    "  X_test_type[col] = X_test_type[col].astype('category')\n",
    "\n",
    "X_train_type.info()\n",
    "X_test_type.info()"
   ]
  },
  {
   "cell_type": "markdown",
   "metadata": {
    "id": "u9mOVa6fAsL4"
   },
   "source": [
    "Обучим модель LGBMRegressor на тренировочной выборке с кросвалидацией и подбором параметров с помощью GridSearchCV"
   ]
  },
  {
   "cell_type": "code",
   "execution_count": 26,
   "metadata": {
    "colab": {
     "base_uri": "https://localhost:8080/"
    },
    "id": "jzkmbkYHAsL4",
    "outputId": "bf49e025-0834-4c92-c987-36fba778a4ca"
   },
   "outputs": [
    {
     "name": "stdout",
     "output_type": "stream",
     "text": [
      "Fitting 3 folds for each of 4 candidates, totalling 12 fits\n",
      "LGBMRegressor:\n",
      "Лучшие параметры: {'learning_rate': 0.15, 'n_estimators': 300}\n",
      "RMSE для лучших параметров: 1691.57\n",
      "CPU times: user 2min 27s, sys: 553 ms, total: 2min 28s\n",
      "Wall time: 2min 29s\n"
     ]
    }
   ],
   "source": [
    "%%time\n",
    "# Гиперпараметры для перебора\n",
    "param_grid_lgb = {\n",
    "    'learning_rate': [0.15, 0.1],\n",
    "    'n_estimators': [100, 300]\n",
    "}\n",
    "\n",
    "# Инициализируем LGBMRegressor estimattor\n",
    "estimator = lgb.LGBMRegressor(objective='regression',\n",
    "                              random_state=RANDOM_STATE,\n",
    "                              n_estimators=300)\n",
    "\n",
    "# Инициализируем Grid Search\n",
    "model_lgb = GridSearchCV(estimator=estimator,\n",
    "                     param_grid=param_grid_lgb,\n",
    "                     cv=3,\n",
    "                     n_jobs=-1,\n",
    "                     scoring='neg_root_mean_squared_error',\n",
    "                     verbose=1)\n",
    "model_lgb.fit(X_train_type, y_train)\n",
    "\n",
    "# Выводим лучшие параметры поиска\n",
    "print('LGBMRegressor:')\n",
    "print(f'Лучшие параметры: {model_lgb.best_params_}')\n",
    "print(f'RMSE для лучших параметров:', round(model_lgb.best_score_*(-1), 2))"
   ]
  },
  {
   "cell_type": "markdown",
   "metadata": {
    "id": "ph_oMdfHE9N1"
   },
   "source": [
    "### Обучим CatBoostRegressor"
   ]
  },
  {
   "cell_type": "code",
   "execution_count": 27,
   "metadata": {
    "colab": {
     "base_uri": "https://localhost:8080/"
    },
    "id": "hD3MpEBX6pa-",
    "outputId": "2c91ce94-04d0-4360-c075-1bf7e6921946"
   },
   "outputs": [
    {
     "name": "stdout",
     "output_type": "stream",
     "text": [
      "Fitting 3 folds for each of 4 candidates, totalling 12 fits\n",
      "[CV 1/3; 1/4] START depth=6, learning_rate=0.1..................................\n",
      "0:\tlearn: 4240.1252195\ttotal: 144ms\tremaining: 14.2s\n",
      "10:\tlearn: 2749.6619624\ttotal: 778ms\tremaining: 6.29s\n",
      "20:\tlearn: 2283.6497894\ttotal: 1.38s\tremaining: 5.21s\n",
      "30:\tlearn: 2101.1313233\ttotal: 2.01s\tremaining: 4.47s\n",
      "40:\tlearn: 2022.1510484\ttotal: 2.62s\tremaining: 3.77s\n",
      "50:\tlearn: 1977.3522445\ttotal: 3.24s\tremaining: 3.11s\n",
      "60:\tlearn: 1944.5722722\ttotal: 3.92s\tremaining: 2.51s\n",
      "70:\tlearn: 1919.9999960\ttotal: 4.53s\tremaining: 1.85s\n",
      "80:\tlearn: 1893.5712789\ttotal: 5.16s\tremaining: 1.21s\n",
      "90:\tlearn: 1876.3319499\ttotal: 5.8s\tremaining: 574ms\n",
      "99:\tlearn: 1863.7751620\ttotal: 6.35s\tremaining: 0us\n",
      "[CV 1/3; 1/4] END ................depth=6, learning_rate=0.1; total time=   7.7s\n",
      "[CV 2/3; 1/4] START depth=6, learning_rate=0.1..................................\n",
      "0:\tlearn: 4239.0707331\ttotal: 72.9ms\tremaining: 7.22s\n",
      "10:\tlearn: 2757.6903074\ttotal: 726ms\tremaining: 5.87s\n",
      "20:\tlearn: 2303.3318982\ttotal: 1.36s\tremaining: 5.13s\n",
      "30:\tlearn: 2123.0455478\ttotal: 1.97s\tremaining: 4.38s\n",
      "40:\tlearn: 2040.7119077\ttotal: 2.58s\tremaining: 3.72s\n",
      "50:\tlearn: 1996.1373536\ttotal: 3.23s\tremaining: 3.1s\n",
      "60:\tlearn: 1964.7198242\ttotal: 3.87s\tremaining: 2.47s\n",
      "70:\tlearn: 1942.6035293\ttotal: 4.51s\tremaining: 1.84s\n",
      "80:\tlearn: 1922.9834426\ttotal: 5.13s\tremaining: 1.2s\n",
      "90:\tlearn: 1897.6592951\ttotal: 5.75s\tremaining: 569ms\n",
      "99:\tlearn: 1881.7940291\ttotal: 6.36s\tremaining: 0us\n",
      "[CV 2/3; 1/4] END ................depth=6, learning_rate=0.1; total time=   7.6s\n",
      "[CV 3/3; 1/4] START depth=6, learning_rate=0.1..................................\n",
      "0:\tlearn: 4246.2544742\ttotal: 72.1ms\tremaining: 7.14s\n",
      "10:\tlearn: 2758.7482414\ttotal: 737ms\tremaining: 5.96s\n",
      "20:\tlearn: 2293.1586726\ttotal: 1.35s\tremaining: 5.1s\n",
      "30:\tlearn: 2111.4174433\ttotal: 1.98s\tremaining: 4.4s\n",
      "40:\tlearn: 2031.7820464\ttotal: 2.61s\tremaining: 3.75s\n",
      "50:\tlearn: 1985.7997905\ttotal: 3.29s\tremaining: 3.16s\n",
      "60:\tlearn: 1955.9225661\ttotal: 3.91s\tremaining: 2.5s\n",
      "70:\tlearn: 1931.6636673\ttotal: 4.52s\tremaining: 1.85s\n",
      "80:\tlearn: 1909.0884143\ttotal: 5.13s\tremaining: 1.2s\n",
      "90:\tlearn: 1889.5270363\ttotal: 5.75s\tremaining: 569ms\n",
      "99:\tlearn: 1874.4263122\ttotal: 6.33s\tremaining: 0us\n",
      "[CV 3/3; 1/4] END ................depth=6, learning_rate=0.1; total time=   7.5s\n",
      "[CV 1/3; 2/4] START depth=6, learning_rate=0.03.................................\n",
      "0:\tlearn: 4429.3228983\ttotal: 81.2ms\tremaining: 8.03s\n",
      "10:\tlearn: 3725.6057066\ttotal: 728ms\tremaining: 5.89s\n",
      "20:\tlearn: 3240.9436162\ttotal: 1.43s\tremaining: 5.39s\n",
      "30:\tlearn: 2909.2710467\ttotal: 2.09s\tremaining: 4.65s\n",
      "40:\tlearn: 2665.9953541\ttotal: 2.83s\tremaining: 4.07s\n",
      "50:\tlearn: 2493.7916078\ttotal: 3.54s\tremaining: 3.4s\n",
      "60:\tlearn: 2375.0567858\ttotal: 4.16s\tremaining: 2.66s\n",
      "70:\tlearn: 2284.2870534\ttotal: 4.77s\tremaining: 1.95s\n",
      "80:\tlearn: 2205.9499426\ttotal: 5.37s\tremaining: 1.26s\n",
      "90:\tlearn: 2151.4085307\ttotal: 6s\tremaining: 593ms\n",
      "99:\tlearn: 2115.4154080\ttotal: 6.54s\tremaining: 0us\n",
      "[CV 1/3; 2/4] END ...............depth=6, learning_rate=0.03; total time=   7.8s\n",
      "[CV 2/3; 2/4] START depth=6, learning_rate=0.03.................................\n",
      "0:\tlearn: 4434.8261424\ttotal: 71.7ms\tremaining: 7.1s\n",
      "10:\tlearn: 3731.4049766\ttotal: 715ms\tremaining: 5.78s\n",
      "20:\tlearn: 3252.5282867\ttotal: 1.33s\tremaining: 5.02s\n",
      "30:\tlearn: 2925.5186205\ttotal: 1.95s\tremaining: 4.33s\n",
      "40:\tlearn: 2693.0649090\ttotal: 2.6s\tremaining: 3.74s\n",
      "50:\tlearn: 2518.1601943\ttotal: 3.29s\tremaining: 3.16s\n",
      "60:\tlearn: 2397.4613260\ttotal: 3.91s\tremaining: 2.5s\n",
      "70:\tlearn: 2307.1342880\ttotal: 4.54s\tremaining: 1.86s\n",
      "80:\tlearn: 2232.6132676\ttotal: 5.16s\tremaining: 1.21s\n",
      "90:\tlearn: 2174.3859771\ttotal: 5.78s\tremaining: 572ms\n",
      "99:\tlearn: 2136.6066835\ttotal: 6.35s\tremaining: 0us\n",
      "[CV 2/3; 2/4] END ...............depth=6, learning_rate=0.03; total time=   7.8s\n",
      "[CV 3/3; 2/4] START depth=6, learning_rate=0.03.................................\n",
      "0:\tlearn: 4441.3727486\ttotal: 71.2ms\tremaining: 7.05s\n",
      "10:\tlearn: 3731.7719182\ttotal: 710ms\tremaining: 5.74s\n",
      "20:\tlearn: 3247.7063434\ttotal: 1.32s\tremaining: 4.95s\n",
      "30:\tlearn: 2918.7700668\ttotal: 1.95s\tremaining: 4.34s\n",
      "40:\tlearn: 2675.3385461\ttotal: 2.59s\tremaining: 3.73s\n",
      "50:\tlearn: 2506.1077355\ttotal: 3.23s\tremaining: 3.1s\n",
      "60:\tlearn: 2385.2406050\ttotal: 3.87s\tremaining: 2.48s\n",
      "70:\tlearn: 2297.8256544\ttotal: 4.5s\tremaining: 1.84s\n",
      "80:\tlearn: 2220.6122402\ttotal: 5.12s\tremaining: 1.2s\n",
      "90:\tlearn: 2165.6384021\ttotal: 5.81s\tremaining: 575ms\n",
      "99:\tlearn: 2130.4903185\ttotal: 6.4s\tremaining: 0us\n",
      "[CV 3/3; 2/4] END ...............depth=6, learning_rate=0.03; total time=   7.7s\n",
      "[CV 1/3; 3/4] START depth=10, learning_rate=0.1.................................\n",
      "0:\tlearn: 4205.7317718\ttotal: 140ms\tremaining: 13.9s\n",
      "10:\tlearn: 2573.6208902\ttotal: 1.34s\tremaining: 10.9s\n",
      "20:\tlearn: 2098.0382374\ttotal: 2.48s\tremaining: 9.32s\n",
      "30:\tlearn: 1924.1665608\ttotal: 3.59s\tremaining: 8s\n",
      "40:\tlearn: 1855.7424431\ttotal: 4.71s\tremaining: 6.78s\n",
      "50:\tlearn: 1817.0619442\ttotal: 5.83s\tremaining: 5.6s\n",
      "60:\tlearn: 1783.4112033\ttotal: 6.96s\tremaining: 4.45s\n",
      "70:\tlearn: 1757.0534593\ttotal: 8.23s\tremaining: 3.36s\n",
      "80:\tlearn: 1731.3636823\ttotal: 9.49s\tremaining: 2.23s\n",
      "90:\tlearn: 1712.7214028\ttotal: 10.7s\tremaining: 1.06s\n",
      "99:\tlearn: 1697.3034207\ttotal: 11.8s\tremaining: 0us\n",
      "[CV 1/3; 3/4] END ...............depth=10, learning_rate=0.1; total time=  13.1s\n",
      "[CV 2/3; 3/4] START depth=10, learning_rate=0.1.................................\n",
      "0:\tlearn: 4213.4851127\ttotal: 124ms\tremaining: 12.2s\n",
      "10:\tlearn: 2606.9869331\ttotal: 1.27s\tremaining: 10.3s\n",
      "20:\tlearn: 2120.1233543\ttotal: 2.39s\tremaining: 8.99s\n",
      "30:\tlearn: 1947.6959575\ttotal: 3.51s\tremaining: 7.8s\n",
      "40:\tlearn: 1877.1012608\ttotal: 4.69s\tremaining: 6.74s\n",
      "50:\tlearn: 1837.6981851\ttotal: 5.81s\tremaining: 5.58s\n",
      "60:\tlearn: 1805.8831216\ttotal: 6.98s\tremaining: 4.46s\n",
      "70:\tlearn: 1780.0157923\ttotal: 8.14s\tremaining: 3.33s\n",
      "80:\tlearn: 1758.8224396\ttotal: 9.28s\tremaining: 2.18s\n",
      "90:\tlearn: 1742.7349926\ttotal: 10.4s\tremaining: 1.03s\n",
      "99:\tlearn: 1720.5228533\ttotal: 11.6s\tremaining: 0us\n",
      "[CV 2/3; 3/4] END ...............depth=10, learning_rate=0.1; total time=  12.8s\n",
      "[CV 3/3; 3/4] START depth=10, learning_rate=0.1.................................\n",
      "0:\tlearn: 4217.3037774\ttotal: 138ms\tremaining: 13.6s\n",
      "10:\tlearn: 2597.5249303\ttotal: 1.27s\tremaining: 10.3s\n",
      "20:\tlearn: 2105.6094956\ttotal: 2.47s\tremaining: 9.3s\n",
      "30:\tlearn: 1936.2501060\ttotal: 3.62s\tremaining: 8.07s\n",
      "40:\tlearn: 1871.1457583\ttotal: 4.76s\tremaining: 6.85s\n",
      "50:\tlearn: 1831.1161790\ttotal: 5.91s\tremaining: 5.67s\n",
      "60:\tlearn: 1801.1282200\ttotal: 7.11s\tremaining: 4.55s\n",
      "70:\tlearn: 1767.1072230\ttotal: 8.28s\tremaining: 3.38s\n",
      "80:\tlearn: 1744.3410113\ttotal: 9.45s\tremaining: 2.22s\n",
      "90:\tlearn: 1725.0482040\ttotal: 10.6s\tremaining: 1.05s\n",
      "99:\tlearn: 1709.2333947\ttotal: 11.7s\tremaining: 0us\n",
      "[CV 3/3; 3/4] END ...............depth=10, learning_rate=0.1; total time=  13.0s\n",
      "[CV 1/3; 4/4] START depth=10, learning_rate=0.03................................\n",
      "0:\tlearn: 4419.1189721\ttotal: 149ms\tremaining: 14.8s\n",
      "10:\tlearn: 3649.4671027\ttotal: 1.43s\tremaining: 11.5s\n",
      "20:\tlearn: 3122.8259984\ttotal: 2.54s\tremaining: 9.54s\n",
      "30:\tlearn: 2765.0821819\ttotal: 3.65s\tremaining: 8.13s\n",
      "40:\tlearn: 2507.9505704\ttotal: 4.77s\tremaining: 6.86s\n",
      "50:\tlearn: 2321.1476187\ttotal: 5.88s\tremaining: 5.65s\n",
      "60:\tlearn: 2187.9318080\ttotal: 6.96s\tremaining: 4.45s\n",
      "70:\tlearn: 2094.6564051\ttotal: 8.06s\tremaining: 3.29s\n",
      "80:\tlearn: 2024.0095609\ttotal: 9.23s\tremaining: 2.17s\n",
      "90:\tlearn: 1971.6739264\ttotal: 10.3s\tremaining: 1.02s\n",
      "99:\tlearn: 1937.6748042\ttotal: 11.4s\tremaining: 0us\n",
      "[CV 1/3; 4/4] END ..............depth=10, learning_rate=0.03; total time=  12.6s\n",
      "[CV 2/3; 4/4] START depth=10, learning_rate=0.03................................\n",
      "0:\tlearn: 4427.2399168\ttotal: 123ms\tremaining: 12.2s\n",
      "10:\tlearn: 3658.8951952\ttotal: 1.27s\tremaining: 10.3s\n",
      "20:\tlearn: 3133.9513787\ttotal: 2.37s\tremaining: 8.92s\n",
      "30:\tlearn: 2777.8640899\ttotal: 3.49s\tremaining: 7.76s\n",
      "40:\tlearn: 2508.4440851\ttotal: 4.64s\tremaining: 6.67s\n",
      "50:\tlearn: 2329.5277446\ttotal: 5.76s\tremaining: 5.53s\n",
      "60:\tlearn: 2207.7825747\ttotal: 6.93s\tremaining: 4.43s\n",
      "70:\tlearn: 2114.4931670\ttotal: 8.04s\tremaining: 3.28s\n",
      "80:\tlearn: 2045.0024773\ttotal: 9.15s\tremaining: 2.15s\n",
      "90:\tlearn: 1991.0988260\ttotal: 10.3s\tremaining: 1.02s\n",
      "99:\tlearn: 1955.6406614\ttotal: 11.3s\tremaining: 0us\n",
      "[CV 2/3; 4/4] END ..............depth=10, learning_rate=0.03; total time=  12.6s\n",
      "[CV 3/3; 4/4] START depth=10, learning_rate=0.03................................\n",
      "0:\tlearn: 4432.7913874\ttotal: 130ms\tremaining: 12.9s\n",
      "10:\tlearn: 3659.8835663\ttotal: 1.24s\tremaining: 10s\n",
      "20:\tlearn: 3133.2834976\ttotal: 2.33s\tremaining: 8.77s\n",
      "30:\tlearn: 2775.7790204\ttotal: 3.61s\tremaining: 8.04s\n",
      "40:\tlearn: 2519.8328795\ttotal: 4.9s\tremaining: 7.05s\n",
      "50:\tlearn: 2332.0585144\ttotal: 6.17s\tremaining: 5.93s\n",
      "60:\tlearn: 2208.0617008\ttotal: 7.41s\tremaining: 4.74s\n",
      "70:\tlearn: 2111.7840866\ttotal: 8.56s\tremaining: 3.5s\n",
      "80:\tlearn: 2041.3796474\ttotal: 9.69s\tremaining: 2.27s\n",
      "90:\tlearn: 1987.4999520\ttotal: 10.8s\tremaining: 1.07s\n",
      "99:\tlearn: 1952.8264224\ttotal: 11.8s\tremaining: 0us\n",
      "[CV 3/3; 4/4] END ..............depth=10, learning_rate=0.03; total time=  13.0s\n",
      "0:\tlearn: 4210.5297313\ttotal: 201ms\tremaining: 19.9s\n",
      "10:\tlearn: 2591.3601247\ttotal: 1.85s\tremaining: 15s\n",
      "20:\tlearn: 2101.7739663\ttotal: 3.41s\tremaining: 12.8s\n",
      "30:\tlearn: 1938.2313258\ttotal: 4.98s\tremaining: 11.1s\n",
      "40:\tlearn: 1871.6251063\ttotal: 6.66s\tremaining: 9.59s\n",
      "50:\tlearn: 1832.1643765\ttotal: 8.3s\tremaining: 7.97s\n",
      "60:\tlearn: 1802.1732543\ttotal: 9.94s\tremaining: 6.36s\n",
      "70:\tlearn: 1777.3019144\ttotal: 11.6s\tremaining: 4.74s\n",
      "80:\tlearn: 1759.2899782\ttotal: 13.2s\tremaining: 3.1s\n",
      "90:\tlearn: 1740.1355209\ttotal: 14.9s\tremaining: 1.47s\n",
      "99:\tlearn: 1725.5043829\ttotal: 16.4s\tremaining: 0us\n",
      "CatBoostRegressor:\n",
      "Лучшие параметры: {'depth': 10, 'learning_rate': 0.1}\n",
      "RMSE для лучших параметров: 1781.72\n",
      "CPU times: user 2min 9s, sys: 1.02 s, total: 2min 10s\n",
      "Wall time: 2min 20s\n"
     ]
    }
   ],
   "source": [
    "%%time\n",
    "\n",
    "param_grid_cat_boost = {\n",
    "    'depth': [6, 10],\n",
    "    'learning_rate': [0.1, 0.03],\n",
    "}\n",
    "\n",
    "# Инициализируем CatBoostRegressor estimattor\n",
    "estimator = CatBoostRegressor(loss_function=\"RMSE\", iterations=100, random_state=RANDOM_STATE)\n",
    "\n",
    "# Инициализируем Grid Search\n",
    "model_cat_boost = GridSearchCV(estimator=estimator,\n",
    "                     param_grid=param_grid_cat_boost,\n",
    "                     cv=3,\n",
    "                     n_jobs=-1,\n",
    "                     scoring='neg_root_mean_squared_error',\n",
    "                     verbose=10)\n",
    "model_cat_boost.fit(X_train, y_train, cat_features=cat_features, verbose=10)\n",
    "\n",
    "# Выводим лучшие параметры поиска\n",
    "print('CatBoostRegressor:')\n",
    "print(f'Лучшие параметры: {model_cat_boost.best_params_}')\n",
    "print(f'RMSE для лучших параметров:', round(model_cat_boost.best_score_*(-1), 2))"
   ]
  },
  {
   "cell_type": "markdown",
   "metadata": {
    "id": "EN6_D_FeBJ_t"
   },
   "source": [
    "### Обучим RandomForestRegressor\n",
    "на тренировочной выборке с кросвалидацией и подбором параметров с помощью GridSearchCV"
   ]
  },
  {
   "cell_type": "code",
   "execution_count": 28,
   "metadata": {
    "colab": {
     "base_uri": "https://localhost:8080/"
    },
    "id": "KsrDwq5NBJ_u",
    "outputId": "114b16ec-f70c-4c8b-a365-e0bb4f2610b4"
   },
   "outputs": [
    {
     "name": "stdout",
     "output_type": "stream",
     "text": [
      "Fitting 3 folds for each of 4 candidates, totalling 12 fits\n",
      "LGBMRegressor:\n",
      "Лучшие параметры: {'max_depth': 10, 'n_estimators': 50}\n",
      "RMSE для лучших параметров: 1919.69\n",
      "CPU times: user 3min 23s, sys: 237 ms, total: 3min 24s\n",
      "Wall time: 3min 24s\n"
     ]
    }
   ],
   "source": [
    "%%time\n",
    "# Гиперпараметры для перебора\n",
    "\n",
    "param_forest = {\n",
    "    'max_depth': [5, 10],\n",
    "    'n_estimators': [20, 50]\n",
    "}\n",
    "\n",
    "# Инициализируем RandomForestRegressor estimattor\n",
    "estimator = RandomForestRegressor(random_state=RANDOM_STATE)\n",
    "\n",
    "# Инициализируем Grid Search\n",
    "model_forest  = GridSearchCV(estimator=estimator,\n",
    "                     param_grid=param_forest,\n",
    "                     cv=3,\n",
    "                     n_jobs=-1,\n",
    "                     scoring='neg_root_mean_squared_error',\n",
    "                     verbose=1)\n",
    "model_forest.fit(X_train_cat, y_train)\n",
    "\n",
    "# Выводим лучшие параметры поиска\n",
    "print('LGBMRegressor:')\n",
    "print(f'Лучшие параметры: {model_forest .best_params_}')\n",
    "print(f'RMSE для лучших параметров:', round(model_forest .best_score_*(-1), 2))"
   ]
  },
  {
   "cell_type": "markdown",
   "metadata": {
    "id": "BY1eFyxWplK8"
   },
   "source": [
    "## Анализ моделей"
   ]
  },
  {
   "cell_type": "markdown",
   "metadata": {
    "id": "ETVUOocKSdO3"
   },
   "source": [
    "Создадим датафрейм comp. В который будем записывать параметры моделей."
   ]
  },
  {
   "cell_type": "code",
   "execution_count": 29,
   "metadata": {
    "colab": {
     "base_uri": "https://localhost:8080/",
     "height": 143
    },
    "id": "_hQX31tVJJ5T",
    "outputId": "f9a6df65-2b81-4a0f-8354-bb699339c339"
   },
   "outputs": [
    {
     "data": {
      "text/html": [
       "<div>\n",
       "<style scoped>\n",
       "    .dataframe tbody tr th:only-of-type {\n",
       "        vertical-align: middle;\n",
       "    }\n",
       "\n",
       "    .dataframe tbody tr th {\n",
       "        vertical-align: top;\n",
       "    }\n",
       "\n",
       "    .dataframe thead th {\n",
       "        text-align: right;\n",
       "    }\n",
       "</style>\n",
       "<table border=\"1\" class=\"dataframe\">\n",
       "  <thead>\n",
       "    <tr style=\"text-align: right;\">\n",
       "      <th></th>\n",
       "      <th>LGBMRegressor</th>\n",
       "      <th>CatBoostRegressor</th>\n",
       "      <th>RandomForestRegressor</th>\n",
       "    </tr>\n",
       "  </thead>\n",
       "  <tbody>\n",
       "    <tr>\n",
       "      <th>RMSE</th>\n",
       "      <td>NaN</td>\n",
       "      <td>NaN</td>\n",
       "      <td>NaN</td>\n",
       "    </tr>\n",
       "    <tr>\n",
       "      <th>Время обучения (c)</th>\n",
       "      <td>NaN</td>\n",
       "      <td>NaN</td>\n",
       "      <td>NaN</td>\n",
       "    </tr>\n",
       "    <tr>\n",
       "      <th>Время предсказания (c)</th>\n",
       "      <td>NaN</td>\n",
       "      <td>NaN</td>\n",
       "      <td>NaN</td>\n",
       "    </tr>\n",
       "  </tbody>\n",
       "</table>\n",
       "</div>"
      ],
      "text/plain": [
       "                       LGBMRegressor CatBoostRegressor RandomForestRegressor\n",
       "RMSE                             NaN               NaN                   NaN\n",
       "Время обучения (c)               NaN               NaN                   NaN\n",
       "Время предсказания (c)           NaN               NaN                   NaN"
      ]
     },
     "execution_count": 29,
     "metadata": {},
     "output_type": "execute_result"
    }
   ],
   "source": [
    "index = ['RMSE', 'Время обучения (c)', 'Время предсказания (c)']\n",
    "\n",
    "# создаем список колонок\n",
    "columns = ['LGBMRegressor', 'CatBoostRegressor', 'RandomForestRegressor']\n",
    "\n",
    "# создаем пустой DataFrame с заданными индексами и колонками\n",
    "comp = pd.DataFrame(index=index, columns=columns)\n",
    "comp"
   ]
  },
  {
   "cell_type": "markdown",
   "metadata": {
    "id": "BMT4Ymm7rAhx"
   },
   "source": [
    "### Качество моделей при  кросс валидации. RMSE:"
   ]
  },
  {
   "cell_type": "code",
   "execution_count": 30,
   "metadata": {
    "id": "1Fi-KgVfOhAP"
   },
   "outputs": [],
   "source": [
    "comp.loc['RMSE', 'LGBMRegressor'] = model_lgb.best_score_*(-1)\n",
    "comp.loc['RMSE', 'CatBoostRegressor'] = model_cat_boost.best_score_*(-1)\n",
    "comp.loc['RMSE', 'RandomForestRegressor'] = model_forest .best_score_*(-1)"
   ]
  },
  {
   "cell_type": "markdown",
   "metadata": {
    "id": "gLMkj7P0sAMl"
   },
   "source": [
    "### Время обучения моделей:\n",
    "* LGBMRegressor: **CPU times: 11s, Wall time: 57s**\n",
    "* CatBoostRegressor: CPU times: 44 s, Wall time: 2min 50s\n",
    "* RandomForestRegressor: CPU times: 58 s, Wall time: 4min 13s"
   ]
  },
  {
   "cell_type": "code",
   "execution_count": 31,
   "metadata": {
    "colab": {
     "base_uri": "https://localhost:8080/"
    },
    "id": "MEW6L4L-5dXC",
    "outputId": "fa3b2bf3-c0a0-49a8-fc85-cb93a3d3c615"
   },
   "outputs": [
    {
     "name": "stdout",
     "output_type": "stream",
     "text": [
      "0:\tlearn: 4210.5297313\ttotal: 216ms\tremaining: 21.4s\n",
      "50:\tlearn: 1832.1643765\ttotal: 8.8s\tremaining: 8.46s\n",
      "99:\tlearn: 1725.5043829\ttotal: 17.6s\tremaining: 0us\n"
     ]
    }
   ],
   "source": [
    "# LGBMRegressor\n",
    "model = lgb.LGBMRegressor(objective='regression', random_state=RANDOM_STATE,\n",
    "                          depth = 10, learning_rate = 0.1,\n",
    "                          n_estimators=300)\n",
    "comp.loc['Время обучения (c)', 'LGBMRegressor'] = timeit.timeit(\n",
    "    lambda: model.fit(X_train_type, y_train), number=1)\n",
    "\n",
    "# CatBoostRegressor\n",
    "model = CatBoostRegressor(loss_function=\"RMSE\", random_state=RANDOM_STATE,\n",
    "                          depth = 10, learning_rate = 0.1,\n",
    "                          iterations=100)\n",
    "comp.loc['Время обучения (c)', 'CatBoostRegressor'] = timeit.timeit(\n",
    "    lambda: model.fit(X_train, y_train, cat_features=cat_features, verbose=50), number=1)\n",
    "\n",
    "# RandomForestRegressor\n",
    "model = RandomForestRegressor(random_state=RANDOM_STATE,\n",
    "                              max_depth = 10, n_estimators = 50)\n",
    "comp.loc['Время обучения (c)', 'RandomForestRegressor'] = timeit.timeit(\n",
    "    lambda: model.fit(X_train_cat, y_train), number=1)"
   ]
  },
  {
   "cell_type": "markdown",
   "metadata": {
    "id": "08tzy0VNZzdu"
   },
   "source": [
    "### Время предсказания\n",
    "Проверим время предсказания моделей на тренировочной выборке"
   ]
  },
  {
   "cell_type": "markdown",
   "metadata": {
    "id": "bJ1AYxwldLkF"
   },
   "source": [
    "LGBMRegressor"
   ]
  },
  {
   "cell_type": "code",
   "execution_count": 32,
   "metadata": {
    "id": "zKbDqdBVplK8"
   },
   "outputs": [],
   "source": [
    "comp.loc['Время предсказания (c)', 'LGBMRegressor'] = timeit.timeit(\n",
    "    lambda: model_lgb.predict(X_train_type), number=1)"
   ]
  },
  {
   "cell_type": "markdown",
   "metadata": {
    "id": "8HnCcccEqgL_"
   },
   "source": [
    "CatBoostRegressor"
   ]
  },
  {
   "cell_type": "code",
   "execution_count": 33,
   "metadata": {
    "id": "Y1g-25iNqgMA"
   },
   "outputs": [],
   "source": [
    "comp.loc['Время предсказания (c)', 'CatBoostRegressor'] = timeit.timeit(\n",
    "    lambda: model_cat_boost.predict(X_train), number=1)"
   ]
  },
  {
   "cell_type": "code",
   "execution_count": null,
   "metadata": {
    "id": "lSBlYK65T28_"
   },
   "outputs": [],
   "source": []
  },
  {
   "cell_type": "markdown",
   "metadata": {
    "id": "L6SIuzVJq9E_"
   },
   "source": [
    "RandomForestRegressor"
   ]
  },
  {
   "cell_type": "code",
   "execution_count": 34,
   "metadata": {
    "id": "3Cm6dBLqq9FH"
   },
   "outputs": [],
   "source": [
    "comp.loc['Время предсказания (c)', 'RandomForestRegressor'] = timeit.timeit(\n",
    "    lambda: model_forest.predict(X_train_cat), number=1)"
   ]
  },
  {
   "cell_type": "markdown",
   "metadata": {
    "id": "dgDxjPUdtEnR"
   },
   "source": [
    "Лучшее время предсказаний у CatBoostRegressor. Почти в два раза быстрее чем у двух других моделей"
   ]
  },
  {
   "cell_type": "code",
   "execution_count": 35,
   "metadata": {
    "colab": {
     "base_uri": "https://localhost:8080/",
     "height": 143
    },
    "id": "Vd7ViCDJTZoM",
    "outputId": "6352dcab-ee2e-47d4-cbc0-8727ce5baa48"
   },
   "outputs": [
    {
     "data": {
      "text/html": [
       "<div>\n",
       "<style scoped>\n",
       "    .dataframe tbody tr th:only-of-type {\n",
       "        vertical-align: middle;\n",
       "    }\n",
       "\n",
       "    .dataframe tbody tr th {\n",
       "        vertical-align: top;\n",
       "    }\n",
       "\n",
       "    .dataframe thead th {\n",
       "        text-align: right;\n",
       "    }\n",
       "</style>\n",
       "<table border=\"1\" class=\"dataframe\">\n",
       "  <thead>\n",
       "    <tr style=\"text-align: right;\">\n",
       "      <th></th>\n",
       "      <th>LGBMRegressor</th>\n",
       "      <th>CatBoostRegressor</th>\n",
       "      <th>RandomForestRegressor</th>\n",
       "    </tr>\n",
       "  </thead>\n",
       "  <tbody>\n",
       "    <tr>\n",
       "      <th>RMSE</th>\n",
       "      <td>1691.567611</td>\n",
       "      <td>1781.724947</td>\n",
       "      <td>1919.688106</td>\n",
       "    </tr>\n",
       "    <tr>\n",
       "      <th>Время обучения (c)</th>\n",
       "      <td>26.023227</td>\n",
       "      <td>18.951097</td>\n",
       "      <td>42.104484</td>\n",
       "    </tr>\n",
       "    <tr>\n",
       "      <th>Время предсказания (c)</th>\n",
       "      <td>5.629198</td>\n",
       "      <td>0.380596</td>\n",
       "      <td>1.111106</td>\n",
       "    </tr>\n",
       "  </tbody>\n",
       "</table>\n",
       "</div>"
      ],
      "text/plain": [
       "                       LGBMRegressor CatBoostRegressor RandomForestRegressor\n",
       "RMSE                     1691.567611       1781.724947           1919.688106\n",
       "Время обучения (c)         26.023227         18.951097             42.104484\n",
       "Время предсказания (c)      5.629198          0.380596              1.111106"
      ]
     },
     "execution_count": 35,
     "metadata": {},
     "output_type": "execute_result"
    }
   ],
   "source": [
    "comp.round(2)"
   ]
  },
  {
   "cell_type": "markdown",
   "metadata": {
    "id": "qOdyKLjnfmeN"
   },
   "source": [
    "### Предсказание на тестовой выборке\n",
    "В целом, лучшей обученной моделью в данном проекте оказался **LGBMRegressor**. Он оказал лучшую метрику качества RMSE при кроссвалидации. А так же лучшее время обучения. При этом уступил в скорости предсказаний CatBoostRegressor. Поэтому если бы была необходима более высокая скорость предсказаний и менее важна скорость обучения, при приемлемом качестве то можно было бы выбрать CatBoostRegressor.\n",
    "\n",
    "В качестве модели для проверки предсказаний на тестовой выборке выберем LGBMRegressor."
   ]
  },
  {
   "cell_type": "code",
   "execution_count": 36,
   "metadata": {
    "colab": {
     "base_uri": "https://localhost:8080/"
    },
    "id": "16XIF66ef1aT",
    "outputId": "3fcb67a1-fc14-4298-ddae-957a6eb6cf21"
   },
   "outputs": [
    {
     "name": "stdout",
     "output_type": "stream",
     "text": [
      "RMSE =  1675.9\n"
     ]
    }
   ],
   "source": [
    "prediction_lgb = model_lgb.predict(X_test_type)\n",
    "print('RMSE = ', round(mean_squared_error(y_test, prediction_lgb, squared=False),2))"
   ]
  },
  {
   "cell_type": "markdown",
   "metadata": {
    "id": "Ihbt4MIpgGDL"
   },
   "source": [
    "### RMSE по моделям авто\n",
    "\n",
    "Ознакомимся с качеством предсказаний модели на тестовой выборке в разрезе по моделям. Для каждой модели автомобиля отдельно проверим RMSE предсказаний модели."
   ]
  },
  {
   "cell_type": "code",
   "execution_count": 37,
   "metadata": {
    "colab": {
     "base_uri": "https://localhost:8080/"
    },
    "id": "lva-zc_Rgvdz",
    "outputId": "048d7e51-aff0-4db7-fc3f-b32cca3da877"
   },
   "outputs": [
    {
     "name": "stdout",
     "output_type": "stream",
     "text": [
      "RMSE предсказания цены для различных моделей автомобилей:\n",
      "model\n",
      "100                  1328.264921\n",
      "145                   640.795219\n",
      "147                   831.782537\n",
      "156                   871.163919\n",
      "159                  2419.645741\n",
      "1_reihe               592.488940\n",
      "1er                  1814.995558\n",
      "200                  3078.819868\n",
      "2_reihe               867.330053\n",
      "300c                 2893.803742\n",
      "3_reihe              1088.074583\n",
      "3er                  1769.088077\n",
      "4_reihe              1412.970937\n",
      "500                  1518.677844\n",
      "5_reihe              1929.030708\n",
      "5er                  2075.459098\n",
      "601                  1157.756746\n",
      "6_reihe              1135.440942\n",
      "6er                  3589.180812\n",
      "7er                  2393.319002\n",
      "80                   1274.702456\n",
      "850                  1163.008639\n",
      "90                   3063.179234\n",
      "900                  2201.812544\n",
      "9000                 1070.405691\n",
      "911                  4981.829560\n",
      "a1                   1984.301114\n",
      "a2                   1469.615086\n",
      "a3                   1643.802596\n",
      "a4                   1720.060377\n",
      "a5                   4323.776116\n",
      "a6                   2122.465345\n",
      "a8                   2708.134407\n",
      "a_klasse             1131.713298\n",
      "accord               1505.282913\n",
      "agila                 719.804379\n",
      "alhambra             1411.494042\n",
      "almera                616.211230\n",
      "altea                1735.853109\n",
      "amarok               8051.078894\n",
      "antara               1492.351394\n",
      "arosa                 492.723173\n",
      "astra                1072.687427\n",
      "auris                1425.610656\n",
      "avensis              1332.933856\n",
      "aveo                 1034.500206\n",
      "aygo                 1010.603309\n",
      "b_klasse             2111.056466\n",
      "b_max                2956.715144\n",
      "beetle               1442.191578\n",
      "berlingo             1132.011441\n",
      "bora                 1063.876602\n",
      "boxster              2608.238668\n",
      "bravo                1108.177593\n",
      "c1                    942.007160\n",
      "c2                    631.763369\n",
      "c3                   1210.717266\n",
      "c4                   1500.812937\n",
      "c5                   1615.372354\n",
      "c_klasse             1539.670786\n",
      "c_max                1329.702065\n",
      "c_reihe              1789.506463\n",
      "caddy                1998.677425\n",
      "calibra              2316.791932\n",
      "captiva              1815.240281\n",
      "carisma               608.229682\n",
      "carnival             1225.015000\n",
      "cayenne              2862.144029\n",
      "cc                   3098.349178\n",
      "ceed                 1582.224658\n",
      "charade              1418.819296\n",
      "cherokee             2783.952340\n",
      "citigo               1422.077066\n",
      "civic                 946.334694\n",
      "cl                   4024.013755\n",
      "clio                  844.181209\n",
      "clk                  1922.496442\n",
      "clubman              1780.970355\n",
      "colt                  695.835056\n",
      "combo                1136.273228\n",
      "cooper               1921.507468\n",
      "cordoba               561.377431\n",
      "corolla               936.995463\n",
      "corsa                 753.836152\n",
      "cr_reihe             1554.495041\n",
      "croma                1223.210014\n",
      "crossfire            2673.128864\n",
      "cuore                 577.775534\n",
      "cx_reihe             1773.052650\n",
      "defender             3720.917863\n",
      "delta                2324.984603\n",
      "discovery            2950.135476\n",
      "doblo                1584.477763\n",
      "ducato               2454.888175\n",
      "duster               2069.906240\n",
      "e_klasse             2132.702630\n",
      "elefantino            183.210675\n",
      "eos                  2155.360206\n",
      "escort                905.594662\n",
      "espace               1335.567617\n",
      "exeo                 1847.156747\n",
      "fabia                1046.309336\n",
      "fiesta                818.660739\n",
      "focus                1027.813264\n",
      "forester             1445.382396\n",
      "forfour               953.250237\n",
      "fortwo                879.578632\n",
      "fox                   761.726362\n",
      "freelander           1185.138670\n",
      "fusion                936.392728\n",
      "g_klasse             4162.711632\n",
      "galant                626.335086\n",
      "galaxy               1498.156782\n",
      "getz                  735.217275\n",
      "gl                   8048.155190\n",
      "glk                  2377.140016\n",
      "golf                 1462.768549\n",
      "grand                1901.162502\n",
      "i3                    772.856949\n",
      "i_reihe              1345.062221\n",
      "ibiza                1132.504213\n",
      "impreza              2558.666633\n",
      "insignia             2506.683600\n",
      "jazz                  889.824638\n",
      "jetta                1354.154111\n",
      "jimny                1911.329766\n",
      "juke                 2129.826142\n",
      "justy                 670.819362\n",
      "ka                    628.439928\n",
      "kadett               2881.893923\n",
      "kaefer               3391.811420\n",
      "kalina               3847.243519\n",
      "kalos                 577.520945\n",
      "kangoo                963.436040\n",
      "kappa                 960.914043\n",
      "kuga                 1394.962704\n",
      "laguna               1193.720671\n",
      "lancer               1998.653690\n",
      "lanos                 305.082904\n",
      "legacy               1147.727556\n",
      "leon                 2514.490721\n",
      "lodgy                1412.911737\n",
      "logan                 962.436212\n",
      "lupo                  708.713558\n",
      "lybra                 359.623105\n",
      "m_klasse             2615.376699\n",
      "m_reihe              4817.160513\n",
      "materia              1507.228323\n",
      "matiz                 661.789699\n",
      "megane               1367.992403\n",
      "meriva               1167.301175\n",
      "micra                 647.850004\n",
      "mii                  1819.215090\n",
      "missed               2400.261850\n",
      "modus                 672.431677\n",
      "mondeo               1031.853406\n",
      "move                  582.904605\n",
      "musa                  653.402982\n",
      "mustang              3128.791169\n",
      "mx_reihe             1288.192031\n",
      "navara               2188.241935\n",
      "niva                  923.332786\n",
      "note                  903.811500\n",
      "nubira                450.475863\n",
      "octavia              1716.540814\n",
      "omega                 729.859198\n",
      "one                  1638.624069\n",
      "other                2234.010779\n",
      "outlander            3113.113613\n",
      "pajero               2157.075260\n",
      "panda                 855.573502\n",
      "passat               1458.354801\n",
      "phaeton              3150.949611\n",
      "picanto               656.651425\n",
      "polo                  937.581727\n",
      "primera               675.703419\n",
      "ptcruiser            1092.132400\n",
      "punto                 611.341432\n",
      "q3                   7948.088297\n",
      "q5                   3084.780593\n",
      "q7                   2745.405755\n",
      "qashqai              1719.403231\n",
      "r19                   605.576983\n",
      "range_rover          2808.019049\n",
      "range_rover_sport    3179.204794\n",
      "rangerover             20.339594\n",
      "rav                  2335.668039\n",
      "rio                  1993.307938\n",
      "roadster             1848.075273\n",
      "roomster             1500.745267\n",
      "rx_reihe             2437.422276\n",
      "s60                  1901.049883\n",
      "s_klasse             2852.395075\n",
      "s_max                1810.893748\n",
      "s_type               1941.724893\n",
      "samara                214.952349\n",
      "sandero              1470.376139\n",
      "santa                1349.390983\n",
      "scenic               1221.238259\n",
      "scirocco             2271.222895\n",
      "seicento              605.375682\n",
      "serie_1              2515.755912\n",
      "serie_2              4753.705537\n",
      "sharan               1420.762654\n",
      "signum               1150.143550\n",
      "sirion                646.918387\n",
      "sl                   3679.475514\n",
      "slk                  1544.831240\n",
      "sorento              1473.215860\n",
      "spark                1366.982127\n",
      "spider               3451.289777\n",
      "sportage             2144.335487\n",
      "sprinter             3061.506152\n",
      "stilo                 858.068769\n",
      "superb               1831.977687\n",
      "swift                 867.457262\n",
      "terios               1639.434831\n",
      "tigra                 992.418649\n",
      "tiguan               2023.774805\n",
      "toledo               1170.697603\n",
      "touareg              2724.206913\n",
      "touran               1770.175390\n",
      "transit              2086.520850\n",
      "transporter          3315.555248\n",
      "tt                   2441.304895\n",
      "tucson               1641.184351\n",
      "twingo                617.493365\n",
      "up                   1374.773234\n",
      "v40                   916.454564\n",
      "v50                  1364.250915\n",
      "v60                  2271.640276\n",
      "v70                  1911.124756\n",
      "v_klasse             1612.175618\n",
      "vectra               1000.270964\n",
      "verso                1811.386764\n",
      "viano                2714.395953\n",
      "vito                 2427.520049\n",
      "vivaro               2289.154623\n",
      "voyager              1090.860690\n",
      "wrangler             3816.909466\n",
      "x_reihe              2417.877269\n",
      "x_trail              1456.105003\n",
      "x_type               2561.581478\n",
      "xc_reihe             2385.147900\n",
      "yaris                 808.585464\n",
      "yeti                 1605.134722\n",
      "ypsilon               720.667481\n",
      "z_reihe              1993.417894\n",
      "zafira               1155.755877\n",
      "dtype: float64\n"
     ]
    }
   ],
   "source": [
    "#Скапируем тестовую выборку в отдельный датафрейм X_rmse.\n",
    "X_rmse = X_test_type.copy()\n",
    "\n",
    "#Добавим к датафрейму X_rmse с признаками целевой признак и предсказания prediction\n",
    "X_rmse['y'] = y_test\n",
    "X_rmse['predict'] = prediction_lgb\n",
    "\n",
    "#Посчитаем RMSE отдельно для каждой модели\n",
    "rmse_by_model = X_rmse.groupby('model').apply(lambda x: mean_squared_error(x['y'], x['predict'], squared=False))\n",
    "\n",
    "#Выведем результат на экран\n",
    "pd.set_option('display.max_rows', 300)\n",
    "print('RMSE предсказания цены для различных моделей автомобилей:')\n",
    "print(rmse_by_model.head(300))\n",
    "pd.set_option('display.max_rows', 10)"
   ]
  },
  {
   "cell_type": "markdown",
   "metadata": {
    "id": "22-PPtBVu0t5"
   },
   "source": [
    "Видим, что для разных моделей автомобилей было достигнут разный уровень качества предсказаний. Для некоторых массовых автомобилей среднеквадратичная ошибка предсказаний RMSE сравнительно невысока. Скажем для модели corolla RMSE составляет 967. В то время как для более крупных, дорогих и редких автомобилей ошибка может быть выше. Например для amarok RMSE оказалось 6900."
   ]
  },
  {
   "cell_type": "markdown",
   "metadata": {
    "id": "J-OtHVYhiFXN"
   },
   "source": [
    "### Важность факторов"
   ]
  },
  {
   "cell_type": "code",
   "execution_count": 38,
   "metadata": {
    "colab": {
     "base_uri": "https://localhost:8080/",
     "height": 452
    },
    "id": "bwvEEyLZiDWO",
    "outputId": "a2a92fa3-177b-4ad1-c447-89b2ae9d793e"
   },
   "outputs": [
    {
     "data": {
      "image/png": "[encoded data removed]",
      "text/plain": [
       "<Figure size 432x288 with 1 Axes>"
      ]
     },
     "metadata": {
      "needs_background": "light"
     },
     "output_type": "display_data"
    }
   ],
   "source": [
    "best_model = model_lgb.best_estimator_\n",
    "importance_values = best_model.feature_importances_\n",
    "features = X_train_type.columns\n",
    "importance_values = best_model.feature_importances_\n",
    "\n",
    "plt.barh(y=range(len(features)),\n",
    "         width=importance_values,\n",
    "         tick_label=features)\n",
    "plt.title(\"Важность факторов\")\n",
    "plt.show()"
   ]
  },
  {
   "cell_type": "markdown",
   "metadata": {
    "id": "16I5xExWiZ_0"
   },
   "source": [
    "Можно видеть, что наиболее важным фактором, влияющим на цену автомобиля ожидаемо оказалась модель авто. Вторым по значимости фактором оказался год регстрации автомобиля. Наименее значимым фактором оказалася тип топлива автомобиля."
   ]
  },
  {
   "cell_type": "markdown",
   "metadata": {
    "id": "QykDBI0S8-ad"
   },
   "source": [
    "## Общий вывод\n",
    "\n",
    "**Загрузка и изучение данных**\n",
    "\n",
    "Данные были успешно загружены.\n",
    "\n",
    "Изучив данные увидели, что в данный есть пропуски. Столбец number_of_pictures не содержит полезных данных. Видимо где-то произошел сбой при парсинге данных и в этом столбце только нули. Этот столбец можно удалить.\n",
    "\n",
    "Значимой корреляции между признаками не было обнаружен. Есть небольшая корреляция между пробегом и ценой и еще меньшая между мощностью двигателя и ценой автомобиля.\n",
    "\n",
    "Имеется довольно много дубликатов. Видимо кролер записывал как различающиеся объявления, когда различалась только дата объявления или только время последней активности продавца.\n",
    "\n",
    "**Подготовка данных**\n",
    "\n",
    "Был  создан столбец с разницей между временем создания объявления и временем последней активности пользователя. Чтобы выявить связь между длительностью экспозиции и ценой автомобиля.\n",
    "\n",
    "Были удален столбец с числом картинок, так как в нем нет данных. А так же столбцы с датами событий, которые не влияют на цену автомобиля (скажем время загрузки объявления кролером)\n",
    "\n",
    "Были удалены дубликаты. Пропуски были заполнены значением `missed`.\n",
    "\n",
    "Были удалнны аномальные значения. А именно объявления с датами регистрации авто после 2017 года, слишком мощными двигателями выше 1000 лс.\n",
    "\n",
    "**Обучение моделей**\n",
    "\n",
    "Данные были разбиты на выборки. Была проведена трансформация катеогриальных признаков методом TargetEncoder для того чтобы с категориальными признаками могла работать модель RandomForestRegressor.\n",
    "\n",
    "Были обучены следующие модели:\n",
    "\n",
    "* LGBMRegressor\n",
    "* CatBoostRegressor\n",
    "* RandomForestRegressor\n",
    "\n",
    "**Анализ моделей**\n",
    "\n",
    "|index|LGBMRegressor|CatBoostRegressor|RandomForestRegressor|\n",
    "|---|---|---|---|\n",
    "|RMSE|1685\\.3|1775\\.37|1909\\.7|\n",
    "|Время обучения \\(c\\)|3\\.72|13\\.85|42\\.29|\n",
    "|Время предсказания \\(c\\)|2\\.98|0\\.26|0\\.92|\n",
    "\n",
    "В целом, лучшей обученной моделью в данном проекте оказался **LGBMRegressor**. Он оказал лучшую метрику качества RMSE при кроссвалидации. А так же лучшее время обучения. При этом уступил в скорости предсказаний CatBoostRegressor. Поэтому если бы была необходима более высокая скорость предсказаний и менее важна скорость обучения, при приемлемом качестве то можно было бы выбрать CatBoostRegressor.\n",
    "\n",
    "В качестве модели для проверки предсказаний на тестовой выборке выберем LGBMRegressor.\n",
    "\n",
    "На тестовой выборке модель LGBMRegressor показала RMSE =  1672\n",
    "\n",
    "**Для лучшей модели LGBMRegressor был проведен анализ RMSE в разрезе по маркам автомобилей**\n",
    "\n",
    "Дя разных моделей автомобилей было достигнут разный уровень качества предсказаний. Для некоторых массовых автомобилей среднеквадратичная ошибка предсказаний RMSE сравнительно невысока. Скажем для модели corolla RMSE составляет 967. В то время как для более крупных, дорогих и редких автомобилей ошибка может быть выше. Например для amarok RMSE оказалось 6900.\n",
    "\n",
    "**Для лучшей модели LGBMRegressor был проведен анализ важности факторов**\n",
    "\n",
    "Наиболее важным фактором, влияющим на цену автомобиля ожидаемо, оказалась модель авто. Вторым по значимости фактором оказался год регстрации автомобиля. Наименее значимым фактором оказалася тип топлива автомобиля."
   ]
  },
  {
   "cell_type": "code",
   "execution_count": null,
   "metadata": {},
   "outputs": [],
   "source": []
  }
 ],
 "metadata": {
  "ExecuteTimeLog": [
   {
    "duration": 9907,
    "start_time": "2023-06-13T14:23:41.329Z"
   },
   {
    "duration": 7788,
    "start_time": "2023-06-13T14:23:51.239Z"
   },
   {
    "duration": 5,
    "start_time": "2023-06-13T14:23:59.030Z"
   },
   {
    "duration": 98,
    "start_time": "2023-06-13T14:23:59.040Z"
   },
   {
    "duration": 90,
    "start_time": "2023-06-13T14:23:59.141Z"
   },
   {
    "duration": 91,
    "start_time": "2023-06-13T14:23:59.235Z"
   },
   {
    "duration": 12999,
    "start_time": "2023-06-13T14:23:59.331Z"
   },
   {
    "duration": 2304,
    "start_time": "2023-06-13T14:24:12.340Z"
   },
   {
    "duration": 13,
    "start_time": "2023-06-13T14:24:14.730Z"
   },
   {
    "duration": 2501,
    "start_time": "2023-06-13T14:24:14.747Z"
   },
   {
    "duration": 2776,
    "start_time": "2023-06-13T14:24:17.250Z"
   },
   {
    "duration": 724,
    "start_time": "2023-06-13T14:24:20.029Z"
   },
   {
    "duration": 11497,
    "start_time": "2023-06-13T14:24:20.755Z"
   },
   {
    "duration": 313,
    "start_time": "2023-06-13T14:24:32.326Z"
   },
   {
    "duration": 4792,
    "start_time": "2023-06-13T14:24:32.642Z"
   },
   {
    "duration": 1710,
    "start_time": "2023-06-13T14:24:37.439Z"
   },
   {
    "duration": 75,
    "start_time": "2023-06-13T14:24:39.151Z"
   },
   {
    "duration": 728,
    "start_time": "2023-06-13T14:24:39.229Z"
   },
   {
    "duration": 263,
    "start_time": "2023-06-13T14:24:39.965Z"
   },
   {
    "duration": 103,
    "start_time": "2023-06-13T14:24:40.230Z"
   },
   {
    "duration": 915,
    "start_time": "2023-06-13T14:24:40.338Z"
   },
   {
    "duration": 18705,
    "start_time": "2023-06-13T14:24:41.326Z"
   },
   {
    "duration": 1708,
    "start_time": "2023-06-13T14:25:00.045Z"
   },
   {
    "duration": 2139302,
    "start_time": "2023-06-13T14:25:01.826Z"
   },
   {
    "duration": 9,
    "start_time": "2023-06-13T19:55:40.451Z"
   },
   {
    "duration": 6770,
    "start_time": "2023-06-21T10:23:56.150Z"
   },
   {
    "duration": 1028,
    "start_time": "2023-06-21T10:24:05.565Z"
   },
   {
    "duration": 3,
    "start_time": "2023-06-21T10:24:08.565Z"
   },
   {
    "duration": 6,
    "start_time": "2023-06-21T10:24:09.730Z"
   },
   {
    "duration": 6,
    "start_time": "2023-06-21T10:24:11.023Z"
   },
   {
    "duration": 4,
    "start_time": "2023-06-21T10:24:14.108Z"
   },
   {
    "duration": 1338,
    "start_time": "2023-06-21T10:24:17.835Z"
   },
   {
    "duration": 338,
    "start_time": "2023-06-21T10:24:29.865Z"
   },
   {
    "duration": 5,
    "start_time": "2023-06-21T10:24:30.527Z"
   },
   {
    "duration": 284,
    "start_time": "2023-06-21T10:24:33.221Z"
   },
   {
    "duration": 502,
    "start_time": "2023-06-21T10:24:49.463Z"
   },
   {
    "duration": 82,
    "start_time": "2023-06-21T10:24:58.464Z"
   },
   {
    "duration": 1330,
    "start_time": "2023-06-21T10:25:05.512Z"
   },
   {
    "duration": 7914,
    "start_time": "2023-07-11T21:32:56.786Z"
   },
   {
    "duration": 3413,
    "start_time": "2023-07-11T21:33:04.702Z"
   },
   {
    "duration": 3,
    "start_time": "2023-07-11T21:33:08.117Z"
   },
   {
    "duration": 17,
    "start_time": "2023-07-11T21:33:08.122Z"
   },
   {
    "duration": 22,
    "start_time": "2023-07-11T21:33:08.141Z"
   },
   {
    "duration": 10,
    "start_time": "2023-07-11T21:33:08.169Z"
   },
   {
    "duration": 1631,
    "start_time": "2023-07-11T21:33:08.180Z"
   },
   {
    "duration": 363,
    "start_time": "2023-07-11T21:33:09.813Z"
   },
   {
    "duration": 8,
    "start_time": "2023-07-11T21:33:10.182Z"
   },
   {
    "duration": 298,
    "start_time": "2023-07-11T21:33:10.193Z"
   },
   {
    "duration": 576,
    "start_time": "2023-07-11T21:33:10.493Z"
   },
   {
    "duration": 81,
    "start_time": "2023-07-11T21:33:11.072Z"
   },
   {
    "duration": 1482,
    "start_time": "2023-07-11T21:33:11.155Z"
   },
   {
    "duration": 55,
    "start_time": "2023-07-11T21:33:12.639Z"
   },
   {
    "duration": 527,
    "start_time": "2023-07-11T21:33:12.695Z"
   },
   {
    "duration": 212,
    "start_time": "2023-07-11T21:33:13.225Z"
   },
   {
    "duration": 4,
    "start_time": "2023-07-11T21:33:13.439Z"
   },
   {
    "duration": 92,
    "start_time": "2023-07-11T21:33:13.444Z"
   },
   {
    "duration": 55,
    "start_time": "2023-07-11T21:33:13.538Z"
   },
   {
    "duration": 16,
    "start_time": "2023-07-11T21:33:13.595Z"
   },
   {
    "duration": 18,
    "start_time": "2023-07-11T21:33:13.612Z"
   },
   {
    "duration": 154,
    "start_time": "2023-07-11T21:33:13.631Z"
   },
   {
    "duration": 2040,
    "start_time": "2023-07-11T21:33:13.789Z"
   },
   {
    "duration": 231,
    "start_time": "2023-07-11T21:33:15.830Z"
   },
   {
    "duration": 5897,
    "start_time": "2023-07-11T21:44:14.755Z"
   },
   {
    "duration": 840,
    "start_time": "2023-07-11T21:44:20.654Z"
   },
   {
    "duration": 3,
    "start_time": "2023-07-11T21:44:21.496Z"
   },
   {
    "duration": 21,
    "start_time": "2023-07-11T21:44:21.500Z"
   },
   {
    "duration": 10,
    "start_time": "2023-07-11T21:44:21.523Z"
   },
   {
    "duration": 14,
    "start_time": "2023-07-11T21:44:21.534Z"
   },
   {
    "duration": 1445,
    "start_time": "2023-07-11T21:44:21.550Z"
   },
   {
    "duration": 305,
    "start_time": "2023-07-11T21:44:22.997Z"
   },
   {
    "duration": 6,
    "start_time": "2023-07-11T21:44:23.304Z"
   },
   {
    "duration": 277,
    "start_time": "2023-07-11T21:44:23.314Z"
   },
   {
    "duration": 520,
    "start_time": "2023-07-11T21:44:23.592Z"
   },
   {
    "duration": 82,
    "start_time": "2023-07-11T21:44:24.114Z"
   },
   {
    "duration": 1467,
    "start_time": "2023-07-11T21:44:24.198Z"
   },
   {
    "duration": 51,
    "start_time": "2023-07-11T21:44:25.666Z"
   },
   {
    "duration": 504,
    "start_time": "2023-07-11T21:44:25.719Z"
   },
   {
    "duration": 167,
    "start_time": "2023-07-11T21:44:26.224Z"
   },
   {
    "duration": 3,
    "start_time": "2023-07-11T21:44:26.393Z"
   },
   {
    "duration": 80,
    "start_time": "2023-07-11T21:44:26.397Z"
   },
   {
    "duration": 42,
    "start_time": "2023-07-11T21:44:26.479Z"
   },
   {
    "duration": 57,
    "start_time": "2023-07-11T21:44:26.523Z"
   },
   {
    "duration": 17,
    "start_time": "2023-07-11T21:44:26.582Z"
   },
   {
    "duration": 17,
    "start_time": "2023-07-11T21:44:26.601Z"
   },
   {
    "duration": 139,
    "start_time": "2023-07-11T21:44:26.620Z"
   },
   {
    "duration": 1931,
    "start_time": "2023-07-11T21:44:26.764Z"
   },
   {
    "duration": 255,
    "start_time": "2023-07-11T21:44:28.696Z"
   },
   {
    "duration": 1326212,
    "start_time": "2023-07-11T21:44:28.956Z"
   },
   {
    "duration": 145335,
    "start_time": "2023-07-11T22:06:35.170Z"
   },
   {
    "duration": 202235,
    "start_time": "2023-07-11T22:09:00.508Z"
   },
   {
    "duration": 14,
    "start_time": "2023-07-11T22:12:22.744Z"
   },
   {
    "duration": 6,
    "start_time": "2023-07-11T22:12:22.759Z"
   },
   {
    "duration": 82090,
    "start_time": "2023-07-11T22:12:22.766Z"
   },
   {
    "duration": 5506,
    "start_time": "2023-07-11T22:13:44.858Z"
   },
   {
    "duration": 407,
    "start_time": "2023-07-11T22:13:50.365Z"
   },
   {
    "duration": 1076,
    "start_time": "2023-07-11T22:13:50.774Z"
   },
   {
    "duration": 9,
    "start_time": "2023-07-11T22:13:51.852Z"
   },
   {
    "duration": 1811,
    "start_time": "2023-07-11T22:13:51.863Z"
   },
   {
    "duration": 251,
    "start_time": "2023-07-11T22:13:53.676Z"
   },
   {
    "duration": 168,
    "start_time": "2023-07-11T22:13:53.928Z"
   },
   {
    "duration": 5828,
    "start_time": "2023-07-19T14:41:36.035Z"
   },
   {
    "duration": 803,
    "start_time": "2023-07-19T14:41:41.865Z"
   },
   {
    "duration": 2,
    "start_time": "2023-07-19T14:41:42.670Z"
   },
   {
    "duration": 9,
    "start_time": "2023-07-19T14:41:42.674Z"
   },
   {
    "duration": 11,
    "start_time": "2023-07-19T14:41:42.685Z"
   },
   {
    "duration": 6,
    "start_time": "2023-07-19T14:41:42.698Z"
   },
   {
    "duration": 1370,
    "start_time": "2023-07-19T14:41:42.705Z"
   },
   {
    "duration": 264,
    "start_time": "2023-07-19T14:41:44.077Z"
   },
   {
    "duration": 6,
    "start_time": "2023-07-19T14:41:44.343Z"
   },
   {
    "duration": 256,
    "start_time": "2023-07-19T14:41:44.352Z"
   },
   {
    "duration": 509,
    "start_time": "2023-07-19T14:41:44.610Z"
   },
   {
    "duration": 83,
    "start_time": "2023-07-19T14:41:45.121Z"
   },
   {
    "duration": 1439,
    "start_time": "2023-07-19T14:41:45.206Z"
   },
   {
    "duration": 58,
    "start_time": "2023-07-19T14:41:46.647Z"
   },
   {
    "duration": 532,
    "start_time": "2023-07-19T14:41:46.707Z"
   },
   {
    "duration": 192,
    "start_time": "2023-07-19T14:41:47.240Z"
   },
   {
    "duration": 2,
    "start_time": "2023-07-19T14:41:47.434Z"
   },
   {
    "duration": 73,
    "start_time": "2023-07-19T14:41:47.438Z"
   },
   {
    "duration": 38,
    "start_time": "2023-07-19T14:41:47.513Z"
   },
   {
    "duration": 52,
    "start_time": "2023-07-19T14:41:47.553Z"
   },
   {
    "duration": 17,
    "start_time": "2023-07-19T14:41:47.607Z"
   },
   {
    "duration": 18,
    "start_time": "2023-07-19T14:41:47.625Z"
   },
   {
    "duration": 137,
    "start_time": "2023-07-19T14:41:47.645Z"
   },
   {
    "duration": 1792,
    "start_time": "2023-07-19T14:41:47.785Z"
   },
   {
    "duration": 215,
    "start_time": "2023-07-19T14:41:49.579Z"
   },
   {
    "duration": 149672,
    "start_time": "2023-07-19T14:41:49.796Z"
   },
   {
    "duration": 140919,
    "start_time": "2023-07-19T14:44:19.469Z"
   },
   {
    "duration": 204318,
    "start_time": "2023-07-19T14:46:40.391Z"
   },
   {
    "duration": 10,
    "start_time": "2023-07-19T14:50:04.710Z"
   },
   {
    "duration": 14,
    "start_time": "2023-07-19T14:50:04.722Z"
   },
   {
    "duration": 87097,
    "start_time": "2023-07-19T14:50:04.737Z"
   },
   {
    "duration": 5633,
    "start_time": "2023-07-19T14:51:31.836Z"
   },
   {
    "duration": 384,
    "start_time": "2023-07-19T14:51:37.470Z"
   },
   {
    "duration": 1114,
    "start_time": "2023-07-19T14:51:37.856Z"
   },
   {
    "duration": 10,
    "start_time": "2023-07-19T14:51:38.972Z"
   },
   {
    "duration": 1899,
    "start_time": "2023-07-19T14:51:38.983Z"
   },
   {
    "duration": 206,
    "start_time": "2023-07-19T14:51:40.884Z"
   },
   {
    "duration": 167,
    "start_time": "2023-07-19T14:51:41.092Z"
   },
   {
    "duration": 0,
    "start_time": "2023-07-19T14:51:42.052Z"
   },
   {
    "duration": 12,
    "start_time": "2023-07-19T16:38:14.826Z"
   },
   {
    "duration": 16,
    "start_time": "2023-07-19T16:38:47.926Z"
   },
   {
    "duration": 14,
    "start_time": "2023-07-19T16:39:56.850Z"
   },
   {
    "duration": 12,
    "start_time": "2023-07-19T16:40:09.727Z"
   },
   {
    "duration": 4380,
    "start_time": "2023-07-19T16:40:32.872Z"
   },
   {
    "duration": 764,
    "start_time": "2023-07-19T16:40:54.885Z"
   }
  ],
  "colab": {
   "provenance": [],
   "toc_visible": true
  },
  "gpuClass": "standard",
  "kernelspec": {
   "display_name": "Python 3 (ipykernel)",
   "language": "python",
   "name": "python3"
  },
  "language_info": {
   "codemirror_mode": {
    "name": "ipython",
    "version": 3
   },
   "file_extension": ".py",
   "mimetype": "text/x-python",
   "name": "python",
   "nbconvert_exporter": "python",
   "pygments_lexer": "ipython3",
   "version": "3.9.5"
  },
  "toc": {
   "base_numbering": 1,
   "nav_menu": {
    "height": "422.989px",
    "width": "405px"
   },
   "number_sections": true,
   "sideBar": true,
   "skip_h1_title": true,
   "title_cell": "Table of Contents",
   "title_sidebar": "Contents",
   "toc_cell": false,
   "toc_position": {
    "height": "calc(100% - 180px)",
    "left": "10px",
    "top": "150px",
    "width": "449.989px"
   },
   "toc_section_display": true,
   "toc_window_display": false
  }
 },
 "nbformat": 4,
 "nbformat_minor": 1
}
