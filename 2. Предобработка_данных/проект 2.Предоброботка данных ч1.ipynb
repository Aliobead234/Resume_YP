{
 "cells": [
  {
   "cell_type": "markdown",
   "id": "4f11de00",
   "metadata": {
    "deletable": false,
    "editable": false,
    "id": "4f11de00"
   },
   "source": [
    "# Исследование надежности заемщиков"
   ]
  },
  {
   "cell_type": "markdown",
   "id": "f09d6878",
   "metadata": {
    "deletable": false,
    "editable": false,
    "id": "f09d6878"
   },
   "source": [
    "Это первая часть проекта, она будет проверена автоматически. Вторую часть проверит ревьюер. "
   ]
  },
  {
   "cell_type": "markdown",
   "id": "516620ee",
   "metadata": {
    "deletable": false,
    "editable": false,
    "id": "516620ee"
   },
   "source": [
    "## Откройте таблицу и изучите общую информацию о данных"
   ]
  },
  {
   "cell_type": "markdown",
   "id": "76a8a9ce",
   "metadata": {
    "deletable": false,
    "editable": false,
    "id": "76a8a9ce",
    "tags": [
     "start_task"
    ]
   },
   "source": [
    "**Задание 1. Импортируйте библиотеку pandas. Считайте данные из csv-файла в датафрейм и сохраните в переменную `data`. Путь к файлу:**\n",
    "\n",
    "`/datasets/data.csv`"
   ]
  },
  {
   "cell_type": "code",
   "execution_count": 1,
   "id": "fab207d0",
   "metadata": {
    "id": "fab207d0"
   },
   "outputs": [],
   "source": [
    "# импортируйте библиотеку pandas\n",
    "import pandas as pd"
   ]
  },
  {
   "cell_type": "code",
   "execution_count": 2,
   "id": "6c82b607",
   "metadata": {
    "id": "6c82b607"
   },
   "outputs": [],
   "source": [
    "# прочитайте csv-файл\n",
    "data = pd.read_csv('/datasets/data.csv')"
   ]
  },
  {
   "cell_type": "markdown",
   "id": "08bbb5b3",
   "metadata": {
    "deletable": false,
    "editable": false,
    "id": "08bbb5b3",
    "tags": [
     "start_task"
    ]
   },
   "source": [
    "**Задание 2. Выведите первые 20 строчек датафрейма `data` на экран.**"
   ]
  },
  {
   "cell_type": "code",
   "execution_count": 3,
   "id": "4ff33b36",
   "metadata": {
    "id": "4ff33b36"
   },
   "outputs": [
    {
     "data": {
      "text/html": [
       "<div>\n",
       "<style scoped>\n",
       "    .dataframe tbody tr th:only-of-type {\n",
       "        vertical-align: middle;\n",
       "    }\n",
       "\n",
       "    .dataframe tbody tr th {\n",
       "        vertical-align: top;\n",
       "    }\n",
       "\n",
       "    .dataframe thead th {\n",
       "        text-align: right;\n",
       "    }\n",
       "</style>\n",
       "<table border=\"1\" class=\"dataframe\">\n",
       "  <thead>\n",
       "    <tr style=\"text-align: right;\">\n",
       "      <th></th>\n",
       "      <th>children</th>\n",
       "      <th>days_employed</th>\n",
       "      <th>dob_years</th>\n",
       "      <th>education</th>\n",
       "      <th>education_id</th>\n",
       "      <th>family_status</th>\n",
       "      <th>family_status_id</th>\n",
       "      <th>gender</th>\n",
       "      <th>income_type</th>\n",
       "      <th>debt</th>\n",
       "      <th>total_income</th>\n",
       "      <th>purpose</th>\n",
       "    </tr>\n",
       "  </thead>\n",
       "  <tbody>\n",
       "    <tr>\n",
       "      <th>0</th>\n",
       "      <td>1</td>\n",
       "      <td>-8437.673028</td>\n",
       "      <td>42</td>\n",
       "      <td>высшее</td>\n",
       "      <td>0</td>\n",
       "      <td>женат / замужем</td>\n",
       "      <td>0</td>\n",
       "      <td>F</td>\n",
       "      <td>сотрудник</td>\n",
       "      <td>0</td>\n",
       "      <td>253875.639453</td>\n",
       "      <td>покупка жилья</td>\n",
       "    </tr>\n",
       "    <tr>\n",
       "      <th>1</th>\n",
       "      <td>1</td>\n",
       "      <td>-4024.803754</td>\n",
       "      <td>36</td>\n",
       "      <td>среднее</td>\n",
       "      <td>1</td>\n",
       "      <td>женат / замужем</td>\n",
       "      <td>0</td>\n",
       "      <td>F</td>\n",
       "      <td>сотрудник</td>\n",
       "      <td>0</td>\n",
       "      <td>112080.014102</td>\n",
       "      <td>приобретение автомобиля</td>\n",
       "    </tr>\n",
       "    <tr>\n",
       "      <th>2</th>\n",
       "      <td>0</td>\n",
       "      <td>-5623.422610</td>\n",
       "      <td>33</td>\n",
       "      <td>Среднее</td>\n",
       "      <td>1</td>\n",
       "      <td>женат / замужем</td>\n",
       "      <td>0</td>\n",
       "      <td>M</td>\n",
       "      <td>сотрудник</td>\n",
       "      <td>0</td>\n",
       "      <td>145885.952297</td>\n",
       "      <td>покупка жилья</td>\n",
       "    </tr>\n",
       "    <tr>\n",
       "      <th>3</th>\n",
       "      <td>3</td>\n",
       "      <td>-4124.747207</td>\n",
       "      <td>32</td>\n",
       "      <td>среднее</td>\n",
       "      <td>1</td>\n",
       "      <td>женат / замужем</td>\n",
       "      <td>0</td>\n",
       "      <td>M</td>\n",
       "      <td>сотрудник</td>\n",
       "      <td>0</td>\n",
       "      <td>267628.550329</td>\n",
       "      <td>дополнительное образование</td>\n",
       "    </tr>\n",
       "    <tr>\n",
       "      <th>4</th>\n",
       "      <td>0</td>\n",
       "      <td>340266.072047</td>\n",
       "      <td>53</td>\n",
       "      <td>среднее</td>\n",
       "      <td>1</td>\n",
       "      <td>гражданский брак</td>\n",
       "      <td>1</td>\n",
       "      <td>F</td>\n",
       "      <td>пенсионер</td>\n",
       "      <td>0</td>\n",
       "      <td>158616.077870</td>\n",
       "      <td>сыграть свадьбу</td>\n",
       "    </tr>\n",
       "    <tr>\n",
       "      <th>5</th>\n",
       "      <td>0</td>\n",
       "      <td>-926.185831</td>\n",
       "      <td>27</td>\n",
       "      <td>высшее</td>\n",
       "      <td>0</td>\n",
       "      <td>гражданский брак</td>\n",
       "      <td>1</td>\n",
       "      <td>M</td>\n",
       "      <td>компаньон</td>\n",
       "      <td>0</td>\n",
       "      <td>255763.565419</td>\n",
       "      <td>покупка жилья</td>\n",
       "    </tr>\n",
       "    <tr>\n",
       "      <th>6</th>\n",
       "      <td>0</td>\n",
       "      <td>-2879.202052</td>\n",
       "      <td>43</td>\n",
       "      <td>высшее</td>\n",
       "      <td>0</td>\n",
       "      <td>женат / замужем</td>\n",
       "      <td>0</td>\n",
       "      <td>F</td>\n",
       "      <td>компаньон</td>\n",
       "      <td>0</td>\n",
       "      <td>240525.971920</td>\n",
       "      <td>операции с жильем</td>\n",
       "    </tr>\n",
       "    <tr>\n",
       "      <th>7</th>\n",
       "      <td>0</td>\n",
       "      <td>-152.779569</td>\n",
       "      <td>50</td>\n",
       "      <td>СРЕДНЕЕ</td>\n",
       "      <td>1</td>\n",
       "      <td>женат / замужем</td>\n",
       "      <td>0</td>\n",
       "      <td>M</td>\n",
       "      <td>сотрудник</td>\n",
       "      <td>0</td>\n",
       "      <td>135823.934197</td>\n",
       "      <td>образование</td>\n",
       "    </tr>\n",
       "    <tr>\n",
       "      <th>8</th>\n",
       "      <td>2</td>\n",
       "      <td>-6929.865299</td>\n",
       "      <td>35</td>\n",
       "      <td>ВЫСШЕЕ</td>\n",
       "      <td>0</td>\n",
       "      <td>гражданский брак</td>\n",
       "      <td>1</td>\n",
       "      <td>F</td>\n",
       "      <td>сотрудник</td>\n",
       "      <td>0</td>\n",
       "      <td>95856.832424</td>\n",
       "      <td>на проведение свадьбы</td>\n",
       "    </tr>\n",
       "    <tr>\n",
       "      <th>9</th>\n",
       "      <td>0</td>\n",
       "      <td>-2188.756445</td>\n",
       "      <td>41</td>\n",
       "      <td>среднее</td>\n",
       "      <td>1</td>\n",
       "      <td>женат / замужем</td>\n",
       "      <td>0</td>\n",
       "      <td>M</td>\n",
       "      <td>сотрудник</td>\n",
       "      <td>0</td>\n",
       "      <td>144425.938277</td>\n",
       "      <td>покупка жилья для семьи</td>\n",
       "    </tr>\n",
       "    <tr>\n",
       "      <th>10</th>\n",
       "      <td>2</td>\n",
       "      <td>-4171.483647</td>\n",
       "      <td>36</td>\n",
       "      <td>высшее</td>\n",
       "      <td>0</td>\n",
       "      <td>женат / замужем</td>\n",
       "      <td>0</td>\n",
       "      <td>M</td>\n",
       "      <td>компаньон</td>\n",
       "      <td>0</td>\n",
       "      <td>113943.491460</td>\n",
       "      <td>покупка недвижимости</td>\n",
       "    </tr>\n",
       "    <tr>\n",
       "      <th>11</th>\n",
       "      <td>0</td>\n",
       "      <td>-792.701887</td>\n",
       "      <td>40</td>\n",
       "      <td>среднее</td>\n",
       "      <td>1</td>\n",
       "      <td>женат / замужем</td>\n",
       "      <td>0</td>\n",
       "      <td>F</td>\n",
       "      <td>сотрудник</td>\n",
       "      <td>0</td>\n",
       "      <td>77069.234271</td>\n",
       "      <td>покупка коммерческой недвижимости</td>\n",
       "    </tr>\n",
       "    <tr>\n",
       "      <th>12</th>\n",
       "      <td>0</td>\n",
       "      <td>NaN</td>\n",
       "      <td>65</td>\n",
       "      <td>среднее</td>\n",
       "      <td>1</td>\n",
       "      <td>гражданский брак</td>\n",
       "      <td>1</td>\n",
       "      <td>M</td>\n",
       "      <td>пенсионер</td>\n",
       "      <td>0</td>\n",
       "      <td>NaN</td>\n",
       "      <td>сыграть свадьбу</td>\n",
       "    </tr>\n",
       "    <tr>\n",
       "      <th>13</th>\n",
       "      <td>0</td>\n",
       "      <td>-1846.641941</td>\n",
       "      <td>54</td>\n",
       "      <td>неоконченное высшее</td>\n",
       "      <td>2</td>\n",
       "      <td>женат / замужем</td>\n",
       "      <td>0</td>\n",
       "      <td>F</td>\n",
       "      <td>сотрудник</td>\n",
       "      <td>0</td>\n",
       "      <td>130458.228857</td>\n",
       "      <td>приобретение автомобиля</td>\n",
       "    </tr>\n",
       "    <tr>\n",
       "      <th>14</th>\n",
       "      <td>0</td>\n",
       "      <td>-1844.956182</td>\n",
       "      <td>56</td>\n",
       "      <td>высшее</td>\n",
       "      <td>0</td>\n",
       "      <td>гражданский брак</td>\n",
       "      <td>1</td>\n",
       "      <td>F</td>\n",
       "      <td>компаньон</td>\n",
       "      <td>1</td>\n",
       "      <td>165127.911772</td>\n",
       "      <td>покупка жилой недвижимости</td>\n",
       "    </tr>\n",
       "    <tr>\n",
       "      <th>15</th>\n",
       "      <td>1</td>\n",
       "      <td>-972.364419</td>\n",
       "      <td>26</td>\n",
       "      <td>среднее</td>\n",
       "      <td>1</td>\n",
       "      <td>женат / замужем</td>\n",
       "      <td>0</td>\n",
       "      <td>F</td>\n",
       "      <td>сотрудник</td>\n",
       "      <td>0</td>\n",
       "      <td>116820.904450</td>\n",
       "      <td>строительство собственной недвижимости</td>\n",
       "    </tr>\n",
       "    <tr>\n",
       "      <th>16</th>\n",
       "      <td>0</td>\n",
       "      <td>-1719.934226</td>\n",
       "      <td>35</td>\n",
       "      <td>среднее</td>\n",
       "      <td>1</td>\n",
       "      <td>женат / замужем</td>\n",
       "      <td>0</td>\n",
       "      <td>F</td>\n",
       "      <td>сотрудник</td>\n",
       "      <td>0</td>\n",
       "      <td>289202.704229</td>\n",
       "      <td>недвижимость</td>\n",
       "    </tr>\n",
       "    <tr>\n",
       "      <th>17</th>\n",
       "      <td>0</td>\n",
       "      <td>-2369.999720</td>\n",
       "      <td>33</td>\n",
       "      <td>высшее</td>\n",
       "      <td>0</td>\n",
       "      <td>гражданский брак</td>\n",
       "      <td>1</td>\n",
       "      <td>M</td>\n",
       "      <td>сотрудник</td>\n",
       "      <td>0</td>\n",
       "      <td>90410.586745</td>\n",
       "      <td>строительство недвижимости</td>\n",
       "    </tr>\n",
       "    <tr>\n",
       "      <th>18</th>\n",
       "      <td>0</td>\n",
       "      <td>400281.136913</td>\n",
       "      <td>53</td>\n",
       "      <td>среднее</td>\n",
       "      <td>1</td>\n",
       "      <td>вдовец / вдова</td>\n",
       "      <td>2</td>\n",
       "      <td>F</td>\n",
       "      <td>пенсионер</td>\n",
       "      <td>0</td>\n",
       "      <td>56823.777243</td>\n",
       "      <td>на покупку подержанного автомобиля</td>\n",
       "    </tr>\n",
       "    <tr>\n",
       "      <th>19</th>\n",
       "      <td>0</td>\n",
       "      <td>-10038.818549</td>\n",
       "      <td>48</td>\n",
       "      <td>СРЕДНЕЕ</td>\n",
       "      <td>1</td>\n",
       "      <td>в разводе</td>\n",
       "      <td>3</td>\n",
       "      <td>F</td>\n",
       "      <td>сотрудник</td>\n",
       "      <td>0</td>\n",
       "      <td>242831.107982</td>\n",
       "      <td>на покупку своего автомобиля</td>\n",
       "    </tr>\n",
       "  </tbody>\n",
       "</table>\n",
       "</div>"
      ],
      "text/plain": [
       "    children  days_employed  dob_years            education  education_id  \\\n",
       "0          1   -8437.673028         42               высшее             0   \n",
       "1          1   -4024.803754         36              среднее             1   \n",
       "2          0   -5623.422610         33              Среднее             1   \n",
       "3          3   -4124.747207         32              среднее             1   \n",
       "4          0  340266.072047         53              среднее             1   \n",
       "5          0    -926.185831         27               высшее             0   \n",
       "6          0   -2879.202052         43               высшее             0   \n",
       "7          0    -152.779569         50              СРЕДНЕЕ             1   \n",
       "8          2   -6929.865299         35               ВЫСШЕЕ             0   \n",
       "9          0   -2188.756445         41              среднее             1   \n",
       "10         2   -4171.483647         36               высшее             0   \n",
       "11         0    -792.701887         40              среднее             1   \n",
       "12         0            NaN         65              среднее             1   \n",
       "13         0   -1846.641941         54  неоконченное высшее             2   \n",
       "14         0   -1844.956182         56               высшее             0   \n",
       "15         1    -972.364419         26              среднее             1   \n",
       "16         0   -1719.934226         35              среднее             1   \n",
       "17         0   -2369.999720         33               высшее             0   \n",
       "18         0  400281.136913         53              среднее             1   \n",
       "19         0  -10038.818549         48              СРЕДНЕЕ             1   \n",
       "\n",
       "       family_status  family_status_id gender income_type  debt  \\\n",
       "0    женат / замужем                 0      F   сотрудник     0   \n",
       "1    женат / замужем                 0      F   сотрудник     0   \n",
       "2    женат / замужем                 0      M   сотрудник     0   \n",
       "3    женат / замужем                 0      M   сотрудник     0   \n",
       "4   гражданский брак                 1      F   пенсионер     0   \n",
       "5   гражданский брак                 1      M   компаньон     0   \n",
       "6    женат / замужем                 0      F   компаньон     0   \n",
       "7    женат / замужем                 0      M   сотрудник     0   \n",
       "8   гражданский брак                 1      F   сотрудник     0   \n",
       "9    женат / замужем                 0      M   сотрудник     0   \n",
       "10   женат / замужем                 0      M   компаньон     0   \n",
       "11   женат / замужем                 0      F   сотрудник     0   \n",
       "12  гражданский брак                 1      M   пенсионер     0   \n",
       "13   женат / замужем                 0      F   сотрудник     0   \n",
       "14  гражданский брак                 1      F   компаньон     1   \n",
       "15   женат / замужем                 0      F   сотрудник     0   \n",
       "16   женат / замужем                 0      F   сотрудник     0   \n",
       "17  гражданский брак                 1      M   сотрудник     0   \n",
       "18    вдовец / вдова                 2      F   пенсионер     0   \n",
       "19         в разводе                 3      F   сотрудник     0   \n",
       "\n",
       "     total_income                                 purpose  \n",
       "0   253875.639453                           покупка жилья  \n",
       "1   112080.014102                 приобретение автомобиля  \n",
       "2   145885.952297                           покупка жилья  \n",
       "3   267628.550329              дополнительное образование  \n",
       "4   158616.077870                         сыграть свадьбу  \n",
       "5   255763.565419                           покупка жилья  \n",
       "6   240525.971920                       операции с жильем  \n",
       "7   135823.934197                             образование  \n",
       "8    95856.832424                   на проведение свадьбы  \n",
       "9   144425.938277                 покупка жилья для семьи  \n",
       "10  113943.491460                    покупка недвижимости  \n",
       "11   77069.234271       покупка коммерческой недвижимости  \n",
       "12            NaN                         сыграть свадьбу  \n",
       "13  130458.228857                 приобретение автомобиля  \n",
       "14  165127.911772              покупка жилой недвижимости  \n",
       "15  116820.904450  строительство собственной недвижимости  \n",
       "16  289202.704229                            недвижимость  \n",
       "17   90410.586745              строительство недвижимости  \n",
       "18   56823.777243      на покупку подержанного автомобиля  \n",
       "19  242831.107982            на покупку своего автомобиля  "
      ]
     },
     "execution_count": 3,
     "metadata": {},
     "output_type": "execute_result"
    }
   ],
   "source": [
    "# ваш код здесь\n",
    "data.head(20)"
   ]
  },
  {
   "cell_type": "markdown",
   "id": "c8f382ae",
   "metadata": {
    "deletable": false,
    "editable": false,
    "id": "c8f382ae",
    "tags": [
     "start_task"
    ]
   },
   "source": [
    "**Задание 3. Выведите основную информацию о датафрейме с помощью метода `info()`.**"
   ]
  },
  {
   "cell_type": "code",
   "execution_count": 4,
   "id": "e1ed9908",
   "metadata": {
    "id": "e1ed9908"
   },
   "outputs": [
    {
     "name": "stdout",
     "output_type": "stream",
     "text": [
      "<class 'pandas.core.frame.DataFrame'>\n",
      "RangeIndex: 21525 entries, 0 to 21524\n",
      "Data columns (total 12 columns):\n",
      " #   Column            Non-Null Count  Dtype  \n",
      "---  ------            --------------  -----  \n",
      " 0   children          21525 non-null  int64  \n",
      " 1   days_employed     19351 non-null  float64\n",
      " 2   dob_years         21525 non-null  int64  \n",
      " 3   education         21525 non-null  object \n",
      " 4   education_id      21525 non-null  int64  \n",
      " 5   family_status     21525 non-null  object \n",
      " 6   family_status_id  21525 non-null  int64  \n",
      " 7   gender            21525 non-null  object \n",
      " 8   income_type       21525 non-null  object \n",
      " 9   debt              21525 non-null  int64  \n",
      " 10  total_income      19351 non-null  float64\n",
      " 11  purpose           21525 non-null  object \n",
      "dtypes: float64(2), int64(5), object(5)\n",
      "memory usage: 2.0+ MB\n"
     ]
    }
   ],
   "source": [
    "# ваш код здесь\n",
    "data.info()"
   ]
  },
  {
   "cell_type": "markdown",
   "id": "f969a1cd",
   "metadata": {
    "deletable": false,
    "editable": false,
    "id": "f969a1cd"
   },
   "source": [
    "## Предобработка данных"
   ]
  },
  {
   "cell_type": "markdown",
   "id": "7283e864",
   "metadata": {
    "deletable": false,
    "editable": false,
    "id": "7283e864"
   },
   "source": [
    "### Удаление пропусков"
   ]
  },
  {
   "cell_type": "markdown",
   "id": "c9a0745e",
   "metadata": {
    "deletable": false,
    "editable": false,
    "id": "c9a0745e",
    "tags": [
     "start_task"
    ]
   },
   "source": [
    "**Задание 4. Выведите количество пропущенных значений для каждого столбца. Используйте комбинацию двух методов.**"
   ]
  },
  {
   "cell_type": "code",
   "execution_count": 5,
   "id": "b7a096e1",
   "metadata": {
    "id": "b7a096e1",
    "scrolled": true
   },
   "outputs": [
    {
     "name": "stdout",
     "output_type": "stream",
     "text": [
      "children               0\n",
      "days_employed       2174\n",
      "dob_years              0\n",
      "education              0\n",
      "education_id           0\n",
      "family_status          0\n",
      "family_status_id       0\n",
      "gender                 0\n",
      "income_type            0\n",
      "debt                   0\n",
      "total_income        2174\n",
      "purpose                0\n",
      "dtype: int64\n"
     ]
    }
   ],
   "source": [
    "# ваш код здесь\n",
    "error = data.isna().sum()\n",
    "print(error)"
   ]
  },
  {
   "cell_type": "markdown",
   "id": "c2578616",
   "metadata": {
    "deletable": false,
    "editable": false,
    "id": "c2578616",
    "tags": [
     "start_task"
    ]
   },
   "source": [
    "**Задание 5. В двух столбцах есть пропущенные значения. Один из них — `days_employed`. Пропуски в этом столбце вы обработаете на следующем этапе. Другой столбец с пропущенными значениями — `total_income` — хранит данные о доходах. На сумму дохода сильнее всего влияет тип занятости, поэтому заполнить пропуски в этом столбце нужно медианным значением по каждому типу из столбца `income_type`. Например, у человека с типом занятости `сотрудник` пропуск в столбце `total_income` должен быть заполнен медианным доходом среди всех записей с тем же типом.**"
   ]
  },
  {
   "cell_type": "code",
   "execution_count": 6,
   "id": "e8afc4bc",
   "metadata": {
    "id": "e8afc4bc"
   },
   "outputs": [
    {
     "name": "stdout",
     "output_type": "stream",
     "text": [
      "None\n"
     ]
    },
    {
     "data": {
      "text/html": [
       "<div>\n",
       "<style scoped>\n",
       "    .dataframe tbody tr th:only-of-type {\n",
       "        vertical-align: middle;\n",
       "    }\n",
       "\n",
       "    .dataframe tbody tr th {\n",
       "        vertical-align: top;\n",
       "    }\n",
       "\n",
       "    .dataframe thead th {\n",
       "        text-align: right;\n",
       "    }\n",
       "</style>\n",
       "<table border=\"1\" class=\"dataframe\">\n",
       "  <thead>\n",
       "    <tr style=\"text-align: right;\">\n",
       "      <th></th>\n",
       "      <th>children</th>\n",
       "      <th>days_employed</th>\n",
       "      <th>dob_years</th>\n",
       "      <th>education</th>\n",
       "      <th>education_id</th>\n",
       "      <th>family_status</th>\n",
       "      <th>family_status_id</th>\n",
       "      <th>gender</th>\n",
       "      <th>income_type</th>\n",
       "      <th>debt</th>\n",
       "      <th>total_income</th>\n",
       "      <th>purpose</th>\n",
       "    </tr>\n",
       "  </thead>\n",
       "  <tbody>\n",
       "    <tr>\n",
       "      <th>0</th>\n",
       "      <td>1</td>\n",
       "      <td>-8437.673028</td>\n",
       "      <td>42</td>\n",
       "      <td>высшее</td>\n",
       "      <td>0</td>\n",
       "      <td>женат / замужем</td>\n",
       "      <td>0</td>\n",
       "      <td>F</td>\n",
       "      <td>сотрудник</td>\n",
       "      <td>0</td>\n",
       "      <td>253875.639453</td>\n",
       "      <td>покупка жилья</td>\n",
       "    </tr>\n",
       "    <tr>\n",
       "      <th>1</th>\n",
       "      <td>1</td>\n",
       "      <td>-4024.803754</td>\n",
       "      <td>36</td>\n",
       "      <td>среднее</td>\n",
       "      <td>1</td>\n",
       "      <td>женат / замужем</td>\n",
       "      <td>0</td>\n",
       "      <td>F</td>\n",
       "      <td>сотрудник</td>\n",
       "      <td>0</td>\n",
       "      <td>112080.014102</td>\n",
       "      <td>приобретение автомобиля</td>\n",
       "    </tr>\n",
       "    <tr>\n",
       "      <th>2</th>\n",
       "      <td>0</td>\n",
       "      <td>-5623.422610</td>\n",
       "      <td>33</td>\n",
       "      <td>Среднее</td>\n",
       "      <td>1</td>\n",
       "      <td>женат / замужем</td>\n",
       "      <td>0</td>\n",
       "      <td>M</td>\n",
       "      <td>сотрудник</td>\n",
       "      <td>0</td>\n",
       "      <td>145885.952297</td>\n",
       "      <td>покупка жилья</td>\n",
       "    </tr>\n",
       "    <tr>\n",
       "      <th>3</th>\n",
       "      <td>3</td>\n",
       "      <td>-4124.747207</td>\n",
       "      <td>32</td>\n",
       "      <td>среднее</td>\n",
       "      <td>1</td>\n",
       "      <td>женат / замужем</td>\n",
       "      <td>0</td>\n",
       "      <td>M</td>\n",
       "      <td>сотрудник</td>\n",
       "      <td>0</td>\n",
       "      <td>267628.550329</td>\n",
       "      <td>дополнительное образование</td>\n",
       "    </tr>\n",
       "    <tr>\n",
       "      <th>4</th>\n",
       "      <td>0</td>\n",
       "      <td>340266.072047</td>\n",
       "      <td>53</td>\n",
       "      <td>среднее</td>\n",
       "      <td>1</td>\n",
       "      <td>гражданский брак</td>\n",
       "      <td>1</td>\n",
       "      <td>F</td>\n",
       "      <td>пенсионер</td>\n",
       "      <td>0</td>\n",
       "      <td>158616.077870</td>\n",
       "      <td>сыграть свадьбу</td>\n",
       "    </tr>\n",
       "    <tr>\n",
       "      <th>5</th>\n",
       "      <td>0</td>\n",
       "      <td>-926.185831</td>\n",
       "      <td>27</td>\n",
       "      <td>высшее</td>\n",
       "      <td>0</td>\n",
       "      <td>гражданский брак</td>\n",
       "      <td>1</td>\n",
       "      <td>M</td>\n",
       "      <td>компаньон</td>\n",
       "      <td>0</td>\n",
       "      <td>255763.565419</td>\n",
       "      <td>покупка жилья</td>\n",
       "    </tr>\n",
       "    <tr>\n",
       "      <th>6</th>\n",
       "      <td>0</td>\n",
       "      <td>-2879.202052</td>\n",
       "      <td>43</td>\n",
       "      <td>высшее</td>\n",
       "      <td>0</td>\n",
       "      <td>женат / замужем</td>\n",
       "      <td>0</td>\n",
       "      <td>F</td>\n",
       "      <td>компаньон</td>\n",
       "      <td>0</td>\n",
       "      <td>240525.971920</td>\n",
       "      <td>операции с жильем</td>\n",
       "    </tr>\n",
       "    <tr>\n",
       "      <th>7</th>\n",
       "      <td>0</td>\n",
       "      <td>-152.779569</td>\n",
       "      <td>50</td>\n",
       "      <td>СРЕДНЕЕ</td>\n",
       "      <td>1</td>\n",
       "      <td>женат / замужем</td>\n",
       "      <td>0</td>\n",
       "      <td>M</td>\n",
       "      <td>сотрудник</td>\n",
       "      <td>0</td>\n",
       "      <td>135823.934197</td>\n",
       "      <td>образование</td>\n",
       "    </tr>\n",
       "    <tr>\n",
       "      <th>8</th>\n",
       "      <td>2</td>\n",
       "      <td>-6929.865299</td>\n",
       "      <td>35</td>\n",
       "      <td>ВЫСШЕЕ</td>\n",
       "      <td>0</td>\n",
       "      <td>гражданский брак</td>\n",
       "      <td>1</td>\n",
       "      <td>F</td>\n",
       "      <td>сотрудник</td>\n",
       "      <td>0</td>\n",
       "      <td>95856.832424</td>\n",
       "      <td>на проведение свадьбы</td>\n",
       "    </tr>\n",
       "    <tr>\n",
       "      <th>9</th>\n",
       "      <td>0</td>\n",
       "      <td>-2188.756445</td>\n",
       "      <td>41</td>\n",
       "      <td>среднее</td>\n",
       "      <td>1</td>\n",
       "      <td>женат / замужем</td>\n",
       "      <td>0</td>\n",
       "      <td>M</td>\n",
       "      <td>сотрудник</td>\n",
       "      <td>0</td>\n",
       "      <td>144425.938277</td>\n",
       "      <td>покупка жилья для семьи</td>\n",
       "    </tr>\n",
       "    <tr>\n",
       "      <th>10</th>\n",
       "      <td>2</td>\n",
       "      <td>-4171.483647</td>\n",
       "      <td>36</td>\n",
       "      <td>высшее</td>\n",
       "      <td>0</td>\n",
       "      <td>женат / замужем</td>\n",
       "      <td>0</td>\n",
       "      <td>M</td>\n",
       "      <td>компаньон</td>\n",
       "      <td>0</td>\n",
       "      <td>113943.491460</td>\n",
       "      <td>покупка недвижимости</td>\n",
       "    </tr>\n",
       "    <tr>\n",
       "      <th>11</th>\n",
       "      <td>0</td>\n",
       "      <td>-792.701887</td>\n",
       "      <td>40</td>\n",
       "      <td>среднее</td>\n",
       "      <td>1</td>\n",
       "      <td>женат / замужем</td>\n",
       "      <td>0</td>\n",
       "      <td>F</td>\n",
       "      <td>сотрудник</td>\n",
       "      <td>0</td>\n",
       "      <td>77069.234271</td>\n",
       "      <td>покупка коммерческой недвижимости</td>\n",
       "    </tr>\n",
       "    <tr>\n",
       "      <th>12</th>\n",
       "      <td>0</td>\n",
       "      <td>NaN</td>\n",
       "      <td>65</td>\n",
       "      <td>среднее</td>\n",
       "      <td>1</td>\n",
       "      <td>гражданский брак</td>\n",
       "      <td>1</td>\n",
       "      <td>M</td>\n",
       "      <td>пенсионер</td>\n",
       "      <td>0</td>\n",
       "      <td>118514.486412</td>\n",
       "      <td>сыграть свадьбу</td>\n",
       "    </tr>\n",
       "    <tr>\n",
       "      <th>13</th>\n",
       "      <td>0</td>\n",
       "      <td>-1846.641941</td>\n",
       "      <td>54</td>\n",
       "      <td>неоконченное высшее</td>\n",
       "      <td>2</td>\n",
       "      <td>женат / замужем</td>\n",
       "      <td>0</td>\n",
       "      <td>F</td>\n",
       "      <td>сотрудник</td>\n",
       "      <td>0</td>\n",
       "      <td>130458.228857</td>\n",
       "      <td>приобретение автомобиля</td>\n",
       "    </tr>\n",
       "    <tr>\n",
       "      <th>14</th>\n",
       "      <td>0</td>\n",
       "      <td>-1844.956182</td>\n",
       "      <td>56</td>\n",
       "      <td>высшее</td>\n",
       "      <td>0</td>\n",
       "      <td>гражданский брак</td>\n",
       "      <td>1</td>\n",
       "      <td>F</td>\n",
       "      <td>компаньон</td>\n",
       "      <td>1</td>\n",
       "      <td>165127.911772</td>\n",
       "      <td>покупка жилой недвижимости</td>\n",
       "    </tr>\n",
       "  </tbody>\n",
       "</table>\n",
       "</div>"
      ],
      "text/plain": [
       "    children  days_employed  dob_years            education  education_id  \\\n",
       "0          1   -8437.673028         42               высшее             0   \n",
       "1          1   -4024.803754         36              среднее             1   \n",
       "2          0   -5623.422610         33              Среднее             1   \n",
       "3          3   -4124.747207         32              среднее             1   \n",
       "4          0  340266.072047         53              среднее             1   \n",
       "5          0    -926.185831         27               высшее             0   \n",
       "6          0   -2879.202052         43               высшее             0   \n",
       "7          0    -152.779569         50              СРЕДНЕЕ             1   \n",
       "8          2   -6929.865299         35               ВЫСШЕЕ             0   \n",
       "9          0   -2188.756445         41              среднее             1   \n",
       "10         2   -4171.483647         36               высшее             0   \n",
       "11         0    -792.701887         40              среднее             1   \n",
       "12         0            NaN         65              среднее             1   \n",
       "13         0   -1846.641941         54  неоконченное высшее             2   \n",
       "14         0   -1844.956182         56               высшее             0   \n",
       "\n",
       "       family_status  family_status_id gender income_type  debt  \\\n",
       "0    женат / замужем                 0      F   сотрудник     0   \n",
       "1    женат / замужем                 0      F   сотрудник     0   \n",
       "2    женат / замужем                 0      M   сотрудник     0   \n",
       "3    женат / замужем                 0      M   сотрудник     0   \n",
       "4   гражданский брак                 1      F   пенсионер     0   \n",
       "5   гражданский брак                 1      M   компаньон     0   \n",
       "6    женат / замужем                 0      F   компаньон     0   \n",
       "7    женат / замужем                 0      M   сотрудник     0   \n",
       "8   гражданский брак                 1      F   сотрудник     0   \n",
       "9    женат / замужем                 0      M   сотрудник     0   \n",
       "10   женат / замужем                 0      M   компаньон     0   \n",
       "11   женат / замужем                 0      F   сотрудник     0   \n",
       "12  гражданский брак                 1      M   пенсионер     0   \n",
       "13   женат / замужем                 0      F   сотрудник     0   \n",
       "14  гражданский брак                 1      F   компаньон     1   \n",
       "\n",
       "     total_income                            purpose  \n",
       "0   253875.639453                      покупка жилья  \n",
       "1   112080.014102            приобретение автомобиля  \n",
       "2   145885.952297                      покупка жилья  \n",
       "3   267628.550329         дополнительное образование  \n",
       "4   158616.077870                    сыграть свадьбу  \n",
       "5   255763.565419                      покупка жилья  \n",
       "6   240525.971920                  операции с жильем  \n",
       "7   135823.934197                        образование  \n",
       "8    95856.832424              на проведение свадьбы  \n",
       "9   144425.938277            покупка жилья для семьи  \n",
       "10  113943.491460               покупка недвижимости  \n",
       "11   77069.234271  покупка коммерческой недвижимости  \n",
       "12  118514.486412                    сыграть свадьбу  \n",
       "13  130458.228857            приобретение автомобиля  \n",
       "14  165127.911772         покупка жилой недвижимости  "
      ]
     },
     "execution_count": 6,
     "metadata": {},
     "output_type": "execute_result"
    }
   ],
   "source": [
    "# ваш код здесь\n",
    "#data['total_income'] = (data.groupby('income_type')['total_income'].transform(lambda g: g.fillna(g.median())))\n",
    "#data['total_income'].head(20)\n",
    "\n",
    "median_income = data.groupby('income_type')['total_income'].transform('median') \n",
    "print(data['total_income'].fillna(median_income, inplace=True)) \n",
    "data.head(15)"
   ]
  },
  {
   "cell_type": "code",
   "execution_count": null,
   "id": "647cc65e",
   "metadata": {},
   "outputs": [],
   "source": []
  },
  {
   "cell_type": "markdown",
   "id": "dd5e7844",
   "metadata": {
    "editable": false,
    "id": "ae986d46"
   },
   "source": [
    "### Обработка аномальных значений"
   ]
  },
  {
   "cell_type": "markdown",
   "id": "ae986d46",
   "metadata": {
    "deletable": false,
    "editable": false,
    "id": "ae986d46"
   },
   "source": [
    "### Обработка аномальных значений"
   ]
  },
  {
   "cell_type": "markdown",
   "id": "b049cbae",
   "metadata": {
    "deletable": false,
    "editable": false,
    "id": "b049cbae",
    "tags": [
     "start_task"
    ]
   },
   "source": [
    "**Задание 6. В данных могут встречаться артефакты (аномалии) — значения, которые не отражают действительность и появились по какой-то ошибке. Таким артефактом будет отрицательное количество дней трудового стажа в столбце `days_employed`. Для реальных данных это нормально. Обработайте значения в этом столбце: замените все отрицательные значения положительными с помощью метода `abs()`.**"
   ]
  },
  {
   "cell_type": "code",
   "execution_count": 7,
   "id": "187779b0",
   "metadata": {
    "id": "187779b0"
   },
   "outputs": [
    {
     "data": {
      "text/html": [
       "<div>\n",
       "<style scoped>\n",
       "    .dataframe tbody tr th:only-of-type {\n",
       "        vertical-align: middle;\n",
       "    }\n",
       "\n",
       "    .dataframe tbody tr th {\n",
       "        vertical-align: top;\n",
       "    }\n",
       "\n",
       "    .dataframe thead th {\n",
       "        text-align: right;\n",
       "    }\n",
       "</style>\n",
       "<table border=\"1\" class=\"dataframe\">\n",
       "  <thead>\n",
       "    <tr style=\"text-align: right;\">\n",
       "      <th></th>\n",
       "      <th>children</th>\n",
       "      <th>days_employed</th>\n",
       "      <th>dob_years</th>\n",
       "      <th>education</th>\n",
       "      <th>education_id</th>\n",
       "      <th>family_status</th>\n",
       "      <th>family_status_id</th>\n",
       "      <th>gender</th>\n",
       "      <th>income_type</th>\n",
       "      <th>debt</th>\n",
       "      <th>total_income</th>\n",
       "      <th>purpose</th>\n",
       "    </tr>\n",
       "  </thead>\n",
       "  <tbody>\n",
       "    <tr>\n",
       "      <th>0</th>\n",
       "      <td>1</td>\n",
       "      <td>8437.673028</td>\n",
       "      <td>42</td>\n",
       "      <td>высшее</td>\n",
       "      <td>0</td>\n",
       "      <td>женат / замужем</td>\n",
       "      <td>0</td>\n",
       "      <td>F</td>\n",
       "      <td>сотрудник</td>\n",
       "      <td>0</td>\n",
       "      <td>253875.639453</td>\n",
       "      <td>покупка жилья</td>\n",
       "    </tr>\n",
       "    <tr>\n",
       "      <th>1</th>\n",
       "      <td>1</td>\n",
       "      <td>4024.803754</td>\n",
       "      <td>36</td>\n",
       "      <td>среднее</td>\n",
       "      <td>1</td>\n",
       "      <td>женат / замужем</td>\n",
       "      <td>0</td>\n",
       "      <td>F</td>\n",
       "      <td>сотрудник</td>\n",
       "      <td>0</td>\n",
       "      <td>112080.014102</td>\n",
       "      <td>приобретение автомобиля</td>\n",
       "    </tr>\n",
       "    <tr>\n",
       "      <th>2</th>\n",
       "      <td>0</td>\n",
       "      <td>5623.422610</td>\n",
       "      <td>33</td>\n",
       "      <td>Среднее</td>\n",
       "      <td>1</td>\n",
       "      <td>женат / замужем</td>\n",
       "      <td>0</td>\n",
       "      <td>M</td>\n",
       "      <td>сотрудник</td>\n",
       "      <td>0</td>\n",
       "      <td>145885.952297</td>\n",
       "      <td>покупка жилья</td>\n",
       "    </tr>\n",
       "    <tr>\n",
       "      <th>3</th>\n",
       "      <td>3</td>\n",
       "      <td>4124.747207</td>\n",
       "      <td>32</td>\n",
       "      <td>среднее</td>\n",
       "      <td>1</td>\n",
       "      <td>женат / замужем</td>\n",
       "      <td>0</td>\n",
       "      <td>M</td>\n",
       "      <td>сотрудник</td>\n",
       "      <td>0</td>\n",
       "      <td>267628.550329</td>\n",
       "      <td>дополнительное образование</td>\n",
       "    </tr>\n",
       "    <tr>\n",
       "      <th>4</th>\n",
       "      <td>0</td>\n",
       "      <td>340266.072047</td>\n",
       "      <td>53</td>\n",
       "      <td>среднее</td>\n",
       "      <td>1</td>\n",
       "      <td>гражданский брак</td>\n",
       "      <td>1</td>\n",
       "      <td>F</td>\n",
       "      <td>пенсионер</td>\n",
       "      <td>0</td>\n",
       "      <td>158616.077870</td>\n",
       "      <td>сыграть свадьбу</td>\n",
       "    </tr>\n",
       "    <tr>\n",
       "      <th>5</th>\n",
       "      <td>0</td>\n",
       "      <td>926.185831</td>\n",
       "      <td>27</td>\n",
       "      <td>высшее</td>\n",
       "      <td>0</td>\n",
       "      <td>гражданский брак</td>\n",
       "      <td>1</td>\n",
       "      <td>M</td>\n",
       "      <td>компаньон</td>\n",
       "      <td>0</td>\n",
       "      <td>255763.565419</td>\n",
       "      <td>покупка жилья</td>\n",
       "    </tr>\n",
       "    <tr>\n",
       "      <th>6</th>\n",
       "      <td>0</td>\n",
       "      <td>2879.202052</td>\n",
       "      <td>43</td>\n",
       "      <td>высшее</td>\n",
       "      <td>0</td>\n",
       "      <td>женат / замужем</td>\n",
       "      <td>0</td>\n",
       "      <td>F</td>\n",
       "      <td>компаньон</td>\n",
       "      <td>0</td>\n",
       "      <td>240525.971920</td>\n",
       "      <td>операции с жильем</td>\n",
       "    </tr>\n",
       "    <tr>\n",
       "      <th>7</th>\n",
       "      <td>0</td>\n",
       "      <td>152.779569</td>\n",
       "      <td>50</td>\n",
       "      <td>СРЕДНЕЕ</td>\n",
       "      <td>1</td>\n",
       "      <td>женат / замужем</td>\n",
       "      <td>0</td>\n",
       "      <td>M</td>\n",
       "      <td>сотрудник</td>\n",
       "      <td>0</td>\n",
       "      <td>135823.934197</td>\n",
       "      <td>образование</td>\n",
       "    </tr>\n",
       "    <tr>\n",
       "      <th>8</th>\n",
       "      <td>2</td>\n",
       "      <td>6929.865299</td>\n",
       "      <td>35</td>\n",
       "      <td>ВЫСШЕЕ</td>\n",
       "      <td>0</td>\n",
       "      <td>гражданский брак</td>\n",
       "      <td>1</td>\n",
       "      <td>F</td>\n",
       "      <td>сотрудник</td>\n",
       "      <td>0</td>\n",
       "      <td>95856.832424</td>\n",
       "      <td>на проведение свадьбы</td>\n",
       "    </tr>\n",
       "    <tr>\n",
       "      <th>9</th>\n",
       "      <td>0</td>\n",
       "      <td>2188.756445</td>\n",
       "      <td>41</td>\n",
       "      <td>среднее</td>\n",
       "      <td>1</td>\n",
       "      <td>женат / замужем</td>\n",
       "      <td>0</td>\n",
       "      <td>M</td>\n",
       "      <td>сотрудник</td>\n",
       "      <td>0</td>\n",
       "      <td>144425.938277</td>\n",
       "      <td>покупка жилья для семьи</td>\n",
       "    </tr>\n",
       "    <tr>\n",
       "      <th>10</th>\n",
       "      <td>2</td>\n",
       "      <td>4171.483647</td>\n",
       "      <td>36</td>\n",
       "      <td>высшее</td>\n",
       "      <td>0</td>\n",
       "      <td>женат / замужем</td>\n",
       "      <td>0</td>\n",
       "      <td>M</td>\n",
       "      <td>компаньон</td>\n",
       "      <td>0</td>\n",
       "      <td>113943.491460</td>\n",
       "      <td>покупка недвижимости</td>\n",
       "    </tr>\n",
       "    <tr>\n",
       "      <th>11</th>\n",
       "      <td>0</td>\n",
       "      <td>792.701887</td>\n",
       "      <td>40</td>\n",
       "      <td>среднее</td>\n",
       "      <td>1</td>\n",
       "      <td>женат / замужем</td>\n",
       "      <td>0</td>\n",
       "      <td>F</td>\n",
       "      <td>сотрудник</td>\n",
       "      <td>0</td>\n",
       "      <td>77069.234271</td>\n",
       "      <td>покупка коммерческой недвижимости</td>\n",
       "    </tr>\n",
       "    <tr>\n",
       "      <th>12</th>\n",
       "      <td>0</td>\n",
       "      <td>NaN</td>\n",
       "      <td>65</td>\n",
       "      <td>среднее</td>\n",
       "      <td>1</td>\n",
       "      <td>гражданский брак</td>\n",
       "      <td>1</td>\n",
       "      <td>M</td>\n",
       "      <td>пенсионер</td>\n",
       "      <td>0</td>\n",
       "      <td>118514.486412</td>\n",
       "      <td>сыграть свадьбу</td>\n",
       "    </tr>\n",
       "    <tr>\n",
       "      <th>13</th>\n",
       "      <td>0</td>\n",
       "      <td>1846.641941</td>\n",
       "      <td>54</td>\n",
       "      <td>неоконченное высшее</td>\n",
       "      <td>2</td>\n",
       "      <td>женат / замужем</td>\n",
       "      <td>0</td>\n",
       "      <td>F</td>\n",
       "      <td>сотрудник</td>\n",
       "      <td>0</td>\n",
       "      <td>130458.228857</td>\n",
       "      <td>приобретение автомобиля</td>\n",
       "    </tr>\n",
       "    <tr>\n",
       "      <th>14</th>\n",
       "      <td>0</td>\n",
       "      <td>1844.956182</td>\n",
       "      <td>56</td>\n",
       "      <td>высшее</td>\n",
       "      <td>0</td>\n",
       "      <td>гражданский брак</td>\n",
       "      <td>1</td>\n",
       "      <td>F</td>\n",
       "      <td>компаньон</td>\n",
       "      <td>1</td>\n",
       "      <td>165127.911772</td>\n",
       "      <td>покупка жилой недвижимости</td>\n",
       "    </tr>\n",
       "  </tbody>\n",
       "</table>\n",
       "</div>"
      ],
      "text/plain": [
       "    children  days_employed  dob_years            education  education_id  \\\n",
       "0          1    8437.673028         42               высшее             0   \n",
       "1          1    4024.803754         36              среднее             1   \n",
       "2          0    5623.422610         33              Среднее             1   \n",
       "3          3    4124.747207         32              среднее             1   \n",
       "4          0  340266.072047         53              среднее             1   \n",
       "5          0     926.185831         27               высшее             0   \n",
       "6          0    2879.202052         43               высшее             0   \n",
       "7          0     152.779569         50              СРЕДНЕЕ             1   \n",
       "8          2    6929.865299         35               ВЫСШЕЕ             0   \n",
       "9          0    2188.756445         41              среднее             1   \n",
       "10         2    4171.483647         36               высшее             0   \n",
       "11         0     792.701887         40              среднее             1   \n",
       "12         0            NaN         65              среднее             1   \n",
       "13         0    1846.641941         54  неоконченное высшее             2   \n",
       "14         0    1844.956182         56               высшее             0   \n",
       "\n",
       "       family_status  family_status_id gender income_type  debt  \\\n",
       "0    женат / замужем                 0      F   сотрудник     0   \n",
       "1    женат / замужем                 0      F   сотрудник     0   \n",
       "2    женат / замужем                 0      M   сотрудник     0   \n",
       "3    женат / замужем                 0      M   сотрудник     0   \n",
       "4   гражданский брак                 1      F   пенсионер     0   \n",
       "5   гражданский брак                 1      M   компаньон     0   \n",
       "6    женат / замужем                 0      F   компаньон     0   \n",
       "7    женат / замужем                 0      M   сотрудник     0   \n",
       "8   гражданский брак                 1      F   сотрудник     0   \n",
       "9    женат / замужем                 0      M   сотрудник     0   \n",
       "10   женат / замужем                 0      M   компаньон     0   \n",
       "11   женат / замужем                 0      F   сотрудник     0   \n",
       "12  гражданский брак                 1      M   пенсионер     0   \n",
       "13   женат / замужем                 0      F   сотрудник     0   \n",
       "14  гражданский брак                 1      F   компаньон     1   \n",
       "\n",
       "     total_income                            purpose  \n",
       "0   253875.639453                      покупка жилья  \n",
       "1   112080.014102            приобретение автомобиля  \n",
       "2   145885.952297                      покупка жилья  \n",
       "3   267628.550329         дополнительное образование  \n",
       "4   158616.077870                    сыграть свадьбу  \n",
       "5   255763.565419                      покупка жилья  \n",
       "6   240525.971920                  операции с жильем  \n",
       "7   135823.934197                        образование  \n",
       "8    95856.832424              на проведение свадьбы  \n",
       "9   144425.938277            покупка жилья для семьи  \n",
       "10  113943.491460               покупка недвижимости  \n",
       "11   77069.234271  покупка коммерческой недвижимости  \n",
       "12  118514.486412                    сыграть свадьбу  \n",
       "13  130458.228857            приобретение автомобиля  \n",
       "14  165127.911772         покупка жилой недвижимости  "
      ]
     },
     "execution_count": 7,
     "metadata": {},
     "output_type": "execute_result"
    }
   ],
   "source": [
    "# ваш код здесь\n",
    "data['days_employed'] = data['days_employed'].abs()\n",
    "data.head(15)"
   ]
  },
  {
   "cell_type": "markdown",
   "id": "a13054c2",
   "metadata": {
    "deletable": false,
    "editable": false,
    "id": "a13054c2",
    "tags": [
     "start_task"
    ]
   },
   "source": [
    "**Задание 7. Для каждого типа занятости выведите медианное значение трудового стажа `days_employed` в днях.**"
   ]
  },
  {
   "cell_type": "code",
   "execution_count": 8,
   "id": "f3f5810c",
   "metadata": {
    "id": "f3f5810c"
   },
   "outputs": [
    {
     "data": {
      "text/plain": [
       "income_type\n",
       "безработный        366413.652744\n",
       "в декрете            3296.759962\n",
       "госслужащий          2689.368353\n",
       "компаньон            1547.382223\n",
       "пенсионер          365213.306266\n",
       "предприниматель       520.848083\n",
       "сотрудник            1574.202821\n",
       "студент               578.751554\n",
       "Name: days_employed, dtype: float64"
      ]
     },
     "execution_count": 8,
     "metadata": {},
     "output_type": "execute_result"
    }
   ],
   "source": [
    "# ваш код здесь\n",
    "data.groupby('income_type')['days_employed'].median()"
   ]
  },
  {
   "cell_type": "markdown",
   "id": "dbc3168c",
   "metadata": {
    "deletable": false,
    "editable": false,
    "id": "dbc3168c"
   },
   "source": [
    "У двух типов (безработные и пенсионеры) получатся аномально большие значения. Исправить такие значения сложно, поэтому оставьте их как есть."
   ]
  },
  {
   "cell_type": "markdown",
   "id": "ff4378c2",
   "metadata": {
    "deletable": false,
    "editable": false,
    "id": "ff4378c2",
    "tags": [
     "start_task"
    ]
   },
   "source": [
    "**Задание 8. Выведите перечень уникальных значений столбца `children`.**"
   ]
  },
  {
   "cell_type": "code",
   "execution_count": 9,
   "id": "9bd0c232",
   "metadata": {
    "id": "9bd0c232"
   },
   "outputs": [
    {
     "data": {
      "text/plain": [
       "array([ 1,  0,  3,  2, -1,  4, 20,  5])"
      ]
     },
     "execution_count": 9,
     "metadata": {},
     "output_type": "execute_result"
    }
   ],
   "source": [
    "# ваш код здесь\n",
    "data['children'].unique()"
   ]
  },
  {
   "cell_type": "markdown",
   "id": "8e911990",
   "metadata": {
    "deletable": false,
    "editable": false,
    "id": "8e911990",
    "tags": [
     "start_task"
    ]
   },
   "source": [
    "**Задание 9. В столбце `children` есть два аномальных значения. Удалите строки, в которых встречаются такие аномальные значения из датафрейма `data`.**"
   ]
  },
  {
   "cell_type": "code",
   "execution_count": 10,
   "id": "6d5ba289",
   "metadata": {
    "id": "6d5ba289"
   },
   "outputs": [],
   "source": [
    "# ваш код здесь\n",
    "data = data.drop(data[(data['children'] == -1) | (data['children'] == 20)].index , axis = 0)"
   ]
  },
  {
   "cell_type": "markdown",
   "id": "18d77455",
   "metadata": {
    "deletable": false,
    "editable": false,
    "id": "18d77455",
    "tags": [
     "start_task"
    ]
   },
   "source": [
    "**Задание 10. Ещё раз выведите перечень уникальных значений столбца `children`, чтобы убедиться, что артефакты удалены.**"
   ]
  },
  {
   "cell_type": "code",
   "execution_count": 11,
   "id": "2c5fa92c",
   "metadata": {
    "id": "2c5fa92c"
   },
   "outputs": [
    {
     "data": {
      "text/plain": [
       "array([1, 0, 3, 2, 4, 5])"
      ]
     },
     "execution_count": 11,
     "metadata": {},
     "output_type": "execute_result"
    }
   ],
   "source": [
    "# ваш код здесь\n",
    "data['children'].unique()"
   ]
  },
  {
   "cell_type": "markdown",
   "id": "0ec07dee",
   "metadata": {
    "deletable": false,
    "editable": false,
    "id": "0ec07dee"
   },
   "source": [
    "### Удаление пропусков (продолжение)"
   ]
  },
  {
   "cell_type": "markdown",
   "id": "0fc3ae3f",
   "metadata": {
    "deletable": false,
    "editable": false,
    "id": "0fc3ae3f",
    "tags": [
     "start_task"
    ]
   },
   "source": [
    "**Задание 11. Заполните пропуски в столбце `days_employed` медианными значениями по каждому типу занятости `income_type`.**"
   ]
  },
  {
   "cell_type": "code",
   "execution_count": 12,
   "id": "e2aea7ac",
   "metadata": {
    "id": "e2aea7ac"
   },
   "outputs": [],
   "source": [
    "# ваш код здесь\n",
    "data['days_employed'] = (data.groupby('income_type')['days_employed'].transform(lambda g: g.fillna(g.median())))\n"
   ]
  },
  {
   "cell_type": "markdown",
   "id": "97b0b795",
   "metadata": {
    "deletable": false,
    "editable": false,
    "id": "97b0b795",
    "tags": [
     "start_task"
    ]
   },
   "source": [
    "**Задание 12. Убедитесь, что все пропуски заполнены. Проверьте себя и ещё раз выведите количество пропущенных значений для каждого столбца с помощью двух методов.**"
   ]
  },
  {
   "cell_type": "code",
   "execution_count": 13,
   "id": "79632a21",
   "metadata": {
    "id": "79632a21"
   },
   "outputs": [
    {
     "data": {
      "text/plain": [
       "0"
      ]
     },
     "execution_count": 13,
     "metadata": {},
     "output_type": "execute_result"
    }
   ],
   "source": [
    "# ваш код здесь\n",
    "data['days_employed'].isna().sum()"
   ]
  },
  {
   "cell_type": "markdown",
   "id": "bd4aeb20",
   "metadata": {
    "deletable": false,
    "editable": false,
    "id": "bd4aeb20"
   },
   "source": [
    "### Изменение типов данных"
   ]
  },
  {
   "cell_type": "markdown",
   "id": "963bfa58",
   "metadata": {
    "deletable": false,
    "editable": false,
    "id": "963bfa58",
    "tags": [
     "start_task"
    ]
   },
   "source": [
    "**Задание 13. Замените вещественный тип данных в столбце `total_income` на целочисленный с помощью метода `astype()`.**"
   ]
  },
  {
   "cell_type": "code",
   "execution_count": 14,
   "id": "73da6ea0",
   "metadata": {
    "id": "73da6ea0"
   },
   "outputs": [
    {
     "data": {
      "text/plain": [
       "0        253875\n",
       "1        112080\n",
       "2        145885\n",
       "3        267628\n",
       "4        158616\n",
       "          ...  \n",
       "21520    224791\n",
       "21521    155999\n",
       "21522     89672\n",
       "21523    244093\n",
       "21524     82047\n",
       "Name: total_income, Length: 21402, dtype: int64"
      ]
     },
     "execution_count": 14,
     "metadata": {},
     "output_type": "execute_result"
    }
   ],
   "source": [
    "# ваш код здесь\n",
    "data['total_income'] = data['total_income'].astype('int')\n",
    "data['total_income']"
   ]
  },
  {
   "cell_type": "markdown",
   "id": "d290239e",
   "metadata": {
    "deletable": false,
    "editable": false,
    "id": "d290239e"
   },
   "source": [
    "### Обработка дубликатов"
   ]
  },
  {
   "cell_type": "markdown",
   "id": "1b5844fd",
   "metadata": {
    "deletable": false,
    "editable": false,
    "id": "1b5844fd",
    "tags": [
     "start_task"
    ]
   },
   "source": [
    "**Задание 14. Обработайте неявные дубликаты в столбце `education`. В этом столбце есть одни и те же значения, но записанные по-разному: с использованием заглавных и строчных букв. Приведите их к нижнему регистру.**"
   ]
  },
  {
   "cell_type": "code",
   "execution_count": 15,
   "id": "3f2504b3",
   "metadata": {
    "id": "3f2504b3"
   },
   "outputs": [],
   "source": [
    "# ваш код здесь \n",
    "data['education'] = data['education'].str.lower()\n",
    "#data['education'].head(15)"
   ]
  },
  {
   "cell_type": "markdown",
   "id": "4c22acbc",
   "metadata": {
    "deletable": false,
    "editable": false,
    "id": "4c22acbc",
    "tags": [
     "start_task"
    ]
   },
   "source": [
    "**Задание 15. Выведите на экран количество строк-дубликатов в данных. Если такие строки присутствуют, удалите их.**"
   ]
  },
  {
   "cell_type": "code",
   "execution_count": 16,
   "id": "d34a4325",
   "metadata": {
    "id": "d34a4325"
   },
   "outputs": [
    {
     "data": {
      "text/plain": [
       "71"
      ]
     },
     "execution_count": 16,
     "metadata": {},
     "output_type": "execute_result"
    }
   ],
   "source": [
    "# посчитайте дубликаты\n",
    "data.duplicated().sum()"
   ]
  },
  {
   "cell_type": "code",
   "execution_count": 17,
   "id": "6e1a6499",
   "metadata": {
    "id": "6e1a6499"
   },
   "outputs": [],
   "source": [
    "# удалите дубликаты\n",
    "data = data.drop_duplicates()\n",
    "#data.head(20)"
   ]
  },
  {
   "cell_type": "markdown",
   "id": "e5686ccc",
   "metadata": {
    "deletable": false,
    "editable": false,
    "id": "e5686ccc"
   },
   "source": [
    "### Категоризация данных"
   ]
  },
  {
   "cell_type": "markdown",
   "id": "636e9acd",
   "metadata": {
    "deletable": false,
    "editable": false,
    "id": "636e9acd",
    "tags": [
     "start_task"
    ]
   },
   "source": [
    "**Задание 16. На основании диапазонов, указанных ниже, создайте в датафрейме `data` столбец `total_income_category` с категориями:**\n",
    "\n",
    "- 0–30000 — `'E'`;\n",
    "- 30001–50000 — `'D'`;\n",
    "- 50001–200000 — `'C'`;\n",
    "- 200001–1000000 — `'B'`;\n",
    "- 1000001 и выше — `'A'`.\n",
    "\n",
    "\n",
    "**Например, кредитополучателю с доходом 25000 нужно назначить категорию `'E'`, а клиенту, получающему 235000, — `'B'`. Используйте собственную функцию с именем `categorize_income()` и метод `apply()`.**"
   ]
  },
  {
   "cell_type": "code",
   "execution_count": 18,
   "id": "880a77e5",
   "metadata": {
    "id": "880a77e5"
   },
   "outputs": [],
   "source": [
    "# создайте функцию categorize_income()\n",
    "def categorize_income(row):\n",
    "    if 0 <= row['total_income'] <= 30000:\n",
    "        return \"E\"\n",
    "    if 30001 <= row['total_income'] <= 50000:\n",
    "        return \"D\"\n",
    "    if 50001 <= row['total_income'] <= 200000:\n",
    "        return \"C\"\n",
    "    if 200001 <= row['total_income'] <= 1000000:\n",
    "        return \"B\"\n",
    "    else:\n",
    "        return \"A\""
   ]
  },
  {
   "cell_type": "code",
   "execution_count": 19,
   "id": "6f25f161",
   "metadata": {
    "id": "6f25f161"
   },
   "outputs": [],
   "source": [
    "# примените функцию методом apply()\n",
    "data[\"total_income_category\"] = data.apply(categorize_income, axis = 1)\n",
    "#data.head(15)"
   ]
  },
  {
   "cell_type": "markdown",
   "id": "3363b685",
   "metadata": {
    "deletable": false,
    "editable": false,
    "id": "3363b685",
    "tags": [
     "start_task"
    ]
   },
   "source": [
    "**Задание 17. Выведите на экран перечень уникальных целей взятия кредита из столбца `purpose`.**"
   ]
  },
  {
   "cell_type": "code",
   "execution_count": 20,
   "id": "e59f2c15",
   "metadata": {
    "id": "e59f2c15"
   },
   "outputs": [
    {
     "data": {
      "text/plain": [
       "array(['покупка жилья', 'приобретение автомобиля',\n",
       "       'дополнительное образование', 'сыграть свадьбу',\n",
       "       'операции с жильем', 'образование', 'на проведение свадьбы',\n",
       "       'покупка жилья для семьи', 'покупка недвижимости',\n",
       "       'покупка коммерческой недвижимости', 'покупка жилой недвижимости',\n",
       "       'строительство собственной недвижимости', 'недвижимость',\n",
       "       'строительство недвижимости', 'на покупку подержанного автомобиля',\n",
       "       'на покупку своего автомобиля',\n",
       "       'операции с коммерческой недвижимостью',\n",
       "       'строительство жилой недвижимости', 'жилье',\n",
       "       'операции со своей недвижимостью', 'автомобили',\n",
       "       'заняться образованием', 'сделка с подержанным автомобилем',\n",
       "       'получение образования', 'автомобиль', 'свадьба',\n",
       "       'получение дополнительного образования', 'покупка своего жилья',\n",
       "       'операции с недвижимостью', 'получение высшего образования',\n",
       "       'свой автомобиль', 'сделка с автомобилем',\n",
       "       'профильное образование', 'высшее образование',\n",
       "       'покупка жилья для сдачи', 'на покупку автомобиля', 'ремонт жилью',\n",
       "       'заняться высшим образованием'], dtype=object)"
      ]
     },
     "execution_count": 20,
     "metadata": {},
     "output_type": "execute_result"
    }
   ],
   "source": [
    "# ваш код здесь\n",
    "data['purpose'].unique()\n",
    "#data[data['purpose'] == \"покупка жилья\"]"
   ]
  },
  {
   "cell_type": "markdown",
   "id": "bb33e847",
   "metadata": {
    "deletable": false,
    "editable": false,
    "id": "bb33e847",
    "tags": [
     "start_task"
    ]
   },
   "source": [
    "**Задание 18. Создайте функцию, которая на основании данных из столбца `purpose` сформирует новый столбец `purpose_category`, в который войдут следующие категории:**\n",
    "\n",
    "- `'операции с автомобилем'`,\n",
    "- `'операции с недвижимостью'`,\n",
    "- `'проведение свадьбы'`,\n",
    "- `'получение образования'`.\n",
    "\n",
    "**Например, если в столбце `purpose` находится подстрока `'на покупку автомобиля'`, то в столбце `purpose_category` должна появиться строка `'операции с автомобилем'`.**\n",
    "\n",
    "**Используйте собственную функцию с именем `categorize_purpose()` и метод `apply()`. Изучите данные в столбце `purpose` и определите, какие подстроки помогут вам правильно определить категорию.**"
   ]
  },
  {
   "cell_type": "code",
   "execution_count": 23,
   "id": "63909b83",
   "metadata": {
    "id": "63909b83"
   },
   "outputs": [],
   "source": [
    "# создайте функцию categorize_purpose()\n",
    "\n",
    "def categorize_purpose(row):\n",
    "    if 'авто' in row['purpose']:\n",
    "        return 'операции с автомобилем'\n",
    "    elif 'образов' in row['purpose']:\n",
    "        return 'получение образования'\n",
    "    elif 'свадьб' in row['purpose']:\n",
    "        return 'проведение свадьбы'\n",
    "    elif 'недвиж' in row['purpose']:\n",
    "        return 'операции с недвижимостью'\n",
    "    elif 'жиль' in row['purpose']:\n",
    "        return 'операции с недвижимостью'\n",
    "\n"
   ]
  },
  {
   "cell_type": "code",
   "execution_count": null,
   "id": "f6b4c371",
   "metadata": {
    "scrolled": false
   },
   "outputs": [],
   "source": []
  },
  {
   "cell_type": "code",
   "execution_count": 24,
   "id": "7cb4a81d",
   "metadata": {
    "id": "7cb4a81d"
   },
   "outputs": [
    {
     "data": {
      "text/html": [
       "<div>\n",
       "<style scoped>\n",
       "    .dataframe tbody tr th:only-of-type {\n",
       "        vertical-align: middle;\n",
       "    }\n",
       "\n",
       "    .dataframe tbody tr th {\n",
       "        vertical-align: top;\n",
       "    }\n",
       "\n",
       "    .dataframe thead th {\n",
       "        text-align: right;\n",
       "    }\n",
       "</style>\n",
       "<table border=\"1\" class=\"dataframe\">\n",
       "  <thead>\n",
       "    <tr style=\"text-align: right;\">\n",
       "      <th></th>\n",
       "      <th>children</th>\n",
       "      <th>days_employed</th>\n",
       "      <th>dob_years</th>\n",
       "      <th>education</th>\n",
       "      <th>education_id</th>\n",
       "      <th>family_status</th>\n",
       "      <th>family_status_id</th>\n",
       "      <th>gender</th>\n",
       "      <th>income_type</th>\n",
       "      <th>debt</th>\n",
       "      <th>total_income</th>\n",
       "      <th>purpose</th>\n",
       "      <th>total_income_category</th>\n",
       "      <th>purpose_category</th>\n",
       "    </tr>\n",
       "  </thead>\n",
       "  <tbody>\n",
       "    <tr>\n",
       "      <th>0</th>\n",
       "      <td>1</td>\n",
       "      <td>8437.673028</td>\n",
       "      <td>42</td>\n",
       "      <td>высшее</td>\n",
       "      <td>0</td>\n",
       "      <td>женат / замужем</td>\n",
       "      <td>0</td>\n",
       "      <td>F</td>\n",
       "      <td>сотрудник</td>\n",
       "      <td>0</td>\n",
       "      <td>253875</td>\n",
       "      <td>покупка жилья</td>\n",
       "      <td>B</td>\n",
       "      <td>операции с недвижимостью</td>\n",
       "    </tr>\n",
       "    <tr>\n",
       "      <th>1</th>\n",
       "      <td>1</td>\n",
       "      <td>4024.803754</td>\n",
       "      <td>36</td>\n",
       "      <td>среднее</td>\n",
       "      <td>1</td>\n",
       "      <td>женат / замужем</td>\n",
       "      <td>0</td>\n",
       "      <td>F</td>\n",
       "      <td>сотрудник</td>\n",
       "      <td>0</td>\n",
       "      <td>112080</td>\n",
       "      <td>приобретение автомобиля</td>\n",
       "      <td>C</td>\n",
       "      <td>операции с автомобилем</td>\n",
       "    </tr>\n",
       "    <tr>\n",
       "      <th>2</th>\n",
       "      <td>0</td>\n",
       "      <td>5623.422610</td>\n",
       "      <td>33</td>\n",
       "      <td>среднее</td>\n",
       "      <td>1</td>\n",
       "      <td>женат / замужем</td>\n",
       "      <td>0</td>\n",
       "      <td>M</td>\n",
       "      <td>сотрудник</td>\n",
       "      <td>0</td>\n",
       "      <td>145885</td>\n",
       "      <td>покупка жилья</td>\n",
       "      <td>C</td>\n",
       "      <td>операции с недвижимостью</td>\n",
       "    </tr>\n",
       "    <tr>\n",
       "      <th>3</th>\n",
       "      <td>3</td>\n",
       "      <td>4124.747207</td>\n",
       "      <td>32</td>\n",
       "      <td>среднее</td>\n",
       "      <td>1</td>\n",
       "      <td>женат / замужем</td>\n",
       "      <td>0</td>\n",
       "      <td>M</td>\n",
       "      <td>сотрудник</td>\n",
       "      <td>0</td>\n",
       "      <td>267628</td>\n",
       "      <td>дополнительное образование</td>\n",
       "      <td>B</td>\n",
       "      <td>получение образования</td>\n",
       "    </tr>\n",
       "    <tr>\n",
       "      <th>4</th>\n",
       "      <td>0</td>\n",
       "      <td>340266.072047</td>\n",
       "      <td>53</td>\n",
       "      <td>среднее</td>\n",
       "      <td>1</td>\n",
       "      <td>гражданский брак</td>\n",
       "      <td>1</td>\n",
       "      <td>F</td>\n",
       "      <td>пенсионер</td>\n",
       "      <td>0</td>\n",
       "      <td>158616</td>\n",
       "      <td>сыграть свадьбу</td>\n",
       "      <td>C</td>\n",
       "      <td>проведение свадьбы</td>\n",
       "    </tr>\n",
       "    <tr>\n",
       "      <th>5</th>\n",
       "      <td>0</td>\n",
       "      <td>926.185831</td>\n",
       "      <td>27</td>\n",
       "      <td>высшее</td>\n",
       "      <td>0</td>\n",
       "      <td>гражданский брак</td>\n",
       "      <td>1</td>\n",
       "      <td>M</td>\n",
       "      <td>компаньон</td>\n",
       "      <td>0</td>\n",
       "      <td>255763</td>\n",
       "      <td>покупка жилья</td>\n",
       "      <td>B</td>\n",
       "      <td>операции с недвижимостью</td>\n",
       "    </tr>\n",
       "    <tr>\n",
       "      <th>6</th>\n",
       "      <td>0</td>\n",
       "      <td>2879.202052</td>\n",
       "      <td>43</td>\n",
       "      <td>высшее</td>\n",
       "      <td>0</td>\n",
       "      <td>женат / замужем</td>\n",
       "      <td>0</td>\n",
       "      <td>F</td>\n",
       "      <td>компаньон</td>\n",
       "      <td>0</td>\n",
       "      <td>240525</td>\n",
       "      <td>операции с жильем</td>\n",
       "      <td>B</td>\n",
       "      <td>операции с недвижимостью</td>\n",
       "    </tr>\n",
       "    <tr>\n",
       "      <th>7</th>\n",
       "      <td>0</td>\n",
       "      <td>152.779569</td>\n",
       "      <td>50</td>\n",
       "      <td>среднее</td>\n",
       "      <td>1</td>\n",
       "      <td>женат / замужем</td>\n",
       "      <td>0</td>\n",
       "      <td>M</td>\n",
       "      <td>сотрудник</td>\n",
       "      <td>0</td>\n",
       "      <td>135823</td>\n",
       "      <td>образование</td>\n",
       "      <td>C</td>\n",
       "      <td>получение образования</td>\n",
       "    </tr>\n",
       "    <tr>\n",
       "      <th>8</th>\n",
       "      <td>2</td>\n",
       "      <td>6929.865299</td>\n",
       "      <td>35</td>\n",
       "      <td>высшее</td>\n",
       "      <td>0</td>\n",
       "      <td>гражданский брак</td>\n",
       "      <td>1</td>\n",
       "      <td>F</td>\n",
       "      <td>сотрудник</td>\n",
       "      <td>0</td>\n",
       "      <td>95856</td>\n",
       "      <td>на проведение свадьбы</td>\n",
       "      <td>C</td>\n",
       "      <td>проведение свадьбы</td>\n",
       "    </tr>\n",
       "    <tr>\n",
       "      <th>9</th>\n",
       "      <td>0</td>\n",
       "      <td>2188.756445</td>\n",
       "      <td>41</td>\n",
       "      <td>среднее</td>\n",
       "      <td>1</td>\n",
       "      <td>женат / замужем</td>\n",
       "      <td>0</td>\n",
       "      <td>M</td>\n",
       "      <td>сотрудник</td>\n",
       "      <td>0</td>\n",
       "      <td>144425</td>\n",
       "      <td>покупка жилья для семьи</td>\n",
       "      <td>C</td>\n",
       "      <td>операции с недвижимостью</td>\n",
       "    </tr>\n",
       "    <tr>\n",
       "      <th>10</th>\n",
       "      <td>2</td>\n",
       "      <td>4171.483647</td>\n",
       "      <td>36</td>\n",
       "      <td>высшее</td>\n",
       "      <td>0</td>\n",
       "      <td>женат / замужем</td>\n",
       "      <td>0</td>\n",
       "      <td>M</td>\n",
       "      <td>компаньон</td>\n",
       "      <td>0</td>\n",
       "      <td>113943</td>\n",
       "      <td>покупка недвижимости</td>\n",
       "      <td>C</td>\n",
       "      <td>операции с недвижимостью</td>\n",
       "    </tr>\n",
       "    <tr>\n",
       "      <th>11</th>\n",
       "      <td>0</td>\n",
       "      <td>792.701887</td>\n",
       "      <td>40</td>\n",
       "      <td>среднее</td>\n",
       "      <td>1</td>\n",
       "      <td>женат / замужем</td>\n",
       "      <td>0</td>\n",
       "      <td>F</td>\n",
       "      <td>сотрудник</td>\n",
       "      <td>0</td>\n",
       "      <td>77069</td>\n",
       "      <td>покупка коммерческой недвижимости</td>\n",
       "      <td>C</td>\n",
       "      <td>операции с недвижимостью</td>\n",
       "    </tr>\n",
       "    <tr>\n",
       "      <th>12</th>\n",
       "      <td>0</td>\n",
       "      <td>365286.622650</td>\n",
       "      <td>65</td>\n",
       "      <td>среднее</td>\n",
       "      <td>1</td>\n",
       "      <td>гражданский брак</td>\n",
       "      <td>1</td>\n",
       "      <td>M</td>\n",
       "      <td>пенсионер</td>\n",
       "      <td>0</td>\n",
       "      <td>118514</td>\n",
       "      <td>сыграть свадьбу</td>\n",
       "      <td>C</td>\n",
       "      <td>проведение свадьбы</td>\n",
       "    </tr>\n",
       "    <tr>\n",
       "      <th>13</th>\n",
       "      <td>0</td>\n",
       "      <td>1846.641941</td>\n",
       "      <td>54</td>\n",
       "      <td>неоконченное высшее</td>\n",
       "      <td>2</td>\n",
       "      <td>женат / замужем</td>\n",
       "      <td>0</td>\n",
       "      <td>F</td>\n",
       "      <td>сотрудник</td>\n",
       "      <td>0</td>\n",
       "      <td>130458</td>\n",
       "      <td>приобретение автомобиля</td>\n",
       "      <td>C</td>\n",
       "      <td>операции с автомобилем</td>\n",
       "    </tr>\n",
       "    <tr>\n",
       "      <th>14</th>\n",
       "      <td>0</td>\n",
       "      <td>1844.956182</td>\n",
       "      <td>56</td>\n",
       "      <td>высшее</td>\n",
       "      <td>0</td>\n",
       "      <td>гражданский брак</td>\n",
       "      <td>1</td>\n",
       "      <td>F</td>\n",
       "      <td>компаньон</td>\n",
       "      <td>1</td>\n",
       "      <td>165127</td>\n",
       "      <td>покупка жилой недвижимости</td>\n",
       "      <td>C</td>\n",
       "      <td>операции с недвижимостью</td>\n",
       "    </tr>\n",
       "  </tbody>\n",
       "</table>\n",
       "</div>"
      ],
      "text/plain": [
       "    children  days_employed  dob_years            education  education_id  \\\n",
       "0          1    8437.673028         42               высшее             0   \n",
       "1          1    4024.803754         36              среднее             1   \n",
       "2          0    5623.422610         33              среднее             1   \n",
       "3          3    4124.747207         32              среднее             1   \n",
       "4          0  340266.072047         53              среднее             1   \n",
       "5          0     926.185831         27               высшее             0   \n",
       "6          0    2879.202052         43               высшее             0   \n",
       "7          0     152.779569         50              среднее             1   \n",
       "8          2    6929.865299         35               высшее             0   \n",
       "9          0    2188.756445         41              среднее             1   \n",
       "10         2    4171.483647         36               высшее             0   \n",
       "11         0     792.701887         40              среднее             1   \n",
       "12         0  365286.622650         65              среднее             1   \n",
       "13         0    1846.641941         54  неоконченное высшее             2   \n",
       "14         0    1844.956182         56               высшее             0   \n",
       "\n",
       "       family_status  family_status_id gender income_type  debt  total_income  \\\n",
       "0    женат / замужем                 0      F   сотрудник     0        253875   \n",
       "1    женат / замужем                 0      F   сотрудник     0        112080   \n",
       "2    женат / замужем                 0      M   сотрудник     0        145885   \n",
       "3    женат / замужем                 0      M   сотрудник     0        267628   \n",
       "4   гражданский брак                 1      F   пенсионер     0        158616   \n",
       "5   гражданский брак                 1      M   компаньон     0        255763   \n",
       "6    женат / замужем                 0      F   компаньон     0        240525   \n",
       "7    женат / замужем                 0      M   сотрудник     0        135823   \n",
       "8   гражданский брак                 1      F   сотрудник     0         95856   \n",
       "9    женат / замужем                 0      M   сотрудник     0        144425   \n",
       "10   женат / замужем                 0      M   компаньон     0        113943   \n",
       "11   женат / замужем                 0      F   сотрудник     0         77069   \n",
       "12  гражданский брак                 1      M   пенсионер     0        118514   \n",
       "13   женат / замужем                 0      F   сотрудник     0        130458   \n",
       "14  гражданский брак                 1      F   компаньон     1        165127   \n",
       "\n",
       "                              purpose total_income_category  \\\n",
       "0                       покупка жилья                     B   \n",
       "1             приобретение автомобиля                     C   \n",
       "2                       покупка жилья                     C   \n",
       "3          дополнительное образование                     B   \n",
       "4                     сыграть свадьбу                     C   \n",
       "5                       покупка жилья                     B   \n",
       "6                   операции с жильем                     B   \n",
       "7                         образование                     C   \n",
       "8               на проведение свадьбы                     C   \n",
       "9             покупка жилья для семьи                     C   \n",
       "10               покупка недвижимости                     C   \n",
       "11  покупка коммерческой недвижимости                     C   \n",
       "12                    сыграть свадьбу                     C   \n",
       "13            приобретение автомобиля                     C   \n",
       "14         покупка жилой недвижимости                     C   \n",
       "\n",
       "            purpose_category  \n",
       "0   операции с недвижимостью  \n",
       "1     операции с автомобилем  \n",
       "2   операции с недвижимостью  \n",
       "3      получение образования  \n",
       "4         проведение свадьбы  \n",
       "5   операции с недвижимостью  \n",
       "6   операции с недвижимостью  \n",
       "7      получение образования  \n",
       "8         проведение свадьбы  \n",
       "9   операции с недвижимостью  \n",
       "10  операции с недвижимостью  \n",
       "11  операции с недвижимостью  \n",
       "12        проведение свадьбы  \n",
       "13    операции с автомобилем  \n",
       "14  операции с недвижимостью  "
      ]
     },
     "execution_count": 24,
     "metadata": {},
     "output_type": "execute_result"
    }
   ],
   "source": [
    "# примените функцию методом apply()\n",
    "data['purpose_category'] = data.apply(categorize_purpose, axis = 1)\n",
    "data.head(15)"
   ]
  },
  {
   "cell_type": "code",
   "execution_count": null,
   "id": "fd6615c8",
   "metadata": {},
   "outputs": [],
   "source": []
  },
  {
   "cell_type": "code",
   "execution_count": null,
   "id": "0f56f0ef",
   "metadata": {},
   "outputs": [],
   "source": []
  }
 ],
 "metadata": {
  "ExecuteTimeLog": [
   {
    "duration": 456,
    "start_time": "2023-01-22T20:39:22.850Z"
   },
   {
    "duration": 164,
    "start_time": "2023-01-22T20:39:49.859Z"
   },
   {
    "duration": 27,
    "start_time": "2023-01-22T20:40:11.676Z"
   },
   {
    "duration": 28,
    "start_time": "2023-01-22T20:40:48.783Z"
   },
   {
    "duration": 75,
    "start_time": "2023-01-22T20:42:17.431Z"
   },
   {
    "duration": 11,
    "start_time": "2023-01-22T20:42:55.648Z"
   },
   {
    "duration": 37,
    "start_time": "2023-01-22T20:44:26.595Z"
   },
   {
    "duration": 9,
    "start_time": "2023-01-22T20:44:41.562Z"
   },
   {
    "duration": 38,
    "start_time": "2023-01-22T20:44:49.152Z"
   },
   {
    "duration": 22,
    "start_time": "2023-01-22T20:45:04.167Z"
   },
   {
    "duration": 11,
    "start_time": "2023-01-22T20:45:26.750Z"
   },
   {
    "duration": 6,
    "start_time": "2023-01-22T20:46:12.689Z"
   },
   {
    "duration": 7,
    "start_time": "2023-01-22T20:46:18.727Z"
   },
   {
    "duration": 8,
    "start_time": "2023-01-22T20:46:58.274Z"
   },
   {
    "duration": 6,
    "start_time": "2023-01-22T20:47:16.170Z"
   },
   {
    "duration": 694,
    "start_time": "2023-01-22T20:47:42.379Z"
   },
   {
    "duration": 25,
    "start_time": "2023-01-22T20:47:53.943Z"
   },
   {
    "duration": 26,
    "start_time": "2023-01-22T20:48:05.908Z"
   },
   {
    "duration": 46,
    "start_time": "2023-01-23T09:39:46.874Z"
   },
   {
    "duration": 6,
    "start_time": "2023-01-23T09:42:17.567Z"
   },
   {
    "duration": 5,
    "start_time": "2023-01-23T09:42:25.933Z"
   },
   {
    "duration": 6,
    "start_time": "2023-01-23T09:42:35.981Z"
   },
   {
    "duration": 6,
    "start_time": "2023-01-23T09:42:41.482Z"
   },
   {
    "duration": 8,
    "start_time": "2023-01-23T09:42:54.080Z"
   },
   {
    "duration": 5,
    "start_time": "2023-01-23T09:43:03.802Z"
   },
   {
    "duration": 5,
    "start_time": "2023-01-23T09:45:59.308Z"
   },
   {
    "duration": 6,
    "start_time": "2023-01-23T09:49:49.519Z"
   },
   {
    "duration": 6,
    "start_time": "2023-01-23T09:50:05.560Z"
   },
   {
    "duration": 10,
    "start_time": "2023-01-23T09:50:14.245Z"
   },
   {
    "duration": 415,
    "start_time": "2023-01-23T09:50:27.192Z"
   },
   {
    "duration": 138,
    "start_time": "2023-01-23T09:50:27.609Z"
   },
   {
    "duration": 22,
    "start_time": "2023-01-23T09:50:27.748Z"
   },
   {
    "duration": 15,
    "start_time": "2023-01-23T09:50:27.772Z"
   },
   {
    "duration": 20,
    "start_time": "2023-01-23T09:50:27.789Z"
   },
   {
    "duration": 3,
    "start_time": "2023-01-23T09:50:27.810Z"
   },
   {
    "duration": 4,
    "start_time": "2023-01-23T09:50:27.815Z"
   },
   {
    "duration": 4,
    "start_time": "2023-01-23T09:50:27.821Z"
   },
   {
    "duration": 5,
    "start_time": "2023-01-23T09:50:27.826Z"
   },
   {
    "duration": 7,
    "start_time": "2023-01-23T09:50:27.834Z"
   },
   {
    "duration": 8,
    "start_time": "2023-01-23T09:50:27.842Z"
   },
   {
    "duration": 8,
    "start_time": "2023-01-23T09:50:27.852Z"
   },
   {
    "duration": 5,
    "start_time": "2023-01-23T09:50:27.862Z"
   },
   {
    "duration": 9,
    "start_time": "2023-01-23T09:50:27.868Z"
   },
   {
    "duration": 5,
    "start_time": "2023-01-23T09:50:27.878Z"
   },
   {
    "duration": 2,
    "start_time": "2023-01-23T09:50:27.894Z"
   },
   {
    "duration": 6,
    "start_time": "2023-01-23T09:50:27.898Z"
   },
   {
    "duration": 8,
    "start_time": "2023-01-23T09:50:27.905Z"
   },
   {
    "duration": 7,
    "start_time": "2023-01-23T09:50:27.915Z"
   },
   {
    "duration": 5,
    "start_time": "2023-01-23T09:50:27.923Z"
   },
   {
    "duration": 6,
    "start_time": "2023-01-23T09:50:27.929Z"
   },
   {
    "duration": 7,
    "start_time": "2023-01-23T09:50:27.936Z"
   },
   {
    "duration": 1395,
    "start_time": "2023-01-23T09:50:39.577Z"
   },
   {
    "duration": 6,
    "start_time": "2023-01-23T09:51:01.689Z"
   },
   {
    "duration": 63,
    "start_time": "2023-01-23T09:51:15.270Z"
   },
   {
    "duration": 12,
    "start_time": "2023-01-23T09:51:29.110Z"
   },
   {
    "duration": 15,
    "start_time": "2023-01-23T09:51:34.882Z"
   },
   {
    "duration": 9,
    "start_time": "2023-01-23T09:51:39.129Z"
   },
   {
    "duration": 7,
    "start_time": "2023-01-23T10:15:52.868Z"
   },
   {
    "duration": 42,
    "start_time": "2023-01-23T10:16:50.772Z"
   },
   {
    "duration": 13,
    "start_time": "2023-01-23T10:17:28.297Z"
   },
   {
    "duration": 17,
    "start_time": "2023-01-23T10:18:21.095Z"
   },
   {
    "duration": 14,
    "start_time": "2023-01-23T10:18:30.370Z"
   },
   {
    "duration": 15,
    "start_time": "2023-01-23T10:19:10.024Z"
   },
   {
    "duration": 26,
    "start_time": "2023-01-23T10:20:50.076Z"
   },
   {
    "duration": 19,
    "start_time": "2023-01-23T10:21:40.372Z"
   },
   {
    "duration": 19,
    "start_time": "2023-01-23T10:24:01.583Z"
   },
   {
    "duration": 20,
    "start_time": "2023-01-23T10:24:20.803Z"
   },
   {
    "duration": 19,
    "start_time": "2023-01-23T10:24:28.998Z"
   },
   {
    "duration": 19,
    "start_time": "2023-01-23T10:24:36.917Z"
   },
   {
    "duration": 18,
    "start_time": "2023-01-23T10:26:28.569Z"
   },
   {
    "duration": 26,
    "start_time": "2023-01-23T10:26:57.529Z"
   },
   {
    "duration": 34,
    "start_time": "2023-01-23T10:41:53.452Z"
   },
   {
    "duration": 78,
    "start_time": "2023-01-23T11:52:46.899Z"
   },
   {
    "duration": 71,
    "start_time": "2023-01-23T11:52:55.857Z"
   },
   {
    "duration": 69,
    "start_time": "2023-01-23T11:53:03.693Z"
   },
   {
    "duration": 79,
    "start_time": "2023-01-23T11:55:59.255Z"
   },
   {
    "duration": 4,
    "start_time": "2023-01-23T11:56:55.530Z"
   },
   {
    "duration": 93,
    "start_time": "2023-01-23T11:57:11.729Z"
   },
   {
    "duration": 67,
    "start_time": "2023-01-23T11:57:55.779Z"
   },
   {
    "duration": 69,
    "start_time": "2023-01-23T12:00:54.781Z"
   },
   {
    "duration": 0,
    "start_time": "2023-01-23T12:01:15.226Z"
   },
   {
    "duration": 0,
    "start_time": "2023-01-23T12:01:15.228Z"
   },
   {
    "duration": 0,
    "start_time": "2023-01-23T12:01:15.230Z"
   },
   {
    "duration": 0,
    "start_time": "2023-01-23T12:01:15.232Z"
   },
   {
    "duration": 0,
    "start_time": "2023-01-23T12:01:15.233Z"
   },
   {
    "duration": 1,
    "start_time": "2023-01-23T12:01:15.234Z"
   },
   {
    "duration": 0,
    "start_time": "2023-01-23T12:01:15.236Z"
   },
   {
    "duration": 0,
    "start_time": "2023-01-23T12:01:15.237Z"
   },
   {
    "duration": 0,
    "start_time": "2023-01-23T12:01:15.238Z"
   },
   {
    "duration": 0,
    "start_time": "2023-01-23T12:01:15.240Z"
   },
   {
    "duration": 0,
    "start_time": "2023-01-23T12:01:15.241Z"
   },
   {
    "duration": 0,
    "start_time": "2023-01-23T12:01:15.243Z"
   },
   {
    "duration": 4,
    "start_time": "2023-01-23T12:01:15.245Z"
   },
   {
    "duration": 7,
    "start_time": "2023-01-23T12:01:15.251Z"
   },
   {
    "duration": 11,
    "start_time": "2023-01-23T12:01:15.260Z"
   },
   {
    "duration": 12,
    "start_time": "2023-01-23T12:01:15.273Z"
   },
   {
    "duration": 12,
    "start_time": "2023-01-23T12:01:15.287Z"
   },
   {
    "duration": 9,
    "start_time": "2023-01-23T12:01:15.301Z"
   },
   {
    "duration": 6,
    "start_time": "2023-01-23T12:01:15.311Z"
   },
   {
    "duration": 5,
    "start_time": "2023-01-23T12:01:15.348Z"
   },
   {
    "duration": 9,
    "start_time": "2023-01-23T12:01:15.355Z"
   },
   {
    "duration": 7,
    "start_time": "2023-01-23T12:01:15.366Z"
   },
   {
    "duration": 10,
    "start_time": "2023-01-23T12:01:15.375Z"
   },
   {
    "duration": 44,
    "start_time": "2023-01-23T12:01:22.122Z"
   },
   {
    "duration": 6,
    "start_time": "2023-01-23T12:01:37.891Z"
   },
   {
    "duration": 360,
    "start_time": "2023-01-23T12:01:41.713Z"
   },
   {
    "duration": 311,
    "start_time": "2023-01-23T12:01:42.694Z"
   },
   {
    "duration": 25,
    "start_time": "2023-01-23T12:01:44.123Z"
   },
   {
    "duration": 16,
    "start_time": "2023-01-23T12:01:46.927Z"
   },
   {
    "duration": 11,
    "start_time": "2023-01-23T12:01:49.501Z"
   },
   {
    "duration": 32,
    "start_time": "2023-01-23T12:01:50.886Z"
   },
   {
    "duration": 56,
    "start_time": "2023-01-23T12:02:58.556Z"
   },
   {
    "duration": 368,
    "start_time": "2023-01-23T12:02:58.677Z"
   },
   {
    "duration": 80,
    "start_time": "2023-01-23T12:02:59.048Z"
   },
   {
    "duration": 22,
    "start_time": "2023-01-23T12:02:59.130Z"
   },
   {
    "duration": 36,
    "start_time": "2023-01-23T12:02:59.154Z"
   },
   {
    "duration": 15,
    "start_time": "2023-01-23T12:02:59.192Z"
   },
   {
    "duration": 56,
    "start_time": "2023-01-23T12:03:33.047Z"
   },
   {
    "duration": 405,
    "start_time": "2023-01-23T12:03:33.223Z"
   },
   {
    "duration": 75,
    "start_time": "2023-01-23T12:03:33.630Z"
   },
   {
    "duration": 24,
    "start_time": "2023-01-23T12:03:33.707Z"
   },
   {
    "duration": 33,
    "start_time": "2023-01-23T12:03:33.734Z"
   },
   {
    "duration": 23,
    "start_time": "2023-01-23T12:03:33.770Z"
   },
   {
    "duration": 413,
    "start_time": "2023-01-23T12:04:03.101Z"
   },
   {
    "duration": 76,
    "start_time": "2023-01-23T12:04:03.516Z"
   },
   {
    "duration": 25,
    "start_time": "2023-01-23T12:04:03.593Z"
   },
   {
    "duration": 32,
    "start_time": "2023-01-23T12:04:03.621Z"
   },
   {
    "duration": 9,
    "start_time": "2023-01-23T12:04:03.654Z"
   },
   {
    "duration": 90,
    "start_time": "2023-01-23T12:04:03.665Z"
   },
   {
    "duration": 0,
    "start_time": "2023-01-23T12:04:03.757Z"
   },
   {
    "duration": 0,
    "start_time": "2023-01-23T12:04:03.758Z"
   },
   {
    "duration": 0,
    "start_time": "2023-01-23T12:04:03.760Z"
   },
   {
    "duration": 0,
    "start_time": "2023-01-23T12:04:03.761Z"
   },
   {
    "duration": 0,
    "start_time": "2023-01-23T12:04:03.762Z"
   },
   {
    "duration": 0,
    "start_time": "2023-01-23T12:04:03.765Z"
   },
   {
    "duration": 0,
    "start_time": "2023-01-23T12:04:03.766Z"
   },
   {
    "duration": 1,
    "start_time": "2023-01-23T12:04:03.767Z"
   },
   {
    "duration": 0,
    "start_time": "2023-01-23T12:04:03.771Z"
   },
   {
    "duration": 0,
    "start_time": "2023-01-23T12:04:03.772Z"
   },
   {
    "duration": 0,
    "start_time": "2023-01-23T12:04:03.774Z"
   },
   {
    "duration": 0,
    "start_time": "2023-01-23T12:04:03.775Z"
   },
   {
    "duration": 0,
    "start_time": "2023-01-23T12:04:03.776Z"
   },
   {
    "duration": 0,
    "start_time": "2023-01-23T12:04:03.778Z"
   },
   {
    "duration": 1,
    "start_time": "2023-01-23T12:04:03.779Z"
   },
   {
    "duration": 0,
    "start_time": "2023-01-23T12:04:03.781Z"
   },
   {
    "duration": 407,
    "start_time": "2023-01-23T12:06:27.059Z"
   },
   {
    "duration": 77,
    "start_time": "2023-01-23T12:06:27.469Z"
   },
   {
    "duration": 23,
    "start_time": "2023-01-23T12:06:27.548Z"
   },
   {
    "duration": 19,
    "start_time": "2023-01-23T12:06:27.574Z"
   },
   {
    "duration": 10,
    "start_time": "2023-01-23T12:06:27.595Z"
   },
   {
    "duration": 415,
    "start_time": "2023-01-23T12:20:20.426Z"
   },
   {
    "duration": 74,
    "start_time": "2023-01-23T12:20:20.843Z"
   },
   {
    "duration": 21,
    "start_time": "2023-01-23T12:20:20.919Z"
   },
   {
    "duration": 27,
    "start_time": "2023-01-23T12:20:20.941Z"
   },
   {
    "duration": 11,
    "start_time": "2023-01-23T12:20:20.970Z"
   },
   {
    "duration": 50,
    "start_time": "2023-01-23T12:20:35.519Z"
   },
   {
    "duration": 362,
    "start_time": "2023-01-23T12:20:42.807Z"
   },
   {
    "duration": 89,
    "start_time": "2023-01-23T12:20:43.171Z"
   },
   {
    "duration": 36,
    "start_time": "2023-01-23T12:20:43.899Z"
   },
   {
    "duration": 16,
    "start_time": "2023-01-23T12:20:44.540Z"
   },
   {
    "duration": 11,
    "start_time": "2023-01-23T12:20:45.464Z"
   },
   {
    "duration": 445,
    "start_time": "2023-01-23T12:34:21.617Z"
   },
   {
    "duration": 76,
    "start_time": "2023-01-23T12:34:22.064Z"
   },
   {
    "duration": 23,
    "start_time": "2023-01-23T12:34:22.141Z"
   },
   {
    "duration": 24,
    "start_time": "2023-01-23T12:34:22.168Z"
   },
   {
    "duration": 54,
    "start_time": "2023-01-23T12:34:22.195Z"
   },
   {
    "duration": 400,
    "start_time": "2023-01-23T12:36:22.296Z"
   },
   {
    "duration": 72,
    "start_time": "2023-01-23T12:36:22.698Z"
   },
   {
    "duration": 22,
    "start_time": "2023-01-23T12:36:22.772Z"
   },
   {
    "duration": 53,
    "start_time": "2023-01-23T12:36:22.796Z"
   },
   {
    "duration": 15,
    "start_time": "2023-01-23T12:36:22.852Z"
   },
   {
    "duration": 144,
    "start_time": "2023-01-23T12:36:22.869Z"
   },
   {
    "duration": 0,
    "start_time": "2023-01-23T12:36:23.016Z"
   },
   {
    "duration": 0,
    "start_time": "2023-01-23T12:36:23.018Z"
   },
   {
    "duration": 0,
    "start_time": "2023-01-23T12:36:23.020Z"
   },
   {
    "duration": 0,
    "start_time": "2023-01-23T12:36:23.022Z"
   },
   {
    "duration": 0,
    "start_time": "2023-01-23T12:36:23.023Z"
   },
   {
    "duration": 0,
    "start_time": "2023-01-23T12:36:23.048Z"
   },
   {
    "duration": 0,
    "start_time": "2023-01-23T12:36:23.050Z"
   },
   {
    "duration": 0,
    "start_time": "2023-01-23T12:36:23.051Z"
   },
   {
    "duration": 0,
    "start_time": "2023-01-23T12:36:23.052Z"
   },
   {
    "duration": 0,
    "start_time": "2023-01-23T12:36:23.054Z"
   },
   {
    "duration": 0,
    "start_time": "2023-01-23T12:36:23.055Z"
   },
   {
    "duration": 0,
    "start_time": "2023-01-23T12:36:23.057Z"
   },
   {
    "duration": 0,
    "start_time": "2023-01-23T12:36:23.058Z"
   },
   {
    "duration": 0,
    "start_time": "2023-01-23T12:36:23.059Z"
   },
   {
    "duration": 0,
    "start_time": "2023-01-23T12:36:23.060Z"
   },
   {
    "duration": 0,
    "start_time": "2023-01-23T12:36:23.061Z"
   },
   {
    "duration": 9,
    "start_time": "2023-01-23T12:36:26.991Z"
   },
   {
    "duration": 12,
    "start_time": "2023-01-23T12:36:52.355Z"
   },
   {
    "duration": 14,
    "start_time": "2023-01-23T12:42:18.961Z"
   },
   {
    "duration": 16,
    "start_time": "2023-01-23T12:42:26.734Z"
   },
   {
    "duration": 7,
    "start_time": "2023-01-23T12:44:46.462Z"
   },
   {
    "duration": 4,
    "start_time": "2023-01-23T12:45:16.037Z"
   },
   {
    "duration": 30,
    "start_time": "2023-01-23T12:45:21.104Z"
   },
   {
    "duration": 25,
    "start_time": "2023-01-24T05:29:51.914Z"
   },
   {
    "duration": 30,
    "start_time": "2023-01-24T05:30:01.959Z"
   },
   {
    "duration": 4,
    "start_time": "2023-01-24T05:30:58.850Z"
   },
   {
    "duration": 11,
    "start_time": "2023-01-24T05:31:11.199Z"
   },
   {
    "duration": 6,
    "start_time": "2023-01-24T05:33:34.922Z"
   },
   {
    "duration": 7,
    "start_time": "2023-01-24T05:50:57.382Z"
   },
   {
    "duration": 32,
    "start_time": "2023-01-24T05:51:15.423Z"
   },
   {
    "duration": 29,
    "start_time": "2023-01-24T05:51:29.758Z"
   },
   {
    "duration": 6,
    "start_time": "2023-01-24T05:52:01.463Z"
   },
   {
    "duration": 5,
    "start_time": "2023-01-24T05:52:06.417Z"
   },
   {
    "duration": 8,
    "start_time": "2023-01-24T06:00:57.904Z"
   },
   {
    "duration": 16,
    "start_time": "2023-01-24T06:01:12.771Z"
   },
   {
    "duration": 10,
    "start_time": "2023-01-24T06:01:56.989Z"
   },
   {
    "duration": 387,
    "start_time": "2023-01-24T06:02:05.885Z"
   },
   {
    "duration": 80,
    "start_time": "2023-01-24T06:02:06.277Z"
   },
   {
    "duration": 25,
    "start_time": "2023-01-24T06:02:06.361Z"
   },
   {
    "duration": 28,
    "start_time": "2023-01-24T06:02:06.389Z"
   },
   {
    "duration": 9,
    "start_time": "2023-01-24T06:02:06.420Z"
   },
   {
    "duration": 44,
    "start_time": "2023-01-24T06:02:06.431Z"
   },
   {
    "duration": 16,
    "start_time": "2023-01-24T06:02:06.477Z"
   },
   {
    "duration": 12,
    "start_time": "2023-01-24T06:02:06.495Z"
   },
   {
    "duration": 7,
    "start_time": "2023-01-24T06:02:06.511Z"
   },
   {
    "duration": 8,
    "start_time": "2023-01-24T06:02:06.549Z"
   },
   {
    "duration": 17,
    "start_time": "2023-01-24T06:02:06.559Z"
   },
   {
    "duration": 6,
    "start_time": "2023-01-24T06:02:06.578Z"
   },
   {
    "duration": 9,
    "start_time": "2023-01-24T06:02:06.586Z"
   },
   {
    "duration": 9,
    "start_time": "2023-01-24T06:02:06.597Z"
   },
   {
    "duration": 5,
    "start_time": "2023-01-24T06:02:06.608Z"
   },
   {
    "duration": 11,
    "start_time": "2023-01-24T06:02:06.615Z"
   },
   {
    "duration": 5,
    "start_time": "2023-01-24T06:02:06.628Z"
   },
   {
    "duration": 7,
    "start_time": "2023-01-24T06:02:06.635Z"
   },
   {
    "duration": 30,
    "start_time": "2023-01-24T06:02:06.648Z"
   },
   {
    "duration": 16,
    "start_time": "2023-01-24T06:02:06.682Z"
   },
   {
    "duration": 7,
    "start_time": "2023-01-24T06:02:06.700Z"
   },
   {
    "duration": 14,
    "start_time": "2023-01-24T06:02:06.708Z"
   },
   {
    "duration": 106,
    "start_time": "2023-01-24T06:02:26.362Z"
   },
   {
    "duration": 14,
    "start_time": "2023-01-24T06:02:45.616Z"
   },
   {
    "duration": 15,
    "start_time": "2023-01-24T06:04:28.718Z"
   },
   {
    "duration": 13,
    "start_time": "2023-01-24T06:04:52.726Z"
   },
   {
    "duration": 14,
    "start_time": "2023-01-24T06:05:04.398Z"
   },
   {
    "duration": 10,
    "start_time": "2023-01-24T06:05:13.710Z"
   },
   {
    "duration": 454,
    "start_time": "2023-01-24T06:05:21.577Z"
   },
   {
    "duration": 104,
    "start_time": "2023-01-24T06:05:22.033Z"
   },
   {
    "duration": 38,
    "start_time": "2023-01-24T06:05:22.139Z"
   },
   {
    "duration": 25,
    "start_time": "2023-01-24T06:05:22.179Z"
   },
   {
    "duration": 10,
    "start_time": "2023-01-24T06:05:22.206Z"
   },
   {
    "duration": 49,
    "start_time": "2023-01-24T06:05:22.218Z"
   },
   {
    "duration": 22,
    "start_time": "2023-01-24T06:05:22.271Z"
   },
   {
    "duration": 10,
    "start_time": "2023-01-24T06:05:22.295Z"
   },
   {
    "duration": 8,
    "start_time": "2023-01-24T06:05:22.307Z"
   },
   {
    "duration": 155,
    "start_time": "2023-01-24T06:05:22.318Z"
   },
   {
    "duration": 0,
    "start_time": "2023-01-24T06:05:22.475Z"
   },
   {
    "duration": 0,
    "start_time": "2023-01-24T06:05:22.477Z"
   },
   {
    "duration": 0,
    "start_time": "2023-01-24T06:05:22.479Z"
   },
   {
    "duration": 0,
    "start_time": "2023-01-24T06:05:22.480Z"
   },
   {
    "duration": 0,
    "start_time": "2023-01-24T06:05:22.481Z"
   },
   {
    "duration": 0,
    "start_time": "2023-01-24T06:05:22.483Z"
   },
   {
    "duration": 0,
    "start_time": "2023-01-24T06:05:22.484Z"
   },
   {
    "duration": 0,
    "start_time": "2023-01-24T06:05:22.485Z"
   },
   {
    "duration": 0,
    "start_time": "2023-01-24T06:05:22.487Z"
   },
   {
    "duration": 0,
    "start_time": "2023-01-24T06:05:22.488Z"
   },
   {
    "duration": 0,
    "start_time": "2023-01-24T06:05:22.489Z"
   },
   {
    "duration": 0,
    "start_time": "2023-01-24T06:05:22.491Z"
   },
   {
    "duration": 7,
    "start_time": "2023-01-24T06:05:39.133Z"
   },
   {
    "duration": 17,
    "start_time": "2023-01-24T06:06:09.934Z"
   },
   {
    "duration": 13,
    "start_time": "2023-01-24T06:06:55.339Z"
   },
   {
    "duration": 10,
    "start_time": "2023-01-24T06:07:07.703Z"
   },
   {
    "duration": 6,
    "start_time": "2023-01-24T06:07:10.403Z"
   },
   {
    "duration": 9,
    "start_time": "2023-01-24T06:07:41.084Z"
   },
   {
    "duration": 18,
    "start_time": "2023-01-24T06:07:42.013Z"
   },
   {
    "duration": 6,
    "start_time": "2023-01-24T06:08:32.007Z"
   },
   {
    "duration": 13,
    "start_time": "2023-01-24T06:10:22.627Z"
   },
   {
    "duration": 7,
    "start_time": "2023-01-24T06:13:28.971Z"
   },
   {
    "duration": 6,
    "start_time": "2023-01-24T06:14:17.592Z"
   },
   {
    "duration": 7,
    "start_time": "2023-01-24T06:14:35.942Z"
   },
   {
    "duration": 8,
    "start_time": "2023-01-24T06:15:29.966Z"
   },
   {
    "duration": 10,
    "start_time": "2023-01-24T06:15:46.889Z"
   },
   {
    "duration": 6,
    "start_time": "2023-01-24T07:13:26.946Z"
   },
   {
    "duration": 20,
    "start_time": "2023-01-24T07:27:13.128Z"
   },
   {
    "duration": 19,
    "start_time": "2023-01-24T07:27:24.822Z"
   },
   {
    "duration": 18,
    "start_time": "2023-01-24T07:27:46.636Z"
   },
   {
    "duration": 9,
    "start_time": "2023-01-24T07:28:37.623Z"
   },
   {
    "duration": 87,
    "start_time": "2023-01-24T07:28:42.528Z"
   },
   {
    "duration": 30,
    "start_time": "2023-01-24T07:28:48.134Z"
   },
   {
    "duration": 1138,
    "start_time": "2023-01-24T07:29:01.011Z"
   },
   {
    "duration": 41,
    "start_time": "2023-01-24T07:29:08.338Z"
   },
   {
    "duration": 27,
    "start_time": "2023-01-24T07:29:33.911Z"
   },
   {
    "duration": 46,
    "start_time": "2023-01-24T07:29:54.164Z"
   },
   {
    "duration": 16,
    "start_time": "2023-01-24T07:30:16.726Z"
   },
   {
    "duration": 35,
    "start_time": "2023-01-24T07:30:46.979Z"
   },
   {
    "duration": 18,
    "start_time": "2023-01-24T07:34:13.539Z"
   },
   {
    "duration": 40,
    "start_time": "2023-01-24T07:34:20.969Z"
   },
   {
    "duration": 31,
    "start_time": "2023-01-24T07:34:45.515Z"
   },
   {
    "duration": 24,
    "start_time": "2023-01-24T07:35:11.881Z"
   },
   {
    "duration": 18,
    "start_time": "2023-01-24T07:37:53.725Z"
   },
   {
    "duration": 54,
    "start_time": "2023-01-24T07:38:13.435Z"
   },
   {
    "duration": 24,
    "start_time": "2023-01-24T07:38:18.444Z"
   },
   {
    "duration": 22,
    "start_time": "2023-01-24T07:38:21.123Z"
   },
   {
    "duration": 38,
    "start_time": "2023-01-24T07:38:22.828Z"
   },
   {
    "duration": 360,
    "start_time": "2023-01-24T07:38:28.806Z"
   },
   {
    "duration": 74,
    "start_time": "2023-01-24T07:38:29.168Z"
   },
   {
    "duration": 24,
    "start_time": "2023-01-24T07:38:29.244Z"
   },
   {
    "duration": 17,
    "start_time": "2023-01-24T07:38:29.270Z"
   },
   {
    "duration": 12,
    "start_time": "2023-01-24T07:38:29.289Z"
   },
   {
    "duration": 45,
    "start_time": "2023-01-24T07:38:29.303Z"
   },
   {
    "duration": 19,
    "start_time": "2023-01-24T07:38:29.350Z"
   },
   {
    "duration": 21,
    "start_time": "2023-01-24T07:38:29.370Z"
   },
   {
    "duration": 4,
    "start_time": "2023-01-24T07:38:29.392Z"
   },
   {
    "duration": 7,
    "start_time": "2023-01-24T07:38:29.399Z"
   },
   {
    "duration": 5,
    "start_time": "2023-01-24T07:38:29.407Z"
   },
   {
    "duration": 48,
    "start_time": "2023-01-24T07:38:29.414Z"
   },
   {
    "duration": 4,
    "start_time": "2023-01-24T07:38:29.464Z"
   },
   {
    "duration": 8,
    "start_time": "2023-01-24T07:38:29.469Z"
   },
   {
    "duration": 10,
    "start_time": "2023-01-24T07:38:29.479Z"
   },
   {
    "duration": 27,
    "start_time": "2023-01-24T07:38:29.490Z"
   },
   {
    "duration": 54,
    "start_time": "2023-01-24T07:38:29.518Z"
   },
   {
    "duration": 2,
    "start_time": "2023-01-24T07:38:29.574Z"
   },
   {
    "duration": 7,
    "start_time": "2023-01-24T07:38:29.578Z"
   },
   {
    "duration": 6,
    "start_time": "2023-01-24T07:38:29.587Z"
   },
   {
    "duration": 4,
    "start_time": "2023-01-24T07:38:29.595Z"
   },
   {
    "duration": 5,
    "start_time": "2023-01-24T07:38:29.601Z"
   },
   {
    "duration": 30,
    "start_time": "2023-01-24T07:39:19.680Z"
   },
   {
    "duration": 45,
    "start_time": "2023-01-24T07:39:26.131Z"
   },
   {
    "duration": 26,
    "start_time": "2023-01-24T07:39:31.846Z"
   },
   {
    "duration": 44,
    "start_time": "2023-01-24T07:39:57.838Z"
   },
   {
    "duration": 35,
    "start_time": "2023-01-24T07:42:01.447Z"
   },
   {
    "duration": 14,
    "start_time": "2023-01-24T07:42:24.715Z"
   },
   {
    "duration": 28,
    "start_time": "2023-01-24T07:42:49.403Z"
   },
   {
    "duration": 35,
    "start_time": "2023-01-24T07:42:59.004Z"
   },
   {
    "duration": 29,
    "start_time": "2023-01-24T07:43:37.843Z"
   },
   {
    "duration": 49,
    "start_time": "2023-01-24T07:43:50.781Z"
   },
   {
    "duration": 24,
    "start_time": "2023-01-24T07:43:57.570Z"
   },
   {
    "duration": 19,
    "start_time": "2023-01-24T07:43:59.406Z"
   },
   {
    "duration": 19,
    "start_time": "2023-01-24T07:44:01.740Z"
   },
   {
    "duration": 18,
    "start_time": "2023-01-24T07:44:03.560Z"
   },
   {
    "duration": 418,
    "start_time": "2023-01-24T07:44:08.131Z"
   },
   {
    "duration": 78,
    "start_time": "2023-01-24T07:44:08.551Z"
   },
   {
    "duration": 25,
    "start_time": "2023-01-24T07:44:08.631Z"
   },
   {
    "duration": 17,
    "start_time": "2023-01-24T07:44:08.658Z"
   },
   {
    "duration": 20,
    "start_time": "2023-01-24T07:44:08.677Z"
   },
   {
    "duration": 19,
    "start_time": "2023-01-24T07:44:08.699Z"
   },
   {
    "duration": 37,
    "start_time": "2023-01-24T07:44:08.719Z"
   },
   {
    "duration": 10,
    "start_time": "2023-01-24T07:44:08.759Z"
   },
   {
    "duration": 6,
    "start_time": "2023-01-24T07:44:08.770Z"
   },
   {
    "duration": 9,
    "start_time": "2023-01-24T07:44:08.779Z"
   },
   {
    "duration": 12,
    "start_time": "2023-01-24T07:44:08.790Z"
   },
   {
    "duration": 45,
    "start_time": "2023-01-24T07:44:08.804Z"
   },
   {
    "duration": 6,
    "start_time": "2023-01-24T07:44:08.851Z"
   },
   {
    "duration": 14,
    "start_time": "2023-01-24T07:44:08.858Z"
   },
   {
    "duration": 12,
    "start_time": "2023-01-24T07:44:08.873Z"
   },
   {
    "duration": 30,
    "start_time": "2023-01-24T07:44:08.887Z"
   },
   {
    "duration": 36,
    "start_time": "2023-01-24T07:44:08.918Z"
   },
   {
    "duration": 5,
    "start_time": "2023-01-24T07:44:08.956Z"
   },
   {
    "duration": 6,
    "start_time": "2023-01-24T07:44:08.963Z"
   },
   {
    "duration": 7,
    "start_time": "2023-01-24T07:44:08.971Z"
   },
   {
    "duration": 7,
    "start_time": "2023-01-24T07:44:08.980Z"
   },
   {
    "duration": 6,
    "start_time": "2023-01-24T07:44:08.989Z"
   },
   {
    "duration": 18,
    "start_time": "2023-01-24T07:44:13.349Z"
   },
   {
    "duration": 17,
    "start_time": "2023-01-24T07:44:19.606Z"
   },
   {
    "duration": 20,
    "start_time": "2023-01-24T07:44:42.511Z"
   },
   {
    "duration": 17,
    "start_time": "2023-01-24T07:44:58.693Z"
   },
   {
    "duration": 19,
    "start_time": "2023-01-24T07:45:12.978Z"
   },
   {
    "duration": 72,
    "start_time": "2023-01-24T07:45:26.385Z"
   },
   {
    "duration": 89,
    "start_time": "2023-01-24T07:45:30.835Z"
   },
   {
    "duration": 65,
    "start_time": "2023-01-24T07:45:35.488Z"
   },
   {
    "duration": 17,
    "start_time": "2023-01-24T07:45:47.425Z"
   },
   {
    "duration": 9,
    "start_time": "2023-01-24T07:46:10.794Z"
   },
   {
    "duration": 41,
    "start_time": "2023-01-24T07:47:37.553Z"
   },
   {
    "duration": 17,
    "start_time": "2023-01-24T07:48:21.710Z"
   },
   {
    "duration": 27,
    "start_time": "2023-01-24T07:48:26.320Z"
   },
   {
    "duration": 1146,
    "start_time": "2023-01-24T07:48:35.721Z"
   },
   {
    "duration": 28,
    "start_time": "2023-01-24T07:48:57.642Z"
   },
   {
    "duration": 32,
    "start_time": "2023-01-24T07:49:10.307Z"
   },
   {
    "duration": 1473,
    "start_time": "2023-01-24T07:49:15.163Z"
   },
   {
    "duration": 1388,
    "start_time": "2023-01-24T07:54:44.487Z"
   },
   {
    "duration": 32,
    "start_time": "2023-01-24T07:54:57.820Z"
   },
   {
    "duration": 36,
    "start_time": "2023-01-24T07:55:31.604Z"
   },
   {
    "duration": 29,
    "start_time": "2023-01-24T07:55:51.998Z"
   },
   {
    "duration": 36,
    "start_time": "2023-01-24T07:56:09.831Z"
   },
   {
    "duration": 34,
    "start_time": "2023-01-24T07:56:24.074Z"
   },
   {
    "duration": 33,
    "start_time": "2023-01-24T07:56:33.333Z"
   },
   {
    "duration": 43,
    "start_time": "2023-01-24T07:56:47.345Z"
   },
   {
    "duration": 34,
    "start_time": "2023-01-24T07:57:24.588Z"
   },
   {
    "duration": 24,
    "start_time": "2023-01-24T07:57:57.562Z"
   },
   {
    "duration": 22,
    "start_time": "2023-01-24T07:58:05.020Z"
   },
   {
    "duration": 29,
    "start_time": "2023-01-24T07:58:11.659Z"
   },
   {
    "duration": 30,
    "start_time": "2023-01-24T07:58:20.910Z"
   },
   {
    "duration": 31,
    "start_time": "2023-01-24T07:58:44.586Z"
   },
   {
    "duration": 34,
    "start_time": "2023-01-24T07:59:01.311Z"
   },
   {
    "duration": 38,
    "start_time": "2023-01-24T07:59:19.840Z"
   },
   {
    "duration": 17,
    "start_time": "2023-01-24T07:59:35.570Z"
   },
   {
    "duration": 419,
    "start_time": "2023-01-24T07:59:44.445Z"
   },
   {
    "duration": 70,
    "start_time": "2023-01-24T07:59:44.866Z"
   },
   {
    "duration": 31,
    "start_time": "2023-01-24T07:59:44.937Z"
   },
   {
    "duration": 21,
    "start_time": "2023-01-24T07:59:44.970Z"
   },
   {
    "duration": 9,
    "start_time": "2023-01-24T07:59:44.993Z"
   },
   {
    "duration": 20,
    "start_time": "2023-01-24T07:59:45.004Z"
   },
   {
    "duration": 39,
    "start_time": "2023-01-24T07:59:45.026Z"
   },
   {
    "duration": 12,
    "start_time": "2023-01-24T07:59:45.067Z"
   },
   {
    "duration": 4,
    "start_time": "2023-01-24T07:59:45.081Z"
   },
   {
    "duration": 11,
    "start_time": "2023-01-24T07:59:45.087Z"
   },
   {
    "duration": 5,
    "start_time": "2023-01-24T07:59:45.099Z"
   },
   {
    "duration": 16,
    "start_time": "2023-01-24T07:59:45.105Z"
   },
   {
    "duration": 5,
    "start_time": "2023-01-24T07:59:45.125Z"
   },
   {
    "duration": 22,
    "start_time": "2023-01-24T07:59:45.131Z"
   },
   {
    "duration": 22,
    "start_time": "2023-01-24T07:59:45.155Z"
   },
   {
    "duration": 20,
    "start_time": "2023-01-24T07:59:45.179Z"
   },
   {
    "duration": 14,
    "start_time": "2023-01-24T07:59:45.200Z"
   },
   {
    "duration": 6,
    "start_time": "2023-01-24T07:59:45.215Z"
   },
   {
    "duration": 11,
    "start_time": "2023-01-24T07:59:45.222Z"
   },
   {
    "duration": 5,
    "start_time": "2023-01-24T07:59:45.235Z"
   },
   {
    "duration": 8,
    "start_time": "2023-01-24T07:59:45.254Z"
   },
   {
    "duration": 12,
    "start_time": "2023-01-24T07:59:45.264Z"
   },
   {
    "duration": 31,
    "start_time": "2023-01-24T07:59:50.798Z"
   },
   {
    "duration": 390,
    "start_time": "2023-01-24T07:59:57.072Z"
   },
   {
    "duration": 71,
    "start_time": "2023-01-24T07:59:57.464Z"
   },
   {
    "duration": 88,
    "start_time": "2023-01-24T07:59:57.537Z"
   },
   {
    "duration": 19,
    "start_time": "2023-01-24T07:59:57.627Z"
   },
   {
    "duration": 32,
    "start_time": "2023-01-24T07:59:57.648Z"
   },
   {
    "duration": 36,
    "start_time": "2023-01-24T07:59:57.682Z"
   },
   {
    "duration": 13,
    "start_time": "2023-01-24T07:59:57.720Z"
   },
   {
    "duration": 20,
    "start_time": "2023-01-24T07:59:57.735Z"
   },
   {
    "duration": 15,
    "start_time": "2023-01-24T07:59:57.758Z"
   },
   {
    "duration": 18,
    "start_time": "2023-01-24T07:59:57.776Z"
   },
   {
    "duration": 10,
    "start_time": "2023-01-24T07:59:57.796Z"
   },
   {
    "duration": 46,
    "start_time": "2023-01-24T07:59:57.807Z"
   },
   {
    "duration": 5,
    "start_time": "2023-01-24T07:59:57.859Z"
   },
   {
    "duration": 21,
    "start_time": "2023-01-24T07:59:57.865Z"
   },
   {
    "duration": 24,
    "start_time": "2023-01-24T07:59:57.888Z"
   },
   {
    "duration": 28,
    "start_time": "2023-01-24T07:59:57.913Z"
   },
   {
    "duration": 36,
    "start_time": "2023-01-24T07:59:57.942Z"
   },
   {
    "duration": 2,
    "start_time": "2023-01-24T07:59:57.980Z"
   },
   {
    "duration": 10,
    "start_time": "2023-01-24T07:59:57.984Z"
   },
   {
    "duration": 16,
    "start_time": "2023-01-24T07:59:57.995Z"
   },
   {
    "duration": 20,
    "start_time": "2023-01-24T07:59:58.013Z"
   },
   {
    "duration": 5,
    "start_time": "2023-01-24T07:59:58.035Z"
   },
   {
    "duration": 52,
    "start_time": "2023-01-24T08:00:42.922Z"
   },
   {
    "duration": 83,
    "start_time": "2023-01-24T08:01:47.382Z"
   },
   {
    "duration": 8,
    "start_time": "2023-01-24T08:01:51.444Z"
   },
   {
    "duration": 7,
    "start_time": "2023-01-24T08:01:58.511Z"
   },
   {
    "duration": 9,
    "start_time": "2023-01-24T08:02:01.370Z"
   },
   {
    "duration": 8,
    "start_time": "2023-01-24T08:02:08.935Z"
   },
   {
    "duration": 362,
    "start_time": "2023-01-24T08:02:17.196Z"
   },
   {
    "duration": 73,
    "start_time": "2023-01-24T08:02:17.561Z"
   },
   {
    "duration": 20,
    "start_time": "2023-01-24T08:02:17.636Z"
   },
   {
    "duration": 14,
    "start_time": "2023-01-24T08:02:17.657Z"
   },
   {
    "duration": 12,
    "start_time": "2023-01-24T08:02:17.673Z"
   },
   {
    "duration": 20,
    "start_time": "2023-01-24T08:02:17.687Z"
   },
   {
    "duration": 39,
    "start_time": "2023-01-24T08:02:17.709Z"
   },
   {
    "duration": 8,
    "start_time": "2023-01-24T08:02:17.750Z"
   },
   {
    "duration": 5,
    "start_time": "2023-01-24T08:02:17.760Z"
   },
   {
    "duration": 10,
    "start_time": "2023-01-24T08:02:17.768Z"
   },
   {
    "duration": 7,
    "start_time": "2023-01-24T08:02:17.780Z"
   },
   {
    "duration": 24,
    "start_time": "2023-01-24T08:02:17.789Z"
   },
   {
    "duration": 35,
    "start_time": "2023-01-24T08:02:17.815Z"
   },
   {
    "duration": 8,
    "start_time": "2023-01-24T08:02:17.852Z"
   },
   {
    "duration": 15,
    "start_time": "2023-01-24T08:02:17.862Z"
   },
   {
    "duration": 33,
    "start_time": "2023-01-24T08:02:17.879Z"
   },
   {
    "duration": 58,
    "start_time": "2023-01-24T08:02:17.913Z"
   },
   {
    "duration": 3,
    "start_time": "2023-01-24T08:02:17.972Z"
   },
   {
    "duration": 10,
    "start_time": "2023-01-24T08:02:17.976Z"
   },
   {
    "duration": 9,
    "start_time": "2023-01-24T08:02:17.987Z"
   },
   {
    "duration": 12,
    "start_time": "2023-01-24T08:02:17.997Z"
   },
   {
    "duration": 6,
    "start_time": "2023-01-24T08:02:18.011Z"
   },
   {
    "duration": 34,
    "start_time": "2023-01-24T08:02:19.706Z"
   },
   {
    "duration": 35,
    "start_time": "2023-01-24T08:08:59.379Z"
   },
   {
    "duration": 404,
    "start_time": "2023-01-24T08:09:10.738Z"
   },
   {
    "duration": 75,
    "start_time": "2023-01-24T08:09:11.144Z"
   },
   {
    "duration": 43,
    "start_time": "2023-01-24T08:09:11.221Z"
   },
   {
    "duration": 18,
    "start_time": "2023-01-24T08:09:11.267Z"
   },
   {
    "duration": 8,
    "start_time": "2023-01-24T08:09:11.287Z"
   },
   {
    "duration": 29,
    "start_time": "2023-01-24T08:09:11.297Z"
   },
   {
    "duration": 33,
    "start_time": "2023-01-24T08:09:11.328Z"
   },
   {
    "duration": 18,
    "start_time": "2023-01-24T08:09:11.363Z"
   },
   {
    "duration": 5,
    "start_time": "2023-01-24T08:09:11.383Z"
   },
   {
    "duration": 11,
    "start_time": "2023-01-24T08:09:11.391Z"
   },
   {
    "duration": 12,
    "start_time": "2023-01-24T08:09:11.403Z"
   },
   {
    "duration": 23,
    "start_time": "2023-01-24T08:09:11.417Z"
   },
   {
    "duration": 11,
    "start_time": "2023-01-24T08:09:11.442Z"
   },
   {
    "duration": 24,
    "start_time": "2023-01-24T08:09:11.454Z"
   },
   {
    "duration": 13,
    "start_time": "2023-01-24T08:09:11.480Z"
   },
   {
    "duration": 22,
    "start_time": "2023-01-24T08:09:11.495Z"
   },
   {
    "duration": 44,
    "start_time": "2023-01-24T08:09:11.518Z"
   },
   {
    "duration": 3,
    "start_time": "2023-01-24T08:09:11.565Z"
   },
   {
    "duration": 6,
    "start_time": "2023-01-24T08:09:11.570Z"
   },
   {
    "duration": 5,
    "start_time": "2023-01-24T08:09:11.578Z"
   },
   {
    "duration": 9,
    "start_time": "2023-01-24T08:09:11.584Z"
   },
   {
    "duration": 6,
    "start_time": "2023-01-24T08:09:11.594Z"
   },
   {
    "duration": 37,
    "start_time": "2023-01-24T08:09:20.684Z"
   },
   {
    "duration": 4,
    "start_time": "2023-01-24T08:17:53.833Z"
   },
   {
    "duration": 105,
    "start_time": "2023-01-24T08:19:14.236Z"
   },
   {
    "duration": 4,
    "start_time": "2023-01-24T08:19:58.610Z"
   },
   {
    "duration": 97,
    "start_time": "2023-01-24T08:21:08.860Z"
   },
   {
    "duration": 3,
    "start_time": "2023-01-24T08:23:28.424Z"
   },
   {
    "duration": 245,
    "start_time": "2023-01-24T08:25:01.207Z"
   },
   {
    "duration": 253,
    "start_time": "2023-01-24T08:25:12.930Z"
   },
   {
    "duration": 8,
    "start_time": "2023-01-24T08:26:09.850Z"
   },
   {
    "duration": 22,
    "start_time": "2023-01-24T08:29:17.702Z"
   },
   {
    "duration": 7,
    "start_time": "2023-01-24T08:30:13.207Z"
   },
   {
    "duration": 9,
    "start_time": "2023-01-24T08:39:27.996Z"
   },
   {
    "duration": 3,
    "start_time": "2023-01-24T08:42:24.747Z"
   },
   {
    "duration": 72,
    "start_time": "2023-01-24T08:42:55.642Z"
   },
   {
    "duration": 75,
    "start_time": "2023-01-24T08:43:39.400Z"
   },
   {
    "duration": 77,
    "start_time": "2023-01-24T08:44:04.687Z"
   },
   {
    "duration": 150,
    "start_time": "2023-01-24T08:44:12.406Z"
   },
   {
    "duration": 3,
    "start_time": "2023-01-24T08:44:29.110Z"
   },
   {
    "duration": 412,
    "start_time": "2023-01-24T09:39:17.140Z"
   },
   {
    "duration": 298,
    "start_time": "2023-01-24T09:39:17.562Z"
   },
   {
    "duration": 20,
    "start_time": "2023-01-24T09:39:17.862Z"
   },
   {
    "duration": 14,
    "start_time": "2023-01-24T09:39:17.883Z"
   },
   {
    "duration": 9,
    "start_time": "2023-01-24T09:39:17.898Z"
   },
   {
    "duration": 16,
    "start_time": "2023-01-24T09:39:17.908Z"
   },
   {
    "duration": 39,
    "start_time": "2023-01-24T09:39:17.926Z"
   },
   {
    "duration": 7,
    "start_time": "2023-01-24T09:39:17.966Z"
   },
   {
    "duration": 3,
    "start_time": "2023-01-24T09:39:17.975Z"
   },
   {
    "duration": 9,
    "start_time": "2023-01-24T09:39:17.980Z"
   },
   {
    "duration": 5,
    "start_time": "2023-01-24T09:39:17.990Z"
   },
   {
    "duration": 13,
    "start_time": "2023-01-24T09:39:17.997Z"
   },
   {
    "duration": 4,
    "start_time": "2023-01-24T09:39:18.011Z"
   },
   {
    "duration": 43,
    "start_time": "2023-01-24T09:39:18.016Z"
   },
   {
    "duration": 10,
    "start_time": "2023-01-24T09:39:18.060Z"
   },
   {
    "duration": 37,
    "start_time": "2023-01-24T09:39:18.072Z"
   },
   {
    "duration": 16,
    "start_time": "2023-01-24T09:39:18.110Z"
   },
   {
    "duration": 6,
    "start_time": "2023-01-24T09:39:18.128Z"
   },
   {
    "duration": 266,
    "start_time": "2023-01-24T09:39:18.135Z"
   },
   {
    "duration": 7,
    "start_time": "2023-01-24T09:39:18.403Z"
   },
   {
    "duration": 76,
    "start_time": "2023-01-24T09:39:18.411Z"
   },
   {
    "duration": 0,
    "start_time": "2023-01-24T09:39:18.489Z"
   },
   {
    "duration": 4,
    "start_time": "2023-01-24T09:42:17.528Z"
   },
   {
    "duration": 9,
    "start_time": "2023-01-24T09:42:19.051Z"
   },
   {
    "duration": 21,
    "start_time": "2023-01-24T09:42:31.446Z"
   },
   {
    "duration": 320,
    "start_time": "2023-01-24T09:43:17.760Z"
   },
   {
    "duration": 26,
    "start_time": "2023-01-24T09:43:27.137Z"
   },
   {
    "duration": 90,
    "start_time": "2023-01-24T10:09:16.312Z"
   },
   {
    "duration": 17,
    "start_time": "2023-01-24T10:09:44.510Z"
   },
   {
    "duration": 78,
    "start_time": "2023-01-24T10:12:38.869Z"
   },
   {
    "duration": 4,
    "start_time": "2023-01-24T10:15:26.063Z"
   },
   {
    "duration": 6,
    "start_time": "2023-01-24T10:15:42.028Z"
   },
   {
    "duration": 3,
    "start_time": "2023-01-24T10:20:54.232Z"
   },
   {
    "duration": 1092,
    "start_time": "2023-01-24T10:21:02.806Z"
   },
   {
    "duration": 252,
    "start_time": "2023-01-24T10:21:33.968Z"
   },
   {
    "duration": 3,
    "start_time": "2023-01-24T10:23:21.201Z"
   },
   {
    "duration": 241,
    "start_time": "2023-01-24T10:23:24.367Z"
   },
   {
    "duration": 4,
    "start_time": "2023-01-24T10:23:45.872Z"
   },
   {
    "duration": 15,
    "start_time": "2023-01-24T10:23:46.564Z"
   },
   {
    "duration": 4,
    "start_time": "2023-01-24T10:24:43.600Z"
   },
   {
    "duration": 250,
    "start_time": "2023-01-24T10:24:44.430Z"
   },
   {
    "duration": 446,
    "start_time": "2023-02-04T22:12:46.263Z"
   },
   {
    "duration": 336,
    "start_time": "2023-02-04T22:12:46.712Z"
   },
   {
    "duration": 23,
    "start_time": "2023-02-04T22:12:47.050Z"
   },
   {
    "duration": 14,
    "start_time": "2023-02-04T22:12:47.075Z"
   },
   {
    "duration": 16,
    "start_time": "2023-02-04T22:12:47.091Z"
   },
   {
    "duration": 22,
    "start_time": "2023-02-04T22:12:47.109Z"
   },
   {
    "duration": 20,
    "start_time": "2023-02-04T22:12:47.134Z"
   },
   {
    "duration": 12,
    "start_time": "2023-02-04T22:12:47.157Z"
   },
   {
    "duration": 21,
    "start_time": "2023-02-04T22:12:47.172Z"
   },
   {
    "duration": 10,
    "start_time": "2023-02-04T22:12:47.196Z"
   },
   {
    "duration": 7,
    "start_time": "2023-02-04T22:12:47.208Z"
   },
   {
    "duration": 22,
    "start_time": "2023-02-04T22:12:47.217Z"
   },
   {
    "duration": 4,
    "start_time": "2023-02-04T22:12:47.240Z"
   },
   {
    "duration": 7,
    "start_time": "2023-02-04T22:12:47.246Z"
   },
   {
    "duration": 39,
    "start_time": "2023-02-04T22:12:47.255Z"
   },
   {
    "duration": 21,
    "start_time": "2023-02-04T22:12:47.297Z"
   },
   {
    "duration": 24,
    "start_time": "2023-02-04T22:12:47.321Z"
   },
   {
    "duration": 4,
    "start_time": "2023-02-04T22:12:47.347Z"
   },
   {
    "duration": 262,
    "start_time": "2023-02-04T22:12:47.353Z"
   },
   {
    "duration": 7,
    "start_time": "2023-02-04T22:12:47.617Z"
   },
   {
    "duration": 3,
    "start_time": "2023-02-04T22:12:47.626Z"
   },
   {
    "duration": 261,
    "start_time": "2023-02-04T22:12:47.631Z"
   },
   {
    "duration": 4,
    "start_time": "2023-02-04T22:12:58.654Z"
   },
   {
    "duration": 248,
    "start_time": "2023-02-04T22:12:59.362Z"
   }
  ],
  "colab": {
   "provenance": []
  },
  "kernelspec": {
   "display_name": "Python 3 (ipykernel)",
   "language": "python",
   "name": "python3"
  },
  "language_info": {
   "codemirror_mode": {
    "name": "ipython",
    "version": 3
   },
   "file_extension": ".py",
   "mimetype": "text/x-python",
   "name": "python",
   "nbconvert_exporter": "python",
   "pygments_lexer": "ipython3",
   "version": "3.9.5"
  },
  "toc": {
   "base_numbering": 1,
   "nav_menu": {},
   "number_sections": true,
   "sideBar": true,
   "skip_h1_title": true,
   "title_cell": "Table of Contents",
   "title_sidebar": "Contents",
   "toc_cell": false,
   "toc_position": {},
   "toc_section_display": true,
   "toc_window_display": false
  }
 },
 "nbformat": 4,
 "nbformat_minor": 5
}
