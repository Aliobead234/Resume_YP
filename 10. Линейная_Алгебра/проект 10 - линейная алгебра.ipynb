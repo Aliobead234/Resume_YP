{
 "cells": [
  {
   "cell_type": "markdown",
   "metadata": {
    "id": "JCocR37AzmAr",
    "toc": true
   },
   "source": [
    "<h1>Содержание<span class=\"tocSkip\"></span></h1>\n",
    "<div class=\"toc\"><ul class=\"toc-item\"><li><span><a href=\"#Описание-данных\" data-toc-modified-id=\"Описание-данных-1\"><span class=\"toc-item-num\">1&nbsp;&nbsp;</span>Описание данных</a></span></li><li><span><a href=\"#План-работы\" data-toc-modified-id=\"План-работы-2\"><span class=\"toc-item-num\">2&nbsp;&nbsp;</span>План работы</a></span></li><li><span><a href=\"#Импортируем-библиотеки\" data-toc-modified-id=\"Импортируем-библиотеки-3\"><span class=\"toc-item-num\">3&nbsp;&nbsp;</span>Импортируем библиотеки</a></span></li><li><span><a href=\"#Загрузка-данных\" data-toc-modified-id=\"Загрузка-данных-4\"><span class=\"toc-item-num\">4&nbsp;&nbsp;</span>Загрузка данных</a></span><ul class=\"toc-item\"><li><span><a href=\"#Ознакомимся-с-данными\" data-toc-modified-id=\"Ознакомимся-с-данными-4.1\"><span class=\"toc-item-num\">4.1&nbsp;&nbsp;</span>Ознакомимся с данными</a></span></li></ul></li><li><span><a href=\"#Умножение-матриц\" data-toc-modified-id=\"Умножение-матриц-5\"><span class=\"toc-item-num\">5&nbsp;&nbsp;</span>Умножение матриц</a></span></li><li><span><a href=\"#Алгоритм-преобразования\" data-toc-modified-id=\"Алгоритм-преобразования-6\"><span class=\"toc-item-num\">6&nbsp;&nbsp;</span>Алгоритм преобразования</a></span></li><li><span><a href=\"#Проверка-алгоритма\" data-toc-modified-id=\"Проверка-алгоритма-7\"><span class=\"toc-item-num\">7&nbsp;&nbsp;</span>Проверка алгоритма</a></span><ul class=\"toc-item\"><li><span><a href=\"#Разобьем-данные-на-выборки\" data-toc-modified-id=\"Разобьем-данные-на-выборки-7.1\"><span class=\"toc-item-num\">7.1&nbsp;&nbsp;</span>Разобьем данные на выборки</a></span></li><li><span><a href=\"#Предсказания-линейной-регрессии-в-исходной-задаче\" data-toc-modified-id=\"Предсказания-линейной-регрессии-в-исходной-задаче-7.2\"><span class=\"toc-item-num\">7.2&nbsp;&nbsp;</span>Предсказания линейной регрессии в исходной задаче</a></span></li><li><span><a href=\"#Предсказания-линейной-регрессии-в-преобразованной-задаче\" data-toc-modified-id=\"Предсказания-линейной-регрессии-в-преобразованной-задаче-7.3\"><span class=\"toc-item-num\">7.3&nbsp;&nbsp;</span>Предсказания линейной регрессии в преобразованной задаче</a></span><ul class=\"toc-item\"><li><span><a href=\"#Матрица-&quot;a&quot;,-для-преобразования-признаков\" data-toc-modified-id=\"Матрица-&quot;a&quot;,-для-преобразования-признаков-7.3.1\"><span class=\"toc-item-num\">7.3.1&nbsp;&nbsp;</span>Матрица \"a\", для преобразования признаков</a></span></li><li><span><a href=\"#Преобразуем-признаки\" data-toc-modified-id=\"Преобразуем-признаки-7.3.2\"><span class=\"toc-item-num\">7.3.2&nbsp;&nbsp;</span>Преобразуем признаки</a></span></li></ul></li><li><span><a href=\"#Вывод:\" data-toc-modified-id=\"Вывод:-7.4\"><span class=\"toc-item-num\">7.4&nbsp;&nbsp;</span>Вывод:</a></span></li></ul></li><li><span><a href=\"#Общий-вывод:\" data-toc-modified-id=\"Общий-вывод:-8\"><span class=\"toc-item-num\">8&nbsp;&nbsp;</span>Общий вывод:</a></span></li><li><span><a href=\"#Чек-лист-проверки\" data-toc-modified-id=\"Чек-лист-проверки-9\"><span class=\"toc-item-num\">9&nbsp;&nbsp;</span>Чек-лист проверки</a></span></li></ul></div>"
   ]
  },
  {
   "cell_type": "markdown",
   "metadata": {
    "id": "9RR5ltshzmAu"
   },
   "source": [
    "# Защита персональных данных клиентов"
   ]
  },
  {
   "cell_type": "markdown",
   "metadata": {
    "id": "3WIqDBf8zmAv"
   },
   "source": [
    "Вам нужно защитить данные клиентов страховой компании «Хоть потоп». Разработайте такой метод преобразования данных, чтобы по ним было сложно восстановить персональную информацию. Обоснуйте корректность его работы.\n",
    "\n",
    "Нужно защитить данные, чтобы при преобразовании качество моделей машинного обучения не ухудшилось. Подбирать наилучшую модель не требуется."
   ]
  },
  {
   "cell_type": "markdown",
   "metadata": {
    "id": "pNhPDw1Bg1r8"
   },
   "source": [
    "## Описание данных\n",
    "\n",
    "**Набор данных находится в файле:** insurance.csv\n",
    "\n",
    "**Признаки**: пол, возраст и зарплата застрахованного, количество членов его семьи.\n",
    "\n",
    "**Целевой признак:** количество страховых выплат клиенту за последние 5 лет."
   ]
  },
  {
   "cell_type": "markdown",
   "metadata": {
    "id": "ISUQwC00yQeI"
   },
   "source": [
    "## План работы\n",
    "\n",
    "**Загрузим и изучим данные**\n",
    "\n",
    "**Проведем исследование умножения матриц**\n",
    "\n",
    "* Перемножим признаки на обратимую матрицу.\n",
    "* Найдем ответ на вопрос: \"Изменится ли качество линейной регрессии?\"\n",
    "\n",
    "**Предложим алгоритм для преобразования данных с целью защиты персональных данных клиентов**\n",
    "\n",
    "* Обоснуем, почему качество линейной регрессии не поменяется\n",
    "\n",
    "**Запрограммируем алгоритм преобразования данных**\n",
    "\n",
    "* Проверим что качество предсказаний линейной регрессии не изменится"
   ]
  },
  {
   "cell_type": "markdown",
   "metadata": {
    "id": "V-7NquDoOLrC"
   },
   "source": [
    "## Импортируем библиотеки"
   ]
  },
  {
   "cell_type": "code",
   "execution_count": null,
   "metadata": {
    "id": "4HC_WZ2d8Omm"
   },
   "outputs": [],
   "source": [
    "import pandas as pd\n",
    "import numpy as np\n",
    "import matplotlib.pyplot as plt\n",
    "import plotly.express as px\n",
    "\n",
    "from sklearn.metrics import r2_score\n",
    "from sklearn.model_selection import train_test_split\n",
    "from sklearn.linear_model import LinearRegression"
   ]
  },
  {
   "cell_type": "markdown",
   "metadata": {
    "id": "44PwA4zuzmAv"
   },
   "source": [
    "## Загрузка данных"
   ]
  },
  {
   "cell_type": "code",
   "execution_count": null,
   "metadata": {
    "id": "mYQIDnsbN_RT"
   },
   "outputs": [],
   "source": [
    "#Загрузим данные\n",
    "try:\n",
    "  data = pd.read_csv('/datasets/insurance.csv', sep = ',')\n",
    "except:\n",
    "  data = pd.read_csv('https://code.s3.yandex.net/datasets/insurance.csv', sep = ',')"
   ]
  },
  {
   "cell_type": "markdown",
   "metadata": {
    "id": "sX4WFJYU9bX0"
   },
   "source": [
    "Устанавливаем начальный RANDOM_STATE для получения одинаковых и повторяющихся результатов вычислений при использования случайных чисел."
   ]
  },
  {
   "cell_type": "code",
   "execution_count": null,
   "metadata": {
    "id": "Gnsj1OucYvpo"
   },
   "outputs": [],
   "source": [
    "RANDOM_STATE = 12345"
   ]
  },
  {
   "cell_type": "markdown",
   "metadata": {
    "id": "LG_eo7WLLlQx"
   },
   "source": [
    "### Ознакомимся с данными "
   ]
  },
  {
   "cell_type": "markdown",
   "metadata": {
    "id": "KXX5IFLN1SL7"
   },
   "source": [
    "Напишем функцию df_describe для ознакомления с данными в одном датафрейме"
   ]
  },
  {
   "cell_type": "code",
   "execution_count": null,
   "metadata": {
    "id": "rDA-nEM21z25"
   },
   "outputs": [],
   "source": [
    "def df_describe(df):\n",
    "  display('Первые 5 строк данных:\\n')\n",
    "  display(df.head(5))\n",
    "  \n",
    "  display('\\nИнформация столбцах, их типах:\\n')\n",
    "  df.info()\n",
    "  \n",
    "  display('\\nОбщее описание данных:\\n')\n",
    "  display(df.describe())\n",
    "  \n",
    "  display('\\nГистограммы данных:\\n')\n",
    "  df.hist(figsize=(7, 10), bins = 30);\n",
    "  plt.show()\n",
    "  \n",
    "  display('\\nВзаимосвязь между величинами:\\n')\n",
    "  fig = px.scatter_matrix(df, labels={\n",
    "    col: f'{col.replace(\" \", \"<br>\")}' for col in df.columns})\n",
    "  fig.show()\n",
    "\n",
    "  display('\\nКорреляция между признаками:\\n')\n",
    "  corrMatrix = df.corr()\n",
    "  display(corrMatrix.style.background_gradient(cmap='coolwarm'))"
   ]
  },
  {
   "cell_type": "code",
   "execution_count": null,
   "metadata": {
    "colab": {
     "base_uri": "https://localhost:8080/",
     "height": 1000
    },
    "id": "OAxd8FNca1UX",
    "outputId": "d5c14f04-ecf1-4f30-c3b2-89106077ce22"
   },
   "outputs": [
    {
     "name": "stdout",
     "output_type": "stream",
     "text": [
      "Первые 5 строк данных:\n",
      "\n",
      "   Пол  Возраст  Зарплата  Члены семьи  Страховые выплаты\n",
      "0    1     41.0   49600.0            1                  0\n",
      "1    0     46.0   38000.0            1                  1\n",
      "2    0     29.0   21000.0            0                  0\n",
      "3    0     21.0   41700.0            2                  0\n",
      "4    1     28.0   26100.0            0                  0\n",
      "\n",
      "Информация столбцах, их типах:\n",
      "\n",
      "<class 'pandas.core.frame.DataFrame'>\n",
      "RangeIndex: 5000 entries, 0 to 4999\n",
      "Data columns (total 5 columns):\n",
      " #   Column             Non-Null Count  Dtype  \n",
      "---  ------             --------------  -----  \n",
      " 0   Пол                5000 non-null   int64  \n",
      " 1   Возраст            5000 non-null   float64\n",
      " 2   Зарплата           5000 non-null   float64\n",
      " 3   Члены семьи        5000 non-null   int64  \n",
      " 4   Страховые выплаты  5000 non-null   int64  \n",
      "dtypes: float64(2), int64(3)\n",
      "memory usage: 195.4 KB\n",
      "\n",
      "Общее описание данных:\n",
      "\n",
      "               Пол      Возраст      Зарплата  Члены семьи  Страховые выплаты\n",
      "count  5000.000000  5000.000000   5000.000000  5000.000000        5000.000000\n",
      "mean      0.499000    30.952800  39916.360000     1.194200           0.148000\n",
      "std       0.500049     8.440807   9900.083569     1.091387           0.463183\n",
      "min       0.000000    18.000000   5300.000000     0.000000           0.000000\n",
      "25%       0.000000    24.000000  33300.000000     0.000000           0.000000\n",
      "50%       0.000000    30.000000  40200.000000     1.000000           0.000000\n",
      "75%       1.000000    37.000000  46600.000000     2.000000           0.000000\n",
      "max       1.000000    65.000000  79000.000000     6.000000           5.000000\n",
      "\n",
      "Гистограммы данных:\n",
      "\n"
     ]
    },
    {
     "data": {
      "image/png": "[encoded data removed]",
      "text/plain": [
       "<Figure size 700x1000 with 6 Axes>"
      ]
     },
     "metadata": {},
     "output_type": "display_data"
    },
    {
     "name": "stdout",
     "output_type": "stream",
     "text": [
      "\n",
      "Взаимосвязь между величинами:\n",
      "\n"
     ]
    },
    {
     "data": {
      "text/html": [
       "<html>\n",
       "<head><meta charset=\"utf-8\" /></head>\n",
       "<body>\n",
       "    <div>            <script src=\"https://cdnjs.cloudflare.com/ajax/libs/mathjax/2.7.5/MathJax.js?config=TeX-AMS-MML_SVG\"></script><script type=\"text/javascript\">if (window.MathJax && window.MathJax.Hub && window.MathJax.Hub.Config) {window.MathJax.Hub.Config({SVG: {font: \"STIX-Web\"}});}</script>                <script type=\"text/javascript\">window.PlotlyConfig = {MathJaxConfig: 'local'};</script>\n",
       "        <script src=\"https://cdn.plot.ly/plotly-2.18.2.min.js\"></script>                <div id=\"72a58065-ce00-49e4-9b5a-f754ca2d4cb1\" class=\"plotly-graph-div\" style=\"height:525px; width:100%;\"></div>            <script type=\"text/javascript\">                                    window.PLOTLYENV=window.PLOTLYENV || {};                                    if (document.getElementById(\"72a58065-ce00-49e4-9b5a-f754ca2d4cb1\")) {                    Plotly.newPlot(                        \"72a58065-ce00-49e4-9b5a-f754ca2d4cb1\",                        [{\"dimensions\":[{\"axis\":{\"matches\":true},\"label\":\"\\u041f\\u043e\\u043b\",\"values\":[1,0,0,0,1,1,1,1,1,1,1,1,0,0,0,1,1,1,1,1,1,1,0,0,0,1,1,1,1,0,0,1,1,0,0,1,1,0,1,1,1,1,1,0,0,0,0,0,1,0,1,0,1,1,1,0,0,0,1,1,0,0,1,0,0,1,1,1,1,1,1,0,0,1,1,0,0,1,0,1,1,1,0,1,0,0,0,0,1,0,1,1,1,1,0,1,0,1,1,0,0,0,1,0,0,1,1,1,1,1,1,0,1,0,0,1,1,1,1,0,1,1,0,1,1,1,0,0,0,0,0,0,1,1,1,0,0,1,1,0,0,1,0,0,0,1,0,1,0,0,1,1,0,0,0,1,1,1,0,1,0,0,0,0,1,1,1,1,0,1,1,0,1,1,1,0,1,1,1,0,0,0,1,0,0,1,0,1,0,0,1,1,0,0,1,0,0,0,0,1,1,0,0,1,0,0,1,0,1,0,1,0,1,1,0,1,0,1,0,0,0,0,0,1,0,0,1,0,1,1,0,0,0,0,0,0,0,0,1,1,1,1,0,0,0,1,1,1,0,1,0,1,1,1,0,0,0,0,0,0,1,1,1,0,1,0,1,0,0,1,1,0,0,1,0,0,1,1,1,0,1,1,1,1,1,0,0,0,0,1,1,0,0,0,1,0,1,1,0,0,0,1,0,1,0,1,0,1,1,0,0,1,1,0,0,0,1,0,0,1,0,0,1,0,1,0,1,0,0,0,1,0,1,0,0,1,1,0,0,1,0,0,0,0,0,0,0,0,0,1,0,1,0,1,1,0,1,0,1,0,1,0,0,1,1,1,1,0,0,1,1,0,0,0,1,1,0,1,0,0,1,1,1,0,1,1,0,1,0,1,1,1,1,0,0,1,1,0,0,1,1,0,0,0,0,1,1,0,0,0,0,1,1,1,1,1,0,1,1,0,1,1,1,1,0,1,0,0,0,0,1,1,1,1,1,0,0,0,0,1,1,0,1,1,0,1,0,0,1,0,0,0,0,1,0,0,1,1,0,1,1,0,1,0,1,0,0,1,0,0,1,1,1,0,0,1,1,0,1,1,1,0,1,0,1,0,1,0,1,1,0,1,1,1,1,1,1,1,0,1,0,0,1,1,0,0,0,0,1,0,0,0,0,0,1,0,1,1,1,1,0,0,1,1,1,0,0,0,1,1,1,0,1,1,1,0,1,0,0,1,1,1,0,0,0,0,1,1,1,0,0,0,0,1,1,0,1,0,0,1,0,0,0,1,0,1,0,1,1,0,1,0,1,1,0,1,1,0,1,0,0,0,1,0,1,1,1,0,0,1,1,0,0,1,1,0,1,0,1,0,0,1,1,0,1,1,1,1,0,0,1,0,0,1,1,0,1,0,0,1,0,0,1,1,1,0,1,1,1,1,1,1,0,0,1,1,0,1,1,1,0,0,0,1,1,0,1,1,0,1,0,0,0,0,0,0,1,1,1,1,0,1,0,1,1,0,1,0,0,0,1,0,1,0,1,1,1,0,1,1,0,1,1,1,1,1,1,0,0,0,0,1,0,1,1,1,1,0,0,0,0,1,1,1,0,0,1,1,0,0,0,1,1,1,1,0,1,1,1,1,0,0,0,0,1,0,1,1,0,0,0,1,1,1,0,0,0,1,1,0,1,0,0,1,1,0,0,0,1,0,0,0,0,1,0,0,1,1,0,0,1,0,1,1,1,1,1,0,0,1,1,0,1,0,0,1,1,1,0,0,0,1,0,0,0,0,1,1,1,0,1,1,1,0,0,1,1,0,1,0,0,1,1,0,0,0,1,0,0,1,0,0,1,1,0,1,0,0,0,1,0,0,1,1,0,1,1,0,1,0,0,0,0,0,0,1,0,1,1,1,0,1,0,1,0,1,0,1,1,0,0,0,1,0,1,0,0,1,1,1,0,0,1,1,1,1,0,0,0,1,1,0,0,1,0,1,1,0,1,0,1,0,0,0,1,1,0,1,0,1,1,1,1,0,0,1,1,0,1,0,0,1,0,1,0,1,0,0,0,1,1,0,1,1,0,0,1,0,1,0,1,1,0,1,0,1,1,1,1,1,0,0,0,0,0,1,1,1,0,1,1,1,0,0,0,0,1,1,0,0,0,1,0,1,1,1,1,0,1,1,1,0,0,1,0,1,1,1,0,1,0,0,1,0,0,0,1,1,0,0,0,1,1,1,1,0,0,0,1,0,0,0,0,1,1,0,1,1,0,0,1,1,1,1,1,1,0,1,1,1,0,1,1,1,0,0,1,1,1,1,1,1,0,0,1,1,0,0,1,0,0,1,1,1,0,1,1,1,1,1,1,1,0,1,0,1,1,0,1,1,1,1,0,0,1,1,1,1,0,1,1,0,1,0,0,0,1,1,1,1,0,0,1,1,1,0,0,1,0,0,0,1,0,1,1,0,0,0,0,0,0,1,1,1,1,0,0,1,1,1,0,1,1,1,0,0,0,1,1,1,0,1,0,0,0,0,1,0,0,0,1,0,1,0,1,0,1,1,1,1,1,0,1,1,0,1,0,0,0,1,1,1,0,1,1,1,0,1,0,0,0,0,0,0,0,0,0,0,1,1,1,0,0,1,1,0,0,0,1,1,1,1,1,0,1,0,1,0,1,1,1,0,0,0,0,0,0,0,0,0,1,1,1,0,0,0,0,1,1,0,0,0,0,0,1,0,0,1,0,0,0,1,1,0,0,1,0,1,1,1,1,0,1,0,1,0,0,1,0,0,1,0,1,0,1,0,0,0,1,1,1,0,0,0,1,0,1,0,0,1,1,1,0,1,1,0,0,1,1,0,0,0,0,0,1,0,1,1,0,0,0,0,1,1,0,1,1,1,0,0,0,1,0,0,1,1,1,1,1,0,0,0,0,0,1,0,0,0,0,0,0,1,0,0,1,0,1,0,1,0,0,0,1,0,0,0,0,0,0,1,1,1,1,0,1,0,1,1,0,0,1,0,0,0,0,1,1,0,1,1,1,0,1,0,1,0,0,0,1,1,0,1,1,0,0,0,1,0,1,0,0,0,0,1,1,1,0,1,0,0,1,1,0,0,1,0,0,0,0,1,1,0,1,1,1,1,0,0,0,1,1,1,1,1,1,1,0,0,0,1,0,1,1,0,0,1,1,1,0,1,1,1,1,1,0,1,1,1,1,0,1,1,0,0,0,0,0,0,0,0,0,0,1,0,0,1,1,0,0,0,1,1,1,0,0,1,1,0,0,1,0,0,1,0,1,1,1,0,0,1,0,1,0,1,0,0,1,1,0,0,0,1,0,0,0,0,1,0,0,0,0,0,0,0,1,1,1,0,1,0,1,0,0,0,0,0,1,0,0,0,1,1,1,1,0,0,1,1,0,0,0,0,0,0,0,1,0,0,0,1,0,1,1,1,1,1,0,1,1,0,0,0,0,0,0,0,0,0,1,0,0,0,0,0,0,1,1,0,0,0,1,1,0,0,0,1,1,1,0,1,1,0,1,1,0,0,1,1,1,0,0,1,1,0,0,0,1,1,1,1,0,0,0,0,1,1,1,0,0,1,0,0,0,1,1,0,0,1,0,1,1,0,1,0,0,1,1,0,0,1,1,0,1,1,0,0,1,0,1,1,1,1,0,1,0,1,1,1,1,1,1,1,0,1,1,1,0,0,0,0,0,1,0,0,1,0,1,0,0,0,1,0,0,0,0,0,0,1,0,1,1,1,1,0,0,0,0,1,1,1,0,1,0,1,0,0,1,0,1,1,0,1,0,0,1,1,1,0,1,0,1,0,1,0,1,0,1,0,0,0,0,0,1,1,0,0,0,1,1,1,0,1,0,1,1,0,0,0,1,0,0,1,0,0,0,0,1,1,0,0,0,0,0,1,1,0,1,0,1,1,0,1,1,0,1,0,0,1,1,1,1,0,1,1,1,0,0,0,1,0,0,0,0,1,1,0,0,0,1,1,1,1,1,1,1,1,1,0,0,1,1,1,1,0,1,1,1,0,0,1,1,0,1,1,1,0,0,0,0,0,0,0,1,0,1,1,1,1,0,0,0,1,1,1,1,1,1,1,0,1,0,1,0,1,0,0,1,0,0,0,0,0,0,0,0,1,1,1,0,0,0,0,0,1,0,1,1,1,1,1,0,1,0,0,1,0,0,0,0,0,1,1,1,0,1,0,1,0,1,0,1,1,1,0,1,0,1,1,1,1,1,0,0,1,0,1,0,0,0,0,0,1,0,1,0,0,1,1,0,0,0,1,1,1,0,1,0,1,0,1,0,0,1,1,0,1,0,1,1,1,0,1,0,0,1,1,0,1,0,1,1,1,1,0,1,0,1,1,0,1,0,1,1,0,1,1,0,0,0,0,1,0,0,1,0,0,1,1,1,0,0,1,0,1,1,1,1,0,1,0,0,1,1,1,1,0,1,1,1,1,0,0,0,0,0,0,1,1,1,0,1,0,0,0,1,0,1,1,1,1,0,0,1,1,0,0,1,0,1,0,1,0,1,1,0,1,1,0,0,1,0,1,1,1,1,0,1,1,1,0,0,0,0,1,1,1,1,1,0,1,0,0,0,0,1,1,1,0,0,0,1,1,1,1,1,1,1,0,1,0,0,0,1,1,0,0,0,0,0,1,0,0,0,1,1,1,0,1,1,0,1,1,0,1,0,0,0,1,1,1,0,0,0,1,0,1,0,0,0,1,0,0,0,1,1,1,1,1,0,0,1,0,1,0,1,0,1,0,0,1,1,1,0,1,0,0,0,1,1,0,1,1,0,0,0,0,1,0,0,1,1,0,0,0,0,1,1,1,0,1,0,0,1,0,1,1,1,0,0,0,1,1,0,1,0,1,1,1,1,0,1,1,0,1,1,0,0,1,0,0,0,0,1,0,0,0,1,1,1,1,0,1,0,1,1,1,1,1,0,0,1,1,0,0,0,1,1,0,1,0,0,1,1,0,0,0,1,1,1,1,0,0,1,1,1,0,0,1,0,1,1,0,1,1,1,0,0,0,0,0,0,0,1,0,1,0,1,1,0,1,0,0,0,1,1,1,0,0,1,1,0,1,1,1,1,0,1,1,1,1,0,1,0,1,1,1,0,1,0,1,0,1,0,1,0,0,0,1,0,0,1,0,1,0,1,0,1,0,0,0,1,1,0,0,0,1,0,0,1,1,1,0,0,0,1,1,1,0,0,1,0,1,0,0,0,0,1,0,1,0,0,0,0,0,1,1,0,0,1,1,0,1,1,1,1,0,0,0,1,1,0,0,1,0,1,1,0,1,1,1,1,0,1,0,1,0,0,0,1,1,1,0,0,1,1,0,0,1,1,0,1,1,0,0,0,1,0,1,1,1,1,0,1,0,1,0,1,1,0,0,1,0,1,1,0,0,0,1,0,1,0,1,1,1,1,1,0,0,0,1,1,0,0,1,1,1,0,0,0,1,0,1,0,0,0,0,1,0,1,1,0,1,1,1,1,0,0,0,1,0,1,1,1,1,1,1,1,0,0,0,0,1,1,1,1,0,0,0,1,1,0,0,1,1,0,0,1,0,1,0,1,0,1,1,1,0,1,0,0,0,0,1,1,0,1,1,0,1,0,0,1,0,1,0,0,1,1,1,0,0,1,1,1,0,0,1,0,0,0,0,1,0,1,1,1,0,0,1,1,1,1,0,1,0,0,0,1,0,0,0,1,0,1,1,0,0,1,1,0,0,1,1,0,0,0,1,1,0,0,0,1,0,1,0,1,1,1,0,1,0,1,0,0,0,1,1,0,0,0,0,0,1,0,0,1,0,1,1,1,0,0,1,1,1,0,0,0,1,1,0,0,0,1,0,0,1,1,0,0,1,1,0,1,1,1,1,0,0,0,0,1,0,1,0,1,1,1,1,0,0,1,1,0,1,0,0,1,1,0,1,1,0,1,0,1,0,1,0,1,1,1,0,0,1,0,1,1,1,1,0,0,1,0,1,0,1,0,0,1,1,0,0,1,0,1,0,0,1,1,1,1,0,1,0,0,1,0,1,0,1,0,1,0,0,1,1,1,0,1,0,1,1,0,1,0,0,1,0,1,1,1,0,0,0,0,1,0,0,0,0,1,0,0,0,1,0,1,1,0,0,0,1,0,1,0,1,0,1,0,1,0,1,1,1,1,0,0,1,0,0,1,1,1,1,1,1,1,0,0,0,0,1,0,0,0,1,1,1,1,1,0,1,1,1,1,1,1,1,0,1,1,0,1,0,1,1,0,0,1,0,0,1,0,0,1,0,1,1,0,1,1,1,0,1,0,0,1,1,0,1,0,1,1,1,0,0,1,1,0,0,0,0,1,0,1,0,0,1,1,1,1,1,0,0,0,1,0,0,0,0,1,1,1,0,1,1,0,0,1,1,1,0,0,0,0,0,0,0,0,0,1,0,0,0,1,1,1,1,1,0,1,1,0,0,0,1,0,0,0,0,1,0,1,1,1,1,0,0,0,1,0,0,1,0,0,0,0,0,1,1,1,0,1,0,1,0,1,0,0,1,1,0,1,0,0,0,0,0,0,0,0,0,0,0,1,1,1,0,1,1,0,0,0,0,0,1,0,0,0,0,1,1,0,0,0,1,1,0,1,0,0,1,1,1,0,1,0,1,0,1,0,1,1,1,1,0,0,0,1,0,1,0,1,0,0,1,1,1,1,1,0,1,0,0,1,1,1,1,1,1,1,0,0,0,1,0,1,1,0,0,1,1,1,0,0,0,1,1,0,1,1,1,1,0,1,1,1,0,1,0,0,0,1,0,0,1,0,0,0,0,0,1,1,0,1,0,0,1,1,1,1,1,1,1,1,0,1,0,0,0,0,1,1,1,1,0,0,1,1,0,0,1,1,0,1,0,0,0,1,1,1,0,0,1,0,0,1,1,0,0,0,1,1,0,1,0,0,0,0,0,1,1,1,1,1,1,0,1,0,1,0,1,0,0,1,1,1,0,0,0,1,0,0,1,1,0,1,0,1,1,0,0,0,1,1,1,0,0,0,0,0,1,1,0,0,1,0,1,0,1,0,0,0,0,1,0,1,1,1,0,0,0,1,0,1,0,0,0,1,0,1,0,1,0,1,0,1,0,1,0,0,0,0,1,0,1,0,0,0,0,1,1,0,0,1,1,1,0,1,1,1,0,0,1,1,0,1,0,0,0,0,0,1,1,1,0,1,0,0,1,0,0,1,0,0,0,1,0,0,0,1,1,1,0,0,1,1,0,1,0,0,0,0,0,1,0,1,1,0,0,0,1,0,0,1,1,1,1,1,1,1,0,1,1,0,1,1,1,1,0,1,1,1,0,1,0,1,1,0,0,1,1,1,1,1,1,1,0,0,0,0,1,1,0,0,0,1,0,1,0,0,1,0,1,1,0,0,0,1,0,1,1,1,0,1,1,0,1,0,0,1,0,1,0,1,1,1,0,1,1,0,0,1,0,0,1,1,1,0,1,0,1,0,0,1,1,1,1,1,1,1,1,0,1,1,0,0,0,0,1,1,1,1,0,1,0,1,0,1,1,1,1,1,1,1,1,0,1,1,1,1,0,0,1,1,0,0,0,0,0,0,1,0,0,0,0,1,1,1,1,1,0,0,1,0,0,0,0,1,1,1,1,1,0,0,1,0,0,0,1,0,1,0,0,1,0,1,0,1,1,1,1,0,1,0,0,0,1,1,1,0,1,0,0,1,1,0,1,0,1,0,1,0,0,1,0,0,1,1,1,0,1,0,0,0,1,1,0,1,1,1,1,0,0,0,0,0,1,0,0,1,0,0,1,0,0,0,1,0,0,0,1,1,0,1,1,0,1,0,0,0,1,0,1,1,1,0,0,0,1,1,1,1,0,0,1,1,1,0,1,0,1,1,1,0,1,1,1,0,0,1,1,1,0,1,1,1,0,1,1,1,0,1,0,1,0,1,0,0,0,1,0,0,1,1,0,1,0,0,0,1,0,0,1,0,0,0,0,1,0,0,1,1,0,0,1,0,1,1,1,0,0,1,1,1,0,0,0,0,1,0,0,1,1,0,0,0,1,0,0,1,1,1,0,0,1,0,1,1,0,1,0,0,0,0,1,0,1,0,1,1,1,1,1,1,1,0,1,1,1,0,1,1,0,0,1,0,1,0,0,1,0,1,1,1,0,1,0,0,1,0,1,1,0,0,1,0,0,1,1,0,0,0,1,1,0,0,0,0,0,0,0,0,1,1,1,0,0,1,1,0,0,1,0,1,1,0,1,0,0,0,1,0,1,1,1,0,1,1,1,0,0,0,1,1,1,1,1,1,1,0,1,0,1,0,1,1,0,1,0,0,1,1,1,1,1,1,0,0,0,1,0,0,0,1,0,0,0,1,1,0,1,0,1,1,0,1,1,1,0,1,1,0,1,0,1,0,0,1,1,1,0,1,0,0,0,0,1,0,0,0,1,0,0,0,1,1,1,0,1,1,1,1,0,1,1,1,1,1,0,1,0,0,0,0,0,1,0,0,1,0,1,0,0,0,0,0,0,1,0,0,0,1,1,0,1,0,1,1,1,1,1,1,1,0,0,1,0,1,0,1,0,1,1,1,1,1,0,0,0,1,0,1,1,1,1,1,1,0,0,1,0,1,1,0,1,0,0,1,1,0,1,1,0,0,0,1,0,1,0,1,0,0,0,1,0,1,1,0,1,1,0,0,1,0,1,0,1,0,0,1,0,1,0,0,0,0,1,1,1,0,0,1,0,0,0,1,0,0,1,1,0,1,1,1,0,1,1,1,1,0,0,0,1,1,1,1,1,0,0,0,0,1,1,1,1,0,0,0,0,1,0,1,1,1,1,0,0,1,1,0,0,1,1,0,1,0,0,0,1,1,0,1,1,0,0,0,1,1,0,1,0,0,1,1,1,1,0,0,1,1,1,1,0,1,1,0,1,0,1,0,1,0,1,1,1,1,1,1,1,0,0,0,1,1,1,1,0,1,0,1,0,1,1,1,1,1,0,1,0,0,0,1,0,1,1,0,1,0,0,0,1,1,1,1,1,1,1,1,0,1,1,0,1,0,1,1,1,1,1,1,1,0,1,0,1,0,1,0,0,0,1,0,1,0,1,0,1,0,1,0,1,0,1,1,1,0,0,1,1,1,1,1,0,1,0,0,1,0,0,0,1,0,1,1,0,0,0,1,0,0,1,1,0,1,1,0,1,0,1,0,0,1,1,0,0,0,0,0,0,1,0,0,1,1,0,0,1,1,0,0,1,1,0,1,0,1,0,1,1,1,0,1,1,0,0,1,0,1,0,1,0,1,1,0,1,1,0,0,1,0,0,0,0,1,0,0,0,0,1,1,0,0,1,1,0,0,1,1,0,1,1,1,0,1,0,0,1,1,0,1,1,0,0,0,0,1,0,0,1,1,1,0,0,1,1,0,1,0,0,0,1,0,0,0,0,1,1,1,0,0,0,0,1,1,1,0,0,0,1,1,1,1,1,0,1,1,0,1,0,0,0,0,1,0,1,0,0,0,0,0,1,1,0,0,0,0,0,1,0,1,0,1,0,0,1,1,0,0,1,0,0,1,0,1,0,0,1,0,1,0,0,0,0,1,0,0,0,1,1,1,0,1,0,1,0,0,1,0,0,0,0,1,0,0,0,1,1,0,0,1,1,0,1,0,1,0,1,1,1,0,1,1,0,1,0,0,1,1,0,1,1,1,1,1,0,1,0,1,1,0,0,0,0,1,0,0,0,0,0,1,0,1,1,1,0,1,0,1,0,0,1,0,0,1,0,0,0,0,0,1,1,1,1,1,0,0,0,0,1,1,0,1,0,0,0,1,1,0,1,1,1,0,0,0,1,1,1,1,1,0,0,0,1,0,0,1,0,0,1,0,0,0,1,1,0,1,0,1,0,0,1,1,0,0,1,1,0,1,1,1,1,0,1,0,1,1,1,1,0,0,0,0,0,1,0,0,0,1,0,0,0,1,1,0,0,0,1,0,1,1,0,1,0,1,0,1,0,0,0,1,1,0,1,0,1,0,1,1,1,1,0,0,1,0,1,0,0,1,0,1,1,0,1,1,1,1,0,1,0,0,1,0,0,0,0,0,0,0,1,1,0,1,0,0,1,0,0,0,0,0,0,0,0,1,1,1,0,1,0,0,0,1,0,0,1,0,1,0,1,0,0,0,0,0,1,0,1,1,1,0,1,1,1,1,0,1,1,1,1,0,0,0,1,0,0,0,1,0,0,1,0,0,1,0,0,1,1,0,1,1,0,1,0,1,0,0,1,0,0,1,1,0,0,0,1,0,1,0,1,1,1,0,1,0,0,1,1,0,0,0,1,1,1,1,0,0,0,1,1,1,1,0,0,1,1,0,1,1,1,1,0,0,0,1,0,0,0,1,1,0,0,1,1,0,1,0,0,1,1,0,0,0,0,1,1,1,0,0,1,1,0,1,1,1,0,1,1,0,0,1,0,1,0,0,0,0,0,0,0,0,1,0,1,0,0,1,1,0,0,1,0,0,0,1,1,0,0,1,0,0,0,1,0,0,1,1,0,1,0,1,1,0,0,0,0,1,0,1,0,1,0,1,0,0,1,1,1,0,1,0,1,0,0,1,0,1,1,1,0,0,1,0,1,1,1,1,1,1,0,1,0,0,1,1,0,0,1,1,1,1,1,0,0,0,0,1,1,0,0,0,1,0,1,0,1,0,0,0,1,0,1,1,1,0,1,0,1,0,0,0,1,0,0,0,0,1,0,0,1,0,1,0,1,1,0,1,1,0,0,0,0,1,0,0,0,0,1,0,1,0,0,0,1,1,1,1,0,1,0,0,1,0,1,1,1,0,0,1,1,0,0,1,0,1,0,1,1,1,0,1,0,0,0,0,1,0,0,0,0,0,0,0,0,1,0,1,1,0,1,0,1,0,0,0,0,1,1,0,1,1,1,1,1,0,1,1,0,0,1,1,1,0,0,0,0,1,1,0,1,1,1,1,1,1,1,1,1,1,0,0,1,1,1,1,0,0,1,1,1,0,1,0,1,0,0,1,0,1,1,0,0,1,0,0,1,0,0,0,1,0,0,0,1,1,1,1,1,1,0,1,1,0,1,1,1,1,1,1,1,1,0,0,0,0,1,1,1,0,0,1,1,0,0,1,0,1,1,1,0,1,1,1,0,1,1,0,1,0,1,0,1,1,0,1,1,0,0,0,1,0,0,0,1,1,0,0,0,1,1]},{\"axis\":{\"matches\":true},\"label\":\"\\u0412\\u043e\\u0437\\u0440\\u0430\\u0441\\u0442\",\"values\":[41.0,46.0,29.0,21.0,28.0,43.0,39.0,25.0,36.0,32.0,25.0,38.0,23.0,21.0,40.0,34.0,26.0,41.0,42.0,27.0,38.0,36.0,41.0,33.0,21.0,47.0,25.0,30.0,19.0,21.0,25.0,40.0,30.0,31.0,19.0,27.0,22.0,27.0,31.0,33.0,42.0,39.0,42.0,20.0,30.0,24.0,26.0,42.0,25.0,28.0,28.0,30.0,29.0,34.0,42.0,46.0,19.0,31.0,20.0,30.0,28.0,38.0,23.0,32.0,27.0,18.0,43.0,37.0,20.0,39.0,42.0,40.0,40.0,32.0,24.0,48.0,37.0,40.0,43.0,29.0,41.0,29.0,31.0,37.0,26.0,25.0,45.0,28.0,24.0,44.0,23.0,36.0,25.0,20.0,32.0,52.0,23.0,23.0,38.0,37.0,19.0,49.0,43.0,27.0,24.0,35.0,45.0,24.0,39.0,20.0,39.0,30.0,25.0,25.0,40.0,23.0,28.0,52.0,27.0,22.0,24.0,19.0,40.0,27.0,43.0,40.0,35.0,28.0,20.0,33.0,21.0,23.0,33.0,40.0,41.0,19.0,36.0,38.0,25.0,18.0,30.0,21.0,22.0,40.0,25.0,41.0,24.0,27.0,28.0,20.0,21.0,19.0,26.0,20.0,36.0,28.0,21.0,22.0,26.0,19.0,32.0,41.0,32.0,31.0,22.0,33.0,33.0,35.0,30.0,38.0,37.0,32.0,22.0,31.0,33.0,33.0,41.0,56.0,35.0,27.0,19.0,45.0,25.0,18.0,23.0,37.0,22.0,31.0,29.0,39.0,18.0,38.0,21.0,23.0,34.0,31.0,18.0,45.0,27.0,21.0,36.0,22.0,24.0,31.0,26.0,25.0,36.0,34.0,40.0,22.0,25.0,33.0,29.0,43.0,32.0,25.0,32.0,29.0,29.0,29.0,29.0,44.0,45.0,34.0,29.0,36.0,23.0,28.0,65.0,33.0,35.0,35.0,24.0,20.0,49.0,55.0,36.0,28.0,32.0,26.0,31.0,27.0,27.0,19.0,29.0,25.0,27.0,41.0,31.0,40.0,26.0,23.0,33.0,19.0,32.0,23.0,57.0,37.0,33.0,29.0,42.0,29.0,34.0,43.0,46.0,39.0,38.0,36.0,20.0,34.0,36.0,25.0,38.0,39.0,25.0,35.0,35.0,32.0,34.0,23.0,32.0,39.0,21.0,37.0,23.0,43.0,39.0,27.0,34.0,26.0,22.0,27.0,32.0,23.0,26.0,23.0,26.0,19.0,20.0,39.0,44.0,23.0,29.0,28.0,20.0,27.0,25.0,37.0,25.0,29.0,36.0,42.0,33.0,25.0,25.0,34.0,37.0,20.0,41.0,23.0,36.0,23.0,24.0,20.0,35.0,30.0,46.0,29.0,44.0,42.0,36.0,32.0,24.0,32.0,43.0,19.0,21.0,20.0,30.0,54.0,52.0,23.0,19.0,25.0,28.0,29.0,30.0,39.0,46.0,28.0,33.0,20.0,31.0,34.0,41.0,45.0,30.0,43.0,32.0,30.0,26.0,50.0,42.0,47.0,39.0,40.0,34.0,42.0,40.0,31.0,40.0,19.0,37.0,37.0,34.0,46.0,36.0,32.0,35.0,34.0,27.0,30.0,36.0,31.0,44.0,22.0,26.0,31.0,35.0,23.0,43.0,19.0,43.0,25.0,27.0,27.0,24.0,31.0,30.0,23.0,26.0,18.0,34.0,32.0,46.0,28.0,36.0,34.0,18.0,38.0,32.0,24.0,30.0,45.0,23.0,36.0,25.0,28.0,33.0,30.0,48.0,22.0,30.0,26.0,46.0,30.0,23.0,30.0,29.0,27.0,20.0,39.0,32.0,30.0,32.0,42.0,33.0,28.0,36.0,27.0,25.0,36.0,39.0,34.0,36.0,37.0,33.0,29.0,32.0,38.0,29.0,31.0,34.0,28.0,27.0,30.0,32.0,34.0,26.0,22.0,26.0,42.0,19.0,52.0,43.0,46.0,33.0,26.0,38.0,29.0,35.0,30.0,38.0,22.0,32.0,23.0,32.0,28.0,53.0,41.0,22.0,30.0,37.0,29.0,36.0,19.0,26.0,30.0,24.0,22.0,34.0,24.0,20.0,34.0,38.0,42.0,24.0,33.0,33.0,42.0,18.0,37.0,29.0,28.0,21.0,41.0,25.0,32.0,29.0,29.0,42.0,24.0,31.0,31.0,38.0,31.0,25.0,27.0,33.0,30.0,28.0,26.0,46.0,19.0,22.0,23.0,19.0,21.0,23.0,34.0,36.0,41.0,23.0,21.0,29.0,29.0,25.0,20.0,23.0,31.0,29.0,21.0,21.0,45.0,37.0,32.0,36.0,35.0,33.0,34.0,36.0,22.0,25.0,23.0,30.0,20.0,21.0,32.0,26.0,46.0,26.0,19.0,25.0,27.0,30.0,28.0,21.0,33.0,27.0,49.0,32.0,32.0,43.0,45.0,27.0,23.0,40.0,31.0,34.0,43.0,21.0,23.0,25.0,21.0,43.0,45.0,27.0,33.0,37.0,28.0,23.0,30.0,27.0,20.0,39.0,35.0,29.0,42.0,26.0,20.0,27.0,28.0,27.0,24.0,20.0,31.0,27.0,38.0,25.0,19.0,25.0,22.0,43.0,32.0,25.0,42.0,26.0,39.0,33.0,35.0,19.0,31.0,20.0,41.0,29.0,31.0,31.0,24.0,20.0,26.0,20.0,23.0,30.0,44.0,29.0,27.0,26.0,41.0,26.0,21.0,28.0,55.0,46.0,22.0,20.0,26.0,51.0,33.0,30.0,32.0,26.0,33.0,43.0,31.0,46.0,18.0,19.0,37.0,19.0,30.0,39.0,49.0,19.0,34.0,19.0,30.0,47.0,21.0,25.0,37.0,28.0,26.0,30.0,21.0,43.0,39.0,37.0,37.0,33.0,26.0,37.0,23.0,36.0,24.0,52.0,20.0,25.0,34.0,20.0,22.0,26.0,29.0,25.0,39.0,42.0,20.0,34.0,35.0,32.0,25.0,40.0,44.0,21.0,30.0,37.0,44.0,40.0,23.0,35.0,37.0,28.0,47.0,19.0,39.0,22.0,22.0,44.0,27.0,22.0,41.0,25.0,37.0,25.0,51.0,32.0,29.0,20.0,26.0,40.0,18.0,44.0,19.0,24.0,25.0,36.0,18.0,20.0,27.0,39.0,37.0,30.0,20.0,36.0,33.0,50.0,32.0,21.0,33.0,31.0,19.0,40.0,30.0,41.0,27.0,23.0,39.0,30.0,24.0,20.0,33.0,24.0,24.0,38.0,28.0,30.0,21.0,29.0,20.0,50.0,39.0,47.0,32.0,20.0,21.0,32.0,39.0,22.0,31.0,23.0,24.0,24.0,41.0,25.0,40.0,42.0,20.0,37.0,26.0,30.0,29.0,31.0,34.0,38.0,31.0,26.0,26.0,36.0,26.0,20.0,23.0,41.0,31.0,24.0,29.0,41.0,30.0,45.0,32.0,30.0,29.0,20.0,20.0,37.0,18.0,35.0,37.0,28.0,24.0,22.0,32.0,29.0,24.0,37.0,33.0,22.0,41.0,38.0,31.0,20.0,21.0,23.0,27.0,25.0,19.0,32.0,23.0,23.0,24.0,26.0,42.0,23.0,44.0,20.0,31.0,21.0,20.0,43.0,49.0,32.0,33.0,28.0,19.0,34.0,21.0,22.0,29.0,36.0,23.0,38.0,49.0,45.0,39.0,36.0,42.0,20.0,19.0,41.0,20.0,36.0,24.0,29.0,36.0,23.0,32.0,26.0,34.0,38.0,20.0,32.0,32.0,26.0,25.0,33.0,21.0,38.0,20.0,18.0,19.0,35.0,33.0,41.0,39.0,27.0,40.0,40.0,33.0,25.0,26.0,32.0,36.0,18.0,34.0,19.0,28.0,41.0,44.0,27.0,19.0,23.0,36.0,23.0,30.0,50.0,39.0,22.0,36.0,41.0,24.0,31.0,20.0,34.0,20.0,39.0,41.0,31.0,22.0,32.0,21.0,21.0,20.0,29.0,40.0,26.0,25.0,21.0,28.0,45.0,25.0,40.0,35.0,23.0,20.0,35.0,40.0,50.0,26.0,28.0,37.0,19.0,28.0,36.0,39.0,23.0,18.0,46.0,28.0,32.0,27.0,19.0,29.0,41.0,21.0,24.0,20.0,37.0,28.0,20.0,27.0,41.0,37.0,43.0,30.0,32.0,21.0,20.0,28.0,30.0,20.0,31.0,45.0,35.0,27.0,51.0,42.0,28.0,37.0,34.0,26.0,33.0,29.0,28.0,22.0,29.0,19.0,21.0,28.0,31.0,39.0,41.0,27.0,41.0,32.0,34.0,25.0,29.0,34.0,27.0,19.0,37.0,27.0,36.0,26.0,22.0,43.0,38.0,29.0,27.0,23.0,28.0,42.0,36.0,39.0,21.0,46.0,24.0,29.0,34.0,37.0,23.0,25.0,20.0,22.0,30.0,33.0,25.0,32.0,20.0,52.0,21.0,24.0,44.0,28.0,33.0,39.0,35.0,48.0,23.0,36.0,35.0,23.0,24.0,45.0,29.0,20.0,54.0,30.0,25.0,49.0,22.0,22.0,42.0,29.0,55.0,46.0,27.0,35.0,27.0,38.0,43.0,26.0,28.0,50.0,34.0,44.0,29.0,26.0,33.0,33.0,34.0,21.0,26.0,42.0,22.0,27.0,28.0,34.0,22.0,30.0,32.0,27.0,45.0,41.0,21.0,41.0,30.0,25.0,42.0,29.0,21.0,25.0,32.0,24.0,36.0,20.0,31.0,29.0,19.0,19.0,27.0,29.0,25.0,36.0,40.0,33.0,46.0,20.0,27.0,31.0,26.0,44.0,33.0,33.0,24.0,48.0,30.0,28.0,58.0,35.0,47.0,21.0,38.0,26.0,21.0,19.0,35.0,30.0,35.0,26.0,25.0,33.0,34.0,41.0,32.0,50.0,40.0,21.0,41.0,42.0,35.0,22.0,25.0,32.0,28.0,32.0,36.0,37.0,40.0,32.0,27.0,18.0,21.0,19.0,40.0,38.0,36.0,33.0,35.0,54.0,31.0,30.0,33.0,38.0,29.0,39.0,30.0,42.0,27.0,38.0,18.0,19.0,35.0,45.0,31.0,18.0,28.0,28.0,26.0,35.0,36.0,28.0,28.0,31.0,25.0,36.0,48.0,30.0,24.0,21.0,22.0,33.0,39.0,18.0,23.0,31.0,19.0,49.0,18.0,26.0,26.0,33.0,38.0,29.0,26.0,20.0,23.0,58.0,27.0,21.0,32.0,32.0,49.0,31.0,46.0,33.0,22.0,42.0,31.0,52.0,38.0,43.0,32.0,18.0,19.0,19.0,25.0,47.0,23.0,19.0,44.0,24.0,32.0,35.0,31.0,34.0,22.0,35.0,51.0,19.0,18.0,41.0,30.0,37.0,25.0,34.0,23.0,30.0,31.0,18.0,22.0,21.0,41.0,24.0,30.0,44.0,26.0,31.0,27.0,33.0,26.0,25.0,35.0,24.0,24.0,28.0,36.0,34.0,23.0,26.0,50.0,44.0,52.0,24.0,43.0,26.0,24.0,36.0,42.0,32.0,24.0,21.0,40.0,35.0,23.0,24.0,34.0,37.0,20.0,31.0,42.0,32.0,37.0,20.0,27.0,44.0,38.0,35.0,19.0,27.0,32.0,34.0,30.0,32.0,37.0,20.0,22.0,48.0,35.0,25.0,29.0,29.0,35.0,33.0,42.0,19.0,22.0,31.0,28.0,21.0,47.0,28.0,27.0,36.0,51.0,28.0,32.0,23.0,19.0,22.0,37.0,19.0,20.0,44.0,50.0,39.0,20.0,39.0,26.0,19.0,24.0,33.0,19.0,42.0,35.0,21.0,26.0,28.0,23.0,29.0,27.0,36.0,37.0,41.0,35.0,29.0,40.0,39.0,38.0,45.0,27.0,25.0,33.0,44.0,37.0,40.0,19.0,21.0,35.0,26.0,36.0,23.0,34.0,40.0,18.0,35.0,33.0,35.0,40.0,33.0,46.0,24.0,30.0,29.0,22.0,40.0,30.0,32.0,19.0,33.0,37.0,24.0,47.0,29.0,22.0,37.0,43.0,33.0,35.0,26.0,35.0,41.0,20.0,31.0,30.0,29.0,50.0,39.0,22.0,50.0,28.0,20.0,22.0,19.0,39.0,41.0,40.0,32.0,36.0,33.0,43.0,38.0,30.0,19.0,21.0,28.0,26.0,29.0,18.0,25.0,43.0,29.0,20.0,34.0,20.0,26.0,34.0,31.0,38.0,35.0,20.0,21.0,21.0,55.0,27.0,39.0,55.0,28.0,25.0,18.0,24.0,27.0,33.0,38.0,33.0,23.0,36.0,21.0,30.0,42.0,20.0,21.0,36.0,30.0,28.0,37.0,37.0,18.0,40.0,20.0,33.0,19.0,42.0,33.0,48.0,37.0,40.0,41.0,50.0,38.0,36.0,48.0,34.0,31.0,27.0,35.0,27.0,37.0,26.0,40.0,34.0,21.0,25.0,28.0,32.0,32.0,21.0,23.0,32.0,35.0,26.0,49.0,31.0,39.0,37.0,24.0,34.0,36.0,36.0,32.0,25.0,26.0,25.0,36.0,30.0,31.0,33.0,36.0,19.0,36.0,27.0,34.0,32.0,38.0,20.0,18.0,32.0,23.0,44.0,34.0,36.0,18.0,26.0,25.0,40.0,26.0,25.0,28.0,33.0,21.0,38.0,38.0,31.0,42.0,31.0,33.0,31.0,30.0,21.0,22.0,19.0,32.0,21.0,32.0,31.0,36.0,25.0,21.0,18.0,40.0,59.0,23.0,37.0,31.0,27.0,27.0,23.0,31.0,19.0,24.0,30.0,38.0,19.0,24.0,33.0,32.0,19.0,20.0,23.0,22.0,35.0,35.0,26.0,21.0,30.0,30.0,27.0,41.0,35.0,29.0,28.0,49.0,27.0,28.0,32.0,34.0,26.0,41.0,18.0,21.0,20.0,34.0,32.0,48.0,26.0,28.0,21.0,18.0,53.0,23.0,18.0,27.0,31.0,37.0,37.0,38.0,24.0,30.0,37.0,41.0,28.0,27.0,34.0,30.0,31.0,22.0,36.0,21.0,31.0,39.0,27.0,21.0,31.0,40.0,24.0,21.0,29.0,34.0,25.0,46.0,18.0,29.0,33.0,30.0,26.0,20.0,44.0,33.0,41.0,21.0,35.0,28.0,24.0,39.0,19.0,29.0,28.0,38.0,36.0,30.0,37.0,24.0,26.0,23.0,48.0,22.0,46.0,22.0,35.0,34.0,31.0,25.0,31.0,38.0,41.0,27.0,45.0,33.0,20.0,32.0,35.0,30.0,28.0,35.0,51.0,18.0,33.0,27.0,25.0,28.0,33.0,28.0,37.0,37.0,23.0,34.0,39.0,29.0,29.0,34.0,36.0,29.0,22.0,41.0,26.0,35.0,43.0,25.0,19.0,18.0,20.0,38.0,24.0,29.0,29.0,20.0,32.0,22.0,31.0,32.0,30.0,35.0,30.0,24.0,30.0,35.0,36.0,29.0,30.0,28.0,35.0,27.0,36.0,28.0,28.0,29.0,40.0,40.0,47.0,22.0,20.0,48.0,34.0,19.0,23.0,29.0,33.0,31.0,35.0,42.0,23.0,35.0,27.0,28.0,33.0,29.0,20.0,38.0,40.0,30.0,22.0,34.0,20.0,38.0,28.0,26.0,26.0,18.0,37.0,18.0,53.0,36.0,20.0,24.0,21.0,37.0,34.0,45.0,27.0,34.0,31.0,19.0,40.0,18.0,33.0,32.0,31.0,27.0,19.0,21.0,26.0,21.0,45.0,35.0,51.0,23.0,33.0,45.0,23.0,33.0,36.0,37.0,23.0,42.0,22.0,22.0,18.0,27.0,47.0,27.0,34.0,27.0,45.0,38.0,41.0,25.0,35.0,43.0,37.0,35.0,45.0,22.0,22.0,20.0,24.0,50.0,21.0,49.0,44.0,31.0,32.0,32.0,35.0,33.0,44.0,23.0,27.0,21.0,19.0,31.0,36.0,18.0,49.0,23.0,27.0,31.0,19.0,52.0,31.0,21.0,31.0,32.0,36.0,37.0,28.0,46.0,18.0,35.0,47.0,37.0,41.0,23.0,27.0,34.0,27.0,22.0,41.0,40.0,36.0,26.0,20.0,27.0,27.0,26.0,19.0,28.0,43.0,31.0,21.0,20.0,27.0,29.0,23.0,30.0,29.0,30.0,36.0,22.0,38.0,20.0,31.0,18.0,22.0,19.0,40.0,22.0,22.0,26.0,27.0,21.0,35.0,27.0,31.0,29.0,46.0,29.0,22.0,20.0,52.0,44.0,22.0,22.0,39.0,32.0,18.0,39.0,38.0,45.0,24.0,30.0,33.0,49.0,19.0,33.0,50.0,23.0,36.0,45.0,26.0,19.0,21.0,40.0,31.0,27.0,19.0,47.0,34.0,31.0,25.0,27.0,27.0,24.0,43.0,47.0,53.0,27.0,26.0,27.0,33.0,32.0,35.0,22.0,28.0,19.0,22.0,24.0,30.0,39.0,39.0,21.0,34.0,22.0,20.0,39.0,19.0,27.0,28.0,24.0,45.0,38.0,44.0,21.0,37.0,21.0,27.0,26.0,39.0,30.0,24.0,32.0,41.0,37.0,19.0,18.0,33.0,23.0,26.0,45.0,46.0,39.0,38.0,34.0,34.0,28.0,36.0,22.0,21.0,30.0,28.0,45.0,35.0,24.0,38.0,42.0,33.0,28.0,21.0,22.0,45.0,38.0,23.0,25.0,22.0,32.0,41.0,34.0,29.0,38.0,40.0,23.0,26.0,24.0,34.0,30.0,24.0,25.0,24.0,21.0,34.0,26.0,29.0,34.0,20.0,31.0,40.0,36.0,28.0,30.0,30.0,44.0,22.0,30.0,28.0,21.0,49.0,47.0,33.0,32.0,44.0,22.0,38.0,27.0,33.0,26.0,28.0,23.0,39.0,23.0,19.0,32.0,38.0,24.0,47.0,24.0,19.0,33.0,20.0,24.0,22.0,49.0,20.0,29.0,27.0,19.0,23.0,21.0,29.0,20.0,45.0,21.0,21.0,39.0,32.0,31.0,42.0,21.0,26.0,42.0,23.0,39.0,37.0,25.0,37.0,29.0,23.0,41.0,21.0,22.0,20.0,20.0,33.0,35.0,23.0,25.0,31.0,30.0,21.0,26.0,21.0,22.0,32.0,24.0,21.0,36.0,18.0,19.0,19.0,37.0,32.0,21.0,45.0,46.0,37.0,51.0,22.0,42.0,35.0,20.0,37.0,20.0,20.0,26.0,36.0,25.0,32.0,33.0,28.0,27.0,42.0,38.0,41.0,20.0,47.0,23.0,20.0,35.0,24.0,56.0,23.0,24.0,26.0,34.0,20.0,39.0,29.0,29.0,22.0,32.0,22.0,39.0,24.0,36.0,34.0,24.0,38.0,29.0,21.0,36.0,36.0,41.0,18.0,25.0,39.0,40.0,18.0,19.0,23.0,25.0,34.0,36.0,21.0,32.0,36.0,22.0,25.0,26.0,28.0,20.0,39.0,39.0,21.0,28.0,23.0,25.0,18.0,22.0,18.0,44.0,45.0,28.0,49.0,21.0,38.0,20.0,31.0,36.0,45.0,45.0,25.0,32.0,34.0,21.0,23.0,32.0,28.0,23.0,50.0,19.0,25.0,43.0,42.0,21.0,31.0,33.0,21.0,27.0,29.0,30.0,32.0,19.0,31.0,31.0,60.0,36.0,20.0,27.0,26.0,34.0,21.0,33.0,39.0,19.0,52.0,23.0,36.0,53.0,26.0,43.0,30.0,20.0,18.0,39.0,26.0,22.0,36.0,39.0,28.0,25.0,21.0,21.0,44.0,19.0,21.0,42.0,30.0,26.0,41.0,32.0,41.0,33.0,49.0,22.0,25.0,30.0,20.0,40.0,43.0,36.0,36.0,40.0,31.0,27.0,31.0,40.0,27.0,30.0,46.0,28.0,31.0,20.0,43.0,44.0,48.0,40.0,27.0,28.0,39.0,25.0,39.0,22.0,26.0,36.0,32.0,49.0,42.0,41.0,34.0,38.0,52.0,31.0,35.0,39.0,20.0,19.0,44.0,22.0,19.0,43.0,38.0,37.0,30.0,38.0,40.0,32.0,37.0,47.0,28.0,37.0,21.0,26.0,27.0,30.0,42.0,19.0,25.0,47.0,22.0,25.0,20.0,22.0,32.0,46.0,20.0,44.0,45.0,19.0,52.0,26.0,39.0,44.0,31.0,23.0,40.0,47.0,32.0,37.0,26.0,29.0,18.0,32.0,32.0,30.0,39.0,29.0,19.0,22.0,20.0,23.0,31.0,32.0,39.0,29.0,19.0,26.0,21.0,31.0,39.0,36.0,38.0,36.0,19.0,34.0,28.0,21.0,25.0,30.0,26.0,31.0,33.0,38.0,46.0,37.0,30.0,40.0,29.0,22.0,34.0,19.0,37.0,44.0,46.0,20.0,24.0,19.0,34.0,30.0,22.0,30.0,25.0,20.0,28.0,34.0,28.0,42.0,20.0,30.0,18.0,38.0,31.0,43.0,29.0,18.0,22.0,27.0,29.0,34.0,44.0,25.0,27.0,50.0,25.0,44.0,25.0,31.0,30.0,25.0,34.0,37.0,22.0,23.0,29.0,41.0,33.0,39.0,39.0,21.0,53.0,22.0,32.0,41.0,25.0,26.0,27.0,37.0,43.0,27.0,30.0,40.0,27.0,32.0,32.0,51.0,34.0,25.0,31.0,20.0,21.0,18.0,30.0,39.0,25.0,51.0,28.0,38.0,36.0,33.0,31.0,34.0,31.0,18.0,29.0,47.0,20.0,44.0,20.0,45.0,42.0,26.0,35.0,19.0,18.0,34.0,29.0,25.0,27.0,22.0,21.0,53.0,19.0,39.0,22.0,25.0,33.0,53.0,19.0,31.0,23.0,21.0,42.0,43.0,25.0,36.0,21.0,25.0,19.0,28.0,41.0,22.0,25.0,20.0,36.0,43.0,24.0,31.0,34.0,28.0,26.0,45.0,31.0,33.0,33.0,29.0,29.0,31.0,19.0,35.0,20.0,44.0,23.0,40.0,41.0,18.0,36.0,33.0,46.0,26.0,26.0,21.0,32.0,29.0,33.0,45.0,33.0,35.0,28.0,34.0,19.0,31.0,30.0,47.0,20.0,30.0,31.0,23.0,31.0,39.0,49.0,38.0,42.0,26.0,29.0,19.0,23.0,33.0,39.0,31.0,20.0,30.0,32.0,26.0,29.0,31.0,38.0,45.0,18.0,24.0,25.0,31.0,32.0,30.0,35.0,32.0,18.0,34.0,27.0,26.0,18.0,23.0,24.0,51.0,29.0,26.0,48.0,20.0,21.0,23.0,39.0,35.0,31.0,32.0,31.0,32.0,32.0,31.0,23.0,28.0,19.0,28.0,23.0,39.0,41.0,28.0,28.0,19.0,30.0,19.0,34.0,23.0,19.0,22.0,28.0,49.0,39.0,32.0,36.0,39.0,33.0,26.0,33.0,39.0,29.0,29.0,42.0,36.0,31.0,30.0,20.0,30.0,43.0,22.0,46.0,33.0,36.0,21.0,22.0,41.0,39.0,35.0,30.0,22.0,26.0,29.0,26.0,43.0,31.0,36.0,28.0,23.0,25.0,22.0,28.0,33.0,41.0,29.0,38.0,21.0,18.0,24.0,26.0,35.0,18.0,41.0,35.0,21.0,40.0,18.0,19.0,33.0,19.0,26.0,20.0,40.0,26.0,31.0,25.0,34.0,31.0,19.0,38.0,35.0,25.0,22.0,19.0,33.0,36.0,35.0,34.0,25.0,20.0,37.0,32.0,40.0,34.0,35.0,29.0,36.0,22.0,30.0,36.0,19.0,20.0,37.0,19.0,19.0,18.0,43.0,32.0,22.0,29.0,37.0,22.0,19.0,34.0,32.0,31.0,34.0,28.0,22.0,24.0,31.0,38.0,31.0,34.0,24.0,27.0,20.0,28.0,26.0,26.0,26.0,22.0,47.0,36.0,45.0,19.0,47.0,26.0,28.0,35.0,22.0,36.0,23.0,38.0,36.0,19.0,24.0,43.0,41.0,28.0,33.0,21.0,25.0,27.0,21.0,25.0,39.0,25.0,40.0,26.0,19.0,24.0,33.0,42.0,25.0,40.0,23.0,34.0,18.0,22.0,25.0,42.0,23.0,30.0,22.0,52.0,37.0,42.0,47.0,35.0,18.0,20.0,27.0,37.0,27.0,44.0,28.0,36.0,19.0,21.0,30.0,52.0,37.0,24.0,44.0,27.0,38.0,40.0,35.0,32.0,33.0,24.0,25.0,27.0,35.0,38.0,27.0,53.0,36.0,18.0,37.0,27.0,33.0,22.0,26.0,22.0,26.0,28.0,24.0,38.0,28.0,47.0,26.0,30.0,24.0,34.0,19.0,21.0,42.0,31.0,26.0,30.0,27.0,46.0,22.0,25.0,25.0,37.0,29.0,33.0,32.0,27.0,50.0,36.0,35.0,34.0,41.0,32.0,35.0,35.0,35.0,20.0,23.0,27.0,28.0,37.0,49.0,21.0,27.0,33.0,38.0,30.0,23.0,23.0,45.0,31.0,25.0,22.0,35.0,23.0,31.0,41.0,28.0,36.0,31.0,43.0,39.0,35.0,28.0,24.0,19.0,20.0,36.0,35.0,20.0,42.0,37.0,41.0,37.0,31.0,29.0,27.0,22.0,35.0,28.0,34.0,44.0,33.0,43.0,23.0,41.0,36.0,32.0,21.0,34.0,33.0,25.0,30.0,25.0,38.0,38.0,24.0,37.0,36.0,20.0,46.0,32.0,23.0,23.0,26.0,39.0,27.0,40.0,34.0,30.0,26.0,25.0,46.0,32.0,39.0,29.0,39.0,35.0,29.0,22.0,41.0,28.0,37.0,44.0,27.0,27.0,28.0,37.0,32.0,34.0,44.0,44.0,27.0,24.0,35.0,36.0,32.0,21.0,32.0,31.0,29.0,20.0,33.0,28.0,33.0,23.0,32.0,40.0,19.0,32.0,47.0,36.0,29.0,41.0,22.0,38.0,31.0,23.0,32.0,18.0,32.0,39.0,38.0,27.0,22.0,30.0,44.0,35.0,36.0,36.0,31.0,19.0,23.0,31.0,22.0,40.0,21.0,33.0,40.0,28.0,22.0,49.0,31.0,34.0,24.0,32.0,35.0,32.0,21.0,47.0,37.0,34.0,34.0,21.0,29.0,44.0,32.0,21.0,26.0,33.0,40.0,50.0,20.0,31.0,38.0,24.0,39.0,24.0,46.0,23.0,35.0,26.0,31.0,55.0,42.0,33.0,31.0,18.0,20.0,36.0,32.0,24.0,22.0,38.0,21.0,20.0,34.0,18.0,30.0,39.0,23.0,51.0,37.0,40.0,31.0,25.0,27.0,39.0,31.0,35.0,28.0,37.0,29.0,32.0,30.0,31.0,35.0,34.0,26.0,38.0,38.0,29.0,31.0,34.0,25.0,29.0,29.0,34.0,33.0,36.0,57.0,41.0,33.0,22.0,30.0,30.0,21.0,35.0,32.0,25.0,38.0,39.0,35.0,30.0,30.0,60.0,19.0,31.0,40.0,38.0,27.0,22.0,22.0,30.0,51.0,47.0,28.0,32.0,28.0,24.0,29.0,43.0,21.0,25.0,22.0,27.0,35.0,43.0,29.0,21.0,26.0,43.0,41.0,26.0,35.0,23.0,23.0,41.0,23.0,35.0,25.0,36.0,29.0,36.0,29.0,24.0,27.0,49.0,21.0,35.0,36.0,23.0,45.0,28.0,28.0,34.0,49.0,36.0,36.0,31.0,35.0,39.0,33.0,37.0,21.0,39.0,42.0,34.0,33.0,25.0,25.0,33.0,52.0,33.0,36.0,35.0,30.0,28.0,25.0,27.0,30.0,18.0,21.0,26.0,37.0,38.0,25.0,28.0,33.0,31.0,35.0,20.0,33.0,36.0,22.0,38.0,42.0,59.0,21.0,31.0,28.0,22.0,27.0,28.0,22.0,44.0,23.0,37.0,25.0,32.0,23.0,23.0,44.0,41.0,43.0,20.0,41.0,31.0,54.0,35.0,41.0,38.0,47.0,21.0,37.0,24.0,30.0,37.0,25.0,26.0,30.0,18.0,25.0,32.0,28.0,26.0,33.0,32.0,30.0,49.0,35.0,31.0,46.0,41.0,26.0,34.0,37.0,23.0,36.0,26.0,20.0,24.0,35.0,39.0,29.0,34.0,19.0,25.0,31.0,40.0,27.0,19.0,35.0,42.0,28.0,21.0,41.0,27.0,34.0,18.0,18.0,28.0,18.0,36.0,47.0,25.0,24.0,35.0,24.0,25.0,37.0,26.0,27.0,41.0,27.0,24.0,30.0,45.0,36.0,40.0,23.0,25.0,24.0,31.0,31.0,29.0,32.0,26.0,35.0,21.0,38.0,19.0,24.0,30.0,18.0,37.0,19.0,21.0,19.0,20.0,33.0,28.0,27.0,46.0,34.0,39.0,34.0,31.0,26.0,46.0,21.0,36.0,37.0,42.0,24.0,22.0,36.0,44.0,27.0,29.0,38.0,41.0,55.0,20.0,34.0,27.0,25.0,43.0,22.0,30.0,23.0,42.0,30.0,29.0,20.0,27.0,33.0,50.0,22.0,24.0,21.0,45.0,21.0,41.0,28.0,50.0,49.0,43.0,18.0,34.0,42.0,19.0,28.0,22.0,26.0,32.0,27.0,29.0,35.0,38.0,27.0,47.0,18.0,19.0,29.0,47.0,31.0,28.0,30.0,42.0,25.0,28.0,21.0,31.0,22.0,48.0,28.0,33.0,38.0,27.0,36.0,33.0,24.0,22.0,41.0,25.0,41.0,38.0,24.0,25.0,40.0,47.0,29.0,20.0,43.0,34.0,19.0,19.0,31.0,20.0,31.0,44.0,38.0,38.0,19.0,23.0,25.0,19.0,33.0,47.0,31.0,30.0,36.0,30.0,47.0,30.0,32.0,27.0,40.0,23.0,21.0,26.0,24.0,37.0,39.0,25.0,37.0,31.0,37.0,44.0,23.0,27.0,30.0,25.0,50.0,29.0,23.0,52.0,23.0,39.0,35.0,30.0,44.0,33.0,22.0,22.0,19.0,24.0,24.0,42.0,22.0,22.0,19.0,42.0,25.0,19.0,48.0,33.0,24.0,26.0,31.0,39.0,22.0,56.0,24.0,22.0,24.0,35.0,35.0,31.0,28.0,42.0,25.0,35.0,35.0,42.0,23.0,22.0,26.0,44.0,34.0,23.0,34.0,35.0,20.0,32.0,43.0,24.0,24.0,26.0,27.0,36.0,24.0,19.0,43.0,38.0,19.0,29.0,22.0,36.0,24.0,35.0,29.0,50.0,19.0,20.0,23.0,51.0,24.0,27.0,32.0,28.0,39.0,31.0,42.0,19.0,24.0,19.0,28.0,47.0,29.0,28.0,34.0,31.0,41.0,38.0,28.0,28.0,39.0,39.0,25.0,31.0,29.0,29.0,46.0,22.0,33.0,30.0,24.0,20.0,48.0,29.0,25.0,28.0,44.0,27.0,32.0,41.0,40.0,35.0,36.0,30.0,36.0,31.0,26.0,40.0,46.0,36.0,37.0,25.0,32.0,18.0,27.0,23.0,30.0,22.0,24.0,42.0,26.0,27.0,23.0,33.0,21.0,35.0,23.0,33.0,29.0,36.0,43.0,19.0,44.0,43.0,44.0,29.0,30.0,43.0,35.0,42.0,24.0,36.0,39.0,29.0,24.0,25.0,26.0,27.0,31.0,20.0,41.0,33.0,21.0,28.0,27.0,19.0,19.0,33.0,20.0,23.0,24.0,37.0,26.0,30.0,37.0,35.0,40.0,21.0,22.0,19.0,26.0,24.0,35.0,32.0,29.0,23.0,50.0,20.0,28.0,25.0,36.0,26.0,34.0,33.0,19.0,25.0,32.0,41.0,20.0,22.0,23.0,38.0,26.0,19.0,32.0,28.0,31.0,42.0,30.0,22.0,25.0,44.0,34.0,34.0,59.0,35.0,45.0,49.0,21.0,44.0,23.0,27.0,28.0,37.0,28.0,36.0,27.0,33.0,39.0,37.0,24.0,31.0,39.0,30.0,29.0,40.0,24.0,31.0,41.0,23.0,34.0,28.0,41.0,33.0,37.0,35.0,38.0,23.0,41.0,33.0,38.0,30.0,23.0,39.0,34.0,29.0,24.0,34.0,26.0,54.0,39.0,37.0,21.0,37.0,35.0,19.0,23.0,34.0,33.0,18.0,29.0,31.0,40.0,32.0,34.0,21.0,28.0,35.0,19.0,42.0,24.0,21.0,31.0,26.0,28.0,37.0,37.0,29.0,26.0,31.0,36.0,35.0,21.0,22.0,27.0,18.0,39.0,28.0,23.0,35.0,43.0,33.0,22.0,32.0,29.0,27.0,29.0,19.0,22.0,25.0,28.0,26.0,33.0,34.0,46.0,36.0,20.0,23.0,18.0,22.0,26.0,32.0,33.0,21.0,23.0,21.0,30.0,19.0,46.0,35.0,46.0,21.0,23.0,41.0,35.0,36.0,33.0,25.0,23.0,23.0,33.0,46.0,21.0,23.0,34.0,19.0,32.0,23.0,23.0,28.0,42.0,18.0,33.0,36.0,33.0,36.0,36.0,26.0,37.0,35.0,33.0,24.0,38.0,28.0,37.0,21.0,42.0,45.0,32.0,27.0,26.0,24.0,49.0,29.0,29.0,37.0,39.0,35.0,44.0,24.0,31.0,40.0,26.0,46.0,29.0,39.0,37.0,37.0,35.0,31.0,33.0,40.0,22.0,33.0,28.0,32.0,43.0,36.0,36.0,22.0,21.0,31.0,28.0,24.0,31.0,27.0,32.0,36.0,32.0,25.0,45.0,36.0,39.0,22.0,23.0,32.0,32.0,18.0,35.0,35.0,26.0,22.0,38.0,36.0,26.0,22.0,28.0,19.0,25.0,20.0,36.0,18.0,45.0,48.0,21.0,37.0,36.0,25.0,39.0,19.0,36.0,24.0,21.0,24.0,25.0,29.0,32.0,61.0,25.0,33.0,30.0,23.0,19.0,34.0,39.0,44.0,35.0,46.0,20.0,25.0,40.0,33.0,30.0,41.0,30.0,29.0,38.0,41.0,36.0,31.0,32.0,37.0,25.0,27.0,28.0,36.0,35.0,29.0,23.0,26.0,25.0,19.0,20.0,39.0,20.0,20.0,49.0,24.0,25.0,26.0,33.0,32.0,38.0,22.0,40.0,43.0,34.0,43.0,32.0,41.0,36.0,28.0,41.0,36.0,24.0,19.0,23.0,25.0,22.0,18.0,26.0,44.0,40.0,27.0,35.0,25.0,22.0,32.0,24.0,30.0,26.0,30.0,34.0,27.0,37.0,33.0,21.0,30.0,24.0,19.0,31.0,19.0,29.0,24.0,25.0,28.0,50.0,25.0,41.0,26.0,19.0,33.0,20.0,25.0,28.0,29.0,27.0,19.0,22.0,21.0,56.0,30.0,35.0,26.0,34.0,18.0,34.0,36.0,22.0,62.0,31.0,35.0,22.0,40.0,39.0,32.0,29.0,35.0,44.0,33.0,29.0,44.0,41.0,43.0,29.0,19.0,28.0,45.0,23.0,25.0,26.0,36.0,18.0,29.0,31.0,32.0,30.0,38.0,23.0,39.0,31.0,35.0,32.0,19.0,42.0,19.0,38.0,43.0,42.0,35.0,30.0,36.0,41.0,32.0,41.0,24.0,25.0,22.0,22.0,20.0,23.0,34.0,27.0,19.0,43.0,19.0,34.0,23.0,40.0,26.0,42.0,21.0,36.0,32.0,40.0,29.0,37.0,19.0,22.0,19.0,42.0,27.0,19.0,21.0,34.0,20.0,27.0,30.0,24.0,23.0,33.0,30.0,22.0,19.0,22.0,20.0,43.0,45.0,32.0,35.0,30.0,23.0,40.0,33.0,32.0,37.0,35.0,22.0,32.0,35.0,35.0,40.0,28.0,22.0,21.0,20.0,36.0,20.0,25.0,19.0,43.0,33.0,33.0,24.0,19.0,45.0,44.0,38.0,41.0,26.0,38.0,28.0,50.0,40.0,40.0,28.0,32.0,27.0,39.0,31.0,41.0,34.0,26.0,25.0,19.0,25.0,28.0,29.0,38.0,35.0,26.0,19.0,46.0,27.0,40.0,40.0,34.0,27.0,22.0,27.0,23.0,47.0,32.0,34.0,38.0,25.0,39.0,27.0,37.0,35.0,37.0,39.0,27.0,32.0,28.0,36.0,25.0,20.0,32.0,31.0,52.0,30.0,22.0,26.0,26.0,47.0,24.0,49.0,36.0,54.0,21.0,26.0,38.0,29.0,35.0,24.0,28.0,18.0,42.0,21.0,30.0,29.0,25.0,23.0,21.0,24.0,30.0,18.0,41.0,36.0,36.0,39.0,27.0,39.0,34.0,43.0,23.0,18.0,19.0,33.0,32.0,51.0,25.0,29.0,29.0,28.0,20.0,46.0,28.0,36.0,27.0,24.0,39.0,39.0,29.0,22.0,19.0,29.0,38.0,27.0,20.0,18.0,45.0,20.0,33.0,24.0,19.0,34.0,41.0,40.0,37.0,34.0,45.0,46.0,42.0,25.0,32.0,26.0,31.0,19.0,29.0,20.0,47.0,39.0,21.0,26.0,24.0,25.0,19.0,40.0,30.0,42.0,33.0,35.0,25.0,21.0,27.0,24.0,45.0,38.0,19.0,25.0,33.0,21.0,28.0,47.0,36.0,34.0,43.0,22.0,38.0,35.0,32.0,26.0,35.0,41.0,21.0,38.0,45.0,33.0,49.0,21.0,27.0,18.0,23.0,42.0,36.0,29.0,22.0,41.0,31.0,30.0,44.0,32.0,28.0,29.0,29.0,39.0,35.0,45.0,34.0,30.0,28.0,36.0,38.0,25.0,25.0,29.0,22.0,44.0,34.0,23.0,19.0,39.0,37.0,23.0,18.0,32.0,37.0,20.0,41.0,25.0,41.0,29.0,33.0,22.0,30.0,23.0,19.0,44.0,27.0,20.0,45.0,26.0,26.0,37.0,30.0,34.0,56.0,20.0,32.0,33.0,39.0,51.0,26.0,27.0,26.0,25.0,46.0,29.0,47.0,20.0,26.0,23.0,23.0,36.0,32.0,28.0,20.0,31.0,34.0,30.0,36.0,19.0,38.0,19.0,40.0,34.0,31.0,21.0,19.0,41.0,38.0,27.0,38.0,29.0,30.0,41.0,24.0,55.0,25.0,22.0,35.0,18.0,27.0,19.0,49.0,39.0,38.0,32.0,33.0,20.0,30.0,27.0,19.0,40.0,25.0,48.0,45.0,37.0,25.0,24.0,50.0,28.0,39.0,18.0,20.0,19.0,36.0,25.0,48.0,24.0,38.0,36.0,21.0,18.0,22.0,20.0,47.0,34.0,24.0,29.0,48.0,19.0,32.0,31.0,34.0,27.0,20.0,18.0,23.0,43.0,29.0,40.0,33.0,26.0,25.0,44.0,48.0,34.0,37.0,25.0,25.0,29.0,41.0,24.0,31.0,45.0,45.0,32.0,40.0,29.0,26.0,29.0,42.0,35.0,18.0,43.0,30.0,46.0,27.0,43.0,30.0,45.0,45.0,35.0,39.0,38.0,19.0,20.0,36.0,23.0,22.0,49.0,21.0,22.0,30.0,22.0,28.0,44.0,26.0,42.0,35.0,46.0,25.0,33.0,28.0,21.0,28.0,28.0,18.0,29.0,22.0,22.0,18.0,34.0,31.0,36.0,22.0,35.0,38.0,28.0,30.0,21.0,34.0,21.0,18.0,22.0,23.0,26.0,42.0,35.0,52.0,25.0,31.0,31.0,36.0,24.0,34.0,19.0,33.0,21.0,27.0,25.0,27.0,51.0,23.0,41.0,37.0,36.0,36.0,29.0,24.0,22.0,20.0,26.0,22.0,31.0,44.0,45.0,32.0,24.0,27.0,31.0,30.0,27.0,38.0,31.0,19.0,36.0,27.0,41.0,23.0,30.0,35.0,19.0,45.0,39.0,43.0,30.0,40.0,18.0,26.0,22.0,39.0,23.0,28.0,40.0,19.0,28.0,36.0,25.0,23.0,39.0,22.0,29.0,42.0,29.0,41.0,37.0,20.0,48.0,33.0,22.0,27.0,28.0,38.0,19.0,18.0,35.0,29.0,22.0,19.0,41.0,21.0,21.0,31.0,35.0,41.0,31.0,19.0,30.0,54.0,25.0,35.0,24.0,33.0,41.0,28.0,26.0,45.0,19.0,27.0,20.0,45.0,33.0,20.0,55.0,27.0,31.0,23.0,28.0,22.0,19.0,32.0,32.0,20.0,23.0,18.0,22.0,31.0,45.0,47.0,37.0,28.0,30.0,25.0,27.0,18.0,46.0,34.0,28.0,26.0,40.0,36.0,26.0,39.0,36.0,18.0,39.0,40.0,52.0,34.0,18.0,48.0,22.0,25.0,38.0,36.0,41.0,31.0,48.0,28.0,29.0,31.0,34.0,38.0,23.0,29.0,27.0,32.0,31.0,33.0,41.0,44.0,24.0,33.0,26.0,45.0,24.0,30.0,25.0,25.0,31.0,24.0,20.0,29.0,30.0,24.0,38.0,31.0,22.0,41.0,31.0,27.0,36.0,19.0,32.0,29.0,22.0,30.0,45.0,39.0,19.0,27.0,46.0,49.0,36.0,24.0,37.0,26.0,42.0,36.0,26.0,26.0,25.0,33.0,46.0,41.0,33.0,25.0,28.0,19.0,39.0,37.0,31.0,34.0,43.0,30.0,27.0,29.0,19.0,33.0,46.0,30.0,46.0,24.0,24.0,33.0,20.0,38.0,52.0,51.0,47.0,31.0,19.0,45.0,18.0,23.0,33.0,33.0,40.0,25.0,34.0,31.0,23.0,19.0,19.0,27.0,24.0,19.0,30.0,30.0,24.0,48.0,30.0,31.0,29.0,29.0,24.0,21.0,51.0,27.0,38.0,37.0,28.0,19.0,37.0,23.0,31.0,36.0,19.0,38.0,20.0,19.0,19.0,40.0,18.0,34.0,33.0,46.0,27.0,20.0,25.0,20.0,23.0,26.0,23.0,34.0,23.0,30.0,34.0,30.0,24.0,53.0,40.0,38.0,33.0,51.0,24.0,31.0,25.0,27.0,20.0,28.0,32.0,24.0,43.0,24.0,30.0,19.0,31.0,40.0,21.0,22.0,27.0,21.0,36.0,32.0,22.0,41.0,31.0,24.0,39.0,19.0,29.0,19.0,24.0,46.0,42.0,31.0,18.0,26.0,34.0,30.0,18.0,18.0,25.0,31.0,21.0,53.0,24.0,38.0,47.0,34.0,25.0,38.0,26.0,18.0,20.0,32.0,32.0,41.0,21.0,33.0,38.0,37.0,20.0,28.0,21.0,21.0,41.0,35.0,18.0,36.0,32.0,45.0,41.0,40.0,42.0,27.0,22.0,23.0,27.0,28.0,19.0,24.0,39.0,18.0,34.0,23.0,26.0,23.0,48.0,30.0,44.0,29.0,37.0,26.0,52.0,19.0,21.0,38.0,29.0,25.0,19.0,30.0,40.0,37.0,28.0,39.0,51.0,31.0,41.0,39.0,21.0,26.0,35.0,37.0,22.0,29.0,34.0,29.0,42.0,20.0,26.0,21.0,27.0,29.0,43.0,34.0,30.0,49.0,35.0,30.0,22.0,26.0,23.0,32.0,21.0,50.0,34.0,25.0,22.0,20.0,35.0,38.0,41.0,35.0,46.0,21.0,26.0,29.0,26.0,49.0,38.0,47.0,28.0,32.0,28.0,22.0,21.0,45.0,32.0,26.0,28.0,34.0,20.0,22.0,28.0]},{\"axis\":{\"matches\":true},\"label\":\"\\u0417\\u0430\\u0440\\u043f\\u043b\\u0430\\u0442\\u0430\",\"values\":[49600.0,38000.0,21000.0,41700.0,26100.0,41000.0,39700.0,38600.0,49700.0,51700.0,36600.0,29300.0,39500.0,55000.0,43700.0,23300.0,48900.0,33200.0,49700.0,36900.0,43500.0,36100.0,26600.0,48700.0,40400.0,38400.0,34600.0,34800.0,36800.0,42200.0,46300.0,30300.0,51000.0,28100.0,64800.0,30400.0,45300.0,38300.0,49500.0,19400.0,40200.0,31700.0,69200.0,33100.0,31600.0,30400.0,34500.0,38700.0,33100.0,36600.0,39600.0,38600.0,42400.0,34600.0,28100.0,34900.0,30500.0,48900.0,24200.0,49900.0,14300.0,47000.0,44800.0,43800.0,42700.0,35400.0,57200.0,29600.0,37400.0,48100.0,33700.0,61800.0,39400.0,15600.0,47000.0,49500.0,52600.0,37600.0,34900.0,52500.0,32700.000000000004,51600.0,37400.0,60900.0,41800.0,47400.0,26500.0,45900.0,33100.0,45300.0,35700.0,34300.0,26700.0,25700.0,33300.0,31100.0,43700.0,31500.0,33100.0,42100.0,37300.0,42500.0,27300.0,46800.0,33500.0,44300.0,41600.0,53900.0,40100.0,44600.0,36600.0,45900.0,45000.0,32000.0,38200.0,33000.0,38500.0,32000.0,51800.0,33800.0,46400.0,43200.0,31800.0,38000.0,50200.0,35100.0,30700.0,30300.0,39400.0,45800.0,49300.0,42800.0,33600.0,50300.0,34000.0,40200.0,41700.0,36400.0,44900.0,39500.0,43600.0,34900.0,38000.0,54600.0,52800.0,33200.0,25700.0,29700.0,39000.0,44100.0,31900.0,29300.0,37700.0,35200.0,43100.0,51300.0,47500.0,40800.0,26800.0,64900.00000000001,35900.0,31200.0,39900.0,43200.0,43300.0,35400.0,33900.0,44900.0,37300.0,40700.0,54600.0,33600.0,44700.0,53400.0,52500.0,30600.0,48900.0,56000.0,37300.0,35600.0,55200.0,40600.0,46400.0,48300.0,39900.0,26700.0,50800.0,43600.0,37400.0,41200.0,44200.0,44400.0,37600.0,43600.0,36600.0,40500.0,39800.0,16600.0,48400.0,25100.0,23100.0,32100.0,31000.0,42900.0,46700.0,45000.0,26000.0,55900.0,52000.0,40100.0,41500.0,39900.0,49400.0,60300.0,55000.0,48700.0,42200.0,45600.0,38500.0,49900.0,33700.0,35100.0,49000.0,37500.0,21900.0,45100.0,47900.0,54300.0,39700.0,32400.0,30700.0,41300.0,44500.0,23200.0,27300.0,35900.0,37900.0,48000.0,52800.0,44200.0,41500.0,32400.0,36800.0,36900.0,47000.0,52100.0,39500.0,33800.0,49400.0,45300.0,44700.0,45700.0,26500.0,47000.0,29900.0,42800.0,28100.0,52500.0,42600.0,38400.0,46700.0,45200.0,46800.0,36000.0,46500.0,23800.0,30200.0,40200.0,50200.0,24400.0,39600.0,44500.0,32800.0,29000.0,43400.0,48700.0,51500.0,43200.0,39900.0,34600.0,36000.0,48100.0,61700.0,45400.0,50700.0,36200.0,36000.0,41900.0,49400.0,52500.0,27900.0,31200.0,47200.0,48800.0,40100.0,33300.0,40600.0,55100.0,48200.0,43500.0,47900.0,27300.0,42500.0,36900.0,48000.0,47500.0,35500.0,33700.0,44600.0,35000.0,29000.0,43900.0,43700.0,32700.000000000004,41000.0,40000.0,22000.0,39800.0,38400.0,33100.0,40300.0,35200.0,44600.0,52000.0,42500.0,47900.0,36300.0,47900.0,49800.0,39500.0,40100.0,40800.0,39700.0,25600.0,43700.0,45800.0,45200.0,44900.0,43900.0,35400.0,55000.0,36800.0,42300.0,54900.0,38600.0,53400.0,33800.0,42600.0,47200.0,25500.0,39700.0,42200.0,32900.0,41800.0,36700.0,35700.0,31600.0,41200.0,50700.0,38900.0,33500.0,24700.0,28800.0,22900.0,38600.0,33800.0,46300.0,47300.0,29700.0,14500.0,44700.0,45800.0,33700.0,36800.0,28700.0,38400.0,48400.0,41200.0,44000.0,34100.0,53000.0,40500.0,45800.0,42700.0,44800.0,49800.0,26700.0,41900.0,59300.0,44400.0,46400.0,36300.0,32700.000000000004,28500.0,47100.0,39400.0,47300.0,43300.0,37700.0,30600.0,39500.0,41400.0,40500.0,58900.0,42900.0,17500.0,41300.0,50300.0,36900.0,54200.0,39700.0,32900.0,43000.0,39700.0,52800.0,29800.0,41700.0,36900.0,22000.0,20000.0,13800.0,42700.0,41400.0,45900.0,27500.0,67700.0,36900.0,36000.0,43100.0,36100.0,28700.0,34900.0,44700.0,45200.0,48100.0,28000.0,37100.0,8900.0,36300.0,41300.0,14600.0,56200.0,45000.0,44600.0,26500.0,55200.0,44300.0,47500.0,32700.000000000004,38800.0,46800.0,43600.0,32800.0,43000.0,27700.0,44500.0,49400.0,49900.0,41400.0,50500.0,31600.0,58400.0,46700.0,34700.0,34400.0,49500.0,25700.0,26500.0,49100.0,50900.0,40100.0,28200.0,36600.0,55900.0,61500.0,35500.0,36900.0,36700.0,32500.0,43200.0,45200.0,25900.0,41200.0,9800.0,28300.0,31100.0,41100.0,62000.0,32900.0,32600.0,43600.0,34600.0,37200.0,43800.0,64800.0,42600.0,53800.0,34700.0,24000.0,53600.0,54800.0,59600.0,41400.0,41100.0,35100.0,32600.0,49100.0,34600.0,34400.0,20200.0,34500.0,30500.0,21700.0,37400.0,45600.0,35500.0,32800.0,29200.0,38100.0,35500.0,42300.0,38500.0,20700.0,36100.0,45200.0,32300.0,25100.0,47900.0,50500.0,40600.0,21200.0,36000.0,43800.0,62100.0,38300.0,54000.0,40700.0,38700.0,43400.0,42600.0,38900.0,30600.0,37700.0,29200.0,44600.0,50700.0,24500.0,51900.0,41500.0,41500.0,45900.0,38500.0,47800.0,38100.0,56100.0,40300.0,55300.0,23100.0,55000.0,58100.0,46500.0,42100.0,30600.0,28900.0,39100.0,43400.0,34300.0,58000.0,37300.0,38700.0,39000.0,41100.0,29600.0,27200.0,43200.0,36400.0,30700.0,24600.0,34900.0,53600.0,30100.0,43600.0,54000.0,57100.0,42300.0,54200.0,51000.0,51700.0,33900.0,32800.0,28800.0,50300.0,43700.0,37900.0,40600.0,37400.0,40300.0,60100.0,42900.0,22200.0,32300.0,42100.0,24400.0,26800.0,43800.0,52000.0,49100.0,44100.0,47700.0,45900.0,34600.0,24900.0,32800.0,28200.0,41000.0,28500.0,31500.0,37600.0,47100.0,37800.0,52700.0,43100.0,34200.0,18700.0,44400.0,23100.0,32500.0,56100.0,29700.0,42000.0,19400.0,42300.0,26300.0,48400.0,50500.0,22600.0,36100.0,30900.0,49600.0,40800.0,29600.0,41600.0,56000.0,35800.0,34300.0,44100.0,32800.0,39500.0,22900.0,38600.0,49300.0,40700.0,31700.0,44600.0,30800.0,50800.0,51100.0,53300.0,48400.0,41800.0,49300.0,41600.0,37400.0,46200.0,35500.0,24100.0,54700.0,34200.0,45900.0,44900.0,34600.0,51200.0,30700.0,34800.0,40800.0,35500.0,62300.0,51400.0,40900.0,31100.0,44100.0,38500.0,23400.0,35300.0,55800.0,40900.0,40300.0,42800.0,35800.0,29000.0,50300.0,48300.0,51600.0,34100.0,26800.0,48800.0,30700.0,40800.0,41900.0,18700.0,33400.0,35700.0,21300.0,41700.0,46300.0,30000.0,38400.0,31700.0,28500.0,39900.0,39100.0,36700.0,52600.0,39500.0,46400.0,53900.0,29900.0,48100.0,32600.0,42100.0,28300.0,37300.0,40200.0,41300.0,56700.0,46900.0,5300.0,34200.0,32500.0,40300.0,48400.0,35600.0,41100.0,52800.0,41400.0,54800.0,39200.0,54900.0,57500.0,35000.0,44800.0,21300.0,31300.0,51800.0,51700.0,35500.0,30900.0,41500.0,51600.0,45000.0,53700.0,48300.0,32100.0,21600.0,46700.0,50000.0,43400.0,39100.0,33800.0,42700.0,36500.0,32000.0,51300.0,33100.0,42100.0,31700.0,51500.0,53800.0,16400.0,39900.0,43400.0,15900.0,65099.99999999999,35300.0,38800.0,59900.0,45900.0,38700.0,53600.0,22600.0,60300.0,48800.0,42100.0,39800.0,47000.0,35800.0,51900.0,41100.0,63200.0,40200.0,47900.0,31700.0,38200.0,29600.0,40800.0,51200.0,32300.0,24500.0,48700.0,31900.0,29200.0,26200.0,30800.0,34100.0,61200.0,21600.0,29800.0,52800.0,51000.0,48500.0,35200.0,37200.0,35400.0,35600.0,47700.0,49600.0,33000.0,30000.0,52700.0,48200.0,32200.000000000004,41500.0,30500.0,47900.0,29100.0,51900.0,43800.0,40900.0,37900.0,35600.0,31500.0,40100.0,37800.0,45800.0,50100.0,31500.0,26300.0,35800.0,27900.0,48800.0,27200.0,22700.0,45000.0,37200.0,39900.0,36400.0,28600.0,43900.0,42800.0,43800.0,35900.0,51700.0,35000.0,49500.0,53400.0,26600.0,41400.0,43400.0,48700.0,37500.0,44300.0,29600.0,34600.0,23500.0,36900.0,45000.0,23700.0,40700.0,46900.0,33100.0,35200.0,23500.0,32200.000000000004,34400.0,42400.0,19600.0,42700.0,47200.0,17800.0,31100.0,47100.0,44600.0,34200.0,39400.0,36500.0,42700.0,46900.0,35500.0,46300.0,28000.0,49100.0,44900.0,42800.0,54900.0,28100.0,40300.0,33400.0,55900.0,50600.0,34600.0,38600.0,34400.0,42200.0,45300.0,32500.0,32100.0,48100.0,37800.0,45900.0,32300.0,35600.0,32200.000000000004,45400.0,38500.0,31500.0,57900.0,55100.0,35300.0,47400.0,34300.0,22500.0,38600.0,45800.0,32300.0,49000.0,48300.0,43200.0,44700.0,30900.0,35900.0,22100.0,51600.0,44000.0,40400.0,38900.0,45300.0,34400.0,43300.0,49100.0,36100.0,34600.0,48000.0,26500.0,62100.0,37900.0,34300.0,39500.0,31200.0,40400.0,35600.0,30300.0,37500.0,49900.0,38800.0,40200.0,39700.0,23400.0,42300.0,42100.0,50700.0,42100.0,42000.0,58300.0,64099.99999999999,46700.0,25000.0,44500.0,60400.0,48300.0,34500.0,45300.0,59100.0,35400.0,46300.0,26000.0,35200.0,37000.0,38500.0,33900.0,39900.0,41500.0,39900.0,29000.0,43300.0,62400.0,23200.0,44600.0,41000.0,29500.0,48400.0,27500.0,39700.0,35500.0,31900.0,20700.0,39700.0,25800.0,28500.0,33500.0,25400.0,42600.0,29700.0,26900.0,28800.0,42400.0,21500.0,54200.0,57200.0,52200.0,48900.0,28000.0,34900.0,40000.0,45000.0,43300.0,38300.0,46600.0,38900.0,52200.0,39600.0,32700.000000000004,50300.0,45800.0,32800.0,57300.0,43200.0,39800.0,59900.0,38800.0,55900.0,46100.0,50100.0,55800.0,49500.0,19300.0,43500.0,18900.0,31400.0,61500.0,39900.0,27900.0,46500.0,59300.0,28400.0,36100.0,44000.0,31300.0,29400.0,39000.0,33100.0,17600.0,38300.0,40100.0,13900.0,50900.0,37300.0,46700.0,46300.0,34100.0,38900.0,43700.0,38400.0,52400.0,26600.0,44400.0,53700.0,57300.0,33300.0,28100.0,40700.0,42300.0,43100.0,27700.0,57300.0,32800.0,50000.0,44000.0,50200.0,32200.000000000004,21200.0,43400.0,48100.0,45900.0,35000.0,29900.0,45100.0,37300.0,37800.0,50300.0,46800.0,39600.0,34000.0,36300.0,30200.0,51800.0,11300.0,41100.0,46000.0,33800.0,60500.0,27900.0,29600.0,47100.0,35200.0,31400.0,51700.0,42800.0,31500.0,37800.0,28900.0,46600.0,33400.0,36600.0,46300.0,32800.0,40200.0,38700.0,38800.0,40400.0,22100.0,21700.0,38500.0,40500.0,26700.0,35500.0,29800.0,28300.0,30700.0,40500.0,45300.0,50200.0,41900.0,48800.0,42800.0,25900.0,35300.0,31500.0,54200.0,30000.0,58700.0,26900.0,35500.0,30300.0,58200.0,41800.0,50600.0,31000.0,40800.0,36100.0,47800.0,26200.0,38300.0,45300.0,40800.0,30600.0,41100.0,37500.0,24800.0,39500.0,49600.0,35000.0,39100.0,51500.0,38100.0,33300.0,37200.0,31600.0,41100.0,38600.0,22700.0,36100.0,22100.0,45100.0,21600.0,19300.0,39200.0,46100.0,23500.0,58400.0,38700.0,37900.0,28300.0,46200.0,43600.0,26600.0,63700.0,29200.0,42500.0,26300.0,39800.0,39200.0,45100.0,41600.0,30000.0,40400.0,29400.0,45600.0,60600.0,49400.0,40300.0,20400.0,35400.0,34500.0,19600.0,30300.0,31100.0,28900.0,26400.0,32100.0,29800.0,55600.0,34500.0,50600.0,45200.0,45600.0,26500.0,41800.0,41800.0,31200.0,40900.0,31000.0,49900.0,32300.0,42400.0,44700.0,49600.0,29700.0,42000.0,33100.0,41200.0,46500.0,33100.0,34500.0,29400.0,51600.0,42500.0,35000.0,44500.0,43700.0,33300.0,24200.0,38200.0,51600.0,39200.0,54200.0,45200.0,46300.0,47500.0,28900.0,36000.0,32300.0,31200.0,57000.0,39700.0,32500.0,31400.0,57000.0,44800.0,47900.0,21200.0,45500.0,49400.0,46900.0,48100.0,33900.0,48300.0,48600.0,26600.0,33900.0,27300.0,46100.0,36800.0,35000.0,57600.0,52900.0,29000.0,41900.0,62800.0,17000.0,48100.0,27500.0,53900.0,31300.0,30000.0,31800.0,52900.0,60500.0,56500.0,50600.0,54800.0,50500.0,46600.0,48000.0,26300.0,37900.0,30400.0,32800.0,43400.0,44700.0,36000.0,57500.0,52300.0,40900.0,44800.0,18400.0,36100.0,32600.0,47700.0,63300.0,12900.0,24700.0,54200.0,27000.0,36800.0,47700.0,32000.0,21200.0,45900.0,40400.0,44500.0,32300.0,24600.0,30200.0,36100.0,30500.0,35800.0,28300.0,31000.0,30900.0,37100.0,25500.0,28100.0,37200.0,35100.0,19300.0,47200.0,32700.000000000004,42200.0,30600.0,33400.0,37400.0,55700.0,45900.0,48200.0,36000.0,37400.0,35400.0,31000.0,38700.0,39900.0,39600.0,37200.0,38800.0,48800.0,44100.0,31900.0,50600.0,38600.0,42900.0,43900.0,45200.0,33800.0,32900.0,44200.0,36800.0,33100.0,36600.0,41200.0,22900.0,39300.0,42400.0,27800.0,45600.0,52000.0,41600.0,43800.0,49100.0,46400.0,26400.0,50100.0,46000.0,18300.0,41500.0,41000.0,32600.0,47900.0,43900.0,30500.0,50600.0,36700.0,46300.0,40100.0,39100.0,39800.0,55900.0,44500.0,42100.0,52100.0,21700.0,28600.0,38800.0,27800.0,34900.0,42400.0,56300.0,31000.0,44400.0,43700.0,37800.0,27500.0,29500.0,21600.0,21500.0,33300.0,33200.0,39900.0,51600.0,49300.0,59900.0,30200.0,47800.0,59800.0,58300.0,43900.0,41400.0,46500.0,24300.0,49800.0,27200.0,52200.0,44900.0,14400.0,41300.0,35400.0,32000.0,26200.0,32800.0,35700.0,45600.0,35900.0,13400.0,57600.0,30500.0,20700.0,35300.0,31500.0,17900.0,25900.0,54900.0,45800.0,47600.0,42300.0,31900.0,41500.0,33100.0,47400.0,51700.0,38600.0,53300.0,39700.0,52900.0,36100.0,48000.0,45900.0,40500.0,50500.0,44400.0,54500.0,31000.0,48400.0,40400.0,24900.0,30500.0,30200.0,39600.0,43400.0,34700.0,33100.0,53400.0,37500.0,31900.0,54400.0,51200.0,42500.0,44500.0,32700.000000000004,32200.000000000004,31400.0,51000.0,37800.0,53900.0,55200.0,43000.0,34700.0,47200.0,52800.0,39300.0,31800.0,22600.0,35200.0,35600.0,56100.0,47100.0,46800.0,44800.0,30600.0,51500.0,26100.0,36600.0,35300.0,42300.0,44500.0,28600.0,44000.0,46300.0,37400.0,37400.0,45300.0,49000.0,43800.0,40100.0,40800.0,28100.0,23900.0,42400.0,40500.0,45800.0,43200.0,36800.0,38300.0,45100.0,57200.0,25800.0,27700.0,41800.0,48600.0,52200.0,39900.0,41900.0,42400.0,28200.0,51200.0,54000.0,49000.0,29000.0,13000.0,44100.0,39600.0,52800.0,40200.0,52900.0,40500.0,39300.0,18400.0,48800.0,59900.0,40300.0,30600.0,19900.0,36900.0,49800.0,52700.0,54700.0,39100.0,55400.0,46800.0,39800.0,47600.0,32100.0,41100.0,22800.0,43300.0,61000.0,36600.0,30200.0,35400.0,37000.0,32400.0,46000.0,52900.0,37200.0,57400.0,43900.0,50500.0,51800.0,29200.0,18700.0,34200.0,44000.0,23000.0,55900.0,36400.0,50800.0,56200.0,41600.0,40000.0,42900.0,48300.0,39800.0,30600.0,40700.0,40200.0,47200.0,20500.0,43400.0,43200.0,50200.0,30300.0,34500.0,44300.0,35900.0,45000.0,53200.0,46500.0,41000.0,41200.0,40300.0,43900.0,45300.0,43800.0,47800.0,44800.0,54000.0,41700.0,34300.0,25600.0,35500.0,34300.0,55900.0,46600.0,32400.0,33500.0,38100.0,36200.0,33800.0,45100.0,47300.0,55000.0,52100.0,23300.0,31200.0,41500.0,32900.0,52600.0,45300.0,46800.0,49400.0,42100.0,36800.0,38600.0,40400.0,21200.0,52800.0,35700.0,38400.0,33800.0,38300.0,44000.0,39100.0,18100.0,25300.0,35800.0,36500.0,40300.0,44500.0,37900.0,31700.0,49900.0,51300.0,44100.0,46500.0,41900.0,36400.0,32400.0,61800.0,49000.0,52400.0,48800.0,27900.0,47100.0,33700.0,29300.0,36100.0,33900.0,58700.0,26200.0,31600.0,32000.0,58000.0,31000.0,47700.0,30800.0,35000.0,30100.0,54400.0,47400.0,38300.0,59500.0,41200.0,26400.0,30900.0,39100.0,18200.0,23500.0,39700.0,32100.0,48100.0,62000.0,50100.0,56000.0,50900.0,50300.0,35900.0,42600.0,40500.0,51300.0,50400.0,52400.0,24400.0,37000.0,40300.0,27300.0,26000.0,44400.0,43800.0,34200.0,50000.0,51400.0,37800.0,57100.0,39200.0,43200.0,42300.0,38300.0,46800.0,45000.0,34700.0,43400.0,28100.0,49700.0,41000.0,21100.0,59900.0,31700.0,41900.0,26100.0,42700.0,42100.0,28100.0,46700.0,52500.0,38600.0,45400.0,30900.0,43900.0,42100.0,39300.0,35500.0,33100.0,35100.0,52800.0,42800.0,28400.0,48100.0,29300.0,49400.0,30900.0,39800.0,46600.0,44500.0,54200.0,20900.0,33400.0,45000.0,26200.0,48900.0,26600.0,42200.0,33500.0,27400.0,41400.0,43500.0,37100.0,50000.0,52200.0,44500.0,42100.0,37900.0,47400.0,47600.0,35300.0,50600.0,30700.0,54400.0,27500.0,41900.0,47100.0,47600.0,32800.0,35600.0,44400.0,54800.0,25000.0,33700.0,46700.0,35700.0,37300.0,40900.0,56000.0,31800.0,36300.0,37100.0,46100.0,57500.0,53900.0,38700.0,38200.0,36100.0,39300.0,34100.0,35100.0,35500.0,55300.0,27900.0,42800.0,48400.0,42200.0,43800.0,31300.0,44600.0,44100.0,37300.0,26300.0,59100.0,31700.0,55100.0,37200.0,29000.0,17300.0,48500.0,36200.0,48700.0,28000.0,28500.0,18400.0,40500.0,46500.0,32700.000000000004,60700.0,39200.0,28700.0,32600.0,57500.0,53200.0,58100.0,32500.0,43800.0,33400.0,35600.0,34900.0,52100.0,52400.0,46600.0,38900.0,50200.0,33700.0,37700.0,51500.0,24300.0,23500.0,29300.0,55100.0,43600.0,44200.0,40900.0,49900.0,49100.0,33700.0,50900.0,34200.0,20200.0,45600.0,35000.0,46700.0,35600.0,30500.0,35700.0,29300.0,50500.0,54900.0,30700.0,70600.0,37000.0,49900.0,28300.0,43300.0,33200.0,47700.0,44900.0,38000.0,42000.0,49700.0,42700.0,36800.0,50500.0,38000.0,35500.0,41200.0,38800.0,29200.0,52500.0,40900.0,44600.0,45200.0,45700.0,45800.0,34000.0,48500.0,53000.0,32800.0,53800.0,40100.0,42900.0,30200.0,42300.0,35800.0,31300.0,54900.0,41500.0,47700.0,45100.0,33200.0,43000.0,47600.0,30200.0,43600.0,43900.0,44400.0,45300.0,44800.0,17700.0,44900.0,51900.0,43400.0,34100.0,36600.0,53900.0,34600.0,37100.0,36600.0,24700.0,42700.0,45200.0,19700.0,48700.0,49900.0,30200.0,36800.0,43000.0,47100.0,39300.0,46700.0,43400.0,54800.0,48900.0,19900.0,18900.0,53600.0,42300.0,34200.0,40400.0,33400.0,24800.0,46600.0,44500.0,46800.0,32300.0,40400.0,26400.0,47400.0,42700.0,32200.000000000004,48700.0,42200.0,44600.0,51100.0,34300.0,31800.0,38800.0,34800.0,41600.0,30400.0,23200.0,31200.0,28800.0,41000.0,55000.0,35000.0,42200.0,42300.0,29000.0,41700.0,25600.0,38000.0,38200.0,33900.0,47600.0,40900.0,32600.0,40000.0,35900.0,50400.0,44300.0,49200.0,37100.0,30800.0,41400.0,30900.0,29900.0,28700.0,36900.0,63100.0,49600.0,50800.0,52500.0,29300.0,44500.0,39300.0,54400.0,35800.0,38900.0,20900.0,39800.0,50900.0,27300.0,59200.0,54200.0,36600.0,47800.0,37700.0,14700.0,37800.0,29200.0,28000.0,36700.0,45800.0,37000.0,53100.0,35800.0,34500.0,44000.0,42700.0,39500.0,33400.0,37500.0,47100.0,29900.0,31800.0,43500.0,49200.0,24400.0,49600.0,39000.0,43000.0,42500.0,49700.0,40100.0,21800.0,44200.0,42000.0,43100.0,46500.0,32100.0,55200.0,29200.0,44300.0,50500.0,37900.0,42400.0,39500.0,41800.0,29400.0,46800.0,28200.0,34800.0,34000.0,34200.0,68000.0,47900.0,48200.0,22900.0,31500.0,36000.0,43500.0,35300.0,42900.0,40500.0,38500.0,16500.0,23500.0,26300.0,47200.0,41700.0,47100.0,34700.0,33900.0,36100.0,47500.0,47500.0,49700.0,41100.0,30000.0,30300.0,52600.0,41300.0,22100.0,50200.0,22600.0,53200.0,44200.0,40200.0,27800.0,45800.0,48900.0,27500.0,49600.0,42400.0,33300.0,40500.0,47900.0,31500.0,40500.0,22900.0,40300.0,30100.0,29900.0,60100.0,44200.0,46800.0,43900.0,37700.0,49700.0,45900.0,40900.0,19600.0,32300.0,32400.0,45700.0,24500.0,47900.0,40300.0,27900.0,39200.0,39300.0,48200.0,40400.0,43500.0,20500.0,36000.0,37300.0,50000.0,36000.0,36800.0,47500.0,46600.0,48700.0,47500.0,23900.0,25400.0,62100.0,25900.0,46100.0,48100.0,32000.0,37200.0,31500.0,31700.0,44700.0,43400.0,40200.0,51200.0,26600.0,45800.0,56200.0,28400.0,58000.0,33600.0,24300.0,25900.0,35500.0,48400.0,32200.000000000004,46200.0,71400.0,43900.0,46700.0,24300.0,42300.0,40400.0,29400.0,47700.0,47300.0,43500.0,49000.0,44000.0,34100.0,41900.0,33800.0,36300.0,43100.0,39300.0,28900.0,42000.0,53200.0,32800.0,44900.0,43900.0,40000.0,39400.0,39300.0,34300.0,10000.0,31700.0,50100.0,27000.0,31600.0,29900.0,45900.0,46000.0,23500.0,35400.0,59300.0,31000.0,11300.0,41600.0,43500.0,46800.0,33900.0,37200.0,60100.0,27900.0,22800.0,60900.0,34200.0,42200.0,55200.0,32900.0,43600.0,33800.0,30000.0,52400.0,45200.0,46700.0,29700.0,36000.0,48300.0,47900.0,30000.0,44100.0,53000.0,30600.0,26800.0,44100.0,27900.0,44400.0,33900.0,29500.0,36900.0,28400.0,43200.0,42700.0,36200.0,42800.0,26200.0,30200.0,33400.0,48000.0,37100.0,60300.0,48200.0,50400.0,37200.0,34800.0,41100.0,53200.0,53200.0,34300.0,32200.000000000004,21300.0,41700.0,57200.0,27200.0,57300.0,42400.0,53900.0,41300.0,30100.0,40500.0,19600.0,24600.0,41300.0,55500.0,42400.0,43000.0,51500.0,36100.0,30100.0,37800.0,22700.0,43500.0,35500.0,40000.0,59500.0,34400.0,46700.0,42800.0,54700.0,29300.0,42500.0,30800.0,48600.0,25700.0,25300.0,45800.0,35200.0,25800.0,48400.0,54100.0,57200.0,39100.0,42000.0,59300.0,34700.0,43900.0,39800.0,33900.0,33200.0,47500.0,45900.0,52600.0,52400.0,36400.0,32700.000000000004,50600.0,34300.0,49400.0,33000.0,42800.0,37100.0,49600.0,44700.0,34200.0,42000.0,51000.0,16400.0,22700.0,27000.0,46400.0,48500.0,32100.0,43800.0,30700.0,30800.0,33400.0,46900.0,43800.0,54000.0,43100.0,42200.0,55400.0,49300.0,35000.0,47100.0,41500.0,32600.0,37000.0,28300.0,25100.0,32100.0,42200.0,45000.0,25500.0,37100.0,33400.0,40700.0,32700.000000000004,46200.0,35300.0,45400.0,41500.0,45800.0,34400.0,43500.0,55700.0,51900.0,29300.0,30800.0,28400.0,41200.0,27400.0,47700.0,30900.0,51100.0,37100.0,52500.0,58200.0,37100.0,43600.0,41700.0,46700.0,36700.0,53200.0,43900.0,42600.0,27700.0,41600.0,31200.0,62400.0,56100.0,48100.0,41800.0,57600.0,27700.0,59300.0,57100.0,33500.0,47600.0,25700.0,43400.0,39800.0,49200.0,61000.0,27500.0,45000.0,38100.0,47000.0,40000.0,43700.0,49600.0,32200.000000000004,43300.0,24600.0,40500.0,32700.000000000004,34800.0,36700.0,39200.0,41100.0,25600.0,31400.0,43700.0,42900.0,28500.0,26700.0,50900.0,25600.0,37800.0,42400.0,37600.0,32600.0,34200.0,34300.0,48000.0,30800.0,13800.0,54000.0,56400.0,40800.0,20600.0,41100.0,39900.0,66300.0,25000.0,24400.0,33400.0,31400.0,40900.0,34000.0,13800.0,44500.0,46600.0,50000.0,24600.0,53000.0,38700.0,18800.0,37200.0,23100.0,44900.0,41600.0,42000.0,38100.0,34800.0,28500.0,31000.0,27300.0,40500.0,39300.0,50200.0,11000.0,37600.0,28300.0,34100.0,34900.0,35400.0,45300.0,38600.0,54200.0,44600.0,52600.0,23800.0,47100.0,43200.0,33700.0,34100.0,43100.0,37800.0,37500.0,39700.0,29700.0,46100.0,39100.0,46200.0,48900.0,34100.0,52500.0,37600.0,37600.0,38000.0,36500.0,43500.0,45300.0,48000.0,52300.0,46700.0,46800.0,29200.0,66100.0,36400.0,42800.0,53900.0,46300.0,37600.0,41900.0,45100.0,38800.0,35400.0,27100.0,28300.0,35300.0,27800.0,33400.0,42600.0,36100.0,34100.0,42200.0,46600.0,34400.0,50600.0,62000.0,42000.0,48400.0,33900.0,42900.0,43600.0,27900.0,46600.0,32800.0,40200.0,30700.0,59500.0,25100.0,45800.0,30000.0,37100.0,44000.0,25700.0,39100.0,34500.0,59200.0,29000.0,43000.0,48000.0,25300.0,33600.0,50400.0,41900.0,59200.0,59100.0,42100.0,40200.0,51000.0,43100.0,37200.0,59500.0,38800.0,39900.0,27500.0,43500.0,37700.0,33700.0,34600.0,35000.0,34500.0,55100.0,32800.0,37000.0,21800.0,33600.0,35100.0,57800.0,42900.0,62800.0,28600.0,32900.0,43200.0,40700.0,50400.0,53500.0,39300.0,33300.0,29400.0,26500.0,43000.0,37300.0,50300.0,49500.0,22500.0,45500.0,43000.0,48500.0,37500.0,41300.0,29200.0,43400.0,32900.0,37000.0,38600.0,49200.0,25800.0,42100.0,28300.0,36500.0,24900.0,40000.0,25800.0,47500.0,38900.0,39300.0,38800.0,19200.0,58500.0,37600.0,26300.0,36800.0,34700.0,22200.0,44800.0,48300.0,32800.0,19900.0,29400.0,33800.0,51000.0,40300.0,23500.0,36400.0,37000.0,45700.0,38800.0,41600.0,17300.0,39300.0,33900.0,46200.0,41600.0,54900.0,31000.0,21500.0,40900.0,31200.0,37600.0,43000.0,58400.0,32400.0,50000.0,46600.0,49900.0,19700.0,50100.0,46300.0,47400.0,31300.0,42600.0,52600.0,37500.0,18300.0,40800.0,43300.0,39400.0,46800.0,26100.0,35700.0,44800.0,42700.0,56300.0,35100.0,35200.0,42100.0,46700.0,51600.0,46500.0,47400.0,44600.0,38100.0,33000.0,55900.0,41000.0,42000.0,52100.0,51200.0,55100.0,42200.0,26400.0,49300.0,37200.0,64000.0,35900.0,51400.0,48500.0,33300.0,24200.0,42700.0,36800.0,34300.0,41300.0,46100.0,52400.0,39900.0,51200.0,35000.0,60900.0,43200.0,31400.0,22700.0,34600.0,28100.0,39500.0,30800.0,63600.0,45800.0,30900.0,21100.0,44400.0,33000.0,41200.0,45600.0,27800.0,24500.0,41000.0,34200.0,32100.0,50700.0,33600.0,24500.0,45500.0,32400.0,34000.0,57400.0,32800.0,34100.0,44600.0,54800.0,26100.0,41700.0,42400.0,32400.0,34300.0,60700.0,24700.0,55700.0,51600.0,43000.0,57800.0,44300.0,23600.0,40500.0,33100.0,41300.0,54700.0,40000.0,46100.0,21100.0,40600.0,42900.0,38100.0,33300.0,35900.0,23400.0,22500.0,42300.0,40200.0,52300.0,30000.0,45700.0,32700.000000000004,25200.0,48600.0,38200.0,36900.0,28100.0,40100.0,32600.0,39400.0,40100.0,46500.0,29000.0,46800.0,40700.0,37300.0,45200.0,57400.0,49300.0,41800.0,41900.0,54300.0,48700.0,39900.0,32600.0,43200.0,28800.0,26700.0,43700.0,46500.0,23000.0,44100.0,19100.0,35100.0,18600.0,28800.0,36200.0,47400.0,44400.0,37100.0,41100.0,33700.0,27500.0,48900.0,43200.0,38800.0,33200.0,32500.0,35100.0,51700.0,37200.0,49800.0,45000.0,18700.0,25400.0,43600.0,51400.0,59600.0,33100.0,28600.0,45100.0,47400.0,55600.0,48900.0,28800.0,24700.0,33500.0,44000.0,47700.0,25800.0,58200.0,40500.0,41000.0,37600.0,40300.0,40100.0,37900.0,39800.0,42300.0,41700.0,45200.0,57700.0,54500.0,32900.0,48200.0,46400.0,36600.0,51200.0,54500.0,55000.0,58900.0,53700.0,39800.0,46000.0,58400.0,39900.0,25100.0,43300.0,28200.0,34900.0,36700.0,23700.0,48300.0,49000.0,41400.0,35900.0,55700.0,62700.0,46900.0,36600.0,52700.0,42800.0,34900.0,43200.0,37900.0,56600.0,56400.0,44500.0,39800.0,39000.0,38100.0,28300.0,42700.0,33800.0,53600.0,52600.0,39600.0,27500.0,32600.0,48800.0,36200.0,33000.0,45600.0,27000.0,35800.0,21400.0,44100.0,57600.0,36400.0,33600.0,19200.0,35100.0,30000.0,28800.0,36000.0,43400.0,33400.0,31600.0,58800.0,40000.0,41600.0,21600.0,35700.0,50500.0,34200.0,37100.0,39200.0,41500.0,41100.0,37900.0,28100.0,46300.0,68400.0,34700.0,36500.0,42500.0,17100.0,44000.0,33000.0,51500.0,29700.0,37800.0,42300.0,33000.0,40900.0,19600.0,32600.0,49100.0,46800.0,49400.0,28000.0,49000.0,40200.0,49900.0,21600.0,38400.0,43100.0,47400.0,37900.0,42000.0,32200.000000000004,45700.0,41200.0,39800.0,49400.0,35700.0,37100.0,13300.0,47500.0,19300.0,31500.0,30900.0,54100.0,35000.0,35800.0,43000.0,34200.0,68500.0,28100.0,53500.0,39800.0,35700.0,40500.0,46200.0,31700.0,33700.0,45900.0,41100.0,24700.0,40600.0,36600.0,51300.0,38500.0,31000.0,25300.0,29100.0,39000.0,54400.0,22900.0,49400.0,59300.0,45300.0,37800.0,49900.0,41900.0,22600.0,47600.0,24600.0,55200.0,45300.0,48100.0,52500.0,24200.0,41100.0,24900.0,41200.0,46700.0,56900.0,54400.0,46300.0,49300.0,40800.0,33100.0,38400.0,47300.0,33400.0,36600.0,47500.0,53700.0,64400.00000000001,53300.0,58300.0,45800.0,41500.0,35800.0,53900.0,53800.0,52200.0,27600.0,33400.0,33400.0,42900.0,45800.0,42000.0,52500.0,26900.0,29100.0,41500.0,45300.0,41800.0,37800.0,40000.0,23700.0,49400.0,54900.0,34600.0,42000.0,37100.0,46500.0,67200.0,47300.0,34400.0,57600.0,53000.0,37100.0,53100.0,36300.0,35000.0,22600.0,38800.0,41000.0,48300.0,45200.0,49400.0,40200.0,48800.0,56900.0,55100.0,38100.0,47100.0,41200.0,30200.0,60900.0,43400.0,57800.0,28400.0,34100.0,30800.0,36300.0,45400.0,50300.0,35900.0,38300.0,49700.0,47500.0,51700.0,49100.0,20700.0,42100.0,46500.0,16200.0,37000.0,37800.0,28400.0,33700.0,32200.000000000004,52700.0,37200.0,30000.0,48700.0,43500.0,40700.0,44800.0,52300.0,29500.0,48900.0,53600.0,58600.0,42200.0,35400.0,39500.0,43200.0,24400.0,18700.0,30000.0,45500.0,43500.0,31600.0,53700.0,33300.0,49900.0,42400.0,30800.0,45700.0,38200.0,24800.0,54000.0,34300.0,49300.0,48300.0,34400.0,35000.0,35300.0,31500.0,53600.0,42700.0,44600.0,51900.0,43200.0,39000.0,44100.0,25800.0,39400.0,34300.0,52600.0,54000.0,62200.0,35600.0,48800.0,53400.0,34400.0,44300.0,33500.0,28100.0,33000.0,33200.0,41000.0,30800.0,39400.0,39800.0,61000.0,51100.0,39500.0,35800.0,33400.0,51700.0,41900.0,40100.0,22700.0,35400.0,42900.0,54200.0,40500.0,18900.0,37000.0,49200.0,42500.0,47500.0,17900.0,57500.0,50200.0,38700.0,38500.0,35900.0,32300.0,16000.0,46200.0,22700.0,24100.0,46500.0,38200.0,40600.0,23700.0,41100.0,45500.0,43400.0,31600.0,45700.0,36600.0,27900.0,24700.0,40200.0,33600.0,36600.0,26900.0,42400.0,29300.0,25900.0,41700.0,30800.0,24500.0,79000.0,46800.0,37500.0,42800.0,44600.0,33600.0,37400.0,41200.0,28100.0,43100.0,30600.0,27200.0,46000.0,38600.0,45900.0,39500.0,58200.0,34800.0,51200.0,51900.0,51500.0,35600.0,41200.0,48500.0,41500.0,41500.0,38500.0,33400.0,30200.0,29000.0,37600.0,18700.0,22300.0,44300.0,43400.0,52700.0,52600.0,43200.0,44500.0,30500.0,53000.0,49900.0,34800.0,40800.0,22900.0,40000.0,43100.0,50400.0,52800.0,39300.0,46600.0,36900.0,50400.0,46600.0,40700.0,32400.0,43600.0,52000.0,39600.0,47000.0,28200.0,27000.0,45000.0,37600.0,39100.0,35000.0,44300.0,50900.0,36900.0,48200.0,11200.0,44600.0,56400.0,71600.0,32800.0,22800.0,46700.0,36800.0,29700.0,31100.0,42200.0,36500.0,32500.0,47600.0,31300.0,20400.0,36000.0,39000.0,43200.0,37700.0,44200.0,26100.0,31200.0,46800.0,46500.0,38800.0,41300.0,32200.000000000004,34900.0,33200.0,31600.0,46600.0,44300.0,48000.0,52200.0,41800.0,33100.0,41500.0,50000.0,24300.0,47100.0,61300.0,70500.0,42600.0,36200.0,42000.0,53900.0,23000.0,42300.0,43300.0,38900.0,31100.0,11200.0,36400.0,47100.0,23300.0,31600.0,47800.0,47000.0,46200.0,32100.0,41800.0,34200.0,47400.0,42000.0,25000.0,38300.0,48100.0,28400.0,42100.0,33900.0,32400.0,41200.0,67100.0,38400.0,51900.0,45900.0,36200.0,52600.0,37600.0,45000.0,42100.0,46900.0,44200.0,31100.0,33900.0,49000.0,46700.0,32900.0,57900.0,41900.0,44600.0,32300.0,59000.0,41600.0,45000.0,51300.0,33400.0,50400.0,49600.0,43300.0,35200.0,21800.0,54900.0,55700.0,33100.0,54200.0,18600.0,25900.0,41000.0,40700.0,29600.0,45000.0,42900.0,30900.0,38800.0,13500.0,53000.0,40000.0,34800.0,19300.0,58500.0,37300.0,46100.0,33600.0,30700.0,35000.0,45100.0,28500.0,24800.0,46100.0,43300.0,33800.0,27100.0,30600.0,34000.0,44200.0,26100.0,25800.0,46700.0,50000.0,32700.000000000004,45300.0,41400.0,42300.0,27100.0,46000.0,16700.0,43900.0,47200.0,58500.0,43400.0,45900.0,25700.0,23300.0,53400.0,35800.0,44200.0,46500.0,15700.0,22700.0,43600.0,46500.0,43900.0,43600.0,34400.0,44400.0,22700.0,54000.0,50500.0,52400.0,31800.0,32100.0,49300.0,65099.99999999999,23700.0,48800.0,45700.0,27600.0,27200.0,33000.0,28000.0,25200.0,46000.0,47900.0,38800.0,51100.0,40600.0,41300.0,52900.0,45700.0,38300.0,49100.0,52600.0,49900.0,60000.0,28400.0,32400.0,37100.0,48500.0,44200.0,38600.0,43700.0,33700.0,42400.0,45600.0,38000.0,28000.0,39900.0,30900.0,54200.0,52900.0,29500.0,30300.0,36700.0,40200.0,17400.0,22500.0,55600.0,31100.0,37000.0,38300.0,47600.0,48200.0,47100.0,26500.0,51500.0,37200.0,42800.0,43200.0,34000.0,34700.0,50100.0,40600.0,46500.0,40900.0,45100.0,63400.0,40900.0,49600.0,30100.0,44700.0,32300.0,44400.0,32600.0,47300.0,25700.0,37400.0,35800.0,40600.0,36000.0,39300.0,44900.0,32800.0,55900.0,39200.0,61900.0,27900.0,43100.0,52500.0,43900.0,33700.0,29900.0,52700.0,32800.0,42300.0,34700.0,28200.0,38000.0,63400.0,42300.0,45400.0,29800.0,23400.0,33600.0,50300.0,55000.0,65200.0,34300.0,43000.0,33200.0,29900.0,30400.0,29600.0,47300.0,27300.0,33700.0,32800.0,62600.0,32700.000000000004,40500.0,52000.0,41900.0,42600.0,57700.0,39800.0,39800.0,50000.0,39300.0,29700.0,48500.0,43700.0,38500.0,28700.0,34600.0,46200.0,31400.0,45300.0,52300.0,33800.0,28800.0,47400.0,41000.0,37900.0,41800.0,52900.0,43200.0,51500.0,43600.0,51300.0,27400.0,45900.0,31500.0,39800.0,60400.0,38500.0,39900.0,41000.0,38800.0,45000.0,41600.0,42200.0,42400.0,21800.0,33900.0,53600.0,27400.0,40200.0,25800.0,36600.0,25100.0,49900.0,30600.0,17000.0,41400.0,36700.0,37200.0,36200.0,14100.0,29600.0,46200.0,59800.0,56400.0,44300.0,28900.0,31300.0,41100.0,44700.0,34000.0,27700.0,40500.0,32600.0,49600.0,37800.0,52000.0,60500.0,34500.0,47000.0,41500.0,50800.0,39700.0,51800.0,37100.0,35000.0,50400.0,43200.0,58300.0,35100.0,41100.0,48600.0,16500.0,37700.0,51000.0,53000.0,47300.0,46000.0,43000.0,49600.0,40900.0,42800.0,46400.0,40600.0,32700.000000000004,56700.0,32800.0,40900.0,43500.0,21400.0,41500.0,42500.0,20100.0,45900.0,35500.0,40100.0,46700.0,40400.0,57100.0,63800.0,46100.0,46600.0,52300.0,43800.0,38100.0,58300.0,32900.0,32000.0,38700.0,50600.0,26500.0,42500.0,38500.0,51400.0,42900.0,42200.0,50700.0,47900.0,44100.0,15100.0,46500.0,28700.0,41400.0,33200.0,33400.0,24100.0,44000.0,42900.0,54000.0,32900.0,34300.0,36400.0,41000.0,39600.0,18700.0,36700.0,26400.0,70000.0,61500.0,35900.0,33600.0,39400.0,42000.0,42200.0,38400.0,22000.0,23300.0,45600.0,42100.0,50200.0,52700.0,50600.0,51800.0,38800.0,44500.0,32700.000000000004,36000.0,38300.0,36300.0,43700.0,35700.0,41900.0,21700.0,60200.0,22000.0,50400.0,50100.0,35200.0,41000.0,46800.0,40500.0,43000.0,41900.0,53400.0,42000.0,33600.0,45300.0,34400.0,38900.0,20300.0,32000.0,17800.0,32900.0,50700.0,45500.0,30700.0,47700.0,57900.0,33900.0,50200.0,30900.0,32700.000000000004,55400.0,42600.0,30100.0,32000.0,39700.0,46200.0,58600.0,43200.0,43700.0,32900.0,34200.0,20600.0,41600.0,37400.0,42100.0,19600.0,47700.0,28100.0,48000.0,29800.0,61500.0,40900.0,37300.0,21100.0,38500.0,27500.0,42700.0,44900.0,45100.0,41200.0,31200.0,34600.0,34100.0,38600.0,46800.0,44100.0,57300.0,27100.0,34900.0,35000.0,18800.0,23100.0,22300.0,38000.0,42900.0,53200.0,52700.0,40700.0,49600.0,37500.0,65900.0,31800.0,38200.0,31800.0,38100.0,15200.0,42200.0,50700.0,55400.0,48400.0,18800.0,36400.0,33900.0,48900.0,46600.0,36600.0,18900.0,35700.0,28200.0,41700.0,47700.0,40200.0,23700.0,39400.0,30800.0,49600.0,27200.0,38600.0,48400.0,28200.0,42900.0,63500.0,39600.0,30200.0,39000.0,32000.0,38600.0,40400.0,44700.0,32000.0,50000.0,40200.0,49200.0,41500.0,49800.0,38000.0,26900.0,43700.0,48900.0,40200.0,13200.0,40400.0,37300.0,38200.0,13200.0,42900.0,31600.0,42600.0,30000.0,25400.0,53000.0,29300.0,42400.0,32200.000000000004,31000.0,46800.0,50800.0,45800.0,48300.0,40800.0,35500.0,34600.0,49000.0,42200.0,45000.0,39400.0,24700.0,28400.0,35600.0,34700.0,43900.0,42800.0,33900.0,48200.0,40700.0,34400.0,41500.0,21800.0,40600.0,40600.0,32400.0,40200.0,41600.0,32400.0,23100.0,49300.0,53000.0,41000.0,29400.0,48200.0,37100.0,44800.0,41600.0,36300.0,36100.0,55600.0,39200.0,40600.0,29100.0,29800.0,39100.0,38500.0,14400.0,35300.0,48900.0,48400.0,33800.0,32100.0,49700.0,55500.0,44400.0,41100.0,18700.0,56500.0,36000.0,43000.0,18900.0,48400.0,23100.0,50800.0,37200.0,50600.0,35000.0,28700.0,51600.0,49900.0,55900.0,38700.0,44600.0,43800.0,31000.0,47600.0,52200.0,48200.0,14100.0,47900.0,34900.0,42700.0,34800.0,35500.0,36500.0,36100.0,45200.0,45800.0,68900.0,25900.0,49600.0,39400.0,34700.0,30000.0,45900.0,39200.0,46600.0,22600.0,36600.0,29800.0,35000.0,30100.0,48100.0,43000.0,53700.0,33400.0,46600.0,41600.0,20900.0,52300.0,38400.0,48700.0,31700.0,56300.0,34800.0,56900.0,47600.0,36500.0,40000.0,29600.0,45900.0,21800.0,34500.0,43400.0,52400.0,25800.0,39800.0,48600.0,25600.0,35800.0,36700.0,44300.0,35400.0,39600.0,47300.0,39300.0,46900.0,55300.0,47900.0,33700.0,45800.0,26700.0,35700.0,37400.0,63400.0,38400.0,40100.0,47000.0,41800.0,53500.0,34600.0,40900.0,43200.0,27400.0,38600.0,42500.0,55500.0,36500.0,42800.0,32400.0,31800.0,40600.0,46100.0,48600.0,37200.0,50900.0,37700.0,39400.0,43500.0,37400.0,25500.0,56300.0,41800.0,51100.0,38500.0,41600.0,26600.0,51500.0,56400.0,51300.0,30500.0,44200.0,50800.0,34100.0,41500.0,36200.0,38400.0,34000.0,35600.0,34200.0,36700.0,29300.0,41300.0,36800.0,37400.0,28300.0,38700.0,30900.0,56300.0,48000.0,40300.0,46700.0,34200.0,22200.0,37400.0,26800.0,55200.0,19300.0,25600.0,37700.0,44900.0,43300.0,41400.0,38300.0,26700.0,40800.0,42800.0,36800.0,12200.0,42500.0,52700.0,37700.0,50400.0,6000.0,36500.0,54400.0,40700.0,34500.0,43900.0,31400.0,43900.0,53200.0,38600.0,40700.0,42100.0,35800.0,29900.0,54200.0,27900.0,35800.0,30100.0,32200.000000000004,37200.0,57700.0,43700.0,50600.0,48400.0,41900.0,28400.0,48000.0,40300.0,55700.0,38700.0,39100.0,28000.0,33800.0,34200.0,28900.0,23500.0,38300.0,35300.0,31400.0,25200.0,41400.0,37800.0,45100.0,21200.0,43100.0,24900.0,45500.0,40800.0,47800.0,38800.0,35000.0,48100.0,60400.0,40000.0,54800.0,43500.0,28800.0,52400.0,27800.0,40300.0,46000.0,57000.0,37700.0,49400.0,52300.0,34300.0,25600.0,28300.0,30700.0,56500.0,38900.0,50900.0,43000.0,26500.0,46800.0,31500.0,37100.0,35300.0,28200.0,50200.0,52000.0,47700.0,45100.0,41400.0,39700.0,36100.0,41100.0,25500.0,50800.0,32000.0,25200.0,55600.0,52100.0,46400.0,51700.0,39300.0,37900.0,29800.0,30200.0,57800.0,52600.0,43200.0,50400.0,41000.0,46800.0,57400.0,52700.0,35700.0,33000.0,47700.0,45400.0,41700.0,49200.0,37100.0,37300.0,51900.0,27100.0,27700.0,39300.0,42400.0,40600.0,38000.0,27500.0,37000.0,53600.0,44500.0,39300.0,44500.0,43600.0,34900.0,46500.0,38900.0,25500.0,41100.0,37300.0,25000.0,59200.0,34900.0,41000.0,36900.0,39100.0,46500.0,37200.0,43800.0,48900.0,45000.0,38100.0,35800.0,54700.0,36300.0,44500.0,40800.0,44300.0,29100.0,29000.0,47000.0,35400.0,24100.0,23900.0,47700.0,33100.0,45400.0,36100.0,36600.0,47000.0,37700.0,56600.0,45800.0,49500.0,44900.0,49000.0,45800.0,54200.0,33600.0,30200.0,46400.0,49300.0,23300.0,53100.0,32100.0,38200.0,36400.0,40100.0,21200.0,38600.0,50700.0,29200.0,33400.0,26700.0,60400.0,42500.0,40900.0,31600.0,33100.0,43000.0,25500.0,74800.0,34100.0,39700.0,47000.0,45400.0,46400.0,38100.0,24600.0,50300.0,36400.0,21800.0,40300.0,57700.0,50100.0,43300.0,36900.0,34500.0,37400.0,37100.0,59700.0,58800.0,41300.0,26300.0,34800.0,39100.0,29000.0,30600.0,61500.0,38900.0,42400.0,43800.0,18200.0,35400.0,28200.0,36800.0,62300.0,46800.0,42200.0,36000.0,30500.0,44600.0,17000.0,31700.0,31900.0,35800.0,42600.0,47700.0,10800.0,48000.0,34800.0,16000.0,40500.0,27400.0,53000.0,45300.0,46600.0,19000.0,25700.0,29800.0,18700.0,38800.0,47300.0,24200.0,46300.0,47100.0,39300.0,36300.0,14100.0,31100.0,48500.0,43600.0,47200.0,39000.0,49200.0,37800.0,35200.0,40000.0,43600.0,48700.0,41100.0,36300.0,29000.0,10600.0,36400.0,19900.0,42900.0,36300.0,38800.0,37900.0,28400.0,36700.0,48200.0,45800.0,21400.0,20100.0,41400.0,44800.0,32100.0,60400.0,11000.0,34800.0,29000.0,44800.0,41900.0,30900.0,46200.0,35500.0,20500.0,45800.0,27600.0,42100.0,36800.0,43000.0,41900.0,46000.0,38800.0,43900.0,36300.0,50600.0,33700.0,42800.0,47500.0,47200.0,40700.0,23700.0,47200.0,41900.0,35400.0,35700.0,41400.0,51100.0,46300.0,35100.0,69400.0,33400.0,42900.0,46700.0,35500.0,52800.0,37100.0,58900.0,38800.0,26800.0,36900.0,29300.0,38600.0,34700.0,15000.0,48500.0,36100.0,57100.0,49300.0,75200.0,53400.0,54300.0,40900.0,38100.0,48600.0,36700.0,48400.0,32700.000000000004,46600.0,52500.0,44700.0,36900.0,23900.0,46400.0,45100.0,38300.0,22100.0,45000.0,48800.0,40400.0,55600.0,41500.0,44200.0,46400.0,29800.0,39500.0,50300.0,41600.0,52100.0,40900.0,49800.0,21000.0,47700.0,41600.0,34500.0,40100.0,62500.0,33700.0,46000.0,37200.0,39700.0,40700.0,43000.0,23000.0,54000.0,33200.0,36300.0,33900.0,52000.0,56200.0,60400.0,42200.0,28000.0,46300.0,53400.0,43700.0,30900.0,44500.0,50100.0,43400.0,46700.0,25500.0,34900.0,37600.0,44600.0,40800.0,55500.0,37300.0,38400.0,55100.0,44100.0,57700.0,22900.0,49500.0,34500.0,44300.0,49400.0,39900.0,61800.0,35400.0,62700.0,32500.0,40600.0,35900.0,43300.0,26100.0,54500.0,47800.0,27000.0,35300.0,54600.0,34100.0,46300.0,59100.0,28300.0,32600.0,39400.0,49700.0,32400.0,36400.0,48400.0,46600.0,16300.0,29700.0,45400.0,46200.0,40300.0,41400.0,20800.0,48000.0,7400.0,42100.0,43300.0,64800.0,24800.0,32500.0,29800.0,35600.0,35400.0,38700.0,43300.0,55000.0,30000.0,47800.0,29000.0,29000.0,34600.0,30200.0,54400.0,43900.0,40500.0,43800.0,35400.0,50300.0,34800.0,45300.0,46900.0,42000.0,33300.0,45000.0,41800.0,44600.0,37000.0,39400.0,43400.0,36000.0,18300.0,42700.0,49600.0,32100.0,37800.0,39900.0,45000.0,51500.0,42500.0,25800.0,26900.0,35500.0,30600.0,22600.0,27200.0,43400.0,46800.0,63400.0,34800.0,33300.0,50000.0,37800.0,45600.0,45100.0,47000.0,40600.0,40100.0,34800.0,36400.0,36400.0,39900.0,45900.0,48300.0,38400.0,41700.0,57700.0,26000.0,46800.0,29800.0,45600.0,35800.0,35000.0,38400.0,33700.0,46300.0,34500.0,28000.0,32100.0,36700.0,44200.0,34700.0,37600.0,32400.0,42000.0,33500.0,33700.0,47000.0,44300.0,49600.0,35600.0,26400.0,35400.0,26100.0,47300.0,53300.0,25200.0,19700.0,31700.0,19700.0,23900.0,22500.0,24400.0,49100.0,36200.0,44500.0,35600.0,18700.0,49800.0,57400.0,48500.0,33700.0,47900.0,47400.0,42400.0,20100.0,31200.0,35500.0,65300.0,42000.0,33700.0,49600.0,48700.0,32500.0,34800.0,42500.0,31400.0,40700.0,35700.0,52900.0,58200.0,45800.0,52800.0,61400.0,50300.0,41000.0,31400.0,25900.0,37100.0,32100.0,55800.0,58500.0,49800.0,39200.0,52000.0,45300.0,32800.0,41500.0,35200.0,38500.0,43800.0,27300.0,28500.0,37400.0,40700.0,31100.0,33200.0,38100.0,42700.0,33000.0,49600.0,27400.0,48400.0,35400.0,39500.0,37800.0,40100.0,48600.0,43100.0,36600.0,44100.0,41800.0,27700.0,38100.0,48400.0,53000.0,51600.0,21100.0,30500.0,50500.0,50900.0,46200.0,41700.0,36300.0,33800.0,32000.0,26000.0,32400.0,54200.0,50000.0,35100.0,39200.0,48300.0,55900.0,36200.0,31200.0,46500.0,31500.0,40700.0,28300.0,28900.0,46200.0,40900.0,25200.0,34300.0,32200.000000000004,22000.0,51000.0,43600.0,42300.0,29700.0,35700.0,45700.0,42600.0,38900.0,37100.0,44800.0,34700.0,41400.0,36600.0,51500.0,35800.0,42000.0,39200.0,39900.0,31400.0,30300.0,56100.0,47000.0,43000.0,36300.0,41100.0,56400.0,62200.0,25500.0,38400.0,43300.0,53400.0,20400.0,46700.0,50400.0,50400.0,49200.0,29200.0,41700.0,37100.0,42500.0,36500.0,47200.0,50200.0,58000.0,38100.0,38300.0,41000.0,39600.0,55600.0,40200.0,42800.0,26900.0,51000.0,44800.0,41600.0,46300.0,33000.0,30100.0,57500.0,58400.0,35200.0,49200.0,22100.0,39800.0,59900.0,46400.0,56400.0,38700.0,32800.0,56500.0,20500.0,37100.0,45200.0,33200.0,45600.0,37400.0,32800.0,40900.0,33000.0,44800.0,37700.0,46400.0,39000.0,47500.0,48500.0,51300.0,24700.0,41300.0,58200.0,50700.0,32000.0,49800.0,43500.0,41300.0,33700.0,45200.0,48300.0,45700.0,38900.0,27100.0,32700.000000000004,39100.0,24100.0,55700.0,30400.0,42100.0,26500.0,47300.0,44100.0,39000.0,45800.0,32600.0,36300.0,38000.0,35800.0,42100.0,40700.0,31700.0,61400.0,30900.0,29500.0,40100.0,52300.0,35900.0,34500.0,47800.0,41400.0,32500.0,37400.0,34500.0,40100.0,29200.0,29000.0,34500.0,26400.0,38300.0,41200.0,29000.0,27200.0,38100.0,31100.0,41600.0,39700.0,13400.0,57500.0,39700.0,39800.0,41500.0,47800.0,40400.0,45800.0,38800.0,51300.0,32500.0,40900.0,56800.0,38300.0,54600.0,36000.0,51400.0,35700.0,52400.0,33900.0,32700.000000000004,40600.0]},{\"axis\":{\"matches\":true},\"label\":\"\\u0427\\u043b\\u0435\\u043d\\u044b<br>\\u0441\\u0435\\u043c\\u044c\\u0438\",\"values\":[1,1,0,2,0,2,2,4,1,1,1,0,3,0,1,0,2,2,0,0,1,1,0,2,3,3,1,1,0,2,0,0,2,0,2,0,2,0,1,1,0,1,0,1,2,1,1,1,1,1,0,2,0,0,2,1,0,0,3,1,1,1,1,1,3,2,4,2,2,1,1,1,1,2,3,0,0,2,0,3,0,1,2,2,1,2,2,0,1,0,2,2,1,4,0,0,0,1,1,2,1,1,0,2,1,0,2,2,2,1,1,2,1,0,3,1,0,0,0,1,2,1,3,5,1,1,1,0,1,1,0,2,3,1,1,0,1,0,0,0,1,2,2,1,2,3,1,3,1,1,1,0,3,1,0,0,2,0,2,2,3,2,2,3,1,2,2,2,0,1,1,0,2,0,0,2,0,0,1,1,1,0,1,2,2,1,0,0,3,0,1,0,1,0,1,2,4,2,2,0,1,0,2,1,0,0,1,2,3,1,1,1,0,0,2,3,1,1,0,2,2,2,0,1,0,1,0,1,1,2,0,2,1,1,0,1,0,2,1,0,0,1,2,1,5,2,1,1,1,5,2,1,1,1,1,0,2,3,0,2,0,1,2,1,1,1,0,0,3,1,0,1,1,3,0,1,1,0,1,3,0,1,0,0,0,2,0,1,1,0,0,0,1,2,2,2,4,0,1,3,2,1,1,1,2,3,0,4,1,1,0,1,2,1,2,1,2,2,1,0,5,1,1,1,0,4,0,2,1,2,2,0,1,1,3,1,2,2,0,0,1,1,1,1,0,2,2,1,0,0,0,0,1,0,0,2,3,2,2,0,3,1,0,0,3,0,2,2,0,0,1,3,1,3,0,1,2,3,1,0,1,0,1,0,6,0,1,1,0,0,2,1,1,2,0,0,3,3,1,0,1,0,0,2,2,2,0,2,0,1,1,1,0,0,2,2,2,0,1,2,2,1,2,1,2,0,1,3,2,1,0,0,4,3,2,0,1,4,1,1,1,1,2,1,2,1,1,3,2,0,0,2,0,4,1,0,1,1,4,2,3,1,3,2,0,0,3,1,2,2,4,0,0,2,2,2,0,1,1,1,0,3,4,2,2,1,0,0,1,1,0,1,0,2,1,4,3,0,2,3,2,2,2,0,5,0,2,1,0,0,4,1,1,2,2,3,3,0,2,0,2,2,1,2,1,1,1,1,1,1,1,1,1,1,0,2,1,1,0,1,1,0,3,1,0,1,1,2,0,2,4,1,1,1,1,1,2,2,5,0,0,1,2,0,0,0,0,2,0,2,4,1,0,1,2,1,3,2,0,1,1,3,1,1,0,0,2,1,2,2,1,0,1,0,0,0,1,0,2,0,0,2,0,3,1,2,1,1,3,1,2,0,2,0,2,2,3,4,0,2,0,0,1,1,2,1,1,2,1,2,2,3,3,3,1,2,1,3,0,1,0,0,1,2,1,0,1,1,0,2,2,4,3,1,0,1,2,0,2,1,0,0,0,2,0,4,0,1,1,1,1,1,1,3,1,2,1,0,1,1,1,2,3,0,1,1,2,0,0,0,1,3,0,1,3,1,0,2,1,0,2,0,1,2,1,1,1,1,0,0,2,1,0,1,1,1,2,3,1,2,0,1,1,1,1,1,1,0,1,0,0,2,2,1,2,1,1,1,0,1,3,1,0,2,1,2,1,1,0,2,0,1,0,1,4,0,0,2,3,3,1,3,1,1,2,2,5,1,2,1,1,1,1,1,2,0,1,1,1,0,0,0,0,1,2,0,1,1,1,0,1,2,1,1,4,1,2,1,0,1,1,2,0,1,1,1,1,0,1,0,0,1,1,0,4,2,0,0,0,0,2,1,3,3,2,0,0,0,1,2,1,1,3,0,3,2,2,2,0,2,0,3,1,1,2,2,0,0,2,0,1,0,1,0,0,0,0,1,0,0,2,1,1,1,2,2,0,1,2,1,1,3,3,2,1,3,1,1,2,1,1,2,2,1,2,2,1,0,2,2,2,1,2,4,0,2,1,1,2,3,2,1,2,1,0,1,0,2,1,0,0,0,0,1,3,3,1,2,0,1,0,0,1,2,0,1,1,1,2,1,2,0,2,3,0,0,3,2,0,2,0,1,0,1,0,1,0,2,2,1,0,2,1,1,3,0,0,2,0,2,0,1,1,0,2,3,0,1,1,1,1,1,2,2,0,1,3,1,0,0,3,0,2,1,1,0,1,0,2,1,1,1,1,1,2,0,1,4,1,2,1,2,0,1,0,1,1,2,1,2,1,5,1,1,1,0,0,5,2,2,2,2,0,1,1,2,2,1,3,1,1,1,0,1,3,1,1,1,1,1,1,2,2,0,2,2,1,0,0,1,1,2,0,0,0,2,3,3,1,1,3,0,0,1,2,0,0,1,1,0,0,2,1,0,1,1,2,3,3,1,1,0,2,1,0,2,3,0,1,2,3,1,0,0,0,2,1,1,0,1,1,0,1,1,0,3,2,1,0,0,2,0,2,4,0,5,2,0,0,1,3,2,1,3,3,1,1,1,1,0,2,2,0,1,0,1,1,1,0,1,0,0,1,0,2,2,3,2,0,2,0,2,1,2,1,1,4,1,3,1,3,3,1,4,2,0,0,1,0,1,1,3,0,2,1,0,1,0,2,0,1,0,1,1,0,1,3,0,3,1,2,0,0,3,1,1,0,2,1,2,2,0,2,2,1,1,5,1,1,1,0,3,1,4,0,0,1,1,1,0,1,1,0,0,0,0,1,0,2,0,0,5,2,1,0,2,2,1,0,2,1,1,2,1,1,1,0,1,0,3,0,2,1,2,1,2,0,0,0,0,3,2,0,0,1,4,1,2,0,3,0,1,2,2,3,1,2,0,4,3,3,2,1,1,1,1,2,1,3,1,2,0,1,3,1,0,3,2,1,1,2,1,0,1,1,1,3,2,1,2,1,1,1,0,0,1,0,1,2,0,3,1,1,1,2,1,1,1,0,1,1,0,2,0,1,0,0,2,0,3,2,1,5,3,0,0,1,2,2,2,1,0,3,0,2,0,1,2,2,0,3,0,0,2,1,3,0,1,3,0,1,1,1,0,2,3,2,0,0,1,0,0,3,0,0,1,2,0,2,1,0,1,1,1,2,2,0,1,1,3,0,0,1,0,2,0,1,0,0,1,2,0,2,2,1,2,0,0,0,4,3,1,0,2,3,1,0,1,1,0,2,2,1,2,2,0,2,1,1,0,1,0,1,3,2,3,3,3,1,1,1,1,2,1,1,1,2,0,1,3,3,0,0,0,2,2,1,1,0,2,1,1,1,2,1,2,0,2,2,0,1,1,1,1,2,0,2,1,3,0,3,0,0,3,2,1,3,2,0,1,2,0,1,3,2,1,0,2,0,1,1,3,2,1,2,0,0,1,1,0,0,0,2,1,2,1,1,0,1,0,1,2,1,0,3,1,1,0,5,1,0,0,2,2,1,1,2,0,2,0,0,0,2,0,1,1,2,3,0,0,1,0,0,2,0,3,2,1,0,1,0,0,1,2,0,2,1,1,1,2,2,1,3,0,1,1,1,2,1,1,3,0,1,1,0,4,0,0,1,4,0,0,0,0,1,2,1,0,1,2,1,2,0,0,2,0,2,0,0,2,2,0,1,1,2,1,1,2,0,2,1,1,2,1,1,3,2,1,1,4,2,1,1,1,1,2,1,2,1,3,0,1,3,2,1,2,0,0,2,1,3,2,1,1,0,1,1,1,1,0,1,2,1,1,1,3,3,1,1,0,1,3,1,1,1,0,2,2,0,0,0,3,0,0,0,1,2,0,1,0,1,0,2,3,0,2,3,1,0,2,1,2,1,0,1,1,1,0,3,2,1,1,3,0,1,1,0,1,0,1,2,2,0,0,0,0,0,1,1,1,1,0,0,0,2,2,0,0,1,2,1,0,2,1,1,0,2,1,1,2,0,0,3,2,2,1,1,2,2,4,0,2,0,2,0,1,1,1,2,2,3,4,2,0,1,1,0,0,1,0,1,1,1,0,1,2,1,2,1,1,1,0,1,1,2,1,0,1,2,3,1,2,0,0,2,2,1,2,4,0,2,1,0,0,0,1,0,3,0,1,1,2,2,1,0,0,0,2,2,1,1,1,0,2,1,2,2,0,0,2,2,0,2,2,1,1,1,1,0,2,2,0,1,1,0,0,1,1,0,2,0,0,1,1,0,1,0,0,3,0,2,0,0,1,2,1,1,3,1,0,3,0,1,1,2,0,2,0,1,2,2,0,3,0,1,2,1,4,1,2,1,1,2,0,0,1,0,1,2,0,1,0,1,2,2,0,1,1,1,1,1,1,2,0,1,1,0,0,2,0,1,1,1,0,6,3,2,1,1,0,1,1,0,2,2,1,0,1,0,0,2,1,1,1,1,1,0,0,1,4,2,1,1,1,1,0,2,0,2,5,0,1,0,0,3,0,0,0,1,1,1,1,2,1,1,0,2,1,2,3,2,0,1,1,2,0,0,1,1,0,1,2,2,0,3,0,0,0,3,1,1,1,0,0,0,1,0,2,1,4,2,0,1,0,1,1,0,0,0,3,0,1,2,2,1,0,0,2,1,2,2,2,0,1,0,1,1,0,0,2,1,1,2,1,0,0,1,0,3,3,0,0,0,0,0,1,3,5,3,2,1,1,3,0,0,2,1,2,2,2,6,1,3,2,1,3,3,0,3,0,2,2,0,1,1,0,0,3,0,2,2,3,0,2,0,1,0,0,0,1,1,2,0,0,0,2,2,3,2,1,1,1,3,4,0,0,3,4,2,0,1,0,1,2,1,1,0,1,0,1,0,1,1,1,2,0,1,0,0,4,1,0,1,0,3,1,0,0,0,0,1,2,1,4,1,2,1,1,1,2,2,2,1,0,1,0,1,3,1,0,4,1,0,0,0,0,2,0,3,3,2,2,0,1,0,0,2,1,2,1,0,1,1,0,3,0,5,1,3,1,1,1,0,0,1,3,1,3,1,0,2,2,0,0,1,2,0,0,1,1,0,2,4,2,1,2,1,1,0,1,2,0,2,1,1,0,1,1,1,0,2,1,2,0,1,3,0,3,0,1,1,0,0,4,0,1,1,0,1,4,1,1,0,0,1,2,1,3,1,0,3,1,1,0,0,0,0,5,3,3,1,0,1,0,1,2,1,1,3,1,1,0,1,1,1,1,0,2,0,1,0,2,1,1,0,0,1,1,1,0,0,3,1,0,2,1,1,0,0,4,0,3,2,1,1,1,3,4,0,2,1,1,2,0,2,0,1,2,1,1,0,2,0,1,3,0,0,1,0,1,3,0,2,0,0,2,1,1,1,0,3,0,1,0,1,1,2,4,1,2,1,1,2,0,0,3,3,1,0,1,0,0,1,1,0,2,3,3,1,0,0,1,1,2,4,1,2,0,0,0,2,0,0,1,1,0,3,1,1,2,2,0,0,0,1,1,2,3,6,1,1,1,1,0,1,2,2,0,0,1,2,0,2,4,1,0,1,1,1,0,2,3,1,0,5,2,1,3,2,3,0,1,0,1,3,1,0,0,3,0,0,0,0,1,4,1,1,0,1,2,0,3,0,0,0,0,2,0,3,3,2,0,1,0,3,1,2,0,3,1,1,0,1,3,0,3,2,0,3,2,2,1,1,1,0,1,1,1,0,2,1,1,3,3,0,1,2,1,1,3,1,0,4,0,0,0,2,0,1,2,0,1,3,1,0,0,2,1,2,2,3,1,1,0,3,1,2,0,0,4,2,0,0,3,1,1,3,1,0,0,2,1,0,1,0,1,2,0,3,0,0,2,1,2,1,1,1,1,0,2,3,1,1,0,0,2,3,0,1,1,0,1,0,0,0,2,0,1,0,1,2,2,0,0,0,2,1,0,0,1,0,1,1,0,2,0,2,1,3,1,0,1,2,2,1,2,2,3,0,5,0,1,0,0,0,1,2,2,1,1,1,2,1,0,1,1,3,1,1,1,3,2,2,1,0,0,3,1,2,2,1,0,0,1,4,0,2,3,0,1,1,2,1,1,0,4,0,2,0,3,2,3,0,1,4,2,1,0,3,0,0,3,1,0,2,2,0,0,2,3,1,2,2,0,2,0,3,1,3,0,1,3,0,0,1,1,0,1,2,1,1,1,2,1,3,0,2,0,0,4,1,1,1,0,1,0,3,1,0,3,0,3,1,1,0,0,2,1,1,4,1,1,1,2,1,1,1,2,1,1,1,3,1,1,0,0,1,2,1,1,1,1,0,0,1,1,4,4,0,2,1,0,1,1,3,1,0,2,1,1,1,2,1,1,1,1,0,1,0,1,0,3,0,3,1,0,2,0,1,2,0,1,0,1,2,1,0,2,0,3,1,0,2,2,0,1,1,1,2,1,0,0,0,0,0,1,1,0,2,4,1,2,0,2,2,1,0,0,2,1,2,0,1,0,0,3,2,0,0,2,0,1,1,0,1,1,0,0,4,0,0,0,0,4,4,1,1,0,0,2,2,0,3,3,0,2,1,2,1,1,1,1,0,1,2,1,0,1,1,0,3,1,1,2,1,1,0,2,2,3,3,2,1,1,1,0,3,1,2,0,0,0,0,3,3,3,1,3,0,1,1,0,2,0,1,0,1,0,3,1,1,1,2,0,0,0,0,0,0,1,3,1,1,1,1,0,1,1,3,0,0,0,2,1,1,1,1,1,0,0,1,2,0,0,1,0,0,2,1,0,2,1,1,2,1,1,1,1,1,1,0,1,1,2,2,0,0,1,1,2,0,4,0,1,2,0,0,1,1,0,5,1,3,0,1,0,2,0,2,2,1,3,1,1,2,0,2,2,0,0,1,4,3,1,0,1,1,2,0,2,1,1,1,0,2,2,3,0,0,0,0,0,2,2,5,2,0,1,2,5,1,4,2,1,1,1,3,1,0,2,0,0,0,1,3,2,4,0,1,0,0,1,2,0,0,0,0,1,2,0,0,2,3,1,0,1,2,2,1,1,1,1,0,2,1,1,1,1,0,1,1,0,0,0,2,0,1,0,2,2,1,0,0,0,1,4,1,3,3,0,1,1,0,3,3,1,0,1,3,3,1,0,1,1,0,0,3,0,1,0,3,2,1,1,1,0,1,0,3,4,2,0,3,4,1,2,4,2,2,1,2,4,2,3,1,1,0,0,0,1,1,3,1,1,2,2,2,1,2,2,0,0,1,1,3,1,2,2,2,0,0,1,2,3,1,2,1,1,0,2,0,2,5,1,2,0,1,1,2,0,0,1,1,1,2,2,1,2,0,3,2,1,1,0,1,2,2,1,3,2,1,1,0,3,2,1,3,0,0,1,1,0,4,0,1,1,3,0,1,0,1,1,2,1,0,1,1,4,2,1,1,1,2,1,2,2,1,0,0,1,0,1,1,2,1,0,0,1,1,1,3,2,1,0,1,0,1,4,2,3,6,3,3,0,1,2,2,2,2,0,1,2,1,2,1,0,3,1,0,0,4,1,3,0,1,1,0,2,1,1,4,1,5,2,3,0,1,4,1,0,0,2,0,0,1,1,3,0,0,1,1,0,2,0,3,1,3,2,1,0,1,1,0,4,1,1,1,1,1,1,1,2,0,1,3,0,2,2,1,3,3,1,0,2,2,4,1,3,2,1,2,2,0,2,1,2,3,2,1,1,1,0,1,0,0,2,2,0,0,0,0,3,1,0,2,1,1,3,1,0,0,1,3,2,1,2,0,0,1,2,3,0,3,0,1,1,1,0,1,1,1,1,2,0,1,2,4,0,0,0,2,0,0,1,2,1,0,2,1,1,1,0,0,1,0,2,1,1,2,1,1,3,4,2,0,1,1,0,1,4,0,1,1,0,0,0,1,1,3,0,1,1,1,0,0,1,1,3,2,2,0,1,2,0,3,2,1,1,1,0,3,0,1,0,1,2,1,1,2,0,3,4,1,2,2,1,2,3,0,3,0,0,1,1,0,2,1,4,3,2,1,2,1,0,0,1,3,0,0,1,1,1,2,1,3,1,3,1,2,0,0,1,1,0,4,1,1,2,1,1,2,1,1,0,1,0,3,0,3,1,0,0,2,2,1,0,1,2,2,0,2,3,5,0,1,2,0,1,2,0,1,0,2,0,2,2,1,1,1,1,3,2,3,0,0,0,1,1,0,2,2,1,3,0,3,4,1,4,2,0,0,0,0,1,1,1,0,0,2,1,2,2,0,3,1,0,1,0,1,1,1,1,1,1,0,1,0,3,2,0,0,1,3,2,1,3,1,0,1,1,0,1,0,1,0,3,0,1,1,0,1,0,1,1,1,0,2,0,0,1,0,0,0,2,3,0,3,0,0,2,1,3,0,3,0,2,0,2,0,2,2,2,0,1,0,1,2,1,0,1,1,2,0,2,0,0,0,4,1,2,1,0,1,0,1,2,2,1,0,0,2,3,3,1,0,1,0,2,2,0,2,2,0,2,2,2,1,1,1,2,3,0,4,2,5,1,0,0,2,2,0,0,1,0,1,2,0,1,0,2,3,2,0,1,0,0,1,1,2,0,3,1,2,2,3,4,1,0,1,0,3,0,2,1,2,0,1,0,0,1,2,0,1,1,2,1,1,1,0,3,2,0,2,0,1,2,2,2,2,0,3,0,1,0,0,1,1,2,1,2,0,0,2,0,1,1,1,2,0,2,2,3,0,1,0,0,1,2,0,1,2,2,1,2,3,2,4,1,0,3,1,1,0,0,2,1,0,0,1,0,0,0,1,0,0,1,3,1,1,3,0,2,0,3,1,2,1,0,2,2,0,2,2,0,1,3,0,2,3,1,1,0,0,1,0,1,2,0,1,0,2,2,0,2,2,0,2,0,0,1,0,1,0,1,2,0,1,3,3,2,0,1,1,1,1,1,2,2,2,0,1,1,1,1,1,2,2,1,0,1,0,1,0,1,0,3,0,2,0,2,0,0,1,1,1,3,1,2,0,0,0,1,0,0,0,1,2,1,1,1,1,2,1,2,3,0,0,1,2,0,3,1,1,2,0,2,1,2,1,1,1,2,1,0,0,0,1,2,0,2,0,1,1,2,0,2,0,0,0,1,2,1,2,1,1,0,3,1,1,2,0,1,3,0,2,0,1,1,1,0,3,3,1,2,2,2,2,0,2,0,2,0,2,2,2,1,0,3,4,0,3,0,2,3,2,2,1,2,2,0,0,1,0,2,1,2,1,3,0,2,0,1,1,0,0,0,4,1,2,1,2,1,0,2,0,2,1,4,1,2,3,0,0,0,0,0,0,1,1,0,1,0,0,0,2,2,3,2,0,0,0,0,2,3,1,0,0,1,2,1,0,1,1,2,1,1,3,1,2,1,1,2,0,1,1,2,1,1,2,0,1,2,2,2,1,0,1,0,2,1,3,0,0,0,2,2,0,3,0,1,1,1,1,0,1,3,0,0,0,4,0,3,1,0,2,2,1,0,1,1,1,0,1,1,1,1,2,1,2,0,1,0,1,1,1,1,1,0,0,2,1,1,1,1,2,1,2,1,1,3,3,2,1,2,2,1,0,0,3,0,2,1,3,0,0,0,1,0,0,0,1,1,4,0,1,0,1,3,2,0,0,3,1,1,1,0,1,2,1,0,1,0,2,0,1,2,1,0,1,3,0,1,1,4,0,1,0,4,2,0,2,2,1,0,1,0,2,1,2,2,0,1,1,1,0,2,4,0,2,1,2,2,3,1,2,2,0,2,1,2,4,3,1,0,0,3,4,1,3,2,2,1,1,0,0,0,1,1,0,0,0,0,2,3,0,1,1,1,2,0,1,0,3,2,1,1,0,1,0,2,1,2,2,3,0,2,1,2,0,0,1,2,1,1,1,3,0,0,0,1,0,1,2,1,2,0,3,1,0,0,0,1,2,0,0,2,0,5,3,0,2,1,2,0,0,0,2,1,0,1,3,2,1,0,2,1,1,1,1,2,0,1,4,2,2,0,0,1,2,0,2,3,1,0,1,1,0,2,1,0,2,1,0,2,1,0,4,1,0,2,0,0,5,2,1,1,1,1,1,0,0,0,2,0,3,2,1,0,0,3,2,1,1,1,1,1,2,2,0,3,1,1,2,0,1,3,1,0,2,0,1,4,0,0,0,0,0,0,0,1,3,1,2,0,1,1,0,0,1,1,1,0,0,4,0,1,1,2,0,0,1,1,4,2,1,1,0,2,2,0,0,1,0,2,1,1,1,4,1,2,2,1,0,1,1,1,0,2,2,3,0,0,1,0,0,1,1,2,0,2,0,1,2,3,0,0,0,1,1,1,1,3,1,1,1,1,0,2,2,2,2,2,1,1,2,1,0,0,0,3,2,5,2,2,0,1,1,0,2,2,4,1,0,0,2,1,1,0,4,0,1,0,0,0,1,1,1,2,1,2,1,1,0,1,1,1,1,2,1,2,0,2,2,0,0,2,2,1,4,1,0,0,1,1,0,1,1,2,0,1,1,1,1,0,1,1,1,2,2,3,2,1,0,0,0,2,1,1,0,0,3,3,3,0,0,2,0,2,1,2,0,0,2,0,1,1,3,2,1,0,6,0,0,1,3,2,1,2,0,4,1,2,2,1,1,0,1,4,0,0,1,0,3,1,1,0,1,0,1,2,1,3,3,2,0,2,5,2,2,2,2,0,1,2,1,0,3,2,2,1,0,2,1,1,2,3,3,1,1,1,0,1,2,0,1,1,1,2,1,1,2,2,0,2,3,2,2,0,1,1,1,4,1,0,4,1,1,2,0,3,1,1,1,3,0,2,1,1,0,6,0,3,0,0,0,0,1,1,1,0,0,0,1,1,0,0,2,2,1,1,1,2,2,1,2,1,1,1,0,1,1,1,0,1,1,1,1,1,0,1,2,0,0,0,1,0,2,4,0,0,1,1,1,2,2,1,2,2,0,1,2,0,2,1,0,3,2,0,2,0,2,1,2,3,0,3,2,0,3,1,1,2,1,1,0,2,1,2,0,1,0,2,1,1,1,0,2,0,1,2,2,2,2,2,2,1,1,1,0,3,1,1,2,0,1,1,0,0,4,1,0,2,2,0,3,0,0,2,1,0,1,3,1,0,0,0,2,0,1,1,4,1,1,3,1,0,1,0,1,4,1,3,1,2,0,1,1,2,1,5,0,1,1,0,1,0,1,0,0,2,1,0,3,2,1,0,1,1,1,1,1,3,0,1,0,2,1,2,3,1]},{\"axis\":{\"matches\":true},\"label\":\"\\u0421\\u0442\\u0440\\u0430\\u0445\\u043e\\u0432\\u044b\\u0435<br>\\u0432\\u044b\\u043f\\u043b\\u0430\\u0442\\u044b\",\"values\":[0,1,0,0,0,1,0,0,0,0,0,0,0,0,0,0,0,0,1,0,0,0,0,0,0,1,0,0,0,0,0,0,0,0,0,0,0,0,0,0,1,0,1,0,0,0,0,1,0,0,0,0,0,0,0,1,0,0,0,0,0,0,0,0,0,0,1,0,0,0,1,0,0,0,0,1,0,0,1,0,0,0,0,0,0,0,1,0,0,1,0,0,0,0,0,2,0,0,0,0,0,2,1,0,0,0,1,0,0,0,0,0,0,0,0,0,0,2,0,0,0,0,0,0,1,0,0,0,0,0,0,0,0,0,0,0,0,0,0,0,0,0,0,0,0,0,0,0,0,0,0,0,0,0,0,0,0,0,0,0,0,0,0,0,0,0,0,0,0,0,0,0,0,0,0,0,0,3,0,0,0,1,0,0,0,0,0,0,0,0,0,0,0,0,0,0,0,1,0,0,0,0,0,0,0,0,0,0,0,0,0,0,0,1,0,0,0,0,0,0,0,1,1,0,0,0,0,0,5,0,0,0,0,0,2,3,0,0,0,0,0,0,0,0,0,0,0,0,0,0,0,0,0,0,0,0,3,0,0,0,1,0,0,1,1,0,0,0,0,0,0,0,0,0,0,0,0,0,0,0,0,0,0,0,0,1,0,0,0,0,0,0,0,0,0,0,0,0,0,0,1,0,0,0,0,0,0,0,0,0,0,1,0,0,0,0,0,0,0,0,0,0,0,0,0,0,1,0,1,0,0,0,0,0,1,0,0,0,0,2,2,0,0,0,0,0,0,0,1,0,0,0,0,0,0,1,0,1,0,0,0,2,1,1,0,0,0,0,0,0,0,0,0,0,0,1,0,0,0,0,0,0,0,0,1,0,0,0,0,0,1,0,1,0,0,0,0,0,0,0,0,0,0,0,1,0,0,0,0,0,0,0,0,1,0,0,0,0,0,0,1,0,0,0,1,0,0,0,0,0,0,0,0,0,0,1,0,0,0,0,0,0,0,0,0,0,0,0,0,0,0,0,0,0,0,0,0,0,0,0,0,1,0,2,1,1,0,0,0,0,0,0,0,0,0,0,0,0,2,0,0,0,0,0,0,0,0,0,0,0,0,0,0,0,0,0,0,0,0,0,0,0,0,0,0,0,0,0,0,0,0,0,0,0,0,0,0,0,0,0,0,0,1,0,0,0,0,0,0,0,0,0,0,0,0,0,0,0,0,0,0,0,0,1,0,0,0,0,0,0,0,0,0,0,0,0,0,0,0,1,0,0,0,0,0,0,0,0,0,1,0,0,1,1,0,0,0,0,0,1,0,0,0,0,1,1,0,0,0,0,0,0,0,0,0,0,0,1,0,0,0,0,0,0,0,0,0,0,0,0,0,0,1,0,0,0,0,0,0,0,0,0,0,0,0,0,0,0,0,0,0,0,0,1,0,0,0,0,0,0,0,3,1,0,0,0,2,0,0,0,0,0,1,0,1,0,0,0,0,0,0,2,0,0,0,0,1,0,0,0,0,0,0,0,1,0,0,0,0,0,0,0,0,0,2,0,0,0,0,0,0,0,0,0,0,0,0,0,0,0,0,1,0,0,0,1,0,0,0,0,0,1,0,0,0,0,1,0,0,0,0,0,0,2,0,0,0,0,0,0,1,0,0,0,0,0,0,0,0,0,0,0,0,0,2,0,0,0,0,0,0,0,0,0,0,0,0,0,0,0,0,0,0,0,0,0,0,0,2,0,1,0,0,0,0,0,0,0,0,0,0,0,0,0,0,0,0,0,0,0,0,0,0,0,0,0,0,0,0,0,0,0,0,0,0,0,1,0,0,0,0,0,0,0,0,0,0,0,0,0,0,0,0,0,0,0,0,0,0,0,0,0,0,0,0,0,0,0,0,0,0,1,0,0,0,0,1,2,0,0,0,0,0,0,0,0,0,0,0,2,1,0,0,1,0,0,0,0,0,0,0,0,0,0,0,0,0,0,0,0,0,0,0,0,0,0,0,0,0,0,0,0,0,0,0,0,0,0,0,0,0,0,0,0,0,1,0,0,0,0,0,0,2,0,0,0,0,0,0,0,0,0,0,0,0,0,0,0,0,0,0,0,0,0,0,0,1,0,0,0,0,0,0,0,2,0,0,0,0,0,0,0,0,0,1,0,0,0,0,0,0,0,0,0,0,0,0,0,0,0,1,0,0,0,0,0,0,0,0,1,0,0,2,1,0,0,0,0,0,0,0,0,0,0,0,0,0,0,0,0,0,0,0,0,0,0,0,0,0,0,0,0,0,1,0,0,0,0,0,0,0,0,0,1,0,0,0,0,0,0,0,0,0,0,0,0,0,2,0,0,1,0,0,0,0,1,0,0,0,0,0,1,0,0,2,0,0,1,0,0,0,0,3,1,0,0,0,0,1,0,0,2,0,1,0,0,0,0,0,0,0,1,0,0,0,0,0,0,0,0,1,0,0,0,0,0,1,0,0,0,0,0,0,0,0,0,0,0,0,0,0,0,0,0,1,0,0,0,0,1,0,0,0,1,0,0,3,0,1,0,0,0,0,0,0,0,0,0,0,0,0,0,0,2,0,0,0,0,0,0,0,0,0,0,0,0,0,0,0,0,0,0,0,0,0,0,0,2,0,0,0,0,0,0,0,1,0,0,0,0,0,1,0,0,0,0,0,0,0,0,0,0,0,0,1,0,0,0,0,0,0,0,0,0,0,2,0,0,0,0,0,0,0,0,0,3,0,0,0,0,2,0,1,0,0,1,0,2,0,1,0,0,0,0,0,1,0,0,1,0,0,0,0,0,0,0,2,0,0,0,0,0,0,0,0,0,0,0,0,0,0,0,0,1,0,0,0,0,0,0,0,0,0,0,0,0,0,0,2,1,2,0,1,0,0,0,0,0,0,0,0,0,0,0,0,0,0,0,1,0,0,0,0,1,0,0,0,0,0,0,0,0,0,0,0,1,0,0,0,0,0,0,1,0,0,0,0,0,1,0,0,0,2,0,0,0,0,0,0,0,0,1,2,0,0,0,0,0,0,0,0,1,0,0,0,0,0,0,0,0,0,0,0,0,0,0,0,1,0,0,0,1,0,0,0,0,0,0,0,0,0,0,0,0,0,0,0,0,1,0,0,0,0,0,0,0,0,0,0,0,1,0,0,0,1,0,0,0,0,0,0,0,0,0,2,0,0,2,0,0,0,0,0,0,0,0,0,0,1,0,0,0,0,0,0,0,0,0,1,0,0,0,0,0,0,0,0,0,0,0,0,3,0,0,3,0,0,0,0,0,0,0,0,0,0,0,0,1,0,0,0,0,0,0,0,0,0,0,0,0,1,0,1,0,0,0,2,0,0,1,0,0,0,0,0,0,0,0,0,0,0,0,0,0,0,0,0,0,0,2,0,0,0,0,0,0,0,0,0,0,0,0,0,0,0,0,0,0,0,0,0,0,0,0,0,0,1,0,0,0,0,0,0,0,0,0,0,0,0,0,0,1,0,0,0,0,0,0,0,0,0,0,0,0,0,0,0,0,4,0,0,0,0,0,0,0,0,0,0,0,0,0,0,0,0,0,0,0,0,0,0,0,0,0,0,0,0,0,0,1,0,0,0,0,0,0,0,0,0,0,0,1,0,0,0,0,2,0,0,0,0,0,0,0,0,0,0,0,0,0,0,0,0,0,0,0,0,0,0,0,0,0,0,0,0,0,0,1,0,0,0,0,0,0,1,0,0,0,0,0,0,0,0,0,0,0,0,0,0,0,0,0,1,0,1,0,0,0,0,0,0,0,0,0,1,0,0,0,0,0,0,0,2,0,0,0,0,0,0,0,0,0,0,0,0,0,0,0,0,0,0,0,0,0,1,0,0,0,0,0,0,0,0,0,0,0,0,0,0,0,0,0,0,0,0,0,0,0,0,0,0,0,0,0,0,0,1,0,0,1,0,0,0,0,0,0,0,1,0,0,0,0,0,0,0,0,0,0,0,0,0,0,0,0,0,0,0,0,2,0,0,0,0,0,0,1,0,0,0,0,0,0,0,0,0,0,0,0,0,0,1,0,2,0,0,1,0,0,0,0,0,0,0,0,0,0,1,0,0,0,1,0,0,0,0,1,0,0,1,0,0,0,0,2,0,2,1,0,0,0,0,0,1,0,0,0,0,0,0,0,1,0,0,0,0,2,0,0,0,0,0,0,0,1,0,0,1,0,0,0,0,0,0,0,0,0,0,0,0,0,0,0,0,0,1,0,0,0,0,0,0,0,0,0,0,0,0,0,0,0,0,0,0,0,0,0,0,0,0,0,0,0,1,0,0,0,2,1,0,0,0,0,0,0,0,1,0,0,0,2,0,0,2,0,0,1,0,0,0,0,0,0,0,1,0,0,0,0,0,0,1,1,2,0,0,0,0,0,0,0,0,0,0,0,0,0,0,0,0,0,0,0,0,0,0,0,1,0,1,0,0,0,0,0,0,0,0,0,0,0,0,0,0,0,0,1,1,0,0,0,0,0,0,0,0,0,0,1,0,0,0,0,0,0,0,0,1,0,0,0,0,0,0,0,0,0,0,0,0,0,0,0,0,0,0,0,0,0,0,0,0,0,0,0,0,0,0,1,0,0,0,0,2,1,0,0,1,0,0,0,0,0,0,0,0,0,0,0,0,0,1,0,0,0,0,0,0,1,0,0,0,0,0,0,0,0,1,0,0,0,0,0,0,0,0,0,0,0,0,0,0,0,0,0,0,0,0,0,0,0,0,0,0,0,0,0,0,0,0,0,0,0,0,0,0,0,0,0,1,1,0,2,0,0,0,0,0,0,0,0,0,0,0,0,0,0,1,0,0,0,1,0,0,0,0,3,0,0,0,0,0,0,0,0,0,0,0,0,0,0,0,0,0,0,0,0,0,0,0,0,0,0,0,0,0,0,0,0,0,0,0,0,0,0,0,0,0,0,0,0,0,0,0,0,0,1,1,0,2,0,0,0,0,0,1,1,0,0,0,0,0,0,0,0,2,0,0,1,1,0,0,0,0,0,0,0,0,0,0,0,4,0,0,0,0,0,0,0,0,0,2,0,0,2,0,1,0,0,0,0,0,0,0,0,0,0,0,0,1,0,0,1,0,0,0,0,0,0,2,0,0,0,0,0,1,0,0,0,0,0,0,0,0,0,1,0,0,0,1,1,1,0,0,0,0,0,0,0,0,0,0,2,1,0,0,0,2,0,0,0,0,0,1,0,0,1,0,0,0,0,0,0,0,1,0,0,0,0,0,0,1,0,0,1,0,0,0,0,0,1,0,1,1,0,2,0,0,1,0,0,0,1,0,0,0,0,0,0,0,0,0,0,0,0,0,0,0,0,0,0,0,0,0,0,0,0,0,0,0,0,0,0,0,0,0,0,0,0,1,0,0,0,0,0,0,0,0,1,1,0,0,0,0,0,0,0,0,0,0,0,0,1,0,0,0,0,0,1,0,0,0,0,0,0,1,0,0,2,0,1,0,0,0,0,0,0,0,0,0,0,0,0,0,0,2,0,0,0,0,0,0,0,1,0,0,0,0,0,0,2,0,0,0,0,0,0,0,0,0,2,0,0,0,0,0,0,0,0,0,1,0,1,0,1,1,0,0,0,0,0,0,0,0,0,0,2,0,0,0,0,0,2,0,0,0,0,0,1,0,0,0,0,0,0,0,0,0,0,0,1,0,0,0,0,0,1,0,0,0,0,0,0,0,0,0,1,0,0,0,0,0,0,1,0,0,0,0,0,0,1,0,0,0,0,0,0,0,1,0,0,0,0,0,0,2,0,0,0,0,0,0,0,0,0,0,0,0,0,0,0,0,1,0,0,0,0,0,0,0,0,0,0,0,0,0,0,0,2,0,0,1,0,0,0,0,0,0,0,0,0,0,0,0,0,0,0,0,0,0,0,0,0,0,0,0,0,0,0,0,2,0,0,0,0,0,0,0,0,0,0,1,0,0,0,0,0,1,0,1,0,0,0,0,0,0,0,0,0,0,0,0,1,0,0,0,0,0,0,0,0,0,0,0,0,0,0,0,0,0,0,0,0,0,0,0,0,0,0,0,0,0,0,0,0,0,0,0,0,0,0,0,0,0,0,0,0,0,0,0,0,0,0,0,0,0,0,0,0,0,0,0,0,0,1,0,0,0,0,0,0,0,0,0,0,0,0,0,0,0,0,0,0,0,0,0,0,0,0,0,1,0,1,0,1,0,0,0,0,0,0,0,0,0,0,1,0,0,0,0,0,0,0,0,0,0,0,0,0,0,0,1,0,0,0,0,0,0,0,1,0,0,0,2,0,0,1,0,0,0,0,0,0,1,0,0,0,0,0,2,0,0,1,0,0,0,0,0,0,0,0,0,0,0,0,2,0,0,0,0,0,0,0,0,0,0,0,0,0,1,0,0,0,0,0,0,1,0,0,0,0,1,0,0,0,0,0,0,0,0,2,0,0,0,0,0,0,0,0,0,0,0,0,0,2,0,0,0,0,0,0,0,1,0,0,0,0,0,0,0,0,0,0,1,0,0,0,0,0,0,0,0,0,1,0,0,0,0,0,0,0,0,0,0,1,0,1,0,0,0,0,0,0,0,0,0,0,0,0,0,0,0,0,1,0,0,0,0,0,0,0,0,0,0,0,1,0,0,0,0,0,0,0,0,0,0,1,0,0,0,0,0,0,1,1,0,0,0,0,0,0,0,0,0,0,0,0,0,0,0,0,0,0,1,0,0,0,0,0,0,0,0,0,0,0,0,0,0,0,1,0,0,0,0,0,0,0,0,0,0,0,0,0,0,2,0,0,0,0,0,0,0,1,0,0,0,0,0,1,0,0,0,0,0,2,0,0,0,0,0,0,1,0,0,0,0,3,1,0,0,0,0,0,0,0,0,0,0,0,0,0,0,0,0,2,0,0,0,0,0,0,0,0,0,0,0,0,0,0,0,0,0,0,0,0,0,0,0,0,0,0,0,0,3,0,0,0,0,0,0,0,0,0,0,0,0,0,0,4,0,0,0,0,0,0,0,0,2,1,0,0,0,0,0,1,0,0,0,0,0,1,0,0,0,1,0,0,0,0,0,0,0,0,0,0,0,0,0,0,0,1,0,0,0,0,1,0,0,0,2,0,0,0,0,0,0,0,0,0,0,0,0,0,0,0,2,0,0,0,0,0,0,0,0,0,0,0,0,0,0,0,0,0,0,0,0,0,0,0,0,4,0,0,0,0,0,0,0,1,0,0,0,0,0,0,1,0,1,0,0,0,2,0,0,0,1,0,0,0,0,0,0,0,0,0,0,0,0,0,0,0,0,2,0,0,1,0,0,0,0,0,0,0,0,0,0,0,0,0,0,0,0,0,0,0,0,1,0,0,0,0,0,0,0,0,0,0,1,0,0,0,0,0,0,0,0,0,0,0,0,1,0,0,0,0,0,0,0,0,0,0,0,0,0,0,0,0,0,0,0,0,0,0,0,0,0,1,0,0,0,0,0,1,0,0,0,1,0,0,0,1,0,0,0,0,3,0,0,0,0,1,0,0,0,0,0,0,0,0,0,2,0,0,0,1,0,0,0,2,2,1,0,0,0,0,0,0,0,0,0,0,0,0,0,1,0,0,0,1,0,0,0,0,0,0,0,0,0,1,0,0,0,0,0,0,0,0,0,0,0,0,0,0,0,1,0,0,1,0,0,0,0,0,0,1,0,0,0,0,0,0,0,1,0,0,0,0,1,0,0,0,0,0,0,0,0,0,0,0,0,0,0,1,0,0,0,0,2,0,0,2,0,0,0,0,1,0,0,0,0,0,0,1,0,0,0,1,0,0,1,0,0,0,0,0,0,3,0,0,0,0,0,0,0,0,0,0,0,1,0,0,0,1,0,0,0,0,0,0,1,0,0,0,0,0,0,0,1,0,0,0,0,0,0,0,0,2,0,0,0,2,0,0,0,0,0,0,1,0,0,0,0,1,0,0,0,0,0,0,0,0,0,0,0,0,0,0,1,0,0,0,0,0,1,0,0,0,1,0,0,0,0,0,0,0,0,0,0,0,1,0,0,0,0,0,0,0,0,0,0,1,0,0,0,0,0,0,0,0,0,0,1,0,1,1,1,0,0,1,0,1,0,0,0,0,0,0,0,0,0,0,0,0,0,0,0,0,0,0,0,0,0,0,0,0,0,0,0,0,0,0,0,0,0,0,0,0,2,0,0,0,0,0,0,0,0,0,0,0,0,0,0,0,0,0,0,0,0,1,0,0,0,1,0,0,4,0,1,1,0,1,0,0,0,0,0,0,0,0,0,0,0,0,0,0,0,0,0,0,0,0,0,0,0,0,0,0,0,0,0,0,0,0,0,0,0,0,0,0,0,2,0,0,0,0,0,0,0,0,0,0,0,0,0,0,0,0,0,0,0,1,0,0,0,0,0,0,0,0,0,0,0,0,0,0,0,0,0,0,0,0,1,0,0,0,0,0,0,0,0,0,0,0,0,0,1,0,0,0,0,0,0,0,0,0,0,0,0,0,1,0,1,0,0,0,0,0,0,0,0,0,0,1,0,0,0,0,0,0,0,0,0,0,0,0,0,0,0,0,0,0,0,0,0,0,0,0,1,1,0,0,0,0,2,0,0,0,0,0,1,0,0,0,0,1,0,0,0,0,0,0,0,0,0,0,0,0,1,0,0,0,0,0,0,0,0,0,0,0,0,0,1,0,0,0,0,0,0,0,0,0,0,0,0,0,0,0,0,0,0,0,0,0,1,1,0,0,0,0,0,0,0,0,0,0,0,0,0,4,0,0,0,0,0,0,0,1,0,1,0,0,0,0,0,0,0,0,0,0,0,0,0,0,0,0,0,0,0,0,0,0,0,0,0,0,0,0,1,0,0,0,0,0,0,0,0,1,0,1,0,0,0,0,0,0,0,0,0,0,0,0,0,1,0,0,0,0,0,0,0,0,0,0,0,0,0,0,0,0,0,0,0,0,0,0,0,0,2,0,0,0,0,0,0,0,0,0,0,0,0,0,3,0,0,0,0,0,0,0,0,4,0,0,0,0,0,0,0,0,1,0,0,1,0,1,0,0,0,1,0,0,0,0,0,0,0,0,0,0,0,0,0,0,0,0,1,0,0,1,1,0,0,0,0,0,0,0,0,0,0,0,0,0,0,0,1,0,0,0,0,0,0,0,0,0,0,0,0,0,0,0,0,0,0,0,0,0,0,0,0,0,0,0,0,0,0,0,1,1,0,0,0,0,0,0,0,0,0,0,0,0,0,0,0,0,0,0,0,0,0,0,1,0,0,0,0,1,1,0,0,0,0,0,2,0,0,0,0,0,0,0,0,0,0,0,0,0,0,0,0,0,0,0,1,0,0,0,0,0,0,0,0,1,0,0,0,0,0,0,0,0,0,0,0,0,0,0,0,0,0,0,2,0,0,0,0,1,0,1,0,2,0,0,0,0,0,0,0,0,1,0,0,0,0,0,0,0,0,0,0,0,0,0,0,0,0,1,0,0,0,0,0,2,0,0,0,0,0,1,0,0,0,0,0,0,0,0,0,0,0,0,0,0,1,0,0,0,0,0,0,0,0,0,1,1,1,0,0,0,0,0,0,0,1,0,0,0,0,0,0,0,0,0,0,0,0,0,0,0,1,0,0,0,0,0,0,1,0,0,1,0,0,0,0,0,0,0,0,0,1,0,1,0,0,0,0,1,0,0,0,0,0,0,1,0,0,0,0,0,0,1,0,0,0,0,0,0,0,0,0,1,0,0,0,0,0,0,0,0,0,0,0,0,0,0,0,0,0,0,0,1,0,0,1,0,0,0,0,0,3,0,0,0,0,2,0,0,0,0,1,0,1,0,0,0,0,0,0,0,0,0,0,0,0,0,0,0,0,0,0,0,0,0,0,0,0,0,0,0,0,3,0,0,0,0,0,0,2,0,0,0,0,0,0,0,0,0,0,1,1,0,0,0,2,0,0,0,0,0,0,0,1,0,0,0,0,0,0,0,1,0,0,0,1,0,0,0,0,0,0,0,0,1,0,0,0,0,0,1,1,0,0,0,0,0,0,0,0,1,1,0,0,0,0,0,0,0,0,1,0,1,0,1,0,1,1,0,0,0,0,0,0,0,0,2,0,0,0,0,0,1,0,0,0,1,0,0,0,0,0,0,0,0,0,0,0,0,0,0,0,0,0,0,0,0,0,0,0,0,0,0,1,0,2,0,0,0,0,0,0,0,0,0,0,0,0,2,0,0,0,0,0,0,0,0,0,0,0,0,1,1,0,0,0,0,0,0,0,0,0,0,0,0,0,0,0,0,1,0,1,0,0,0,0,0,0,0,0,0,0,0,0,0,0,0,0,0,1,0,0,0,0,1,0,0,0,0,0,0,0,0,0,0,0,0,0,0,0,0,0,0,0,0,2,0,0,0,0,0,0,0,1,0,0,0,1,0,0,3,0,0,0,0,0,0,0,0,0,0,0,0,0,1,1,0,0,0,0,0,0,1,0,0,0,0,0,0,0,0,0,0,0,2,0,0,1,0,0,0,0,0,0,1,0,0,0,0,0,0,0,0,0,0,0,0,1,0,0,0,1,0,0,0,0,0,0,0,0,0,0,0,0,0,0,0,0,0,0,0,0,0,0,1,0,0,0,1,2,0,0,0,0,0,0,0,0,0,0,1,0,0,0,0,0,0,0,0,0,1,0,0,0,0,0,1,0,1,0,0,0,0,0,2,2,1,0,0,1,0,0,0,0,0,0,0,0,0,0,0,0,0,0,0,0,0,1,0,0,0,0,0,0,2,0,0,0,0,0,0,0,0,0,0,0,0,0,0,0,0,0,0,1,0,0,0,0,0,0,0,0,0,0,0,0,0,2,0,0,0,2,0,0,0,0,0,0,0,0,1,0,0,0,0,0,0,0,0,0,0,0,0,0,0,0,0,0,0,0,0,1,1,0,0,0,0,0,0,0,0,0,0,2,0,0,1,0,0,0,0,0,0,0,0,0,0,0,0,0,0,0,0,0,0,0,0,0,0,1,0,0,0,0,0,0,0,0,0,0,0,0,0,0,0,0,1,0,1,0,0,0,2,0,0,0,0,0,0,0,0,0,0,0,2,0,0,0,0,0,0,0,0,0,0,0,0,0,0,0,0,0,1,0,0,2,0,0,0,0,0,0,0,2,0,0,0,0,0,0,0,0,1,0,0,0,0,2,0,1,0,0,0,0,0,1,0,0,0,0,0,0,0]}],\"hovertemplate\":\"%{xaxis.title.text}=%{x}<br>%{yaxis.title.text}=%{y}<extra></extra>\",\"legendgroup\":\"\",\"marker\":{\"color\":\"#636efa\",\"symbol\":\"circle\"},\"name\":\"\",\"showlegend\":false,\"type\":\"splom\"}],                        {\"template\":{\"data\":{\"histogram2dcontour\":[{\"type\":\"histogram2dcontour\",\"colorbar\":{\"outlinewidth\":0,\"ticks\":\"\"},\"colorscale\":[[0.0,\"#0d0887\"],[0.1111111111111111,\"#46039f\"],[0.2222222222222222,\"#7201a8\"],[0.3333333333333333,\"#9c179e\"],[0.4444444444444444,\"#bd3786\"],[0.5555555555555556,\"#d8576b\"],[0.6666666666666666,\"#ed7953\"],[0.7777777777777778,\"#fb9f3a\"],[0.8888888888888888,\"#fdca26\"],[1.0,\"#f0f921\"]]}],\"choropleth\":[{\"type\":\"choropleth\",\"colorbar\":{\"outlinewidth\":0,\"ticks\":\"\"}}],\"histogram2d\":[{\"type\":\"histogram2d\",\"colorbar\":{\"outlinewidth\":0,\"ticks\":\"\"},\"colorscale\":[[0.0,\"#0d0887\"],[0.1111111111111111,\"#46039f\"],[0.2222222222222222,\"#7201a8\"],[0.3333333333333333,\"#9c179e\"],[0.4444444444444444,\"#bd3786\"],[0.5555555555555556,\"#d8576b\"],[0.6666666666666666,\"#ed7953\"],[0.7777777777777778,\"#fb9f3a\"],[0.8888888888888888,\"#fdca26\"],[1.0,\"#f0f921\"]]}],\"heatmap\":[{\"type\":\"heatmap\",\"colorbar\":{\"outlinewidth\":0,\"ticks\":\"\"},\"colorscale\":[[0.0,\"#0d0887\"],[0.1111111111111111,\"#46039f\"],[0.2222222222222222,\"#7201a8\"],[0.3333333333333333,\"#9c179e\"],[0.4444444444444444,\"#bd3786\"],[0.5555555555555556,\"#d8576b\"],[0.6666666666666666,\"#ed7953\"],[0.7777777777777778,\"#fb9f3a\"],[0.8888888888888888,\"#fdca26\"],[1.0,\"#f0f921\"]]}],\"heatmapgl\":[{\"type\":\"heatmapgl\",\"colorbar\":{\"outlinewidth\":0,\"ticks\":\"\"},\"colorscale\":[[0.0,\"#0d0887\"],[0.1111111111111111,\"#46039f\"],[0.2222222222222222,\"#7201a8\"],[0.3333333333333333,\"#9c179e\"],[0.4444444444444444,\"#bd3786\"],[0.5555555555555556,\"#d8576b\"],[0.6666666666666666,\"#ed7953\"],[0.7777777777777778,\"#fb9f3a\"],[0.8888888888888888,\"#fdca26\"],[1.0,\"#f0f921\"]]}],\"contourcarpet\":[{\"type\":\"contourcarpet\",\"colorbar\":{\"outlinewidth\":0,\"ticks\":\"\"}}],\"contour\":[{\"type\":\"contour\",\"colorbar\":{\"outlinewidth\":0,\"ticks\":\"\"},\"colorscale\":[[0.0,\"#0d0887\"],[0.1111111111111111,\"#46039f\"],[0.2222222222222222,\"#7201a8\"],[0.3333333333333333,\"#9c179e\"],[0.4444444444444444,\"#bd3786\"],[0.5555555555555556,\"#d8576b\"],[0.6666666666666666,\"#ed7953\"],[0.7777777777777778,\"#fb9f3a\"],[0.8888888888888888,\"#fdca26\"],[1.0,\"#f0f921\"]]}],\"surface\":[{\"type\":\"surface\",\"colorbar\":{\"outlinewidth\":0,\"ticks\":\"\"},\"colorscale\":[[0.0,\"#0d0887\"],[0.1111111111111111,\"#46039f\"],[0.2222222222222222,\"#7201a8\"],[0.3333333333333333,\"#9c179e\"],[0.4444444444444444,\"#bd3786\"],[0.5555555555555556,\"#d8576b\"],[0.6666666666666666,\"#ed7953\"],[0.7777777777777778,\"#fb9f3a\"],[0.8888888888888888,\"#fdca26\"],[1.0,\"#f0f921\"]]}],\"mesh3d\":[{\"type\":\"mesh3d\",\"colorbar\":{\"outlinewidth\":0,\"ticks\":\"\"}}],\"scatter\":[{\"fillpattern\":{\"fillmode\":\"overlay\",\"size\":10,\"solidity\":0.2},\"type\":\"scatter\"}],\"parcoords\":[{\"type\":\"parcoords\",\"line\":{\"colorbar\":{\"outlinewidth\":0,\"ticks\":\"\"}}}],\"scatterpolargl\":[{\"type\":\"scatterpolargl\",\"marker\":{\"colorbar\":{\"outlinewidth\":0,\"ticks\":\"\"}}}],\"bar\":[{\"error_x\":{\"color\":\"#2a3f5f\"},\"error_y\":{\"color\":\"#2a3f5f\"},\"marker\":{\"line\":{\"color\":\"#E5ECF6\",\"width\":0.5},\"pattern\":{\"fillmode\":\"overlay\",\"size\":10,\"solidity\":0.2}},\"type\":\"bar\"}],\"scattergeo\":[{\"type\":\"scattergeo\",\"marker\":{\"colorbar\":{\"outlinewidth\":0,\"ticks\":\"\"}}}],\"scatterpolar\":[{\"type\":\"scatterpolar\",\"marker\":{\"colorbar\":{\"outlinewidth\":0,\"ticks\":\"\"}}}],\"histogram\":[{\"marker\":{\"pattern\":{\"fillmode\":\"overlay\",\"size\":10,\"solidity\":0.2}},\"type\":\"histogram\"}],\"scattergl\":[{\"type\":\"scattergl\",\"marker\":{\"colorbar\":{\"outlinewidth\":0,\"ticks\":\"\"}}}],\"scatter3d\":[{\"type\":\"scatter3d\",\"line\":{\"colorbar\":{\"outlinewidth\":0,\"ticks\":\"\"}},\"marker\":{\"colorbar\":{\"outlinewidth\":0,\"ticks\":\"\"}}}],\"scattermapbox\":[{\"type\":\"scattermapbox\",\"marker\":{\"colorbar\":{\"outlinewidth\":0,\"ticks\":\"\"}}}],\"scatterternary\":[{\"type\":\"scatterternary\",\"marker\":{\"colorbar\":{\"outlinewidth\":0,\"ticks\":\"\"}}}],\"scattercarpet\":[{\"type\":\"scattercarpet\",\"marker\":{\"colorbar\":{\"outlinewidth\":0,\"ticks\":\"\"}}}],\"carpet\":[{\"aaxis\":{\"endlinecolor\":\"#2a3f5f\",\"gridcolor\":\"white\",\"linecolor\":\"white\",\"minorgridcolor\":\"white\",\"startlinecolor\":\"#2a3f5f\"},\"baxis\":{\"endlinecolor\":\"#2a3f5f\",\"gridcolor\":\"white\",\"linecolor\":\"white\",\"minorgridcolor\":\"white\",\"startlinecolor\":\"#2a3f5f\"},\"type\":\"carpet\"}],\"table\":[{\"cells\":{\"fill\":{\"color\":\"#EBF0F8\"},\"line\":{\"color\":\"white\"}},\"header\":{\"fill\":{\"color\":\"#C8D4E3\"},\"line\":{\"color\":\"white\"}},\"type\":\"table\"}],\"barpolar\":[{\"marker\":{\"line\":{\"color\":\"#E5ECF6\",\"width\":0.5},\"pattern\":{\"fillmode\":\"overlay\",\"size\":10,\"solidity\":0.2}},\"type\":\"barpolar\"}],\"pie\":[{\"automargin\":true,\"type\":\"pie\"}]},\"layout\":{\"autotypenumbers\":\"strict\",\"colorway\":[\"#636efa\",\"#EF553B\",\"#00cc96\",\"#ab63fa\",\"#FFA15A\",\"#19d3f3\",\"#FF6692\",\"#B6E880\",\"#FF97FF\",\"#FECB52\"],\"font\":{\"color\":\"#2a3f5f\"},\"hovermode\":\"closest\",\"hoverlabel\":{\"align\":\"left\"},\"paper_bgcolor\":\"white\",\"plot_bgcolor\":\"#E5ECF6\",\"polar\":{\"bgcolor\":\"#E5ECF6\",\"angularaxis\":{\"gridcolor\":\"white\",\"linecolor\":\"white\",\"ticks\":\"\"},\"radialaxis\":{\"gridcolor\":\"white\",\"linecolor\":\"white\",\"ticks\":\"\"}},\"ternary\":{\"bgcolor\":\"#E5ECF6\",\"aaxis\":{\"gridcolor\":\"white\",\"linecolor\":\"white\",\"ticks\":\"\"},\"baxis\":{\"gridcolor\":\"white\",\"linecolor\":\"white\",\"ticks\":\"\"},\"caxis\":{\"gridcolor\":\"white\",\"linecolor\":\"white\",\"ticks\":\"\"}},\"coloraxis\":{\"colorbar\":{\"outlinewidth\":0,\"ticks\":\"\"}},\"colorscale\":{\"sequential\":[[0.0,\"#0d0887\"],[0.1111111111111111,\"#46039f\"],[0.2222222222222222,\"#7201a8\"],[0.3333333333333333,\"#9c179e\"],[0.4444444444444444,\"#bd3786\"],[0.5555555555555556,\"#d8576b\"],[0.6666666666666666,\"#ed7953\"],[0.7777777777777778,\"#fb9f3a\"],[0.8888888888888888,\"#fdca26\"],[1.0,\"#f0f921\"]],\"sequentialminus\":[[0.0,\"#0d0887\"],[0.1111111111111111,\"#46039f\"],[0.2222222222222222,\"#7201a8\"],[0.3333333333333333,\"#9c179e\"],[0.4444444444444444,\"#bd3786\"],[0.5555555555555556,\"#d8576b\"],[0.6666666666666666,\"#ed7953\"],[0.7777777777777778,\"#fb9f3a\"],[0.8888888888888888,\"#fdca26\"],[1.0,\"#f0f921\"]],\"diverging\":[[0,\"#8e0152\"],[0.1,\"#c51b7d\"],[0.2,\"#de77ae\"],[0.3,\"#f1b6da\"],[0.4,\"#fde0ef\"],[0.5,\"#f7f7f7\"],[0.6,\"#e6f5d0\"],[0.7,\"#b8e186\"],[0.8,\"#7fbc41\"],[0.9,\"#4d9221\"],[1,\"#276419\"]]},\"xaxis\":{\"gridcolor\":\"white\",\"linecolor\":\"white\",\"ticks\":\"\",\"title\":{\"standoff\":15},\"zerolinecolor\":\"white\",\"automargin\":true,\"zerolinewidth\":2},\"yaxis\":{\"gridcolor\":\"white\",\"linecolor\":\"white\",\"ticks\":\"\",\"title\":{\"standoff\":15},\"zerolinecolor\":\"white\",\"automargin\":true,\"zerolinewidth\":2},\"scene\":{\"xaxis\":{\"backgroundcolor\":\"#E5ECF6\",\"gridcolor\":\"white\",\"linecolor\":\"white\",\"showbackground\":true,\"ticks\":\"\",\"zerolinecolor\":\"white\",\"gridwidth\":2},\"yaxis\":{\"backgroundcolor\":\"#E5ECF6\",\"gridcolor\":\"white\",\"linecolor\":\"white\",\"showbackground\":true,\"ticks\":\"\",\"zerolinecolor\":\"white\",\"gridwidth\":2},\"zaxis\":{\"backgroundcolor\":\"#E5ECF6\",\"gridcolor\":\"white\",\"linecolor\":\"white\",\"showbackground\":true,\"ticks\":\"\",\"zerolinecolor\":\"white\",\"gridwidth\":2}},\"shapedefaults\":{\"line\":{\"color\":\"#2a3f5f\"}},\"annotationdefaults\":{\"arrowcolor\":\"#2a3f5f\",\"arrowhead\":0,\"arrowwidth\":1},\"geo\":{\"bgcolor\":\"white\",\"landcolor\":\"#E5ECF6\",\"subunitcolor\":\"white\",\"showland\":true,\"showlakes\":true,\"lakecolor\":\"white\"},\"title\":{\"x\":0.05},\"mapbox\":{\"style\":\"light\"}}},\"legend\":{\"tracegroupgap\":0},\"margin\":{\"t\":60},\"dragmode\":\"select\"},                        {\"responsive\": true}                    ).then(function(){\n",
       "                            \n",
       "var gd = document.getElementById('72a58065-ce00-49e4-9b5a-f754ca2d4cb1');\n",
       "var x = new MutationObserver(function (mutations, observer) {{\n",
       "        var display = window.getComputedStyle(gd).display;\n",
       "        if (!display || display === 'none') {{\n",
       "            console.log([gd, 'removed!']);\n",
       "            Plotly.purge(gd);\n",
       "            observer.disconnect();\n",
       "        }}\n",
       "}});\n",
       "\n",
       "// Listen for the removal of the full notebook cells\n",
       "var notebookContainer = gd.closest('#notebook-container');\n",
       "if (notebookContainer) {{\n",
       "    x.observe(notebookContainer, {childList: true});\n",
       "}}\n",
       "\n",
       "// Listen for the clearing of the current output cell\n",
       "var outputEl = gd.closest('.output');\n",
       "if (outputEl) {{\n",
       "    x.observe(outputEl, {childList: true});\n",
       "}}\n",
       "\n",
       "                        })                };                            </script>        </div>\n",
       "</body>\n",
       "</html>"
      ]
     },
     "metadata": {},
     "output_type": "display_data"
    },
    {
     "name": "stdout",
     "output_type": "stream",
     "text": [
      "\n",
      "Корреляция между признаками:\n",
      "\n"
     ]
    },
    {
     "data": {
      "text/html": [
       "<style type=\"text/css\">\n",
       "#T_b8f74_row0_col0, #T_b8f74_row1_col1, #T_b8f74_row2_col2, #T_b8f74_row3_col3, #T_b8f74_row4_col4 {\n",
       "  background-color: #b40426;\n",
       "  color: #f1f1f1;\n",
       "}\n",
       "#T_b8f74_row0_col1, #T_b8f74_row2_col4 {\n",
       "  background-color: #4055c8;\n",
       "  color: #f1f1f1;\n",
       "}\n",
       "#T_b8f74_row0_col2, #T_b8f74_row0_col4 {\n",
       "  background-color: #485fd1;\n",
       "  color: #f1f1f1;\n",
       "}\n",
       "#T_b8f74_row0_col3, #T_b8f74_row2_col0 {\n",
       "  background-color: #4257c9;\n",
       "  color: #f1f1f1;\n",
       "}\n",
       "#T_b8f74_row1_col0, #T_b8f74_row1_col2 {\n",
       "  background-color: #3d50c3;\n",
       "  color: #f1f1f1;\n",
       "}\n",
       "#T_b8f74_row1_col3 {\n",
       "  background-color: #4358cb;\n",
       "  color: #f1f1f1;\n",
       "}\n",
       "#T_b8f74_row1_col4 {\n",
       "  background-color: #f7b99e;\n",
       "  color: #000000;\n",
       "}\n",
       "#T_b8f74_row2_col1, #T_b8f74_row3_col0, #T_b8f74_row3_col2, #T_b8f74_row3_col4, #T_b8f74_row4_col3 {\n",
       "  background-color: #3b4cc0;\n",
       "  color: #f1f1f1;\n",
       "}\n",
       "#T_b8f74_row2_col3 {\n",
       "  background-color: #3c4ec2;\n",
       "  color: #f1f1f1;\n",
       "}\n",
       "#T_b8f74_row3_col1, #T_b8f74_row4_col2 {\n",
       "  background-color: #3e51c5;\n",
       "  color: #f1f1f1;\n",
       "}\n",
       "#T_b8f74_row4_col0 {\n",
       "  background-color: #3f53c6;\n",
       "  color: #f1f1f1;\n",
       "}\n",
       "#T_b8f74_row4_col1 {\n",
       "  background-color: #f7ba9f;\n",
       "  color: #000000;\n",
       "}\n",
       "</style>\n",
       "<table id=\"T_b8f74\" class=\"dataframe\">\n",
       "  <thead>\n",
       "    <tr>\n",
       "      <th class=\"blank level0\" >&nbsp;</th>\n",
       "      <th id=\"T_b8f74_level0_col0\" class=\"col_heading level0 col0\" >Пол</th>\n",
       "      <th id=\"T_b8f74_level0_col1\" class=\"col_heading level0 col1\" >Возраст</th>\n",
       "      <th id=\"T_b8f74_level0_col2\" class=\"col_heading level0 col2\" >Зарплата</th>\n",
       "      <th id=\"T_b8f74_level0_col3\" class=\"col_heading level0 col3\" >Члены семьи</th>\n",
       "      <th id=\"T_b8f74_level0_col4\" class=\"col_heading level0 col4\" >Страховые выплаты</th>\n",
       "    </tr>\n",
       "  </thead>\n",
       "  <tbody>\n",
       "    <tr>\n",
       "      <th id=\"T_b8f74_level0_row0\" class=\"row_heading level0 row0\" >Пол</th>\n",
       "      <td id=\"T_b8f74_row0_col0\" class=\"data row0 col0\" >1.000000</td>\n",
       "      <td id=\"T_b8f74_row0_col1\" class=\"data row0 col1\" >0.002074</td>\n",
       "      <td id=\"T_b8f74_row0_col2\" class=\"data row0 col2\" >0.014910</td>\n",
       "      <td id=\"T_b8f74_row0_col3\" class=\"data row0 col3\" >-0.008991</td>\n",
       "      <td id=\"T_b8f74_row0_col4\" class=\"data row0 col4\" >0.010140</td>\n",
       "    </tr>\n",
       "    <tr>\n",
       "      <th id=\"T_b8f74_level0_row1\" class=\"row_heading level0 row1\" >Возраст</th>\n",
       "      <td id=\"T_b8f74_row1_col0\" class=\"data row1 col0\" >0.002074</td>\n",
       "      <td id=\"T_b8f74_row1_col1\" class=\"data row1 col1\" >1.000000</td>\n",
       "      <td id=\"T_b8f74_row1_col2\" class=\"data row1 col2\" >-0.019093</td>\n",
       "      <td id=\"T_b8f74_row1_col3\" class=\"data row1 col3\" >-0.006692</td>\n",
       "      <td id=\"T_b8f74_row1_col4\" class=\"data row1 col4\" >0.651030</td>\n",
       "    </tr>\n",
       "    <tr>\n",
       "      <th id=\"T_b8f74_level0_row2\" class=\"row_heading level0 row2\" >Зарплата</th>\n",
       "      <td id=\"T_b8f74_row2_col0\" class=\"data row2 col0\" >0.014910</td>\n",
       "      <td id=\"T_b8f74_row2_col1\" class=\"data row2 col1\" >-0.019093</td>\n",
       "      <td id=\"T_b8f74_row2_col2\" class=\"data row2 col2\" >1.000000</td>\n",
       "      <td id=\"T_b8f74_row2_col3\" class=\"data row2 col3\" >-0.030296</td>\n",
       "      <td id=\"T_b8f74_row2_col4\" class=\"data row2 col4\" >-0.014963</td>\n",
       "    </tr>\n",
       "    <tr>\n",
       "      <th id=\"T_b8f74_level0_row3\" class=\"row_heading level0 row3\" >Члены семьи</th>\n",
       "      <td id=\"T_b8f74_row3_col0\" class=\"data row3 col0\" >-0.008991</td>\n",
       "      <td id=\"T_b8f74_row3_col1\" class=\"data row3 col1\" >-0.006692</td>\n",
       "      <td id=\"T_b8f74_row3_col2\" class=\"data row3 col2\" >-0.030296</td>\n",
       "      <td id=\"T_b8f74_row3_col3\" class=\"data row3 col3\" >1.000000</td>\n",
       "      <td id=\"T_b8f74_row3_col4\" class=\"data row3 col4\" >-0.036290</td>\n",
       "    </tr>\n",
       "    <tr>\n",
       "      <th id=\"T_b8f74_level0_row4\" class=\"row_heading level0 row4\" >Страховые выплаты</th>\n",
       "      <td id=\"T_b8f74_row4_col0\" class=\"data row4 col0\" >0.010140</td>\n",
       "      <td id=\"T_b8f74_row4_col1\" class=\"data row4 col1\" >0.651030</td>\n",
       "      <td id=\"T_b8f74_row4_col2\" class=\"data row4 col2\" >-0.014963</td>\n",
       "      <td id=\"T_b8f74_row4_col3\" class=\"data row4 col3\" >-0.036290</td>\n",
       "      <td id=\"T_b8f74_row4_col4\" class=\"data row4 col4\" >1.000000</td>\n",
       "    </tr>\n",
       "  </tbody>\n",
       "</table>\n"
      ],
      "text/plain": [
       "<pandas.io.formats.style.Styler at 0x7f3cdd09fb50>"
      ]
     },
     "metadata": {},
     "output_type": "display_data"
    }
   ],
   "source": [
    "df_describe(data)"
   ]
  },
  {
   "cell_type": "markdown",
   "metadata": {
    "id": "VM4OT5nIqLL3"
   },
   "source": [
    "Изучив данные видим, что в них нет пропусков. Распределение данных соответствует ожидаемым. Можно отметить, что примерно после 40 лет страховые выплаты начинают расти. По остальным параметрам связь между величинами меньше. Она прослеживается, но не в виде линейной зависимости и поэтому видна на графике, но не в корреляции между признаками."
   ]
  },
  {
   "cell_type": "markdown",
   "metadata": {
    "id": "FOOo80U5zmAw"
   },
   "source": [
    "## Умножение матриц"
   ]
  },
  {
   "cell_type": "markdown",
   "metadata": {
    "id": "M_UO1mPszmAx"
   },
   "source": [
    "В этом задании вы можете записывать формулы в *Jupyter Notebook.*\n",
    "\n",
    "Чтобы записать формулу внутри текста, окружите её символами доллара \\\\$; если снаружи —  двойными символами \\\\$\\\\$. Эти формулы записываются на языке вёрстки *LaTeX.* \n",
    "\n",
    "Для примера мы записали формулы линейной регрессии. Можете их скопировать и отредактировать, чтобы решить задачу.\n",
    "\n",
    "Работать в *LaTeX* необязательно."
   ]
  },
  {
   "cell_type": "markdown",
   "metadata": {
    "id": "HwfEPYg4zmAx"
   },
   "source": [
    "Обозначения:\n",
    "\n",
    "- $X$ — матрица признаков (нулевой столбец состоит из единиц)\n",
    "\n",
    "- $y$ — вектор целевого признака\n",
    "\n",
    "- $P$ — матрица, на которую умножаются признаки\n",
    "\n",
    "- $w$ — вектор весов линейной регрессии (нулевой элемент равен сдвигу)"
   ]
  },
  {
   "cell_type": "markdown",
   "metadata": {
    "id": "SVPw9wmizmAx"
   },
   "source": [
    "Предсказания:\n",
    "\n",
    "$$\n",
    "a = Xw\n",
    "$$\n",
    "\n",
    "Задача обучения:\n",
    "\n",
    "$$\n",
    "w = \\arg\\min_w MSE(Xw, y)\n",
    "$$\n",
    "\n",
    "Формула обучения:\n",
    "\n",
    "$$\n",
    "w = (X^T X)^{-1} X^T y\n",
    "$$"
   ]
  },
  {
   "cell_type": "markdown",
   "metadata": {
    "id": "wZICncaxzmAy"
   },
   "source": [
    "**Ответ:** \n",
    "Качество линейной регрессии **не изменится** при умножении признаков на обратимую матрицу.\n",
    "\n",
    "**Обоснование:**\n",
    "\n",
    "Умножим признаки $X$ на обратимую матрицу $A$. И получим преобразованную матрицу признаков $X_r$.  То есть $X_r = XA$. В таком случае, веса $w_r$ линейной регрессии для новой преобразованной матрицы $X_r$ будут находиться по следующей формуле\n",
    "$$ \n",
    "w_r = (X_r^TX_r)^{-1} X_r^Ty\n",
    "$$\n",
    "Подставим значение $X_r$:\n",
    "$$\n",
    "w_r = ((X A)^T (X A))^{-1} (X A)^T y\n",
    "$$\n",
    "Раскроем скобки и упростим выражение:\n",
    "$$\n",
    "((XA)^T(XA))^{-1}(XA)^T y = \n",
    "$$\n",
    "$$\n",
    "(A^T X^T X A)^{-1} A^T X^T y = \n",
    "$$\n",
    "$$\n",
    "(A^T (X^T X) A)^{-1} A^T X^T y = \n",
    "$$\n",
    "$$\n",
    "A^{-1}(A^T (X^T X))^{-1} A^T X^T y = \n",
    "$$\n",
    "$$\n",
    "A^{-1}(X^TX)^{-1}(A^T)^{-1} A^T X^T y = \n",
    "$$\n",
    "$$\n",
    "A^{-1}(X^TX)^{-1}E X^T y = \n",
    "$$\n",
    "$$\n",
    "A^{-1}(X^TX)^{-1}X^T y\n",
    "$$\n",
    "Таким образом, если перемножить матрицу $X$ на обратимую матрицу $A$ тогда веса в линейной регрессии будут находится по следующей формуле:\n",
    "$$\n",
    "w_r = A^{-1}(X^T X)^{-1} X^T y\n",
    "$$\n",
    "То есть, если матрицу, обратную той на которую мы умножали признаки, умножить на веса линейной регрессии исходной задачи, то получаться веса в преобразованной задаче.\n",
    "\n",
    "Получаем, что была установлена следующая **связь между параметрами линейной регрессии в исходной задаче и в преобразованной:**\n",
    "$$\n",
    "w_r = A^{-1}w\n",
    "$$\n",
    "\n",
    "\n",
    "Проверим изменится ли качество линейной регрессии. Подставим преобразованные веса и преобразованные признаки в формулу вычисления предсказаний:\n",
    "$$\n",
    "a_r = X_rw_r\n",
    "$$\n",
    "Подставим значения признаков X_r и весов w_r:\n",
    "$$\n",
    "a_r = XAA^{-1}(X^T X)^{-1} X^T y\n",
    "$$\n",
    "$$\n",
    "a_r = XE(X^T X)^{-1} X^T y\n",
    "$$\n",
    "$$\n",
    "a_r = X(X^T X)^{-1} X^T y\n",
    "$$\n",
    "$$\n",
    "a_r = Xw = a\n",
    "$$\n",
    "Таким образом, в преобразованной задаче линейной регрессией будут сделаны те же предсказания что и в исходной задаче."
   ]
  },
  {
   "cell_type": "markdown",
   "metadata": {
    "id": "S35UZZMSzmAy"
   },
   "source": [
    "## Алгоритм преобразования"
   ]
  },
  {
   "cell_type": "markdown",
   "metadata": {
    "id": "uVrZOpi5zmAy"
   },
   "source": [
    "**Алгоритм**\n",
    "\n",
    "Чтобы защитить данные будем следовать следующему алгоритму:\n",
    "\n",
    "1. Сгенерируем случайную матрицу квадратную матрицу с размерностью равной числу признаков в обучающей матрице.\n",
    "2. Проверим, что сгенерированная случайная матрица обратима. Если получилась необратимая матрица, то возвращаемся к первому пункту и генерируем другую случайную матрицу, иначе переходим к следующему пункту алгоритма.\n",
    "3. Перемножим матрицу с признаками на случайную обратимую матрицу.\n",
    "\n",
    "После этого будет сложно восстановить исходную информацию так как, для восстановления данных нужна будет матрица, обратная этой случайной матрице. А подобрать ее перебором будет очень долго (хотя, конечно, если знать какие-то особенности распределения данных в исходной задаче то, может быть, задачу восстановления данных как-то и получится решить)"
   ]
  },
  {
   "cell_type": "markdown",
   "metadata": {
    "id": "n3vDHw1gzmAy"
   },
   "source": [
    "**Обоснование**\n",
    "\n",
    "Предложенный ваше алгоритм преобразования исходных данных не изменит качество предсказания линейной регрессии. Так как после преобразования изменятся веса линейной регрессии, но не результат предсказаний модели. Доказательство было приведено выше."
   ]
  },
  {
   "cell_type": "markdown",
   "metadata": {
    "id": "4_aZYrEPzmAy"
   },
   "source": [
    "## Проверка алгоритма"
   ]
  },
  {
   "cell_type": "markdown",
   "metadata": {
    "id": "Gz2ZobLgAfvI"
   },
   "source": [
    "### Разобьем данные на выборки"
   ]
  },
  {
   "cell_type": "code",
   "execution_count": null,
   "metadata": {
    "colab": {
     "base_uri": "https://localhost:8080/"
    },
    "id": "rwslZEx247m3",
    "outputId": "d5fb473b-f774-4b74-f36b-58dd5582bfde"
   },
   "outputs": [
    {
     "name": "stdout",
     "output_type": "stream",
     "text": [
      "(3750, 4) (3750,)\n",
      "(1250, 4) (1250,)\n"
     ]
    }
   ],
   "source": [
    "# Подготовим признаки и целевой признак\n",
    "features = data.drop(['Страховые выплаты'], axis=1)\n",
    "target = data['Страховые выплаты']\n",
    " \n",
    "#Выделим обучающую выборку: 'train' и Валидационную: 'valid'\n",
    "features_train, features_valid, target_train, target_valid = train_test_split(\n",
    "    features, target, test_size=0.25, random_state=RANDOM_STATE)\n",
    "\n",
    "# Проверим размер выборок\n",
    "print(features_train.shape, target_train.shape)\n",
    "print(features_valid.shape, target_valid.shape)"
   ]
  },
  {
   "cell_type": "markdown",
   "metadata": {
    "id": "-ZlU1M2eWjyM"
   },
   "source": [
    "### Предсказания линейной регрессии в исходной задаче"
   ]
  },
  {
   "cell_type": "code",
   "execution_count": null,
   "metadata": {
    "colab": {
     "base_uri": "https://localhost:8080/"
    },
    "id": "omaqeoEBAJF9",
    "outputId": "6b6e8d2a-b6e8-4001-da6f-829fcbf05704"
   },
   "outputs": [
    {
     "name": "stdout",
     "output_type": "stream",
     "text": [
      "Точность предсказаний линейной регресии на исходной задаче R2: 0.435227571270266\n"
     ]
    }
   ],
   "source": [
    "model = LinearRegression()\n",
    "model.fit(features_train, target_train)\n",
    "predictions = model.predict(features_valid)\n",
    "print('Точность предсказаний линейной регресии на исходной задаче R2:', r2_score(target_valid, predictions))"
   ]
  },
  {
   "cell_type": "markdown",
   "metadata": {
    "id": "8b3wCKNcaIHP"
   },
   "source": [
    "### Предсказания линейной регрессии в преобразованной задаче"
   ]
  },
  {
   "cell_type": "markdown",
   "metadata": {
    "id": "tC3NQYxccjQS"
   },
   "source": [
    "#### Матрица \"a\", для преобразования признаков"
   ]
  },
  {
   "cell_type": "code",
   "execution_count": null,
   "metadata": {
    "id": "ffrPbMOdW8il"
   },
   "outputs": [],
   "source": [
    "# Функция генерирует случайную матрицу, проверяет обратимая ли она, если да - возвращает эту матрицу,\n",
    "# если нет - генерирует новую случайную матрицу\n",
    "def get_rand_matrix(matrix_size):\n",
    "    det = 0\n",
    "    mu, sigma = 0, 0.1 # mean and standard deviation\n",
    "    # Выполняем цикл, пока не найдем обратимую матрицу\n",
    "    while det == 0:\n",
    "        # Генерируем случайную матрицу\n",
    "        matrix = np.random.normal(mu, sigma, size=(matrix_size, matrix_size))\n",
    "        # Проверяем, обратима ли матрица\n",
    "        det = np.linalg.det(matrix)\n",
    "    return matrix"
   ]
  },
  {
   "cell_type": "code",
   "execution_count": null,
   "metadata": {
    "colab": {
     "base_uri": "https://localhost:8080/"
    },
    "id": "bMhBABoCaIHP",
    "outputId": "54d74ab9-b0ae-4f3e-d13f-3141830dd74c"
   },
   "outputs": [
    {
     "name": "stdout",
     "output_type": "stream",
     "text": [
      "Матрица для преобразования признаков:\n",
      "[[-0.02047077  0.04789433 -0.05194387 -0.05557303]\n",
      " [ 0.19657806  0.13934058  0.00929079  0.02817462]\n",
      " [ 0.07690226  0.12464347  0.10071894 -0.12962211]\n",
      " [ 0.02749916  0.02289129  0.13529168  0.08864293]]\n",
      "\n",
      "Обратная матрица:\n",
      "[[-13.11367475   3.92180399   1.88680547  -6.70882866]\n",
      " [ 17.58727144   1.41061381  -1.77730453   7.97871271]\n",
      " [ -4.17026585  -2.28547676   3.55060202   3.30398187]\n",
      " [  5.89129955   1.90730265  -5.54548101   6.25930202]]\n"
     ]
    }
   ],
   "source": [
    "# Сгенерируем случайную матрицу \"a\", с помощью которой будем преобразовывать признаки\n",
    "np.random.seed(RANDOM_STATE)\n",
    "mu, sigma = 0, 0.1 # mean and standard deviation\n",
    "a = get_rand_matrix(features_train.shape[1])\n",
    "print('Матрица для преобразования признаков:')\n",
    "print(a)\n",
    "# Создаем обратную матрицу\n",
    "a_inv = np.linalg.inv(a)\n",
    "print('\\nОбратная матрица:')\n",
    "print(a_inv)"
   ]
  },
  {
   "cell_type": "markdown",
   "metadata": {
    "id": "r6Vwu7gbdfvi"
   },
   "source": [
    "#### Преобразуем признаки"
   ]
  },
  {
   "cell_type": "code",
   "execution_count": null,
   "metadata": {
    "colab": {
     "base_uri": "https://localhost:8080/"
    },
    "id": "CcgT8oM3diFJ",
    "outputId": "a9b30006-421a-479d-8963-f81a52d3ff4d"
   },
   "outputs": [
    {
     "name": "stdout",
     "output_type": "stream",
     "text": [
      "Исходные признаки:\n",
      "   Пол  Возраст  Зарплата  Члены семьи\n",
      "0    1     41.0   49600.0            1\n",
      "1    0     46.0   38000.0            1\n",
      "2    0     29.0   21000.0            0\n",
      "3    0     21.0   41700.0            2\n",
      "4    1     28.0   26100.0            0\n",
      "\n",
      "Преобразованные признаки:\n",
      "             0            1            2            3\n",
      "0  3822.418664  6188.100042  4996.123484 -6428.068472\n",
      "1  2931.355847  4742.884556  3827.882227 -4924.255539\n",
      "2  1620.648156  2621.553823  2115.367084 -2721.247265\n",
      "3  3211.007244  5200.604786  4200.445311 -5404.473072\n",
      "4  2012.632616  3257.144093  2628.972421 -3382.403779\n",
      "\n",
      "Размеры воборок:\n",
      "(3750, 4) (3750,)\n",
      "(1250, 4) (1250,)\n",
      "\n"
     ]
    }
   ],
   "source": [
    "# Перемножим признаки на случайную матрицу \"a\"\n",
    "features_r = features @ a\n",
    "\n",
    "print(\"Исходные признаки:\")\n",
    "print(features.head())\n",
    "print(\"\\nПреобразованные признаки:\")\n",
    "print(features_r.head())\n",
    " \n",
    "# Выделим обучающую выборку: 'train' и Валидационную: 'valid'\n",
    "features_train_r, features_valid_r, target_train_r, target_valid_r = train_test_split(\n",
    "    features_r, target, test_size=0.25, random_state=RANDOM_STATE)\n",
    "\n",
    "# Проверим размер выборок\n",
    "print('\\nРазмеры воборок:')\n",
    "print(features_train_r.shape, target_train_r.shape)\n",
    "print(features_valid_r.shape, target_valid_r.shape)\n",
    "print()"
   ]
  },
  {
   "cell_type": "markdown",
   "metadata": {
    "id": "gXpTFClmd0rp"
   },
   "source": [
    "Проверим качество модели на преобразованных признаках"
   ]
  },
  {
   "cell_type": "code",
   "execution_count": null,
   "metadata": {
    "colab": {
     "base_uri": "https://localhost:8080/"
    },
    "id": "om0hFTJKzmAz",
    "outputId": "ceb60f5a-8183-46de-bec0-bbfac4369c9e"
   },
   "outputs": [
    {
     "name": "stdout",
     "output_type": "stream",
     "text": [
      "Точность предсказаний линейной регресии на преобразованной задаче R2: 0.4352275712704241\n"
     ]
    }
   ],
   "source": [
    "model = LinearRegression()\n",
    "model.fit(features_train_r, target_train_r)\n",
    "predictions_r = model.predict(features_valid_r)\n",
    "print('Точность предсказаний линейной регресии на преобразованной задаче R2:', r2_score(target_valid_r, predictions_r))"
   ]
  },
  {
   "cell_type": "markdown",
   "metadata": {
    "id": "cw6PoqZ6gUIZ"
   },
   "source": [
    "### Вывод:\n",
    "Точность предсказаний линейной регресcии на исходной задаче:\n",
    "* R2: 0.435227571270266\n",
    "\n",
    "Точность предсказаний линейной регресcии на преобразованной задаче:\n",
    "* R2: 0.4352275712704241\n",
    "\n",
    "Таким образом, метрика R2 совпадает вплоть до 12 знака после запятой. Есть небольшие отличия которые вероятнее всего связаны с погрешностью вычислений."
   ]
  },
  {
   "cell_type": "markdown",
   "metadata": {
    "id": "jvDPrUnuhRxn"
   },
   "source": [
    "## Общий вывод:\n",
    "\n",
    "**Загрузка и изучение данных**\n",
    "\n",
    "Данные были успешно загружены. Изучив данные видим, что в них нет пропусков. Распределение данный соответствует ожидаемым. Можно отметить, что примерно после 40 лет страховые выплаты начинают расти. По остальным параметрам связь между величиеами меньше. Она прослеживается, но не в виде линейной зависимости и поэтому видна на графике, но не в корреляции между признаками.\n",
    "\n",
    "**Исследование умножения матриц**\n",
    "\n",
    "В ходе исследования было доказано, что качество линейной регрессии **не изменится** при умножении признаков на обратимую матрицу. Было доказано что предсказания при обучении по преобразованным признакам будут равны предсказаниям по исходным признакам.\n",
    "\n",
    "**Алгоритм преобразования**\n",
    "\n",
    "Был предложен алгоритм преобразования данных для защиты данных клиентов. Было предложено умножить матрицу признаков на случайную обратимую матрицу. После этого будет сложно восстановить исходную иноформацию так как, для восстанвления данных нужна будет матрица обратная этой случайной матрице.\n",
    "\n",
    "**Проверка алгоритма**\n",
    "\n",
    "Была проведена проверка работы алгоритма.\n",
    "\n",
    "Точность предсказаний линейной регресии на исходной задаче:\n",
    "* R2: 0.435227571270266\n",
    "\n",
    "Точность предсказаний линейной регресии на преобразованной задаче:\n",
    "* R2: 0.4352275712704241\n",
    "\n",
    "Таким образом метрика R2 совпадает вплоть до 12 знака после запятной. Есть небольшие отличия которые вероятнее всего всязаны с погрешностью вычислений.\n"
   ]
  },
  {
   "cell_type": "markdown",
   "metadata": {
    "id": "MQLhjyfwzmAz"
   },
   "source": [
    "## Чек-лист проверки"
   ]
  },
  {
   "cell_type": "markdown",
   "metadata": {
    "id": "HIqwv8CYzmAz"
   },
   "source": [
    "Поставьте 'x' в выполненных пунктах. Далее нажмите Shift+Enter."
   ]
  },
  {
   "cell_type": "markdown",
   "metadata": {
    "id": "2ZHI5lqyzmAz"
   },
   "source": [
    "- [x]  Jupyter Notebook открыт\n",
    "- [x]  Весь код выполняется без ошибок\n",
    "- [x]  Ячейки с кодом расположены в порядке исполнения\n",
    "- [x]  Выполнен шаг 1: данные загружены\n",
    "- [x]  Выполнен шаг 2: получен ответ на вопрос об умножении матриц\n",
    "    - [x]  Указан правильный вариант ответа\n",
    "    - [x]  Вариант обоснован\n",
    "- [x]  Выполнен шаг 3: предложен алгоритм преобразования\n",
    "    - [x]  Алгоритм описан\n",
    "    - [x]  Алгоритм обоснован\n",
    "- [x]  Выполнен шаг 4: алгоритм проверен\n",
    "    - [x]  Алгоритм реализован\n",
    "    - [x]  Проведено сравнение качества моделей до и после преобразования"
   ]
  }
 ],
 "metadata": {
  "ExecuteTimeLog": [
   {
    "duration": 2764,
    "start_time": "2023-05-06T08:56:26.959Z"
   },
   {
    "duration": 39,
    "start_time": "2023-05-06T08:56:29.725Z"
   },
   {
    "duration": 3,
    "start_time": "2023-05-06T08:56:29.765Z"
   },
   {
    "duration": 9,
    "start_time": "2023-05-06T08:56:29.771Z"
   },
   {
    "duration": 1561,
    "start_time": "2023-05-06T08:56:29.782Z"
   },
   {
    "duration": 9,
    "start_time": "2023-05-06T08:56:31.345Z"
   },
   {
    "duration": 44,
    "start_time": "2023-05-06T08:56:31.361Z"
   },
   {
    "duration": 41,
    "start_time": "2023-05-06T08:56:31.406Z"
   },
   {
    "duration": 104,
    "start_time": "2023-05-06T08:56:31.450Z"
   },
   {
    "duration": 83,
    "start_time": "2023-05-06T08:56:31.562Z"
   }
  ],
  "colab": {
   "provenance": [],
   "toc_visible": true
  },
  "kernelspec": {
   "display_name": "Python 3 (ipykernel)",
   "language": "python",
   "name": "python3"
  },
  "language_info": {
   "codemirror_mode": {
    "name": "ipython",
    "version": 3
   },
   "file_extension": ".py",
   "mimetype": "text/x-python",
   "name": "python",
   "nbconvert_exporter": "python",
   "pygments_lexer": "ipython3",
   "version": "3.9.5"
  },
  "toc": {
   "base_numbering": 1,
   "nav_menu": {},
   "number_sections": true,
   "sideBar": true,
   "skip_h1_title": true,
   "title_cell": "Содержание",
   "title_sidebar": "Contents",
   "toc_cell": true,
   "toc_position": {},
   "toc_section_display": true,
   "toc_window_display": false
  }
 },
 "nbformat": 4,
 "nbformat_minor": 1
}
